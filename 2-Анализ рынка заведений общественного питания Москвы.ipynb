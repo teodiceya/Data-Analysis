{
 "cells": [
  {
   "cell_type": "markdown",
   "metadata": {},
   "source": [
    "# Анализ рынка заведений общественного питания Москвы"
   ]
  },
  {
   "cell_type": "markdown",
   "metadata": {},
   "source": [
    "## Описание проекта"
   ]
  },
  {
   "cell_type": "markdown",
   "metadata": {},
   "source": [
    "В данном проекте был проведен анализ данных о заведениях общественного питания в городе Москва с целью оценки возможных перспектив открытия технологичного кафе с роботизированным персоналом.\n",
    "\n",
    "\n",
    "**Цель проекта:**\n",
    "\n",
    "* Провести исследование рынка заведений общественного питания Москвы.\n",
    "\n",
    "**Задачи:**\n",
    "1. На основе открытых данных составить выводы и рекомендации о виде будущего заведения, количестве посадочных мест, перспективном районе расположения;\n",
    "2. Оценить возможность развития сети.\n",
    "\n",
    "**План работы:**\n",
    "1. Подготовить данные для анализа, получить внешнюю информацию о территориальном делении города, обработать адреса заведений;\n",
    "2. Изучить соотношения видов заведений по количеству;\n",
    "3. Рассмотреть соотношение сетевых и несетевых заведений;\n",
    "4. Построить диаграмму рассеяния для распределения количества посадочных мест и типа общественного заведения;\n",
    "5. Выделить топ-10 улиц по количеству объектов общественного питания, а так же найти число улиц с одним объектом, изучить их расположение в городе и закономерности.\n",
    "\n",
    "**Описание данных**\n",
    "\n",
    "Таблица `rest_data`:\n",
    "* _id_ — идентификатор объекта;\n",
    "* _object_name_ — название объекта общественного питания;\n",
    "* _chain_ — сетевой ресторан;\n",
    "* _object_type_ — тип объекта общественного питания;\n",
    "* _address_ — адрес;\n",
    "* _number_ — количество посадочных мест.\n",
    "\n",
    "Таблица `district`:\n",
    "* _streetname_ — название улицы\n",
    "* _areaid_ — идентификатор района\n",
    "* _okrug_ — административный округ\n",
    "* _area_ — район\n",
    "\n",
    "Наименования административных округов Москвы:\n",
    "* _ЦАО_ — Центральный\n",
    "* _ВАО_ — Восточный\n",
    "* _ЗАО_ — Западный\n",
    "* _САО_ — Северный\n",
    "* _СВАО_ — Северо-Восточный\n",
    "* _ЮВАО_ — Юго-Восточный\n",
    "* _ЮАО_ — Южный\n",
    "* _ЮЗАО_ — Юго-Западный\n",
    "* _СЗАО_ — Новомосковский\n",
    "* _ТАО_ — Троицкий"
   ]
  },
  {
   "cell_type": "markdown",
   "metadata": {},
   "source": [
    "## Подготовка данных"
   ]
  },
  {
   "cell_type": "code",
   "execution_count": 2,
   "metadata": {},
   "outputs": [],
   "source": [
    "import pandas as pd # импорт библиотек\n",
    "import seaborn as sns\n",
    "import matplotlib.pyplot as plt\n",
    "import numpy as np\n",
    "from plotly import graph_objects as go\n",
    "from io import BytesIO\n",
    "import requests"
   ]
  },
  {
   "cell_type": "code",
   "execution_count": 3,
   "metadata": {
    "scrolled": true
   },
   "outputs": [],
   "source": [
    "plt.style.use('seaborn-pastel') # выбор палитры\n",
    "sns.set_style('whitegrid')\n",
    "sns.color_palette('pastel')\n",
    "pd.set_option('display.max_colwidth', None) # отображение всех знаков в строке\n",
    "colors = ['#ea96a3', '#d1964d', '#a29f46', '#60ae47', '#4a8f4f', '#4dabb3', '#6daee2', '#c4a1ea', '#e88ed1']"
   ]
  },
  {
   "cell_type": "code",
   "execution_count": 4,
   "metadata": {},
   "outputs": [
    {
     "data": {
      "text/html": [
       "<div>\n",
       "<style scoped>\n",
       "    .dataframe tbody tr th:only-of-type {\n",
       "        vertical-align: middle;\n",
       "    }\n",
       "\n",
       "    .dataframe tbody tr th {\n",
       "        vertical-align: top;\n",
       "    }\n",
       "\n",
       "    .dataframe thead th {\n",
       "        text-align: right;\n",
       "    }\n",
       "</style>\n",
       "<table border=\"1\" class=\"dataframe\">\n",
       "  <thead>\n",
       "    <tr style=\"text-align: right;\">\n",
       "      <th></th>\n",
       "      <th>id</th>\n",
       "      <th>object_name</th>\n",
       "      <th>chain</th>\n",
       "      <th>object_type</th>\n",
       "      <th>address</th>\n",
       "      <th>number</th>\n",
       "    </tr>\n",
       "  </thead>\n",
       "  <tbody>\n",
       "    <tr>\n",
       "      <th>0</th>\n",
       "      <td>151635</td>\n",
       "      <td>СМЕТАНА</td>\n",
       "      <td>нет</td>\n",
       "      <td>кафе</td>\n",
       "      <td>город Москва, улица Егора Абакумова, дом 9</td>\n",
       "      <td>48</td>\n",
       "    </tr>\n",
       "    <tr>\n",
       "      <th>1</th>\n",
       "      <td>77874</td>\n",
       "      <td>Родник</td>\n",
       "      <td>нет</td>\n",
       "      <td>кафе</td>\n",
       "      <td>город Москва, улица Талалихина, дом 2/1, корпус 1</td>\n",
       "      <td>35</td>\n",
       "    </tr>\n",
       "    <tr>\n",
       "      <th>2</th>\n",
       "      <td>24309</td>\n",
       "      <td>Кафе «Академия»</td>\n",
       "      <td>нет</td>\n",
       "      <td>кафе</td>\n",
       "      <td>город Москва, Абельмановская улица, дом 6</td>\n",
       "      <td>95</td>\n",
       "    </tr>\n",
       "    <tr>\n",
       "      <th>3</th>\n",
       "      <td>21894</td>\n",
       "      <td>ПИЦЦЕТОРИЯ</td>\n",
       "      <td>да</td>\n",
       "      <td>кафе</td>\n",
       "      <td>город Москва, Абрамцевская улица, дом 1</td>\n",
       "      <td>40</td>\n",
       "    </tr>\n",
       "    <tr>\n",
       "      <th>4</th>\n",
       "      <td>119365</td>\n",
       "      <td>Кафе «Вишневая метель»</td>\n",
       "      <td>нет</td>\n",
       "      <td>кафе</td>\n",
       "      <td>город Москва, Абрамцевская улица, дом 9, корпус 1</td>\n",
       "      <td>50</td>\n",
       "    </tr>\n",
       "    <tr>\n",
       "      <th>...</th>\n",
       "      <td>...</td>\n",
       "      <td>...</td>\n",
       "      <td>...</td>\n",
       "      <td>...</td>\n",
       "      <td>...</td>\n",
       "      <td>...</td>\n",
       "    </tr>\n",
       "    <tr>\n",
       "      <th>15361</th>\n",
       "      <td>208537</td>\n",
       "      <td>Шоколадница</td>\n",
       "      <td>да</td>\n",
       "      <td>кафе</td>\n",
       "      <td>город Москва, 3-й Крутицкий переулок, дом 18</td>\n",
       "      <td>50</td>\n",
       "    </tr>\n",
       "    <tr>\n",
       "      <th>15362</th>\n",
       "      <td>209264</td>\n",
       "      <td>Шоколадница</td>\n",
       "      <td>да</td>\n",
       "      <td>кафе</td>\n",
       "      <td>город Москва, улица Земляной Вал, дом 33</td>\n",
       "      <td>10</td>\n",
       "    </tr>\n",
       "    <tr>\n",
       "      <th>15363</th>\n",
       "      <td>209186</td>\n",
       "      <td>Шоколадница</td>\n",
       "      <td>да</td>\n",
       "      <td>кафе</td>\n",
       "      <td>город Москва, улица Земляной Вал, дом 33</td>\n",
       "      <td>20</td>\n",
       "    </tr>\n",
       "    <tr>\n",
       "      <th>15364</th>\n",
       "      <td>221900</td>\n",
       "      <td>Шоколадница</td>\n",
       "      <td>да</td>\n",
       "      <td>кафе</td>\n",
       "      <td>город Москва, поселение Московский, Киевское шоссе, 22-й километр, домовладение 4, строение 1</td>\n",
       "      <td>36</td>\n",
       "    </tr>\n",
       "    <tr>\n",
       "      <th>15365</th>\n",
       "      <td>222535</td>\n",
       "      <td>Шоколадница</td>\n",
       "      <td>да</td>\n",
       "      <td>кафе</td>\n",
       "      <td>город Москва, Ходынский бульвар, дом 4</td>\n",
       "      <td>10</td>\n",
       "    </tr>\n",
       "  </tbody>\n",
       "</table>\n",
       "<p>15366 rows × 6 columns</p>\n",
       "</div>"
      ],
      "text/plain": [
       "           id             object_name chain object_type  \\\n",
       "0      151635                 СМЕТАНА   нет        кафе   \n",
       "1       77874                  Родник   нет        кафе   \n",
       "2       24309         Кафе «Академия»   нет        кафе   \n",
       "3       21894              ПИЦЦЕТОРИЯ    да        кафе   \n",
       "4      119365  Кафе «Вишневая метель»   нет        кафе   \n",
       "...       ...                     ...   ...         ...   \n",
       "15361  208537             Шоколадница    да        кафе   \n",
       "15362  209264             Шоколадница    да        кафе   \n",
       "15363  209186             Шоколадница    да        кафе   \n",
       "15364  221900             Шоколадница    да        кафе   \n",
       "15365  222535             Шоколадница    да        кафе   \n",
       "\n",
       "                                                                                             address  \\\n",
       "0                                                         город Москва, улица Егора Абакумова, дом 9   \n",
       "1                                                  город Москва, улица Талалихина, дом 2/1, корпус 1   \n",
       "2                                                          город Москва, Абельмановская улица, дом 6   \n",
       "3                                                            город Москва, Абрамцевская улица, дом 1   \n",
       "4                                                  город Москва, Абрамцевская улица, дом 9, корпус 1   \n",
       "...                                                                                              ...   \n",
       "15361                                                   город Москва, 3-й Крутицкий переулок, дом 18   \n",
       "15362                                                       город Москва, улица Земляной Вал, дом 33   \n",
       "15363                                                       город Москва, улица Земляной Вал, дом 33   \n",
       "15364  город Москва, поселение Московский, Киевское шоссе, 22-й километр, домовладение 4, строение 1   \n",
       "15365                                                         город Москва, Ходынский бульвар, дом 4   \n",
       "\n",
       "       number  \n",
       "0          48  \n",
       "1          35  \n",
       "2          95  \n",
       "3          40  \n",
       "4          50  \n",
       "...       ...  \n",
       "15361      50  \n",
       "15362      10  \n",
       "15363      20  \n",
       "15364      36  \n",
       "15365      10  \n",
       "\n",
       "[15366 rows x 6 columns]"
      ]
     },
     "execution_count": 4,
     "metadata": {},
     "output_type": "execute_result"
    }
   ],
   "source": [
    "rest_data = pd.read_csv('datasets\\\\rest_data.csv') # смотрим файл о заведениях\n",
    "rest_data"
   ]
  },
  {
   "cell_type": "code",
   "execution_count": 4,
   "metadata": {},
   "outputs": [
    {
     "name": "stdout",
     "output_type": "stream",
     "text": [
      "<class 'pandas.core.frame.DataFrame'>\n",
      "RangeIndex: 15366 entries, 0 to 15365\n",
      "Data columns (total 6 columns):\n",
      " #   Column       Non-Null Count  Dtype \n",
      "---  ------       --------------  ----- \n",
      " 0   id           15366 non-null  int64 \n",
      " 1   object_name  15366 non-null  object\n",
      " 2   chain        15366 non-null  object\n",
      " 3   object_type  15366 non-null  object\n",
      " 4   address      15366 non-null  object\n",
      " 5   number       15366 non-null  int64 \n",
      "dtypes: int64(2), object(4)\n",
      "memory usage: 720.4+ KB\n"
     ]
    }
   ],
   "source": [
    "rest_data.info() # общая информация"
   ]
  },
  {
   "cell_type": "markdown",
   "metadata": {},
   "source": [
    "Основная таблица с данными: есть информация о названии предприятия, его тип, принадлежность к сетевому распространению, адрес и количество посадочных мест; на первый взгляд пропусков нет, тип данных соответствует, необходимо будет разве что откорректировать названия столбцов, проверить дубликаты, явные и неявные."
   ]
  },
  {
   "cell_type": "code",
   "execution_count": 5,
   "metadata": {},
   "outputs": [
    {
     "data": {
      "text/html": [
       "<div>\n",
       "<style scoped>\n",
       "    .dataframe tbody tr th:only-of-type {\n",
       "        vertical-align: middle;\n",
       "    }\n",
       "\n",
       "    .dataframe tbody tr th {\n",
       "        vertical-align: top;\n",
       "    }\n",
       "\n",
       "    .dataframe thead th {\n",
       "        text-align: right;\n",
       "    }\n",
       "</style>\n",
       "<table border=\"1\" class=\"dataframe\">\n",
       "  <thead>\n",
       "    <tr style=\"text-align: right;\">\n",
       "      <th></th>\n",
       "      <th>streetname</th>\n",
       "      <th>areaid</th>\n",
       "      <th>okrug</th>\n",
       "      <th>area</th>\n",
       "    </tr>\n",
       "  </thead>\n",
       "  <tbody>\n",
       "    <tr>\n",
       "      <th>0</th>\n",
       "      <td>Выставочный переулок</td>\n",
       "      <td>17.0</td>\n",
       "      <td>ЦАО</td>\n",
       "      <td>Пресненский район</td>\n",
       "    </tr>\n",
       "    <tr>\n",
       "      <th>1</th>\n",
       "      <td>улица Гашека</td>\n",
       "      <td>17.0</td>\n",
       "      <td>ЦАО</td>\n",
       "      <td>Пресненский район</td>\n",
       "    </tr>\n",
       "    <tr>\n",
       "      <th>2</th>\n",
       "      <td>Большая Никитская улица</td>\n",
       "      <td>17.0</td>\n",
       "      <td>ЦАО</td>\n",
       "      <td>Пресненский район</td>\n",
       "    </tr>\n",
       "    <tr>\n",
       "      <th>3</th>\n",
       "      <td>Глубокий переулок</td>\n",
       "      <td>17.0</td>\n",
       "      <td>ЦАО</td>\n",
       "      <td>Пресненский район</td>\n",
       "    </tr>\n",
       "    <tr>\n",
       "      <th>4</th>\n",
       "      <td>Большой Гнездниковский переулок</td>\n",
       "      <td>17.0</td>\n",
       "      <td>ЦАО</td>\n",
       "      <td>Пресненский район</td>\n",
       "    </tr>\n",
       "    <tr>\n",
       "      <th>...</th>\n",
       "      <td>...</td>\n",
       "      <td>...</td>\n",
       "      <td>...</td>\n",
       "      <td>...</td>\n",
       "    </tr>\n",
       "    <tr>\n",
       "      <th>4427</th>\n",
       "      <td>село Былово</td>\n",
       "      <td>NaN</td>\n",
       "      <td>ТАО</td>\n",
       "      <td>село Былово</td>\n",
       "    </tr>\n",
       "    <tr>\n",
       "      <th>4428</th>\n",
       "      <td>улица 1-й километр Объездной Дороги</td>\n",
       "      <td>NaN</td>\n",
       "      <td>ТАО</td>\n",
       "      <td>Клёновское поселение</td>\n",
       "    </tr>\n",
       "    <tr>\n",
       "      <th>4429</th>\n",
       "      <td>Новобутовский проезд</td>\n",
       "      <td>NaN</td>\n",
       "      <td>ЮЗАО</td>\n",
       "      <td>Район Южное Бутово</td>\n",
       "    </tr>\n",
       "    <tr>\n",
       "      <th>4430</th>\n",
       "      <td>Новохорошёвский проезд</td>\n",
       "      <td>NaN</td>\n",
       "      <td>СЗАО</td>\n",
       "      <td>Район Хорошево-Мневники</td>\n",
       "    </tr>\n",
       "    <tr>\n",
       "      <th>4431</th>\n",
       "      <td>Пыжёвский переулок</td>\n",
       "      <td>NaN</td>\n",
       "      <td>ЦАО</td>\n",
       "      <td>Район Якиманка</td>\n",
       "    </tr>\n",
       "  </tbody>\n",
       "</table>\n",
       "<p>4432 rows × 4 columns</p>\n",
       "</div>"
      ],
      "text/plain": [
       "                               streetname  areaid okrug  \\\n",
       "0                    Выставочный переулок    17.0   ЦАО   \n",
       "1                            улица Гашека    17.0   ЦАО   \n",
       "2                 Большая Никитская улица    17.0   ЦАО   \n",
       "3                       Глубокий переулок    17.0   ЦАО   \n",
       "4         Большой Гнездниковский переулок    17.0   ЦАО   \n",
       "...                                   ...     ...   ...   \n",
       "4427                          село Былово     NaN   ТАО   \n",
       "4428  улица 1-й километр Объездной Дороги     NaN   ТАО   \n",
       "4429                 Новобутовский проезд     NaN  ЮЗАО   \n",
       "4430               Новохорошёвский проезд     NaN  СЗАО   \n",
       "4431                   Пыжёвский переулок     NaN   ЦАО   \n",
       "\n",
       "                         area  \n",
       "0           Пресненский район  \n",
       "1           Пресненский район  \n",
       "2           Пресненский район  \n",
       "3           Пресненский район  \n",
       "4           Пресненский район  \n",
       "...                       ...  \n",
       "4427              село Былово  \n",
       "4428     Клёновское поселение  \n",
       "4429       Район Южное Бутово  \n",
       "4430  Район Хорошево-Мневники  \n",
       "4431           Район Якиманка  \n",
       "\n",
       "[4432 rows x 4 columns]"
      ]
     },
     "execution_count": 5,
     "metadata": {},
     "output_type": "execute_result"
    }
   ],
   "source": [
    "# файл с внешней информацией об территориальном деление Москвы - данные Мосгаза\n",
    "\n",
    "spreadsheet_id = '1SOJwGRgWneaGss5aZeT2ZMkYLFas0-X2jwQhayeS9TQ'\n",
    "file_name = 'https://docs.google.com/spreadsheets/d/{}/export?format=csv'.format(spreadsheet_id)\n",
    "r = requests.get(file_name)\n",
    "district = pd.read_csv(BytesIO(r.content))\n",
    "district"
   ]
  },
  {
   "cell_type": "code",
   "execution_count": 6,
   "metadata": {},
   "outputs": [
    {
     "name": "stdout",
     "output_type": "stream",
     "text": [
      "<class 'pandas.core.frame.DataFrame'>\n",
      "RangeIndex: 4432 entries, 0 to 4431\n",
      "Data columns (total 4 columns):\n",
      " #   Column      Non-Null Count  Dtype  \n",
      "---  ------      --------------  -----  \n",
      " 0   streetname  4432 non-null   object \n",
      " 1   areaid      4398 non-null   float64\n",
      " 2   okrug       4431 non-null   object \n",
      " 3   area        4431 non-null   object \n",
      "dtypes: float64(1), object(3)\n",
      "memory usage: 138.6+ KB\n"
     ]
    }
   ],
   "source": [
    "district.info()  # общая информация"
   ]
  },
  {
   "cell_type": "markdown",
   "metadata": {},
   "source": [
    "Столбец с areaid нам не понадобится, от него можно избавиться, так же как и от одной строки с пропуском района и адм.округа. В остальном здесь ситуация та же, что и с предыдущим датафреймом, переименовать столбцы, отфильтровать от дублей."
   ]
  },
  {
   "cell_type": "markdown",
   "metadata": {},
   "source": [
    "## Предобработка данных"
   ]
  },
  {
   "cell_type": "markdown",
   "metadata": {},
   "source": [
    "### Данные о заведениях"
   ]
  },
  {
   "cell_type": "code",
   "execution_count": 7,
   "metadata": {},
   "outputs": [],
   "source": [
    "# переименуем столбцы для удобства\n",
    "rest_data.columns = ['id', 'name', 'is_chain', 'type', 'address', 'seats']"
   ]
  },
  {
   "cell_type": "code",
   "execution_count": 8,
   "metadata": {},
   "outputs": [
    {
     "data": {
      "text/plain": [
       "нет    12398\n",
       "да      2968\n",
       "Name: is_chain, dtype: int64"
      ]
     },
     "execution_count": 8,
     "metadata": {},
     "output_type": "execute_result"
    }
   ],
   "source": [
    "rest_data['is_chain'].value_counts() # уникальные значения столбца chain"
   ]
  },
  {
   "cell_type": "code",
   "execution_count": 9,
   "metadata": {},
   "outputs": [
    {
     "data": {
      "text/plain": [
       "кафе                                 6099\n",
       "столовая                             2587\n",
       "ресторан                             2285\n",
       "предприятие быстрого обслуживания    1923\n",
       "бар                                   856\n",
       "буфет                                 585\n",
       "кафетерий                             398\n",
       "закусочная                            360\n",
       "магазин (отдел кулинарии)             273\n",
       "Name: type, dtype: int64"
      ]
     },
     "execution_count": 9,
     "metadata": {},
     "output_type": "execute_result"
    }
   ],
   "source": [
    "rest_data['type'].value_counts() # уникальные значения столбца type"
   ]
  },
  {
   "cell_type": "markdown",
   "metadata": {},
   "source": [
    "Не нравится название отдела кулинарии, исправим на кулинарию классическую, а еще сократим длинное название предприятий быстрого обслуживания на аббревиатуру."
   ]
  },
  {
   "cell_type": "code",
   "execution_count": 10,
   "metadata": {},
   "outputs": [],
   "source": [
    "rest_data['type'] = rest_data['type'].replace({'магазин (отдел кулинарии)': 'кулинария',\n",
    "                                               'предприятие быстрого обслуживания': 'пбо'}) # переименовали"
   ]
  },
  {
   "cell_type": "code",
   "execution_count": 11,
   "metadata": {},
   "outputs": [
    {
     "data": {
      "text/plain": [
       "count    15366.000000\n",
       "mean        59.547182\n",
       "std         74.736833\n",
       "min          0.000000\n",
       "25%         12.000000\n",
       "50%         40.000000\n",
       "75%         80.000000\n",
       "max       1700.000000\n",
       "Name: seats, dtype: float64"
      ]
     },
     "execution_count": 11,
     "metadata": {},
     "output_type": "execute_result"
    }
   ],
   "source": [
    "rest_data['seats'].describe() # проверка посадочных мест"
   ]
  },
  {
   "cell_type": "markdown",
   "metadata": {},
   "source": [
    "Интересно, что у некоторых кафе посадочных мест вовсе не обнаружено."
   ]
  },
  {
   "cell_type": "code",
   "execution_count": 12,
   "metadata": {
    "scrolled": true
   },
   "outputs": [
    {
     "name": "stdout",
     "output_type": "stream",
     "text": [
      "Количество заведений с 0 посадочных мест: 1621\n"
     ]
    },
    {
     "data": {
      "text/plain": [
       "type\n",
       "пбо           704\n",
       "кафе          310\n",
       "закусочная    189\n",
       "кулинария     145\n",
       "кафетерий     113\n",
       "буфет          68\n",
       "ресторан       45\n",
       "бар            28\n",
       "столовая       19\n",
       "Name: id, dtype: int64"
      ]
     },
     "execution_count": 12,
     "metadata": {},
     "output_type": "execute_result"
    }
   ],
   "source": [
    "print('Количество заведений с 0 посадочных мест:', rest_data.query('seats == 0')['id'].count())\n",
    "\n",
    "(rest_data     # сколько пропусков с местами у нас есть и в каких заведениях\n",
    " .query('seats == 0')\n",
    " .groupby('type')['id']\n",
    " .count()\n",
    " .sort_values(ascending=False)\n",
    ")"
   ]
  },
  {
   "cell_type": "markdown",
   "metadata": {},
   "source": [
    "Вообще, это довольно много, больше 10% данных от всего датасета, только вот стоит ли их заполнять или нет?"
   ]
  },
  {
   "cell_type": "code",
   "execution_count": 13,
   "metadata": {},
   "outputs": [
    {
     "data": {
      "text/plain": [
       "Шаурма             126\n",
       "Милти               19\n",
       "Пекарня             18\n",
       "Кофе с собой        17\n",
       "Донер Кебаб         15\n",
       "Шаурма, выпечка     13\n",
       "Донер кебаб         10\n",
       "Кебаб               10\n",
       "Донер                9\n",
       "Шаверма              9\n",
       "Name: name, dtype: int64"
      ]
     },
     "execution_count": 13,
     "metadata": {},
     "output_type": "execute_result"
    }
   ],
   "source": [
    "# углубляемся в детали, может названия дадут ответ?\n",
    "\n",
    "rest_data.query('seats == 0 and type == \"пбо\"')['name'].value_counts().head(10)"
   ]
  },
  {
   "cell_type": "markdown",
   "metadata": {},
   "source": [
    "Почти сразу хотелось позаполнять все нули для достижения дзена, однако большая часть этих заведений - это предприятия, которые готовят еду навынос, поэтому вполне обоснованно, что посадочных мест там не будет. Особенно на это намекают самые популярные названия ПБО (далее - предприятий быстрого обслуживания). Поэтому считаю обоснованным эти пропуски не трогать."
   ]
  },
  {
   "cell_type": "code",
   "execution_count": 14,
   "metadata": {},
   "outputs": [
    {
     "data": {
      "text/plain": [
       "0"
      ]
     },
     "execution_count": 14,
     "metadata": {},
     "output_type": "execute_result"
    }
   ],
   "source": [
    "rest_data.duplicated().sum() # проверка на явные дубликаты"
   ]
  },
  {
   "cell_type": "code",
   "execution_count": 15,
   "metadata": {},
   "outputs": [
    {
     "data": {
      "text/plain": [
       "225"
      ]
     },
     "execution_count": 15,
     "metadata": {},
     "output_type": "execute_result"
    }
   ],
   "source": [
    "rest_data['name'] = rest_data['name'].apply(lambda x: x.lower()) # к нижнему регистру\n",
    "\n",
    "# попробуем еще раз, но без упоминания id заведения, самое главное название и адрес заведения\n",
    "dp = rest_data[['name', 'address']].duplicated()\n",
    "dp = dp[dp == True]\n",
    "dp.sum()"
   ]
  },
  {
   "cell_type": "markdown",
   "metadata": {},
   "source": [
    "Нашлось 225 предприятий с одинаковым названием и одинаковым адресом, но, как мне кажется, вероятность такого события в реальности стремится к нулю, поэтому будем считать эти кафе дубликатами и избавимся от них."
   ]
  },
  {
   "cell_type": "code",
   "execution_count": 16,
   "metadata": {},
   "outputs": [],
   "source": [
    "rest_data['index'] = rest_data.index  # столбец с индексом\n",
    "rest_data = rest_data.query('index not in @dp.index').reset_index(drop=True).drop(columns='index') # убираем дубликаты"
   ]
  },
  {
   "cell_type": "markdown",
   "metadata": {},
   "source": [
    "### Данные о районах Москвы"
   ]
  },
  {
   "cell_type": "markdown",
   "metadata": {},
   "source": [
    "В блоке  с общей информацией была строка с пропуском: избавимся от нее, так же переименуем столбцы на более понятные и проверим датасет на дубликаты."
   ]
  },
  {
   "cell_type": "code",
   "execution_count": 17,
   "metadata": {},
   "outputs": [],
   "source": [
    "district.drop(columns='areaid', inplace=True)  # ненужный столбец убираем\n",
    "district.columns = ['street', 'divisions', 'district']  # переименовываем для удобства\n",
    "district.dropna(inplace=True) # строку с пропусками удаляем"
   ]
  },
  {
   "cell_type": "code",
   "execution_count": 18,
   "metadata": {},
   "outputs": [
    {
     "data": {
      "text/plain": [
       "8"
      ]
     },
     "execution_count": 18,
     "metadata": {},
     "output_type": "execute_result"
    }
   ],
   "source": [
    "district.duplicated().sum() # смотрим дубликаты"
   ]
  },
  {
   "cell_type": "code",
   "execution_count": 19,
   "metadata": {},
   "outputs": [],
   "source": [
    "district.drop_duplicates(inplace=True, ignore_index=True)  # убираем дубликаты "
   ]
  },
  {
   "cell_type": "markdown",
   "metadata": {},
   "source": [
    "## Анализ данных"
   ]
  },
  {
   "cell_type": "markdown",
   "metadata": {},
   "source": [
    "Проведем визуальный анализ данных и изучим таким образом рынок: какое заведение считается самым популярным, как распределяются посадочные места, каково соотношение сетевых заведений и несетевых, а также соориентируемся, какие районы насыщенны открытыми предприятиями, а где их не очень много.\n",
    "\n",
    "Для начала выясним соотношение видов заведений питания в городе."
   ]
  },
  {
   "cell_type": "markdown",
   "metadata": {},
   "source": [
    "### Соотношение видов объектов общественного питания по количеству"
   ]
  },
  {
   "cell_type": "code",
   "execution_count": 20,
   "metadata": {},
   "outputs": [
    {
     "data": {
      "text/html": [
       "<div>\n",
       "<style scoped>\n",
       "    .dataframe tbody tr th:only-of-type {\n",
       "        vertical-align: middle;\n",
       "    }\n",
       "\n",
       "    .dataframe tbody tr th {\n",
       "        vertical-align: top;\n",
       "    }\n",
       "\n",
       "    .dataframe thead th {\n",
       "        text-align: right;\n",
       "    }\n",
       "</style>\n",
       "<table border=\"1\" class=\"dataframe\">\n",
       "  <thead>\n",
       "    <tr style=\"text-align: right;\">\n",
       "      <th></th>\n",
       "      <th>type</th>\n",
       "      <th>total</th>\n",
       "      <th>seats_mean</th>\n",
       "    </tr>\n",
       "  </thead>\n",
       "  <tbody>\n",
       "    <tr>\n",
       "      <th>0</th>\n",
       "      <td>кафе</td>\n",
       "      <td>5991</td>\n",
       "      <td>39.915707</td>\n",
       "    </tr>\n",
       "    <tr>\n",
       "      <th>1</th>\n",
       "      <td>столовая</td>\n",
       "      <td>2572</td>\n",
       "      <td>130.457621</td>\n",
       "    </tr>\n",
       "    <tr>\n",
       "      <th>2</th>\n",
       "      <td>ресторан</td>\n",
       "      <td>2271</td>\n",
       "      <td>97.128137</td>\n",
       "    </tr>\n",
       "    <tr>\n",
       "      <th>3</th>\n",
       "      <td>пбо</td>\n",
       "      <td>1885</td>\n",
       "      <td>20.743767</td>\n",
       "    </tr>\n",
       "    <tr>\n",
       "      <th>4</th>\n",
       "      <td>бар</td>\n",
       "      <td>849</td>\n",
       "      <td>43.660777</td>\n",
       "    </tr>\n",
       "    <tr>\n",
       "      <th>5</th>\n",
       "      <td>буфет</td>\n",
       "      <td>565</td>\n",
       "      <td>51.660177</td>\n",
       "    </tr>\n",
       "    <tr>\n",
       "      <th>6</th>\n",
       "      <td>кафетерий</td>\n",
       "      <td>392</td>\n",
       "      <td>9.155612</td>\n",
       "    </tr>\n",
       "    <tr>\n",
       "      <th>7</th>\n",
       "      <td>закусочная</td>\n",
       "      <td>344</td>\n",
       "      <td>6.904070</td>\n",
       "    </tr>\n",
       "    <tr>\n",
       "      <th>8</th>\n",
       "      <td>кулинария</td>\n",
       "      <td>272</td>\n",
       "      <td>5.610294</td>\n",
       "    </tr>\n",
       "  </tbody>\n",
       "</table>\n",
       "</div>"
      ],
      "text/plain": [
       "         type  total  seats_mean\n",
       "0        кафе   5991   39.915707\n",
       "1    столовая   2572  130.457621\n",
       "2    ресторан   2271   97.128137\n",
       "3         пбо   1885   20.743767\n",
       "4         бар    849   43.660777\n",
       "5       буфет    565   51.660177\n",
       "6   кафетерий    392    9.155612\n",
       "7  закусочная    344    6.904070\n",
       "8   кулинария    272    5.610294"
      ]
     },
     "execution_count": 20,
     "metadata": {},
     "output_type": "execute_result"
    }
   ],
   "source": [
    "group_types = (rest_data   # группировка по соотношению типов заведений\n",
    "               .groupby('type', as_index=False)\n",
    "               .agg(total=('id', 'count'), seats_mean=('seats', 'mean'))\n",
    "               .sort_values(by='total', ascending=False)\n",
    "               .reset_index(drop=True)\n",
    "              )\n",
    "group_types"
   ]
  },
  {
   "cell_type": "code",
   "execution_count": 21,
   "metadata": {
    "scrolled": false
   },
   "outputs": [
    {
     "data": {
      "image/png": "[encoded data removed]",
      "text/plain": [
       "<Figure size 720x504 with 1 Axes>"
      ]
     },
     "metadata": {},
     "output_type": "display_data"
    }
   ],
   "source": [
    "plt.figure(figsize=(10,7))   # строим столбчатый график\n",
    "sns.barplot(x='total', y='type', data=group_types)\n",
    "plt.ylabel('Типы заведений', fontsize=13)\n",
    "plt.xlabel('Количество заведений', fontsize=13)\n",
    "plt.title('Типы заведений общественного питания в городе Москва', fontsize=15, pad=15)\n",
    "plt.tick_params(axis='y', labelsize = 12)\n",
    "plt.tick_params(axis='x', labelsize = 12)\n",
    "plt.show()"
   ]
  },
  {
   "cell_type": "code",
   "execution_count": 22,
   "metadata": {},
   "outputs": [
    {
     "data": {
      "image/png": "[encoded data removed]",
      "text/plain": [
       "<Figure size 648x936 with 1 Axes>"
      ]
     },
     "metadata": {},
     "output_type": "display_data"
    }
   ],
   "source": [
    "fig, ax = plt.subplots(figsize=(9,13))  # круговая диаграмма распределения\n",
    "ax.pie(x=group_types['total'], \n",
    "       autopct='%.1f%%', \n",
    "       textprops={'fontsize':13, 'fontweight': 500}, \n",
    "       explode=(0.03,0,0,0,0,0,0,0,0), \n",
    "       colors=colors)\n",
    "plt.legend(labels=group_types['type'], loc='best', fontsize=10)  # сколько билась, не выходит сдвинуть легенду еще правее\n",
    "plt.title('Соотношение типов заведений общественного питания', fontsize=15, pad=15)\n",
    "plt.show()"
   ]
  },
  {
   "cell_type": "markdown",
   "metadata": {},
   "source": [
    "В городе находится всего 15141 заведений, из них почти 6 тысяч (39,5%) обозначены как кафе, после них с большим отрывом следуют столовые, рестораны и пбо. Кулинарий и закусочных представлено меньше всего."
   ]
  },
  {
   "cell_type": "markdown",
   "metadata": {},
   "source": [
    "С типами определились, посмотрим что как распределены посадочные места."
   ]
  },
  {
   "cell_type": "code",
   "execution_count": 23,
   "metadata": {
    "scrolled": false
   },
   "outputs": [
    {
     "data": {
      "image/png": "[encoded data removed]",
      "text/plain": [
       "<Figure size 720x504 with 1 Axes>"
      ]
     },
     "metadata": {},
     "output_type": "display_data"
    }
   ],
   "source": [
    "plt.figure(figsize=(10,7))  # столбчатый график среднего количества посадочных мест\n",
    "sns.barplot(x='seats_mean', y='type', data=(group_types.sort_values(by='seats_mean', ascending=False)))\n",
    "plt.ylabel('Типы заведений', fontsize=13)\n",
    "plt.xlabel('Среднее число посадочных мест', fontsize=13)\n",
    "plt.title('Среднее число посадочных мест каждого типа заведения', fontsize=15, pad=15)\n",
    "plt.tick_params(axis='y', labelsize = 12)\n",
    "plt.tick_params(axis='x', labelsize = 12)\n",
    "plt.show()"
   ]
  },
  {
   "cell_type": "code",
   "execution_count": 24,
   "metadata": {},
   "outputs": [
    {
     "data": {
      "text/html": [
       "<div>\n",
       "<style scoped>\n",
       "    .dataframe tbody tr th:only-of-type {\n",
       "        vertical-align: middle;\n",
       "    }\n",
       "\n",
       "    .dataframe tbody tr th {\n",
       "        vertical-align: top;\n",
       "    }\n",
       "\n",
       "    .dataframe thead th {\n",
       "        text-align: right;\n",
       "    }\n",
       "</style>\n",
       "<table border=\"1\" class=\"dataframe\">\n",
       "  <thead>\n",
       "    <tr style=\"text-align: right;\">\n",
       "      <th></th>\n",
       "      <th>id</th>\n",
       "      <th>seats</th>\n",
       "    </tr>\n",
       "  </thead>\n",
       "  <tbody>\n",
       "    <tr>\n",
       "      <th>count</th>\n",
       "      <td>15141.000000</td>\n",
       "      <td>15141.000000</td>\n",
       "    </tr>\n",
       "    <tr>\n",
       "      <th>mean</th>\n",
       "      <td>119396.013870</td>\n",
       "      <td>59.976091</td>\n",
       "    </tr>\n",
       "    <tr>\n",
       "      <th>std</th>\n",
       "      <td>72981.699228</td>\n",
       "      <td>75.040146</td>\n",
       "    </tr>\n",
       "    <tr>\n",
       "      <th>min</th>\n",
       "      <td>838.000000</td>\n",
       "      <td>0.000000</td>\n",
       "    </tr>\n",
       "    <tr>\n",
       "      <th>25%</th>\n",
       "      <td>28483.000000</td>\n",
       "      <td>14.000000</td>\n",
       "    </tr>\n",
       "    <tr>\n",
       "      <th>50%</th>\n",
       "      <td>144643.000000</td>\n",
       "      <td>40.000000</td>\n",
       "    </tr>\n",
       "    <tr>\n",
       "      <th>75%</th>\n",
       "      <td>183876.000000</td>\n",
       "      <td>80.000000</td>\n",
       "    </tr>\n",
       "    <tr>\n",
       "      <th>max</th>\n",
       "      <td>223439.000000</td>\n",
       "      <td>1700.000000</td>\n",
       "    </tr>\n",
       "  </tbody>\n",
       "</table>\n",
       "</div>"
      ],
      "text/plain": [
       "                  id         seats\n",
       "count   15141.000000  15141.000000\n",
       "mean   119396.013870     59.976091\n",
       "std     72981.699228     75.040146\n",
       "min       838.000000      0.000000\n",
       "25%     28483.000000     14.000000\n",
       "50%    144643.000000     40.000000\n",
       "75%    183876.000000     80.000000\n",
       "max    223439.000000   1700.000000"
      ]
     },
     "execution_count": 24,
     "metadata": {},
     "output_type": "execute_result"
    }
   ],
   "source": [
    "rest_data.describe()"
   ]
  },
  {
   "cell_type": "markdown",
   "metadata": {},
   "source": [
    "Самыми большими оказались столовые и рестораны, а вот популярные кафе предпочитают небольшую рассадку в 40 мест по медиане. Средний показатель посадки смещен относительно медианы вправо, на него сильно влияют показатели огромных заведений (1700 посадочных мест это почти что стадион в Тюмени)."
   ]
  },
  {
   "cell_type": "markdown",
   "metadata": {},
   "source": [
    "### Характеристика сетевых и несетевых заведений"
   ]
  },
  {
   "cell_type": "markdown",
   "metadata": {},
   "source": [
    "В таблице данных у нас есть указатель, принадлежит ли определенное заведение к сетевому или нет. Интересно посмотреть, отличаются ли показатели у этих групп."
   ]
  },
  {
   "cell_type": "code",
   "execution_count": 25,
   "metadata": {},
   "outputs": [],
   "source": [
    "chain_data = (rest_data   # группировка по сетям и типу заведения\n",
    "              .groupby(['is_chain', 'type'], as_index=False)\n",
    "              .agg(total=('name','count'), seats=('seats', 'mean'))\n",
    "              .sort_values(by='is_chain')\n",
    "              .sort_values(by='total', ascending=False)              \n",
    "             )"
   ]
  },
  {
   "cell_type": "code",
   "execution_count": 26,
   "metadata": {},
   "outputs": [
    {
     "data": {
      "image/png": "[encoded data removed]",
      "text/plain": [
       "<Figure size 648x936 with 1 Axes>"
      ]
     },
     "metadata": {},
     "output_type": "display_data"
    }
   ],
   "source": [
    "fig, ax = plt.subplots(figsize=(9,13))   # строим круговую диаграмму\n",
    "ax.pie(x=(chain_data.groupby('is_chain')['total'].sum()), \n",
    "       autopct='%.1f%%', \n",
    "       textprops={'fontsize':13, 'fontweight': 500}, \n",
    "       explode=(0.02, 0),\n",
    "       colors=colors[6:8])\n",
    "plt.legend(labels=['Несетевые', 'Сетевые'], loc='upper right', fontsize=13)\n",
    "plt.title('Доля сетевых и несетевых заведений в городе', fontsize=15, pad=15)\n",
    "plt.show()"
   ]
  },
  {
   "cell_type": "markdown",
   "metadata": {},
   "source": [
    "Как мы видим, подавляющее число заведений (80,6%) не относятся к сетям.\n",
    "\n",
    "Одиночек много, но может, сетевое распространение предпочитают какие-то определенные типы заведений? Посчитаем соотношение в каждом типе и выведем на графике."
   ]
  },
  {
   "cell_type": "code",
   "execution_count": 27,
   "metadata": {},
   "outputs": [],
   "source": [
    "# соотношение сетевых заведений к несетевым в каждом типе\n",
    "\n",
    "chain_ratio = chain_data[['is_chain', 'type', 'total']].pivot_table(index='type', columns='is_chain')\n",
    "chain_ratio.columns = ['yes', 'no']\n",
    "chain_ratio['ratio'] = round(chain_ratio['yes'] / (chain_ratio['yes'] + chain_ratio['no']) * 100, 2)\n",
    "chain_ratio.sort_values(by='ratio', ascending=False, inplace=True)"
   ]
  },
  {
   "cell_type": "code",
   "execution_count": 28,
   "metadata": {
    "scrolled": false
   },
   "outputs": [
    {
     "data": {
      "image/png": "[encoded data removed]",
      "text/plain": [
       "<Figure size 720x504 with 1 Axes>"
      ]
     },
     "metadata": {},
     "output_type": "display_data"
    }
   ],
   "source": [
    "plt.figure(figsize=(10,7))   # количество заведений одного типа в сети и не в сети\n",
    "sns.barplot(x='ratio', y=chain_ratio.index, data=chain_ratio)\n",
    "plt.ylabel('Типы заведений', fontsize=13)\n",
    "plt.xlabel('Отношение, %', fontsize=13)\n",
    "plt.title('Доля сетевых заведений в каждой категории', fontsize=15, pad=15)\n",
    "plt.tick_params(axis='y', labelsize = 12)\n",
    "plt.tick_params(axis='x', labelsize = 12)\n",
    "plt.xlim(0,100)\n",
    "for i, ratio in enumerate(chain_ratio.ratio):\n",
    "    plt.text(ratio+1, i, ratio ,)\n",
    "plt.show()"
   ]
  },
  {
   "cell_type": "markdown",
   "metadata": {},
   "source": [
    "Оказывается, почти половина всех предприятий быстрого обслуживания (41,5%) существует в сетевом формате. Треть отделов кулинарии так же имеет формат сетевого заведения (честно говоря, ожидалось даже больше, так как сейчас многие гипермаркеты имеют отделы кулинарии и даже кафе на своей площади). Доля сетевых кафе составляет 23,1%."
   ]
  },
  {
   "cell_type": "markdown",
   "metadata": {},
   "source": [
    "###  Группировка и анализ посадочных мест"
   ]
  },
  {
   "cell_type": "code",
   "execution_count": 29,
   "metadata": {},
   "outputs": [
    {
     "data": {
      "image/png": "[encoded data removed]",
      "text/plain": [
       "<Figure size 1440x504 with 2 Axes>"
      ]
     },
     "metadata": {},
     "output_type": "display_data"
    }
   ],
   "source": [
    "fig, axes = plt.subplots(1,2, figsize=(20,7))\n",
    "\n",
    "sns.barplot(ax=axes[0], x='type', y='seats', data=chain_data, hue='is_chain')\n",
    "axes[0].set_xlabel('Типы заведений', fontsize=13)\n",
    "axes[0].set_ylabel('Среднее число посадочных мест', fontsize=13)\n",
    "axes[0].set_title('Среднее количество посадочных мест и типа заведения', fontsize=15, pad=15)\n",
    "axes[0].tick_params(axis='y', labelsize = 12)\n",
    "axes[0].tick_params(axis='x', labelsize = 12, labelrotation = 20)\n",
    "axes[0].legend(title='Принадлежность к сети')\n",
    "\n",
    "\n",
    "sns.stripplot(ax=axes[1],x='type', y='seats', data=rest_data, hue='is_chain', dodge=True)\n",
    "plt.xlabel('Типы заведений', fontsize=13)\n",
    "plt.ylabel('Посадочные места', fontsize=13)\n",
    "axes[1].set_title('Распределение посадочных мест и типа заведения', fontsize=15, pad=15)\n",
    "plt.tick_params(axis='y', labelsize = 12)\n",
    "plt.tick_params(axis='x', labelsize = 12, labelrotation = 20)\n",
    "plt.legend(title='Принадлежность к сети')\n",
    "plt.ylim(0,500)  # ограничиваю ось, чтобы было лучше видно распределение\n",
    "plt.show()"
   ]
  },
  {
   "cell_type": "markdown",
   "metadata": {},
   "source": [
    "В сетевых ПБО количество посадочных мест обгоняет несетевые в несколько раз. В кафе, ресторанах и барах, входящим в сетевую структуру, объем посадки также больше. А вот в столовых, наоборот, больше мест в несетевых заведениях (сетевые ушли недалеко, но по диаграмме рассеяния видно, что их всего три штуки).\n",
    "Вообще в абсолютных числах заметно распределение больших помещений и на 500 мест в ресторанах и столовых, и в кафе до 300, однако большая часть кафе находится в рамках 40-50 мест для посетителей (мы делаем акцент на кафе как на самую распространенную структуру)."
   ]
  },
  {
   "cell_type": "markdown",
   "metadata": {},
   "source": [
    "#### Взаимосвязь размера сетевых предприятий и количества посадочных мест"
   ]
  },
  {
   "cell_type": "markdown",
   "metadata": {},
   "source": [
    "Проверим, как соотносятся между собой две характеристики: принадлежность к сети заведений и количество посадочных мест. Для начала отфильтруем сетевые предприятия и составим диаграмму."
   ]
  },
  {
   "cell_type": "code",
   "execution_count": 30,
   "metadata": {},
   "outputs": [],
   "source": [
    "chain_group = (rest_data                     # фильтруем, группировка по названию, \n",
    "               .query('is_chain == \"да\"')    # считаем количество заведений в одной сети и среднее число посадочных мест\n",
    "               .groupby('name', as_index=False)\n",
    "               .agg({'id': 'count', 'seats': 'mean'})\n",
    "               .rename(columns={'id': 'total'})\n",
    "              )"
   ]
  },
  {
   "cell_type": "markdown",
   "metadata": {},
   "source": [
    "Каждую сеть мы можем отнести к одной из четырех групп:\n",
    "1. Небольшая сеть, мало посадочных мест\n",
    "1. Небольшая сеть, много посадочных мест\n",
    "1. Крупная сеть, много посадочных мест\n",
    "1. Крупная сеть, мало посадочных мест\n",
    "\n",
    "Но для начала нужно определить, что в нашем понимании объем сети, и какое количество мест считать большим или маленьким."
   ]
  },
  {
   "cell_type": "code",
   "execution_count": 31,
   "metadata": {},
   "outputs": [
    {
     "data": {
      "text/html": [
       "<div>\n",
       "<style scoped>\n",
       "    .dataframe tbody tr th:only-of-type {\n",
       "        vertical-align: middle;\n",
       "    }\n",
       "\n",
       "    .dataframe tbody tr th {\n",
       "        vertical-align: top;\n",
       "    }\n",
       "\n",
       "    .dataframe thead th {\n",
       "        text-align: right;\n",
       "    }\n",
       "</style>\n",
       "<table border=\"1\" class=\"dataframe\">\n",
       "  <thead>\n",
       "    <tr style=\"text-align: right;\">\n",
       "      <th></th>\n",
       "      <th>total</th>\n",
       "      <th>seats</th>\n",
       "    </tr>\n",
       "  </thead>\n",
       "  <tbody>\n",
       "    <tr>\n",
       "      <th>count</th>\n",
       "      <td>576.000000</td>\n",
       "      <td>576.000000</td>\n",
       "    </tr>\n",
       "    <tr>\n",
       "      <th>mean</th>\n",
       "      <td>5.098958</td>\n",
       "      <td>59.067360</td>\n",
       "    </tr>\n",
       "    <tr>\n",
       "      <th>std</th>\n",
       "      <td>15.327915</td>\n",
       "      <td>54.593293</td>\n",
       "    </tr>\n",
       "    <tr>\n",
       "      <th>min</th>\n",
       "      <td>1.000000</td>\n",
       "      <td>0.000000</td>\n",
       "    </tr>\n",
       "    <tr>\n",
       "      <th>25%</th>\n",
       "      <td>1.000000</td>\n",
       "      <td>20.000000</td>\n",
       "    </tr>\n",
       "    <tr>\n",
       "      <th>50%</th>\n",
       "      <td>1.000000</td>\n",
       "      <td>43.000000</td>\n",
       "    </tr>\n",
       "    <tr>\n",
       "      <th>75%</th>\n",
       "      <td>3.000000</td>\n",
       "      <td>83.297619</td>\n",
       "    </tr>\n",
       "    <tr>\n",
       "      <th>max</th>\n",
       "      <td>154.000000</td>\n",
       "      <td>306.000000</td>\n",
       "    </tr>\n",
       "  </tbody>\n",
       "</table>\n",
       "</div>"
      ],
      "text/plain": [
       "            total       seats\n",
       "count  576.000000  576.000000\n",
       "mean     5.098958   59.067360\n",
       "std     15.327915   54.593293\n",
       "min      1.000000    0.000000\n",
       "25%      1.000000   20.000000\n",
       "50%      1.000000   43.000000\n",
       "75%      3.000000   83.297619\n",
       "max    154.000000  306.000000"
      ]
     },
     "execution_count": 31,
     "metadata": {},
     "output_type": "execute_result"
    }
   ],
   "source": [
    "chain_group.describe()"
   ]
  },
  {
   "cell_type": "markdown",
   "metadata": {},
   "source": [
    "Как это ни странно, но медиана размера сети это всего 1 заведение! Посмотрим лучше 90 и 95 перцентили, а вот с местами все в целом понятно: максимальный показатель 306, медиана - 43, вполне логично будет принять эту величину за разделяющую наши данные на \"много мест\": \"мало мест\"."
   ]
  },
  {
   "cell_type": "code",
   "execution_count": 32,
   "metadata": {},
   "outputs": [
    {
     "data": {
      "text/plain": [
       "array([ 8.  , 16.5 , 89.25])"
      ]
     },
     "execution_count": 32,
     "metadata": {},
     "output_type": "execute_result"
    }
   ],
   "source": [
    "np.percentile(chain_group['total'], [90,95,99]) # 90, 95, 99 перцентили"
   ]
  },
  {
   "cell_type": "markdown",
   "metadata": {},
   "source": [
    "Не более 90% сетей имеют 8 точек, и не более 95% сетей - 16 точек. \n",
    "\n",
    "Восемь кафе для Москвы - это еще небольшая сеть (в отличие от других городов), примем этот показатель за границу."
   ]
  },
  {
   "cell_type": "code",
   "execution_count": 33,
   "metadata": {
    "scrolled": false
   },
   "outputs": [
    {
     "data": {
      "image/png": "[encoded data removed]",
      "text/plain": [
       "<Figure size 576x576 with 1 Axes>"
      ]
     },
     "metadata": {},
     "output_type": "display_data"
    }
   ],
   "source": [
    "plt.figure(figsize=(8,8))   # строим диаграмму рассеяния\n",
    "plt.scatter(x=chain_group['seats'], y=chain_group['total'], color=colors[-3], alpha=0.5)\n",
    "plt.xlabel('Среднее число посадочных мест', fontsize=13)\n",
    "plt.ylabel('Количество заведений в сети', fontsize=13)\n",
    "plt.title('Взаимосвязь размера сети и количества посадочных мест', fontsize=15, pad=15)\n",
    "plt.axvline(x=chain_group['seats'].median(), color='gray', linestyle='--')   # отмечаем границы\n",
    "plt.axhline(y=(np.percentile(chain_group['total'], [90])[0]), color='gray', linestyle='--')\n",
    "plt.tick_params(axis='y', labelsize = 12)\n",
    "plt.tick_params(axis='x', labelsize = 12)\n",
    "plt.show()"
   ]
  },
  {
   "cell_type": "markdown",
   "metadata": {},
   "source": [
    "Диаграмма рассеяния наглядно демонстрирует нам, как распределились четыре группы: вероятность увидеть небольшое сетевое заведение с большим количеством посадочных мест наибольшая из всех. Однако для достоверности стоит еще посчитать..."
   ]
  },
  {
   "cell_type": "code",
   "execution_count": 34,
   "metadata": {},
   "outputs": [],
   "source": [
    "def ratio_df(df):   # функция для распределения по группам\n",
    "    t_max = np.percentile(chain_group['total'], [90])[0]\n",
    "    s_max = 43     # пробовала здесь писать не число а код с расчетом перцентиля, функция ломается\n",
    "    if df['total'] <= t_max and df['seats'] <= s_max:\n",
    "        return 'Группа А'\n",
    "    if df['total'] <= t_max and df['seats'] > s_max:\n",
    "        return 'Группа Б'\n",
    "    if df['total'] > t_max and df['seats'] <= s_max:\n",
    "        return 'Группа В'\n",
    "    return 'Группа Г'"
   ]
  },
  {
   "cell_type": "code",
   "execution_count": 35,
   "metadata": {
    "scrolled": true
   },
   "outputs": [
    {
     "data": {
      "text/html": [
       "<div>\n",
       "<style scoped>\n",
       "    .dataframe tbody tr th:only-of-type {\n",
       "        vertical-align: middle;\n",
       "    }\n",
       "\n",
       "    .dataframe tbody tr th {\n",
       "        vertical-align: top;\n",
       "    }\n",
       "\n",
       "    .dataframe thead th {\n",
       "        text-align: right;\n",
       "    }\n",
       "</style>\n",
       "<table border=\"1\" class=\"dataframe\">\n",
       "  <thead>\n",
       "    <tr style=\"text-align: right;\">\n",
       "      <th></th>\n",
       "      <th>group</th>\n",
       "      <th>number</th>\n",
       "      <th>ratio</th>\n",
       "    </tr>\n",
       "  </thead>\n",
       "  <tbody>\n",
       "    <tr>\n",
       "      <th>0</th>\n",
       "      <td>Группа А</td>\n",
       "      <td>257</td>\n",
       "      <td>44.618056</td>\n",
       "    </tr>\n",
       "    <tr>\n",
       "      <th>1</th>\n",
       "      <td>Группа Б</td>\n",
       "      <td>262</td>\n",
       "      <td>45.486111</td>\n",
       "    </tr>\n",
       "    <tr>\n",
       "      <th>2</th>\n",
       "      <td>Группа В</td>\n",
       "      <td>32</td>\n",
       "      <td>5.555556</td>\n",
       "    </tr>\n",
       "    <tr>\n",
       "      <th>3</th>\n",
       "      <td>Группа Г</td>\n",
       "      <td>25</td>\n",
       "      <td>4.340278</td>\n",
       "    </tr>\n",
       "  </tbody>\n",
       "</table>\n",
       "</div>"
      ],
      "text/plain": [
       "      group  number      ratio\n",
       "0  Группа А     257  44.618056\n",
       "1  Группа Б     262  45.486111\n",
       "2  Группа В      32   5.555556\n",
       "3  Группа Г      25   4.340278"
      ]
     },
     "execution_count": 35,
     "metadata": {},
     "output_type": "execute_result"
    }
   ],
   "source": [
    "ratio = chain_group.apply(ratio_df, axis=1)  # применяем функцию\n",
    "\n",
    "ratio = (ratio    # сортируем по группам\n",
    "         .reset_index()\n",
    "         .rename(columns={'index': 'number', 0:'group'})\n",
    "         .groupby('group', as_index=False)['number'].count()\n",
    "        )\n",
    "ratio['ratio'] = ratio['number'] / ratio['number'].sum() * 100  # считаем соотношение\n",
    "ratio"
   ]
  },
  {
   "cell_type": "markdown",
   "metadata": {},
   "source": [
    "Итак, кода много, а вывод можем сделать такой: **из всех сетевых заведений общественного питания мы с большей вероятностью встретим или кафе из маленькой сети с большой посадкой**, или же предприятие из маленькой сети, но с малым количеством мест."
   ]
  },
  {
   "cell_type": "markdown",
   "metadata": {},
   "source": [
    "###  Определение улицы заведения"
   ]
  },
  {
   "cell_type": "code",
   "execution_count": 36,
   "metadata": {},
   "outputs": [],
   "source": [
    "variants = ['улица', 'переулок', 'шоссе', 'набережная', 'проспект', 'проезд', 'шоссе', 'ульвар', 'площадь', 'аллея', \n",
    "            'линия', 'микрорайон', 'квартал']   # выделили все возможные варианты адреса \n",
    "\n",
    "def get_street(address):   #  функция для выделения улицы\n",
    "    for part in address.split(', '):\n",
    "        for var in variants:\n",
    "            if part.find(var)!= -1:\n",
    "                return part\n"
   ]
  },
  {
   "cell_type": "code",
   "execution_count": 37,
   "metadata": {},
   "outputs": [
    {
     "data": {
      "text/html": [
       "<div>\n",
       "<style scoped>\n",
       "    .dataframe tbody tr th:only-of-type {\n",
       "        vertical-align: middle;\n",
       "    }\n",
       "\n",
       "    .dataframe tbody tr th {\n",
       "        vertical-align: top;\n",
       "    }\n",
       "\n",
       "    .dataframe thead th {\n",
       "        text-align: right;\n",
       "    }\n",
       "</style>\n",
       "<table border=\"1\" class=\"dataframe\">\n",
       "  <thead>\n",
       "    <tr style=\"text-align: right;\">\n",
       "      <th></th>\n",
       "      <th>id</th>\n",
       "      <th>name</th>\n",
       "      <th>is_chain</th>\n",
       "      <th>type</th>\n",
       "      <th>address</th>\n",
       "      <th>seats</th>\n",
       "      <th>street</th>\n",
       "    </tr>\n",
       "  </thead>\n",
       "  <tbody>\n",
       "    <tr>\n",
       "      <th>1400</th>\n",
       "      <td>20199</td>\n",
       "      <td>это</td>\n",
       "      <td>нет</td>\n",
       "      <td>кафе</td>\n",
       "      <td>город Москва, город Зеленоград, корпус 401</td>\n",
       "      <td>35</td>\n",
       "      <td>None</td>\n",
       "    </tr>\n",
       "    <tr>\n",
       "      <th>1401</th>\n",
       "      <td>68113</td>\n",
       "      <td>френдс</td>\n",
       "      <td>нет</td>\n",
       "      <td>кафе</td>\n",
       "      <td>город Москва, город Зеленоград, корпус 435</td>\n",
       "      <td>34</td>\n",
       "      <td>None</td>\n",
       "    </tr>\n",
       "    <tr>\n",
       "      <th>1402</th>\n",
       "      <td>20105</td>\n",
       "      <td>кафе «граф монте-кристо»</td>\n",
       "      <td>нет</td>\n",
       "      <td>кафе</td>\n",
       "      <td>город Москва, город Зеленоград, корпус 436</td>\n",
       "      <td>40</td>\n",
       "      <td>None</td>\n",
       "    </tr>\n",
       "    <tr>\n",
       "      <th>1403</th>\n",
       "      <td>22982</td>\n",
       "      <td>альфорно</td>\n",
       "      <td>нет</td>\n",
       "      <td>кафе</td>\n",
       "      <td>город Москва, город Зеленоград, корпус 438</td>\n",
       "      <td>49</td>\n",
       "      <td>None</td>\n",
       "    </tr>\n",
       "    <tr>\n",
       "      <th>1404</th>\n",
       "      <td>150537</td>\n",
       "      <td>кафе «вечный зов»</td>\n",
       "      <td>нет</td>\n",
       "      <td>кафе</td>\n",
       "      <td>город Москва, город Зеленоград, корпус 834А</td>\n",
       "      <td>30</td>\n",
       "      <td>None</td>\n",
       "    </tr>\n",
       "    <tr>\n",
       "      <th>...</th>\n",
       "      <td>...</td>\n",
       "      <td>...</td>\n",
       "      <td>...</td>\n",
       "      <td>...</td>\n",
       "      <td>...</td>\n",
       "      <td>...</td>\n",
       "      <td>...</td>\n",
       "    </tr>\n",
       "    <tr>\n",
       "      <th>14787</th>\n",
       "      <td>216942</td>\n",
       "      <td>шашлычный дворик</td>\n",
       "      <td>нет</td>\n",
       "      <td>кафе</td>\n",
       "      <td>город Москва, поселение Десеновское, деревня Ватутинки, владение 10</td>\n",
       "      <td>15</td>\n",
       "      <td>None</td>\n",
       "    </tr>\n",
       "    <tr>\n",
       "      <th>14788</th>\n",
       "      <td>216926</td>\n",
       "      <td>кафе «сахли»</td>\n",
       "      <td>нет</td>\n",
       "      <td>закусочная</td>\n",
       "      <td>город Москва, поселение Десеновское, деревня Ватутинки, владение 15</td>\n",
       "      <td>10</td>\n",
       "      <td>None</td>\n",
       "    </tr>\n",
       "    <tr>\n",
       "      <th>14801</th>\n",
       "      <td>208239</td>\n",
       "      <td>газпромнефть</td>\n",
       "      <td>нет</td>\n",
       "      <td>кафе</td>\n",
       "      <td>поселение \"Мосрентген\", деревня Дудкино, владение 1</td>\n",
       "      <td>20</td>\n",
       "      <td>None</td>\n",
       "    </tr>\n",
       "    <tr>\n",
       "      <th>14921</th>\n",
       "      <td>209920</td>\n",
       "      <td>дюшес</td>\n",
       "      <td>да</td>\n",
       "      <td>ресторан</td>\n",
       "      <td>город Москва, город Зеленоград, Проезд № 4806, дом 3</td>\n",
       "      <td>100</td>\n",
       "      <td>None</td>\n",
       "    </tr>\n",
       "    <tr>\n",
       "      <th>14966</th>\n",
       "      <td>220587</td>\n",
       "      <td>пицца паоло</td>\n",
       "      <td>да</td>\n",
       "      <td>кафетерий</td>\n",
       "      <td>город Москва, город Зеленоград, корпус 1627</td>\n",
       "      <td>0</td>\n",
       "      <td>None</td>\n",
       "    </tr>\n",
       "  </tbody>\n",
       "</table>\n",
       "<p>333 rows × 7 columns</p>\n",
       "</div>"
      ],
      "text/plain": [
       "           id                      name is_chain        type  \\\n",
       "1400    20199                       это      нет        кафе   \n",
       "1401    68113                    френдс      нет        кафе   \n",
       "1402    20105  кафе «граф монте-кристо»      нет        кафе   \n",
       "1403    22982                  альфорно      нет        кафе   \n",
       "1404   150537         кафе «вечный зов»      нет        кафе   \n",
       "...       ...                       ...      ...         ...   \n",
       "14787  216942          шашлычный дворик      нет        кафе   \n",
       "14788  216926              кафе «сахли»      нет  закусочная   \n",
       "14801  208239              газпромнефть      нет        кафе   \n",
       "14921  209920                     дюшес       да    ресторан   \n",
       "14966  220587               пицца паоло       да   кафетерий   \n",
       "\n",
       "                                                                   address  \\\n",
       "1400                            город Москва, город Зеленоград, корпус 401   \n",
       "1401                            город Москва, город Зеленоград, корпус 435   \n",
       "1402                            город Москва, город Зеленоград, корпус 436   \n",
       "1403                            город Москва, город Зеленоград, корпус 438   \n",
       "1404                           город Москва, город Зеленоград, корпус 834А   \n",
       "...                                                                    ...   \n",
       "14787  город Москва, поселение Десеновское, деревня Ватутинки, владение 10   \n",
       "14788  город Москва, поселение Десеновское, деревня Ватутинки, владение 15   \n",
       "14801                  поселение \"Мосрентген\", деревня Дудкино, владение 1   \n",
       "14921                 город Москва, город Зеленоград, Проезд № 4806, дом 3   \n",
       "14966                          город Москва, город Зеленоград, корпус 1627   \n",
       "\n",
       "       seats street  \n",
       "1400      35   None  \n",
       "1401      34   None  \n",
       "1402      40   None  \n",
       "1403      49   None  \n",
       "1404      30   None  \n",
       "...      ...    ...  \n",
       "14787     15   None  \n",
       "14788     10   None  \n",
       "14801     20   None  \n",
       "14921    100   None  \n",
       "14966      0   None  \n",
       "\n",
       "[333 rows x 7 columns]"
      ]
     },
     "execution_count": 37,
     "metadata": {},
     "output_type": "execute_result"
    }
   ],
   "source": [
    "rest_data['street'] = rest_data['address'].apply(get_street)  # применяем\n",
    "rest_data[(rest_data['street'].isna())]  # проверяем пропуски и какие они"
   ]
  },
  {
   "cell_type": "markdown",
   "metadata": {},
   "source": [
    "*Сегодня лишь узнала, что в Зеленограде, оказывается, нет улиц...* Некоторым заведениям улиц не присвоилось, потому что они находятся в деревне или селе, которые находятся в поселении где-то за МКАДом, таких набралось 333 штук, предлагаю для дальнейших расчетов их не учитывать."
   ]
  },
  {
   "cell_type": "code",
   "execution_count": 38,
   "metadata": {},
   "outputs": [
    {
     "name": "stdout",
     "output_type": "stream",
     "text": [
      "<class 'pandas.core.frame.DataFrame'>\n",
      "Int64Index: 14808 entries, 0 to 15140\n",
      "Data columns (total 7 columns):\n",
      " #   Column    Non-Null Count  Dtype \n",
      "---  ------    --------------  ----- \n",
      " 0   id        14808 non-null  int64 \n",
      " 1   name      14808 non-null  object\n",
      " 2   is_chain  14808 non-null  object\n",
      " 3   type      14808 non-null  object\n",
      " 4   address   14808 non-null  object\n",
      " 5   seats     14808 non-null  int64 \n",
      " 6   street    14808 non-null  object\n",
      "dtypes: int64(2), object(5)\n",
      "memory usage: 925.5+ KB\n"
     ]
    }
   ],
   "source": [
    "rest_data_str = rest_data.dropna() # убираем пропуски\n",
    "rest_data_str.info() # смотрим что вышло"
   ]
  },
  {
   "cell_type": "markdown",
   "metadata": {},
   "source": [
    "### Топ-10 улиц по количеству объектов общественного питания"
   ]
  },
  {
   "cell_type": "code",
   "execution_count": 39,
   "metadata": {},
   "outputs": [
    {
     "data": {
      "text/html": [
       "<div>\n",
       "<style scoped>\n",
       "    .dataframe tbody tr th:only-of-type {\n",
       "        vertical-align: middle;\n",
       "    }\n",
       "\n",
       "    .dataframe tbody tr th {\n",
       "        vertical-align: top;\n",
       "    }\n",
       "\n",
       "    .dataframe thead th {\n",
       "        text-align: right;\n",
       "    }\n",
       "</style>\n",
       "<table border=\"1\" class=\"dataframe\">\n",
       "  <thead>\n",
       "    <tr style=\"text-align: right;\">\n",
       "      <th></th>\n",
       "      <th>street</th>\n",
       "      <th>count</th>\n",
       "    </tr>\n",
       "  </thead>\n",
       "  <tbody>\n",
       "    <tr>\n",
       "      <th>0</th>\n",
       "      <td>проспект Мира</td>\n",
       "      <td>196</td>\n",
       "    </tr>\n",
       "    <tr>\n",
       "      <th>1</th>\n",
       "      <td>Профсоюзная улица</td>\n",
       "      <td>180</td>\n",
       "    </tr>\n",
       "    <tr>\n",
       "      <th>2</th>\n",
       "      <td>Ленинградский проспект</td>\n",
       "      <td>171</td>\n",
       "    </tr>\n",
       "    <tr>\n",
       "      <th>3</th>\n",
       "      <td>Пресненская набережная</td>\n",
       "      <td>165</td>\n",
       "    </tr>\n",
       "    <tr>\n",
       "      <th>4</th>\n",
       "      <td>Варшавское шоссе</td>\n",
       "      <td>163</td>\n",
       "    </tr>\n",
       "    <tr>\n",
       "      <th>5</th>\n",
       "      <td>Ленинский проспект</td>\n",
       "      <td>148</td>\n",
       "    </tr>\n",
       "    <tr>\n",
       "      <th>6</th>\n",
       "      <td>проспект Вернадского</td>\n",
       "      <td>126</td>\n",
       "    </tr>\n",
       "    <tr>\n",
       "      <th>7</th>\n",
       "      <td>Кутузовский проспект</td>\n",
       "      <td>112</td>\n",
       "    </tr>\n",
       "    <tr>\n",
       "      <th>8</th>\n",
       "      <td>Каширское шоссе</td>\n",
       "      <td>110</td>\n",
       "    </tr>\n",
       "    <tr>\n",
       "      <th>9</th>\n",
       "      <td>Кировоградская улица</td>\n",
       "      <td>106</td>\n",
       "    </tr>\n",
       "  </tbody>\n",
       "</table>\n",
       "</div>"
      ],
      "text/plain": [
       "                   street  count\n",
       "0           проспект Мира    196\n",
       "1       Профсоюзная улица    180\n",
       "2  Ленинградский проспект    171\n",
       "3  Пресненская набережная    165\n",
       "4        Варшавское шоссе    163\n",
       "5      Ленинский проспект    148\n",
       "6    проспект Вернадского    126\n",
       "7    Кутузовский проспект    112\n",
       "8         Каширское шоссе    110\n",
       "9    Кировоградская улица    106"
      ]
     },
     "execution_count": 39,
     "metadata": {},
     "output_type": "execute_result"
    }
   ],
   "source": [
    "top_streets = (rest_data_str   # топ-10 улиц\n",
    "               .groupby('street', as_index=False)['name'].count()\n",
    "               .sort_values(by='name',ascending=False)\n",
    "               .reset_index(drop=True)\n",
    "               .head(10)\n",
    "              )\n",
    "top_streets.columns = ['street', 'count']\n",
    "top_streets     "
   ]
  },
  {
   "cell_type": "code",
   "execution_count": 40,
   "metadata": {},
   "outputs": [
    {
     "data": {
      "image/png": "[encoded data removed]",
      "text/plain": [
       "<Figure size 720x576 with 1 Axes>"
      ]
     },
     "metadata": {},
     "output_type": "display_data"
    }
   ],
   "source": [
    "plt.figure(figsize=(10,8))   # строим столбчатый график\n",
    "sns.barplot(x='count', y='street', data=top_streets)\n",
    "plt.xlabel('Количество заведений', fontsize=13)\n",
    "plt.ylabel('Название улицы', fontsize=13)\n",
    "plt.title('Топ-10 самых популярных улиц', fontsize=15, pad=15)\n",
    "plt.tick_params(axis='y', labelsize = 12)\n",
    "plt.tick_params(axis='x', labelsize = 12)\n",
    "plt.show()"
   ]
  },
  {
   "cell_type": "code",
   "execution_count": 41,
   "metadata": {},
   "outputs": [],
   "source": [
    "top_district = top_streets.merge(district, on='street') # объединяем с внешней информацией о районах"
   ]
  },
  {
   "cell_type": "code",
   "execution_count": 42,
   "metadata": {},
   "outputs": [
    {
     "name": "stdout",
     "output_type": "stream",
     "text": [
      "проспект Мира находится в:\n",
      "- Алексеевский район\n",
      "- Ярославский Район\n",
      "- Район Марьина роща\n",
      "- Останкинский район\n",
      "- Район Ростокино\n",
      "- Район Свиблово\n",
      "- Мещанский район\n",
      "Всего 7 районов\n",
      "Округа: СВАО, ЦАО\n",
      " \n",
      "Профсоюзная улица находится в:\n",
      "- Академический район\n",
      "- Район Черемушки\n",
      "- Район Ясенево\n",
      "- Район Коньково\n",
      "- Обручевский район\n",
      "- Район Теплый Стан\n",
      "Всего 6 районов\n",
      "Округа: ЮЗАО\n",
      " \n",
      "Ленинградский проспект находится в:\n",
      "- Район Аэропорт\n",
      "- Район Беговой\n",
      "- Хорошевский район\n",
      "- Район Сокол\n",
      "Всего 4 районов\n",
      "Округа: САО\n",
      " \n",
      "Пресненская набережная находится в:\n",
      "- Пресненский район\n",
      "Всего 1 районов\n",
      "Округа: ЦАО\n",
      " \n",
      "Варшавское шоссе находится в:\n",
      "- Район Чертаново Центральное\n",
      "- Район Чертаново Северное\n",
      "- Район Чертаново Южное\n",
      "- Донской район\n",
      "- Район Нагатино-Садовники\n",
      "- Нагорный район\n",
      "- Район Северное Бутово\n",
      "- Район Южное Бутово\n",
      "Всего 8 районов\n",
      "Округа: ЮАО, ЮЗАО\n",
      " \n",
      "Ленинский проспект находится в:\n",
      "- Район Проспект Вернадского\n",
      "- Район Тропарево-Никулино\n",
      "- Донской район\n",
      "- Район Гагаринский\n",
      "- Ломоносовский район\n",
      "- Обручевский район\n",
      "- Район Теплый Стан\n",
      "- Район Якиманка\n",
      "Всего 8 районов\n",
      "Округа: ЗАО, ЮАО, ЮЗАО, ЦАО\n",
      " \n",
      "проспект Вернадского находится в:\n",
      "- Район Проспект Вернадского\n",
      "- Район Раменки\n",
      "- Район Тропарево-Никулино\n",
      "- Район Гагаринский\n",
      "- Ломоносовский район\n",
      "Всего 5 районов\n",
      "Округа: ЗАО, ЮЗАО\n",
      " \n",
      "Кутузовский проспект находится в:\n",
      "- Район Дорогомилово\n",
      "- Район Фили-Давыдково\n",
      "Всего 2 районов\n",
      "Округа: ЗАО\n",
      " \n",
      "Каширское шоссе находится в:\n",
      "- Район Москворечье-Сабурово\n",
      "- Район Нагатино-Садовники\n",
      "- Район Орехово-Борисово Южное\n",
      "- Район Орехово-Борисово Северное\n",
      "Всего 4 районов\n",
      "Округа: ЮАО\n",
      " \n",
      "Кировоградская улица находится в:\n",
      "- Район Чертаново Центральное\n",
      "- Район Чертаново Северное\n",
      "- Район Чертаново Южное\n",
      "Всего 3 районов\n",
      "Округа: ЮАО\n",
      " \n"
     ]
    }
   ],
   "source": [
    "top = top_streets['street'].to_list() # список топ-улиц\n",
    "for street in top:   # выводим в каких районах находятся наши улицы\n",
    "    print(f'{street} находится в:')\n",
    "    dist = []\n",
    "    div = []\n",
    "    for x,y in top_district.iterrows():\n",
    "        if y['street'] == street:\n",
    "            dist.append(y['district'])\n",
    "            if y['divisions'] not in div:\n",
    "                div.append(y['divisions'])\n",
    "    for i in dist:\n",
    "        print('-', i)\n",
    "    print(f'Всего {len(dist)} районов')\n",
    "    print('Округа:', \", \".join(div))\n",
    "    print(' ')"
   ]
  },
  {
   "cell_type": "markdown",
   "metadata": {},
   "source": [
    "Ленинский проспект, кажется, в любом городе России чаще всего займет первую строчку по протяженности: так оно вышло и здесь (протяженность 14 км через четыре административных округа). Пресненская набережная представляет интерес: из топ-10 она самая миниатюрная, находится в ЦАО в одном районе и прямо изобилует разнообразием предприятий *чуть позже я узнала, что она находится в Москва-сити, так что неудивительно*"
   ]
  },
  {
   "cell_type": "code",
   "execution_count": 43,
   "metadata": {
    "scrolled": false
   },
   "outputs": [
    {
     "data": {
      "text/html": [
       "<div>\n",
       "<style scoped>\n",
       "    .dataframe tbody tr th:only-of-type {\n",
       "        vertical-align: middle;\n",
       "    }\n",
       "\n",
       "    .dataframe tbody tr th {\n",
       "        vertical-align: top;\n",
       "    }\n",
       "\n",
       "    .dataframe thead th {\n",
       "        text-align: right;\n",
       "    }\n",
       "</style>\n",
       "<table border=\"1\" class=\"dataframe\">\n",
       "  <thead>\n",
       "    <tr style=\"text-align: right;\">\n",
       "      <th></th>\n",
       "      <th></th>\n",
       "      <th>district</th>\n",
       "      <th>count</th>\n",
       "    </tr>\n",
       "    <tr>\n",
       "      <th>street</th>\n",
       "      <th>divisions</th>\n",
       "      <th></th>\n",
       "      <th></th>\n",
       "    </tr>\n",
       "  </thead>\n",
       "  <tbody>\n",
       "    <tr>\n",
       "      <th rowspan=\"2\" valign=\"top\">проспект Мира</th>\n",
       "      <th>СВАО</th>\n",
       "      <td>6</td>\n",
       "      <td>196</td>\n",
       "    </tr>\n",
       "    <tr>\n",
       "      <th>ЦАО</th>\n",
       "      <td>1</td>\n",
       "      <td>196</td>\n",
       "    </tr>\n",
       "    <tr>\n",
       "      <th>Профсоюзная улица</th>\n",
       "      <th>ЮЗАО</th>\n",
       "      <td>6</td>\n",
       "      <td>180</td>\n",
       "    </tr>\n",
       "    <tr>\n",
       "      <th>Ленинградский проспект</th>\n",
       "      <th>САО</th>\n",
       "      <td>4</td>\n",
       "      <td>171</td>\n",
       "    </tr>\n",
       "    <tr>\n",
       "      <th>Пресненская набережная</th>\n",
       "      <th>ЦАО</th>\n",
       "      <td>1</td>\n",
       "      <td>165</td>\n",
       "    </tr>\n",
       "    <tr>\n",
       "      <th rowspan=\"2\" valign=\"top\">Варшавское шоссе</th>\n",
       "      <th>ЮАО</th>\n",
       "      <td>6</td>\n",
       "      <td>163</td>\n",
       "    </tr>\n",
       "    <tr>\n",
       "      <th>ЮЗАО</th>\n",
       "      <td>2</td>\n",
       "      <td>163</td>\n",
       "    </tr>\n",
       "    <tr>\n",
       "      <th rowspan=\"4\" valign=\"top\">Ленинский проспект</th>\n",
       "      <th>ЗАО</th>\n",
       "      <td>2</td>\n",
       "      <td>148</td>\n",
       "    </tr>\n",
       "    <tr>\n",
       "      <th>ЦАО</th>\n",
       "      <td>1</td>\n",
       "      <td>148</td>\n",
       "    </tr>\n",
       "    <tr>\n",
       "      <th>ЮАО</th>\n",
       "      <td>1</td>\n",
       "      <td>148</td>\n",
       "    </tr>\n",
       "    <tr>\n",
       "      <th>ЮЗАО</th>\n",
       "      <td>4</td>\n",
       "      <td>148</td>\n",
       "    </tr>\n",
       "    <tr>\n",
       "      <th rowspan=\"2\" valign=\"top\">проспект Вернадского</th>\n",
       "      <th>ЗАО</th>\n",
       "      <td>3</td>\n",
       "      <td>126</td>\n",
       "    </tr>\n",
       "    <tr>\n",
       "      <th>ЮЗАО</th>\n",
       "      <td>2</td>\n",
       "      <td>126</td>\n",
       "    </tr>\n",
       "    <tr>\n",
       "      <th>Кутузовский проспект</th>\n",
       "      <th>ЗАО</th>\n",
       "      <td>2</td>\n",
       "      <td>112</td>\n",
       "    </tr>\n",
       "    <tr>\n",
       "      <th>Каширское шоссе</th>\n",
       "      <th>ЮАО</th>\n",
       "      <td>4</td>\n",
       "      <td>110</td>\n",
       "    </tr>\n",
       "    <tr>\n",
       "      <th>Кировоградская улица</th>\n",
       "      <th>ЮАО</th>\n",
       "      <td>3</td>\n",
       "      <td>106</td>\n",
       "    </tr>\n",
       "  </tbody>\n",
       "</table>\n",
       "</div>"
      ],
      "text/plain": [
       "                                  district  count\n",
       "street                 divisions                 \n",
       "проспект Мира          СВАО              6    196\n",
       "                       ЦАО               1    196\n",
       "Профсоюзная улица      ЮЗАО              6    180\n",
       "Ленинградский проспект САО               4    171\n",
       "Пресненская набережная ЦАО               1    165\n",
       "Варшавское шоссе       ЮАО               6    163\n",
       "                       ЮЗАО              2    163\n",
       "Ленинский проспект     ЗАО               2    148\n",
       "                       ЦАО               1    148\n",
       "                       ЮАО               1    148\n",
       "                       ЮЗАО              4    148\n",
       "проспект Вернадского   ЗАО               3    126\n",
       "                       ЮЗАО              2    126\n",
       "Кутузовский проспект   ЗАО               2    112\n",
       "Каширское шоссе        ЮАО               4    110\n",
       "Кировоградская улица   ЮАО               3    106"
      ]
     },
     "execution_count": 43,
     "metadata": {},
     "output_type": "execute_result"
    }
   ],
   "source": [
    "(top_district    # сводная таблица по числу районов и округов, по которым проходит каждая улица\n",
    " .groupby(['street', 'divisions'])\n",
    " .agg({'district': 'nunique', \n",
    "       'count': 'first'})\n",
    " .sort_values(by='count', ascending=False)\n",
    ")"
   ]
  },
  {
   "cell_type": "code",
   "execution_count": 44,
   "metadata": {
    "scrolled": false
   },
   "outputs": [
    {
     "data": {
      "image/png": "[encoded data removed]",
      "text/plain": [
       "<Figure size 576x576 with 1 Axes>"
      ]
     },
     "metadata": {},
     "output_type": "display_data"
    }
   ],
   "source": [
    "pie_d = (top_district  # доли административных округов по наличию в них популярных улиц\n",
    " .pivot_table(index=['divisions'], values=['street'], aggfunc='count').reset_index()\n",
    ")\n",
    "\n",
    "fig, ax = plt.subplots(figsize=(8,8))\n",
    "ax.pie(x=pie_d['street'], labels=pie_d['divisions'], autopct='%.1f%%')\n",
    "plt.title('Административные округа с наибольшей долей популярных улиц', fontsize=15, pad=15)\n",
    "plt.legend()\n",
    "plt.show()"
   ]
  },
  {
   "cell_type": "markdown",
   "metadata": {},
   "source": [
    "Самыми популярными и насыщенными на рестораны оказались Южный и Юго-Западный административные округа, а вот Центральный этот список замыкает. *может там много административных зданий и не до кафе вовсе?*"
   ]
  },
  {
   "cell_type": "markdown",
   "metadata": {},
   "source": [
    "Стоит проверить, есть ли какие-то тенденции по типам заведений в популярных улицах, или они примерно соответствуют основной выборке?"
   ]
  },
  {
   "cell_type": "code",
   "execution_count": 45,
   "metadata": {},
   "outputs": [
    {
     "data": {
      "image/png": "[encoded data removed]",
      "text/plain": [
       "<Figure size 720x504 with 1 Axes>"
      ]
     },
     "metadata": {},
     "output_type": "display_data"
    }
   ],
   "source": [
    "top_streets_plot = (rest_data_str  # фильтруем дф по популярным улицам\n",
    "                    .query('street in @top')\n",
    "                    .groupby('type', as_index=False)['id'].count()\n",
    "                    .sort_values(by='id', ascending=False)\n",
    "                   )\n",
    "\n",
    "plt.figure(figsize=(10,7))   # строим столбчатый график\n",
    "sns.barplot(x='id', y='type', data=top_streets_plot)\n",
    "plt.ylabel('Типы заведений', fontsize=13)\n",
    "plt.xlabel('Количество заведений', fontsize=13)\n",
    "plt.title('Типы заведений общественного питания на самых популярных улицах', fontsize=15, pad=15)\n",
    "plt.tick_params(axis='y', labelsize = 12)\n",
    "plt.tick_params(axis='x', labelsize = 12)\n",
    "plt.show()"
   ]
  },
  {
   "cell_type": "markdown",
   "metadata": {},
   "source": [
    "Кафе продолжает преобладать над всеми типами заведений, но теперь в тройку вырвались еще и фастфуд-предприятия."
   ]
  },
  {
   "cell_type": "markdown",
   "metadata": {},
   "source": [
    "### Самые непопулярные улицы города"
   ]
  },
  {
   "cell_type": "code",
   "execution_count": 46,
   "metadata": {},
   "outputs": [
    {
     "data": {
      "text/html": [
       "<div>\n",
       "<style scoped>\n",
       "    .dataframe tbody tr th:only-of-type {\n",
       "        vertical-align: middle;\n",
       "    }\n",
       "\n",
       "    .dataframe tbody tr th {\n",
       "        vertical-align: top;\n",
       "    }\n",
       "\n",
       "    .dataframe thead th {\n",
       "        text-align: right;\n",
       "    }\n",
       "</style>\n",
       "<table border=\"1\" class=\"dataframe\">\n",
       "  <thead>\n",
       "    <tr style=\"text-align: right;\">\n",
       "      <th></th>\n",
       "      <th>street</th>\n",
       "      <th>count</th>\n",
       "    </tr>\n",
       "  </thead>\n",
       "  <tbody>\n",
       "    <tr>\n",
       "      <th>0</th>\n",
       "      <td>Перовский проезд</td>\n",
       "      <td>1</td>\n",
       "    </tr>\n",
       "    <tr>\n",
       "      <th>1</th>\n",
       "      <td>переулок Васнецова</td>\n",
       "      <td>1</td>\n",
       "    </tr>\n",
       "    <tr>\n",
       "      <th>2</th>\n",
       "      <td>Ижорский проезд</td>\n",
       "      <td>1</td>\n",
       "    </tr>\n",
       "    <tr>\n",
       "      <th>3</th>\n",
       "      <td>Изваринская улица</td>\n",
       "      <td>1</td>\n",
       "    </tr>\n",
       "    <tr>\n",
       "      <th>4</th>\n",
       "      <td>Известковый переулок</td>\n",
       "      <td>1</td>\n",
       "    </tr>\n",
       "    <tr>\n",
       "      <th>...</th>\n",
       "      <td>...</td>\n",
       "      <td>...</td>\n",
       "    </tr>\n",
       "    <tr>\n",
       "      <th>540</th>\n",
       "      <td>1-й Сетуньский проезд</td>\n",
       "      <td>1</td>\n",
       "    </tr>\n",
       "    <tr>\n",
       "      <th>541</th>\n",
       "      <td>1-й Сельскохозяйственный проезд</td>\n",
       "      <td>1</td>\n",
       "    </tr>\n",
       "    <tr>\n",
       "      <th>542</th>\n",
       "      <td>Большой Афанасьевский переулок</td>\n",
       "      <td>1</td>\n",
       "    </tr>\n",
       "    <tr>\n",
       "      <th>543</th>\n",
       "      <td>Богоявленский переулок</td>\n",
       "      <td>1</td>\n",
       "    </tr>\n",
       "    <tr>\n",
       "      <th>544</th>\n",
       "      <td>1-й Саратовский проезд</td>\n",
       "      <td>1</td>\n",
       "    </tr>\n",
       "  </tbody>\n",
       "</table>\n",
       "<p>545 rows × 2 columns</p>\n",
       "</div>"
      ],
      "text/plain": [
       "                              street  count\n",
       "0                   Перовский проезд      1\n",
       "1                 переулок Васнецова      1\n",
       "2                    Ижорский проезд      1\n",
       "3                  Изваринская улица      1\n",
       "4               Известковый переулок      1\n",
       "..                               ...    ...\n",
       "540            1-й Сетуньский проезд      1\n",
       "541  1-й Сельскохозяйственный проезд      1\n",
       "542   Большой Афанасьевский переулок      1\n",
       "543           Богоявленский переулок      1\n",
       "544           1-й Саратовский проезд      1\n",
       "\n",
       "[545 rows x 2 columns]"
      ]
     },
     "execution_count": 46,
     "metadata": {},
     "output_type": "execute_result"
    }
   ],
   "source": [
    "one_streets = (rest_data_str  # улицы с одним заведением\n",
    "               .groupby('street', as_index=False)['name'].count()\n",
    "               .sort_values(by='name',ascending=True)\n",
    "               .reset_index(drop=True)\n",
    "               .query('name == 1')\n",
    "               .rename(columns={'name': 'count'})\n",
    "              )\n",
    "one_streets     "
   ]
  },
  {
   "cell_type": "markdown",
   "metadata": {},
   "source": [
    "Всего 545 улиц с одним заведением на ней. "
   ]
  },
  {
   "cell_type": "code",
   "execution_count": 47,
   "metadata": {},
   "outputs": [],
   "source": [
    "one_streets = one_streets.merge(district, on='street') # добавляем информацию о районах"
   ]
  },
  {
   "cell_type": "code",
   "execution_count": 48,
   "metadata": {
    "scrolled": false
   },
   "outputs": [
    {
     "data": {
      "image/png": "[encoded data removed]",
      "text/plain": [
       "<Figure size 720x504 with 1 Axes>"
      ]
     },
     "metadata": {},
     "output_type": "display_data"
    }
   ],
   "source": [
    "one_streets_plot = (one_streets   # группируем информацию для графика по округу и количеству одиноких улиц\n",
    "                    .groupby(['divisions'], as_index=False)\n",
    "                    .agg({'street': 'count'})\n",
    "                    .sort_values(by='street', ascending=False)\n",
    "                   )\n",
    "\n",
    "plt.figure(figsize=(10,7))\n",
    "sns.barplot(x='divisions', y='street', data=one_streets_plot)\n",
    "plt.xlabel('Административные округа', fontsize=13)\n",
    "plt.ylabel('Количество заведений', fontsize=13)\n",
    "plt.title('Количество улиц с одним заведением в административных округах', fontsize=15, pad=15)\n",
    "plt.tick_params(axis='y', labelsize = 12)\n",
    "plt.tick_params(axis='x', labelsize = 12, labelrotation = 20)\n",
    "plt.show()"
   ]
  },
  {
   "cell_type": "code",
   "execution_count": 49,
   "metadata": {},
   "outputs": [
    {
     "data": {
      "text/plain": [
       "divisions  district            \n",
       "ЦАО        Басманный район         26\n",
       "           Таганский район         26\n",
       "           Район Хамовники         26\n",
       "           Тверской район          21\n",
       "           Пресненский район       20\n",
       "СВАО       Район Марьина роща      18\n",
       "ЦАО        Район Арбат             18\n",
       "           Мещанский район         16\n",
       "           Район Замоскворечье     14\n",
       "ЮВАО       Район Лефортово         12\n",
       "ЮАО        Даниловский район       12\n",
       "ВАО        Район Соколиная Гора    12\n",
       "ЦАО        Район Якиманка          11\n",
       "ВАО        Район Сокольники        11\n",
       "           Район Богородское       10\n",
       "ЗАО        Район Внуково            9\n",
       "ЮЗАО       Район Южное Бутово       9\n",
       "ЮВАО       Нижегородский район      9\n",
       "ЦАО        Красносельский район     9\n",
       "САО        Район Аэропорт           8\n",
       "Name: street, dtype: int64"
      ]
     },
     "execution_count": 49,
     "metadata": {},
     "output_type": "execute_result"
    }
   ],
   "source": [
    "one_streets.groupby(['divisions','district'])['street'].count().sort_values(ascending=False).head(20)"
   ]
  },
  {
   "cell_type": "markdown",
   "metadata": {},
   "source": [
    "Больше всего одиноких улиц в районах Басманный, Таганский, Пресненский и Хамовники."
   ]
  },
  {
   "cell_type": "markdown",
   "metadata": {},
   "source": [
    "Конечно, сложно судить человеку не из Москвы и без привязки местоположения каждого предприятия на карте, однако **в Центральном округе находится больше всего улиц с одним заведением**, а самые популярные районы, Южный и Юго-Западный, на этом графике почти замыкают список. Думаю, здесь еще не хватает информации, какая конкретно протяженность у этих улиц, быть может они совсем небольшие, тогда как популярные проспекты пересекают чуть ли не половину Москвы и ожидаемо имеют больше заведений."
   ]
  },
  {
   "cell_type": "markdown",
   "metadata": {},
   "source": [
    "## Выводы"
   ]
  },
  {
   "cell_type": "markdown",
   "metadata": {},
   "source": [
    "Подведем итоги работы и составим общие рекомендации о виде заведения, количестве посадочных мест, предполагаемом районе расположения, а также оценим возможность развития сети.\n",
    "\n",
    "1. Изучив предоставленные данные, мы обнаружили, что **наибольшее количество объектов общественного питания составляют кафе с большим отрывом (39,6%)**, затем столовые и рестораны (17%  и 15% соответственно). \n",
    "2. **Доля сетевых заведений невелика** и составляет всего 19,4% от общего числа. В сетевых предприятиях довольно популярны предприятия общественного питания, кафе и рестораны.\n",
    "3. После анализа распределения среднего числа посадочных мест, можно сказать, что **для сетевых заведений чаще всего характерно наличие малого числа точек с большой рассадкой** (в нашем случае это от 40 мест и больше). В Москве преобладают небольшие сети: не больше 90% предприятий имеют больше 8 заведений.\n",
    "4. Столовые среди всех типов предприятий имеют самую большую посадку (130 мест), кафе - в среднем сорок мест. У предприятий общественного питания есть большая разница между сетевыми и несетевыми: первые в среднем имеют небольшое помещение и посадочные места, а вот вторые чаще работают навынос.\n",
    "5. **Самые популярные улицы по количеству заведений:**\n",
    "    * проспект Мира\n",
    "    * Профсоюзная улица\n",
    "    * Ленинградский проспект\n",
    "    * Пресненская набережная\n",
    "    * Варшавское шоссе\n",
    "    * Ленинский проспект\n",
    "    * проспект Вернандского\n",
    "    * Кутузовский проспект\n",
    "    * Каширское шоссе\n",
    "    * Кировоградская улица\n",
    "    \n",
    "    Почти все они имеют большую протяженность и пересекают несколько районов Москвы. **Южный и Юго-Западный административные округа имеют больше всего заведений.**\n",
    "6. Есть улицы, на которых расположилось всего одного заведение общественного питания: таких мы обнаружили **545** штук. Примечательно, что большая часть из них находится в Центральном административном округе, сердце Москвы.\n",
    "\n",
    "Что касается рекомендаций, то они будут лишь *общего характера*, так как у нас нет информации об ожидаемом объеме инвестирования, нет бизнес-плана и стратегии развития будущего бизнеса. Можно лишь отметить, что самым удобным форматом заведения будет скорее всего **кафе или предприятие быстрого обслуживания**, нет смысла гнаться за большим помещением и огромной рассадкой, лучше сконцентрироваться на средних показателях в 30 мест; так как гостей должны обслуживать роботы, формат ресторана для этого подходит мало. Хорошим выбором будет ориентироваться на столовую, гостям будет интересен процесс обслуживания, организовать процесс роботизированной выдачи будет проще (но это уже нюансы работы самих роботов, нам они неизвестны). \n",
    "\n",
    "Если будущий бизнес ориентируется на высокий чек, то вариант с кафе предпочтительнее: это будет своего рода небольшой перфоманс в центре города. Для подобных оценок как раз бы пригодился бизнес-план.\n",
    "\n",
    "Что касается месторасположения, то оно **сильно зависит от возможностей аренды или покупки помещения, а значит и от финансирования**. Мы не знаем никаких примерных цифр, поэтому в равной степени можно предложить и центр города, и варианты поотдаленнее. Если же мыслить гипотетически, то было бы интересным вариантом выбрать **Центральный административный округ**, в нем есть множество улиц с всего одним предприятием, а с учетом уникальной идеи стартапа конкурентов будет немного. К тому же это будет недалеко находиться от главных туристических маршрутов, возможно такой вариант как раз привлек бы туристов. Располагаться в глубине района или во дворах скорее всего не рассматривается, поэтому неплохим выбором станет **Пресненская набережная (наверно, самый престижный вариант), проспект Мира.**\n",
    "\n",
    "Если бизнес рассчитывает на сетевую модель развития, то есть смысл начинать не с центра, а издалека, например с **Ленинградского проспекта в Северном округе и недалеко от него**. \n",
    "\n",
    "В любом случае, более глубокие рекомендации, как уже было сказано, сильно зависят от ожиданий бизнеса, его плана развития, определения точки окупаемости, уровня финансирования и концепции в целом."
   ]
  }
 ],
 "metadata": {
  "ExecuteTimeLog": [
   {
    "duration": 1444,
    "start_time": "2022-06-25T19:05:39.451Z"
   },
   {
    "duration": 95,
    "start_time": "2022-06-25T19:05:45.889Z"
   },
   {
    "duration": 688,
    "start_time": "2022-06-25T19:07:39.287Z"
   },
   {
    "duration": 19,
    "start_time": "2022-06-25T19:08:40.393Z"
   },
   {
    "duration": 21,
    "start_time": "2022-06-25T19:08:45.453Z"
   },
   {
    "duration": 22,
    "start_time": "2022-06-25T19:17:27.643Z"
   },
   {
    "duration": 19,
    "start_time": "2022-06-25T19:17:35.963Z"
   },
   {
    "duration": 9,
    "start_time": "2022-06-25T19:18:30.690Z"
   },
   {
    "duration": 12,
    "start_time": "2022-06-25T19:18:34.458Z"
   },
   {
    "duration": 14,
    "start_time": "2022-06-25T19:19:02.521Z"
   },
   {
    "duration": 66,
    "start_time": "2022-06-25T19:23:19.644Z"
   },
   {
    "duration": 92,
    "start_time": "2022-06-25T19:23:26.619Z"
   },
   {
    "duration": 36,
    "start_time": "2022-06-25T19:24:47.336Z"
   },
   {
    "duration": 31,
    "start_time": "2022-06-25T19:25:51.071Z"
   },
   {
    "duration": 18,
    "start_time": "2022-06-25T19:25:55.552Z"
   },
   {
    "duration": 14,
    "start_time": "2022-06-25T19:26:08.759Z"
   },
   {
    "duration": 4,
    "start_time": "2022-06-25T19:26:14.764Z"
   },
   {
    "duration": 88,
    "start_time": "2022-06-25T19:26:14.770Z"
   },
   {
    "duration": 54,
    "start_time": "2022-06-25T19:26:14.859Z"
   },
   {
    "duration": 40,
    "start_time": "2022-06-25T19:26:14.915Z"
   },
   {
    "duration": 24,
    "start_time": "2022-06-25T19:26:14.959Z"
   },
   {
    "duration": 15,
    "start_time": "2022-06-25T19:26:20.170Z"
   },
   {
    "duration": 15,
    "start_time": "2022-06-25T19:26:28.450Z"
   },
   {
    "duration": 6,
    "start_time": "2022-06-25T19:26:39.062Z"
   },
   {
    "duration": 4,
    "start_time": "2022-06-25T19:26:51.109Z"
   },
   {
    "duration": 4,
    "start_time": "2022-06-25T19:27:26.275Z"
   },
   {
    "duration": 95,
    "start_time": "2022-06-25T19:27:26.281Z"
   },
   {
    "duration": 65,
    "start_time": "2022-06-25T19:27:26.377Z"
   },
   {
    "duration": 16,
    "start_time": "2022-06-25T19:27:26.445Z"
   },
   {
    "duration": 34,
    "start_time": "2022-06-25T19:27:26.463Z"
   },
   {
    "duration": 10,
    "start_time": "2022-06-25T19:27:26.499Z"
   },
   {
    "duration": 22,
    "start_time": "2022-06-25T19:27:48.258Z"
   },
   {
    "duration": 3,
    "start_time": "2022-06-25T19:27:50.445Z"
   },
   {
    "duration": 101,
    "start_time": "2022-06-25T19:27:50.450Z"
   },
   {
    "duration": 55,
    "start_time": "2022-06-25T19:27:50.552Z"
   },
   {
    "duration": 33,
    "start_time": "2022-06-25T19:27:50.609Z"
   },
   {
    "duration": 109,
    "start_time": "2022-06-25T19:27:50.644Z"
   },
   {
    "duration": 86,
    "start_time": "2022-06-25T19:27:53.211Z"
   },
   {
    "duration": 9,
    "start_time": "2022-06-25T19:28:37.654Z"
   },
   {
    "duration": 9,
    "start_time": "2022-06-25T19:28:40.147Z"
   },
   {
    "duration": 5,
    "start_time": "2022-06-25T19:29:03.622Z"
   },
   {
    "duration": 4,
    "start_time": "2022-06-25T19:29:20.656Z"
   },
   {
    "duration": 61,
    "start_time": "2022-06-25T19:35:43.407Z"
   },
   {
    "duration": 10,
    "start_time": "2022-06-25T19:36:35.675Z"
   },
   {
    "duration": 8,
    "start_time": "2022-06-25T19:36:43.002Z"
   },
   {
    "duration": 71,
    "start_time": "2022-06-25T19:37:50.506Z"
   },
   {
    "duration": 5354,
    "start_time": "2022-06-25T19:37:57.979Z"
   },
   {
    "duration": 1601,
    "start_time": "2022-06-25T19:38:23.278Z"
   },
   {
    "duration": 16,
    "start_time": "2022-06-25T19:40:51.715Z"
   },
   {
    "duration": 10,
    "start_time": "2022-06-25T19:40:56.860Z"
   },
   {
    "duration": 9,
    "start_time": "2022-06-25T19:41:00.727Z"
   },
   {
    "duration": 102,
    "start_time": "2022-06-25T19:45:26.547Z"
   },
   {
    "duration": 146,
    "start_time": "2022-06-25T19:46:02.278Z"
   },
   {
    "duration": 31,
    "start_time": "2022-06-25T19:49:05.233Z"
   },
   {
    "duration": 116,
    "start_time": "2022-06-25T19:49:21.450Z"
   },
   {
    "duration": 36,
    "start_time": "2022-06-25T19:49:25.624Z"
   },
   {
    "duration": 13,
    "start_time": "2022-06-25T19:49:33.199Z"
   },
   {
    "duration": 12,
    "start_time": "2022-06-25T19:49:54.683Z"
   },
   {
    "duration": 15,
    "start_time": "2022-06-25T19:50:20.134Z"
   },
   {
    "duration": 3,
    "start_time": "2022-06-25T19:50:26.763Z"
   },
   {
    "duration": 91,
    "start_time": "2022-06-25T19:50:26.769Z"
   },
   {
    "duration": 112,
    "start_time": "2022-06-25T19:50:26.862Z"
   },
   {
    "duration": 27,
    "start_time": "2022-06-25T19:50:26.976Z"
   },
   {
    "duration": 8,
    "start_time": "2022-06-25T19:50:27.005Z"
   },
   {
    "duration": 11,
    "start_time": "2022-06-25T19:51:04.235Z"
   },
   {
    "duration": 5,
    "start_time": "2022-06-25T19:51:13.671Z"
   },
   {
    "duration": 9,
    "start_time": "2022-06-25T19:51:57.176Z"
   },
   {
    "duration": 11,
    "start_time": "2022-06-25T19:52:03.564Z"
   },
   {
    "duration": 29,
    "start_time": "2022-06-25T19:52:08.566Z"
   },
   {
    "duration": 8,
    "start_time": "2022-06-25T19:52:13.256Z"
   },
   {
    "duration": 9,
    "start_time": "2022-06-25T19:52:28.744Z"
   },
   {
    "duration": 9,
    "start_time": "2022-06-25T19:52:33.042Z"
   },
   {
    "duration": 1360,
    "start_time": "2022-06-26T12:23:26.828Z"
   },
   {
    "duration": 133,
    "start_time": "2022-06-26T12:23:28.190Z"
   },
   {
    "duration": 118,
    "start_time": "2022-06-26T12:23:28.325Z"
   },
   {
    "duration": 22,
    "start_time": "2022-06-26T12:23:28.445Z"
   },
   {
    "duration": 3,
    "start_time": "2022-06-26T12:23:39.300Z"
   },
   {
    "duration": 78,
    "start_time": "2022-06-26T12:23:54.000Z"
   },
   {
    "duration": 15,
    "start_time": "2022-06-26T12:25:32.248Z"
   },
   {
    "duration": 20,
    "start_time": "2022-06-26T12:27:11.332Z"
   },
   {
    "duration": 89,
    "start_time": "2022-06-26T12:27:32.784Z"
   },
   {
    "duration": 9,
    "start_time": "2022-06-26T12:27:35.740Z"
   },
   {
    "duration": 11,
    "start_time": "2022-06-26T12:28:18.868Z"
   },
   {
    "duration": 11,
    "start_time": "2022-06-26T12:28:23.373Z"
   },
   {
    "duration": 11,
    "start_time": "2022-06-26T12:28:27.720Z"
   },
   {
    "duration": 11,
    "start_time": "2022-06-26T12:28:34.657Z"
   },
   {
    "duration": 5,
    "start_time": "2022-06-26T12:29:07.372Z"
   },
   {
    "duration": 17,
    "start_time": "2022-06-26T12:29:11.245Z"
   },
   {
    "duration": 6,
    "start_time": "2022-06-26T12:29:23.596Z"
   },
   {
    "duration": 1609,
    "start_time": "2022-06-26T12:29:43.982Z"
   },
   {
    "duration": 6,
    "start_time": "2022-06-26T12:29:53.716Z"
   },
   {
    "duration": 6,
    "start_time": "2022-06-26T12:30:14.656Z"
   },
   {
    "duration": 18,
    "start_time": "2022-06-26T12:31:30.661Z"
   },
   {
    "duration": 19,
    "start_time": "2022-06-26T12:31:37.773Z"
   },
   {
    "duration": 86,
    "start_time": "2022-06-26T12:31:56.328Z"
   },
   {
    "duration": 25,
    "start_time": "2022-06-26T12:32:09.912Z"
   },
   {
    "duration": 13,
    "start_time": "2022-06-26T12:32:11.929Z"
   },
   {
    "duration": 18,
    "start_time": "2022-06-26T12:32:29.381Z"
   },
   {
    "duration": 3,
    "start_time": "2022-06-26T12:37:51.304Z"
   },
   {
    "duration": 73,
    "start_time": "2022-06-26T12:37:51.309Z"
   },
   {
    "duration": 12,
    "start_time": "2022-06-26T12:37:51.384Z"
   },
   {
    "duration": 20,
    "start_time": "2022-06-26T12:37:51.397Z"
   },
   {
    "duration": 6,
    "start_time": "2022-06-26T12:37:51.419Z"
   },
   {
    "duration": 7,
    "start_time": "2022-06-26T12:38:08.788Z"
   },
   {
    "duration": 3,
    "start_time": "2022-06-26T12:39:49.229Z"
   },
   {
    "duration": 16,
    "start_time": "2022-06-26T12:39:53.180Z"
   },
   {
    "duration": 1882,
    "start_time": "2022-06-26T12:39:54.424Z"
   },
   {
    "duration": 6,
    "start_time": "2022-06-26T12:39:58.896Z"
   },
   {
    "duration": 7,
    "start_time": "2022-06-26T12:40:28.368Z"
   },
   {
    "duration": 8,
    "start_time": "2022-06-26T12:42:04.604Z"
   },
   {
    "duration": 4,
    "start_time": "2022-06-26T12:42:21.338Z"
   },
   {
    "duration": 7,
    "start_time": "2022-06-26T12:42:24.304Z"
   },
   {
    "duration": 175,
    "start_time": "2022-06-26T12:42:51.705Z"
   },
   {
    "duration": 4,
    "start_time": "2022-06-26T12:43:04.808Z"
   },
   {
    "duration": 101,
    "start_time": "2022-06-26T12:43:25.537Z"
   },
   {
    "duration": 13,
    "start_time": "2022-06-26T12:43:30.996Z"
   },
   {
    "duration": 4,
    "start_time": "2022-06-26T12:44:19.388Z"
   },
   {
    "duration": 7,
    "start_time": "2022-06-26T12:44:27.088Z"
   },
   {
    "duration": 11,
    "start_time": "2022-06-26T12:45:25.342Z"
   },
   {
    "duration": 8,
    "start_time": "2022-06-26T12:45:46.848Z"
   },
   {
    "duration": 5,
    "start_time": "2022-06-26T12:46:52.908Z"
   },
   {
    "duration": 6,
    "start_time": "2022-06-26T12:46:57.160Z"
   },
   {
    "duration": 23,
    "start_time": "2022-06-26T12:47:33.924Z"
   },
   {
    "duration": 12,
    "start_time": "2022-06-26T12:47:44.572Z"
   },
   {
    "duration": 11,
    "start_time": "2022-06-26T12:48:16.225Z"
   },
   {
    "duration": 20,
    "start_time": "2022-06-26T12:49:10.461Z"
   },
   {
    "duration": 13,
    "start_time": "2022-06-26T12:49:17.704Z"
   },
   {
    "duration": 13,
    "start_time": "2022-06-26T12:49:20.644Z"
   },
   {
    "duration": 4,
    "start_time": "2022-06-26T12:49:31.068Z"
   },
   {
    "duration": 12,
    "start_time": "2022-06-26T12:49:38.701Z"
   },
   {
    "duration": 13,
    "start_time": "2022-06-26T12:49:47.968Z"
   },
   {
    "duration": 14,
    "start_time": "2022-06-26T12:50:14.685Z"
   },
   {
    "duration": 16,
    "start_time": "2022-06-26T12:51:00.605Z"
   },
   {
    "duration": 14,
    "start_time": "2022-06-26T12:51:16.846Z"
   },
   {
    "duration": 8,
    "start_time": "2022-06-26T12:52:06.393Z"
   },
   {
    "duration": 13,
    "start_time": "2022-06-26T12:52:50.480Z"
   },
   {
    "duration": 21,
    "start_time": "2022-06-26T12:52:54.920Z"
   },
   {
    "duration": 9,
    "start_time": "2022-06-26T12:53:14.804Z"
   },
   {
    "duration": 9,
    "start_time": "2022-06-26T12:53:42.196Z"
   },
   {
    "duration": 9,
    "start_time": "2022-06-26T12:54:03.000Z"
   },
   {
    "duration": 13,
    "start_time": "2022-06-26T12:54:36.246Z"
   },
   {
    "duration": 15,
    "start_time": "2022-06-26T12:54:46.382Z"
   },
   {
    "duration": 11,
    "start_time": "2022-06-26T12:55:57.992Z"
   },
   {
    "duration": 8,
    "start_time": "2022-06-26T12:56:34.916Z"
   },
   {
    "duration": 8,
    "start_time": "2022-06-26T12:56:46.065Z"
   },
   {
    "duration": 9,
    "start_time": "2022-06-26T12:56:51.465Z"
   },
   {
    "duration": 8,
    "start_time": "2022-06-26T12:57:02.916Z"
   },
   {
    "duration": 8,
    "start_time": "2022-06-26T12:57:58.451Z"
   },
   {
    "duration": 20,
    "start_time": "2022-06-26T13:00:24.320Z"
   },
   {
    "duration": 13,
    "start_time": "2022-06-26T13:01:28.308Z"
   },
   {
    "duration": 13,
    "start_time": "2022-06-26T13:01:35.668Z"
   },
   {
    "duration": 1359,
    "start_time": "2022-06-26T13:01:56.864Z"
   },
   {
    "duration": 341,
    "start_time": "2022-06-26T13:02:08.912Z"
   },
   {
    "duration": 9,
    "start_time": "2022-06-26T13:02:15.868Z"
   },
   {
    "duration": 15,
    "start_time": "2022-06-26T13:02:17.238Z"
   },
   {
    "duration": 10,
    "start_time": "2022-06-26T13:03:49.492Z"
   },
   {
    "duration": 19,
    "start_time": "2022-06-26T13:03:56.137Z"
   },
   {
    "duration": 16,
    "start_time": "2022-06-26T13:03:59.096Z"
   },
   {
    "duration": 13,
    "start_time": "2022-06-26T13:04:03.501Z"
   },
   {
    "duration": 16,
    "start_time": "2022-06-26T13:04:16.160Z"
   },
   {
    "duration": 9,
    "start_time": "2022-06-26T13:04:34.400Z"
   },
   {
    "duration": 19,
    "start_time": "2022-06-26T13:04:46.468Z"
   },
   {
    "duration": 12,
    "start_time": "2022-06-26T13:05:42.728Z"
   },
   {
    "duration": 13,
    "start_time": "2022-06-26T13:05:43.848Z"
   },
   {
    "duration": 134,
    "start_time": "2022-06-26T13:06:46.928Z"
   },
   {
    "duration": 13,
    "start_time": "2022-06-26T13:06:53.357Z"
   },
   {
    "duration": 12,
    "start_time": "2022-06-26T13:06:54.189Z"
   },
   {
    "duration": 15,
    "start_time": "2022-06-26T13:07:39.436Z"
   },
   {
    "duration": 14,
    "start_time": "2022-06-26T13:07:40.144Z"
   },
   {
    "duration": 19,
    "start_time": "2022-06-26T13:07:59.660Z"
   },
   {
    "duration": 17,
    "start_time": "2022-06-26T13:08:00.817Z"
   },
   {
    "duration": 16,
    "start_time": "2022-06-26T13:08:14.461Z"
   },
   {
    "duration": 14,
    "start_time": "2022-06-26T13:08:14.937Z"
   },
   {
    "duration": 31,
    "start_time": "2022-06-26T13:08:47.152Z"
   },
   {
    "duration": 24,
    "start_time": "2022-06-26T13:09:28.948Z"
   },
   {
    "duration": 451,
    "start_time": "2022-06-26T13:09:31.996Z"
   },
   {
    "duration": 4,
    "start_time": "2022-06-26T13:09:34.309Z"
   },
   {
    "duration": 25,
    "start_time": "2022-06-26T13:09:42.872Z"
   },
   {
    "duration": 6,
    "start_time": "2022-06-26T13:09:43.392Z"
   },
   {
    "duration": 14,
    "start_time": "2022-06-26T13:12:31.868Z"
   },
   {
    "duration": 8,
    "start_time": "2022-06-26T13:12:44.855Z"
   },
   {
    "duration": 12,
    "start_time": "2022-06-26T13:12:47.473Z"
   },
   {
    "duration": 5,
    "start_time": "2022-06-26T13:13:34.506Z"
   },
   {
    "duration": 13,
    "start_time": "2022-06-26T13:13:38.713Z"
   },
   {
    "duration": 16,
    "start_time": "2022-06-26T13:13:55.627Z"
   },
   {
    "duration": 22,
    "start_time": "2022-06-26T13:14:24.593Z"
   },
   {
    "duration": 8,
    "start_time": "2022-06-26T13:15:31.492Z"
   },
   {
    "duration": 26,
    "start_time": "2022-06-26T13:15:33.412Z"
   },
   {
    "duration": 6,
    "start_time": "2022-06-26T13:15:42.942Z"
   },
   {
    "duration": 14,
    "start_time": "2022-06-26T13:15:50.636Z"
   },
   {
    "duration": 4,
    "start_time": "2022-06-26T13:15:56.042Z"
   },
   {
    "duration": 7,
    "start_time": "2022-06-26T13:16:07.972Z"
   },
   {
    "duration": 7,
    "start_time": "2022-06-26T13:16:11.596Z"
   },
   {
    "duration": 5,
    "start_time": "2022-06-26T13:16:20.452Z"
   },
   {
    "duration": 7,
    "start_time": "2022-06-26T13:16:26.480Z"
   },
   {
    "duration": 7,
    "start_time": "2022-06-26T13:16:52.276Z"
   },
   {
    "duration": 8,
    "start_time": "2022-06-26T13:16:56.472Z"
   },
   {
    "duration": 4,
    "start_time": "2022-06-26T13:16:58.699Z"
   },
   {
    "duration": 3,
    "start_time": "2022-06-26T13:17:05.111Z"
   },
   {
    "duration": 134,
    "start_time": "2022-06-26T13:17:05.116Z"
   },
   {
    "duration": 14,
    "start_time": "2022-06-26T13:17:05.252Z"
   },
   {
    "duration": 5,
    "start_time": "2022-06-26T13:17:05.268Z"
   },
   {
    "duration": 6,
    "start_time": "2022-06-26T13:17:05.275Z"
   },
   {
    "duration": 7,
    "start_time": "2022-06-26T13:17:05.283Z"
   },
   {
    "duration": 8,
    "start_time": "2022-06-26T13:17:05.292Z"
   },
   {
    "duration": 12,
    "start_time": "2022-06-26T13:17:05.301Z"
   },
   {
    "duration": 22,
    "start_time": "2022-06-26T13:17:05.314Z"
   },
   {
    "duration": 17,
    "start_time": "2022-06-26T13:17:05.339Z"
   },
   {
    "duration": 24,
    "start_time": "2022-06-26T13:17:05.358Z"
   },
   {
    "duration": 47,
    "start_time": "2022-06-26T13:17:05.384Z"
   },
   {
    "duration": 8,
    "start_time": "2022-06-26T13:17:05.435Z"
   },
   {
    "duration": 12,
    "start_time": "2022-06-26T13:17:05.445Z"
   },
   {
    "duration": 14,
    "start_time": "2022-06-26T13:17:40.446Z"
   },
   {
    "duration": 7,
    "start_time": "2022-06-26T13:17:47.708Z"
   },
   {
    "duration": 3,
    "start_time": "2022-06-26T13:17:51.493Z"
   },
   {
    "duration": 94,
    "start_time": "2022-06-26T13:17:51.497Z"
   },
   {
    "duration": 13,
    "start_time": "2022-06-26T13:17:51.593Z"
   },
   {
    "duration": 5,
    "start_time": "2022-06-26T13:17:51.608Z"
   },
   {
    "duration": 13,
    "start_time": "2022-06-26T13:17:51.615Z"
   },
   {
    "duration": 29,
    "start_time": "2022-06-26T13:17:51.631Z"
   },
   {
    "duration": 7,
    "start_time": "2022-06-26T13:17:51.662Z"
   },
   {
    "duration": 10,
    "start_time": "2022-06-26T13:17:51.671Z"
   },
   {
    "duration": 15,
    "start_time": "2022-06-26T13:17:51.683Z"
   },
   {
    "duration": 12,
    "start_time": "2022-06-26T13:17:51.700Z"
   },
   {
    "duration": 32,
    "start_time": "2022-06-26T13:17:51.724Z"
   },
   {
    "duration": 22,
    "start_time": "2022-06-26T13:17:51.758Z"
   },
   {
    "duration": 6,
    "start_time": "2022-06-26T13:17:51.781Z"
   },
   {
    "duration": 8,
    "start_time": "2022-06-26T13:17:51.789Z"
   },
   {
    "duration": 12,
    "start_time": "2022-06-26T13:18:01.125Z"
   },
   {
    "duration": 135,
    "start_time": "2022-06-26T13:18:01.146Z"
   },
   {
    "duration": 11,
    "start_time": "2022-06-26T13:18:01.283Z"
   },
   {
    "duration": 15,
    "start_time": "2022-06-26T13:18:01.296Z"
   },
   {
    "duration": 40,
    "start_time": "2022-06-26T13:18:01.313Z"
   },
   {
    "duration": 12,
    "start_time": "2022-06-26T13:18:01.355Z"
   },
   {
    "duration": 13,
    "start_time": "2022-06-26T13:18:01.369Z"
   },
   {
    "duration": 11,
    "start_time": "2022-06-26T13:18:01.384Z"
   },
   {
    "duration": 14,
    "start_time": "2022-06-26T13:18:01.396Z"
   },
   {
    "duration": 11,
    "start_time": "2022-06-26T13:18:01.412Z"
   },
   {
    "duration": 25,
    "start_time": "2022-06-26T13:18:01.425Z"
   },
   {
    "duration": 23,
    "start_time": "2022-06-26T13:18:01.452Z"
   },
   {
    "duration": 6,
    "start_time": "2022-06-26T13:18:03.268Z"
   },
   {
    "duration": 11,
    "start_time": "2022-06-26T13:18:11.772Z"
   },
   {
    "duration": 7,
    "start_time": "2022-06-26T13:18:18.157Z"
   },
   {
    "duration": 11,
    "start_time": "2022-06-26T13:18:41.341Z"
   },
   {
    "duration": 6,
    "start_time": "2022-06-26T13:22:14.856Z"
   },
   {
    "duration": 6,
    "start_time": "2022-06-26T13:22:23.300Z"
   },
   {
    "duration": 11,
    "start_time": "2022-06-26T13:22:34.688Z"
   },
   {
    "duration": 4,
    "start_time": "2022-06-26T13:24:15.548Z"
   },
   {
    "duration": 5,
    "start_time": "2022-06-26T13:24:33.515Z"
   },
   {
    "duration": 6,
    "start_time": "2022-06-26T13:24:35.797Z"
   },
   {
    "duration": 4,
    "start_time": "2022-06-26T13:27:12.356Z"
   },
   {
    "duration": 82,
    "start_time": "2022-06-26T13:27:24.096Z"
   },
   {
    "duration": 9,
    "start_time": "2022-06-26T13:27:56.256Z"
   },
   {
    "duration": 8,
    "start_time": "2022-06-26T13:30:50.840Z"
   },
   {
    "duration": 5,
    "start_time": "2022-06-26T13:31:00.020Z"
   },
   {
    "duration": 4,
    "start_time": "2022-06-26T13:31:21.069Z"
   },
   {
    "duration": 5,
    "start_time": "2022-06-26T13:31:30.224Z"
   },
   {
    "duration": 4,
    "start_time": "2022-06-26T13:31:33.912Z"
   },
   {
    "duration": 4,
    "start_time": "2022-06-26T13:31:39.837Z"
   },
   {
    "duration": 4,
    "start_time": "2022-06-26T13:31:44.764Z"
   },
   {
    "duration": 6,
    "start_time": "2022-06-26T13:32:27.024Z"
   },
   {
    "duration": 3,
    "start_time": "2022-06-26T13:32:31.712Z"
   },
   {
    "duration": 6,
    "start_time": "2022-06-26T13:32:33.984Z"
   },
   {
    "duration": 6,
    "start_time": "2022-06-26T13:32:38.291Z"
   },
   {
    "duration": 21,
    "start_time": "2022-06-26T13:33:06.976Z"
   },
   {
    "duration": 8,
    "start_time": "2022-06-26T13:33:15.847Z"
   },
   {
    "duration": 12,
    "start_time": "2022-06-26T13:33:20.140Z"
   },
   {
    "duration": 8,
    "start_time": "2022-06-26T13:33:38.944Z"
   },
   {
    "duration": 3,
    "start_time": "2022-06-26T13:34:13.412Z"
   },
   {
    "duration": 73,
    "start_time": "2022-06-26T13:34:13.417Z"
   },
   {
    "duration": 13,
    "start_time": "2022-06-26T13:34:13.492Z"
   },
   {
    "duration": 5,
    "start_time": "2022-06-26T13:34:13.507Z"
   },
   {
    "duration": 6,
    "start_time": "2022-06-26T13:34:13.515Z"
   },
   {
    "duration": 6,
    "start_time": "2022-06-26T13:34:13.525Z"
   },
   {
    "duration": 5,
    "start_time": "2022-06-26T13:34:13.533Z"
   },
   {
    "duration": 9,
    "start_time": "2022-06-26T13:34:13.540Z"
   },
   {
    "duration": 11,
    "start_time": "2022-06-26T13:34:13.550Z"
   },
   {
    "duration": 8,
    "start_time": "2022-06-26T13:34:13.563Z"
   },
   {
    "duration": 17,
    "start_time": "2022-06-26T13:34:13.572Z"
   },
   {
    "duration": 22,
    "start_time": "2022-06-26T13:34:13.624Z"
   },
   {
    "duration": 6,
    "start_time": "2022-06-26T13:34:13.648Z"
   },
   {
    "duration": 13,
    "start_time": "2022-06-26T13:34:13.655Z"
   },
   {
    "duration": 9,
    "start_time": "2022-06-26T13:34:45.444Z"
   },
   {
    "duration": 13,
    "start_time": "2022-06-26T13:34:48.147Z"
   },
   {
    "duration": 3,
    "start_time": "2022-06-26T13:34:54.871Z"
   },
   {
    "duration": 73,
    "start_time": "2022-06-26T13:34:54.877Z"
   },
   {
    "duration": 12,
    "start_time": "2022-06-26T13:34:54.952Z"
   },
   {
    "duration": 5,
    "start_time": "2022-06-26T13:34:54.965Z"
   },
   {
    "duration": 8,
    "start_time": "2022-06-26T13:34:54.971Z"
   },
   {
    "duration": 7,
    "start_time": "2022-06-26T13:34:54.981Z"
   },
   {
    "duration": 5,
    "start_time": "2022-06-26T13:34:54.989Z"
   },
   {
    "duration": 10,
    "start_time": "2022-06-26T13:34:54.995Z"
   },
   {
    "duration": 13,
    "start_time": "2022-06-26T13:34:55.026Z"
   },
   {
    "duration": 9,
    "start_time": "2022-06-26T13:34:55.040Z"
   },
   {
    "duration": 17,
    "start_time": "2022-06-26T13:34:55.050Z"
   },
   {
    "duration": 21,
    "start_time": "2022-06-26T13:34:55.068Z"
   },
   {
    "duration": 39,
    "start_time": "2022-06-26T13:34:55.091Z"
   },
   {
    "duration": 14,
    "start_time": "2022-06-26T13:34:55.131Z"
   },
   {
    "duration": 3,
    "start_time": "2022-06-26T13:35:13.920Z"
   },
   {
    "duration": 79,
    "start_time": "2022-06-26T13:35:13.925Z"
   },
   {
    "duration": 13,
    "start_time": "2022-06-26T13:35:14.006Z"
   },
   {
    "duration": 8,
    "start_time": "2022-06-26T13:35:14.020Z"
   },
   {
    "duration": 9,
    "start_time": "2022-06-26T13:35:14.031Z"
   },
   {
    "duration": 8,
    "start_time": "2022-06-26T13:35:14.041Z"
   },
   {
    "duration": 6,
    "start_time": "2022-06-26T13:35:14.050Z"
   },
   {
    "duration": 10,
    "start_time": "2022-06-26T13:35:14.057Z"
   },
   {
    "duration": 11,
    "start_time": "2022-06-26T13:35:14.068Z"
   },
   {
    "duration": 9,
    "start_time": "2022-06-26T13:35:14.080Z"
   },
   {
    "duration": 43,
    "start_time": "2022-06-26T13:35:14.091Z"
   },
   {
    "duration": 25,
    "start_time": "2022-06-26T13:35:14.136Z"
   },
   {
    "duration": 10,
    "start_time": "2022-06-26T13:35:14.162Z"
   },
   {
    "duration": 13,
    "start_time": "2022-06-26T13:35:14.174Z"
   },
   {
    "duration": 12,
    "start_time": "2022-06-26T13:37:10.576Z"
   },
   {
    "duration": 13,
    "start_time": "2022-06-26T13:37:26.627Z"
   },
   {
    "duration": 9,
    "start_time": "2022-06-26T13:37:43.944Z"
   },
   {
    "duration": 207,
    "start_time": "2022-06-26T13:38:29.923Z"
   },
   {
    "duration": 11,
    "start_time": "2022-06-26T13:39:17.455Z"
   },
   {
    "duration": 10,
    "start_time": "2022-06-26T13:39:20.271Z"
   },
   {
    "duration": 6,
    "start_time": "2022-06-26T13:39:29.447Z"
   },
   {
    "duration": 165,
    "start_time": "2022-06-26T13:39:38.771Z"
   },
   {
    "duration": 5,
    "start_time": "2022-06-26T13:40:28.067Z"
   },
   {
    "duration": 12,
    "start_time": "2022-06-26T13:40:31.676Z"
   },
   {
    "duration": 132,
    "start_time": "2022-06-26T13:40:35.059Z"
   },
   {
    "duration": 9,
    "start_time": "2022-06-26T13:41:35.115Z"
   },
   {
    "duration": 4,
    "start_time": "2022-06-26T13:41:43.191Z"
   },
   {
    "duration": 4,
    "start_time": "2022-06-26T13:42:00.312Z"
   },
   {
    "duration": 150,
    "start_time": "2022-06-26T13:42:01.310Z"
   },
   {
    "duration": 12,
    "start_time": "2022-06-26T13:43:56.116Z"
   },
   {
    "duration": 216,
    "start_time": "2022-06-26T13:44:03.783Z"
   },
   {
    "duration": 145,
    "start_time": "2022-06-26T13:44:26.331Z"
   },
   {
    "duration": 108,
    "start_time": "2022-06-26T13:44:31.888Z"
   },
   {
    "duration": 138,
    "start_time": "2022-06-26T13:44:39.547Z"
   },
   {
    "duration": 158,
    "start_time": "2022-06-26T13:44:41.995Z"
   },
   {
    "duration": 6,
    "start_time": "2022-06-26T13:45:22.883Z"
   },
   {
    "duration": 8,
    "start_time": "2022-06-26T13:45:54.647Z"
   },
   {
    "duration": 4,
    "start_time": "2022-06-26T13:46:08.252Z"
   },
   {
    "duration": 15,
    "start_time": "2022-06-26T13:46:12.751Z"
   },
   {
    "duration": 6,
    "start_time": "2022-06-26T13:46:16.679Z"
   },
   {
    "duration": 169,
    "start_time": "2022-06-26T13:46:18.214Z"
   },
   {
    "duration": 8,
    "start_time": "2022-06-26T13:46:30.416Z"
   },
   {
    "duration": 142,
    "start_time": "2022-06-26T13:46:59.323Z"
   },
   {
    "duration": 301,
    "start_time": "2022-06-26T13:47:33.907Z"
   },
   {
    "duration": 161,
    "start_time": "2022-06-26T13:47:56.600Z"
   },
   {
    "duration": 176,
    "start_time": "2022-06-26T13:49:35.836Z"
   },
   {
    "duration": 135,
    "start_time": "2022-06-26T13:49:57.103Z"
   },
   {
    "duration": 289,
    "start_time": "2022-06-26T13:50:10.100Z"
   },
   {
    "duration": 234,
    "start_time": "2022-06-26T13:50:41.740Z"
   },
   {
    "duration": 5,
    "start_time": "2022-06-26T13:52:53.755Z"
   },
   {
    "duration": 5,
    "start_time": "2022-06-26T13:52:59.895Z"
   },
   {
    "duration": 132,
    "start_time": "2022-06-26T13:53:04.093Z"
   },
   {
    "duration": 8,
    "start_time": "2022-06-26T13:54:05.547Z"
   },
   {
    "duration": 11,
    "start_time": "2022-06-26T13:54:15.752Z"
   },
   {
    "duration": 5,
    "start_time": "2022-06-26T13:54:19.587Z"
   },
   {
    "duration": 23,
    "start_time": "2022-06-26T13:54:31.319Z"
   },
   {
    "duration": 11,
    "start_time": "2022-06-26T13:54:51.292Z"
   },
   {
    "duration": 218,
    "start_time": "2022-06-26T13:55:00.091Z"
   },
   {
    "duration": 46,
    "start_time": "2022-06-26T13:55:45.951Z"
   },
   {
    "duration": 116,
    "start_time": "2022-06-26T13:57:23.959Z"
   },
   {
    "duration": 292,
    "start_time": "2022-06-26T13:57:33.851Z"
   },
   {
    "duration": 203,
    "start_time": "2022-06-26T13:59:16.244Z"
   },
   {
    "duration": 316,
    "start_time": "2022-06-26T13:59:32.503Z"
   },
   {
    "duration": 267,
    "start_time": "2022-06-26T13:59:41.667Z"
   },
   {
    "duration": 237,
    "start_time": "2022-06-26T13:59:53.951Z"
   },
   {
    "duration": 237,
    "start_time": "2022-06-26T14:00:00.635Z"
   },
   {
    "duration": 81,
    "start_time": "2022-06-26T14:00:32.071Z"
   },
   {
    "duration": 287,
    "start_time": "2022-06-26T14:00:37.667Z"
   },
   {
    "duration": 299,
    "start_time": "2022-06-26T14:00:55.839Z"
   },
   {
    "duration": 313,
    "start_time": "2022-06-26T14:01:01.019Z"
   },
   {
    "duration": 282,
    "start_time": "2022-06-26T14:01:05.211Z"
   },
   {
    "duration": 238,
    "start_time": "2022-06-26T14:01:35.091Z"
   },
   {
    "duration": 465,
    "start_time": "2022-06-26T14:02:20.926Z"
   },
   {
    "duration": 253,
    "start_time": "2022-06-26T14:02:26.910Z"
   },
   {
    "duration": 144,
    "start_time": "2022-06-26T14:03:23.283Z"
   },
   {
    "duration": 136,
    "start_time": "2022-06-26T14:03:29.675Z"
   },
   {
    "duration": 4,
    "start_time": "2022-06-26T14:03:48.798Z"
   },
   {
    "duration": 4,
    "start_time": "2022-06-26T14:03:59.574Z"
   },
   {
    "duration": 146,
    "start_time": "2022-06-26T14:04:00.055Z"
   },
   {
    "duration": 3,
    "start_time": "2022-06-26T14:04:10.055Z"
   },
   {
    "duration": 152,
    "start_time": "2022-06-26T14:04:10.470Z"
   },
   {
    "duration": 137,
    "start_time": "2022-06-26T14:04:48.247Z"
   },
   {
    "duration": 103,
    "start_time": "2022-06-26T14:04:55.375Z"
   },
   {
    "duration": 167,
    "start_time": "2022-06-26T14:05:29.926Z"
   },
   {
    "duration": 6,
    "start_time": "2022-06-26T14:05:56.582Z"
   },
   {
    "duration": 101,
    "start_time": "2022-06-26T14:06:15.386Z"
   },
   {
    "duration": 90,
    "start_time": "2022-06-26T14:06:29.542Z"
   },
   {
    "duration": 153,
    "start_time": "2022-06-26T14:06:33.190Z"
   },
   {
    "duration": 13,
    "start_time": "2022-06-26T14:15:09.570Z"
   },
   {
    "duration": 12,
    "start_time": "2022-06-26T14:15:23.586Z"
   },
   {
    "duration": 14,
    "start_time": "2022-06-26T14:15:30.524Z"
   },
   {
    "duration": 15,
    "start_time": "2022-06-26T14:15:34.878Z"
   },
   {
    "duration": 10,
    "start_time": "2022-06-26T14:15:57.990Z"
   },
   {
    "duration": 14,
    "start_time": "2022-06-26T14:16:00.634Z"
   },
   {
    "duration": 7,
    "start_time": "2022-06-26T14:17:23.953Z"
   },
   {
    "duration": 12,
    "start_time": "2022-06-26T14:17:26.540Z"
   },
   {
    "duration": 14,
    "start_time": "2022-06-26T14:18:16.593Z"
   },
   {
    "duration": 11,
    "start_time": "2022-06-26T14:18:30.126Z"
   },
   {
    "duration": 10,
    "start_time": "2022-06-26T14:19:06.402Z"
   },
   {
    "duration": 148,
    "start_time": "2022-06-26T14:19:57.585Z"
   },
   {
    "duration": 220,
    "start_time": "2022-06-26T14:22:55.157Z"
   },
   {
    "duration": 178,
    "start_time": "2022-06-26T14:23:44.126Z"
   },
   {
    "duration": 22,
    "start_time": "2022-06-26T14:23:56.586Z"
   },
   {
    "duration": 228,
    "start_time": "2022-06-26T14:23:59.306Z"
   },
   {
    "duration": 388,
    "start_time": "2022-06-26T14:24:03.365Z"
   },
   {
    "duration": 275,
    "start_time": "2022-06-26T14:24:06.698Z"
   },
   {
    "duration": 235,
    "start_time": "2022-06-26T14:24:22.930Z"
   },
   {
    "duration": 21,
    "start_time": "2022-06-26T14:24:27.426Z"
   },
   {
    "duration": 164,
    "start_time": "2022-06-26T14:24:31.010Z"
   },
   {
    "duration": 156,
    "start_time": "2022-06-26T14:25:56.874Z"
   },
   {
    "duration": 161,
    "start_time": "2022-06-26T14:26:15.202Z"
   },
   {
    "duration": 155,
    "start_time": "2022-06-26T14:26:20.757Z"
   },
   {
    "duration": 162,
    "start_time": "2022-06-26T14:27:13.510Z"
   },
   {
    "duration": 150,
    "start_time": "2022-06-26T14:29:07.061Z"
   },
   {
    "duration": 176,
    "start_time": "2022-06-26T14:29:56.777Z"
   },
   {
    "duration": 237,
    "start_time": "2022-06-26T14:30:04.402Z"
   },
   {
    "duration": 171,
    "start_time": "2022-06-26T14:30:22.745Z"
   },
   {
    "duration": 174,
    "start_time": "2022-06-26T14:30:28.941Z"
   },
   {
    "duration": 10,
    "start_time": "2022-06-26T14:31:02.157Z"
   },
   {
    "duration": 11,
    "start_time": "2022-06-26T14:31:17.325Z"
   },
   {
    "duration": 1275,
    "start_time": "2022-06-26T14:31:34.635Z"
   },
   {
    "duration": 126,
    "start_time": "2022-06-26T14:31:46.838Z"
   },
   {
    "duration": 13,
    "start_time": "2022-06-26T15:18:11.769Z"
   },
   {
    "duration": 22,
    "start_time": "2022-06-26T15:18:36.602Z"
   },
   {
    "duration": 13,
    "start_time": "2022-06-26T15:18:57.310Z"
   },
   {
    "duration": 3,
    "start_time": "2022-06-26T15:18:59.610Z"
   },
   {
    "duration": 72,
    "start_time": "2022-06-26T15:18:59.617Z"
   },
   {
    "duration": 12,
    "start_time": "2022-06-26T15:18:59.691Z"
   },
   {
    "duration": 3,
    "start_time": "2022-06-26T15:18:59.705Z"
   },
   {
    "duration": 7,
    "start_time": "2022-06-26T15:18:59.710Z"
   },
   {
    "duration": 8,
    "start_time": "2022-06-26T15:18:59.718Z"
   },
   {
    "duration": 6,
    "start_time": "2022-06-26T15:18:59.727Z"
   },
   {
    "duration": 7,
    "start_time": "2022-06-26T15:18:59.735Z"
   },
   {
    "duration": 13,
    "start_time": "2022-06-26T15:18:59.744Z"
   },
   {
    "duration": 10,
    "start_time": "2022-06-26T15:18:59.758Z"
   },
   {
    "duration": 16,
    "start_time": "2022-06-26T15:18:59.770Z"
   },
   {
    "duration": 52,
    "start_time": "2022-06-26T15:18:59.787Z"
   },
   {
    "duration": 9,
    "start_time": "2022-06-26T15:18:59.840Z"
   },
   {
    "duration": 13,
    "start_time": "2022-06-26T15:18:59.851Z"
   },
   {
    "duration": 4,
    "start_time": "2022-06-26T15:18:59.866Z"
   },
   {
    "duration": 11,
    "start_time": "2022-06-26T15:18:59.871Z"
   },
   {
    "duration": 198,
    "start_time": "2022-06-26T15:18:59.884Z"
   },
   {
    "duration": 295,
    "start_time": "2022-06-26T15:19:00.084Z"
   },
   {
    "duration": 12,
    "start_time": "2022-06-26T15:19:00.380Z"
   },
   {
    "duration": 3,
    "start_time": "2022-06-26T15:19:12.749Z"
   },
   {
    "duration": 73,
    "start_time": "2022-06-26T15:19:12.754Z"
   },
   {
    "duration": 12,
    "start_time": "2022-06-26T15:19:12.828Z"
   },
   {
    "duration": 6,
    "start_time": "2022-06-26T15:19:12.841Z"
   },
   {
    "duration": 8,
    "start_time": "2022-06-26T15:19:12.849Z"
   },
   {
    "duration": 8,
    "start_time": "2022-06-26T15:19:12.859Z"
   },
   {
    "duration": 11,
    "start_time": "2022-06-26T15:19:12.869Z"
   },
   {
    "duration": 15,
    "start_time": "2022-06-26T15:19:12.881Z"
   },
   {
    "duration": 12,
    "start_time": "2022-06-26T15:19:12.897Z"
   },
   {
    "duration": 8,
    "start_time": "2022-06-26T15:19:12.925Z"
   },
   {
    "duration": 18,
    "start_time": "2022-06-26T15:19:12.936Z"
   },
   {
    "duration": 22,
    "start_time": "2022-06-26T15:19:12.955Z"
   },
   {
    "duration": 8,
    "start_time": "2022-06-26T15:19:12.979Z"
   },
   {
    "duration": 45,
    "start_time": "2022-06-26T15:19:12.989Z"
   },
   {
    "duration": 5,
    "start_time": "2022-06-26T15:19:13.035Z"
   },
   {
    "duration": 13,
    "start_time": "2022-06-26T15:19:13.042Z"
   },
   {
    "duration": 196,
    "start_time": "2022-06-26T15:19:13.057Z"
   },
   {
    "duration": 142,
    "start_time": "2022-06-26T15:19:13.254Z"
   },
   {
    "duration": 12,
    "start_time": "2022-06-26T15:19:13.398Z"
   },
   {
    "duration": 4,
    "start_time": "2022-06-26T15:19:48.206Z"
   },
   {
    "duration": 14,
    "start_time": "2022-06-26T15:19:57.704Z"
   },
   {
    "duration": 7,
    "start_time": "2022-06-26T15:20:28.967Z"
   },
   {
    "duration": 13,
    "start_time": "2022-06-26T15:20:34.953Z"
   },
   {
    "duration": 14,
    "start_time": "2022-06-26T15:21:12.957Z"
   },
   {
    "duration": 16,
    "start_time": "2022-06-26T15:21:21.418Z"
   },
   {
    "duration": 289,
    "start_time": "2022-06-26T15:21:28.136Z"
   },
   {
    "duration": 154,
    "start_time": "2022-06-26T15:21:48.221Z"
   },
   {
    "duration": 238,
    "start_time": "2022-06-26T15:22:24.661Z"
   },
   {
    "duration": 16,
    "start_time": "2022-06-26T15:23:13.253Z"
   },
   {
    "duration": 227,
    "start_time": "2022-06-26T15:23:14.215Z"
   },
   {
    "duration": 501,
    "start_time": "2022-06-26T15:23:49.403Z"
   },
   {
    "duration": 381,
    "start_time": "2022-06-26T15:24:11.469Z"
   },
   {
    "duration": 499,
    "start_time": "2022-06-26T15:25:44.469Z"
   },
   {
    "duration": 7,
    "start_time": "2022-06-26T15:31:34.745Z"
   },
   {
    "duration": 11,
    "start_time": "2022-06-26T15:31:38.519Z"
   },
   {
    "duration": 7,
    "start_time": "2022-06-26T15:32:24.936Z"
   },
   {
    "duration": 8,
    "start_time": "2022-06-26T15:32:37.830Z"
   },
   {
    "duration": 7,
    "start_time": "2022-06-26T15:32:42.668Z"
   },
   {
    "duration": 6,
    "start_time": "2022-06-26T15:32:46.903Z"
   },
   {
    "duration": 12,
    "start_time": "2022-06-26T15:33:25.298Z"
   },
   {
    "duration": 15,
    "start_time": "2022-06-26T15:33:50.612Z"
   },
   {
    "duration": 9,
    "start_time": "2022-06-26T15:34:57.902Z"
   },
   {
    "duration": 7,
    "start_time": "2022-06-26T15:35:01.348Z"
   },
   {
    "duration": 1287,
    "start_time": "2022-06-26T15:35:04.198Z"
   },
   {
    "duration": 10,
    "start_time": "2022-06-26T15:36:01.510Z"
   },
   {
    "duration": 192,
    "start_time": "2022-06-26T15:36:07.364Z"
   },
   {
    "duration": 190,
    "start_time": "2022-06-26T15:36:16.473Z"
   },
   {
    "duration": 15,
    "start_time": "2022-06-26T15:49:58.302Z"
   },
   {
    "duration": 834,
    "start_time": "2022-06-26T15:50:25.011Z"
   },
   {
    "duration": 1016,
    "start_time": "2022-06-26T15:50:40.636Z"
   },
   {
    "duration": 12,
    "start_time": "2022-06-26T15:51:47.391Z"
   },
   {
    "duration": 11,
    "start_time": "2022-06-26T15:52:19.716Z"
   },
   {
    "duration": 13,
    "start_time": "2022-06-26T15:52:45.021Z"
   },
   {
    "duration": 7,
    "start_time": "2022-06-26T15:54:03.904Z"
   },
   {
    "duration": 14,
    "start_time": "2022-06-26T15:54:13.999Z"
   },
   {
    "duration": 4,
    "start_time": "2022-06-26T15:54:29.111Z"
   },
   {
    "duration": 12,
    "start_time": "2022-06-26T15:54:38.168Z"
   },
   {
    "duration": 4,
    "start_time": "2022-06-26T15:54:52.813Z"
   },
   {
    "duration": 6,
    "start_time": "2022-06-26T15:55:11.993Z"
   },
   {
    "duration": 13,
    "start_time": "2022-06-26T15:55:12.719Z"
   },
   {
    "duration": 3,
    "start_time": "2022-06-26T15:55:17.044Z"
   },
   {
    "duration": 72,
    "start_time": "2022-06-26T15:55:17.049Z"
   },
   {
    "duration": 11,
    "start_time": "2022-06-26T15:55:17.123Z"
   },
   {
    "duration": 3,
    "start_time": "2022-06-26T15:55:17.136Z"
   },
   {
    "duration": 10,
    "start_time": "2022-06-26T15:55:17.140Z"
   },
   {
    "duration": 8,
    "start_time": "2022-06-26T15:55:17.151Z"
   },
   {
    "duration": 9,
    "start_time": "2022-06-26T15:55:17.160Z"
   },
   {
    "duration": 10,
    "start_time": "2022-06-26T15:55:17.170Z"
   },
   {
    "duration": 9,
    "start_time": "2022-06-26T15:55:17.181Z"
   },
   {
    "duration": 11,
    "start_time": "2022-06-26T15:55:17.191Z"
   },
   {
    "duration": 8,
    "start_time": "2022-06-26T15:55:17.227Z"
   },
   {
    "duration": 17,
    "start_time": "2022-06-26T15:55:17.237Z"
   },
   {
    "duration": 21,
    "start_time": "2022-06-26T15:55:17.255Z"
   },
   {
    "duration": 8,
    "start_time": "2022-06-26T15:55:17.278Z"
   },
   {
    "duration": 3,
    "start_time": "2022-06-26T15:55:17.287Z"
   },
   {
    "duration": 41,
    "start_time": "2022-06-26T15:55:17.292Z"
   },
   {
    "duration": 177,
    "start_time": "2022-06-26T15:55:17.335Z"
   },
   {
    "duration": 131,
    "start_time": "2022-06-26T15:55:17.513Z"
   },
   {
    "duration": 14,
    "start_time": "2022-06-26T15:55:17.645Z"
   },
   {
    "duration": 498,
    "start_time": "2022-06-26T15:55:17.660Z"
   },
   {
    "duration": 5,
    "start_time": "2022-06-26T15:55:18.159Z"
   },
   {
    "duration": 16,
    "start_time": "2022-06-26T15:55:18.165Z"
   },
   {
    "duration": 909,
    "start_time": "2022-06-26T15:55:18.183Z"
   },
   {
    "duration": 10,
    "start_time": "2022-06-26T15:55:19.094Z"
   },
   {
    "duration": 14,
    "start_time": "2022-06-26T15:56:17.936Z"
   },
   {
    "duration": 9,
    "start_time": "2022-06-26T15:57:39.713Z"
   },
   {
    "duration": 859,
    "start_time": "2022-06-26T15:57:47.432Z"
   },
   {
    "duration": 189,
    "start_time": "2022-06-26T15:58:00.321Z"
   },
   {
    "duration": 14,
    "start_time": "2022-06-26T15:59:26.727Z"
   },
   {
    "duration": 10,
    "start_time": "2022-06-26T16:00:06.917Z"
   },
   {
    "duration": 19,
    "start_time": "2022-06-26T16:00:12.468Z"
   },
   {
    "duration": 6,
    "start_time": "2022-06-26T16:00:20.436Z"
   },
   {
    "duration": 17,
    "start_time": "2022-06-26T16:01:23.019Z"
   },
   {
    "duration": 9,
    "start_time": "2022-06-26T16:01:30.360Z"
   },
   {
    "duration": 15,
    "start_time": "2022-06-26T16:01:52.043Z"
   },
   {
    "duration": 11,
    "start_time": "2022-06-26T16:02:32.496Z"
   },
   {
    "duration": 19,
    "start_time": "2022-06-26T16:02:37.520Z"
   },
   {
    "duration": 11,
    "start_time": "2022-06-26T16:03:41.026Z"
   },
   {
    "duration": 11,
    "start_time": "2022-06-26T16:03:46.005Z"
   },
   {
    "duration": 11,
    "start_time": "2022-06-26T16:04:02.699Z"
   },
   {
    "duration": 13,
    "start_time": "2022-06-26T16:04:48.707Z"
   },
   {
    "duration": 11,
    "start_time": "2022-06-26T16:04:57.548Z"
   },
   {
    "duration": 48,
    "start_time": "2022-06-26T16:05:02.602Z"
   },
   {
    "duration": 5,
    "start_time": "2022-06-26T16:05:21.061Z"
   },
   {
    "duration": 5,
    "start_time": "2022-06-26T16:06:36.208Z"
   },
   {
    "duration": 11,
    "start_time": "2022-06-26T16:07:01.199Z"
   },
   {
    "duration": 12,
    "start_time": "2022-06-26T16:07:10.156Z"
   },
   {
    "duration": 1717,
    "start_time": "2022-06-26T16:07:19.628Z"
   },
   {
    "duration": 87,
    "start_time": "2022-06-26T16:08:57.252Z"
   },
   {
    "duration": 100,
    "start_time": "2022-06-26T16:09:04.291Z"
   },
   {
    "duration": 86,
    "start_time": "2022-06-26T16:09:21.212Z"
   },
   {
    "duration": 17,
    "start_time": "2022-06-26T16:11:10.902Z"
   },
   {
    "duration": 26,
    "start_time": "2022-06-26T16:11:32.303Z"
   },
   {
    "duration": 663,
    "start_time": "2022-06-26T16:11:46.801Z"
   },
   {
    "duration": 18,
    "start_time": "2022-06-26T16:11:50.698Z"
   },
   {
    "duration": 2,
    "start_time": "2022-06-26T16:12:11.599Z"
   },
   {
    "duration": 8,
    "start_time": "2022-06-26T16:12:20.898Z"
   },
   {
    "duration": 8,
    "start_time": "2022-06-26T16:12:30.912Z"
   },
   {
    "duration": 6,
    "start_time": "2022-06-26T16:12:47.440Z"
   },
   {
    "duration": 9,
    "start_time": "2022-06-26T16:13:01.100Z"
   },
   {
    "duration": 7,
    "start_time": "2022-06-26T16:13:33.223Z"
   },
   {
    "duration": 817,
    "start_time": "2022-06-26T16:15:28.163Z"
   },
   {
    "duration": 29,
    "start_time": "2022-06-26T16:27:11.603Z"
   },
   {
    "duration": 20,
    "start_time": "2022-06-26T16:27:16.139Z"
   },
   {
    "duration": 3,
    "start_time": "2022-06-26T16:27:20.973Z"
   },
   {
    "duration": 78,
    "start_time": "2022-06-26T16:27:20.977Z"
   },
   {
    "duration": 11,
    "start_time": "2022-06-26T16:27:21.057Z"
   },
   {
    "duration": 7,
    "start_time": "2022-06-26T16:27:21.070Z"
   },
   {
    "duration": 9,
    "start_time": "2022-06-26T16:27:21.079Z"
   },
   {
    "duration": 14,
    "start_time": "2022-06-26T16:27:21.090Z"
   },
   {
    "duration": 20,
    "start_time": "2022-06-26T16:27:21.106Z"
   },
   {
    "duration": 6,
    "start_time": "2022-06-26T16:27:21.127Z"
   },
   {
    "duration": 13,
    "start_time": "2022-06-26T16:27:21.134Z"
   },
   {
    "duration": 12,
    "start_time": "2022-06-26T16:27:21.148Z"
   },
   {
    "duration": 8,
    "start_time": "2022-06-26T16:27:21.162Z"
   },
   {
    "duration": 21,
    "start_time": "2022-06-26T16:27:21.171Z"
   },
   {
    "duration": 45,
    "start_time": "2022-06-26T16:27:21.194Z"
   },
   {
    "duration": 9,
    "start_time": "2022-06-26T16:27:21.240Z"
   },
   {
    "duration": 7,
    "start_time": "2022-06-26T16:27:21.251Z"
   },
   {
    "duration": 14,
    "start_time": "2022-06-26T16:27:21.260Z"
   },
   {
    "duration": 185,
    "start_time": "2022-06-26T16:27:21.276Z"
   },
   {
    "duration": 141,
    "start_time": "2022-06-26T16:27:21.462Z"
   },
   {
    "duration": 23,
    "start_time": "2022-06-26T16:27:21.605Z"
   },
   {
    "duration": 519,
    "start_time": "2022-06-26T16:27:21.629Z"
   },
   {
    "duration": 6,
    "start_time": "2022-06-26T16:27:22.150Z"
   },
   {
    "duration": 17,
    "start_time": "2022-06-26T16:27:22.157Z"
   },
   {
    "duration": 937,
    "start_time": "2022-06-26T16:27:22.175Z"
   },
   {
    "duration": 12,
    "start_time": "2022-06-26T16:27:23.113Z"
   },
   {
    "duration": 171,
    "start_time": "2022-06-26T16:27:23.127Z"
   },
   {
    "duration": 289,
    "start_time": "2022-06-26T16:27:23.300Z"
   },
   {
    "duration": 7,
    "start_time": "2022-06-26T16:27:23.590Z"
   },
   {
    "duration": 1467,
    "start_time": "2022-06-26T16:27:23.599Z"
   },
   {
    "duration": 0,
    "start_time": "2022-06-26T16:27:25.068Z"
   },
   {
    "duration": 0,
    "start_time": "2022-06-26T16:27:25.069Z"
   },
   {
    "duration": 0,
    "start_time": "2022-06-26T16:27:25.070Z"
   },
   {
    "duration": 0,
    "start_time": "2022-06-26T16:27:25.071Z"
   },
   {
    "duration": 32,
    "start_time": "2022-06-26T16:27:37.305Z"
   },
   {
    "duration": 27,
    "start_time": "2022-06-26T16:27:43.902Z"
   },
   {
    "duration": 36,
    "start_time": "2022-06-26T16:27:51.994Z"
   },
   {
    "duration": 1276,
    "start_time": "2022-06-26T16:28:35.422Z"
   },
   {
    "duration": 79,
    "start_time": "2022-06-26T16:28:36.699Z"
   },
   {
    "duration": 13,
    "start_time": "2022-06-26T16:28:36.779Z"
   },
   {
    "duration": 6,
    "start_time": "2022-06-26T16:28:36.794Z"
   },
   {
    "duration": 9,
    "start_time": "2022-06-26T16:28:36.801Z"
   },
   {
    "duration": 7,
    "start_time": "2022-06-26T16:28:36.826Z"
   },
   {
    "duration": 6,
    "start_time": "2022-06-26T16:28:36.835Z"
   },
   {
    "duration": 7,
    "start_time": "2022-06-26T16:28:36.842Z"
   },
   {
    "duration": 32,
    "start_time": "2022-06-26T16:28:36.851Z"
   },
   {
    "duration": 14,
    "start_time": "2022-06-26T16:28:36.886Z"
   },
   {
    "duration": 9,
    "start_time": "2022-06-26T16:28:36.901Z"
   },
   {
    "duration": 17,
    "start_time": "2022-06-26T16:28:36.926Z"
   },
   {
    "duration": 24,
    "start_time": "2022-06-26T16:28:36.945Z"
   },
   {
    "duration": 10,
    "start_time": "2022-06-26T16:28:36.970Z"
   },
   {
    "duration": 3,
    "start_time": "2022-06-26T16:28:36.982Z"
   },
   {
    "duration": 46,
    "start_time": "2022-06-26T16:28:36.987Z"
   },
   {
    "duration": 197,
    "start_time": "2022-06-26T16:28:37.034Z"
   },
   {
    "duration": 148,
    "start_time": "2022-06-26T16:28:37.233Z"
   },
   {
    "duration": 16,
    "start_time": "2022-06-26T16:28:37.384Z"
   },
   {
    "duration": 570,
    "start_time": "2022-06-26T16:28:37.402Z"
   },
   {
    "duration": 6,
    "start_time": "2022-06-26T16:28:37.975Z"
   },
   {
    "duration": 19,
    "start_time": "2022-06-26T16:28:37.983Z"
   },
   {
    "duration": 1150,
    "start_time": "2022-06-26T16:28:38.004Z"
   },
   {
    "duration": 9,
    "start_time": "2022-06-26T16:28:39.155Z"
   },
   {
    "duration": 178,
    "start_time": "2022-06-26T16:28:39.166Z"
   },
   {
    "duration": 59,
    "start_time": "2022-06-26T16:28:39.346Z"
   },
   {
    "duration": 23,
    "start_time": "2022-06-26T16:28:39.407Z"
   },
   {
    "duration": 1402,
    "start_time": "2022-06-26T16:28:39.433Z"
   },
   {
    "duration": 0,
    "start_time": "2022-06-26T16:28:40.836Z"
   },
   {
    "duration": 0,
    "start_time": "2022-06-26T16:28:40.837Z"
   },
   {
    "duration": 0,
    "start_time": "2022-06-26T16:28:40.839Z"
   },
   {
    "duration": 0,
    "start_time": "2022-06-26T16:28:40.839Z"
   },
   {
    "duration": 3,
    "start_time": "2022-06-26T16:30:07.307Z"
   },
   {
    "duration": 89,
    "start_time": "2022-06-26T16:30:07.312Z"
   },
   {
    "duration": 14,
    "start_time": "2022-06-26T16:30:07.403Z"
   },
   {
    "duration": 23,
    "start_time": "2022-06-26T16:30:07.419Z"
   },
   {
    "duration": 11,
    "start_time": "2022-06-26T16:30:07.445Z"
   },
   {
    "duration": 10,
    "start_time": "2022-06-26T16:30:07.458Z"
   },
   {
    "duration": 9,
    "start_time": "2022-06-26T16:30:07.470Z"
   },
   {
    "duration": 10,
    "start_time": "2022-06-26T16:30:07.481Z"
   },
   {
    "duration": 9,
    "start_time": "2022-06-26T16:30:07.494Z"
   },
   {
    "duration": 36,
    "start_time": "2022-06-26T16:30:07.505Z"
   },
   {
    "duration": 13,
    "start_time": "2022-06-26T16:30:07.545Z"
   },
   {
    "duration": 57,
    "start_time": "2022-06-26T16:30:07.559Z"
   },
   {
    "duration": 66,
    "start_time": "2022-06-26T16:30:07.618Z"
   },
   {
    "duration": 20,
    "start_time": "2022-06-26T16:30:07.686Z"
   },
   {
    "duration": 20,
    "start_time": "2022-06-26T16:30:07.708Z"
   },
   {
    "duration": 33,
    "start_time": "2022-06-26T16:30:07.730Z"
   },
   {
    "duration": 228,
    "start_time": "2022-06-26T16:30:07.765Z"
   },
   {
    "duration": 161,
    "start_time": "2022-06-26T16:30:07.995Z"
   },
   {
    "duration": 16,
    "start_time": "2022-06-26T16:30:08.158Z"
   },
   {
    "duration": 567,
    "start_time": "2022-06-26T16:30:08.176Z"
   },
   {
    "duration": 8,
    "start_time": "2022-06-26T16:30:08.744Z"
   },
   {
    "duration": 23,
    "start_time": "2022-06-26T16:30:08.759Z"
   },
   {
    "duration": 1087,
    "start_time": "2022-06-26T16:30:08.783Z"
   },
   {
    "duration": 10,
    "start_time": "2022-06-26T16:30:09.871Z"
   },
   {
    "duration": 180,
    "start_time": "2022-06-26T16:30:09.882Z"
   },
   {
    "duration": 49,
    "start_time": "2022-06-26T16:30:10.063Z"
   },
   {
    "duration": 11,
    "start_time": "2022-06-26T16:30:10.125Z"
   },
   {
    "duration": 1402,
    "start_time": "2022-06-26T16:30:10.138Z"
   },
   {
    "duration": 0,
    "start_time": "2022-06-26T16:30:11.542Z"
   },
   {
    "duration": 0,
    "start_time": "2022-06-26T16:30:11.544Z"
   },
   {
    "duration": 0,
    "start_time": "2022-06-26T16:30:11.545Z"
   },
   {
    "duration": 0,
    "start_time": "2022-06-26T16:30:11.546Z"
   },
   {
    "duration": 4,
    "start_time": "2022-06-26T16:30:18.957Z"
   },
   {
    "duration": 84,
    "start_time": "2022-06-26T16:30:18.964Z"
   },
   {
    "duration": 12,
    "start_time": "2022-06-26T16:30:19.050Z"
   },
   {
    "duration": 3,
    "start_time": "2022-06-26T16:30:19.064Z"
   },
   {
    "duration": 10,
    "start_time": "2022-06-26T16:30:19.069Z"
   },
   {
    "duration": 8,
    "start_time": "2022-06-26T16:30:19.080Z"
   },
   {
    "duration": 6,
    "start_time": "2022-06-26T16:30:19.089Z"
   },
   {
    "duration": 7,
    "start_time": "2022-06-26T16:30:19.096Z"
   },
   {
    "duration": 10,
    "start_time": "2022-06-26T16:30:19.125Z"
   },
   {
    "duration": 19,
    "start_time": "2022-06-26T16:30:19.136Z"
   },
   {
    "duration": 9,
    "start_time": "2022-06-26T16:30:19.158Z"
   },
   {
    "duration": 17,
    "start_time": "2022-06-26T16:30:19.168Z"
   },
   {
    "duration": 48,
    "start_time": "2022-06-26T16:30:19.186Z"
   },
   {
    "duration": 13,
    "start_time": "2022-06-26T16:30:19.236Z"
   },
   {
    "duration": 3,
    "start_time": "2022-06-26T16:30:19.250Z"
   },
   {
    "duration": 16,
    "start_time": "2022-06-26T16:30:19.255Z"
   },
   {
    "duration": 213,
    "start_time": "2022-06-26T16:30:19.272Z"
   },
   {
    "duration": 151,
    "start_time": "2022-06-26T16:30:19.486Z"
   },
   {
    "duration": 15,
    "start_time": "2022-06-26T16:30:19.639Z"
   },
   {
    "duration": 556,
    "start_time": "2022-06-26T16:30:19.656Z"
   },
   {
    "duration": 11,
    "start_time": "2022-06-26T16:30:20.214Z"
   },
   {
    "duration": 25,
    "start_time": "2022-06-26T16:30:20.227Z"
   },
   {
    "duration": 1098,
    "start_time": "2022-06-26T16:30:20.253Z"
   },
   {
    "duration": 10,
    "start_time": "2022-06-26T16:30:21.352Z"
   },
   {
    "duration": 180,
    "start_time": "2022-06-26T16:30:21.364Z"
   },
   {
    "duration": 32,
    "start_time": "2022-06-26T16:30:21.546Z"
   },
   {
    "duration": 9,
    "start_time": "2022-06-26T16:30:21.579Z"
   },
   {
    "duration": 2119,
    "start_time": "2022-06-26T16:30:21.589Z"
   },
   {
    "duration": 0,
    "start_time": "2022-06-26T16:30:23.710Z"
   },
   {
    "duration": 0,
    "start_time": "2022-06-26T16:30:23.711Z"
   },
   {
    "duration": 0,
    "start_time": "2022-06-26T16:30:23.712Z"
   },
   {
    "duration": 0,
    "start_time": "2022-06-26T16:30:23.713Z"
   },
   {
    "duration": 3,
    "start_time": "2022-06-26T16:31:09.521Z"
   },
   {
    "duration": 99,
    "start_time": "2022-06-26T16:31:09.526Z"
   },
   {
    "duration": 15,
    "start_time": "2022-06-26T16:31:09.627Z"
   },
   {
    "duration": 21,
    "start_time": "2022-06-26T16:31:09.644Z"
   },
   {
    "duration": 14,
    "start_time": "2022-06-26T16:31:09.667Z"
   },
   {
    "duration": 21,
    "start_time": "2022-06-26T16:31:09.682Z"
   },
   {
    "duration": 41,
    "start_time": "2022-06-26T16:31:09.704Z"
   },
   {
    "duration": 16,
    "start_time": "2022-06-26T16:31:09.747Z"
   },
   {
    "duration": 20,
    "start_time": "2022-06-26T16:31:09.765Z"
   },
   {
    "duration": 27,
    "start_time": "2022-06-26T16:31:09.786Z"
   },
   {
    "duration": 30,
    "start_time": "2022-06-26T16:31:09.816Z"
   },
   {
    "duration": 24,
    "start_time": "2022-06-26T16:31:09.847Z"
   },
   {
    "duration": 30,
    "start_time": "2022-06-26T16:31:09.873Z"
   },
   {
    "duration": 28,
    "start_time": "2022-06-26T16:31:09.904Z"
   },
   {
    "duration": 21,
    "start_time": "2022-06-26T16:31:09.933Z"
   },
   {
    "duration": 27,
    "start_time": "2022-06-26T16:31:09.955Z"
   },
   {
    "duration": 182,
    "start_time": "2022-06-26T16:31:09.983Z"
   },
   {
    "duration": 146,
    "start_time": "2022-06-26T16:31:10.166Z"
   },
   {
    "duration": 19,
    "start_time": "2022-06-26T16:31:10.313Z"
   },
   {
    "duration": 566,
    "start_time": "2022-06-26T16:31:10.334Z"
   },
   {
    "duration": 7,
    "start_time": "2022-06-26T16:31:10.902Z"
   },
   {
    "duration": 28,
    "start_time": "2022-06-26T16:31:10.911Z"
   },
   {
    "duration": 1222,
    "start_time": "2022-06-26T16:31:10.943Z"
   },
   {
    "duration": 9,
    "start_time": "2022-06-26T16:31:12.167Z"
   },
   {
    "duration": 186,
    "start_time": "2022-06-26T16:31:12.178Z"
   },
   {
    "duration": 2,
    "start_time": "2022-06-26T16:31:12.366Z"
   },
   {
    "duration": 39,
    "start_time": "2022-06-26T16:31:12.370Z"
   },
   {
    "duration": 0,
    "start_time": "2022-06-26T16:31:12.411Z"
   },
   {
    "duration": 0,
    "start_time": "2022-06-26T16:31:12.412Z"
   },
   {
    "duration": 0,
    "start_time": "2022-06-26T16:31:12.413Z"
   },
   {
    "duration": 0,
    "start_time": "2022-06-26T16:31:12.414Z"
   },
   {
    "duration": 0,
    "start_time": "2022-06-26T16:31:12.416Z"
   },
   {
    "duration": 0,
    "start_time": "2022-06-26T16:31:12.417Z"
   },
   {
    "duration": 44,
    "start_time": "2022-06-26T16:31:18.201Z"
   },
   {
    "duration": 53,
    "start_time": "2022-06-26T16:31:24.213Z"
   },
   {
    "duration": 43,
    "start_time": "2022-06-26T16:31:51.121Z"
   },
   {
    "duration": 182,
    "start_time": "2022-06-26T16:43:21.948Z"
   },
   {
    "duration": 46,
    "start_time": "2022-06-26T16:43:59.044Z"
   },
   {
    "duration": 49,
    "start_time": "2022-06-26T16:44:04.308Z"
   },
   {
    "duration": 78,
    "start_time": "2022-06-26T16:44:23.562Z"
   },
   {
    "duration": 102,
    "start_time": "2022-06-26T16:44:34.139Z"
   },
   {
    "duration": 160,
    "start_time": "2022-06-26T16:44:50.293Z"
   },
   {
    "duration": 79,
    "start_time": "2022-06-26T16:46:15.239Z"
   },
   {
    "duration": 79,
    "start_time": "2022-06-26T16:46:28.555Z"
   },
   {
    "duration": 75,
    "start_time": "2022-06-26T16:46:35.696Z"
   },
   {
    "duration": 88,
    "start_time": "2022-06-26T16:46:43.507Z"
   },
   {
    "duration": 42,
    "start_time": "2022-06-26T16:47:24.888Z"
   },
   {
    "duration": 60,
    "start_time": "2022-06-26T16:47:28.309Z"
   },
   {
    "duration": 53,
    "start_time": "2022-06-26T16:49:20.496Z"
   },
   {
    "duration": 60,
    "start_time": "2022-06-26T16:51:49.824Z"
   },
   {
    "duration": 10,
    "start_time": "2022-06-26T16:52:02.843Z"
   },
   {
    "duration": 14,
    "start_time": "2022-06-26T16:52:10.789Z"
   },
   {
    "duration": 56,
    "start_time": "2022-06-26T16:52:22.361Z"
   },
   {
    "duration": 182,
    "start_time": "2022-06-26T16:53:03.481Z"
   },
   {
    "duration": 48,
    "start_time": "2022-06-26T16:53:09.223Z"
   },
   {
    "duration": 79,
    "start_time": "2022-06-26T16:55:55.516Z"
   },
   {
    "duration": 51,
    "start_time": "2022-06-26T16:56:02.389Z"
   },
   {
    "duration": 49,
    "start_time": "2022-06-26T16:56:12.286Z"
   },
   {
    "duration": 65,
    "start_time": "2022-06-26T16:56:26.516Z"
   },
   {
    "duration": 48,
    "start_time": "2022-06-26T16:56:41.286Z"
   },
   {
    "duration": 44,
    "start_time": "2022-06-26T16:56:45.923Z"
   },
   {
    "duration": 51,
    "start_time": "2022-06-26T16:56:48.285Z"
   },
   {
    "duration": 171,
    "start_time": "2022-06-26T16:56:54.436Z"
   },
   {
    "duration": 1882,
    "start_time": "2022-06-26T16:57:10.085Z"
   },
   {
    "duration": 1738,
    "start_time": "2022-06-26T16:57:38.496Z"
   },
   {
    "duration": 56,
    "start_time": "2022-06-26T16:58:24.299Z"
   },
   {
    "duration": 63,
    "start_time": "2022-06-26T16:58:28.387Z"
   },
   {
    "duration": 57,
    "start_time": "2022-06-26T16:58:42.765Z"
   },
   {
    "duration": 54,
    "start_time": "2022-06-26T16:59:36.879Z"
   },
   {
    "duration": 1966,
    "start_time": "2022-06-26T16:59:42.012Z"
   },
   {
    "duration": 64,
    "start_time": "2022-06-26T17:00:17.884Z"
   },
   {
    "duration": 69,
    "start_time": "2022-06-26T17:00:22.796Z"
   },
   {
    "duration": 81,
    "start_time": "2022-06-26T17:01:16.086Z"
   },
   {
    "duration": 95,
    "start_time": "2022-06-26T17:01:20.176Z"
   },
   {
    "duration": 85,
    "start_time": "2022-06-26T17:03:18.952Z"
   },
   {
    "duration": 183,
    "start_time": "2022-06-26T17:03:43.991Z"
   },
   {
    "duration": 56,
    "start_time": "2022-06-26T17:03:49.083Z"
   },
   {
    "duration": 7,
    "start_time": "2022-06-26T17:06:10.793Z"
   },
   {
    "duration": 204,
    "start_time": "2022-06-26T17:09:03.485Z"
   },
   {
    "duration": 220,
    "start_time": "2022-06-26T17:09:11.315Z"
   },
   {
    "duration": 97,
    "start_time": "2022-06-26T17:11:23.811Z"
   },
   {
    "duration": 39870,
    "start_time": "2022-06-26T17:11:53.548Z"
   },
   {
    "duration": 10,
    "start_time": "2022-06-26T17:12:47.004Z"
   },
   {
    "duration": 8,
    "start_time": "2022-06-26T17:12:59.205Z"
   },
   {
    "duration": 7,
    "start_time": "2022-06-26T17:13:09.051Z"
   },
   {
    "duration": 23,
    "start_time": "2022-06-26T17:13:13.937Z"
   },
   {
    "duration": 15,
    "start_time": "2022-06-26T17:13:21.931Z"
   },
   {
    "duration": 39141,
    "start_time": "2022-06-26T17:16:30.559Z"
   },
   {
    "duration": 10,
    "start_time": "2022-06-26T17:17:12.504Z"
   },
   {
    "duration": 86,
    "start_time": "2022-06-26T17:19:47.111Z"
   },
   {
    "duration": 478,
    "start_time": "2022-06-26T17:20:10.250Z"
   },
   {
    "duration": 4,
    "start_time": "2022-06-26T17:20:34.088Z"
   },
   {
    "duration": 226934,
    "start_time": "2022-06-26T17:21:00.854Z"
   },
   {
    "duration": 1173,
    "start_time": "2022-06-26T17:25:01.819Z"
   },
   {
    "duration": 86,
    "start_time": "2022-06-26T17:25:02.994Z"
   },
   {
    "duration": 12,
    "start_time": "2022-06-26T17:25:03.081Z"
   },
   {
    "duration": 9,
    "start_time": "2022-06-26T17:25:03.094Z"
   },
   {
    "duration": 9,
    "start_time": "2022-06-26T17:25:03.104Z"
   },
   {
    "duration": 8,
    "start_time": "2022-06-26T17:25:03.114Z"
   },
   {
    "duration": 6,
    "start_time": "2022-06-26T17:25:03.125Z"
   },
   {
    "duration": 8,
    "start_time": "2022-06-26T17:25:03.132Z"
   },
   {
    "duration": 9,
    "start_time": "2022-06-26T17:25:03.141Z"
   },
   {
    "duration": 13,
    "start_time": "2022-06-26T17:25:03.152Z"
   },
   {
    "duration": 9,
    "start_time": "2022-06-26T17:25:03.166Z"
   },
   {
    "duration": 16,
    "start_time": "2022-06-26T17:25:03.176Z"
   },
   {
    "duration": 41,
    "start_time": "2022-06-26T17:25:03.194Z"
   },
   {
    "duration": 9,
    "start_time": "2022-06-26T17:25:03.237Z"
   },
   {
    "duration": 3,
    "start_time": "2022-06-26T17:25:03.247Z"
   },
   {
    "duration": 14,
    "start_time": "2022-06-26T17:25:03.252Z"
   },
   {
    "duration": 189,
    "start_time": "2022-06-26T17:25:03.268Z"
   },
   {
    "duration": 133,
    "start_time": "2022-06-26T17:25:03.459Z"
   },
   {
    "duration": 16,
    "start_time": "2022-06-26T17:25:03.594Z"
   },
   {
    "duration": 514,
    "start_time": "2022-06-26T17:25:03.611Z"
   },
   {
    "duration": 6,
    "start_time": "2022-06-26T17:25:04.127Z"
   },
   {
    "duration": 14,
    "start_time": "2022-06-26T17:25:04.135Z"
   },
   {
    "duration": 970,
    "start_time": "2022-06-26T17:25:04.151Z"
   },
   {
    "duration": 9,
    "start_time": "2022-06-26T17:25:05.126Z"
   },
   {
    "duration": 158,
    "start_time": "2022-06-26T17:25:05.137Z"
   },
   {
    "duration": 2,
    "start_time": "2022-06-26T17:25:05.297Z"
   },
   {
    "duration": 57630,
    "start_time": "2022-06-26T17:25:05.300Z"
   },
   {
    "duration": 0,
    "start_time": "2022-06-26T17:26:02.932Z"
   },
   {
    "duration": 0,
    "start_time": "2022-06-26T17:26:02.933Z"
   },
   {
    "duration": 0,
    "start_time": "2022-06-26T17:26:02.933Z"
   },
   {
    "duration": 0,
    "start_time": "2022-06-26T17:26:02.934Z"
   },
   {
    "duration": 1,
    "start_time": "2022-06-26T17:26:02.935Z"
   },
   {
    "duration": 0,
    "start_time": "2022-06-26T17:26:02.936Z"
   },
   {
    "duration": 55207,
    "start_time": "2022-06-26T17:26:55.764Z"
   },
   {
    "duration": 10,
    "start_time": "2022-06-26T17:27:59.664Z"
   },
   {
    "duration": 10,
    "start_time": "2022-06-26T17:28:03.792Z"
   },
   {
    "duration": 9,
    "start_time": "2022-06-26T17:28:11.756Z"
   },
   {
    "duration": 10,
    "start_time": "2022-06-26T17:28:14.700Z"
   },
   {
    "duration": 18232,
    "start_time": "2022-06-26T17:28:48.252Z"
   },
   {
    "duration": 10,
    "start_time": "2022-06-26T17:29:09.468Z"
   },
   {
    "duration": 10,
    "start_time": "2022-06-26T17:29:27.088Z"
   },
   {
    "duration": 10,
    "start_time": "2022-06-26T17:29:30.460Z"
   },
   {
    "duration": 11,
    "start_time": "2022-06-26T17:29:47.205Z"
   },
   {
    "duration": 11,
    "start_time": "2022-06-26T17:29:50.429Z"
   },
   {
    "duration": 12,
    "start_time": "2022-06-26T17:29:53.544Z"
   },
   {
    "duration": 13,
    "start_time": "2022-06-26T17:30:00.008Z"
   },
   {
    "duration": 11,
    "start_time": "2022-06-26T17:30:03.656Z"
   },
   {
    "duration": 89,
    "start_time": "2022-06-26T17:30:12.341Z"
   },
   {
    "duration": 12,
    "start_time": "2022-06-26T17:30:17.596Z"
   },
   {
    "duration": 13,
    "start_time": "2022-06-26T17:30:22.187Z"
   },
   {
    "duration": 13,
    "start_time": "2022-06-26T17:30:27.861Z"
   },
   {
    "duration": 12,
    "start_time": "2022-06-26T17:30:34.710Z"
   },
   {
    "duration": 12,
    "start_time": "2022-06-26T17:30:39.173Z"
   },
   {
    "duration": 4,
    "start_time": "2022-06-26T17:30:47.889Z"
   },
   {
    "duration": 20,
    "start_time": "2022-06-26T17:30:54.016Z"
   },
   {
    "duration": 17,
    "start_time": "2022-06-26T17:31:04.305Z"
   },
   {
    "duration": 5,
    "start_time": "2022-06-26T17:31:24.486Z"
   },
   {
    "duration": 4,
    "start_time": "2022-06-26T17:31:40.352Z"
   },
   {
    "duration": 4,
    "start_time": "2022-06-26T17:31:50.805Z"
   },
   {
    "duration": 5,
    "start_time": "2022-06-26T17:32:11.689Z"
   },
   {
    "duration": 4,
    "start_time": "2022-06-26T17:32:14.796Z"
   },
   {
    "duration": 63,
    "start_time": "2022-06-26T17:32:41.389Z"
   },
   {
    "duration": 3,
    "start_time": "2022-06-26T17:32:53.624Z"
   },
   {
    "duration": 76,
    "start_time": "2022-06-26T17:32:53.631Z"
   },
   {
    "duration": 17,
    "start_time": "2022-06-26T17:32:53.709Z"
   },
   {
    "duration": 6,
    "start_time": "2022-06-26T17:32:53.727Z"
   },
   {
    "duration": 10,
    "start_time": "2022-06-26T17:32:53.735Z"
   },
   {
    "duration": 11,
    "start_time": "2022-06-26T17:32:53.747Z"
   },
   {
    "duration": 9,
    "start_time": "2022-06-26T17:32:53.759Z"
   },
   {
    "duration": 8,
    "start_time": "2022-06-26T17:32:53.769Z"
   },
   {
    "duration": 12,
    "start_time": "2022-06-26T17:32:53.778Z"
   },
   {
    "duration": 12,
    "start_time": "2022-06-26T17:32:53.791Z"
   },
   {
    "duration": 10,
    "start_time": "2022-06-26T17:32:53.826Z"
   },
   {
    "duration": 17,
    "start_time": "2022-06-26T17:32:53.837Z"
   },
   {
    "duration": 23,
    "start_time": "2022-06-26T17:32:53.855Z"
   },
   {
    "duration": 10,
    "start_time": "2022-06-26T17:32:53.880Z"
   },
   {
    "duration": 34,
    "start_time": "2022-06-26T17:32:53.893Z"
   },
   {
    "duration": 15,
    "start_time": "2022-06-26T17:32:53.928Z"
   },
   {
    "duration": 182,
    "start_time": "2022-06-26T17:32:53.945Z"
   },
   {
    "duration": 208,
    "start_time": "2022-06-26T17:32:54.129Z"
   },
   {
    "duration": 19,
    "start_time": "2022-06-26T17:32:54.339Z"
   },
   {
    "duration": 517,
    "start_time": "2022-06-26T17:32:54.360Z"
   },
   {
    "duration": 6,
    "start_time": "2022-06-26T17:32:54.879Z"
   },
   {
    "duration": 16,
    "start_time": "2022-06-26T17:32:54.886Z"
   },
   {
    "duration": 936,
    "start_time": "2022-06-26T17:32:54.904Z"
   },
   {
    "duration": 9,
    "start_time": "2022-06-26T17:32:55.842Z"
   },
   {
    "duration": 157,
    "start_time": "2022-06-26T17:32:55.853Z"
   },
   {
    "duration": 2,
    "start_time": "2022-06-26T17:32:56.012Z"
   },
   {
    "duration": 49,
    "start_time": "2022-06-26T17:32:56.025Z"
   },
   {
    "duration": 0,
    "start_time": "2022-06-26T17:32:56.075Z"
   },
   {
    "duration": 0,
    "start_time": "2022-06-26T17:32:56.077Z"
   },
   {
    "duration": 0,
    "start_time": "2022-06-26T17:32:56.078Z"
   },
   {
    "duration": 0,
    "start_time": "2022-06-26T17:32:56.079Z"
   },
   {
    "duration": 0,
    "start_time": "2022-06-26T17:32:56.080Z"
   },
   {
    "duration": 0,
    "start_time": "2022-06-26T17:32:56.082Z"
   },
   {
    "duration": 9424,
    "start_time": "2022-06-26T17:33:09.369Z"
   },
   {
    "duration": 12,
    "start_time": "2022-06-26T17:33:32.787Z"
   },
   {
    "duration": 1270,
    "start_time": "2022-06-26T17:33:53.527Z"
   },
   {
    "duration": 75,
    "start_time": "2022-06-26T17:33:54.799Z"
   },
   {
    "duration": 13,
    "start_time": "2022-06-26T17:33:54.875Z"
   },
   {
    "duration": 8,
    "start_time": "2022-06-26T17:33:54.890Z"
   },
   {
    "duration": 8,
    "start_time": "2022-06-26T17:33:54.900Z"
   },
   {
    "duration": 20,
    "start_time": "2022-06-26T17:33:54.909Z"
   },
   {
    "duration": 6,
    "start_time": "2022-06-26T17:33:54.931Z"
   },
   {
    "duration": 7,
    "start_time": "2022-06-26T17:33:54.938Z"
   },
   {
    "duration": 9,
    "start_time": "2022-06-26T17:33:54.946Z"
   },
   {
    "duration": 13,
    "start_time": "2022-06-26T17:33:54.956Z"
   },
   {
    "duration": 10,
    "start_time": "2022-06-26T17:33:54.970Z"
   },
   {
    "duration": 57,
    "start_time": "2022-06-26T17:33:54.982Z"
   },
   {
    "duration": 22,
    "start_time": "2022-06-26T17:33:55.041Z"
   },
   {
    "duration": 10,
    "start_time": "2022-06-26T17:33:55.065Z"
   },
   {
    "duration": 4,
    "start_time": "2022-06-26T17:33:55.077Z"
   },
   {
    "duration": 18,
    "start_time": "2022-06-26T17:33:55.082Z"
   },
   {
    "duration": 209,
    "start_time": "2022-06-26T17:33:55.102Z"
   },
   {
    "duration": 134,
    "start_time": "2022-06-26T17:33:55.313Z"
   },
   {
    "duration": 14,
    "start_time": "2022-06-26T17:33:55.450Z"
   },
   {
    "duration": 531,
    "start_time": "2022-06-26T17:33:55.466Z"
   },
   {
    "duration": 6,
    "start_time": "2022-06-26T17:33:55.999Z"
   },
   {
    "duration": 26,
    "start_time": "2022-06-26T17:33:56.006Z"
   },
   {
    "duration": 1105,
    "start_time": "2022-06-26T17:33:56.034Z"
   },
   {
    "duration": 8,
    "start_time": "2022-06-26T17:33:57.140Z"
   },
   {
    "duration": 167,
    "start_time": "2022-06-26T17:33:57.149Z"
   },
   {
    "duration": 3,
    "start_time": "2022-06-26T17:33:57.318Z"
   },
   {
    "duration": 9224,
    "start_time": "2022-06-26T17:33:57.326Z"
   },
   {
    "duration": 0,
    "start_time": "2022-06-26T17:34:06.553Z"
   },
   {
    "duration": 0,
    "start_time": "2022-06-26T17:34:06.555Z"
   },
   {
    "duration": 0,
    "start_time": "2022-06-26T17:34:06.556Z"
   },
   {
    "duration": 0,
    "start_time": "2022-06-26T17:34:06.558Z"
   },
   {
    "duration": 0,
    "start_time": "2022-06-26T17:34:06.559Z"
   },
   {
    "duration": 0,
    "start_time": "2022-06-26T17:34:06.561Z"
   },
   {
    "duration": 12,
    "start_time": "2022-06-26T17:34:25.037Z"
   },
   {
    "duration": 10,
    "start_time": "2022-06-26T17:35:09.790Z"
   },
   {
    "duration": 13,
    "start_time": "2022-06-26T17:35:22.982Z"
   },
   {
    "duration": 9487,
    "start_time": "2022-06-26T17:36:14.800Z"
   },
   {
    "duration": 11,
    "start_time": "2022-06-26T17:36:38.116Z"
   },
   {
    "duration": 1153,
    "start_time": "2022-06-26T17:36:45.555Z"
   },
   {
    "duration": 84,
    "start_time": "2022-06-26T17:36:46.710Z"
   },
   {
    "duration": 12,
    "start_time": "2022-06-26T17:36:46.796Z"
   },
   {
    "duration": 5,
    "start_time": "2022-06-26T17:36:46.810Z"
   },
   {
    "duration": 18,
    "start_time": "2022-06-26T17:36:46.816Z"
   },
   {
    "duration": 13,
    "start_time": "2022-06-26T17:36:46.837Z"
   },
   {
    "duration": 6,
    "start_time": "2022-06-26T17:36:46.852Z"
   },
   {
    "duration": 5,
    "start_time": "2022-06-26T17:36:46.859Z"
   },
   {
    "duration": 14,
    "start_time": "2022-06-26T17:36:46.865Z"
   },
   {
    "duration": 12,
    "start_time": "2022-06-26T17:36:46.881Z"
   },
   {
    "duration": 8,
    "start_time": "2022-06-26T17:36:46.894Z"
   },
   {
    "duration": 34,
    "start_time": "2022-06-26T17:36:46.904Z"
   },
   {
    "duration": 23,
    "start_time": "2022-06-26T17:36:46.941Z"
   },
   {
    "duration": 9,
    "start_time": "2022-06-26T17:36:46.965Z"
   },
   {
    "duration": 3,
    "start_time": "2022-06-26T17:36:46.976Z"
   },
   {
    "duration": 12,
    "start_time": "2022-06-26T17:36:46.980Z"
   },
   {
    "duration": 254,
    "start_time": "2022-06-26T17:36:46.993Z"
   },
   {
    "duration": 162,
    "start_time": "2022-06-26T17:36:47.249Z"
   },
   {
    "duration": 28,
    "start_time": "2022-06-26T17:36:47.413Z"
   },
   {
    "duration": 534,
    "start_time": "2022-06-26T17:36:47.444Z"
   },
   {
    "duration": 6,
    "start_time": "2022-06-26T17:36:47.980Z"
   },
   {
    "duration": 16,
    "start_time": "2022-06-26T17:36:47.988Z"
   },
   {
    "duration": 1090,
    "start_time": "2022-06-26T17:36:48.006Z"
   },
   {
    "duration": 10,
    "start_time": "2022-06-26T17:36:49.097Z"
   },
   {
    "duration": 175,
    "start_time": "2022-06-26T17:36:49.108Z"
   },
   {
    "duration": 2,
    "start_time": "2022-06-26T17:36:49.285Z"
   },
   {
    "duration": 8954,
    "start_time": "2022-06-26T17:36:49.289Z"
   },
   {
    "duration": 0,
    "start_time": "2022-06-26T17:36:58.245Z"
   },
   {
    "duration": 0,
    "start_time": "2022-06-26T17:36:58.246Z"
   },
   {
    "duration": 0,
    "start_time": "2022-06-26T17:36:58.247Z"
   },
   {
    "duration": 0,
    "start_time": "2022-06-26T17:36:58.248Z"
   },
   {
    "duration": 0,
    "start_time": "2022-06-26T17:36:58.249Z"
   },
   {
    "duration": 0,
    "start_time": "2022-06-26T17:36:58.250Z"
   },
   {
    "duration": 0,
    "start_time": "2022-06-26T17:36:58.251Z"
   },
   {
    "duration": 0,
    "start_time": "2022-06-26T17:36:58.252Z"
   },
   {
    "duration": 14,
    "start_time": "2022-06-26T17:37:03.947Z"
   },
   {
    "duration": 9389,
    "start_time": "2022-06-26T17:41:17.592Z"
   },
   {
    "duration": 3,
    "start_time": "2022-06-26T17:43:11.823Z"
   },
   {
    "duration": 74,
    "start_time": "2022-06-26T17:43:11.828Z"
   },
   {
    "duration": 12,
    "start_time": "2022-06-26T17:43:11.904Z"
   },
   {
    "duration": 10,
    "start_time": "2022-06-26T17:43:11.917Z"
   },
   {
    "duration": 9,
    "start_time": "2022-06-26T17:43:11.929Z"
   },
   {
    "duration": 10,
    "start_time": "2022-06-26T17:43:11.939Z"
   },
   {
    "duration": 5,
    "start_time": "2022-06-26T17:43:11.951Z"
   },
   {
    "duration": 6,
    "start_time": "2022-06-26T17:43:11.958Z"
   },
   {
    "duration": 8,
    "start_time": "2022-06-26T17:43:11.966Z"
   },
   {
    "duration": 12,
    "start_time": "2022-06-26T17:43:11.975Z"
   },
   {
    "duration": 37,
    "start_time": "2022-06-26T17:43:11.989Z"
   },
   {
    "duration": 17,
    "start_time": "2022-06-26T17:43:12.028Z"
   },
   {
    "duration": 24,
    "start_time": "2022-06-26T17:43:12.047Z"
   },
   {
    "duration": 10,
    "start_time": "2022-06-26T17:43:12.073Z"
   },
   {
    "duration": 8,
    "start_time": "2022-06-26T17:43:12.084Z"
   },
   {
    "duration": 40,
    "start_time": "2022-06-26T17:43:12.093Z"
   },
   {
    "duration": 201,
    "start_time": "2022-06-26T17:43:12.134Z"
   },
   {
    "duration": 151,
    "start_time": "2022-06-26T17:43:12.336Z"
   },
   {
    "duration": 16,
    "start_time": "2022-06-26T17:43:12.489Z"
   },
   {
    "duration": 547,
    "start_time": "2022-06-26T17:43:12.507Z"
   },
   {
    "duration": 7,
    "start_time": "2022-06-26T17:43:13.056Z"
   },
   {
    "duration": 20,
    "start_time": "2022-06-26T17:43:13.065Z"
   },
   {
    "duration": 1051,
    "start_time": "2022-06-26T17:43:13.087Z"
   },
   {
    "duration": 9,
    "start_time": "2022-06-26T17:43:14.140Z"
   },
   {
    "duration": 169,
    "start_time": "2022-06-26T17:43:14.150Z"
   },
   {
    "duration": 3,
    "start_time": "2022-06-26T17:43:14.324Z"
   },
   {
    "duration": 12080,
    "start_time": "2022-06-26T17:43:14.328Z"
   },
   {
    "duration": 9,
    "start_time": "2022-06-26T17:43:26.410Z"
   },
   {
    "duration": 1503,
    "start_time": "2022-06-26T17:43:26.425Z"
   },
   {
    "duration": 0,
    "start_time": "2022-06-26T17:43:27.930Z"
   },
   {
    "duration": 0,
    "start_time": "2022-06-26T17:43:27.931Z"
   },
   {
    "duration": 0,
    "start_time": "2022-06-26T17:43:27.932Z"
   },
   {
    "duration": 0,
    "start_time": "2022-06-26T17:43:27.934Z"
   },
   {
    "duration": 0,
    "start_time": "2022-06-26T17:43:27.936Z"
   },
   {
    "duration": 0,
    "start_time": "2022-06-26T17:43:27.937Z"
   },
   {
    "duration": 4,
    "start_time": "2022-06-26T17:43:58.795Z"
   },
   {
    "duration": 88,
    "start_time": "2022-06-26T17:43:58.801Z"
   },
   {
    "duration": 14,
    "start_time": "2022-06-26T17:43:58.891Z"
   },
   {
    "duration": 3,
    "start_time": "2022-06-26T17:43:58.925Z"
   },
   {
    "duration": 10,
    "start_time": "2022-06-26T17:43:58.930Z"
   },
   {
    "duration": 12,
    "start_time": "2022-06-26T17:43:58.942Z"
   },
   {
    "duration": 10,
    "start_time": "2022-06-26T17:43:58.956Z"
   },
   {
    "duration": 8,
    "start_time": "2022-06-26T17:43:58.968Z"
   },
   {
    "duration": 10,
    "start_time": "2022-06-26T17:43:58.977Z"
   },
   {
    "duration": 41,
    "start_time": "2022-06-26T17:43:58.989Z"
   },
   {
    "duration": 10,
    "start_time": "2022-06-26T17:43:59.034Z"
   },
   {
    "duration": 22,
    "start_time": "2022-06-26T17:43:59.045Z"
   },
   {
    "duration": 27,
    "start_time": "2022-06-26T17:43:59.069Z"
   },
   {
    "duration": 35,
    "start_time": "2022-06-26T17:43:59.098Z"
   },
   {
    "duration": 3,
    "start_time": "2022-06-26T17:43:59.135Z"
   },
   {
    "duration": 14,
    "start_time": "2022-06-26T17:43:59.141Z"
   },
   {
    "duration": 200,
    "start_time": "2022-06-26T17:43:59.156Z"
   },
   {
    "duration": 141,
    "start_time": "2022-06-26T17:43:59.357Z"
   },
   {
    "duration": 28,
    "start_time": "2022-06-26T17:43:59.500Z"
   },
   {
    "duration": 543,
    "start_time": "2022-06-26T17:43:59.530Z"
   },
   {
    "duration": 6,
    "start_time": "2022-06-26T17:44:00.075Z"
   },
   {
    "duration": 20,
    "start_time": "2022-06-26T17:44:00.082Z"
   },
   {
    "duration": 1146,
    "start_time": "2022-06-26T17:44:00.103Z"
   },
   {
    "duration": 9,
    "start_time": "2022-06-26T17:44:01.251Z"
   },
   {
    "duration": 180,
    "start_time": "2022-06-26T17:44:01.262Z"
   },
   {
    "duration": 3,
    "start_time": "2022-06-26T17:44:01.444Z"
   },
   {
    "duration": 51856,
    "start_time": "2022-06-26T17:44:01.449Z"
   },
   {
    "duration": 10,
    "start_time": "2022-06-26T17:44:53.307Z"
   },
   {
    "duration": 1556,
    "start_time": "2022-06-26T17:44:53.328Z"
   },
   {
    "duration": 0,
    "start_time": "2022-06-26T17:44:54.885Z"
   },
   {
    "duration": 0,
    "start_time": "2022-06-26T17:44:54.887Z"
   },
   {
    "duration": 0,
    "start_time": "2022-06-26T17:44:54.888Z"
   },
   {
    "duration": 0,
    "start_time": "2022-06-26T17:44:54.889Z"
   },
   {
    "duration": 0,
    "start_time": "2022-06-26T17:44:54.890Z"
   },
   {
    "duration": 0,
    "start_time": "2022-06-26T17:44:54.892Z"
   },
   {
    "duration": 10,
    "start_time": "2022-06-26T17:46:31.027Z"
   },
   {
    "duration": 9,
    "start_time": "2022-06-26T17:46:45.703Z"
   },
   {
    "duration": 10,
    "start_time": "2022-06-26T17:47:39.035Z"
   },
   {
    "duration": 1337,
    "start_time": "2022-06-26T17:47:47.898Z"
   },
   {
    "duration": 10,
    "start_time": "2022-06-26T17:47:53.059Z"
   },
   {
    "duration": 17,
    "start_time": "2022-06-26T17:48:13.271Z"
   },
   {
    "duration": 10,
    "start_time": "2022-06-26T17:48:32.491Z"
   },
   {
    "duration": 10,
    "start_time": "2022-06-26T17:48:49.354Z"
   },
   {
    "duration": 10,
    "start_time": "2022-06-26T17:49:09.295Z"
   },
   {
    "duration": 1317,
    "start_time": "2022-06-26T17:49:26.191Z"
   },
   {
    "duration": 14,
    "start_time": "2022-06-26T17:49:32.142Z"
   },
   {
    "duration": 7,
    "start_time": "2022-06-26T17:50:05.403Z"
   },
   {
    "duration": 5,
    "start_time": "2022-06-26T17:50:23.743Z"
   },
   {
    "duration": 7,
    "start_time": "2022-06-26T17:50:44.519Z"
   },
   {
    "duration": 7,
    "start_time": "2022-06-26T17:50:52.871Z"
   },
   {
    "duration": 15,
    "start_time": "2022-06-26T17:51:16.781Z"
   },
   {
    "duration": 11,
    "start_time": "2022-06-26T17:51:36.771Z"
   },
   {
    "duration": 1188,
    "start_time": "2022-06-26T17:53:17.111Z"
   },
   {
    "duration": 79,
    "start_time": "2022-06-26T17:53:18.301Z"
   },
   {
    "duration": 13,
    "start_time": "2022-06-26T17:53:18.381Z"
   },
   {
    "duration": 6,
    "start_time": "2022-06-26T17:53:18.396Z"
   },
   {
    "duration": 22,
    "start_time": "2022-06-26T17:53:18.404Z"
   },
   {
    "duration": 9,
    "start_time": "2022-06-26T17:53:18.429Z"
   },
   {
    "duration": 10,
    "start_time": "2022-06-26T17:53:18.440Z"
   },
   {
    "duration": 7,
    "start_time": "2022-06-26T17:53:18.452Z"
   },
   {
    "duration": 11,
    "start_time": "2022-06-26T17:53:18.461Z"
   },
   {
    "duration": 17,
    "start_time": "2022-06-26T17:53:18.476Z"
   },
   {
    "duration": 39,
    "start_time": "2022-06-26T17:53:18.494Z"
   },
   {
    "duration": 17,
    "start_time": "2022-06-26T17:53:18.535Z"
   },
   {
    "duration": 22,
    "start_time": "2022-06-26T17:53:18.554Z"
   },
   {
    "duration": 9,
    "start_time": "2022-06-26T17:53:18.577Z"
   },
   {
    "duration": 8,
    "start_time": "2022-06-26T17:53:18.588Z"
   },
   {
    "duration": 40,
    "start_time": "2022-06-26T17:53:18.597Z"
   },
   {
    "duration": 196,
    "start_time": "2022-06-26T17:53:18.638Z"
   },
   {
    "duration": 142,
    "start_time": "2022-06-26T17:53:18.836Z"
   },
   {
    "duration": 14,
    "start_time": "2022-06-26T17:53:18.980Z"
   },
   {
    "duration": 523,
    "start_time": "2022-06-26T17:53:18.996Z"
   },
   {
    "duration": 7,
    "start_time": "2022-06-26T17:53:19.521Z"
   },
   {
    "duration": 25,
    "start_time": "2022-06-26T17:53:19.530Z"
   },
   {
    "duration": 1003,
    "start_time": "2022-06-26T17:53:19.556Z"
   },
   {
    "duration": 9,
    "start_time": "2022-06-26T17:53:20.561Z"
   },
   {
    "duration": 164,
    "start_time": "2022-06-26T17:53:20.571Z"
   },
   {
    "duration": 2,
    "start_time": "2022-06-26T17:53:20.737Z"
   },
   {
    "duration": 34585,
    "start_time": "2022-06-26T17:53:20.740Z"
   },
   {
    "duration": 9,
    "start_time": "2022-06-26T17:53:55.328Z"
   },
   {
    "duration": 16,
    "start_time": "2022-06-26T17:53:55.338Z"
   },
   {
    "duration": 4,
    "start_time": "2022-06-26T17:53:55.356Z"
   },
   {
    "duration": 12,
    "start_time": "2022-06-26T17:53:55.361Z"
   },
   {
    "duration": 11,
    "start_time": "2022-06-26T17:53:55.375Z"
   },
   {
    "duration": 12,
    "start_time": "2022-06-26T17:53:55.387Z"
   },
   {
    "duration": 844,
    "start_time": "2022-06-26T17:53:55.400Z"
   },
   {
    "duration": 9,
    "start_time": "2022-06-26T17:53:56.246Z"
   },
   {
    "duration": 11,
    "start_time": "2022-06-26T17:53:56.256Z"
   },
   {
    "duration": 11,
    "start_time": "2022-06-26T17:54:25.147Z"
   },
   {
    "duration": 13,
    "start_time": "2022-06-26T17:54:54.039Z"
   },
   {
    "duration": 15,
    "start_time": "2022-06-26T17:55:31.215Z"
   },
   {
    "duration": 36017,
    "start_time": "2022-06-26T17:55:47.281Z"
   },
   {
    "duration": 12,
    "start_time": "2022-06-26T17:56:26.307Z"
   },
   {
    "duration": 1163,
    "start_time": "2022-06-26T17:58:24.147Z"
   },
   {
    "duration": 76,
    "start_time": "2022-06-26T17:58:25.312Z"
   },
   {
    "duration": 12,
    "start_time": "2022-06-26T17:58:25.390Z"
   },
   {
    "duration": 3,
    "start_time": "2022-06-26T17:58:25.404Z"
   },
   {
    "duration": 8,
    "start_time": "2022-06-26T17:58:25.408Z"
   },
   {
    "duration": 11,
    "start_time": "2022-06-26T17:58:25.418Z"
   },
   {
    "duration": 6,
    "start_time": "2022-06-26T17:58:25.430Z"
   },
   {
    "duration": 6,
    "start_time": "2022-06-26T17:58:25.437Z"
   },
   {
    "duration": 8,
    "start_time": "2022-06-26T17:58:25.445Z"
   },
   {
    "duration": 12,
    "start_time": "2022-06-26T17:58:25.456Z"
   },
   {
    "duration": 9,
    "start_time": "2022-06-26T17:58:25.469Z"
   },
   {
    "duration": 47,
    "start_time": "2022-06-26T17:58:25.479Z"
   },
   {
    "duration": 24,
    "start_time": "2022-06-26T17:58:25.528Z"
   },
   {
    "duration": 11,
    "start_time": "2022-06-26T17:58:25.554Z"
   },
   {
    "duration": 4,
    "start_time": "2022-06-26T17:58:25.566Z"
   },
   {
    "duration": 13,
    "start_time": "2022-06-26T17:58:25.571Z"
   },
   {
    "duration": 212,
    "start_time": "2022-06-26T17:58:25.585Z"
   },
   {
    "duration": 142,
    "start_time": "2022-06-26T17:58:25.799Z"
   },
   {
    "duration": 15,
    "start_time": "2022-06-26T17:58:25.943Z"
   },
   {
    "duration": 539,
    "start_time": "2022-06-26T17:58:25.960Z"
   },
   {
    "duration": 7,
    "start_time": "2022-06-26T17:58:26.501Z"
   },
   {
    "duration": 33,
    "start_time": "2022-06-26T17:58:26.510Z"
   },
   {
    "duration": 1057,
    "start_time": "2022-06-26T17:58:26.545Z"
   },
   {
    "duration": 9,
    "start_time": "2022-06-26T17:58:27.604Z"
   },
   {
    "duration": 175,
    "start_time": "2022-06-26T17:58:27.615Z"
   },
   {
    "duration": 3,
    "start_time": "2022-06-26T17:58:27.792Z"
   },
   {
    "duration": 236611,
    "start_time": "2022-06-26T17:58:27.797Z"
   },
   {
    "duration": 0,
    "start_time": "2022-06-26T18:02:24.410Z"
   },
   {
    "duration": 0,
    "start_time": "2022-06-26T18:02:24.411Z"
   },
   {
    "duration": 0,
    "start_time": "2022-06-26T18:02:24.412Z"
   },
   {
    "duration": 0,
    "start_time": "2022-06-26T18:02:24.413Z"
   },
   {
    "duration": 0,
    "start_time": "2022-06-26T18:02:24.414Z"
   },
   {
    "duration": 0,
    "start_time": "2022-06-26T18:02:24.415Z"
   },
   {
    "duration": 0,
    "start_time": "2022-06-26T18:02:24.415Z"
   },
   {
    "duration": 0,
    "start_time": "2022-06-26T18:02:24.416Z"
   },
   {
    "duration": 0,
    "start_time": "2022-06-26T18:02:24.417Z"
   },
   {
    "duration": 5,
    "start_time": "2022-06-26T18:02:40.758Z"
   },
   {
    "duration": 6,
    "start_time": "2022-06-26T18:02:47.195Z"
   },
   {
    "duration": 11,
    "start_time": "2022-06-26T18:03:23.522Z"
   },
   {
    "duration": 10,
    "start_time": "2022-06-26T18:03:32.767Z"
   },
   {
    "duration": 11,
    "start_time": "2022-06-26T18:03:56.183Z"
   },
   {
    "duration": 10,
    "start_time": "2022-06-26T18:04:00.215Z"
   },
   {
    "duration": 11,
    "start_time": "2022-06-26T18:04:02.186Z"
   },
   {
    "duration": 8,
    "start_time": "2022-06-26T18:04:09.999Z"
   },
   {
    "duration": 9,
    "start_time": "2022-06-26T18:04:12.995Z"
   },
   {
    "duration": 11,
    "start_time": "2022-06-26T18:04:16.717Z"
   },
   {
    "duration": 8,
    "start_time": "2022-06-26T18:04:17.259Z"
   },
   {
    "duration": 9,
    "start_time": "2022-06-26T18:04:24.582Z"
   },
   {
    "duration": 9,
    "start_time": "2022-06-26T18:04:26.318Z"
   },
   {
    "duration": 10,
    "start_time": "2022-06-26T18:04:26.791Z"
   },
   {
    "duration": 8,
    "start_time": "2022-06-26T18:04:34.931Z"
   },
   {
    "duration": 10,
    "start_time": "2022-06-26T18:07:01.319Z"
   },
   {
    "duration": 10,
    "start_time": "2022-06-26T18:07:03.155Z"
   },
   {
    "duration": 10,
    "start_time": "2022-06-26T18:07:03.971Z"
   },
   {
    "duration": 10,
    "start_time": "2022-06-26T18:07:04.716Z"
   },
   {
    "duration": 8,
    "start_time": "2022-06-26T18:07:13.367Z"
   },
   {
    "duration": 10,
    "start_time": "2022-06-26T18:07:15.059Z"
   },
   {
    "duration": 5,
    "start_time": "2022-06-26T18:07:24.487Z"
   },
   {
    "duration": 10,
    "start_time": "2022-06-26T18:07:25.671Z"
   },
   {
    "duration": 4,
    "start_time": "2022-06-26T18:08:36.531Z"
   },
   {
    "duration": 88,
    "start_time": "2022-06-26T18:08:36.536Z"
   },
   {
    "duration": 14,
    "start_time": "2022-06-26T18:08:36.627Z"
   },
   {
    "duration": 14,
    "start_time": "2022-06-26T18:08:36.643Z"
   },
   {
    "duration": 13,
    "start_time": "2022-06-26T18:08:36.659Z"
   },
   {
    "duration": 10,
    "start_time": "2022-06-26T18:08:36.674Z"
   },
   {
    "duration": 10,
    "start_time": "2022-06-26T18:08:36.686Z"
   },
   {
    "duration": 14,
    "start_time": "2022-06-26T18:08:36.698Z"
   },
   {
    "duration": 19,
    "start_time": "2022-06-26T18:08:36.714Z"
   },
   {
    "duration": 15,
    "start_time": "2022-06-26T18:08:36.735Z"
   },
   {
    "duration": 11,
    "start_time": "2022-06-26T18:08:36.754Z"
   },
   {
    "duration": 22,
    "start_time": "2022-06-26T18:08:36.767Z"
   },
   {
    "duration": 51,
    "start_time": "2022-06-26T18:08:36.792Z"
   },
   {
    "duration": 12,
    "start_time": "2022-06-26T18:08:36.845Z"
   },
   {
    "duration": 7,
    "start_time": "2022-06-26T18:08:36.858Z"
   },
   {
    "duration": 12,
    "start_time": "2022-06-26T18:08:36.867Z"
   },
   {
    "duration": 199,
    "start_time": "2022-06-26T18:08:36.880Z"
   },
   {
    "duration": 146,
    "start_time": "2022-06-26T18:08:37.081Z"
   },
   {
    "duration": 14,
    "start_time": "2022-06-26T18:08:37.228Z"
   },
   {
    "duration": 547,
    "start_time": "2022-06-26T18:08:37.244Z"
   },
   {
    "duration": 6,
    "start_time": "2022-06-26T18:08:37.793Z"
   },
   {
    "duration": 27,
    "start_time": "2022-06-26T18:08:37.801Z"
   },
   {
    "duration": 1111,
    "start_time": "2022-06-26T18:08:37.829Z"
   },
   {
    "duration": 9,
    "start_time": "2022-06-26T18:08:38.942Z"
   },
   {
    "duration": 164,
    "start_time": "2022-06-26T18:08:38.953Z"
   },
   {
    "duration": 2,
    "start_time": "2022-06-26T18:08:39.125Z"
   },
   {
    "duration": 35527,
    "start_time": "2022-06-26T18:08:39.129Z"
   },
   {
    "duration": 11,
    "start_time": "2022-06-26T18:09:14.658Z"
   },
   {
    "duration": 4,
    "start_time": "2022-06-26T18:09:14.672Z"
   },
   {
    "duration": 6,
    "start_time": "2022-06-26T18:09:14.678Z"
   },
   {
    "duration": 10,
    "start_time": "2022-06-26T18:09:14.686Z"
   },
   {
    "duration": 33,
    "start_time": "2022-06-26T18:09:14.697Z"
   },
   {
    "duration": 8,
    "start_time": "2022-06-26T18:09:14.731Z"
   },
   {
    "duration": 14,
    "start_time": "2022-06-26T18:09:14.741Z"
   },
   {
    "duration": 907,
    "start_time": "2022-06-26T18:09:14.757Z"
   },
   {
    "duration": 10,
    "start_time": "2022-06-26T18:09:15.665Z"
   },
   {
    "duration": 9,
    "start_time": "2022-06-26T18:09:15.677Z"
   },
   {
    "duration": 158,
    "start_time": "2022-06-26T18:09:27.159Z"
   },
   {
    "duration": 17,
    "start_time": "2022-06-26T18:09:29.879Z"
   },
   {
    "duration": 6,
    "start_time": "2022-06-26T18:09:37.651Z"
   },
   {
    "duration": 4,
    "start_time": "2022-06-26T18:09:50.483Z"
   },
   {
    "duration": 79,
    "start_time": "2022-06-26T18:09:50.489Z"
   },
   {
    "duration": 14,
    "start_time": "2022-06-26T18:09:50.570Z"
   },
   {
    "duration": 7,
    "start_time": "2022-06-26T18:09:50.586Z"
   },
   {
    "duration": 7,
    "start_time": "2022-06-26T18:09:50.596Z"
   },
   {
    "duration": 26,
    "start_time": "2022-06-26T18:09:50.605Z"
   },
   {
    "duration": 13,
    "start_time": "2022-06-26T18:09:50.633Z"
   },
   {
    "duration": 10,
    "start_time": "2022-06-26T18:09:50.648Z"
   },
   {
    "duration": 15,
    "start_time": "2022-06-26T18:09:50.660Z"
   },
   {
    "duration": 16,
    "start_time": "2022-06-26T18:09:50.677Z"
   },
   {
    "duration": 8,
    "start_time": "2022-06-26T18:09:50.696Z"
   },
   {
    "duration": 34,
    "start_time": "2022-06-26T18:09:50.706Z"
   },
   {
    "duration": 28,
    "start_time": "2022-06-26T18:09:50.742Z"
   },
   {
    "duration": 10,
    "start_time": "2022-06-26T18:09:50.772Z"
   },
   {
    "duration": 3,
    "start_time": "2022-06-26T18:09:50.784Z"
   },
   {
    "duration": 38,
    "start_time": "2022-06-26T18:09:50.788Z"
   },
   {
    "duration": 203,
    "start_time": "2022-06-26T18:09:50.828Z"
   },
   {
    "duration": 141,
    "start_time": "2022-06-26T18:09:51.033Z"
   },
   {
    "duration": 15,
    "start_time": "2022-06-26T18:09:51.176Z"
   },
   {
    "duration": 584,
    "start_time": "2022-06-26T18:09:51.193Z"
   },
   {
    "duration": 6,
    "start_time": "2022-06-26T18:09:51.779Z"
   },
   {
    "duration": 20,
    "start_time": "2022-06-26T18:09:51.786Z"
   },
   {
    "duration": 1081,
    "start_time": "2022-06-26T18:09:51.807Z"
   },
   {
    "duration": 10,
    "start_time": "2022-06-26T18:09:52.890Z"
   },
   {
    "duration": 178,
    "start_time": "2022-06-26T18:09:52.902Z"
   },
   {
    "duration": 3,
    "start_time": "2022-06-26T18:09:53.081Z"
   },
   {
    "duration": 34046,
    "start_time": "2022-06-26T18:09:53.086Z"
   },
   {
    "duration": 11,
    "start_time": "2022-06-26T18:10:27.134Z"
   },
   {
    "duration": 8,
    "start_time": "2022-06-26T18:10:27.148Z"
   },
   {
    "duration": 10,
    "start_time": "2022-06-26T18:10:27.157Z"
   },
   {
    "duration": 8,
    "start_time": "2022-06-26T18:10:27.169Z"
   },
   {
    "duration": 6,
    "start_time": "2022-06-26T18:10:27.178Z"
   },
   {
    "duration": 878,
    "start_time": "2022-06-26T18:10:27.186Z"
   },
   {
    "duration": 11,
    "start_time": "2022-06-26T18:10:28.066Z"
   },
   {
    "duration": 14,
    "start_time": "2022-06-26T18:10:28.078Z"
   },
   {
    "duration": 9,
    "start_time": "2022-06-26T18:10:38.303Z"
   },
   {
    "duration": 22,
    "start_time": "2022-06-26T18:11:13.831Z"
   },
   {
    "duration": 18,
    "start_time": "2022-06-26T18:11:19.587Z"
   },
   {
    "duration": 13,
    "start_time": "2022-06-26T18:11:53.403Z"
   },
   {
    "duration": 8,
    "start_time": "2022-06-26T18:12:07.031Z"
   },
   {
    "duration": 17,
    "start_time": "2022-06-26T18:12:48.756Z"
   },
   {
    "duration": 13,
    "start_time": "2022-06-26T18:13:04.003Z"
   },
   {
    "duration": 77,
    "start_time": "2022-06-26T18:13:49.135Z"
   },
   {
    "duration": 11,
    "start_time": "2022-06-26T18:13:52.599Z"
   },
   {
    "duration": 11,
    "start_time": "2022-06-26T18:14:02.815Z"
   },
   {
    "duration": 12,
    "start_time": "2022-06-26T18:14:09.939Z"
   },
   {
    "duration": 8,
    "start_time": "2022-06-26T18:14:42.111Z"
   },
   {
    "duration": 9,
    "start_time": "2022-06-26T18:15:07.347Z"
   },
   {
    "duration": 3,
    "start_time": "2022-06-26T18:15:56.983Z"
   },
   {
    "duration": 77,
    "start_time": "2022-06-26T18:15:56.989Z"
   },
   {
    "duration": 12,
    "start_time": "2022-06-26T18:15:57.067Z"
   },
   {
    "duration": 3,
    "start_time": "2022-06-26T18:15:57.080Z"
   },
   {
    "duration": 8,
    "start_time": "2022-06-26T18:15:57.085Z"
   },
   {
    "duration": 8,
    "start_time": "2022-06-26T18:15:57.094Z"
   },
   {
    "duration": 7,
    "start_time": "2022-06-26T18:15:57.126Z"
   },
   {
    "duration": 9,
    "start_time": "2022-06-26T18:15:57.134Z"
   },
   {
    "duration": 11,
    "start_time": "2022-06-26T18:15:57.145Z"
   },
   {
    "duration": 13,
    "start_time": "2022-06-26T18:15:57.157Z"
   },
   {
    "duration": 9,
    "start_time": "2022-06-26T18:15:57.172Z"
   },
   {
    "duration": 45,
    "start_time": "2022-06-26T18:15:57.182Z"
   },
   {
    "duration": 24,
    "start_time": "2022-06-26T18:15:57.229Z"
   },
   {
    "duration": 10,
    "start_time": "2022-06-26T18:15:57.255Z"
   },
   {
    "duration": 3,
    "start_time": "2022-06-26T18:15:57.266Z"
   },
   {
    "duration": 15,
    "start_time": "2022-06-26T18:15:57.271Z"
   },
   {
    "duration": 212,
    "start_time": "2022-06-26T18:15:57.287Z"
   },
   {
    "duration": 137,
    "start_time": "2022-06-26T18:15:57.501Z"
   },
   {
    "duration": 15,
    "start_time": "2022-06-26T18:15:57.640Z"
   },
   {
    "duration": 518,
    "start_time": "2022-06-26T18:15:57.656Z"
   },
   {
    "duration": 6,
    "start_time": "2022-06-26T18:15:58.175Z"
   },
   {
    "duration": 18,
    "start_time": "2022-06-26T18:15:58.183Z"
   },
   {
    "duration": 1127,
    "start_time": "2022-06-26T18:15:58.202Z"
   },
   {
    "duration": 9,
    "start_time": "2022-06-26T18:15:59.330Z"
   },
   {
    "duration": 158,
    "start_time": "2022-06-26T18:15:59.340Z"
   },
   {
    "duration": 3,
    "start_time": "2022-06-26T18:15:59.500Z"
   },
   {
    "duration": 30051,
    "start_time": "2022-06-26T18:15:59.505Z"
   },
   {
    "duration": 0,
    "start_time": "2022-06-26T18:16:29.558Z"
   },
   {
    "duration": 0,
    "start_time": "2022-06-26T18:16:29.559Z"
   },
   {
    "duration": 0,
    "start_time": "2022-06-26T18:16:29.560Z"
   },
   {
    "duration": 0,
    "start_time": "2022-06-26T18:16:29.561Z"
   },
   {
    "duration": 0,
    "start_time": "2022-06-26T18:16:29.562Z"
   },
   {
    "duration": 0,
    "start_time": "2022-06-26T18:16:29.563Z"
   },
   {
    "duration": 0,
    "start_time": "2022-06-26T18:16:29.565Z"
   },
   {
    "duration": 0,
    "start_time": "2022-06-26T18:16:29.566Z"
   },
   {
    "duration": 9,
    "start_time": "2022-06-26T18:16:58.324Z"
   },
   {
    "duration": 11,
    "start_time": "2022-06-26T18:17:23.262Z"
   },
   {
    "duration": 9,
    "start_time": "2022-06-26T18:19:14.951Z"
   },
   {
    "duration": 28,
    "start_time": "2022-06-26T18:20:02.277Z"
   },
   {
    "duration": 4,
    "start_time": "2022-06-26T18:20:27.578Z"
   },
   {
    "duration": 197762,
    "start_time": "2022-06-26T18:22:37.007Z"
   },
   {
    "duration": 19,
    "start_time": "2022-06-26T18:26:18.243Z"
   },
   {
    "duration": 13,
    "start_time": "2022-06-26T18:26:24.442Z"
   },
   {
    "duration": 1190,
    "start_time": "2022-06-26T18:27:07.614Z"
   },
   {
    "duration": 75,
    "start_time": "2022-06-26T18:27:08.806Z"
   },
   {
    "duration": 12,
    "start_time": "2022-06-26T18:27:08.883Z"
   },
   {
    "duration": 3,
    "start_time": "2022-06-26T18:27:08.897Z"
   },
   {
    "duration": 10,
    "start_time": "2022-06-26T18:27:08.902Z"
   },
   {
    "duration": 14,
    "start_time": "2022-06-26T18:27:08.914Z"
   },
   {
    "duration": 5,
    "start_time": "2022-06-26T18:27:08.930Z"
   },
   {
    "duration": 7,
    "start_time": "2022-06-26T18:27:08.937Z"
   },
   {
    "duration": 10,
    "start_time": "2022-06-26T18:27:08.945Z"
   },
   {
    "duration": 13,
    "start_time": "2022-06-26T18:27:08.956Z"
   },
   {
    "duration": 9,
    "start_time": "2022-06-26T18:27:08.970Z"
   },
   {
    "duration": 46,
    "start_time": "2022-06-26T18:27:08.981Z"
   },
   {
    "duration": 21,
    "start_time": "2022-06-26T18:27:09.028Z"
   },
   {
    "duration": 10,
    "start_time": "2022-06-26T18:27:09.052Z"
   },
   {
    "duration": 4,
    "start_time": "2022-06-26T18:27:09.063Z"
   },
   {
    "duration": 12,
    "start_time": "2022-06-26T18:27:09.069Z"
   },
   {
    "duration": 214,
    "start_time": "2022-06-26T18:27:09.082Z"
   },
   {
    "duration": 139,
    "start_time": "2022-06-26T18:27:09.298Z"
   },
   {
    "duration": 14,
    "start_time": "2022-06-26T18:27:09.439Z"
   },
   {
    "duration": 496,
    "start_time": "2022-06-26T18:27:09.455Z"
   },
   {
    "duration": 6,
    "start_time": "2022-06-26T18:27:09.952Z"
   },
   {
    "duration": 16,
    "start_time": "2022-06-26T18:27:09.960Z"
   },
   {
    "duration": 1000,
    "start_time": "2022-06-26T18:27:09.977Z"
   },
   {
    "duration": 8,
    "start_time": "2022-06-26T18:27:10.979Z"
   },
   {
    "duration": 147,
    "start_time": "2022-06-26T18:27:10.988Z"
   },
   {
    "duration": 103,
    "start_time": "2022-06-26T18:27:11.137Z"
   },
   {
    "duration": 0,
    "start_time": "2022-06-26T18:27:11.242Z"
   },
   {
    "duration": 0,
    "start_time": "2022-06-26T18:27:11.243Z"
   },
   {
    "duration": 0,
    "start_time": "2022-06-26T18:27:11.244Z"
   },
   {
    "duration": 0,
    "start_time": "2022-06-26T18:27:11.245Z"
   },
   {
    "duration": 0,
    "start_time": "2022-06-26T18:27:11.246Z"
   },
   {
    "duration": 1354,
    "start_time": "2022-06-26T18:33:09.520Z"
   },
   {
    "duration": 79,
    "start_time": "2022-06-26T18:33:10.876Z"
   },
   {
    "duration": 17,
    "start_time": "2022-06-26T18:33:10.958Z"
   },
   {
    "duration": 3,
    "start_time": "2022-06-26T18:33:10.977Z"
   },
   {
    "duration": 13,
    "start_time": "2022-06-26T18:33:10.983Z"
   },
   {
    "duration": 29,
    "start_time": "2022-06-26T18:33:10.998Z"
   },
   {
    "duration": 13,
    "start_time": "2022-06-26T18:33:11.028Z"
   },
   {
    "duration": 20,
    "start_time": "2022-06-26T18:33:11.043Z"
   },
   {
    "duration": 14,
    "start_time": "2022-06-26T18:33:11.065Z"
   },
   {
    "duration": 14,
    "start_time": "2022-06-26T18:33:11.082Z"
   },
   {
    "duration": 12,
    "start_time": "2022-06-26T18:33:11.098Z"
   },
   {
    "duration": 27,
    "start_time": "2022-06-26T18:33:11.112Z"
   },
   {
    "duration": 27,
    "start_time": "2022-06-26T18:33:11.140Z"
   },
   {
    "duration": 18,
    "start_time": "2022-06-26T18:33:11.171Z"
   },
   {
    "duration": 5,
    "start_time": "2022-06-26T18:33:11.191Z"
   },
   {
    "duration": 38,
    "start_time": "2022-06-26T18:33:11.197Z"
   },
   {
    "duration": 212,
    "start_time": "2022-06-26T18:33:11.237Z"
   },
   {
    "duration": 143,
    "start_time": "2022-06-26T18:33:11.451Z"
   },
   {
    "duration": 14,
    "start_time": "2022-06-26T18:33:11.596Z"
   },
   {
    "duration": 580,
    "start_time": "2022-06-26T18:33:11.612Z"
   },
   {
    "duration": 7,
    "start_time": "2022-06-26T18:33:12.194Z"
   },
   {
    "duration": 34,
    "start_time": "2022-06-26T18:33:12.203Z"
   },
   {
    "duration": 1233,
    "start_time": "2022-06-26T18:33:12.239Z"
   },
   {
    "duration": 9,
    "start_time": "2022-06-26T18:33:13.473Z"
   },
   {
    "duration": 182,
    "start_time": "2022-06-26T18:33:13.484Z"
   },
   {
    "duration": 23179,
    "start_time": "2022-06-26T18:33:13.668Z"
   },
   {
    "duration": 0,
    "start_time": "2022-06-26T18:33:36.850Z"
   },
   {
    "duration": 0,
    "start_time": "2022-06-26T18:33:36.852Z"
   },
   {
    "duration": 0,
    "start_time": "2022-06-26T18:33:36.854Z"
   },
   {
    "duration": 0,
    "start_time": "2022-06-26T18:33:36.856Z"
   },
   {
    "duration": 19073,
    "start_time": "2022-06-26T18:33:42.351Z"
   },
   {
    "duration": 0,
    "start_time": "2022-06-26T18:34:01.427Z"
   },
   {
    "duration": 4,
    "start_time": "2022-06-26T18:34:07.291Z"
   },
   {
    "duration": 63,
    "start_time": "2022-06-26T18:34:42.357Z"
   },
   {
    "duration": 1725,
    "start_time": "2022-06-26T18:34:46.466Z"
   },
   {
    "duration": 1748,
    "start_time": "2022-06-26T18:34:54.799Z"
   },
   {
    "duration": 1634,
    "start_time": "2022-06-26T18:35:06.221Z"
   },
   {
    "duration": 7,
    "start_time": "2022-06-26T18:35:24.072Z"
   },
   {
    "duration": 15,
    "start_time": "2022-06-26T18:35:29.646Z"
   },
   {
    "duration": 24,
    "start_time": "2022-06-26T18:35:51.705Z"
   },
   {
    "duration": 16,
    "start_time": "2022-06-26T18:35:57.643Z"
   },
   {
    "duration": 1574,
    "start_time": "2022-06-26T18:36:24.013Z"
   },
   {
    "duration": 638,
    "start_time": "2022-06-26T18:36:33.052Z"
   },
   {
    "duration": 441,
    "start_time": "2022-06-26T18:36:45.857Z"
   },
   {
    "duration": 2118,
    "start_time": "2022-06-26T18:36:57.494Z"
   },
   {
    "duration": 360,
    "start_time": "2022-06-26T18:39:09.400Z"
   },
   {
    "duration": 394,
    "start_time": "2022-06-26T18:40:47.193Z"
   },
   {
    "duration": 1641,
    "start_time": "2022-06-26T18:40:57.017Z"
   },
   {
    "duration": 102,
    "start_time": "2022-06-26T18:40:58.660Z"
   },
   {
    "duration": 21,
    "start_time": "2022-06-26T18:40:58.765Z"
   },
   {
    "duration": 19,
    "start_time": "2022-06-26T18:40:58.789Z"
   },
   {
    "duration": 17,
    "start_time": "2022-06-26T18:40:58.810Z"
   },
   {
    "duration": 22,
    "start_time": "2022-06-26T18:40:58.829Z"
   },
   {
    "duration": 17,
    "start_time": "2022-06-26T18:40:58.853Z"
   },
   {
    "duration": 8,
    "start_time": "2022-06-26T18:40:58.872Z"
   },
   {
    "duration": 17,
    "start_time": "2022-06-26T18:40:58.882Z"
   },
   {
    "duration": 34,
    "start_time": "2022-06-26T18:40:58.903Z"
   },
   {
    "duration": 13,
    "start_time": "2022-06-26T18:40:58.940Z"
   },
   {
    "duration": 27,
    "start_time": "2022-06-26T18:40:58.955Z"
   },
   {
    "duration": 65,
    "start_time": "2022-06-26T18:40:58.985Z"
   },
   {
    "duration": 19,
    "start_time": "2022-06-26T18:40:59.052Z"
   },
   {
    "duration": 4,
    "start_time": "2022-06-26T18:40:59.074Z"
   },
   {
    "duration": 44,
    "start_time": "2022-06-26T18:40:59.081Z"
   },
   {
    "duration": 267,
    "start_time": "2022-06-26T18:40:59.128Z"
   },
   {
    "duration": 201,
    "start_time": "2022-06-26T18:40:59.397Z"
   },
   {
    "duration": 30,
    "start_time": "2022-06-26T18:40:59.600Z"
   },
   {
    "duration": 877,
    "start_time": "2022-06-26T18:40:59.632Z"
   },
   {
    "duration": 14,
    "start_time": "2022-06-26T18:41:00.512Z"
   },
   {
    "duration": 30,
    "start_time": "2022-06-26T18:41:00.528Z"
   },
   {
    "duration": 1686,
    "start_time": "2022-06-26T18:41:00.560Z"
   },
   {
    "duration": 14,
    "start_time": "2022-06-26T18:41:02.249Z"
   },
   {
    "duration": 298,
    "start_time": "2022-06-26T18:41:02.270Z"
   },
   {
    "duration": 70,
    "start_time": "2022-06-26T18:41:02.571Z"
   },
   {
    "duration": 547,
    "start_time": "2022-06-26T18:41:02.644Z"
   },
   {
    "duration": 0,
    "start_time": "2022-06-26T18:41:03.193Z"
   },
   {
    "duration": 0,
    "start_time": "2022-06-26T18:41:03.198Z"
   },
   {
    "duration": 0,
    "start_time": "2022-06-26T18:41:03.200Z"
   },
   {
    "duration": 0,
    "start_time": "2022-06-26T18:41:03.201Z"
   },
   {
    "duration": 0,
    "start_time": "2022-06-26T18:41:03.203Z"
   },
   {
    "duration": 554,
    "start_time": "2022-06-26T18:41:54.637Z"
   },
   {
    "duration": 1351,
    "start_time": "2022-06-26T18:42:09.062Z"
   },
   {
    "duration": 15,
    "start_time": "2022-06-26T18:42:19.186Z"
   },
   {
    "duration": 1433,
    "start_time": "2022-06-26T18:42:26.752Z"
   },
   {
    "duration": 15,
    "start_time": "2022-06-26T18:42:34.184Z"
   },
   {
    "duration": 1341,
    "start_time": "2022-06-26T18:42:37.166Z"
   },
   {
    "duration": 17,
    "start_time": "2022-06-26T18:42:45.945Z"
   },
   {
    "duration": 1117,
    "start_time": "2022-06-26T18:46:28.185Z"
   },
   {
    "duration": 77,
    "start_time": "2022-06-26T18:46:29.305Z"
   },
   {
    "duration": 14,
    "start_time": "2022-06-26T18:46:29.384Z"
   },
   {
    "duration": 3,
    "start_time": "2022-06-26T18:46:29.399Z"
   },
   {
    "duration": 8,
    "start_time": "2022-06-26T18:46:29.404Z"
   },
   {
    "duration": 17,
    "start_time": "2022-06-26T18:46:29.413Z"
   },
   {
    "duration": 8,
    "start_time": "2022-06-26T18:46:29.432Z"
   },
   {
    "duration": 6,
    "start_time": "2022-06-26T18:46:29.442Z"
   },
   {
    "duration": 9,
    "start_time": "2022-06-26T18:46:29.450Z"
   },
   {
    "duration": 15,
    "start_time": "2022-06-26T18:46:29.460Z"
   },
   {
    "duration": 8,
    "start_time": "2022-06-26T18:46:29.476Z"
   },
   {
    "duration": 54,
    "start_time": "2022-06-26T18:46:29.486Z"
   },
   {
    "duration": 22,
    "start_time": "2022-06-26T18:46:29.542Z"
   },
   {
    "duration": 9,
    "start_time": "2022-06-26T18:46:29.567Z"
   },
   {
    "duration": 3,
    "start_time": "2022-06-26T18:46:29.577Z"
   },
   {
    "duration": 43,
    "start_time": "2022-06-26T18:46:29.582Z"
   },
   {
    "duration": 179,
    "start_time": "2022-06-26T18:46:29.627Z"
   },
   {
    "duration": 128,
    "start_time": "2022-06-26T18:46:29.808Z"
   },
   {
    "duration": 14,
    "start_time": "2022-06-26T18:46:29.938Z"
   },
   {
    "duration": 538,
    "start_time": "2022-06-26T18:46:29.954Z"
   },
   {
    "duration": 6,
    "start_time": "2022-06-26T18:46:30.493Z"
   },
   {
    "duration": 32,
    "start_time": "2022-06-26T18:46:30.500Z"
   },
   {
    "duration": 1027,
    "start_time": "2022-06-26T18:46:30.534Z"
   },
   {
    "duration": 8,
    "start_time": "2022-06-26T18:46:31.563Z"
   },
   {
    "duration": 158,
    "start_time": "2022-06-26T18:46:31.573Z"
   },
   {
    "duration": 0,
    "start_time": "2022-06-26T18:50:31.651Z"
   },
   {
    "duration": 0,
    "start_time": "2022-06-26T18:50:31.652Z"
   },
   {
    "duration": 0,
    "start_time": "2022-06-26T18:50:31.653Z"
   },
   {
    "duration": 0,
    "start_time": "2022-06-26T18:50:31.654Z"
   },
   {
    "duration": 0,
    "start_time": "2022-06-26T18:50:31.655Z"
   },
   {
    "duration": 0,
    "start_time": "2022-06-26T18:50:31.656Z"
   },
   {
    "duration": 37,
    "start_time": "2022-06-26T18:50:33.941Z"
   },
   {
    "duration": 38,
    "start_time": "2022-06-26T18:50:54.525Z"
   },
   {
    "duration": 41,
    "start_time": "2022-06-26T18:51:03.377Z"
   },
   {
    "duration": 345,
    "start_time": "2022-06-26T18:52:01.187Z"
   },
   {
    "duration": 1204,
    "start_time": "2022-06-26T18:55:01.677Z"
   },
   {
    "duration": 82,
    "start_time": "2022-06-26T18:55:02.882Z"
   },
   {
    "duration": 12,
    "start_time": "2022-06-26T18:55:02.966Z"
   },
   {
    "duration": 4,
    "start_time": "2022-06-26T18:55:02.980Z"
   },
   {
    "duration": 13,
    "start_time": "2022-06-26T18:55:02.985Z"
   },
   {
    "duration": 10,
    "start_time": "2022-06-26T18:55:03.000Z"
   },
   {
    "duration": 33,
    "start_time": "2022-06-26T18:55:03.012Z"
   },
   {
    "duration": 14,
    "start_time": "2022-06-26T18:55:03.048Z"
   },
   {
    "duration": 11,
    "start_time": "2022-06-26T18:55:03.064Z"
   },
   {
    "duration": 12,
    "start_time": "2022-06-26T18:55:03.077Z"
   },
   {
    "duration": 9,
    "start_time": "2022-06-26T18:55:03.090Z"
   },
   {
    "duration": 38,
    "start_time": "2022-06-26T18:55:03.101Z"
   },
   {
    "duration": 32,
    "start_time": "2022-06-26T18:55:03.142Z"
   },
   {
    "duration": 8,
    "start_time": "2022-06-26T18:55:03.176Z"
   },
   {
    "duration": 3,
    "start_time": "2022-06-26T18:55:03.185Z"
   },
   {
    "duration": 18,
    "start_time": "2022-06-26T18:55:03.190Z"
   },
   {
    "duration": 185,
    "start_time": "2022-06-26T18:55:03.210Z"
   },
   {
    "duration": 140,
    "start_time": "2022-06-26T18:55:03.397Z"
   },
   {
    "duration": 21,
    "start_time": "2022-06-26T18:55:03.538Z"
   },
   {
    "duration": 567,
    "start_time": "2022-06-26T18:55:03.560Z"
   },
   {
    "duration": 15,
    "start_time": "2022-06-26T18:55:04.131Z"
   },
   {
    "duration": 68,
    "start_time": "2022-06-26T18:55:04.150Z"
   },
   {
    "duration": 1001,
    "start_time": "2022-06-26T18:55:04.220Z"
   },
   {
    "duration": 24,
    "start_time": "2022-06-26T18:55:05.222Z"
   },
   {
    "duration": 162,
    "start_time": "2022-06-26T18:55:05.254Z"
   },
   {
    "duration": 0,
    "start_time": "2022-06-26T18:57:05.129Z"
   },
   {
    "duration": 0,
    "start_time": "2022-06-26T18:57:05.131Z"
   },
   {
    "duration": 0,
    "start_time": "2022-06-26T18:57:05.132Z"
   },
   {
    "duration": 0,
    "start_time": "2022-06-26T18:57:05.132Z"
   },
   {
    "duration": 0,
    "start_time": "2022-06-26T18:57:05.137Z"
   },
   {
    "duration": 0,
    "start_time": "2022-06-26T18:57:05.138Z"
   },
   {
    "duration": 0,
    "start_time": "2022-06-26T18:57:05.138Z"
   },
   {
    "duration": 0,
    "start_time": "2022-06-26T18:57:05.139Z"
   },
   {
    "duration": 0,
    "start_time": "2022-06-26T18:57:05.139Z"
   },
   {
    "duration": 0,
    "start_time": "2022-06-26T18:57:05.140Z"
   },
   {
    "duration": 0,
    "start_time": "2022-06-26T18:57:05.140Z"
   },
   {
    "duration": 0,
    "start_time": "2022-06-26T18:57:05.141Z"
   },
   {
    "duration": 0,
    "start_time": "2022-06-26T18:57:05.142Z"
   },
   {
    "duration": 0,
    "start_time": "2022-06-26T18:57:05.142Z"
   },
   {
    "duration": 0,
    "start_time": "2022-06-26T18:57:05.143Z"
   },
   {
    "duration": 0,
    "start_time": "2022-06-26T18:57:05.143Z"
   },
   {
    "duration": 0,
    "start_time": "2022-06-26T18:57:05.144Z"
   },
   {
    "duration": 0,
    "start_time": "2022-06-26T18:57:05.144Z"
   },
   {
    "duration": 0,
    "start_time": "2022-06-26T18:57:05.145Z"
   },
   {
    "duration": 0,
    "start_time": "2022-06-26T18:57:05.146Z"
   },
   {
    "duration": 0,
    "start_time": "2022-06-26T18:57:05.146Z"
   },
   {
    "duration": 0,
    "start_time": "2022-06-26T18:57:05.147Z"
   },
   {
    "duration": 0,
    "start_time": "2022-06-26T18:57:05.147Z"
   },
   {
    "duration": 0,
    "start_time": "2022-06-26T18:57:05.148Z"
   },
   {
    "duration": 0,
    "start_time": "2022-06-26T18:57:05.148Z"
   },
   {
    "duration": 0,
    "start_time": "2022-06-26T18:57:05.149Z"
   },
   {
    "duration": 0,
    "start_time": "2022-06-26T18:57:05.153Z"
   },
   {
    "duration": 0,
    "start_time": "2022-06-26T18:57:05.154Z"
   },
   {
    "duration": 0,
    "start_time": "2022-06-26T18:57:05.155Z"
   },
   {
    "duration": 0,
    "start_time": "2022-06-26T18:57:05.156Z"
   },
   {
    "duration": 0,
    "start_time": "2022-06-26T18:57:05.158Z"
   },
   {
    "duration": 0,
    "start_time": "2022-06-26T18:57:05.159Z"
   },
   {
    "duration": 0,
    "start_time": "2022-06-26T18:57:05.159Z"
   },
   {
    "duration": 45,
    "start_time": "2022-06-26T18:57:06.636Z"
   },
   {
    "duration": 123,
    "start_time": "2022-06-26T18:57:39.813Z"
   },
   {
    "duration": 10,
    "start_time": "2022-06-26T18:57:54.735Z"
   },
   {
    "duration": 42,
    "start_time": "2022-06-26T18:58:03.497Z"
   },
   {
    "duration": 11,
    "start_time": "2022-06-26T18:58:05.149Z"
   },
   {
    "duration": 8,
    "start_time": "2022-06-26T18:59:56.296Z"
   },
   {
    "duration": 22,
    "start_time": "2022-06-26T19:00:00.058Z"
   },
   {
    "duration": 16,
    "start_time": "2022-06-26T19:00:04.254Z"
   },
   {
    "duration": 97,
    "start_time": "2022-06-26T19:00:58.278Z"
   },
   {
    "duration": 377,
    "start_time": "2022-06-26T19:01:02.364Z"
   },
   {
    "duration": 14,
    "start_time": "2022-06-26T19:01:44.474Z"
   },
   {
    "duration": 3,
    "start_time": "2022-06-26T19:01:53.714Z"
   },
   {
    "duration": 116,
    "start_time": "2022-06-26T19:01:53.721Z"
   },
   {
    "duration": 16,
    "start_time": "2022-06-26T19:01:53.845Z"
   },
   {
    "duration": 3,
    "start_time": "2022-06-26T19:01:53.863Z"
   },
   {
    "duration": 9,
    "start_time": "2022-06-26T19:01:53.868Z"
   },
   {
    "duration": 8,
    "start_time": "2022-06-26T19:01:53.879Z"
   },
   {
    "duration": 8,
    "start_time": "2022-06-26T19:01:53.889Z"
   },
   {
    "duration": 9,
    "start_time": "2022-06-26T19:01:53.929Z"
   },
   {
    "duration": 26,
    "start_time": "2022-06-26T19:01:53.941Z"
   },
   {
    "duration": 21,
    "start_time": "2022-06-26T19:01:53.969Z"
   },
   {
    "duration": 11,
    "start_time": "2022-06-26T19:01:53.992Z"
   },
   {
    "duration": 27,
    "start_time": "2022-06-26T19:01:54.005Z"
   },
   {
    "duration": 27,
    "start_time": "2022-06-26T19:01:54.034Z"
   },
   {
    "duration": 9,
    "start_time": "2022-06-26T19:01:54.062Z"
   },
   {
    "duration": 3,
    "start_time": "2022-06-26T19:01:54.073Z"
   },
   {
    "duration": 15,
    "start_time": "2022-06-26T19:01:54.078Z"
   },
   {
    "duration": 199,
    "start_time": "2022-06-26T19:01:54.095Z"
   },
   {
    "duration": 148,
    "start_time": "2022-06-26T19:01:54.295Z"
   },
   {
    "duration": 13,
    "start_time": "2022-06-26T19:01:54.445Z"
   },
   {
    "duration": 544,
    "start_time": "2022-06-26T19:01:54.460Z"
   },
   {
    "duration": 7,
    "start_time": "2022-06-26T19:01:55.006Z"
   },
   {
    "duration": 25,
    "start_time": "2022-06-26T19:01:55.030Z"
   },
   {
    "duration": 1062,
    "start_time": "2022-06-26T19:01:55.056Z"
   },
   {
    "duration": 19,
    "start_time": "2022-06-26T19:01:56.121Z"
   },
   {
    "duration": 172,
    "start_time": "2022-06-26T19:01:56.141Z"
   },
   {
    "duration": 4,
    "start_time": "2022-06-26T19:01:56.315Z"
   },
   {
    "duration": 50,
    "start_time": "2022-06-26T19:01:56.332Z"
   },
   {
    "duration": 467,
    "start_time": "2022-06-26T19:01:56.384Z"
   },
   {
    "duration": 0,
    "start_time": "2022-06-26T19:01:56.853Z"
   },
   {
    "duration": 0,
    "start_time": "2022-06-26T19:01:56.854Z"
   },
   {
    "duration": 0,
    "start_time": "2022-06-26T19:01:56.855Z"
   },
   {
    "duration": 0,
    "start_time": "2022-06-26T19:01:56.856Z"
   },
   {
    "duration": 0,
    "start_time": "2022-06-26T19:01:56.857Z"
   },
   {
    "duration": 0,
    "start_time": "2022-06-26T19:01:56.859Z"
   },
   {
    "duration": 0,
    "start_time": "2022-06-26T19:01:56.860Z"
   },
   {
    "duration": 398,
    "start_time": "2022-06-26T19:02:32.474Z"
   },
   {
    "duration": 14,
    "start_time": "2022-06-26T19:02:54.366Z"
   },
   {
    "duration": 5,
    "start_time": "2022-06-26T19:02:56.818Z"
   },
   {
    "duration": 92,
    "start_time": "2022-06-26T19:02:56.827Z"
   },
   {
    "duration": 18,
    "start_time": "2022-06-26T19:02:56.920Z"
   },
   {
    "duration": 8,
    "start_time": "2022-06-26T19:02:56.942Z"
   },
   {
    "duration": 9,
    "start_time": "2022-06-26T19:02:56.951Z"
   },
   {
    "duration": 10,
    "start_time": "2022-06-26T19:02:56.962Z"
   },
   {
    "duration": 8,
    "start_time": "2022-06-26T19:02:56.973Z"
   },
   {
    "duration": 7,
    "start_time": "2022-06-26T19:02:56.983Z"
   },
   {
    "duration": 7,
    "start_time": "2022-06-26T19:02:56.994Z"
   },
   {
    "duration": 37,
    "start_time": "2022-06-26T19:02:57.003Z"
   },
   {
    "duration": 8,
    "start_time": "2022-06-26T19:02:57.042Z"
   },
   {
    "duration": 17,
    "start_time": "2022-06-26T19:02:57.052Z"
   },
   {
    "duration": 21,
    "start_time": "2022-06-26T19:02:57.071Z"
   },
   {
    "duration": 10,
    "start_time": "2022-06-26T19:02:57.093Z"
   },
   {
    "duration": 23,
    "start_time": "2022-06-26T19:02:57.105Z"
   },
   {
    "duration": 17,
    "start_time": "2022-06-26T19:02:57.133Z"
   },
   {
    "duration": 187,
    "start_time": "2022-06-26T19:02:57.151Z"
   },
   {
    "duration": 136,
    "start_time": "2022-06-26T19:02:57.340Z"
   },
   {
    "duration": 14,
    "start_time": "2022-06-26T19:02:57.477Z"
   },
   {
    "duration": 636,
    "start_time": "2022-06-26T19:02:57.493Z"
   },
   {
    "duration": 9,
    "start_time": "2022-06-26T19:02:58.130Z"
   },
   {
    "duration": 24,
    "start_time": "2022-06-26T19:02:58.141Z"
   },
   {
    "duration": 1023,
    "start_time": "2022-06-26T19:02:58.167Z"
   },
   {
    "duration": 10,
    "start_time": "2022-06-26T19:02:59.195Z"
   },
   {
    "duration": 181,
    "start_time": "2022-06-26T19:02:59.207Z"
   },
   {
    "duration": 3,
    "start_time": "2022-06-26T19:02:59.389Z"
   },
   {
    "duration": 54,
    "start_time": "2022-06-26T19:02:59.394Z"
   },
   {
    "duration": 26,
    "start_time": "2022-06-26T19:02:59.449Z"
   },
   {
    "duration": 0,
    "start_time": "2022-06-26T19:02:59.476Z"
   },
   {
    "duration": 0,
    "start_time": "2022-06-26T19:02:59.477Z"
   },
   {
    "duration": 0,
    "start_time": "2022-06-26T19:02:59.478Z"
   },
   {
    "duration": 0,
    "start_time": "2022-06-26T19:02:59.479Z"
   },
   {
    "duration": 0,
    "start_time": "2022-06-26T19:02:59.480Z"
   },
   {
    "duration": 0,
    "start_time": "2022-06-26T19:02:59.481Z"
   },
   {
    "duration": 0,
    "start_time": "2022-06-26T19:02:59.482Z"
   },
   {
    "duration": 424,
    "start_time": "2022-06-26T19:03:08.355Z"
   },
   {
    "duration": 4,
    "start_time": "2022-06-26T19:03:13.978Z"
   },
   {
    "duration": 112,
    "start_time": "2022-06-26T19:03:13.984Z"
   },
   {
    "duration": 12,
    "start_time": "2022-06-26T19:03:14.098Z"
   },
   {
    "duration": 6,
    "start_time": "2022-06-26T19:03:14.112Z"
   },
   {
    "duration": 11,
    "start_time": "2022-06-26T19:03:14.128Z"
   },
   {
    "duration": 9,
    "start_time": "2022-06-26T19:03:14.145Z"
   },
   {
    "duration": 6,
    "start_time": "2022-06-26T19:03:14.156Z"
   },
   {
    "duration": 5,
    "start_time": "2022-06-26T19:03:14.164Z"
   },
   {
    "duration": 9,
    "start_time": "2022-06-26T19:03:14.171Z"
   },
   {
    "duration": 11,
    "start_time": "2022-06-26T19:03:14.181Z"
   },
   {
    "duration": 16,
    "start_time": "2022-06-26T19:03:14.225Z"
   },
   {
    "duration": 21,
    "start_time": "2022-06-26T19:03:14.243Z"
   },
   {
    "duration": 30,
    "start_time": "2022-06-26T19:03:14.266Z"
   },
   {
    "duration": 11,
    "start_time": "2022-06-26T19:03:14.298Z"
   },
   {
    "duration": 19,
    "start_time": "2022-06-26T19:03:14.311Z"
   },
   {
    "duration": 18,
    "start_time": "2022-06-26T19:03:14.339Z"
   },
   {
    "duration": 297,
    "start_time": "2022-06-26T19:03:14.359Z"
   },
   {
    "duration": 208,
    "start_time": "2022-06-26T19:03:14.658Z"
   },
   {
    "duration": 21,
    "start_time": "2022-06-26T19:03:14.868Z"
   },
   {
    "duration": 579,
    "start_time": "2022-06-26T19:03:14.891Z"
   },
   {
    "duration": 7,
    "start_time": "2022-06-26T19:03:15.471Z"
   },
   {
    "duration": 15,
    "start_time": "2022-06-26T19:03:15.480Z"
   },
   {
    "duration": 975,
    "start_time": "2022-06-26T19:03:15.496Z"
   },
   {
    "duration": 9,
    "start_time": "2022-06-26T19:03:16.472Z"
   },
   {
    "duration": 187,
    "start_time": "2022-06-26T19:03:16.483Z"
   },
   {
    "duration": 4,
    "start_time": "2022-06-26T19:03:16.673Z"
   },
   {
    "duration": 227,
    "start_time": "2022-06-26T19:03:16.679Z"
   },
   {
    "duration": 22,
    "start_time": "2022-06-26T19:03:44.654Z"
   },
   {
    "duration": 15,
    "start_time": "2022-06-26T19:03:55.254Z"
   },
   {
    "duration": 23,
    "start_time": "2022-06-26T19:04:04.778Z"
   },
   {
    "duration": 17,
    "start_time": "2022-06-26T19:04:11.506Z"
   },
   {
    "duration": 24,
    "start_time": "2022-06-26T19:04:12.214Z"
   },
   {
    "duration": 16,
    "start_time": "2022-06-26T19:04:16.182Z"
   },
   {
    "duration": 10,
    "start_time": "2022-06-26T19:04:25.201Z"
   },
   {
    "duration": 17,
    "start_time": "2022-06-26T19:04:30.904Z"
   },
   {
    "duration": 23,
    "start_time": "2022-06-26T19:05:45.766Z"
   },
   {
    "duration": 4,
    "start_time": "2022-06-26T19:05:56.638Z"
   },
   {
    "duration": 99,
    "start_time": "2022-06-26T19:05:56.644Z"
   },
   {
    "duration": 17,
    "start_time": "2022-06-26T19:05:56.745Z"
   },
   {
    "duration": 7,
    "start_time": "2022-06-26T19:05:56.764Z"
   },
   {
    "duration": 11,
    "start_time": "2022-06-26T19:05:56.773Z"
   },
   {
    "duration": 11,
    "start_time": "2022-06-26T19:05:56.786Z"
   },
   {
    "duration": 13,
    "start_time": "2022-06-26T19:05:56.799Z"
   },
   {
    "duration": 31,
    "start_time": "2022-06-26T19:05:56.814Z"
   },
   {
    "duration": 19,
    "start_time": "2022-06-26T19:05:56.847Z"
   },
   {
    "duration": 20,
    "start_time": "2022-06-26T19:05:56.868Z"
   },
   {
    "duration": 12,
    "start_time": "2022-06-26T19:05:56.891Z"
   },
   {
    "duration": 19,
    "start_time": "2022-06-26T19:05:56.905Z"
   },
   {
    "duration": 29,
    "start_time": "2022-06-26T19:05:56.926Z"
   },
   {
    "duration": 9,
    "start_time": "2022-06-26T19:05:56.957Z"
   },
   {
    "duration": 3,
    "start_time": "2022-06-26T19:05:56.968Z"
   },
   {
    "duration": 12,
    "start_time": "2022-06-26T19:05:56.972Z"
   },
   {
    "duration": 187,
    "start_time": "2022-06-26T19:05:56.985Z"
   },
   {
    "duration": 127,
    "start_time": "2022-06-26T19:05:57.174Z"
   },
   {
    "duration": 13,
    "start_time": "2022-06-26T19:05:57.303Z"
   },
   {
    "duration": 495,
    "start_time": "2022-06-26T19:05:57.325Z"
   },
   {
    "duration": 5,
    "start_time": "2022-06-26T19:05:57.825Z"
   },
   {
    "duration": 24,
    "start_time": "2022-06-26T19:05:57.831Z"
   },
   {
    "duration": 918,
    "start_time": "2022-06-26T19:05:57.857Z"
   },
   {
    "duration": 10,
    "start_time": "2022-06-26T19:05:58.777Z"
   },
   {
    "duration": 301,
    "start_time": "2022-06-26T19:05:58.788Z"
   },
   {
    "duration": 3,
    "start_time": "2022-06-26T19:05:59.090Z"
   },
   {
    "duration": 44,
    "start_time": "2022-06-26T19:05:59.095Z"
   },
   {
    "duration": 22,
    "start_time": "2022-06-26T19:05:59.141Z"
   },
   {
    "duration": 23,
    "start_time": "2022-06-26T19:05:59.166Z"
   },
   {
    "duration": 0,
    "start_time": "2022-06-26T19:05:59.191Z"
   },
   {
    "duration": 0,
    "start_time": "2022-06-26T19:05:59.192Z"
   },
   {
    "duration": 0,
    "start_time": "2022-06-26T19:05:59.193Z"
   },
   {
    "duration": 0,
    "start_time": "2022-06-26T19:05:59.194Z"
   },
   {
    "duration": 0,
    "start_time": "2022-06-26T19:05:59.194Z"
   },
   {
    "duration": 0,
    "start_time": "2022-06-26T19:05:59.195Z"
   },
   {
    "duration": 0,
    "start_time": "2022-06-26T19:05:59.196Z"
   },
   {
    "duration": 1197,
    "start_time": "2022-06-26T19:07:21.557Z"
   },
   {
    "duration": 88,
    "start_time": "2022-06-26T19:07:22.756Z"
   },
   {
    "duration": 12,
    "start_time": "2022-06-26T19:07:22.846Z"
   },
   {
    "duration": 4,
    "start_time": "2022-06-26T19:07:22.860Z"
   },
   {
    "duration": 7,
    "start_time": "2022-06-26T19:07:22.866Z"
   },
   {
    "duration": 8,
    "start_time": "2022-06-26T19:07:22.874Z"
   },
   {
    "duration": 6,
    "start_time": "2022-06-26T19:07:22.883Z"
   },
   {
    "duration": 5,
    "start_time": "2022-06-26T19:07:22.890Z"
   },
   {
    "duration": 37,
    "start_time": "2022-06-26T19:07:22.896Z"
   },
   {
    "duration": 15,
    "start_time": "2022-06-26T19:07:22.935Z"
   },
   {
    "duration": 8,
    "start_time": "2022-06-26T19:07:22.951Z"
   },
   {
    "duration": 18,
    "start_time": "2022-06-26T19:07:22.961Z"
   },
   {
    "duration": 20,
    "start_time": "2022-06-26T19:07:22.980Z"
   },
   {
    "duration": 28,
    "start_time": "2022-06-26T19:07:23.001Z"
   },
   {
    "duration": 7,
    "start_time": "2022-06-26T19:07:23.030Z"
   },
   {
    "duration": 13,
    "start_time": "2022-06-26T19:07:23.040Z"
   },
   {
    "duration": 190,
    "start_time": "2022-06-26T19:07:23.054Z"
   },
   {
    "duration": 125,
    "start_time": "2022-06-26T19:07:23.245Z"
   },
   {
    "duration": 14,
    "start_time": "2022-06-26T19:07:23.371Z"
   },
   {
    "duration": 520,
    "start_time": "2022-06-26T19:07:23.386Z"
   },
   {
    "duration": 5,
    "start_time": "2022-06-26T19:07:23.908Z"
   },
   {
    "duration": 24,
    "start_time": "2022-06-26T19:07:23.915Z"
   },
   {
    "duration": 1001,
    "start_time": "2022-06-26T19:07:23.941Z"
   },
   {
    "duration": 8,
    "start_time": "2022-06-26T19:07:24.944Z"
   },
   {
    "duration": 163,
    "start_time": "2022-06-26T19:07:24.953Z"
   },
   {
    "duration": 15,
    "start_time": "2022-06-26T19:07:25.119Z"
   },
   {
    "duration": 45,
    "start_time": "2022-06-26T19:07:25.137Z"
   },
   {
    "duration": 19,
    "start_time": "2022-06-26T19:07:25.185Z"
   },
   {
    "duration": 105,
    "start_time": "2022-06-26T19:07:25.205Z"
   },
   {
    "duration": 0,
    "start_time": "2022-06-26T19:07:25.312Z"
   },
   {
    "duration": 0,
    "start_time": "2022-06-26T19:07:25.313Z"
   },
   {
    "duration": 0,
    "start_time": "2022-06-26T19:07:25.314Z"
   },
   {
    "duration": 0,
    "start_time": "2022-06-26T19:07:25.315Z"
   },
   {
    "duration": 0,
    "start_time": "2022-06-26T19:07:25.316Z"
   },
   {
    "duration": 0,
    "start_time": "2022-06-26T19:07:25.317Z"
   },
   {
    "duration": 0,
    "start_time": "2022-06-26T19:07:25.329Z"
   },
   {
    "duration": 3,
    "start_time": "2022-06-26T19:07:52.665Z"
   },
   {
    "duration": 4,
    "start_time": "2022-06-26T19:08:22.029Z"
   },
   {
    "duration": 27,
    "start_time": "2022-06-26T19:09:27.597Z"
   },
   {
    "duration": 15,
    "start_time": "2022-06-26T19:09:31.065Z"
   },
   {
    "duration": 352,
    "start_time": "2022-06-26T19:09:42.037Z"
   },
   {
    "duration": 3,
    "start_time": "2022-06-26T19:09:47.937Z"
   },
   {
    "duration": 99,
    "start_time": "2022-06-26T19:09:47.942Z"
   },
   {
    "duration": 12,
    "start_time": "2022-06-26T19:09:48.043Z"
   },
   {
    "duration": 3,
    "start_time": "2022-06-26T19:09:48.057Z"
   },
   {
    "duration": 9,
    "start_time": "2022-06-26T19:09:48.063Z"
   },
   {
    "duration": 10,
    "start_time": "2022-06-26T19:09:48.074Z"
   },
   {
    "duration": 13,
    "start_time": "2022-06-26T19:09:48.085Z"
   },
   {
    "duration": 7,
    "start_time": "2022-06-26T19:09:48.099Z"
   },
   {
    "duration": 9,
    "start_time": "2022-06-26T19:09:48.125Z"
   },
   {
    "duration": 13,
    "start_time": "2022-06-26T19:09:48.135Z"
   },
   {
    "duration": 9,
    "start_time": "2022-06-26T19:09:48.150Z"
   },
   {
    "duration": 16,
    "start_time": "2022-06-26T19:09:48.160Z"
   },
   {
    "duration": 48,
    "start_time": "2022-06-26T19:09:48.178Z"
   },
   {
    "duration": 10,
    "start_time": "2022-06-26T19:09:48.228Z"
   },
   {
    "duration": 4,
    "start_time": "2022-06-26T19:09:48.239Z"
   },
   {
    "duration": 15,
    "start_time": "2022-06-26T19:09:48.245Z"
   },
   {
    "duration": 188,
    "start_time": "2022-06-26T19:09:48.261Z"
   },
   {
    "duration": 141,
    "start_time": "2022-06-26T19:09:48.451Z"
   },
   {
    "duration": 17,
    "start_time": "2022-06-26T19:09:48.594Z"
   },
   {
    "duration": 551,
    "start_time": "2022-06-26T19:09:48.626Z"
   },
   {
    "duration": 6,
    "start_time": "2022-06-26T19:09:49.179Z"
   },
   {
    "duration": 15,
    "start_time": "2022-06-26T19:09:49.186Z"
   },
   {
    "duration": 1015,
    "start_time": "2022-06-26T19:09:49.202Z"
   },
   {
    "duration": 11,
    "start_time": "2022-06-26T19:09:50.219Z"
   },
   {
    "duration": 156,
    "start_time": "2022-06-26T19:09:50.231Z"
   },
   {
    "duration": 5,
    "start_time": "2022-06-26T19:09:50.389Z"
   },
   {
    "duration": 51,
    "start_time": "2022-06-26T19:09:50.395Z"
   },
   {
    "duration": 18,
    "start_time": "2022-06-26T19:09:50.447Z"
   },
   {
    "duration": 15,
    "start_time": "2022-06-26T19:09:50.468Z"
   },
   {
    "duration": 60,
    "start_time": "2022-06-26T19:09:50.485Z"
   },
   {
    "duration": 0,
    "start_time": "2022-06-26T19:09:50.547Z"
   },
   {
    "duration": 0,
    "start_time": "2022-06-26T19:09:50.548Z"
   },
   {
    "duration": 0,
    "start_time": "2022-06-26T19:09:50.549Z"
   },
   {
    "duration": 0,
    "start_time": "2022-06-26T19:09:50.550Z"
   },
   {
    "duration": 0,
    "start_time": "2022-06-26T19:09:50.551Z"
   },
   {
    "duration": 4,
    "start_time": "2022-06-26T19:10:52.289Z"
   },
   {
    "duration": 93,
    "start_time": "2022-06-26T19:11:19.185Z"
   },
   {
    "duration": 16,
    "start_time": "2022-06-26T19:11:28.846Z"
   },
   {
    "duration": 4,
    "start_time": "2022-06-26T19:12:29.737Z"
   },
   {
    "duration": 4,
    "start_time": "2022-06-26T19:12:37.305Z"
   },
   {
    "duration": 4,
    "start_time": "2022-06-26T19:12:49.809Z"
   },
   {
    "duration": 4,
    "start_time": "2022-06-26T19:12:58.853Z"
   },
   {
    "duration": 80,
    "start_time": "2022-06-26T19:13:26.330Z"
   },
   {
    "duration": 13702,
    "start_time": "2022-06-26T19:13:34.529Z"
   },
   {
    "duration": 28,
    "start_time": "2022-06-26T19:13:48.234Z"
   },
   {
    "duration": 10509,
    "start_time": "2022-06-26T19:14:13.549Z"
   },
   {
    "duration": 39,
    "start_time": "2022-06-26T19:14:50.789Z"
   },
   {
    "duration": 81,
    "start_time": "2022-06-26T19:15:12.043Z"
   },
   {
    "duration": 1881,
    "start_time": "2022-06-26T19:15:19.646Z"
   },
   {
    "duration": 1567,
    "start_time": "2022-06-26T19:15:27.982Z"
   },
   {
    "duration": 1494,
    "start_time": "2022-06-26T19:15:32.157Z"
   },
   {
    "duration": 1602,
    "start_time": "2022-06-26T19:15:41.189Z"
   },
   {
    "duration": 1583,
    "start_time": "2022-06-26T19:15:48.061Z"
   },
   {
    "duration": 19230,
    "start_time": "2022-06-26T19:16:38.477Z"
   },
   {
    "duration": 16,
    "start_time": "2022-06-26T19:17:01.946Z"
   },
   {
    "duration": 10,
    "start_time": "2022-06-26T19:17:30.838Z"
   },
   {
    "duration": 298,
    "start_time": "2022-06-26T19:18:38.977Z"
   },
   {
    "duration": 16,
    "start_time": "2022-06-26T19:18:44.405Z"
   },
   {
    "duration": 5,
    "start_time": "2022-06-26T19:19:06.957Z"
   },
   {
    "duration": 408,
    "start_time": "2022-06-26T19:19:10.197Z"
   },
   {
    "duration": 1217,
    "start_time": "2022-06-26T19:19:19.074Z"
   },
   {
    "duration": 84,
    "start_time": "2022-06-26T19:19:20.294Z"
   },
   {
    "duration": 13,
    "start_time": "2022-06-26T19:19:20.380Z"
   },
   {
    "duration": 3,
    "start_time": "2022-06-26T19:19:20.395Z"
   },
   {
    "duration": 11,
    "start_time": "2022-06-26T19:19:20.399Z"
   },
   {
    "duration": 51,
    "start_time": "2022-06-26T19:19:20.412Z"
   },
   {
    "duration": 6,
    "start_time": "2022-06-26T19:19:20.464Z"
   },
   {
    "duration": 7,
    "start_time": "2022-06-26T19:19:20.472Z"
   },
   {
    "duration": 9,
    "start_time": "2022-06-26T19:19:20.480Z"
   },
   {
    "duration": 14,
    "start_time": "2022-06-26T19:19:20.493Z"
   },
   {
    "duration": 10,
    "start_time": "2022-06-26T19:19:20.508Z"
   },
   {
    "duration": 45,
    "start_time": "2022-06-26T19:19:20.528Z"
   },
   {
    "duration": 20,
    "start_time": "2022-06-26T19:19:20.574Z"
   },
   {
    "duration": 12,
    "start_time": "2022-06-26T19:19:20.596Z"
   },
   {
    "duration": 8,
    "start_time": "2022-06-26T19:19:20.610Z"
   },
   {
    "duration": 51,
    "start_time": "2022-06-26T19:19:20.620Z"
   },
   {
    "duration": 194,
    "start_time": "2022-06-26T19:19:20.673Z"
   },
   {
    "duration": 171,
    "start_time": "2022-06-26T19:19:20.868Z"
   },
   {
    "duration": 19,
    "start_time": "2022-06-26T19:19:21.041Z"
   },
   {
    "duration": 580,
    "start_time": "2022-06-26T19:19:21.064Z"
   },
   {
    "duration": 7,
    "start_time": "2022-06-26T19:19:21.647Z"
   },
   {
    "duration": 30,
    "start_time": "2022-06-26T19:19:21.657Z"
   },
   {
    "duration": 1142,
    "start_time": "2022-06-26T19:19:21.688Z"
   },
   {
    "duration": 10,
    "start_time": "2022-06-26T19:19:22.833Z"
   },
   {
    "duration": 183,
    "start_time": "2022-06-26T19:19:22.844Z"
   },
   {
    "duration": 7,
    "start_time": "2022-06-26T19:19:23.032Z"
   },
   {
    "duration": 55,
    "start_time": "2022-06-26T19:19:23.041Z"
   },
   {
    "duration": 22,
    "start_time": "2022-06-26T19:19:23.100Z"
   },
   {
    "duration": 12,
    "start_time": "2022-06-26T19:19:23.124Z"
   },
   {
    "duration": 31,
    "start_time": "2022-06-26T19:19:23.142Z"
   },
   {
    "duration": 131,
    "start_time": "2022-06-26T19:19:23.175Z"
   },
   {
    "duration": 0,
    "start_time": "2022-06-26T19:19:23.308Z"
   },
   {
    "duration": 0,
    "start_time": "2022-06-26T19:19:23.309Z"
   },
   {
    "duration": 0,
    "start_time": "2022-06-26T19:19:23.310Z"
   },
   {
    "duration": 0,
    "start_time": "2022-06-26T19:19:23.311Z"
   },
   {
    "duration": 0,
    "start_time": "2022-06-26T19:19:23.312Z"
   },
   {
    "duration": 11,
    "start_time": "2022-06-26T19:19:49.762Z"
   },
   {
    "duration": 4,
    "start_time": "2022-06-26T19:20:12.050Z"
   },
   {
    "duration": 7,
    "start_time": "2022-06-26T19:20:59.562Z"
   },
   {
    "duration": 15,
    "start_time": "2022-06-26T19:21:02.884Z"
   },
   {
    "duration": 6,
    "start_time": "2022-06-26T19:21:28.954Z"
   },
   {
    "duration": 7,
    "start_time": "2022-06-26T19:21:49.539Z"
   },
   {
    "duration": 18,
    "start_time": "2022-06-26T19:22:09.283Z"
   },
   {
    "duration": 6,
    "start_time": "2022-06-26T19:22:24.400Z"
   },
   {
    "duration": 9,
    "start_time": "2022-06-26T19:22:32.718Z"
   },
   {
    "duration": 1388,
    "start_time": "2022-06-27T07:37:16.621Z"
   },
   {
    "duration": 110,
    "start_time": "2022-06-27T07:37:18.012Z"
   },
   {
    "duration": 16,
    "start_time": "2022-06-27T07:37:18.134Z"
   },
   {
    "duration": 5,
    "start_time": "2022-06-27T07:37:18.152Z"
   },
   {
    "duration": 10,
    "start_time": "2022-06-27T07:37:18.158Z"
   },
   {
    "duration": 8,
    "start_time": "2022-06-27T07:37:18.170Z"
   },
   {
    "duration": 7,
    "start_time": "2022-06-27T07:37:18.180Z"
   },
   {
    "duration": 7,
    "start_time": "2022-06-27T07:37:18.188Z"
   },
   {
    "duration": 11,
    "start_time": "2022-06-27T07:37:18.196Z"
   },
   {
    "duration": 35,
    "start_time": "2022-06-27T07:37:18.209Z"
   },
   {
    "duration": 9,
    "start_time": "2022-06-27T07:37:18.246Z"
   },
   {
    "duration": 20,
    "start_time": "2022-06-27T07:37:18.257Z"
   },
   {
    "duration": 46,
    "start_time": "2022-06-27T07:37:18.279Z"
   },
   {
    "duration": 11,
    "start_time": "2022-06-27T07:37:18.334Z"
   },
   {
    "duration": 5,
    "start_time": "2022-06-27T07:37:18.347Z"
   },
   {
    "duration": 14,
    "start_time": "2022-06-27T07:37:18.353Z"
   },
   {
    "duration": 196,
    "start_time": "2022-06-27T07:37:18.368Z"
   },
   {
    "duration": 135,
    "start_time": "2022-06-27T07:37:18.565Z"
   },
   {
    "duration": 28,
    "start_time": "2022-06-27T07:37:18.702Z"
   },
   {
    "duration": 540,
    "start_time": "2022-06-27T07:37:18.737Z"
   },
   {
    "duration": 6,
    "start_time": "2022-06-27T07:37:19.278Z"
   },
   {
    "duration": 44,
    "start_time": "2022-06-27T07:37:19.286Z"
   },
   {
    "duration": 1126,
    "start_time": "2022-06-27T07:37:19.331Z"
   },
   {
    "duration": 8,
    "start_time": "2022-06-27T07:37:20.459Z"
   },
   {
    "duration": 177,
    "start_time": "2022-06-27T07:37:20.469Z"
   },
   {
    "duration": 3,
    "start_time": "2022-06-27T07:37:20.647Z"
   },
   {
    "duration": 38,
    "start_time": "2022-06-27T07:37:20.652Z"
   },
   {
    "duration": 50,
    "start_time": "2022-06-27T07:37:20.693Z"
   },
   {
    "duration": 112,
    "start_time": "2022-06-27T07:37:20.744Z"
   },
   {
    "duration": 0,
    "start_time": "2022-06-27T07:37:20.858Z"
   },
   {
    "duration": 0,
    "start_time": "2022-06-27T07:37:20.859Z"
   },
   {
    "duration": 0,
    "start_time": "2022-06-27T07:37:20.860Z"
   },
   {
    "duration": 3,
    "start_time": "2022-06-27T07:38:14.882Z"
   },
   {
    "duration": 74,
    "start_time": "2022-06-27T07:38:14.887Z"
   },
   {
    "duration": 13,
    "start_time": "2022-06-27T07:38:14.963Z"
   },
   {
    "duration": 27,
    "start_time": "2022-06-27T07:38:14.977Z"
   },
   {
    "duration": 15,
    "start_time": "2022-06-27T07:38:15.006Z"
   },
   {
    "duration": 39,
    "start_time": "2022-06-27T07:38:15.026Z"
   },
   {
    "duration": 21,
    "start_time": "2022-06-27T07:38:15.067Z"
   },
   {
    "duration": 20,
    "start_time": "2022-06-27T07:38:15.090Z"
   },
   {
    "duration": 23,
    "start_time": "2022-06-27T07:38:15.111Z"
   },
   {
    "duration": 31,
    "start_time": "2022-06-27T07:38:15.135Z"
   },
   {
    "duration": 14,
    "start_time": "2022-06-27T07:38:15.170Z"
   },
   {
    "duration": 52,
    "start_time": "2022-06-27T07:38:15.185Z"
   },
   {
    "duration": 21,
    "start_time": "2022-06-27T07:38:15.239Z"
   },
   {
    "duration": 9,
    "start_time": "2022-06-27T07:38:15.262Z"
   },
   {
    "duration": 8,
    "start_time": "2022-06-27T07:38:15.272Z"
   },
   {
    "duration": 21,
    "start_time": "2022-06-27T07:38:15.281Z"
   },
   {
    "duration": 190,
    "start_time": "2022-06-27T07:38:15.303Z"
   },
   {
    "duration": 142,
    "start_time": "2022-06-27T07:38:15.494Z"
   },
   {
    "duration": 17,
    "start_time": "2022-06-27T07:38:15.638Z"
   },
   {
    "duration": 583,
    "start_time": "2022-06-27T07:38:15.658Z"
   },
   {
    "duration": 7,
    "start_time": "2022-06-27T07:38:16.243Z"
   },
   {
    "duration": 27,
    "start_time": "2022-06-27T07:38:16.251Z"
   },
   {
    "duration": 1102,
    "start_time": "2022-06-27T07:38:16.279Z"
   },
   {
    "duration": 9,
    "start_time": "2022-06-27T07:38:17.383Z"
   },
   {
    "duration": 179,
    "start_time": "2022-06-27T07:38:17.394Z"
   },
   {
    "duration": 4,
    "start_time": "2022-06-27T07:38:17.574Z"
   },
   {
    "duration": 51,
    "start_time": "2022-06-27T07:38:17.579Z"
   },
   {
    "duration": 921,
    "start_time": "2022-06-27T07:38:17.637Z"
   },
   {
    "duration": 0,
    "start_time": "2022-06-27T07:38:18.560Z"
   },
   {
    "duration": 0,
    "start_time": "2022-06-27T07:38:18.561Z"
   },
   {
    "duration": 109530,
    "start_time": "2022-06-27T07:38:44.013Z"
   },
   {
    "duration": 0,
    "start_time": "2022-06-27T07:40:33.548Z"
   },
   {
    "duration": 0,
    "start_time": "2022-06-27T07:40:33.549Z"
   },
   {
    "duration": 0,
    "start_time": "2022-06-27T07:40:33.550Z"
   },
   {
    "duration": 0,
    "start_time": "2022-06-27T07:40:33.551Z"
   },
   {
    "duration": 0,
    "start_time": "2022-06-27T07:40:33.553Z"
   },
   {
    "duration": 0,
    "start_time": "2022-06-27T07:40:33.557Z"
   },
   {
    "duration": 0,
    "start_time": "2022-06-27T07:40:33.558Z"
   },
   {
    "duration": 0,
    "start_time": "2022-06-27T07:40:33.559Z"
   },
   {
    "duration": 0,
    "start_time": "2022-06-27T07:40:33.560Z"
   },
   {
    "duration": 0,
    "start_time": "2022-06-27T07:40:33.561Z"
   },
   {
    "duration": 0,
    "start_time": "2022-06-27T07:40:33.562Z"
   },
   {
    "duration": 0,
    "start_time": "2022-06-27T07:40:33.563Z"
   },
   {
    "duration": 0,
    "start_time": "2022-06-27T07:40:33.565Z"
   },
   {
    "duration": 0,
    "start_time": "2022-06-27T07:40:33.566Z"
   },
   {
    "duration": 0,
    "start_time": "2022-06-27T07:40:33.567Z"
   },
   {
    "duration": 0,
    "start_time": "2022-06-27T07:40:33.568Z"
   },
   {
    "duration": 0,
    "start_time": "2022-06-27T07:40:33.569Z"
   },
   {
    "duration": 0,
    "start_time": "2022-06-27T07:40:33.570Z"
   },
   {
    "duration": 0,
    "start_time": "2022-06-27T07:40:33.571Z"
   },
   {
    "duration": 0,
    "start_time": "2022-06-27T07:40:33.573Z"
   },
   {
    "duration": 0,
    "start_time": "2022-06-27T07:40:33.574Z"
   },
   {
    "duration": 0,
    "start_time": "2022-06-27T07:40:33.575Z"
   },
   {
    "duration": 0,
    "start_time": "2022-06-27T07:40:33.576Z"
   },
   {
    "duration": 0,
    "start_time": "2022-06-27T07:40:33.577Z"
   },
   {
    "duration": 0,
    "start_time": "2022-06-27T07:40:33.578Z"
   },
   {
    "duration": 0,
    "start_time": "2022-06-27T07:40:33.579Z"
   },
   {
    "duration": 0,
    "start_time": "2022-06-27T07:40:33.580Z"
   },
   {
    "duration": 0,
    "start_time": "2022-06-27T07:40:33.582Z"
   },
   {
    "duration": 0,
    "start_time": "2022-06-27T07:40:33.624Z"
   },
   {
    "duration": 0,
    "start_time": "2022-06-27T07:40:33.625Z"
   },
   {
    "duration": 3,
    "start_time": "2022-06-27T07:42:14.411Z"
   },
   {
    "duration": 81,
    "start_time": "2022-06-27T07:42:14.418Z"
   },
   {
    "duration": 13,
    "start_time": "2022-06-27T07:42:14.501Z"
   },
   {
    "duration": 5,
    "start_time": "2022-06-27T07:42:14.515Z"
   },
   {
    "duration": 26,
    "start_time": "2022-06-27T07:42:14.523Z"
   },
   {
    "duration": 9,
    "start_time": "2022-06-27T07:42:14.551Z"
   },
   {
    "duration": 7,
    "start_time": "2022-06-27T07:42:14.561Z"
   },
   {
    "duration": 11,
    "start_time": "2022-06-27T07:42:14.569Z"
   },
   {
    "duration": 10,
    "start_time": "2022-06-27T07:42:14.582Z"
   },
   {
    "duration": 12,
    "start_time": "2022-06-27T07:42:14.594Z"
   },
   {
    "duration": 23,
    "start_time": "2022-06-27T07:42:14.608Z"
   },
   {
    "duration": 48,
    "start_time": "2022-06-27T07:42:14.633Z"
   },
   {
    "duration": 35,
    "start_time": "2022-06-27T07:42:14.683Z"
   },
   {
    "duration": 24,
    "start_time": "2022-06-27T07:42:14.723Z"
   },
   {
    "duration": 3,
    "start_time": "2022-06-27T07:42:14.750Z"
   },
   {
    "duration": 15,
    "start_time": "2022-06-27T07:42:14.755Z"
   },
   {
    "duration": 206,
    "start_time": "2022-06-27T07:42:14.772Z"
   },
   {
    "duration": 183,
    "start_time": "2022-06-27T07:42:14.980Z"
   },
   {
    "duration": 16,
    "start_time": "2022-06-27T07:42:15.165Z"
   },
   {
    "duration": 695,
    "start_time": "2022-06-27T07:42:15.182Z"
   },
   {
    "duration": 6,
    "start_time": "2022-06-27T07:42:15.879Z"
   },
   {
    "duration": 17,
    "start_time": "2022-06-27T07:42:15.886Z"
   },
   {
    "duration": 1065,
    "start_time": "2022-06-27T07:42:15.905Z"
   },
   {
    "duration": 11,
    "start_time": "2022-06-27T07:42:16.972Z"
   },
   {
    "duration": 216,
    "start_time": "2022-06-27T07:42:16.985Z"
   },
   {
    "duration": 42,
    "start_time": "2022-06-27T07:42:21.942Z"
   },
   {
    "duration": 1340,
    "start_time": "2022-06-27T07:43:31.019Z"
   },
   {
    "duration": 101,
    "start_time": "2022-06-27T07:43:32.361Z"
   },
   {
    "duration": 13,
    "start_time": "2022-06-27T07:43:32.464Z"
   },
   {
    "duration": 11,
    "start_time": "2022-06-27T07:43:32.479Z"
   },
   {
    "duration": 11,
    "start_time": "2022-06-27T07:43:32.492Z"
   },
   {
    "duration": 12,
    "start_time": "2022-06-27T07:43:32.505Z"
   },
   {
    "duration": 26,
    "start_time": "2022-06-27T07:43:32.519Z"
   },
   {
    "duration": 67,
    "start_time": "2022-06-27T07:43:32.547Z"
   },
   {
    "duration": 39,
    "start_time": "2022-06-27T07:43:32.616Z"
   },
   {
    "duration": 40,
    "start_time": "2022-06-27T07:43:32.658Z"
   },
   {
    "duration": 12,
    "start_time": "2022-06-27T07:43:32.699Z"
   },
   {
    "duration": 35,
    "start_time": "2022-06-27T07:43:32.713Z"
   },
   {
    "duration": 35,
    "start_time": "2022-06-27T07:43:32.750Z"
   },
   {
    "duration": 17,
    "start_time": "2022-06-27T07:43:32.788Z"
   },
   {
    "duration": 29,
    "start_time": "2022-06-27T07:43:32.808Z"
   },
   {
    "duration": 23,
    "start_time": "2022-06-27T07:43:32.843Z"
   },
   {
    "duration": 227,
    "start_time": "2022-06-27T07:43:32.868Z"
   },
   {
    "duration": 148,
    "start_time": "2022-06-27T07:43:33.097Z"
   },
   {
    "duration": 19,
    "start_time": "2022-06-27T07:43:33.246Z"
   },
   {
    "duration": 597,
    "start_time": "2022-06-27T07:43:33.268Z"
   },
   {
    "duration": 7,
    "start_time": "2022-06-27T07:43:33.866Z"
   },
   {
    "duration": 22,
    "start_time": "2022-06-27T07:43:33.874Z"
   },
   {
    "duration": 1151,
    "start_time": "2022-06-27T07:43:33.898Z"
   },
   {
    "duration": 10,
    "start_time": "2022-06-27T07:43:35.051Z"
   },
   {
    "duration": 215,
    "start_time": "2022-06-27T07:43:35.062Z"
   },
   {
    "duration": 62,
    "start_time": "2022-06-27T07:43:35.280Z"
   },
   {
    "duration": 56,
    "start_time": "2022-06-27T07:44:54.044Z"
   },
   {
    "duration": 10,
    "start_time": "2022-06-27T07:44:56.538Z"
   },
   {
    "duration": 1365,
    "start_time": "2022-06-27T07:45:12.418Z"
   },
   {
    "duration": 113,
    "start_time": "2022-06-27T07:45:13.785Z"
   },
   {
    "duration": 14,
    "start_time": "2022-06-27T07:45:13.900Z"
   },
   {
    "duration": 23,
    "start_time": "2022-06-27T07:45:13.916Z"
   },
   {
    "duration": 16,
    "start_time": "2022-06-27T07:45:13.941Z"
   },
   {
    "duration": 22,
    "start_time": "2022-06-27T07:45:13.959Z"
   },
   {
    "duration": 33,
    "start_time": "2022-06-27T07:45:13.983Z"
   },
   {
    "duration": 27,
    "start_time": "2022-06-27T07:45:14.018Z"
   },
   {
    "duration": 17,
    "start_time": "2022-06-27T07:45:14.047Z"
   },
   {
    "duration": 25,
    "start_time": "2022-06-27T07:45:14.066Z"
   },
   {
    "duration": 8,
    "start_time": "2022-06-27T07:45:14.093Z"
   },
   {
    "duration": 62,
    "start_time": "2022-06-27T07:45:14.103Z"
   },
   {
    "duration": 22,
    "start_time": "2022-06-27T07:45:14.167Z"
   },
   {
    "duration": 9,
    "start_time": "2022-06-27T07:45:14.191Z"
   },
   {
    "duration": 9,
    "start_time": "2022-06-27T07:45:14.202Z"
   },
   {
    "duration": 36,
    "start_time": "2022-06-27T07:45:14.213Z"
   },
   {
    "duration": 219,
    "start_time": "2022-06-27T07:45:14.251Z"
   },
   {
    "duration": 136,
    "start_time": "2022-06-27T07:45:14.472Z"
   },
   {
    "duration": 28,
    "start_time": "2022-06-27T07:45:14.610Z"
   },
   {
    "duration": 554,
    "start_time": "2022-06-27T07:45:14.639Z"
   },
   {
    "duration": 6,
    "start_time": "2022-06-27T07:45:15.195Z"
   },
   {
    "duration": 30,
    "start_time": "2022-06-27T07:45:15.203Z"
   },
   {
    "duration": 1167,
    "start_time": "2022-06-27T07:45:15.234Z"
   },
   {
    "duration": 9,
    "start_time": "2022-06-27T07:45:16.403Z"
   },
   {
    "duration": 190,
    "start_time": "2022-06-27T07:45:16.413Z"
   },
   {
    "duration": 52,
    "start_time": "2022-06-27T07:45:16.604Z"
   },
   {
    "duration": 4,
    "start_time": "2022-06-27T07:45:16.658Z"
   },
   {
    "duration": 10,
    "start_time": "2022-06-27T07:45:16.665Z"
   },
   {
    "duration": 62,
    "start_time": "2022-06-27T07:45:16.676Z"
   },
   {
    "duration": 1235,
    "start_time": "2022-06-27T07:45:16.740Z"
   },
   {
    "duration": 0,
    "start_time": "2022-06-27T07:45:17.977Z"
   },
   {
    "duration": 0,
    "start_time": "2022-06-27T07:45:17.979Z"
   },
   {
    "duration": 11,
    "start_time": "2022-06-27T07:46:02.698Z"
   },
   {
    "duration": 15,
    "start_time": "2022-06-27T07:46:07.352Z"
   },
   {
    "duration": 4,
    "start_time": "2022-06-27T07:49:37.486Z"
   },
   {
    "duration": 303,
    "start_time": "2022-06-27T07:49:59.817Z"
   },
   {
    "duration": 5,
    "start_time": "2022-06-27T07:50:08.558Z"
   },
   {
    "duration": 73,
    "start_time": "2022-06-27T07:50:09.100Z"
   },
   {
    "duration": 19,
    "start_time": "2022-06-27T07:50:14.073Z"
   },
   {
    "duration": 26,
    "start_time": "2022-06-27T07:50:49.651Z"
   },
   {
    "duration": 4,
    "start_time": "2022-06-27T07:50:58.994Z"
   },
   {
    "duration": 108,
    "start_time": "2022-06-27T07:50:59.985Z"
   },
   {
    "duration": 28,
    "start_time": "2022-06-27T07:51:00.708Z"
   },
   {
    "duration": 20,
    "start_time": "2022-06-27T07:51:03.497Z"
   },
   {
    "duration": 5,
    "start_time": "2022-06-27T07:51:25.485Z"
   },
   {
    "duration": 36,
    "start_time": "2022-06-27T07:51:26.045Z"
   },
   {
    "duration": 21,
    "start_time": "2022-06-27T07:51:26.580Z"
   },
   {
    "duration": 1853,
    "start_time": "2022-06-27T07:55:22.882Z"
   },
   {
    "duration": 36,
    "start_time": "2022-06-27T07:55:58.544Z"
   },
   {
    "duration": 47,
    "start_time": "2022-06-27T07:56:51.996Z"
   },
   {
    "duration": 118,
    "start_time": "2022-06-27T07:56:58.803Z"
   },
   {
    "duration": 53,
    "start_time": "2022-06-27T07:57:07.896Z"
   },
   {
    "duration": 4,
    "start_time": "2022-06-27T07:58:39.715Z"
   },
   {
    "duration": 35,
    "start_time": "2022-06-27T07:58:40.252Z"
   },
   {
    "duration": 402,
    "start_time": "2022-06-27T07:58:45.415Z"
   },
   {
    "duration": 5,
    "start_time": "2022-06-27T07:58:52.773Z"
   },
   {
    "duration": 44,
    "start_time": "2022-06-27T07:58:53.312Z"
   },
   {
    "duration": 34,
    "start_time": "2022-06-27T07:59:51.641Z"
   },
   {
    "duration": 36,
    "start_time": "2022-06-27T07:59:54.349Z"
   },
   {
    "duration": 44,
    "start_time": "2022-06-27T08:00:02.806Z"
   },
   {
    "duration": 100,
    "start_time": "2022-06-27T08:00:21.159Z"
   },
   {
    "duration": 1711,
    "start_time": "2022-06-27T08:00:27.247Z"
   },
   {
    "duration": 56,
    "start_time": "2022-06-27T08:00:41.967Z"
   },
   {
    "duration": 4,
    "start_time": "2022-06-27T08:00:47.943Z"
   },
   {
    "duration": 3570,
    "start_time": "2022-06-27T08:00:49.087Z"
   },
   {
    "duration": 1685,
    "start_time": "2022-06-27T08:01:36.902Z"
   },
   {
    "duration": 97,
    "start_time": "2022-06-27T08:01:58.366Z"
   },
   {
    "duration": 150,
    "start_time": "2022-06-27T08:02:16.841Z"
   },
   {
    "duration": 107,
    "start_time": "2022-06-27T08:02:38.337Z"
   },
   {
    "duration": 69,
    "start_time": "2022-06-27T08:03:25.670Z"
   },
   {
    "duration": 147,
    "start_time": "2022-06-27T08:03:38.844Z"
   },
   {
    "duration": 44,
    "start_time": "2022-06-27T08:03:59.441Z"
   },
   {
    "duration": 44,
    "start_time": "2022-06-27T08:04:07.443Z"
   },
   {
    "duration": 4,
    "start_time": "2022-06-27T08:05:02.291Z"
   },
   {
    "duration": 111,
    "start_time": "2022-06-27T08:05:02.297Z"
   },
   {
    "duration": 23,
    "start_time": "2022-06-27T08:05:02.410Z"
   },
   {
    "duration": 18,
    "start_time": "2022-06-27T08:05:02.436Z"
   },
   {
    "duration": 17,
    "start_time": "2022-06-27T08:05:02.456Z"
   },
   {
    "duration": 10,
    "start_time": "2022-06-27T08:05:02.474Z"
   },
   {
    "duration": 13,
    "start_time": "2022-06-27T08:05:02.486Z"
   },
   {
    "duration": 12,
    "start_time": "2022-06-27T08:05:02.501Z"
   },
   {
    "duration": 29,
    "start_time": "2022-06-27T08:05:02.519Z"
   },
   {
    "duration": 24,
    "start_time": "2022-06-27T08:05:02.550Z"
   },
   {
    "duration": 22,
    "start_time": "2022-06-27T08:05:02.576Z"
   },
   {
    "duration": 21,
    "start_time": "2022-06-27T08:05:02.601Z"
   },
   {
    "duration": 36,
    "start_time": "2022-06-27T08:05:02.624Z"
   },
   {
    "duration": 27,
    "start_time": "2022-06-27T08:05:02.662Z"
   },
   {
    "duration": 16,
    "start_time": "2022-06-27T08:05:02.691Z"
   },
   {
    "duration": 20,
    "start_time": "2022-06-27T08:05:02.709Z"
   },
   {
    "duration": 230,
    "start_time": "2022-06-27T08:05:02.739Z"
   },
   {
    "duration": 157,
    "start_time": "2022-06-27T08:05:02.971Z"
   },
   {
    "duration": 35,
    "start_time": "2022-06-27T08:05:03.129Z"
   },
   {
    "duration": 691,
    "start_time": "2022-06-27T08:05:03.166Z"
   },
   {
    "duration": 8,
    "start_time": "2022-06-27T08:05:03.859Z"
   },
   {
    "duration": 23,
    "start_time": "2022-06-27T08:05:03.869Z"
   },
   {
    "duration": 1022,
    "start_time": "2022-06-27T08:05:03.894Z"
   },
   {
    "duration": 14,
    "start_time": "2022-06-27T08:05:04.919Z"
   },
   {
    "duration": 176,
    "start_time": "2022-06-27T08:05:04.938Z"
   },
   {
    "duration": 14,
    "start_time": "2022-06-27T08:05:05.124Z"
   },
   {
    "duration": 18,
    "start_time": "2022-06-27T08:05:05.141Z"
   },
   {
    "duration": 16,
    "start_time": "2022-06-27T08:05:05.161Z"
   },
   {
    "duration": 3657,
    "start_time": "2022-06-27T08:05:36.211Z"
   },
   {
    "duration": 5,
    "start_time": "2022-06-27T08:05:40.282Z"
   },
   {
    "duration": 34,
    "start_time": "2022-06-27T08:05:40.961Z"
   },
   {
    "duration": 53,
    "start_time": "2022-06-27T08:05:45.282Z"
   },
   {
    "duration": 1088,
    "start_time": "2022-06-27T08:29:17.494Z"
   },
   {
    "duration": 4,
    "start_time": "2022-06-27T08:29:53.536Z"
   },
   {
    "duration": 1008,
    "start_time": "2022-06-27T08:30:48.864Z"
   },
   {
    "duration": 957,
    "start_time": "2022-06-27T08:30:58.679Z"
   },
   {
    "duration": 15,
    "start_time": "2022-06-27T08:31:19.268Z"
   },
   {
    "duration": 22,
    "start_time": "2022-06-27T08:32:08.320Z"
   },
   {
    "duration": 17,
    "start_time": "2022-06-27T08:32:13.789Z"
   },
   {
    "duration": 3,
    "start_time": "2022-06-27T08:32:36.185Z"
   },
   {
    "duration": 47,
    "start_time": "2022-06-27T08:32:36.964Z"
   },
   {
    "duration": 16,
    "start_time": "2022-06-27T08:32:40.075Z"
   },
   {
    "duration": 3,
    "start_time": "2022-06-27T08:32:51.301Z"
   },
   {
    "duration": 60,
    "start_time": "2022-06-27T08:32:51.976Z"
   },
   {
    "duration": 20,
    "start_time": "2022-06-27T08:32:53.786Z"
   },
   {
    "duration": 4,
    "start_time": "2022-06-27T08:33:02.464Z"
   },
   {
    "duration": 48,
    "start_time": "2022-06-27T08:33:02.973Z"
   },
   {
    "duration": 19,
    "start_time": "2022-06-27T08:33:05.575Z"
   },
   {
    "duration": 3,
    "start_time": "2022-06-27T08:33:41.486Z"
   },
   {
    "duration": 57,
    "start_time": "2022-06-27T08:33:43.442Z"
   },
   {
    "duration": 23,
    "start_time": "2022-06-27T08:33:44.810Z"
   },
   {
    "duration": 4,
    "start_time": "2022-06-27T08:34:51.410Z"
   },
   {
    "duration": 73,
    "start_time": "2022-06-27T08:34:52.587Z"
   },
   {
    "duration": 20,
    "start_time": "2022-06-27T08:34:54.846Z"
   },
   {
    "duration": 10,
    "start_time": "2022-06-27T08:35:33.776Z"
   },
   {
    "duration": 16,
    "start_time": "2022-06-27T08:35:46.719Z"
   },
   {
    "duration": 60,
    "start_time": "2022-06-27T08:35:52.187Z"
   },
   {
    "duration": 17,
    "start_time": "2022-06-27T08:36:00.442Z"
   },
   {
    "duration": 3,
    "start_time": "2022-06-27T08:36:44.475Z"
   },
   {
    "duration": 59,
    "start_time": "2022-06-27T08:36:45.036Z"
   },
   {
    "duration": 22,
    "start_time": "2022-06-27T08:36:48.208Z"
   },
   {
    "duration": 5,
    "start_time": "2022-06-27T08:37:00.483Z"
   },
   {
    "duration": 4,
    "start_time": "2022-06-27T08:37:07.143Z"
   },
   {
    "duration": 82,
    "start_time": "2022-06-27T08:39:49.672Z"
   },
   {
    "duration": 76,
    "start_time": "2022-06-27T08:40:02.992Z"
   },
   {
    "duration": 12,
    "start_time": "2022-06-27T08:44:13.075Z"
   },
   {
    "duration": 27,
    "start_time": "2022-06-27T08:44:17.405Z"
   },
   {
    "duration": 19,
    "start_time": "2022-06-27T08:44:21.451Z"
   },
   {
    "duration": 313,
    "start_time": "2022-06-27T08:44:41.585Z"
   },
   {
    "duration": 3,
    "start_time": "2022-06-27T08:44:55.081Z"
   },
   {
    "duration": 78,
    "start_time": "2022-06-27T08:44:55.086Z"
   },
   {
    "duration": 13,
    "start_time": "2022-06-27T08:44:55.166Z"
   },
   {
    "duration": 4,
    "start_time": "2022-06-27T08:44:55.181Z"
   },
   {
    "duration": 9,
    "start_time": "2022-06-27T08:44:55.187Z"
   },
   {
    "duration": 38,
    "start_time": "2022-06-27T08:44:55.197Z"
   },
   {
    "duration": 9,
    "start_time": "2022-06-27T08:44:55.237Z"
   },
   {
    "duration": 16,
    "start_time": "2022-06-27T08:44:55.247Z"
   },
   {
    "duration": 17,
    "start_time": "2022-06-27T08:44:55.264Z"
   },
   {
    "duration": 12,
    "start_time": "2022-06-27T08:44:55.283Z"
   },
   {
    "duration": 9,
    "start_time": "2022-06-27T08:44:55.297Z"
   },
   {
    "duration": 35,
    "start_time": "2022-06-27T08:44:55.308Z"
   },
   {
    "duration": 24,
    "start_time": "2022-06-27T08:44:55.350Z"
   },
   {
    "duration": 9,
    "start_time": "2022-06-27T08:44:55.376Z"
   },
   {
    "duration": 3,
    "start_time": "2022-06-27T08:44:55.387Z"
   },
   {
    "duration": 12,
    "start_time": "2022-06-27T08:44:55.392Z"
   },
   {
    "duration": 211,
    "start_time": "2022-06-27T08:44:55.406Z"
   },
   {
    "duration": 139,
    "start_time": "2022-06-27T08:44:55.629Z"
   },
   {
    "duration": 15,
    "start_time": "2022-06-27T08:44:55.770Z"
   },
   {
    "duration": 632,
    "start_time": "2022-06-27T08:44:55.787Z"
   },
   {
    "duration": 8,
    "start_time": "2022-06-27T08:44:56.421Z"
   },
   {
    "duration": 56,
    "start_time": "2022-06-27T08:44:56.430Z"
   },
   {
    "duration": 1177,
    "start_time": "2022-06-27T08:44:56.488Z"
   },
   {
    "duration": 9,
    "start_time": "2022-06-27T08:44:57.667Z"
   },
   {
    "duration": 187,
    "start_time": "2022-06-27T08:44:57.678Z"
   },
   {
    "duration": 4,
    "start_time": "2022-06-27T08:44:57.867Z"
   },
   {
    "duration": 65,
    "start_time": "2022-06-27T08:44:57.873Z"
   },
   {
    "duration": 32,
    "start_time": "2022-06-27T08:44:57.939Z"
   },
   {
    "duration": 933,
    "start_time": "2022-06-27T08:44:57.973Z"
   },
   {
    "duration": 12,
    "start_time": "2022-06-27T08:45:19.210Z"
   },
   {
    "duration": 12,
    "start_time": "2022-06-27T08:46:17.239Z"
   },
   {
    "duration": 4,
    "start_time": "2022-06-27T08:49:29.177Z"
   },
   {
    "duration": 14,
    "start_time": "2022-06-27T08:49:37.496Z"
   },
   {
    "duration": 12,
    "start_time": "2022-06-27T08:49:50.547Z"
   },
   {
    "duration": 11,
    "start_time": "2022-06-27T08:50:07.972Z"
   },
   {
    "duration": 3,
    "start_time": "2022-06-27T08:50:18.165Z"
   },
   {
    "duration": 76,
    "start_time": "2022-06-27T08:50:18.171Z"
   },
   {
    "duration": 13,
    "start_time": "2022-06-27T08:50:18.253Z"
   },
   {
    "duration": 7,
    "start_time": "2022-06-27T08:50:18.268Z"
   },
   {
    "duration": 12,
    "start_time": "2022-06-27T08:50:18.277Z"
   },
   {
    "duration": 9,
    "start_time": "2022-06-27T08:50:18.292Z"
   },
   {
    "duration": 7,
    "start_time": "2022-06-27T08:50:18.304Z"
   },
   {
    "duration": 8,
    "start_time": "2022-06-27T08:50:18.324Z"
   },
   {
    "duration": 27,
    "start_time": "2022-06-27T08:50:18.336Z"
   },
   {
    "duration": 14,
    "start_time": "2022-06-27T08:50:18.365Z"
   },
   {
    "duration": 9,
    "start_time": "2022-06-27T08:50:18.380Z"
   },
   {
    "duration": 18,
    "start_time": "2022-06-27T08:50:18.391Z"
   },
   {
    "duration": 31,
    "start_time": "2022-06-27T08:50:18.423Z"
   },
   {
    "duration": 12,
    "start_time": "2022-06-27T08:50:18.460Z"
   },
   {
    "duration": 3,
    "start_time": "2022-06-27T08:50:18.475Z"
   },
   {
    "duration": 13,
    "start_time": "2022-06-27T08:50:18.480Z"
   },
   {
    "duration": 209,
    "start_time": "2022-06-27T08:50:18.495Z"
   },
   {
    "duration": 161,
    "start_time": "2022-06-27T08:50:18.706Z"
   },
   {
    "duration": 16,
    "start_time": "2022-06-27T08:50:18.869Z"
   },
   {
    "duration": 640,
    "start_time": "2022-06-27T08:50:18.886Z"
   },
   {
    "duration": 18,
    "start_time": "2022-06-27T08:50:19.536Z"
   },
   {
    "duration": 19,
    "start_time": "2022-06-27T08:50:19.556Z"
   },
   {
    "duration": 1044,
    "start_time": "2022-06-27T08:50:19.577Z"
   },
   {
    "duration": 17,
    "start_time": "2022-06-27T08:50:20.629Z"
   },
   {
    "duration": 344,
    "start_time": "2022-06-27T08:50:20.653Z"
   },
   {
    "duration": 4,
    "start_time": "2022-06-27T08:50:21.000Z"
   },
   {
    "duration": 103,
    "start_time": "2022-06-27T08:50:21.006Z"
   },
   {
    "duration": 28,
    "start_time": "2022-06-27T08:50:21.111Z"
   },
   {
    "duration": 1278,
    "start_time": "2022-06-27T08:50:21.142Z"
   },
   {
    "duration": 17,
    "start_time": "2022-06-27T08:50:22.421Z"
   },
   {
    "duration": 23,
    "start_time": "2022-06-27T08:50:22.443Z"
   },
   {
    "duration": 11,
    "start_time": "2022-06-27T08:50:22.468Z"
   },
   {
    "duration": 1245,
    "start_time": "2022-06-27T08:52:14.961Z"
   },
   {
    "duration": 1300,
    "start_time": "2022-06-27T08:52:20.055Z"
   },
   {
    "duration": 14,
    "start_time": "2022-06-27T08:52:26.403Z"
   },
   {
    "duration": 3,
    "start_time": "2022-06-27T08:52:38.418Z"
   },
   {
    "duration": 92,
    "start_time": "2022-06-27T08:52:38.426Z"
   },
   {
    "duration": 25,
    "start_time": "2022-06-27T08:52:38.520Z"
   },
   {
    "duration": 12,
    "start_time": "2022-06-27T08:52:38.548Z"
   },
   {
    "duration": 10,
    "start_time": "2022-06-27T08:52:38.562Z"
   },
   {
    "duration": 9,
    "start_time": "2022-06-27T08:52:38.573Z"
   },
   {
    "duration": 6,
    "start_time": "2022-06-27T08:52:38.584Z"
   },
   {
    "duration": 6,
    "start_time": "2022-06-27T08:52:38.592Z"
   },
   {
    "duration": 8,
    "start_time": "2022-06-27T08:52:38.600Z"
   },
   {
    "duration": 33,
    "start_time": "2022-06-27T08:52:38.609Z"
   },
   {
    "duration": 16,
    "start_time": "2022-06-27T08:52:38.649Z"
   },
   {
    "duration": 17,
    "start_time": "2022-06-27T08:52:38.667Z"
   },
   {
    "duration": 24,
    "start_time": "2022-06-27T08:52:38.685Z"
   },
   {
    "duration": 19,
    "start_time": "2022-06-27T08:52:38.710Z"
   },
   {
    "duration": 27,
    "start_time": "2022-06-27T08:52:38.731Z"
   },
   {
    "duration": 12,
    "start_time": "2022-06-27T08:52:38.760Z"
   },
   {
    "duration": 193,
    "start_time": "2022-06-27T08:52:38.774Z"
   },
   {
    "duration": 156,
    "start_time": "2022-06-27T08:52:38.969Z"
   },
   {
    "duration": 28,
    "start_time": "2022-06-27T08:52:39.127Z"
   },
   {
    "duration": 627,
    "start_time": "2022-06-27T08:52:39.157Z"
   },
   {
    "duration": 6,
    "start_time": "2022-06-27T08:52:39.785Z"
   },
   {
    "duration": 22,
    "start_time": "2022-06-27T08:52:39.792Z"
   },
   {
    "duration": 1047,
    "start_time": "2022-06-27T08:52:39.816Z"
   },
   {
    "duration": 10,
    "start_time": "2022-06-27T08:52:40.865Z"
   },
   {
    "duration": 197,
    "start_time": "2022-06-27T08:52:40.876Z"
   },
   {
    "duration": 3,
    "start_time": "2022-06-27T08:52:41.075Z"
   },
   {
    "duration": 75,
    "start_time": "2022-06-27T08:52:41.079Z"
   },
   {
    "duration": 19,
    "start_time": "2022-06-27T08:52:41.156Z"
   },
   {
    "duration": 1011,
    "start_time": "2022-06-27T08:52:41.178Z"
   },
   {
    "duration": 14,
    "start_time": "2022-06-27T08:52:42.191Z"
   },
   {
    "duration": 8,
    "start_time": "2022-06-27T08:52:42.207Z"
   },
   {
    "duration": 22,
    "start_time": "2022-06-27T08:52:42.217Z"
   },
   {
    "duration": 8,
    "start_time": "2022-06-27T08:53:25.874Z"
   },
   {
    "duration": 7,
    "start_time": "2022-06-27T08:55:07.811Z"
   },
   {
    "duration": 10,
    "start_time": "2022-06-27T08:55:10.623Z"
   },
   {
    "duration": 97,
    "start_time": "2022-06-27T08:55:10.638Z"
   },
   {
    "duration": 18,
    "start_time": "2022-06-27T08:55:10.737Z"
   },
   {
    "duration": 6,
    "start_time": "2022-06-27T08:55:10.758Z"
   },
   {
    "duration": 10,
    "start_time": "2022-06-27T08:55:10.766Z"
   },
   {
    "duration": 10,
    "start_time": "2022-06-27T08:55:10.778Z"
   },
   {
    "duration": 10,
    "start_time": "2022-06-27T08:55:10.790Z"
   },
   {
    "duration": 28,
    "start_time": "2022-06-27T08:55:10.802Z"
   },
   {
    "duration": 24,
    "start_time": "2022-06-27T08:55:10.838Z"
   },
   {
    "duration": 13,
    "start_time": "2022-06-27T08:55:10.865Z"
   },
   {
    "duration": 9,
    "start_time": "2022-06-27T08:55:10.880Z"
   },
   {
    "duration": 18,
    "start_time": "2022-06-27T08:55:10.891Z"
   },
   {
    "duration": 47,
    "start_time": "2022-06-27T08:55:10.911Z"
   },
   {
    "duration": 18,
    "start_time": "2022-06-27T08:55:10.961Z"
   },
   {
    "duration": 4,
    "start_time": "2022-06-27T08:55:10.980Z"
   },
   {
    "duration": 17,
    "start_time": "2022-06-27T08:55:10.985Z"
   },
   {
    "duration": 190,
    "start_time": "2022-06-27T08:55:11.003Z"
   },
   {
    "duration": 157,
    "start_time": "2022-06-27T08:55:11.195Z"
   },
   {
    "duration": 16,
    "start_time": "2022-06-27T08:55:11.353Z"
   },
   {
    "duration": 746,
    "start_time": "2022-06-27T08:55:11.371Z"
   },
   {
    "duration": 7,
    "start_time": "2022-06-27T08:55:12.119Z"
   },
   {
    "duration": 38,
    "start_time": "2022-06-27T08:55:12.132Z"
   },
   {
    "duration": 1095,
    "start_time": "2022-06-27T08:55:12.172Z"
   },
   {
    "duration": 10,
    "start_time": "2022-06-27T08:55:13.269Z"
   },
   {
    "duration": 184,
    "start_time": "2022-06-27T08:55:13.280Z"
   },
   {
    "duration": 3,
    "start_time": "2022-06-27T08:55:13.466Z"
   },
   {
    "duration": 77,
    "start_time": "2022-06-27T08:55:13.471Z"
   },
   {
    "duration": 20,
    "start_time": "2022-06-27T08:55:13.552Z"
   },
   {
    "duration": 1055,
    "start_time": "2022-06-27T08:55:13.574Z"
   },
   {
    "duration": 15,
    "start_time": "2022-06-27T08:55:14.638Z"
   },
   {
    "duration": 35,
    "start_time": "2022-06-27T08:55:14.654Z"
   },
   {
    "duration": 0,
    "start_time": "2022-06-27T08:55:14.691Z"
   },
   {
    "duration": 14,
    "start_time": "2022-06-27T08:55:38.447Z"
   },
   {
    "duration": 4,
    "start_time": "2022-06-27T08:55:43.978Z"
   },
   {
    "duration": 74,
    "start_time": "2022-06-27T08:55:43.984Z"
   },
   {
    "duration": 13,
    "start_time": "2022-06-27T08:55:44.060Z"
   },
   {
    "duration": 5,
    "start_time": "2022-06-27T08:55:44.075Z"
   },
   {
    "duration": 11,
    "start_time": "2022-06-27T08:55:44.083Z"
   },
   {
    "duration": 13,
    "start_time": "2022-06-27T08:55:44.096Z"
   },
   {
    "duration": 28,
    "start_time": "2022-06-27T08:55:44.124Z"
   },
   {
    "duration": 11,
    "start_time": "2022-06-27T08:55:44.154Z"
   },
   {
    "duration": 10,
    "start_time": "2022-06-27T08:55:44.167Z"
   },
   {
    "duration": 12,
    "start_time": "2022-06-27T08:55:44.178Z"
   },
   {
    "duration": 8,
    "start_time": "2022-06-27T08:55:44.192Z"
   },
   {
    "duration": 23,
    "start_time": "2022-06-27T08:55:44.201Z"
   },
   {
    "duration": 29,
    "start_time": "2022-06-27T08:55:44.231Z"
   },
   {
    "duration": 9,
    "start_time": "2022-06-27T08:55:44.262Z"
   },
   {
    "duration": 3,
    "start_time": "2022-06-27T08:55:44.272Z"
   },
   {
    "duration": 13,
    "start_time": "2022-06-27T08:55:44.277Z"
   },
   {
    "duration": 196,
    "start_time": "2022-06-27T08:55:44.292Z"
   },
   {
    "duration": 145,
    "start_time": "2022-06-27T08:55:44.490Z"
   },
   {
    "duration": 20,
    "start_time": "2022-06-27T08:55:44.636Z"
   },
   {
    "duration": 558,
    "start_time": "2022-06-27T08:55:44.657Z"
   },
   {
    "duration": 14,
    "start_time": "2022-06-27T08:55:45.217Z"
   },
   {
    "duration": 37,
    "start_time": "2022-06-27T08:55:45.233Z"
   },
   {
    "duration": 1224,
    "start_time": "2022-06-27T08:55:45.271Z"
   },
   {
    "duration": 8,
    "start_time": "2022-06-27T08:55:46.497Z"
   },
   {
    "duration": 171,
    "start_time": "2022-06-27T08:55:46.507Z"
   },
   {
    "duration": 3,
    "start_time": "2022-06-27T08:55:46.680Z"
   },
   {
    "duration": 84,
    "start_time": "2022-06-27T08:55:46.685Z"
   },
   {
    "duration": 20,
    "start_time": "2022-06-27T08:55:46.771Z"
   },
   {
    "duration": 1085,
    "start_time": "2022-06-27T08:55:46.795Z"
   },
   {
    "duration": 11,
    "start_time": "2022-06-27T08:55:47.881Z"
   },
   {
    "duration": 47,
    "start_time": "2022-06-27T08:55:47.893Z"
   },
   {
    "duration": 11,
    "start_time": "2022-06-27T08:55:47.942Z"
   },
   {
    "duration": 12,
    "start_time": "2022-06-27T08:55:57.222Z"
   },
   {
    "duration": 5,
    "start_time": "2022-06-27T08:56:16.623Z"
   },
   {
    "duration": 76,
    "start_time": "2022-06-27T08:56:16.642Z"
   },
   {
    "duration": 32,
    "start_time": "2022-06-27T08:56:16.720Z"
   },
   {
    "duration": 3,
    "start_time": "2022-06-27T08:56:16.754Z"
   },
   {
    "duration": 9,
    "start_time": "2022-06-27T08:56:16.759Z"
   },
   {
    "duration": 11,
    "start_time": "2022-06-27T08:56:16.770Z"
   },
   {
    "duration": 7,
    "start_time": "2022-06-27T08:56:16.782Z"
   },
   {
    "duration": 7,
    "start_time": "2022-06-27T08:56:16.791Z"
   },
   {
    "duration": 11,
    "start_time": "2022-06-27T08:56:16.799Z"
   },
   {
    "duration": 28,
    "start_time": "2022-06-27T08:56:16.812Z"
   },
   {
    "duration": 22,
    "start_time": "2022-06-27T08:56:16.847Z"
   },
   {
    "duration": 20,
    "start_time": "2022-06-27T08:56:16.871Z"
   },
   {
    "duration": 23,
    "start_time": "2022-06-27T08:56:16.893Z"
   },
   {
    "duration": 25,
    "start_time": "2022-06-27T08:56:16.917Z"
   },
   {
    "duration": 18,
    "start_time": "2022-06-27T08:56:16.947Z"
   },
   {
    "duration": 16,
    "start_time": "2022-06-27T08:56:16.967Z"
   },
   {
    "duration": 191,
    "start_time": "2022-06-27T08:56:16.985Z"
   },
   {
    "duration": 138,
    "start_time": "2022-06-27T08:56:17.178Z"
   },
   {
    "duration": 27,
    "start_time": "2022-06-27T08:56:17.323Z"
   },
   {
    "duration": 565,
    "start_time": "2022-06-27T08:56:17.353Z"
   },
   {
    "duration": 15,
    "start_time": "2022-06-27T08:56:17.920Z"
   },
   {
    "duration": 49,
    "start_time": "2022-06-27T08:56:17.937Z"
   },
   {
    "duration": 1011,
    "start_time": "2022-06-27T08:56:17.988Z"
   },
   {
    "duration": 10,
    "start_time": "2022-06-27T08:56:19.001Z"
   },
   {
    "duration": 191,
    "start_time": "2022-06-27T08:56:19.012Z"
   },
   {
    "duration": 3,
    "start_time": "2022-06-27T08:56:19.210Z"
   },
   {
    "duration": 89,
    "start_time": "2022-06-27T08:56:19.223Z"
   },
   {
    "duration": 32,
    "start_time": "2022-06-27T08:56:19.315Z"
   },
   {
    "duration": 1028,
    "start_time": "2022-06-27T08:56:19.351Z"
   },
   {
    "duration": 11,
    "start_time": "2022-06-27T08:56:20.380Z"
   },
   {
    "duration": 19,
    "start_time": "2022-06-27T08:56:20.393Z"
   },
   {
    "duration": 5,
    "start_time": "2022-06-27T08:56:20.414Z"
   },
   {
    "duration": 17,
    "start_time": "2022-06-27T08:56:26.334Z"
   },
   {
    "duration": 3,
    "start_time": "2022-06-27T08:56:36.769Z"
   },
   {
    "duration": 79,
    "start_time": "2022-06-27T08:56:36.774Z"
   },
   {
    "duration": 14,
    "start_time": "2022-06-27T08:56:36.854Z"
   },
   {
    "duration": 5,
    "start_time": "2022-06-27T08:56:36.870Z"
   },
   {
    "duration": 21,
    "start_time": "2022-06-27T08:56:36.877Z"
   },
   {
    "duration": 9,
    "start_time": "2022-06-27T08:56:36.900Z"
   },
   {
    "duration": 9,
    "start_time": "2022-06-27T08:56:36.910Z"
   },
   {
    "duration": 38,
    "start_time": "2022-06-27T08:56:36.921Z"
   },
   {
    "duration": 11,
    "start_time": "2022-06-27T08:56:36.962Z"
   },
   {
    "duration": 13,
    "start_time": "2022-06-27T08:56:36.975Z"
   },
   {
    "duration": 10,
    "start_time": "2022-06-27T08:56:36.990Z"
   },
   {
    "duration": 17,
    "start_time": "2022-06-27T08:56:37.001Z"
   },
   {
    "duration": 35,
    "start_time": "2022-06-27T08:56:37.019Z"
   },
   {
    "duration": 12,
    "start_time": "2022-06-27T08:56:37.055Z"
   },
   {
    "duration": 3,
    "start_time": "2022-06-27T08:56:37.068Z"
   },
   {
    "duration": 15,
    "start_time": "2022-06-27T08:56:37.073Z"
   },
   {
    "duration": 195,
    "start_time": "2022-06-27T08:56:37.090Z"
   },
   {
    "duration": 153,
    "start_time": "2022-06-27T08:56:37.286Z"
   },
   {
    "duration": 15,
    "start_time": "2022-06-27T08:56:37.450Z"
   },
   {
    "duration": 598,
    "start_time": "2022-06-27T08:56:37.467Z"
   },
   {
    "duration": 6,
    "start_time": "2022-06-27T08:56:38.066Z"
   },
   {
    "duration": 17,
    "start_time": "2022-06-27T08:56:38.074Z"
   },
   {
    "duration": 1268,
    "start_time": "2022-06-27T08:56:38.093Z"
   },
   {
    "duration": 10,
    "start_time": "2022-06-27T08:56:39.365Z"
   },
   {
    "duration": 181,
    "start_time": "2022-06-27T08:56:39.376Z"
   },
   {
    "duration": 4,
    "start_time": "2022-06-27T08:56:39.559Z"
   },
   {
    "duration": 108,
    "start_time": "2022-06-27T08:56:39.565Z"
   },
   {
    "duration": 20,
    "start_time": "2022-06-27T08:56:39.675Z"
   },
   {
    "duration": 998,
    "start_time": "2022-06-27T08:56:39.697Z"
   },
   {
    "duration": 12,
    "start_time": "2022-06-27T08:56:40.696Z"
   },
   {
    "duration": 25,
    "start_time": "2022-06-27T08:56:40.710Z"
   },
   {
    "duration": 0,
    "start_time": "2022-06-27T08:56:40.737Z"
   },
   {
    "duration": 4,
    "start_time": "2022-06-27T08:57:42.578Z"
   },
   {
    "duration": 94,
    "start_time": "2022-06-27T08:57:42.585Z"
   },
   {
    "duration": 16,
    "start_time": "2022-06-27T08:57:42.683Z"
   },
   {
    "duration": 12,
    "start_time": "2022-06-27T08:57:42.701Z"
   },
   {
    "duration": 24,
    "start_time": "2022-06-27T08:57:42.716Z"
   },
   {
    "duration": 33,
    "start_time": "2022-06-27T08:57:42.742Z"
   },
   {
    "duration": 12,
    "start_time": "2022-06-27T08:57:42.777Z"
   },
   {
    "duration": 16,
    "start_time": "2022-06-27T08:57:42.791Z"
   },
   {
    "duration": 25,
    "start_time": "2022-06-27T08:57:42.809Z"
   },
   {
    "duration": 54,
    "start_time": "2022-06-27T08:57:42.836Z"
   },
   {
    "duration": 13,
    "start_time": "2022-06-27T08:57:42.895Z"
   },
   {
    "duration": 21,
    "start_time": "2022-06-27T08:57:42.910Z"
   },
   {
    "duration": 70,
    "start_time": "2022-06-27T08:57:42.933Z"
   },
   {
    "duration": 22,
    "start_time": "2022-06-27T08:57:43.005Z"
   },
   {
    "duration": 27,
    "start_time": "2022-06-27T08:57:43.032Z"
   },
   {
    "duration": 17,
    "start_time": "2022-06-27T08:57:43.061Z"
   },
   {
    "duration": 210,
    "start_time": "2022-06-27T08:57:43.080Z"
   },
   {
    "duration": 179,
    "start_time": "2022-06-27T08:57:43.292Z"
   },
   {
    "duration": 16,
    "start_time": "2022-06-27T08:57:43.473Z"
   },
   {
    "duration": 718,
    "start_time": "2022-06-27T08:57:43.491Z"
   },
   {
    "duration": 27,
    "start_time": "2022-06-27T08:57:44.211Z"
   },
   {
    "duration": 57,
    "start_time": "2022-06-27T08:57:44.246Z"
   },
   {
    "duration": 1115,
    "start_time": "2022-06-27T08:57:44.304Z"
   },
   {
    "duration": 12,
    "start_time": "2022-06-27T08:57:45.422Z"
   },
   {
    "duration": 239,
    "start_time": "2022-06-27T08:57:45.439Z"
   },
   {
    "duration": 3,
    "start_time": "2022-06-27T08:57:45.681Z"
   },
   {
    "duration": 84,
    "start_time": "2022-06-27T08:57:45.686Z"
   },
   {
    "duration": 23,
    "start_time": "2022-06-27T08:57:45.772Z"
   },
   {
    "duration": 972,
    "start_time": "2022-06-27T08:57:45.798Z"
   },
   {
    "duration": 16,
    "start_time": "2022-06-27T08:57:46.772Z"
   },
   {
    "duration": 9,
    "start_time": "2022-06-27T08:57:46.790Z"
   },
   {
    "duration": 9,
    "start_time": "2022-06-27T08:57:46.800Z"
   },
   {
    "duration": 15,
    "start_time": "2022-06-27T08:57:46.811Z"
   },
   {
    "duration": 20,
    "start_time": "2022-06-27T08:57:54.624Z"
   },
   {
    "duration": 10,
    "start_time": "2022-06-27T08:58:11.865Z"
   },
   {
    "duration": 10,
    "start_time": "2022-06-27T08:58:19.765Z"
   },
   {
    "duration": 10,
    "start_time": "2022-06-27T08:58:24.761Z"
   },
   {
    "duration": 7,
    "start_time": "2022-06-27T08:58:37.361Z"
   },
   {
    "duration": 11,
    "start_time": "2022-06-27T08:58:50.065Z"
   },
   {
    "duration": 16,
    "start_time": "2022-06-27T08:59:09.053Z"
   },
   {
    "duration": 24,
    "start_time": "2022-06-27T08:59:48.011Z"
   },
   {
    "duration": 10,
    "start_time": "2022-06-27T08:59:54.199Z"
   },
   {
    "duration": 5,
    "start_time": "2022-06-27T09:00:45.683Z"
   },
   {
    "duration": 4,
    "start_time": "2022-06-27T09:00:51.454Z"
   },
   {
    "duration": 88,
    "start_time": "2022-06-27T09:00:51.460Z"
   },
   {
    "duration": 15,
    "start_time": "2022-06-27T09:00:51.552Z"
   },
   {
    "duration": 3,
    "start_time": "2022-06-27T09:00:51.568Z"
   },
   {
    "duration": 9,
    "start_time": "2022-06-27T09:00:51.573Z"
   },
   {
    "duration": 9,
    "start_time": "2022-06-27T09:00:51.584Z"
   },
   {
    "duration": 8,
    "start_time": "2022-06-27T09:00:51.595Z"
   },
   {
    "duration": 23,
    "start_time": "2022-06-27T09:00:51.605Z"
   },
   {
    "duration": 12,
    "start_time": "2022-06-27T09:00:51.629Z"
   },
   {
    "duration": 26,
    "start_time": "2022-06-27T09:00:51.644Z"
   },
   {
    "duration": 8,
    "start_time": "2022-06-27T09:00:51.672Z"
   },
   {
    "duration": 23,
    "start_time": "2022-06-27T09:00:51.682Z"
   },
   {
    "duration": 39,
    "start_time": "2022-06-27T09:00:51.706Z"
   },
   {
    "duration": 17,
    "start_time": "2022-06-27T09:00:51.750Z"
   },
   {
    "duration": 5,
    "start_time": "2022-06-27T09:00:51.768Z"
   },
   {
    "duration": 17,
    "start_time": "2022-06-27T09:00:51.774Z"
   },
   {
    "duration": 212,
    "start_time": "2022-06-27T09:00:51.792Z"
   },
   {
    "duration": 182,
    "start_time": "2022-06-27T09:00:52.006Z"
   },
   {
    "duration": 17,
    "start_time": "2022-06-27T09:00:52.190Z"
   },
   {
    "duration": 673,
    "start_time": "2022-06-27T09:00:52.209Z"
   },
   {
    "duration": 10,
    "start_time": "2022-06-27T09:00:52.884Z"
   },
   {
    "duration": 43,
    "start_time": "2022-06-27T09:00:52.896Z"
   },
   {
    "duration": 1440,
    "start_time": "2022-06-27T09:00:52.944Z"
   },
   {
    "duration": 9,
    "start_time": "2022-06-27T09:00:54.386Z"
   },
   {
    "duration": 199,
    "start_time": "2022-06-27T09:00:54.397Z"
   },
   {
    "duration": 3,
    "start_time": "2022-06-27T09:00:54.598Z"
   },
   {
    "duration": 85,
    "start_time": "2022-06-27T09:00:54.603Z"
   },
   {
    "duration": 21,
    "start_time": "2022-06-27T09:00:54.690Z"
   },
   {
    "duration": 1422,
    "start_time": "2022-06-27T09:00:54.726Z"
   },
   {
    "duration": 13,
    "start_time": "2022-06-27T09:00:56.150Z"
   },
   {
    "duration": 10,
    "start_time": "2022-06-27T09:00:56.165Z"
   },
   {
    "duration": 12,
    "start_time": "2022-06-27T09:00:56.176Z"
   },
   {
    "duration": 7,
    "start_time": "2022-06-27T09:00:56.190Z"
   },
   {
    "duration": 40,
    "start_time": "2022-06-27T09:00:56.199Z"
   },
   {
    "duration": 10,
    "start_time": "2022-06-27T09:04:29.263Z"
   },
   {
    "duration": 11,
    "start_time": "2022-06-27T09:04:38.160Z"
   },
   {
    "duration": 15,
    "start_time": "2022-06-27T09:05:19.371Z"
   },
   {
    "duration": 16,
    "start_time": "2022-06-27T09:05:30.071Z"
   },
   {
    "duration": 62,
    "start_time": "2022-06-27T09:07:47.500Z"
   },
   {
    "duration": 11,
    "start_time": "2022-06-27T09:07:57.636Z"
   },
   {
    "duration": 15,
    "start_time": "2022-06-27T09:08:03.278Z"
   },
   {
    "duration": 10,
    "start_time": "2022-06-27T09:08:11.544Z"
   },
   {
    "duration": 9,
    "start_time": "2022-06-27T09:08:26.059Z"
   },
   {
    "duration": 59,
    "start_time": "2022-06-27T09:08:55.310Z"
   },
   {
    "duration": 9,
    "start_time": "2022-06-27T09:08:58.154Z"
   },
   {
    "duration": 9,
    "start_time": "2022-06-27T09:09:04.254Z"
   },
   {
    "duration": 8,
    "start_time": "2022-06-27T09:09:56.906Z"
   },
   {
    "duration": 23,
    "start_time": "2022-06-27T09:10:01.514Z"
   },
   {
    "duration": 10,
    "start_time": "2022-06-27T09:10:16.585Z"
   },
   {
    "duration": 11,
    "start_time": "2022-06-27T09:10:34.873Z"
   },
   {
    "duration": 1385,
    "start_time": "2022-06-27T12:18:57.849Z"
   },
   {
    "duration": 105,
    "start_time": "2022-06-27T12:18:59.236Z"
   },
   {
    "duration": 13,
    "start_time": "2022-06-27T12:18:59.343Z"
   },
   {
    "duration": 5,
    "start_time": "2022-06-27T12:18:59.358Z"
   },
   {
    "duration": 10,
    "start_time": "2022-06-27T12:18:59.365Z"
   },
   {
    "duration": 12,
    "start_time": "2022-06-27T12:18:59.376Z"
   },
   {
    "duration": 10,
    "start_time": "2022-06-27T12:18:59.389Z"
   },
   {
    "duration": 10,
    "start_time": "2022-06-27T12:18:59.400Z"
   },
   {
    "duration": 22,
    "start_time": "2022-06-27T12:18:59.411Z"
   },
   {
    "duration": 12,
    "start_time": "2022-06-27T12:18:59.434Z"
   },
   {
    "duration": 8,
    "start_time": "2022-06-27T12:18:59.448Z"
   },
   {
    "duration": 20,
    "start_time": "2022-06-27T12:18:59.457Z"
   },
   {
    "duration": 49,
    "start_time": "2022-06-27T12:18:59.479Z"
   },
   {
    "duration": 9,
    "start_time": "2022-06-27T12:18:59.532Z"
   },
   {
    "duration": 6,
    "start_time": "2022-06-27T12:18:59.542Z"
   },
   {
    "duration": 14,
    "start_time": "2022-06-27T12:18:59.550Z"
   },
   {
    "duration": 210,
    "start_time": "2022-06-27T12:18:59.566Z"
   },
   {
    "duration": 140,
    "start_time": "2022-06-27T12:18:59.778Z"
   },
   {
    "duration": 21,
    "start_time": "2022-06-27T12:18:59.919Z"
   },
   {
    "duration": 550,
    "start_time": "2022-06-27T12:18:59.942Z"
   },
   {
    "duration": 6,
    "start_time": "2022-06-27T12:19:00.493Z"
   },
   {
    "duration": 39,
    "start_time": "2022-06-27T12:19:00.500Z"
   },
   {
    "duration": 1109,
    "start_time": "2022-06-27T12:19:00.541Z"
   },
   {
    "duration": 9,
    "start_time": "2022-06-27T12:19:01.652Z"
   },
   {
    "duration": 167,
    "start_time": "2022-06-27T12:19:01.662Z"
   },
   {
    "duration": 4,
    "start_time": "2022-06-27T12:19:01.831Z"
   },
   {
    "duration": 67,
    "start_time": "2022-06-27T12:19:01.836Z"
   },
   {
    "duration": 23,
    "start_time": "2022-06-27T12:19:01.905Z"
   },
   {
    "duration": 1245,
    "start_time": "2022-06-27T12:19:01.929Z"
   },
   {
    "duration": 10,
    "start_time": "2022-06-27T12:19:03.176Z"
   },
   {
    "duration": 10,
    "start_time": "2022-06-27T12:19:03.188Z"
   },
   {
    "duration": 9,
    "start_time": "2022-06-27T12:19:03.199Z"
   },
   {
    "duration": 5,
    "start_time": "2022-06-27T12:19:03.209Z"
   },
   {
    "duration": 17,
    "start_time": "2022-06-27T12:19:03.215Z"
   },
   {
    "duration": 9,
    "start_time": "2022-06-27T12:19:03.234Z"
   },
   {
    "duration": 14,
    "start_time": "2022-06-27T12:19:03.245Z"
   },
   {
    "duration": 8,
    "start_time": "2022-06-27T12:48:23.062Z"
   },
   {
    "duration": 7,
    "start_time": "2022-06-27T12:48:34.410Z"
   },
   {
    "duration": 3,
    "start_time": "2022-06-27T12:48:58.606Z"
   },
   {
    "duration": 87,
    "start_time": "2022-06-27T12:48:58.611Z"
   },
   {
    "duration": 12,
    "start_time": "2022-06-27T12:48:58.700Z"
   },
   {
    "duration": 27,
    "start_time": "2022-06-27T12:48:58.713Z"
   },
   {
    "duration": 15,
    "start_time": "2022-06-27T12:48:58.743Z"
   },
   {
    "duration": 26,
    "start_time": "2022-06-27T12:48:58.759Z"
   },
   {
    "duration": 13,
    "start_time": "2022-06-27T12:48:58.786Z"
   },
   {
    "duration": 24,
    "start_time": "2022-06-27T12:48:58.800Z"
   },
   {
    "duration": 26,
    "start_time": "2022-06-27T12:48:58.825Z"
   },
   {
    "duration": 15,
    "start_time": "2022-06-27T12:48:58.853Z"
   },
   {
    "duration": 21,
    "start_time": "2022-06-27T12:48:58.871Z"
   },
   {
    "duration": 26,
    "start_time": "2022-06-27T12:48:58.894Z"
   },
   {
    "duration": 27,
    "start_time": "2022-06-27T12:48:58.922Z"
   },
   {
    "duration": 11,
    "start_time": "2022-06-27T12:48:58.951Z"
   },
   {
    "duration": 5,
    "start_time": "2022-06-27T12:48:58.964Z"
   },
   {
    "duration": 18,
    "start_time": "2022-06-27T12:48:58.971Z"
   },
   {
    "duration": 202,
    "start_time": "2022-06-27T12:48:58.991Z"
   },
   {
    "duration": 140,
    "start_time": "2022-06-27T12:48:59.195Z"
   },
   {
    "duration": 14,
    "start_time": "2022-06-27T12:48:59.337Z"
   },
   {
    "duration": 526,
    "start_time": "2022-06-27T12:48:59.353Z"
   },
   {
    "duration": 6,
    "start_time": "2022-06-27T12:48:59.880Z"
   },
   {
    "duration": 16,
    "start_time": "2022-06-27T12:48:59.887Z"
   },
   {
    "duration": 1079,
    "start_time": "2022-06-27T12:48:59.904Z"
   },
   {
    "duration": 8,
    "start_time": "2022-06-27T12:49:00.985Z"
   },
   {
    "duration": 168,
    "start_time": "2022-06-27T12:49:00.994Z"
   },
   {
    "duration": 4,
    "start_time": "2022-06-27T12:49:01.163Z"
   },
   {
    "duration": 62,
    "start_time": "2022-06-27T12:49:01.168Z"
   },
   {
    "duration": 21,
    "start_time": "2022-06-27T12:49:01.232Z"
   },
   {
    "duration": 968,
    "start_time": "2022-06-27T12:49:01.257Z"
   },
   {
    "duration": 10,
    "start_time": "2022-06-27T12:49:02.227Z"
   },
   {
    "duration": 14,
    "start_time": "2022-06-27T12:49:02.240Z"
   },
   {
    "duration": 15,
    "start_time": "2022-06-27T12:49:02.256Z"
   },
   {
    "duration": 8,
    "start_time": "2022-06-27T12:49:02.273Z"
   },
   {
    "duration": 23,
    "start_time": "2022-06-27T12:49:02.283Z"
   },
   {
    "duration": 22,
    "start_time": "2022-06-27T12:49:02.308Z"
   },
   {
    "duration": 9,
    "start_time": "2022-06-27T12:49:02.331Z"
   },
   {
    "duration": 7,
    "start_time": "2022-06-27T12:49:11.650Z"
   },
   {
    "duration": 16,
    "start_time": "2022-06-27T12:49:52.974Z"
   },
   {
    "duration": 9,
    "start_time": "2022-06-27T12:50:10.763Z"
   },
   {
    "duration": 13,
    "start_time": "2022-06-27T12:50:23.310Z"
   },
   {
    "duration": 3,
    "start_time": "2022-06-27T12:50:52.167Z"
   },
   {
    "duration": 10,
    "start_time": "2022-06-27T12:50:59.146Z"
   },
   {
    "duration": 15,
    "start_time": "2022-06-27T12:51:26.391Z"
   },
   {
    "duration": 8,
    "start_time": "2022-06-27T12:51:50.323Z"
   },
   {
    "duration": 105,
    "start_time": "2022-06-27T12:51:59.455Z"
   },
   {
    "duration": 4,
    "start_time": "2022-06-27T12:52:06.050Z"
   },
   {
    "duration": 76,
    "start_time": "2022-06-27T12:52:06.056Z"
   },
   {
    "duration": 12,
    "start_time": "2022-06-27T12:52:06.134Z"
   },
   {
    "duration": 28,
    "start_time": "2022-06-27T12:52:06.147Z"
   },
   {
    "duration": 23,
    "start_time": "2022-06-27T12:52:06.177Z"
   },
   {
    "duration": 30,
    "start_time": "2022-06-27T12:52:06.202Z"
   },
   {
    "duration": 34,
    "start_time": "2022-06-27T12:52:06.235Z"
   },
   {
    "duration": 23,
    "start_time": "2022-06-27T12:52:06.271Z"
   },
   {
    "duration": 33,
    "start_time": "2022-06-27T12:52:06.296Z"
   },
   {
    "duration": 29,
    "start_time": "2022-06-27T12:52:06.331Z"
   },
   {
    "duration": 19,
    "start_time": "2022-06-27T12:52:06.363Z"
   },
   {
    "duration": 43,
    "start_time": "2022-06-27T12:52:06.383Z"
   },
   {
    "duration": 29,
    "start_time": "2022-06-27T12:52:06.428Z"
   },
   {
    "duration": 29,
    "start_time": "2022-06-27T12:52:06.459Z"
   },
   {
    "duration": 15,
    "start_time": "2022-06-27T12:52:06.490Z"
   },
   {
    "duration": 33,
    "start_time": "2022-06-27T12:52:06.507Z"
   },
   {
    "duration": 210,
    "start_time": "2022-06-27T12:52:06.542Z"
   },
   {
    "duration": 136,
    "start_time": "2022-06-27T12:52:06.754Z"
   },
   {
    "duration": 14,
    "start_time": "2022-06-27T12:52:06.892Z"
   },
   {
    "duration": 548,
    "start_time": "2022-06-27T12:52:06.908Z"
   },
   {
    "duration": 6,
    "start_time": "2022-06-27T12:52:07.457Z"
   },
   {
    "duration": 32,
    "start_time": "2022-06-27T12:52:07.464Z"
   },
   {
    "duration": 994,
    "start_time": "2022-06-27T12:52:07.497Z"
   },
   {
    "duration": 9,
    "start_time": "2022-06-27T12:52:08.493Z"
   },
   {
    "duration": 311,
    "start_time": "2022-06-27T12:52:08.504Z"
   },
   {
    "duration": 4,
    "start_time": "2022-06-27T12:52:08.816Z"
   },
   {
    "duration": 62,
    "start_time": "2022-06-27T12:52:08.827Z"
   },
   {
    "duration": 39,
    "start_time": "2022-06-27T12:52:08.891Z"
   },
   {
    "duration": 753,
    "start_time": "2022-06-27T12:52:08.934Z"
   },
   {
    "duration": 11,
    "start_time": "2022-06-27T12:52:09.689Z"
   },
   {
    "duration": 11,
    "start_time": "2022-06-27T12:52:09.702Z"
   },
   {
    "duration": 11,
    "start_time": "2022-06-27T12:52:09.715Z"
   },
   {
    "duration": 5,
    "start_time": "2022-06-27T12:52:09.727Z"
   },
   {
    "duration": 18,
    "start_time": "2022-06-27T12:52:09.733Z"
   },
   {
    "duration": 8,
    "start_time": "2022-06-27T12:52:09.753Z"
   },
   {
    "duration": 21,
    "start_time": "2022-06-27T12:52:09.763Z"
   },
   {
    "duration": 0,
    "start_time": "2022-06-27T12:52:09.786Z"
   },
   {
    "duration": 0,
    "start_time": "2022-06-27T12:52:09.787Z"
   },
   {
    "duration": 0,
    "start_time": "2022-06-27T12:52:09.789Z"
   },
   {
    "duration": 13,
    "start_time": "2022-06-27T12:52:28.702Z"
   },
   {
    "duration": 7,
    "start_time": "2022-06-27T12:52:43.310Z"
   },
   {
    "duration": 9,
    "start_time": "2022-06-27T12:52:45.190Z"
   },
   {
    "duration": 8,
    "start_time": "2022-06-27T12:53:08.068Z"
   },
   {
    "duration": 9,
    "start_time": "2022-06-27T12:53:14.075Z"
   },
   {
    "duration": 10,
    "start_time": "2022-06-27T12:53:21.410Z"
   },
   {
    "duration": 7,
    "start_time": "2022-06-27T12:53:27.259Z"
   },
   {
    "duration": 8,
    "start_time": "2022-06-27T12:53:29.819Z"
   },
   {
    "duration": 39,
    "start_time": "2022-06-27T12:53:47.439Z"
   },
   {
    "duration": 27,
    "start_time": "2022-06-27T12:53:49.819Z"
   },
   {
    "duration": 9,
    "start_time": "2022-06-27T12:54:01.599Z"
   },
   {
    "duration": 14,
    "start_time": "2022-06-27T12:54:17.567Z"
   },
   {
    "duration": 7,
    "start_time": "2022-06-27T12:54:30.199Z"
   },
   {
    "duration": 9,
    "start_time": "2022-06-27T12:54:33.775Z"
   },
   {
    "duration": 7,
    "start_time": "2022-06-27T12:54:39.415Z"
   },
   {
    "duration": 10,
    "start_time": "2022-06-27T12:56:49.131Z"
   },
   {
    "duration": 13,
    "start_time": "2022-06-27T12:56:59.251Z"
   },
   {
    "duration": 9,
    "start_time": "2022-06-27T12:58:11.311Z"
   },
   {
    "duration": 20,
    "start_time": "2022-06-27T12:58:30.780Z"
   },
   {
    "duration": 9,
    "start_time": "2022-06-27T12:58:36.648Z"
   },
   {
    "duration": 18,
    "start_time": "2022-06-27T12:58:39.039Z"
   },
   {
    "duration": 8,
    "start_time": "2022-06-27T12:58:45.240Z"
   },
   {
    "duration": 12,
    "start_time": "2022-06-27T12:58:49.124Z"
   },
   {
    "duration": 16,
    "start_time": "2022-06-27T13:02:52.240Z"
   },
   {
    "duration": 7,
    "start_time": "2022-06-27T13:02:57.508Z"
   },
   {
    "duration": 10,
    "start_time": "2022-06-27T13:03:05.932Z"
   },
   {
    "duration": 8,
    "start_time": "2022-06-27T13:03:14.380Z"
   },
   {
    "duration": 10,
    "start_time": "2022-06-27T13:03:17.624Z"
   },
   {
    "duration": 14,
    "start_time": "2022-06-27T13:03:19.932Z"
   },
   {
    "duration": 12,
    "start_time": "2022-06-27T13:04:00.200Z"
   },
   {
    "duration": 23,
    "start_time": "2022-06-27T13:04:07.013Z"
   },
   {
    "duration": 11,
    "start_time": "2022-06-27T13:04:25.056Z"
   },
   {
    "duration": 13,
    "start_time": "2022-06-27T13:04:49.267Z"
   },
   {
    "duration": 12,
    "start_time": "2022-06-27T13:05:03.295Z"
   },
   {
    "duration": 13,
    "start_time": "2022-06-27T13:05:08.613Z"
   },
   {
    "duration": 11,
    "start_time": "2022-06-27T13:05:15.884Z"
   },
   {
    "duration": 8,
    "start_time": "2022-06-27T13:05:41.360Z"
   },
   {
    "duration": 10,
    "start_time": "2022-06-27T13:05:43.916Z"
   },
   {
    "duration": 7,
    "start_time": "2022-06-27T13:07:29.915Z"
   },
   {
    "duration": 6,
    "start_time": "2022-06-27T13:07:34.084Z"
   },
   {
    "duration": 9,
    "start_time": "2022-06-27T13:07:47.111Z"
   },
   {
    "duration": 14,
    "start_time": "2022-06-27T13:07:47.988Z"
   },
   {
    "duration": 8,
    "start_time": "2022-06-27T13:07:52.680Z"
   },
   {
    "duration": 8,
    "start_time": "2022-06-27T13:07:53.736Z"
   },
   {
    "duration": 3,
    "start_time": "2022-06-27T13:08:55.136Z"
   },
   {
    "duration": 85,
    "start_time": "2022-06-27T13:08:55.141Z"
   },
   {
    "duration": 13,
    "start_time": "2022-06-27T13:08:55.228Z"
   },
   {
    "duration": 24,
    "start_time": "2022-06-27T13:08:55.243Z"
   },
   {
    "duration": 26,
    "start_time": "2022-06-27T13:08:55.270Z"
   },
   {
    "duration": 19,
    "start_time": "2022-06-27T13:08:55.298Z"
   },
   {
    "duration": 22,
    "start_time": "2022-06-27T13:08:55.319Z"
   },
   {
    "duration": 38,
    "start_time": "2022-06-27T13:08:55.342Z"
   },
   {
    "duration": 22,
    "start_time": "2022-06-27T13:08:55.382Z"
   },
   {
    "duration": 32,
    "start_time": "2022-06-27T13:08:55.406Z"
   },
   {
    "duration": 51,
    "start_time": "2022-06-27T13:08:55.440Z"
   },
   {
    "duration": 29,
    "start_time": "2022-06-27T13:08:55.493Z"
   },
   {
    "duration": 41,
    "start_time": "2022-06-27T13:08:55.523Z"
   },
   {
    "duration": 15,
    "start_time": "2022-06-27T13:08:55.566Z"
   },
   {
    "duration": 13,
    "start_time": "2022-06-27T13:08:55.583Z"
   },
   {
    "duration": 40,
    "start_time": "2022-06-27T13:08:55.598Z"
   },
   {
    "duration": 187,
    "start_time": "2022-06-27T13:08:55.640Z"
   },
   {
    "duration": 143,
    "start_time": "2022-06-27T13:08:55.828Z"
   },
   {
    "duration": 14,
    "start_time": "2022-06-27T13:08:55.973Z"
   },
   {
    "duration": 602,
    "start_time": "2022-06-27T13:08:55.989Z"
   },
   {
    "duration": 6,
    "start_time": "2022-06-27T13:08:56.593Z"
   },
   {
    "duration": 42,
    "start_time": "2022-06-27T13:08:56.601Z"
   },
   {
    "duration": 993,
    "start_time": "2022-06-27T13:08:56.645Z"
   },
   {
    "duration": 10,
    "start_time": "2022-06-27T13:08:57.639Z"
   },
   {
    "duration": 173,
    "start_time": "2022-06-27T13:08:57.650Z"
   },
   {
    "duration": 4,
    "start_time": "2022-06-27T13:08:57.826Z"
   },
   {
    "duration": 73,
    "start_time": "2022-06-27T13:08:57.832Z"
   },
   {
    "duration": 23,
    "start_time": "2022-06-27T13:08:57.906Z"
   },
   {
    "duration": 800,
    "start_time": "2022-06-27T13:08:57.932Z"
   },
   {
    "duration": 11,
    "start_time": "2022-06-27T13:08:58.734Z"
   },
   {
    "duration": 12,
    "start_time": "2022-06-27T13:08:58.747Z"
   },
   {
    "duration": 11,
    "start_time": "2022-06-27T13:08:58.760Z"
   },
   {
    "duration": 7,
    "start_time": "2022-06-27T13:08:58.773Z"
   },
   {
    "duration": 46,
    "start_time": "2022-06-27T13:08:58.782Z"
   },
   {
    "duration": 11,
    "start_time": "2022-06-27T13:08:58.830Z"
   },
   {
    "duration": 13,
    "start_time": "2022-06-27T13:08:58.842Z"
   },
   {
    "duration": 8,
    "start_time": "2022-06-27T13:08:58.857Z"
   },
   {
    "duration": 11,
    "start_time": "2022-06-27T13:08:58.866Z"
   },
   {
    "duration": 9,
    "start_time": "2022-06-27T13:08:58.879Z"
   },
   {
    "duration": 5,
    "start_time": "2022-06-27T13:09:32.636Z"
   },
   {
    "duration": 9,
    "start_time": "2022-06-27T13:09:39.704Z"
   },
   {
    "duration": 3,
    "start_time": "2022-06-27T13:10:18.836Z"
   },
   {
    "duration": 70,
    "start_time": "2022-06-27T13:10:18.841Z"
   },
   {
    "duration": 22,
    "start_time": "2022-06-27T13:10:18.914Z"
   },
   {
    "duration": 3,
    "start_time": "2022-06-27T13:10:18.939Z"
   },
   {
    "duration": 26,
    "start_time": "2022-06-27T13:10:18.944Z"
   },
   {
    "duration": 9,
    "start_time": "2022-06-27T13:10:18.972Z"
   },
   {
    "duration": 10,
    "start_time": "2022-06-27T13:10:18.982Z"
   },
   {
    "duration": 9,
    "start_time": "2022-06-27T13:10:18.994Z"
   },
   {
    "duration": 26,
    "start_time": "2022-06-27T13:10:19.006Z"
   },
   {
    "duration": 154,
    "start_time": "2022-06-27T13:10:19.034Z"
   },
   {
    "duration": 8,
    "start_time": "2022-06-27T13:10:19.191Z"
   },
   {
    "duration": 36,
    "start_time": "2022-06-27T13:10:19.201Z"
   },
   {
    "duration": 23,
    "start_time": "2022-06-27T13:10:19.239Z"
   },
   {
    "duration": 19,
    "start_time": "2022-06-27T13:10:19.263Z"
   },
   {
    "duration": 11,
    "start_time": "2022-06-27T13:10:19.284Z"
   },
   {
    "duration": 30,
    "start_time": "2022-06-27T13:10:19.297Z"
   },
   {
    "duration": 182,
    "start_time": "2022-06-27T13:10:19.329Z"
   },
   {
    "duration": 151,
    "start_time": "2022-06-27T13:10:19.513Z"
   },
   {
    "duration": 16,
    "start_time": "2022-06-27T13:10:19.666Z"
   },
   {
    "duration": 573,
    "start_time": "2022-06-27T13:10:19.683Z"
   },
   {
    "duration": 6,
    "start_time": "2022-06-27T13:10:20.257Z"
   },
   {
    "duration": 28,
    "start_time": "2022-06-27T13:10:20.265Z"
   },
   {
    "duration": 911,
    "start_time": "2022-06-27T13:10:20.295Z"
   },
   {
    "duration": 19,
    "start_time": "2022-06-27T13:10:21.208Z"
   },
   {
    "duration": 206,
    "start_time": "2022-06-27T13:10:21.229Z"
   },
   {
    "duration": 4,
    "start_time": "2022-06-27T13:10:21.436Z"
   },
   {
    "duration": 68,
    "start_time": "2022-06-27T13:10:21.442Z"
   },
   {
    "duration": 38,
    "start_time": "2022-06-27T13:10:21.512Z"
   },
   {
    "duration": 704,
    "start_time": "2022-06-27T13:10:21.554Z"
   },
   {
    "duration": 11,
    "start_time": "2022-06-27T13:10:22.261Z"
   },
   {
    "duration": 20,
    "start_time": "2022-06-27T13:10:22.274Z"
   },
   {
    "duration": 16,
    "start_time": "2022-06-27T13:10:22.296Z"
   },
   {
    "duration": 14,
    "start_time": "2022-06-27T13:10:22.314Z"
   },
   {
    "duration": 41,
    "start_time": "2022-06-27T13:10:22.330Z"
   },
   {
    "duration": 10,
    "start_time": "2022-06-27T13:10:22.373Z"
   },
   {
    "duration": 10,
    "start_time": "2022-06-27T13:10:52.356Z"
   },
   {
    "duration": 498,
    "start_time": "2022-06-27T13:12:07.856Z"
   },
   {
    "duration": 10,
    "start_time": "2022-06-27T13:12:13.844Z"
   },
   {
    "duration": 759,
    "start_time": "2022-06-27T13:12:50.727Z"
   },
   {
    "duration": 536,
    "start_time": "2022-06-27T13:13:03.283Z"
   },
   {
    "duration": 11,
    "start_time": "2022-06-27T13:13:05.149Z"
   },
   {
    "duration": 7,
    "start_time": "2022-06-27T13:13:17.303Z"
   },
   {
    "duration": 8,
    "start_time": "2022-06-27T13:13:21.479Z"
   },
   {
    "duration": 9,
    "start_time": "2022-06-27T13:13:45.471Z"
   },
   {
    "duration": 10,
    "start_time": "2022-06-27T13:14:13.490Z"
   },
   {
    "duration": 543,
    "start_time": "2022-06-27T13:14:34.798Z"
   },
   {
    "duration": 6,
    "start_time": "2022-06-27T13:14:36.730Z"
   },
   {
    "duration": 6,
    "start_time": "2022-06-27T13:14:36.838Z"
   },
   {
    "duration": 549,
    "start_time": "2022-06-27T13:14:55.971Z"
   },
   {
    "duration": 6,
    "start_time": "2022-06-27T13:14:56.714Z"
   },
   {
    "duration": 493,
    "start_time": "2022-06-27T13:15:00.762Z"
   },
   {
    "duration": 12,
    "start_time": "2022-06-27T13:15:01.770Z"
   },
   {
    "duration": 9,
    "start_time": "2022-06-27T13:15:40.541Z"
   },
   {
    "duration": 10,
    "start_time": "2022-06-27T13:15:46.398Z"
   },
   {
    "duration": 11,
    "start_time": "2022-06-27T13:15:55.769Z"
   },
   {
    "duration": 10,
    "start_time": "2022-06-27T13:16:09.026Z"
   },
   {
    "duration": 13,
    "start_time": "2022-06-27T13:16:15.239Z"
   },
   {
    "duration": 21,
    "start_time": "2022-06-27T13:17:28.116Z"
   },
   {
    "duration": 9,
    "start_time": "2022-06-27T13:17:34.504Z"
   },
   {
    "duration": 9,
    "start_time": "2022-06-27T13:17:43.968Z"
   },
   {
    "duration": 8,
    "start_time": "2022-06-27T13:17:57.092Z"
   },
   {
    "duration": 12,
    "start_time": "2022-06-27T13:24:25.341Z"
   },
   {
    "duration": 17,
    "start_time": "2022-06-27T13:24:33.193Z"
   },
   {
    "duration": 4,
    "start_time": "2022-06-27T13:24:53.169Z"
   },
   {
    "duration": 74,
    "start_time": "2022-06-27T13:24:53.174Z"
   },
   {
    "duration": 18,
    "start_time": "2022-06-27T13:24:53.250Z"
   },
   {
    "duration": 13,
    "start_time": "2022-06-27T13:24:53.270Z"
   },
   {
    "duration": 13,
    "start_time": "2022-06-27T13:24:53.285Z"
   },
   {
    "duration": 13,
    "start_time": "2022-06-27T13:24:53.300Z"
   },
   {
    "duration": 15,
    "start_time": "2022-06-27T13:24:53.315Z"
   },
   {
    "duration": 8,
    "start_time": "2022-06-27T13:24:53.331Z"
   },
   {
    "duration": 13,
    "start_time": "2022-06-27T13:24:53.341Z"
   },
   {
    "duration": 12,
    "start_time": "2022-06-27T13:24:53.355Z"
   },
   {
    "duration": 9,
    "start_time": "2022-06-27T13:24:53.370Z"
   },
   {
    "duration": 19,
    "start_time": "2022-06-27T13:24:53.380Z"
   },
   {
    "duration": 47,
    "start_time": "2022-06-27T13:24:53.401Z"
   },
   {
    "duration": 11,
    "start_time": "2022-06-27T13:24:53.450Z"
   },
   {
    "duration": 4,
    "start_time": "2022-06-27T13:24:53.462Z"
   },
   {
    "duration": 20,
    "start_time": "2022-06-27T13:24:53.468Z"
   },
   {
    "duration": 224,
    "start_time": "2022-06-27T13:24:53.490Z"
   },
   {
    "duration": 151,
    "start_time": "2022-06-27T13:24:53.716Z"
   },
   {
    "duration": 18,
    "start_time": "2022-06-27T13:24:53.870Z"
   },
   {
    "duration": 726,
    "start_time": "2022-06-27T13:24:53.890Z"
   },
   {
    "duration": 11,
    "start_time": "2022-06-27T13:24:54.618Z"
   },
   {
    "duration": 16,
    "start_time": "2022-06-27T13:24:54.631Z"
   },
   {
    "duration": 963,
    "start_time": "2022-06-27T13:24:54.648Z"
   },
   {
    "duration": 9,
    "start_time": "2022-06-27T13:24:55.613Z"
   },
   {
    "duration": 157,
    "start_time": "2022-06-27T13:24:55.623Z"
   },
   {
    "duration": 3,
    "start_time": "2022-06-27T13:24:55.783Z"
   },
   {
    "duration": 71,
    "start_time": "2022-06-27T13:24:55.788Z"
   },
   {
    "duration": 20,
    "start_time": "2022-06-27T13:24:55.860Z"
   },
   {
    "duration": 862,
    "start_time": "2022-06-27T13:24:55.883Z"
   },
   {
    "duration": 11,
    "start_time": "2022-06-27T13:24:56.747Z"
   },
   {
    "duration": 21,
    "start_time": "2022-06-27T13:24:56.760Z"
   },
   {
    "duration": 32,
    "start_time": "2022-06-27T13:24:56.782Z"
   },
   {
    "duration": 21,
    "start_time": "2022-06-27T13:24:56.816Z"
   },
   {
    "duration": 18,
    "start_time": "2022-06-27T13:24:56.838Z"
   },
   {
    "duration": 21,
    "start_time": "2022-06-27T13:24:56.858Z"
   },
   {
    "duration": 11,
    "start_time": "2022-06-27T13:25:12.396Z"
   },
   {
    "duration": 9,
    "start_time": "2022-06-27T13:25:22.265Z"
   },
   {
    "duration": 18,
    "start_time": "2022-06-27T13:25:32.113Z"
   },
   {
    "duration": 18,
    "start_time": "2022-06-27T13:25:42.228Z"
   },
   {
    "duration": 22,
    "start_time": "2022-06-27T13:25:50.512Z"
   },
   {
    "duration": 23,
    "start_time": "2022-06-27T13:26:09.540Z"
   },
   {
    "duration": 20,
    "start_time": "2022-06-27T13:26:19.373Z"
   },
   {
    "duration": 21,
    "start_time": "2022-06-27T13:26:24.608Z"
   },
   {
    "duration": 14,
    "start_time": "2022-06-27T13:26:34.620Z"
   },
   {
    "duration": 9,
    "start_time": "2022-06-27T13:26:38.917Z"
   },
   {
    "duration": 13,
    "start_time": "2022-06-27T13:26:40.844Z"
   },
   {
    "duration": 11,
    "start_time": "2022-06-27T13:26:44.376Z"
   },
   {
    "duration": 24,
    "start_time": "2022-06-27T13:27:00.508Z"
   },
   {
    "duration": 4,
    "start_time": "2022-06-27T13:27:11.492Z"
   },
   {
    "duration": 77,
    "start_time": "2022-06-27T13:27:11.498Z"
   },
   {
    "duration": 13,
    "start_time": "2022-06-27T13:27:11.577Z"
   },
   {
    "duration": 3,
    "start_time": "2022-06-27T13:27:11.592Z"
   },
   {
    "duration": 31,
    "start_time": "2022-06-27T13:27:11.597Z"
   },
   {
    "duration": 15,
    "start_time": "2022-06-27T13:27:11.630Z"
   },
   {
    "duration": 8,
    "start_time": "2022-06-27T13:27:11.647Z"
   },
   {
    "duration": 7,
    "start_time": "2022-06-27T13:27:11.657Z"
   },
   {
    "duration": 13,
    "start_time": "2022-06-27T13:27:11.666Z"
   },
   {
    "duration": 11,
    "start_time": "2022-06-27T13:27:11.682Z"
   },
   {
    "duration": 38,
    "start_time": "2022-06-27T13:27:11.696Z"
   },
   {
    "duration": 19,
    "start_time": "2022-06-27T13:27:11.736Z"
   },
   {
    "duration": 30,
    "start_time": "2022-06-27T13:27:11.757Z"
   },
   {
    "duration": 38,
    "start_time": "2022-06-27T13:27:11.789Z"
   },
   {
    "duration": 4,
    "start_time": "2022-06-27T13:27:11.829Z"
   },
   {
    "duration": 14,
    "start_time": "2022-06-27T13:27:11.834Z"
   },
   {
    "duration": 199,
    "start_time": "2022-06-27T13:27:11.850Z"
   },
   {
    "duration": 140,
    "start_time": "2022-06-27T13:27:12.050Z"
   },
   {
    "duration": 15,
    "start_time": "2022-06-27T13:27:12.192Z"
   },
   {
    "duration": 537,
    "start_time": "2022-06-27T13:27:12.208Z"
   },
   {
    "duration": 5,
    "start_time": "2022-06-27T13:27:12.747Z"
   },
   {
    "duration": 17,
    "start_time": "2022-06-27T13:27:12.754Z"
   },
   {
    "duration": 1214,
    "start_time": "2022-06-27T13:27:12.772Z"
   },
   {
    "duration": 10,
    "start_time": "2022-06-27T13:27:13.988Z"
   },
   {
    "duration": 186,
    "start_time": "2022-06-27T13:27:14.000Z"
   },
   {
    "duration": 4,
    "start_time": "2022-06-27T13:27:14.188Z"
   },
   {
    "duration": 72,
    "start_time": "2022-06-27T13:27:14.194Z"
   },
   {
    "duration": 19,
    "start_time": "2022-06-27T13:27:14.268Z"
   },
   {
    "duration": 723,
    "start_time": "2022-06-27T13:27:14.290Z"
   },
   {
    "duration": 11,
    "start_time": "2022-06-27T13:27:15.015Z"
   },
   {
    "duration": 25,
    "start_time": "2022-06-27T13:27:15.027Z"
   },
   {
    "duration": 13,
    "start_time": "2022-06-27T13:27:15.054Z"
   },
   {
    "duration": 5,
    "start_time": "2022-06-27T13:27:15.069Z"
   },
   {
    "duration": 20,
    "start_time": "2022-06-27T13:27:15.076Z"
   },
   {
    "duration": 9,
    "start_time": "2022-06-27T13:27:15.097Z"
   },
   {
    "duration": 24,
    "start_time": "2022-06-27T13:27:15.108Z"
   },
   {
    "duration": 0,
    "start_time": "2022-06-27T13:27:15.134Z"
   },
   {
    "duration": 13,
    "start_time": "2022-06-27T13:27:24.744Z"
   },
   {
    "duration": 11,
    "start_time": "2022-06-27T13:27:27.104Z"
   },
   {
    "duration": 11,
    "start_time": "2022-06-27T13:27:38.760Z"
   },
   {
    "duration": 12,
    "start_time": "2022-06-27T13:28:04.296Z"
   },
   {
    "duration": 19,
    "start_time": "2022-06-27T13:28:28.270Z"
   },
   {
    "duration": 13,
    "start_time": "2022-06-27T13:28:31.424Z"
   },
   {
    "duration": 12,
    "start_time": "2022-06-27T13:28:32.260Z"
   },
   {
    "duration": 11,
    "start_time": "2022-06-27T13:31:18.311Z"
   },
   {
    "duration": 513,
    "start_time": "2022-06-27T13:31:25.887Z"
   },
   {
    "duration": 13,
    "start_time": "2022-06-27T13:31:27.821Z"
   },
   {
    "duration": 14,
    "start_time": "2022-06-27T13:31:35.375Z"
   },
   {
    "duration": 12,
    "start_time": "2022-06-27T13:31:36.035Z"
   },
   {
    "duration": 13,
    "start_time": "2022-06-27T13:31:48.371Z"
   },
   {
    "duration": 15,
    "start_time": "2022-06-27T13:32:09.016Z"
   },
   {
    "duration": 10,
    "start_time": "2022-06-27T13:32:15.898Z"
   },
   {
    "duration": 13,
    "start_time": "2022-06-27T13:32:30.991Z"
   },
   {
    "duration": 10,
    "start_time": "2022-06-27T13:32:31.951Z"
   },
   {
    "duration": 18,
    "start_time": "2022-06-27T13:32:35.663Z"
   },
   {
    "duration": 11,
    "start_time": "2022-06-27T13:32:36.167Z"
   },
   {
    "duration": 11,
    "start_time": "2022-06-27T13:32:47.163Z"
   },
   {
    "duration": 9,
    "start_time": "2022-06-27T13:33:49.907Z"
   },
   {
    "duration": 12,
    "start_time": "2022-06-27T13:33:53.903Z"
   },
   {
    "duration": 9,
    "start_time": "2022-06-27T13:33:54.467Z"
   },
   {
    "duration": 11,
    "start_time": "2022-06-27T13:34:02.427Z"
   },
   {
    "duration": 11,
    "start_time": "2022-06-27T13:34:12.895Z"
   },
   {
    "duration": 10,
    "start_time": "2022-06-27T13:34:21.759Z"
   },
   {
    "duration": 18,
    "start_time": "2022-06-27T13:35:25.311Z"
   },
   {
    "duration": 9,
    "start_time": "2022-06-27T13:35:42.710Z"
   },
   {
    "duration": 12,
    "start_time": "2022-06-27T13:35:47.899Z"
   },
   {
    "duration": 21,
    "start_time": "2022-06-27T13:35:51.906Z"
   },
   {
    "duration": 10,
    "start_time": "2022-06-27T13:36:05.966Z"
   },
   {
    "duration": 29,
    "start_time": "2022-06-27T13:36:30.090Z"
   },
   {
    "duration": 20,
    "start_time": "2022-06-27T13:36:54.098Z"
   },
   {
    "duration": 23,
    "start_time": "2022-06-27T13:37:09.498Z"
   },
   {
    "duration": 10,
    "start_time": "2022-06-27T13:37:30.590Z"
   },
   {
    "duration": 12,
    "start_time": "2022-06-27T13:37:40.206Z"
   },
   {
    "duration": 11,
    "start_time": "2022-06-27T13:37:47.318Z"
   },
   {
    "duration": 11,
    "start_time": "2022-06-27T13:37:58.454Z"
   },
   {
    "duration": 13,
    "start_time": "2022-06-27T13:38:11.382Z"
   },
   {
    "duration": 13,
    "start_time": "2022-06-27T13:38:22.454Z"
   },
   {
    "duration": 12,
    "start_time": "2022-06-27T13:38:23.698Z"
   },
   {
    "duration": 51,
    "start_time": "2022-06-27T13:38:51.158Z"
   },
   {
    "duration": 6,
    "start_time": "2022-06-27T13:38:53.859Z"
   },
   {
    "duration": 3,
    "start_time": "2022-06-27T13:39:02.910Z"
   },
   {
    "duration": 6,
    "start_time": "2022-06-27T13:39:04.362Z"
   },
   {
    "duration": 10,
    "start_time": "2022-06-27T13:39:14.513Z"
   },
   {
    "duration": 4,
    "start_time": "2022-06-27T13:39:22.461Z"
   },
   {
    "duration": 4,
    "start_time": "2022-06-27T13:39:27.074Z"
   },
   {
    "duration": 3,
    "start_time": "2022-06-27T13:39:35.022Z"
   },
   {
    "duration": 71,
    "start_time": "2022-06-27T13:39:35.027Z"
   },
   {
    "duration": 13,
    "start_time": "2022-06-27T13:39:35.100Z"
   },
   {
    "duration": 17,
    "start_time": "2022-06-27T13:39:35.114Z"
   },
   {
    "duration": 8,
    "start_time": "2022-06-27T13:39:35.133Z"
   },
   {
    "duration": 12,
    "start_time": "2022-06-27T13:39:35.142Z"
   },
   {
    "duration": 7,
    "start_time": "2022-06-27T13:39:35.155Z"
   },
   {
    "duration": 11,
    "start_time": "2022-06-27T13:39:35.163Z"
   },
   {
    "duration": 10,
    "start_time": "2022-06-27T13:39:35.176Z"
   },
   {
    "duration": 12,
    "start_time": "2022-06-27T13:39:35.188Z"
   },
   {
    "duration": 31,
    "start_time": "2022-06-27T13:39:35.204Z"
   },
   {
    "duration": 21,
    "start_time": "2022-06-27T13:39:35.237Z"
   },
   {
    "duration": 24,
    "start_time": "2022-06-27T13:39:35.260Z"
   },
   {
    "duration": 8,
    "start_time": "2022-06-27T13:39:35.286Z"
   },
   {
    "duration": 3,
    "start_time": "2022-06-27T13:39:35.296Z"
   },
   {
    "duration": 36,
    "start_time": "2022-06-27T13:39:35.300Z"
   },
   {
    "duration": 189,
    "start_time": "2022-06-27T13:39:35.338Z"
   },
   {
    "duration": 139,
    "start_time": "2022-06-27T13:39:35.528Z"
   },
   {
    "duration": 16,
    "start_time": "2022-06-27T13:39:35.669Z"
   },
   {
    "duration": 547,
    "start_time": "2022-06-27T13:39:35.687Z"
   },
   {
    "duration": 7,
    "start_time": "2022-06-27T13:39:36.236Z"
   },
   {
    "duration": 33,
    "start_time": "2022-06-27T13:39:36.245Z"
   },
   {
    "duration": 997,
    "start_time": "2022-06-27T13:39:36.280Z"
   },
   {
    "duration": 9,
    "start_time": "2022-06-27T13:39:37.279Z"
   },
   {
    "duration": 393,
    "start_time": "2022-06-27T13:39:37.289Z"
   },
   {
    "duration": 4,
    "start_time": "2022-06-27T13:39:37.684Z"
   },
   {
    "duration": 71,
    "start_time": "2022-06-27T13:39:37.689Z"
   },
   {
    "duration": 20,
    "start_time": "2022-06-27T13:39:37.762Z"
   },
   {
    "duration": 984,
    "start_time": "2022-06-27T13:39:37.786Z"
   },
   {
    "duration": 13,
    "start_time": "2022-06-27T13:39:38.771Z"
   },
   {
    "duration": 23,
    "start_time": "2022-06-27T13:39:38.786Z"
   },
   {
    "duration": 25,
    "start_time": "2022-06-27T13:39:38.811Z"
   },
   {
    "duration": 6,
    "start_time": "2022-06-27T13:39:38.838Z"
   },
   {
    "duration": 33,
    "start_time": "2022-06-27T13:39:38.846Z"
   },
   {
    "duration": 22,
    "start_time": "2022-06-27T13:39:38.880Z"
   },
   {
    "duration": 23,
    "start_time": "2022-06-27T13:39:38.903Z"
   },
   {
    "duration": 15,
    "start_time": "2022-06-27T13:39:38.927Z"
   },
   {
    "duration": 27,
    "start_time": "2022-06-27T13:39:38.943Z"
   },
   {
    "duration": 11,
    "start_time": "2022-06-27T13:39:59.781Z"
   },
   {
    "duration": 15,
    "start_time": "2022-06-27T13:41:08.593Z"
   },
   {
    "duration": 3,
    "start_time": "2022-06-27T13:41:09.385Z"
   },
   {
    "duration": 47,
    "start_time": "2022-06-27T13:41:10.098Z"
   },
   {
    "duration": 12,
    "start_time": "2022-06-27T13:41:12.417Z"
   },
   {
    "duration": 14,
    "start_time": "2022-06-27T13:41:16.646Z"
   },
   {
    "duration": 13,
    "start_time": "2022-06-27T13:41:17.322Z"
   },
   {
    "duration": 13,
    "start_time": "2022-06-27T13:42:16.745Z"
   },
   {
    "duration": 13,
    "start_time": "2022-06-27T13:42:28.121Z"
   },
   {
    "duration": 6,
    "start_time": "2022-06-27T13:42:37.214Z"
   },
   {
    "duration": 8,
    "start_time": "2022-06-27T13:42:38.069Z"
   },
   {
    "duration": 3,
    "start_time": "2022-06-27T13:54:22.510Z"
   },
   {
    "duration": 4,
    "start_time": "2022-06-27T13:54:27.786Z"
   },
   {
    "duration": 6,
    "start_time": "2022-06-27T13:55:00.474Z"
   },
   {
    "duration": 11,
    "start_time": "2022-06-27T13:55:05.822Z"
   },
   {
    "duration": 14,
    "start_time": "2022-06-27T13:55:20.715Z"
   },
   {
    "duration": 9,
    "start_time": "2022-06-27T13:55:41.670Z"
   },
   {
    "duration": 4,
    "start_time": "2022-06-27T13:56:20.422Z"
   },
   {
    "duration": 115,
    "start_time": "2022-06-27T13:56:20.428Z"
   },
   {
    "duration": 18,
    "start_time": "2022-06-27T13:56:20.545Z"
   },
   {
    "duration": 4,
    "start_time": "2022-06-27T13:56:20.565Z"
   },
   {
    "duration": 16,
    "start_time": "2022-06-27T13:56:20.572Z"
   },
   {
    "duration": 8,
    "start_time": "2022-06-27T13:56:20.590Z"
   },
   {
    "duration": 8,
    "start_time": "2022-06-27T13:56:20.600Z"
   },
   {
    "duration": 24,
    "start_time": "2022-06-27T13:56:20.610Z"
   },
   {
    "duration": 27,
    "start_time": "2022-06-27T13:56:20.636Z"
   },
   {
    "duration": 19,
    "start_time": "2022-06-27T13:56:20.666Z"
   },
   {
    "duration": 8,
    "start_time": "2022-06-27T13:56:20.688Z"
   },
   {
    "duration": 19,
    "start_time": "2022-06-27T13:56:20.698Z"
   },
   {
    "duration": 47,
    "start_time": "2022-06-27T13:56:20.718Z"
   },
   {
    "duration": 10,
    "start_time": "2022-06-27T13:56:20.767Z"
   },
   {
    "duration": 7,
    "start_time": "2022-06-27T13:56:20.779Z"
   },
   {
    "duration": 14,
    "start_time": "2022-06-27T13:56:20.787Z"
   },
   {
    "duration": 216,
    "start_time": "2022-06-27T13:56:20.803Z"
   },
   {
    "duration": 148,
    "start_time": "2022-06-27T13:56:21.021Z"
   },
   {
    "duration": 15,
    "start_time": "2022-06-27T13:56:21.171Z"
   },
   {
    "duration": 617,
    "start_time": "2022-06-27T13:56:21.188Z"
   },
   {
    "duration": 6,
    "start_time": "2022-06-27T13:56:21.807Z"
   },
   {
    "duration": 26,
    "start_time": "2022-06-27T13:56:21.815Z"
   },
   {
    "duration": 1060,
    "start_time": "2022-06-27T13:56:21.842Z"
   },
   {
    "duration": 10,
    "start_time": "2022-06-27T13:56:22.904Z"
   },
   {
    "duration": 207,
    "start_time": "2022-06-27T13:56:22.915Z"
   },
   {
    "duration": 6,
    "start_time": "2022-06-27T13:56:23.123Z"
   },
   {
    "duration": 86,
    "start_time": "2022-06-27T13:56:23.131Z"
   },
   {
    "duration": 23,
    "start_time": "2022-06-27T13:56:23.218Z"
   },
   {
    "duration": 1112,
    "start_time": "2022-06-27T13:56:23.248Z"
   },
   {
    "duration": 11,
    "start_time": "2022-06-27T13:56:24.362Z"
   },
   {
    "duration": 14,
    "start_time": "2022-06-27T13:56:24.374Z"
   },
   {
    "duration": 17,
    "start_time": "2022-06-27T13:56:24.390Z"
   },
   {
    "duration": 6,
    "start_time": "2022-06-27T13:56:24.409Z"
   },
   {
    "duration": 58,
    "start_time": "2022-06-27T13:56:24.416Z"
   },
   {
    "duration": 3,
    "start_time": "2022-06-27T13:56:24.476Z"
   },
   {
    "duration": 16,
    "start_time": "2022-06-27T13:56:24.481Z"
   },
   {
    "duration": 16,
    "start_time": "2022-06-27T13:56:24.499Z"
   },
   {
    "duration": 3,
    "start_time": "2022-06-27T13:56:30.723Z"
   },
   {
    "duration": 4,
    "start_time": "2022-06-27T13:56:42.510Z"
   },
   {
    "duration": 18,
    "start_time": "2022-06-27T13:57:53.923Z"
   },
   {
    "duration": 15,
    "start_time": "2022-06-27T13:57:58.387Z"
   },
   {
    "duration": 17,
    "start_time": "2022-06-27T13:58:21.723Z"
   },
   {
    "duration": 8,
    "start_time": "2022-06-27T13:58:50.919Z"
   },
   {
    "duration": 14,
    "start_time": "2022-06-27T13:58:57.715Z"
   },
   {
    "duration": 70,
    "start_time": "2022-06-27T14:00:38.387Z"
   },
   {
    "duration": 70,
    "start_time": "2022-06-27T14:00:42.115Z"
   },
   {
    "duration": 73,
    "start_time": "2022-06-27T14:00:47.415Z"
   },
   {
    "duration": 21,
    "start_time": "2022-06-27T14:00:50.327Z"
   },
   {
    "duration": 17,
    "start_time": "2022-06-27T14:01:26.266Z"
   },
   {
    "duration": 29,
    "start_time": "2022-06-27T14:01:29.811Z"
   },
   {
    "duration": 14,
    "start_time": "2022-06-27T14:01:58.451Z"
   },
   {
    "duration": 12,
    "start_time": "2022-06-27T14:02:18.911Z"
   },
   {
    "duration": 12,
    "start_time": "2022-06-27T14:02:32.675Z"
   },
   {
    "duration": 20,
    "start_time": "2022-06-27T14:02:49.520Z"
   },
   {
    "duration": 14,
    "start_time": "2022-06-27T14:02:59.240Z"
   },
   {
    "duration": 8,
    "start_time": "2022-06-27T14:04:57.522Z"
   },
   {
    "duration": 13,
    "start_time": "2022-06-27T14:05:23.143Z"
   },
   {
    "duration": 7,
    "start_time": "2022-06-27T14:06:04.976Z"
   },
   {
    "duration": 14,
    "start_time": "2022-06-27T14:06:06.627Z"
   },
   {
    "duration": 15,
    "start_time": "2022-06-27T14:06:34.640Z"
   },
   {
    "duration": 11,
    "start_time": "2022-06-27T14:07:48.372Z"
   },
   {
    "duration": 8,
    "start_time": "2022-06-27T14:08:38.857Z"
   },
   {
    "duration": 9,
    "start_time": "2022-06-27T14:09:25.838Z"
   },
   {
    "duration": 5,
    "start_time": "2022-06-27T14:10:17.238Z"
   },
   {
    "duration": 3,
    "start_time": "2022-06-27T14:10:26.748Z"
   },
   {
    "duration": 8,
    "start_time": "2022-06-27T14:12:21.839Z"
   },
   {
    "duration": 9,
    "start_time": "2022-06-27T14:12:32.788Z"
   },
   {
    "duration": 8,
    "start_time": "2022-06-27T14:12:35.880Z"
   },
   {
    "duration": 7,
    "start_time": "2022-06-27T14:12:54.384Z"
   },
   {
    "duration": 33,
    "start_time": "2022-06-27T14:13:18.640Z"
   },
   {
    "duration": 11,
    "start_time": "2022-06-27T14:13:23.843Z"
   },
   {
    "duration": 14,
    "start_time": "2022-06-27T14:13:57.612Z"
   },
   {
    "duration": 10,
    "start_time": "2022-06-27T14:14:07.488Z"
   },
   {
    "duration": 13,
    "start_time": "2022-06-27T14:14:18.024Z"
   },
   {
    "duration": 9,
    "start_time": "2022-06-27T14:14:21.796Z"
   },
   {
    "duration": 12,
    "start_time": "2022-06-27T14:14:54.520Z"
   },
   {
    "duration": 12,
    "start_time": "2022-06-27T14:15:34.544Z"
   },
   {
    "duration": 3,
    "start_time": "2022-06-27T14:16:31.217Z"
   },
   {
    "duration": 120,
    "start_time": "2022-06-27T14:17:20.842Z"
   },
   {
    "duration": 57,
    "start_time": "2022-06-27T14:17:33.068Z"
   },
   {
    "duration": 50,
    "start_time": "2022-06-27T14:17:46.342Z"
   },
   {
    "duration": 248,
    "start_time": "2022-06-27T14:18:15.300Z"
   },
   {
    "duration": 88,
    "start_time": "2022-06-27T14:18:32.672Z"
   },
   {
    "duration": 9,
    "start_time": "2022-06-27T14:18:42.864Z"
   },
   {
    "duration": 123,
    "start_time": "2022-06-27T14:19:00.416Z"
   },
   {
    "duration": 31,
    "start_time": "2022-06-27T14:19:25.841Z"
   },
   {
    "duration": 12,
    "start_time": "2022-06-27T14:19:34.341Z"
   },
   {
    "duration": 107,
    "start_time": "2022-06-27T14:20:53.944Z"
   },
   {
    "duration": 96,
    "start_time": "2022-06-27T14:21:27.600Z"
   },
   {
    "duration": 148,
    "start_time": "2022-06-27T14:25:47.843Z"
   },
   {
    "duration": 126,
    "start_time": "2022-06-27T14:26:06.123Z"
   },
   {
    "duration": 41,
    "start_time": "2022-06-27T14:26:14.911Z"
   },
   {
    "duration": 42,
    "start_time": "2022-06-27T14:26:59.687Z"
   },
   {
    "duration": 37,
    "start_time": "2022-06-27T14:27:22.543Z"
   },
   {
    "duration": 47,
    "start_time": "2022-06-27T14:27:42.196Z"
   },
   {
    "duration": 87,
    "start_time": "2022-06-27T14:27:53.327Z"
   },
   {
    "duration": 66,
    "start_time": "2022-06-27T14:27:56.971Z"
   },
   {
    "duration": 53,
    "start_time": "2022-06-27T14:28:01.871Z"
   },
   {
    "duration": 53,
    "start_time": "2022-06-27T14:29:21.519Z"
   },
   {
    "duration": 50,
    "start_time": "2022-06-27T14:30:10.099Z"
   },
   {
    "duration": 58,
    "start_time": "2022-06-27T14:30:36.487Z"
   },
   {
    "duration": 59,
    "start_time": "2022-06-27T14:30:59.463Z"
   },
   {
    "duration": 60,
    "start_time": "2022-06-27T14:36:54.610Z"
   },
   {
    "duration": 50,
    "start_time": "2022-06-27T14:37:56.750Z"
   },
   {
    "duration": 16,
    "start_time": "2022-06-27T14:38:10.584Z"
   },
   {
    "duration": 14,
    "start_time": "2022-06-27T14:38:40.946Z"
   },
   {
    "duration": 15,
    "start_time": "2022-06-27T14:38:48.150Z"
   },
   {
    "duration": 50,
    "start_time": "2022-06-27T14:38:53.742Z"
   },
   {
    "duration": 11,
    "start_time": "2022-06-27T14:38:56.810Z"
   },
   {
    "duration": 94,
    "start_time": "2022-06-27T14:39:38.266Z"
   },
   {
    "duration": 65,
    "start_time": "2022-06-27T14:40:57.278Z"
   },
   {
    "duration": 50,
    "start_time": "2022-06-27T14:41:07.753Z"
   },
   {
    "duration": 49,
    "start_time": "2022-06-27T14:41:56.958Z"
   },
   {
    "duration": 47,
    "start_time": "2022-06-27T14:42:02.262Z"
   },
   {
    "duration": 4,
    "start_time": "2022-06-27T14:42:48.343Z"
   },
   {
    "duration": 60,
    "start_time": "2022-06-27T14:43:27.673Z"
   },
   {
    "duration": 51,
    "start_time": "2022-06-27T14:43:45.110Z"
   },
   {
    "duration": 46,
    "start_time": "2022-06-27T14:44:02.962Z"
   },
   {
    "duration": 49,
    "start_time": "2022-06-27T14:44:13.074Z"
   },
   {
    "duration": 55,
    "start_time": "2022-06-27T14:44:20.910Z"
   },
   {
    "duration": 61,
    "start_time": "2022-06-27T14:44:26.494Z"
   },
   {
    "duration": 49,
    "start_time": "2022-06-27T14:44:38.522Z"
   },
   {
    "duration": 46,
    "start_time": "2022-06-27T14:44:42.662Z"
   },
   {
    "duration": 21,
    "start_time": "2022-06-27T14:46:03.244Z"
   },
   {
    "duration": 17,
    "start_time": "2022-06-27T14:46:24.102Z"
   },
   {
    "duration": 19,
    "start_time": "2022-06-27T14:46:39.081Z"
   },
   {
    "duration": 18,
    "start_time": "2022-06-27T14:46:56.970Z"
   },
   {
    "duration": 13,
    "start_time": "2022-06-27T14:48:48.450Z"
   },
   {
    "duration": 8,
    "start_time": "2022-06-27T14:49:54.818Z"
   },
   {
    "duration": 17,
    "start_time": "2022-06-27T14:50:01.638Z"
   },
   {
    "duration": 8,
    "start_time": "2022-06-27T14:50:25.856Z"
   },
   {
    "duration": 9,
    "start_time": "2022-06-27T14:50:39.449Z"
   },
   {
    "duration": 9,
    "start_time": "2022-06-27T14:50:44.826Z"
   },
   {
    "duration": 10,
    "start_time": "2022-06-27T14:51:04.521Z"
   },
   {
    "duration": 13,
    "start_time": "2022-06-27T14:51:11.822Z"
   },
   {
    "duration": 10,
    "start_time": "2022-06-27T14:51:19.226Z"
   },
   {
    "duration": 12,
    "start_time": "2022-06-27T14:55:52.113Z"
   },
   {
    "duration": 7,
    "start_time": "2022-06-27T14:56:04.268Z"
   },
   {
    "duration": 11,
    "start_time": "2022-06-27T14:56:13.457Z"
   },
   {
    "duration": 8,
    "start_time": "2022-06-27T14:56:23.642Z"
   },
   {
    "duration": 48,
    "start_time": "2022-06-27T14:58:50.769Z"
   },
   {
    "duration": 9,
    "start_time": "2022-06-27T14:58:53.639Z"
   },
   {
    "duration": 10,
    "start_time": "2022-06-27T14:59:50.076Z"
   },
   {
    "duration": 6,
    "start_time": "2022-06-27T15:00:06.760Z"
   },
   {
    "duration": 9,
    "start_time": "2022-06-27T15:00:15.283Z"
   },
   {
    "duration": 7,
    "start_time": "2022-06-27T15:01:01.568Z"
   },
   {
    "duration": 7,
    "start_time": "2022-06-27T15:01:09.240Z"
   },
   {
    "duration": 6,
    "start_time": "2022-06-27T15:01:19.299Z"
   },
   {
    "duration": 16,
    "start_time": "2022-06-27T15:01:59.164Z"
   },
   {
    "duration": 17,
    "start_time": "2022-06-27T15:02:06.892Z"
   },
   {
    "duration": 14,
    "start_time": "2022-06-27T15:02:14.553Z"
   },
   {
    "duration": 18,
    "start_time": "2022-06-27T15:02:37.371Z"
   },
   {
    "duration": 17,
    "start_time": "2022-06-27T15:02:51.087Z"
   },
   {
    "duration": 17,
    "start_time": "2022-06-27T15:03:54.792Z"
   },
   {
    "duration": 32,
    "start_time": "2022-06-27T15:04:29.408Z"
   },
   {
    "duration": 205,
    "start_time": "2022-06-27T15:04:43.140Z"
   },
   {
    "duration": 221,
    "start_time": "2022-06-27T15:04:57.788Z"
   },
   {
    "duration": 202,
    "start_time": "2022-06-27T15:05:48.207Z"
   },
   {
    "duration": 216,
    "start_time": "2022-06-27T15:05:57.772Z"
   },
   {
    "duration": 247,
    "start_time": "2022-06-27T15:06:06.031Z"
   },
   {
    "duration": 15,
    "start_time": "2022-06-27T15:06:09.899Z"
   },
   {
    "duration": 243,
    "start_time": "2022-06-27T15:06:57.875Z"
   },
   {
    "duration": 264,
    "start_time": "2022-06-27T15:07:06.104Z"
   },
   {
    "duration": 47,
    "start_time": "2022-06-27T15:07:27.651Z"
   },
   {
    "duration": 61,
    "start_time": "2022-06-27T15:07:37.587Z"
   },
   {
    "duration": 15,
    "start_time": "2022-06-27T15:07:40.103Z"
   },
   {
    "duration": 20,
    "start_time": "2022-06-27T15:07:55.021Z"
   },
   {
    "duration": 120,
    "start_time": "2022-06-27T15:07:58.849Z"
   },
   {
    "duration": 99,
    "start_time": "2022-06-27T15:08:30.665Z"
   },
   {
    "duration": 116,
    "start_time": "2022-06-27T15:09:11.787Z"
   },
   {
    "duration": 129,
    "start_time": "2022-06-27T15:09:30.052Z"
   },
   {
    "duration": 170,
    "start_time": "2022-06-27T15:09:36.376Z"
   },
   {
    "duration": 138,
    "start_time": "2022-06-27T15:09:41.131Z"
   },
   {
    "duration": 8,
    "start_time": "2022-06-27T15:09:54.803Z"
   },
   {
    "duration": 404,
    "start_time": "2022-06-27T15:10:09.139Z"
   },
   {
    "duration": 174,
    "start_time": "2022-06-27T15:10:20.871Z"
   },
   {
    "duration": 147,
    "start_time": "2022-06-27T15:11:07.819Z"
   },
   {
    "duration": 5,
    "start_time": "2022-06-27T15:12:02.035Z"
   },
   {
    "duration": 5,
    "start_time": "2022-06-27T15:12:16.307Z"
   },
   {
    "duration": 9,
    "start_time": "2022-06-27T15:12:31.211Z"
   },
   {
    "duration": 151,
    "start_time": "2022-06-27T15:12:47.319Z"
   },
   {
    "duration": 93,
    "start_time": "2022-06-27T15:12:57.839Z"
   },
   {
    "duration": 109,
    "start_time": "2022-06-27T15:13:12.559Z"
   },
   {
    "duration": 117,
    "start_time": "2022-06-27T15:13:19.471Z"
   },
   {
    "duration": 122,
    "start_time": "2022-06-27T15:14:11.006Z"
   },
   {
    "duration": 124,
    "start_time": "2022-06-27T15:14:17.739Z"
   },
   {
    "duration": 213,
    "start_time": "2022-06-27T15:14:31.646Z"
   },
   {
    "duration": 131,
    "start_time": "2022-06-27T15:15:24.055Z"
   },
   {
    "duration": 213,
    "start_time": "2022-06-27T15:15:26.504Z"
   },
   {
    "duration": 143,
    "start_time": "2022-06-27T15:15:31.190Z"
   },
   {
    "duration": 57,
    "start_time": "2022-06-27T15:15:39.271Z"
   },
   {
    "duration": 203,
    "start_time": "2022-06-27T15:15:44.239Z"
   },
   {
    "duration": 214,
    "start_time": "2022-06-27T15:16:11.291Z"
   },
   {
    "duration": 10,
    "start_time": "2022-06-27T17:44:13.905Z"
   },
   {
    "duration": 9,
    "start_time": "2022-06-27T17:45:01.338Z"
   },
   {
    "duration": 20,
    "start_time": "2022-06-27T17:45:01.349Z"
   },
   {
    "duration": 11,
    "start_time": "2022-06-27T17:45:01.371Z"
   },
   {
    "duration": 84,
    "start_time": "2022-06-27T17:45:01.383Z"
   },
   {
    "duration": 12,
    "start_time": "2022-06-27T17:45:01.468Z"
   },
   {
    "duration": 35,
    "start_time": "2022-06-27T17:45:01.482Z"
   },
   {
    "duration": 32,
    "start_time": "2022-06-27T17:45:01.519Z"
   },
   {
    "duration": 27,
    "start_time": "2022-06-27T17:45:01.553Z"
   },
   {
    "duration": 23,
    "start_time": "2022-06-27T17:45:01.582Z"
   },
   {
    "duration": 48,
    "start_time": "2022-06-27T17:45:01.607Z"
   },
   {
    "duration": 32,
    "start_time": "2022-06-27T17:45:01.658Z"
   },
   {
    "duration": 27,
    "start_time": "2022-06-27T17:45:01.691Z"
   },
   {
    "duration": 16,
    "start_time": "2022-06-27T17:45:01.720Z"
   },
   {
    "duration": 27,
    "start_time": "2022-06-27T17:45:01.738Z"
   },
   {
    "duration": 33,
    "start_time": "2022-06-27T17:45:01.766Z"
   },
   {
    "duration": 10,
    "start_time": "2022-06-27T17:45:01.802Z"
   },
   {
    "duration": 6,
    "start_time": "2022-06-27T17:45:01.814Z"
   },
   {
    "duration": 12,
    "start_time": "2022-06-27T17:45:01.827Z"
   },
   {
    "duration": 200,
    "start_time": "2022-06-27T17:45:01.841Z"
   },
   {
    "duration": 140,
    "start_time": "2022-06-27T17:45:02.043Z"
   },
   {
    "duration": 16,
    "start_time": "2022-06-27T17:45:02.185Z"
   },
   {
    "duration": 520,
    "start_time": "2022-06-27T17:45:02.203Z"
   },
   {
    "duration": 7,
    "start_time": "2022-06-27T17:45:02.725Z"
   },
   {
    "duration": 65,
    "start_time": "2022-06-27T17:45:02.734Z"
   },
   {
    "duration": 973,
    "start_time": "2022-06-27T17:45:02.800Z"
   },
   {
    "duration": 9,
    "start_time": "2022-06-27T17:45:03.774Z"
   },
   {
    "duration": 191,
    "start_time": "2022-06-27T17:45:03.785Z"
   },
   {
    "duration": 4,
    "start_time": "2022-06-27T17:45:03.979Z"
   },
   {
    "duration": 72,
    "start_time": "2022-06-27T17:45:03.988Z"
   },
   {
    "duration": 22,
    "start_time": "2022-06-27T17:45:04.063Z"
   },
   {
    "duration": 948,
    "start_time": "2022-06-27T17:45:04.087Z"
   },
   {
    "duration": 12,
    "start_time": "2022-06-27T17:45:05.036Z"
   },
   {
    "duration": 12,
    "start_time": "2022-06-27T17:45:05.049Z"
   },
   {
    "duration": 17,
    "start_time": "2022-06-27T17:45:05.063Z"
   },
   {
    "duration": 10,
    "start_time": "2022-06-27T17:45:05.081Z"
   },
   {
    "duration": 17,
    "start_time": "2022-06-27T17:45:05.093Z"
   },
   {
    "duration": 8,
    "start_time": "2022-06-27T17:45:05.126Z"
   },
   {
    "duration": 13,
    "start_time": "2022-06-27T17:45:05.135Z"
   },
   {
    "duration": 55,
    "start_time": "2022-06-27T17:45:05.149Z"
   },
   {
    "duration": 31,
    "start_time": "2022-06-27T17:45:05.206Z"
   },
   {
    "duration": 22,
    "start_time": "2022-06-27T17:45:05.239Z"
   },
   {
    "duration": 241,
    "start_time": "2022-06-27T17:45:05.263Z"
   },
   {
    "duration": 26,
    "start_time": "2022-06-27T17:45:05.507Z"
   },
   {
    "duration": 7,
    "start_time": "2022-06-27T17:45:05.535Z"
   },
   {
    "duration": 19,
    "start_time": "2022-06-27T17:45:05.544Z"
   },
   {
    "duration": 18,
    "start_time": "2022-06-27T17:45:05.566Z"
   },
   {
    "duration": 10,
    "start_time": "2022-06-27T17:45:42.450Z"
   },
   {
    "duration": 5,
    "start_time": "2022-06-27T17:45:42.462Z"
   },
   {
    "duration": 7,
    "start_time": "2022-06-27T17:45:42.468Z"
   },
   {
    "duration": 66,
    "start_time": "2022-06-27T17:45:42.477Z"
   },
   {
    "duration": 13,
    "start_time": "2022-06-27T17:45:42.545Z"
   },
   {
    "duration": 6,
    "start_time": "2022-06-27T17:45:42.561Z"
   },
   {
    "duration": 10,
    "start_time": "2022-06-27T17:45:42.568Z"
   },
   {
    "duration": 10,
    "start_time": "2022-06-27T17:45:42.579Z"
   },
   {
    "duration": 8,
    "start_time": "2022-06-27T17:45:42.591Z"
   },
   {
    "duration": 27,
    "start_time": "2022-06-27T17:45:42.600Z"
   },
   {
    "duration": 10,
    "start_time": "2022-06-27T17:45:42.630Z"
   },
   {
    "duration": 12,
    "start_time": "2022-06-27T17:45:42.641Z"
   },
   {
    "duration": 8,
    "start_time": "2022-06-27T17:45:42.655Z"
   },
   {
    "duration": 18,
    "start_time": "2022-06-27T17:45:42.665Z"
   },
   {
    "duration": 53,
    "start_time": "2022-06-27T17:45:42.684Z"
   },
   {
    "duration": 9,
    "start_time": "2022-06-27T17:45:42.739Z"
   },
   {
    "duration": 3,
    "start_time": "2022-06-27T17:45:42.750Z"
   },
   {
    "duration": 12,
    "start_time": "2022-06-27T17:45:42.755Z"
   },
   {
    "duration": 208,
    "start_time": "2022-06-27T17:45:42.769Z"
   },
   {
    "duration": 141,
    "start_time": "2022-06-27T17:45:42.979Z"
   },
   {
    "duration": 16,
    "start_time": "2022-06-27T17:45:43.127Z"
   },
   {
    "duration": 855,
    "start_time": "2022-06-27T17:45:43.145Z"
   },
   {
    "duration": 5,
    "start_time": "2022-06-27T17:45:44.002Z"
   },
   {
    "duration": 27,
    "start_time": "2022-06-27T17:45:44.009Z"
   },
   {
    "duration": 996,
    "start_time": "2022-06-27T17:45:44.038Z"
   },
   {
    "duration": 9,
    "start_time": "2022-06-27T17:45:45.038Z"
   },
   {
    "duration": 173,
    "start_time": "2022-06-27T17:45:45.048Z"
   },
   {
    "duration": 5,
    "start_time": "2022-06-27T17:45:45.223Z"
   },
   {
    "duration": 66,
    "start_time": "2022-06-27T17:45:45.229Z"
   },
   {
    "duration": 35,
    "start_time": "2022-06-27T17:45:45.297Z"
   },
   {
    "duration": 768,
    "start_time": "2022-06-27T17:45:45.334Z"
   },
   {
    "duration": 10,
    "start_time": "2022-06-27T17:45:46.104Z"
   },
   {
    "duration": 9,
    "start_time": "2022-06-27T17:45:46.116Z"
   },
   {
    "duration": 9,
    "start_time": "2022-06-27T17:45:46.126Z"
   },
   {
    "duration": 6,
    "start_time": "2022-06-27T17:45:46.136Z"
   },
   {
    "duration": 20,
    "start_time": "2022-06-27T17:45:46.144Z"
   },
   {
    "duration": 6,
    "start_time": "2022-06-27T17:45:46.165Z"
   },
   {
    "duration": 17,
    "start_time": "2022-06-27T17:45:46.173Z"
   },
   {
    "duration": 93,
    "start_time": "2022-06-27T17:45:46.192Z"
   },
   {
    "duration": 17,
    "start_time": "2022-06-27T17:45:46.288Z"
   },
   {
    "duration": 22,
    "start_time": "2022-06-27T17:45:46.328Z"
   },
   {
    "duration": 247,
    "start_time": "2022-06-27T17:45:46.352Z"
   },
   {
    "duration": 26,
    "start_time": "2022-06-27T17:45:46.601Z"
   },
   {
    "duration": 7,
    "start_time": "2022-06-27T17:45:46.629Z"
   },
   {
    "duration": 9,
    "start_time": "2022-06-27T17:45:46.637Z"
   },
   {
    "duration": 14,
    "start_time": "2022-06-27T17:45:46.647Z"
   },
   {
    "duration": 10,
    "start_time": "2022-06-27T17:51:15.401Z"
   },
   {
    "duration": 6,
    "start_time": "2022-06-27T17:54:33.046Z"
   },
   {
    "duration": 3,
    "start_time": "2022-06-27T18:05:39.168Z"
   },
   {
    "duration": 190,
    "start_time": "2022-06-27T18:05:43.312Z"
   },
   {
    "duration": 167,
    "start_time": "2022-06-27T18:06:30.216Z"
   },
   {
    "duration": 4,
    "start_time": "2022-06-27T18:10:17.781Z"
   },
   {
    "duration": 210,
    "start_time": "2022-06-27T18:10:21.253Z"
   },
   {
    "duration": 180,
    "start_time": "2022-06-27T18:12:18.540Z"
   },
   {
    "duration": 47,
    "start_time": "2022-06-27T18:13:39.796Z"
   },
   {
    "duration": 71,
    "start_time": "2022-06-27T18:13:44.964Z"
   },
   {
    "duration": 189,
    "start_time": "2022-06-27T18:13:49.483Z"
   },
   {
    "duration": 206,
    "start_time": "2022-06-27T18:13:53.234Z"
   },
   {
    "duration": 201,
    "start_time": "2022-06-27T18:14:06.996Z"
   },
   {
    "duration": 206,
    "start_time": "2022-06-27T18:15:10.403Z"
   },
   {
    "duration": 186,
    "start_time": "2022-06-27T18:15:20.759Z"
   },
   {
    "duration": 188,
    "start_time": "2022-06-27T18:15:25.096Z"
   },
   {
    "duration": 186,
    "start_time": "2022-06-27T18:15:56.940Z"
   },
   {
    "duration": 196,
    "start_time": "2022-06-27T18:16:03.399Z"
   },
   {
    "duration": 197,
    "start_time": "2022-06-27T18:16:12.972Z"
   },
   {
    "duration": 188,
    "start_time": "2022-06-27T18:16:22.464Z"
   },
   {
    "duration": 199,
    "start_time": "2022-06-27T18:16:30.828Z"
   },
   {
    "duration": 200,
    "start_time": "2022-06-27T18:16:35.129Z"
   },
   {
    "duration": 177,
    "start_time": "2022-06-27T18:16:38.792Z"
   },
   {
    "duration": 181,
    "start_time": "2022-06-27T18:16:42.972Z"
   },
   {
    "duration": 188,
    "start_time": "2022-06-27T18:16:52.392Z"
   },
   {
    "duration": 204,
    "start_time": "2022-06-27T18:16:55.743Z"
   },
   {
    "duration": 556,
    "start_time": "2022-06-27T18:17:01.329Z"
   },
   {
    "duration": 188,
    "start_time": "2022-06-27T18:17:05.463Z"
   },
   {
    "duration": 199,
    "start_time": "2022-06-27T18:17:08.892Z"
   },
   {
    "duration": 223,
    "start_time": "2022-06-27T18:17:11.580Z"
   },
   {
    "duration": 190,
    "start_time": "2022-06-27T18:17:14.272Z"
   },
   {
    "duration": 180,
    "start_time": "2022-06-27T18:17:23.572Z"
   },
   {
    "duration": 181,
    "start_time": "2022-06-27T18:17:28.604Z"
   },
   {
    "duration": 186,
    "start_time": "2022-06-27T18:17:31.763Z"
   },
   {
    "duration": 184,
    "start_time": "2022-06-27T18:17:47.832Z"
   },
   {
    "duration": 194,
    "start_time": "2022-06-27T18:17:54.620Z"
   },
   {
    "duration": 185,
    "start_time": "2022-06-27T18:18:00.080Z"
   },
   {
    "duration": 199,
    "start_time": "2022-06-27T18:18:04.476Z"
   },
   {
    "duration": 190,
    "start_time": "2022-06-27T18:18:10.172Z"
   },
   {
    "duration": 205,
    "start_time": "2022-06-27T18:18:14.824Z"
   },
   {
    "duration": 181,
    "start_time": "2022-06-27T18:18:18.079Z"
   },
   {
    "duration": 186,
    "start_time": "2022-06-27T18:18:25.040Z"
   },
   {
    "duration": 195,
    "start_time": "2022-06-27T18:21:20.196Z"
   },
   {
    "duration": 215,
    "start_time": "2022-06-27T18:21:26.365Z"
   },
   {
    "duration": 197,
    "start_time": "2022-06-27T18:21:40.179Z"
   },
   {
    "duration": 177,
    "start_time": "2022-06-27T18:21:48.004Z"
   },
   {
    "duration": 194,
    "start_time": "2022-06-27T18:21:55.276Z"
   },
   {
    "duration": 193,
    "start_time": "2022-06-27T18:22:46.733Z"
   },
   {
    "duration": 184,
    "start_time": "2022-06-27T18:22:50.972Z"
   },
   {
    "duration": 194,
    "start_time": "2022-06-27T18:22:54.576Z"
   },
   {
    "duration": 194,
    "start_time": "2022-06-27T18:22:58.434Z"
   },
   {
    "duration": 223,
    "start_time": "2022-06-27T18:23:04.142Z"
   },
   {
    "duration": 197,
    "start_time": "2022-06-27T18:23:08.396Z"
   },
   {
    "duration": 212,
    "start_time": "2022-06-27T18:23:57.930Z"
   },
   {
    "duration": 195,
    "start_time": "2022-06-27T18:24:21.577Z"
   },
   {
    "duration": 193,
    "start_time": "2022-06-27T18:24:24.584Z"
   },
   {
    "duration": 210,
    "start_time": "2022-06-27T18:24:27.188Z"
   },
   {
    "duration": 196,
    "start_time": "2022-06-27T18:24:30.045Z"
   },
   {
    "duration": 9,
    "start_time": "2022-06-27T18:25:09.631Z"
   },
   {
    "duration": 11,
    "start_time": "2022-06-27T18:25:29.500Z"
   },
   {
    "duration": 149,
    "start_time": "2022-06-27T18:27:04.464Z"
   },
   {
    "duration": 890,
    "start_time": "2022-06-27T18:27:48.737Z"
   },
   {
    "duration": 264,
    "start_time": "2022-06-27T18:27:59.892Z"
   },
   {
    "duration": 4,
    "start_time": "2022-06-27T18:29:32.134Z"
   },
   {
    "duration": 589,
    "start_time": "2022-06-27T18:29:35.661Z"
   },
   {
    "duration": 11,
    "start_time": "2022-06-27T18:30:56.432Z"
   },
   {
    "duration": 4,
    "start_time": "2022-06-27T18:31:30.469Z"
   },
   {
    "duration": 196,
    "start_time": "2022-06-27T18:31:34.148Z"
   },
   {
    "duration": 5,
    "start_time": "2022-06-27T18:31:38.600Z"
   },
   {
    "duration": 190,
    "start_time": "2022-06-27T18:31:40.597Z"
   },
   {
    "duration": 5,
    "start_time": "2022-06-27T18:31:47.512Z"
   },
   {
    "duration": 187,
    "start_time": "2022-06-27T18:31:51.536Z"
   },
   {
    "duration": 9,
    "start_time": "2022-06-27T18:32:33.344Z"
   },
   {
    "duration": 8,
    "start_time": "2022-06-27T18:32:38.232Z"
   },
   {
    "duration": 4,
    "start_time": "2022-06-27T18:32:58.590Z"
   },
   {
    "duration": 3,
    "start_time": "2022-06-27T18:33:21.053Z"
   },
   {
    "duration": 272,
    "start_time": "2022-06-27T18:33:22.653Z"
   },
   {
    "duration": 3,
    "start_time": "2022-06-27T18:33:33.957Z"
   },
   {
    "duration": 269,
    "start_time": "2022-06-27T18:33:35.469Z"
   },
   {
    "duration": 4,
    "start_time": "2022-06-27T18:33:48.633Z"
   },
   {
    "duration": 255,
    "start_time": "2022-06-27T18:33:50.853Z"
   },
   {
    "duration": 268,
    "start_time": "2022-06-27T18:33:57.313Z"
   },
   {
    "duration": 2,
    "start_time": "2022-06-27T18:34:17.190Z"
   },
   {
    "duration": 201,
    "start_time": "2022-06-27T18:34:22.980Z"
   },
   {
    "duration": 15,
    "start_time": "2022-06-27T18:35:04.001Z"
   },
   {
    "duration": 5,
    "start_time": "2022-06-27T18:35:16.325Z"
   },
   {
    "duration": 277,
    "start_time": "2022-06-27T18:35:21.428Z"
   },
   {
    "duration": 2,
    "start_time": "2022-06-27T18:35:27.553Z"
   },
   {
    "duration": 193,
    "start_time": "2022-06-27T18:35:28.181Z"
   },
   {
    "duration": 3,
    "start_time": "2022-06-27T18:35:33.901Z"
   },
   {
    "duration": 201,
    "start_time": "2022-06-27T18:35:34.448Z"
   },
   {
    "duration": 6,
    "start_time": "2022-06-27T18:35:44.288Z"
   },
   {
    "duration": 237,
    "start_time": "2022-06-27T18:35:44.794Z"
   },
   {
    "duration": 4,
    "start_time": "2022-06-27T18:35:53.273Z"
   },
   {
    "duration": 4,
    "start_time": "2022-06-27T18:36:00.160Z"
   },
   {
    "duration": 8,
    "start_time": "2022-06-27T18:36:00.168Z"
   },
   {
    "duration": 72,
    "start_time": "2022-06-27T18:36:00.178Z"
   },
   {
    "duration": 13,
    "start_time": "2022-06-27T18:36:00.251Z"
   },
   {
    "duration": 1031,
    "start_time": "2022-06-27T18:36:00.266Z"
   },
   {
    "duration": 11,
    "start_time": "2022-06-27T18:36:01.299Z"
   },
   {
    "duration": 16,
    "start_time": "2022-06-27T18:36:01.312Z"
   },
   {
    "duration": 47,
    "start_time": "2022-06-27T18:36:01.330Z"
   },
   {
    "duration": 25,
    "start_time": "2022-06-27T18:36:01.379Z"
   },
   {
    "duration": 14,
    "start_time": "2022-06-27T18:36:01.405Z"
   },
   {
    "duration": 18,
    "start_time": "2022-06-27T18:36:01.420Z"
   },
   {
    "duration": 17,
    "start_time": "2022-06-27T18:36:01.439Z"
   },
   {
    "duration": 26,
    "start_time": "2022-06-27T18:36:01.457Z"
   },
   {
    "duration": 19,
    "start_time": "2022-06-27T18:36:01.486Z"
   },
   {
    "duration": 40,
    "start_time": "2022-06-27T18:36:01.507Z"
   },
   {
    "duration": 30,
    "start_time": "2022-06-27T18:36:01.549Z"
   },
   {
    "duration": 27,
    "start_time": "2022-06-27T18:36:01.581Z"
   },
   {
    "duration": 27,
    "start_time": "2022-06-27T18:36:01.610Z"
   },
   {
    "duration": 25,
    "start_time": "2022-06-27T18:36:01.638Z"
   },
   {
    "duration": 30,
    "start_time": "2022-06-27T18:36:01.664Z"
   },
   {
    "duration": 23,
    "start_time": "2022-06-27T18:36:01.696Z"
   },
   {
    "duration": 278,
    "start_time": "2022-06-27T18:36:01.721Z"
   },
   {
    "duration": 307,
    "start_time": "2022-06-27T18:36:02.001Z"
   },
   {
    "duration": 25,
    "start_time": "2022-06-27T18:36:02.309Z"
   },
   {
    "duration": 556,
    "start_time": "2022-06-27T18:36:02.335Z"
   },
   {
    "duration": 6,
    "start_time": "2022-06-27T18:36:02.892Z"
   },
   {
    "duration": 41,
    "start_time": "2022-06-27T18:36:02.900Z"
   },
   {
    "duration": 988,
    "start_time": "2022-06-27T18:36:02.943Z"
   },
   {
    "duration": 9,
    "start_time": "2022-06-27T18:36:03.932Z"
   },
   {
    "duration": 189,
    "start_time": "2022-06-27T18:36:03.942Z"
   },
   {
    "duration": 4,
    "start_time": "2022-06-27T18:36:04.132Z"
   },
   {
    "duration": 93,
    "start_time": "2022-06-27T18:36:04.138Z"
   },
   {
    "duration": 23,
    "start_time": "2022-06-27T18:36:04.232Z"
   },
   {
    "duration": 36,
    "start_time": "2022-06-27T18:36:04.257Z"
   },
   {
    "duration": 16,
    "start_time": "2022-06-27T18:36:04.295Z"
   },
   {
    "duration": 41,
    "start_time": "2022-06-27T18:36:04.313Z"
   },
   {
    "duration": 72,
    "start_time": "2022-06-27T18:36:04.356Z"
   },
   {
    "duration": 13,
    "start_time": "2022-06-27T18:36:04.432Z"
   },
   {
    "duration": 30,
    "start_time": "2022-06-27T18:36:04.447Z"
   },
   {
    "duration": 243,
    "start_time": "2022-06-27T18:36:04.479Z"
   },
   {
    "duration": 21,
    "start_time": "2022-06-27T18:36:04.724Z"
   },
   {
    "duration": 22,
    "start_time": "2022-06-27T18:36:04.747Z"
   },
   {
    "duration": 25,
    "start_time": "2022-06-27T18:36:04.770Z"
   },
   {
    "duration": 30,
    "start_time": "2022-06-27T18:36:04.797Z"
   },
   {
    "duration": 178,
    "start_time": "2022-06-27T18:38:50.869Z"
   },
   {
    "duration": 230,
    "start_time": "2022-06-27T18:39:57.833Z"
   },
   {
    "duration": 127,
    "start_time": "2022-06-27T18:42:12.041Z"
   },
   {
    "duration": 124,
    "start_time": "2022-06-27T18:42:14.817Z"
   },
   {
    "duration": 176,
    "start_time": "2022-06-27T18:42:22.460Z"
   },
   {
    "duration": 497,
    "start_time": "2022-06-27T18:42:28.933Z"
   },
   {
    "duration": 240,
    "start_time": "2022-06-27T18:43:40.681Z"
   },
   {
    "duration": 244,
    "start_time": "2022-06-27T18:44:26.829Z"
   },
   {
    "duration": 238,
    "start_time": "2022-06-27T18:44:32.965Z"
   },
   {
    "duration": 247,
    "start_time": "2022-06-27T18:44:39.749Z"
   },
   {
    "duration": 253,
    "start_time": "2022-06-27T18:45:08.633Z"
   },
   {
    "duration": 257,
    "start_time": "2022-06-27T18:45:12.821Z"
   },
   {
    "duration": 243,
    "start_time": "2022-06-27T18:45:16.345Z"
   },
   {
    "duration": 232,
    "start_time": "2022-06-27T18:45:22.508Z"
   },
   {
    "duration": 228,
    "start_time": "2022-06-27T18:45:28.137Z"
   },
   {
    "duration": 279,
    "start_time": "2022-06-27T18:45:31.630Z"
   },
   {
    "duration": 245,
    "start_time": "2022-06-27T18:45:37.834Z"
   },
   {
    "duration": 248,
    "start_time": "2022-06-27T18:45:43.469Z"
   },
   {
    "duration": 242,
    "start_time": "2022-06-27T18:45:50.993Z"
   },
   {
    "duration": 234,
    "start_time": "2022-06-27T18:45:55.011Z"
   },
   {
    "duration": 240,
    "start_time": "2022-06-27T18:45:59.841Z"
   },
   {
    "duration": 255,
    "start_time": "2022-06-27T18:46:04.125Z"
   },
   {
    "duration": 157,
    "start_time": "2022-06-27T18:46:58.033Z"
   },
   {
    "duration": 63,
    "start_time": "2022-06-27T18:47:25.189Z"
   },
   {
    "duration": 155,
    "start_time": "2022-06-27T18:47:32.689Z"
   },
   {
    "duration": 313,
    "start_time": "2022-06-27T18:47:37.080Z"
   },
   {
    "duration": 55,
    "start_time": "2022-06-27T18:48:40.060Z"
   },
   {
    "duration": 132,
    "start_time": "2022-06-27T18:48:44.564Z"
   },
   {
    "duration": 132,
    "start_time": "2022-06-27T18:48:49.128Z"
   },
   {
    "duration": 130,
    "start_time": "2022-06-27T18:48:52.713Z"
   },
   {
    "duration": 141,
    "start_time": "2022-06-27T18:50:34.741Z"
   },
   {
    "duration": 153,
    "start_time": "2022-06-27T18:51:18.177Z"
   },
   {
    "duration": 128,
    "start_time": "2022-06-27T18:51:31.333Z"
   },
   {
    "duration": 253,
    "start_time": "2022-06-27T18:51:55.045Z"
   },
   {
    "duration": 246,
    "start_time": "2022-06-27T18:51:58.613Z"
   },
   {
    "duration": 265,
    "start_time": "2022-06-27T18:52:04.009Z"
   },
   {
    "duration": 256,
    "start_time": "2022-06-27T18:53:13.449Z"
   },
   {
    "duration": 250,
    "start_time": "2022-06-27T18:53:17.500Z"
   },
   {
    "duration": 261,
    "start_time": "2022-06-27T18:53:21.041Z"
   },
   {
    "duration": 283,
    "start_time": "2022-06-27T18:53:25.605Z"
   },
   {
    "duration": 256,
    "start_time": "2022-06-27T18:54:19.552Z"
   },
   {
    "duration": 258,
    "start_time": "2022-06-27T18:54:24.380Z"
   },
   {
    "duration": 281,
    "start_time": "2022-06-27T18:54:30.861Z"
   },
   {
    "duration": 276,
    "start_time": "2022-06-27T18:54:39.188Z"
   },
   {
    "duration": 153,
    "start_time": "2022-06-27T18:55:57.292Z"
   },
   {
    "duration": 59,
    "start_time": "2022-06-27T18:56:26.433Z"
   },
   {
    "duration": 51,
    "start_time": "2022-06-27T18:56:29.807Z"
   },
   {
    "duration": 668,
    "start_time": "2022-06-27T18:56:44.075Z"
   },
   {
    "duration": 258,
    "start_time": "2022-06-27T18:56:49.435Z"
   },
   {
    "duration": 319,
    "start_time": "2022-06-27T18:56:53.135Z"
   },
   {
    "duration": 271,
    "start_time": "2022-06-27T18:56:56.775Z"
   },
   {
    "duration": 290,
    "start_time": "2022-06-27T18:57:01.835Z"
   },
   {
    "duration": 5,
    "start_time": "2022-06-27T19:16:53.255Z"
   },
   {
    "duration": 315,
    "start_time": "2022-06-27T19:17:03.650Z"
   },
   {
    "duration": 15,
    "start_time": "2022-06-27T19:18:53.690Z"
   },
   {
    "duration": 12,
    "start_time": "2022-06-27T19:20:12.351Z"
   },
   {
    "duration": 288,
    "start_time": "2022-06-27T19:20:51.358Z"
   },
   {
    "duration": 283,
    "start_time": "2022-06-27T19:20:59.252Z"
   },
   {
    "duration": 298,
    "start_time": "2022-06-27T19:21:55.094Z"
   },
   {
    "duration": 293,
    "start_time": "2022-06-27T19:22:00.182Z"
   },
   {
    "duration": 13,
    "start_time": "2022-06-27T19:24:51.659Z"
   },
   {
    "duration": 258,
    "start_time": "2022-06-27T19:24:52.822Z"
   },
   {
    "duration": 339,
    "start_time": "2022-06-27T19:25:07.178Z"
   },
   {
    "duration": 9,
    "start_time": "2022-06-27T19:25:19.742Z"
   },
   {
    "duration": 11,
    "start_time": "2022-06-27T19:25:36.562Z"
   },
   {
    "duration": 22,
    "start_time": "2022-06-27T19:25:48.224Z"
   },
   {
    "duration": 185,
    "start_time": "2022-06-27T19:26:10.194Z"
   },
   {
    "duration": 7,
    "start_time": "2022-06-27T19:26:58.664Z"
   },
   {
    "duration": 1539,
    "start_time": "2022-06-27T19:27:01.619Z"
   },
   {
    "duration": 1339,
    "start_time": "2022-06-27T19:27:11.754Z"
   },
   {
    "duration": 168,
    "start_time": "2022-06-27T19:27:19.951Z"
   },
   {
    "duration": 197,
    "start_time": "2022-06-27T19:27:31.762Z"
   },
   {
    "duration": 11,
    "start_time": "2022-06-27T19:27:57.702Z"
   },
   {
    "duration": 467,
    "start_time": "2022-06-27T19:28:03.602Z"
   },
   {
    "duration": 67,
    "start_time": "2022-06-27T19:28:14.586Z"
   },
   {
    "duration": 174,
    "start_time": "2022-06-27T19:28:17.256Z"
   },
   {
    "duration": 9,
    "start_time": "2022-06-27T19:28:30.864Z"
   },
   {
    "duration": 189,
    "start_time": "2022-06-27T19:28:40.721Z"
   },
   {
    "duration": 188,
    "start_time": "2022-06-27T19:29:06.895Z"
   },
   {
    "duration": 161,
    "start_time": "2022-06-27T19:29:22.379Z"
   },
   {
    "duration": 168,
    "start_time": "2022-06-27T19:29:47.250Z"
   },
   {
    "duration": 192,
    "start_time": "2022-06-27T19:29:51.283Z"
   },
   {
    "duration": 162,
    "start_time": "2022-06-27T19:29:53.992Z"
   },
   {
    "duration": 168,
    "start_time": "2022-06-27T19:29:58.750Z"
   },
   {
    "duration": 182,
    "start_time": "2022-06-27T19:30:05.004Z"
   },
   {
    "duration": 163,
    "start_time": "2022-06-27T19:30:10.064Z"
   },
   {
    "duration": 189,
    "start_time": "2022-06-27T19:30:13.895Z"
   },
   {
    "duration": 160,
    "start_time": "2022-06-27T19:30:31.057Z"
   },
   {
    "duration": 185,
    "start_time": "2022-06-27T19:30:54.457Z"
   },
   {
    "duration": 158,
    "start_time": "2022-06-27T19:30:58.246Z"
   },
   {
    "duration": 110,
    "start_time": "2022-06-27T19:31:05.312Z"
   },
   {
    "duration": 147,
    "start_time": "2022-06-27T19:31:10.228Z"
   },
   {
    "duration": 109,
    "start_time": "2022-06-27T19:31:31.789Z"
   },
   {
    "duration": 127,
    "start_time": "2022-06-27T19:32:15.165Z"
   },
   {
    "duration": 108,
    "start_time": "2022-06-27T19:32:22.769Z"
   },
   {
    "duration": 22,
    "start_time": "2022-06-27T19:34:26.644Z"
   },
   {
    "duration": 15,
    "start_time": "2022-06-27T19:34:37.226Z"
   },
   {
    "duration": 10,
    "start_time": "2022-06-27T19:35:26.294Z"
   },
   {
    "duration": 18,
    "start_time": "2022-06-27T19:35:34.850Z"
   },
   {
    "duration": 146,
    "start_time": "2022-06-27T19:35:39.710Z"
   },
   {
    "duration": 19,
    "start_time": "2022-06-27T19:35:53.562Z"
   },
   {
    "duration": 177,
    "start_time": "2022-06-27T19:35:57.162Z"
   },
   {
    "duration": 24,
    "start_time": "2022-06-27T19:36:11.743Z"
   },
   {
    "duration": 9,
    "start_time": "2022-06-27T19:36:52.762Z"
   },
   {
    "duration": 194,
    "start_time": "2022-06-27T19:36:55.470Z"
   },
   {
    "duration": 9,
    "start_time": "2022-06-27T19:36:57.370Z"
   },
   {
    "duration": 22,
    "start_time": "2022-06-27T19:37:12.650Z"
   },
   {
    "duration": 22,
    "start_time": "2022-06-27T19:37:25.930Z"
   },
   {
    "duration": 21,
    "start_time": "2022-06-27T19:37:36.643Z"
   },
   {
    "duration": 239,
    "start_time": "2022-06-27T19:37:43.970Z"
   },
   {
    "duration": 51,
    "start_time": "2022-06-27T19:38:53.863Z"
   },
   {
    "duration": 246,
    "start_time": "2022-06-27T19:38:59.602Z"
   },
   {
    "duration": 260,
    "start_time": "2022-06-27T19:39:18.043Z"
   },
   {
    "duration": 8,
    "start_time": "2022-06-27T19:39:24.579Z"
   },
   {
    "duration": 270,
    "start_time": "2022-06-27T19:39:44.819Z"
   },
   {
    "duration": 621,
    "start_time": "2022-06-27T19:39:56.871Z"
   },
   {
    "duration": 291,
    "start_time": "2022-06-27T19:40:05.083Z"
   },
   {
    "duration": 8,
    "start_time": "2022-06-27T19:40:06.875Z"
   },
   {
    "duration": 267,
    "start_time": "2022-06-27T19:40:50.271Z"
   },
   {
    "duration": 160,
    "start_time": "2022-06-27T19:41:29.224Z"
   },
   {
    "duration": 9,
    "start_time": "2022-06-27T19:41:39.775Z"
   },
   {
    "duration": 42,
    "start_time": "2022-06-27T19:41:51.552Z"
   },
   {
    "duration": 9,
    "start_time": "2022-06-27T19:41:55.216Z"
   },
   {
    "duration": 9,
    "start_time": "2022-06-27T19:42:03.403Z"
   },
   {
    "duration": 195,
    "start_time": "2022-06-27T19:42:56.155Z"
   },
   {
    "duration": 9,
    "start_time": "2022-06-27T19:44:57.875Z"
   },
   {
    "duration": 372,
    "start_time": "2022-06-27T19:46:13.708Z"
   },
   {
    "duration": 578,
    "start_time": "2022-06-27T19:46:22.942Z"
   },
   {
    "duration": 218,
    "start_time": "2022-06-27T19:46:47.440Z"
   },
   {
    "duration": 161,
    "start_time": "2022-06-27T19:46:55.530Z"
   },
   {
    "duration": 171,
    "start_time": "2022-06-27T19:47:07.153Z"
   },
   {
    "duration": 839,
    "start_time": "2022-06-27T19:50:19.649Z"
   },
   {
    "duration": 543,
    "start_time": "2022-06-27T19:50:35.253Z"
   },
   {
    "duration": 626,
    "start_time": "2022-06-27T19:51:04.741Z"
   },
   {
    "duration": 578,
    "start_time": "2022-06-27T19:51:17.639Z"
   },
   {
    "duration": 571,
    "start_time": "2022-06-27T19:51:20.344Z"
   },
   {
    "duration": 29,
    "start_time": "2022-06-27T19:52:16.617Z"
   },
   {
    "duration": 547,
    "start_time": "2022-06-27T19:52:27.088Z"
   },
   {
    "duration": 29,
    "start_time": "2022-06-27T19:52:53.254Z"
   },
   {
    "duration": 47,
    "start_time": "2022-06-27T19:53:44.233Z"
   },
   {
    "duration": 58,
    "start_time": "2022-06-27T19:53:49.456Z"
   },
   {
    "duration": 633,
    "start_time": "2022-06-27T19:53:53.724Z"
   },
   {
    "duration": 644,
    "start_time": "2022-06-27T19:54:03.989Z"
   },
   {
    "duration": 426,
    "start_time": "2022-06-27T19:54:11.524Z"
   },
   {
    "duration": 214,
    "start_time": "2022-06-27T19:54:30.244Z"
   },
   {
    "duration": 8,
    "start_time": "2022-06-27T19:54:55.309Z"
   },
   {
    "duration": 239,
    "start_time": "2022-06-27T19:55:06.953Z"
   },
   {
    "duration": 250,
    "start_time": "2022-06-27T19:55:27.421Z"
   },
   {
    "duration": 273,
    "start_time": "2022-06-27T19:55:34.156Z"
   },
   {
    "duration": 272,
    "start_time": "2022-06-27T19:58:27.293Z"
   },
   {
    "duration": 453,
    "start_time": "2022-06-27T19:58:42.387Z"
   },
   {
    "duration": 344,
    "start_time": "2022-06-27T20:00:36.073Z"
   },
   {
    "duration": 9,
    "start_time": "2022-06-27T20:00:41.105Z"
   },
   {
    "duration": 98,
    "start_time": "2022-06-27T20:01:39.897Z"
   },
   {
    "duration": 21,
    "start_time": "2022-06-27T20:02:10.601Z"
   },
   {
    "duration": 327,
    "start_time": "2022-06-27T20:02:18.073Z"
   },
   {
    "duration": 309,
    "start_time": "2022-06-27T20:03:17.781Z"
   },
   {
    "duration": 332,
    "start_time": "2022-06-27T20:06:30.386Z"
   },
   {
    "duration": 297,
    "start_time": "2022-06-27T20:06:38.473Z"
   },
   {
    "duration": 318,
    "start_time": "2022-06-27T20:08:16.997Z"
   },
   {
    "duration": 339,
    "start_time": "2022-06-27T20:08:27.026Z"
   },
   {
    "duration": 3,
    "start_time": "2022-06-27T20:09:03.185Z"
   },
   {
    "duration": 5,
    "start_time": "2022-06-27T20:09:03.192Z"
   },
   {
    "duration": 97,
    "start_time": "2022-06-27T20:09:03.198Z"
   },
   {
    "duration": 16,
    "start_time": "2022-06-27T20:09:03.297Z"
   },
   {
    "duration": 1167,
    "start_time": "2022-06-27T20:09:03.314Z"
   },
   {
    "duration": 11,
    "start_time": "2022-06-27T20:09:04.483Z"
   },
   {
    "duration": 7,
    "start_time": "2022-06-27T20:09:04.495Z"
   },
   {
    "duration": 12,
    "start_time": "2022-06-27T20:09:04.503Z"
   },
   {
    "duration": 8,
    "start_time": "2022-06-27T20:09:04.517Z"
   },
   {
    "duration": 46,
    "start_time": "2022-06-27T20:09:04.527Z"
   },
   {
    "duration": 11,
    "start_time": "2022-06-27T20:09:04.575Z"
   },
   {
    "duration": 14,
    "start_time": "2022-06-27T20:09:04.587Z"
   },
   {
    "duration": 9,
    "start_time": "2022-06-27T20:09:04.603Z"
   },
   {
    "duration": 36,
    "start_time": "2022-06-27T20:09:04.614Z"
   },
   {
    "duration": 28,
    "start_time": "2022-06-27T20:09:04.658Z"
   },
   {
    "duration": 10,
    "start_time": "2022-06-27T20:09:04.687Z"
   },
   {
    "duration": 6,
    "start_time": "2022-06-27T20:09:04.699Z"
   },
   {
    "duration": 13,
    "start_time": "2022-06-27T20:09:04.706Z"
   },
   {
    "duration": 10,
    "start_time": "2022-06-27T20:09:04.721Z"
   },
   {
    "duration": 44,
    "start_time": "2022-06-27T20:09:04.735Z"
   },
   {
    "duration": 243,
    "start_time": "2022-06-27T20:09:04.781Z"
   },
   {
    "duration": 730,
    "start_time": "2022-06-27T20:09:05.030Z"
   },
   {
    "duration": 135,
    "start_time": "2022-06-27T20:09:05.761Z"
   },
   {
    "duration": 342,
    "start_time": "2022-06-27T20:09:05.898Z"
   },
   {
    "duration": 21,
    "start_time": "2022-06-27T20:09:06.250Z"
   },
   {
    "duration": 21,
    "start_time": "2022-06-27T20:09:06.274Z"
   },
   {
    "duration": 13,
    "start_time": "2022-06-27T20:09:06.296Z"
   },
   {
    "duration": 652,
    "start_time": "2022-06-27T20:09:06.310Z"
   },
   {
    "duration": 0,
    "start_time": "2022-06-27T20:09:06.968Z"
   },
   {
    "duration": 0,
    "start_time": "2022-06-27T20:09:06.969Z"
   },
   {
    "duration": 0,
    "start_time": "2022-06-27T20:09:06.971Z"
   },
   {
    "duration": 0,
    "start_time": "2022-06-27T20:09:06.972Z"
   },
   {
    "duration": 0,
    "start_time": "2022-06-27T20:09:06.973Z"
   },
   {
    "duration": 0,
    "start_time": "2022-06-27T20:09:06.974Z"
   },
   {
    "duration": 0,
    "start_time": "2022-06-27T20:09:06.975Z"
   },
   {
    "duration": 0,
    "start_time": "2022-06-27T20:09:06.977Z"
   },
   {
    "duration": 0,
    "start_time": "2022-06-27T20:09:06.978Z"
   },
   {
    "duration": 0,
    "start_time": "2022-06-27T20:09:06.980Z"
   },
   {
    "duration": 0,
    "start_time": "2022-06-27T20:09:06.981Z"
   },
   {
    "duration": 0,
    "start_time": "2022-06-27T20:09:06.982Z"
   },
   {
    "duration": 0,
    "start_time": "2022-06-27T20:09:06.983Z"
   },
   {
    "duration": 0,
    "start_time": "2022-06-27T20:09:06.984Z"
   },
   {
    "duration": 0,
    "start_time": "2022-06-27T20:09:06.985Z"
   },
   {
    "duration": 0,
    "start_time": "2022-06-27T20:09:06.987Z"
   },
   {
    "duration": 7,
    "start_time": "2022-06-27T20:09:30.913Z"
   },
   {
    "duration": 7,
    "start_time": "2022-06-27T20:09:35.166Z"
   },
   {
    "duration": 40,
    "start_time": "2022-06-27T20:09:35.175Z"
   },
   {
    "duration": 1406,
    "start_time": "2022-06-27T20:09:35.216Z"
   },
   {
    "duration": 38,
    "start_time": "2022-06-27T20:09:36.624Z"
   },
   {
    "duration": 237,
    "start_time": "2022-06-27T20:09:36.668Z"
   },
   {
    "duration": 3,
    "start_time": "2022-06-27T20:09:36.908Z"
   },
   {
    "duration": 104,
    "start_time": "2022-06-27T20:09:36.913Z"
   },
   {
    "duration": 38,
    "start_time": "2022-06-27T20:09:37.018Z"
   },
   {
    "duration": 36,
    "start_time": "2022-06-27T20:09:37.061Z"
   },
   {
    "duration": 24,
    "start_time": "2022-06-27T20:09:37.099Z"
   },
   {
    "duration": 53,
    "start_time": "2022-06-27T20:09:37.124Z"
   },
   {
    "duration": 93,
    "start_time": "2022-06-27T20:09:37.178Z"
   },
   {
    "duration": 16,
    "start_time": "2022-06-27T20:09:37.273Z"
   },
   {
    "duration": 31,
    "start_time": "2022-06-27T20:09:37.291Z"
   },
   {
    "duration": 325,
    "start_time": "2022-06-27T20:09:37.324Z"
   },
   {
    "duration": 30,
    "start_time": "2022-06-27T20:09:37.651Z"
   },
   {
    "duration": 23,
    "start_time": "2022-06-27T20:09:37.683Z"
   },
   {
    "duration": 18,
    "start_time": "2022-06-27T20:09:37.707Z"
   },
   {
    "duration": 58,
    "start_time": "2022-06-27T20:09:37.727Z"
   },
   {
    "duration": 7,
    "start_time": "2022-06-27T20:11:21.377Z"
   },
   {
    "duration": 14,
    "start_time": "2022-06-27T20:11:28.994Z"
   },
   {
    "duration": 16,
    "start_time": "2022-06-27T20:11:50.525Z"
   },
   {
    "duration": 25,
    "start_time": "2022-06-27T20:11:51.044Z"
   },
   {
    "duration": 16,
    "start_time": "2022-06-27T20:12:47.621Z"
   },
   {
    "duration": 14,
    "start_time": "2022-06-27T20:12:54.053Z"
   },
   {
    "duration": 970,
    "start_time": "2022-06-27T20:14:41.750Z"
   },
   {
    "duration": 905,
    "start_time": "2022-06-27T20:14:51.866Z"
   },
   {
    "duration": 22,
    "start_time": "2022-06-27T20:15:47.347Z"
   },
   {
    "duration": 11,
    "start_time": "2022-06-27T20:15:47.997Z"
   },
   {
    "duration": 1133,
    "start_time": "2022-06-27T20:16:00.979Z"
   },
   {
    "duration": 322,
    "start_time": "2022-06-27T20:16:07.290Z"
   },
   {
    "duration": 12,
    "start_time": "2022-06-27T20:16:24.058Z"
   },
   {
    "duration": 15,
    "start_time": "2022-06-27T20:16:29.093Z"
   },
   {
    "duration": 12,
    "start_time": "2022-06-27T20:17:00.666Z"
   },
   {
    "duration": 11,
    "start_time": "2022-06-27T20:17:01.267Z"
   },
   {
    "duration": 35,
    "start_time": "2022-06-27T20:17:05.022Z"
   },
   {
    "duration": 1591,
    "start_time": "2022-06-27T20:17:09.779Z"
   },
   {
    "duration": 1249,
    "start_time": "2022-06-27T20:17:34.852Z"
   },
   {
    "duration": 1077,
    "start_time": "2022-06-27T20:17:41.672Z"
   },
   {
    "duration": 1114,
    "start_time": "2022-06-27T20:18:20.702Z"
   },
   {
    "duration": 12,
    "start_time": "2022-06-27T20:18:50.948Z"
   },
   {
    "duration": 15,
    "start_time": "2022-06-27T20:19:10.056Z"
   },
   {
    "duration": 211,
    "start_time": "2022-06-27T20:19:15.479Z"
   },
   {
    "duration": 187,
    "start_time": "2022-06-27T20:19:23.386Z"
   },
   {
    "duration": 384,
    "start_time": "2022-06-27T20:20:06.219Z"
   },
   {
    "duration": 344,
    "start_time": "2022-06-27T20:21:24.362Z"
   },
   {
    "duration": 334,
    "start_time": "2022-06-27T20:21:36.570Z"
   },
   {
    "duration": 315,
    "start_time": "2022-06-27T20:21:39.766Z"
   },
   {
    "duration": 313,
    "start_time": "2022-06-27T20:21:50.880Z"
   },
   {
    "duration": 401,
    "start_time": "2022-06-27T20:22:08.122Z"
   },
   {
    "duration": 332,
    "start_time": "2022-06-27T20:22:31.850Z"
   },
   {
    "duration": 356,
    "start_time": "2022-06-27T20:22:35.819Z"
   },
   {
    "duration": 346,
    "start_time": "2022-06-27T20:22:46.542Z"
   },
   {
    "duration": 19,
    "start_time": "2022-06-27T20:23:03.350Z"
   },
   {
    "duration": 15,
    "start_time": "2022-06-27T20:25:03.478Z"
   },
   {
    "duration": 765,
    "start_time": "2022-06-27T20:27:11.414Z"
   },
   {
    "duration": 350,
    "start_time": "2022-06-27T20:27:16.747Z"
   },
   {
    "duration": 238,
    "start_time": "2022-06-27T20:27:25.681Z"
   },
   {
    "duration": 330,
    "start_time": "2022-06-27T20:27:31.484Z"
   },
   {
    "duration": 5,
    "start_time": "2022-06-27T20:28:22.583Z"
   },
   {
    "duration": 6,
    "start_time": "2022-06-27T20:28:33.681Z"
   },
   {
    "duration": 6,
    "start_time": "2022-06-27T20:28:46.875Z"
   },
   {
    "duration": 64,
    "start_time": "2022-06-27T20:31:51.618Z"
   },
   {
    "duration": 49,
    "start_time": "2022-06-27T20:33:01.483Z"
   },
   {
    "duration": 346,
    "start_time": "2022-06-27T20:33:11.098Z"
   },
   {
    "duration": 340,
    "start_time": "2022-06-27T20:33:33.399Z"
   },
   {
    "duration": 313,
    "start_time": "2022-06-27T20:33:39.443Z"
   },
   {
    "duration": 361,
    "start_time": "2022-06-27T20:33:50.714Z"
   },
   {
    "duration": 308,
    "start_time": "2022-06-27T20:34:01.783Z"
   },
   {
    "duration": 11,
    "start_time": "2022-06-27T20:38:10.958Z"
   },
   {
    "duration": 9,
    "start_time": "2022-06-27T20:38:15.544Z"
   },
   {
    "duration": 4,
    "start_time": "2022-06-27T20:41:20.977Z"
   },
   {
    "duration": 14,
    "start_time": "2022-06-27T20:41:32.940Z"
   },
   {
    "duration": 4,
    "start_time": "2022-06-27T20:42:56.677Z"
   },
   {
    "duration": 18,
    "start_time": "2022-06-27T20:43:13.262Z"
   },
   {
    "duration": 576,
    "start_time": "2022-06-27T20:43:27.550Z"
   },
   {
    "duration": 3,
    "start_time": "2022-06-27T20:44:39.779Z"
   },
   {
    "duration": 541,
    "start_time": "2022-06-27T20:44:40.877Z"
   },
   {
    "duration": 11,
    "start_time": "2022-06-27T20:44:56.041Z"
   },
   {
    "duration": 5,
    "start_time": "2022-06-27T20:45:02.778Z"
   },
   {
    "duration": 9,
    "start_time": "2022-06-27T20:45:12.510Z"
   },
   {
    "duration": 5,
    "start_time": "2022-06-27T20:45:52.681Z"
   },
   {
    "duration": 17,
    "start_time": "2022-06-27T20:45:53.305Z"
   },
   {
    "duration": 4,
    "start_time": "2022-06-27T20:46:32.819Z"
   },
   {
    "duration": 75,
    "start_time": "2022-06-27T20:46:33.540Z"
   },
   {
    "duration": 6,
    "start_time": "2022-06-27T20:46:35.878Z"
   },
   {
    "duration": 7,
    "start_time": "2022-06-27T20:47:54.125Z"
   },
   {
    "duration": 7,
    "start_time": "2022-06-27T20:48:11.549Z"
   },
   {
    "duration": 70,
    "start_time": "2022-06-27T20:48:12.630Z"
   },
   {
    "duration": 7,
    "start_time": "2022-06-27T20:48:13.944Z"
   },
   {
    "duration": 8,
    "start_time": "2022-06-27T20:48:17.996Z"
   },
   {
    "duration": 9,
    "start_time": "2022-06-27T20:48:24.080Z"
   },
   {
    "duration": 8,
    "start_time": "2022-06-27T20:48:30.778Z"
   },
   {
    "duration": 70,
    "start_time": "2022-06-27T20:49:00.053Z"
   },
   {
    "duration": 63,
    "start_time": "2022-06-27T20:49:08.280Z"
   },
   {
    "duration": 5,
    "start_time": "2022-06-27T20:49:11.078Z"
   },
   {
    "duration": 9,
    "start_time": "2022-06-27T20:49:23.478Z"
   },
   {
    "duration": 5,
    "start_time": "2022-06-27T20:49:32.076Z"
   },
   {
    "duration": 4,
    "start_time": "2022-06-27T20:49:43.804Z"
   },
   {
    "duration": 11,
    "start_time": "2022-06-27T20:49:50.813Z"
   },
   {
    "duration": 5,
    "start_time": "2022-06-27T20:49:55.553Z"
   },
   {
    "duration": 4,
    "start_time": "2022-06-27T20:50:01.305Z"
   },
   {
    "duration": 86,
    "start_time": "2022-06-27T20:50:03.996Z"
   },
   {
    "duration": 9,
    "start_time": "2022-06-27T20:50:04.524Z"
   },
   {
    "duration": 6,
    "start_time": "2022-06-27T20:50:11.804Z"
   },
   {
    "duration": 10,
    "start_time": "2022-06-27T20:50:40.696Z"
   },
   {
    "duration": 8,
    "start_time": "2022-06-27T20:51:52.892Z"
   },
   {
    "duration": 54,
    "start_time": "2022-06-27T20:52:32.828Z"
   },
   {
    "duration": 178,
    "start_time": "2022-06-27T20:52:38.976Z"
   },
   {
    "duration": 14,
    "start_time": "2022-06-27T20:52:48.192Z"
   },
   {
    "duration": 11,
    "start_time": "2022-06-27T20:52:53.976Z"
   },
   {
    "duration": 60,
    "start_time": "2022-06-27T20:52:56.957Z"
   },
   {
    "duration": 4,
    "start_time": "2022-06-27T20:52:57.617Z"
   },
   {
    "duration": 8,
    "start_time": "2022-06-27T20:53:01.689Z"
   },
   {
    "duration": 7,
    "start_time": "2022-06-27T20:53:12.144Z"
   },
   {
    "duration": 63,
    "start_time": "2022-06-27T20:53:21.448Z"
   },
   {
    "duration": 9,
    "start_time": "2022-06-27T20:53:23.877Z"
   },
   {
    "duration": 63,
    "start_time": "2022-06-27T20:53:52.429Z"
   },
   {
    "duration": 11,
    "start_time": "2022-06-27T20:53:52.996Z"
   },
   {
    "duration": 61,
    "start_time": "2022-06-27T20:54:17.528Z"
   },
   {
    "duration": 779,
    "start_time": "2022-06-27T20:54:18.140Z"
   },
   {
    "duration": 11,
    "start_time": "2022-06-27T20:54:28.740Z"
   },
   {
    "duration": 691,
    "start_time": "2022-06-27T20:54:36.660Z"
   },
   {
    "duration": 805,
    "start_time": "2022-06-27T20:55:04.448Z"
   },
   {
    "duration": 712,
    "start_time": "2022-06-27T20:55:12.616Z"
   },
   {
    "duration": 694,
    "start_time": "2022-06-27T20:55:29.132Z"
   },
   {
    "duration": 686,
    "start_time": "2022-06-27T20:55:41.677Z"
   },
   {
    "duration": 716,
    "start_time": "2022-06-27T20:55:50.284Z"
   },
   {
    "duration": 4,
    "start_time": "2022-06-27T20:55:58.460Z"
   },
   {
    "duration": 10,
    "start_time": "2022-06-27T20:56:22.596Z"
   },
   {
    "duration": 10,
    "start_time": "2022-06-27T20:56:30.369Z"
   },
   {
    "duration": 61,
    "start_time": "2022-06-27T20:56:36.857Z"
   },
   {
    "duration": 10,
    "start_time": "2022-06-27T20:56:38.805Z"
   },
   {
    "duration": 66,
    "start_time": "2022-06-27T20:56:51.561Z"
   },
   {
    "duration": 7,
    "start_time": "2022-06-27T20:56:52.324Z"
   },
   {
    "duration": 8,
    "start_time": "2022-06-27T20:56:53.296Z"
   },
   {
    "duration": 3,
    "start_time": "2022-06-27T20:57:15.679Z"
   },
   {
    "duration": 8,
    "start_time": "2022-06-27T20:57:22.860Z"
   },
   {
    "duration": 71,
    "start_time": "2022-06-27T20:59:03.073Z"
   },
   {
    "duration": 29,
    "start_time": "2022-06-27T21:03:49.182Z"
   },
   {
    "duration": 17,
    "start_time": "2022-06-27T21:04:08.057Z"
   },
   {
    "duration": 15,
    "start_time": "2022-06-27T21:04:11.708Z"
   },
   {
    "duration": 20,
    "start_time": "2022-06-27T21:04:56.380Z"
   },
   {
    "duration": 11,
    "start_time": "2022-06-27T21:12:58.700Z"
   },
   {
    "duration": 11,
    "start_time": "2022-06-27T21:19:30.972Z"
   },
   {
    "duration": 203,
    "start_time": "2022-06-27T21:20:25.577Z"
   },
   {
    "duration": 9,
    "start_time": "2022-06-27T21:20:37.013Z"
   },
   {
    "duration": 393,
    "start_time": "2022-06-27T21:21:38.858Z"
   },
   {
    "duration": 615,
    "start_time": "2022-06-27T21:21:50.246Z"
   },
   {
    "duration": 649,
    "start_time": "2022-06-27T21:22:10.621Z"
   },
   {
    "duration": 690,
    "start_time": "2022-06-27T21:22:15.576Z"
   },
   {
    "duration": 617,
    "start_time": "2022-06-27T21:22:25.213Z"
   },
   {
    "duration": 50,
    "start_time": "2022-06-27T21:22:46.685Z"
   },
   {
    "duration": 672,
    "start_time": "2022-06-27T21:22:49.877Z"
   },
   {
    "duration": 66,
    "start_time": "2022-06-28T06:02:18.809Z"
   },
   {
    "duration": 1925,
    "start_time": "2022-06-28T06:02:34.251Z"
   },
   {
    "duration": 5,
    "start_time": "2022-06-28T06:02:36.178Z"
   },
   {
    "duration": 386,
    "start_time": "2022-06-28T06:02:36.185Z"
   },
   {
    "duration": 22,
    "start_time": "2022-06-28T06:02:36.573Z"
   },
   {
    "duration": 1280,
    "start_time": "2022-06-28T06:02:36.599Z"
   },
   {
    "duration": 16,
    "start_time": "2022-06-28T06:02:37.881Z"
   },
   {
    "duration": 5,
    "start_time": "2022-06-28T06:02:37.899Z"
   },
   {
    "duration": 10,
    "start_time": "2022-06-28T06:02:37.905Z"
   },
   {
    "duration": 18,
    "start_time": "2022-06-28T06:02:37.917Z"
   },
   {
    "duration": 45,
    "start_time": "2022-06-28T06:02:37.937Z"
   },
   {
    "duration": 13,
    "start_time": "2022-06-28T06:02:37.984Z"
   },
   {
    "duration": 20,
    "start_time": "2022-06-28T06:02:37.999Z"
   },
   {
    "duration": 13,
    "start_time": "2022-06-28T06:02:38.022Z"
   },
   {
    "duration": 52,
    "start_time": "2022-06-28T06:02:38.039Z"
   },
   {
    "duration": 35,
    "start_time": "2022-06-28T06:02:38.094Z"
   },
   {
    "duration": 12,
    "start_time": "2022-06-28T06:02:38.131Z"
   },
   {
    "duration": 37,
    "start_time": "2022-06-28T06:02:38.146Z"
   },
   {
    "duration": 14,
    "start_time": "2022-06-28T06:02:38.185Z"
   },
   {
    "duration": 8,
    "start_time": "2022-06-28T06:02:38.201Z"
   },
   {
    "duration": 21,
    "start_time": "2022-06-28T06:02:38.211Z"
   },
   {
    "duration": 273,
    "start_time": "2022-06-28T06:02:38.235Z"
   },
   {
    "duration": 401,
    "start_time": "2022-06-28T06:02:38.511Z"
   },
   {
    "duration": 101,
    "start_time": "2022-06-28T06:02:44.706Z"
   },
   {
    "duration": 255,
    "start_time": "2022-06-28T06:02:52.375Z"
   },
   {
    "duration": 273,
    "start_time": "2022-06-28T06:03:07.121Z"
   },
   {
    "duration": 950,
    "start_time": "2022-06-28T06:03:22.852Z"
   },
   {
    "duration": 416,
    "start_time": "2022-06-28T06:03:44.725Z"
   },
   {
    "duration": 173,
    "start_time": "2022-06-28T06:03:56.444Z"
   },
   {
    "duration": 381,
    "start_time": "2022-06-28T06:03:56.620Z"
   },
   {
    "duration": 10,
    "start_time": "2022-06-28T06:03:57.003Z"
   },
   {
    "duration": 29,
    "start_time": "2022-06-28T06:03:57.031Z"
   },
   {
    "duration": 42,
    "start_time": "2022-06-28T06:03:57.063Z"
   },
   {
    "duration": 27,
    "start_time": "2022-06-28T06:03:57.107Z"
   },
   {
    "duration": 20,
    "start_time": "2022-06-28T06:03:57.140Z"
   },
   {
    "duration": 444,
    "start_time": "2022-06-28T06:03:57.162Z"
   },
   {
    "duration": 6,
    "start_time": "2022-06-28T06:03:57.608Z"
   },
   {
    "duration": 121,
    "start_time": "2022-06-28T06:03:57.628Z"
   },
   {
    "duration": 744,
    "start_time": "2022-06-28T06:03:57.751Z"
   },
   {
    "duration": 10,
    "start_time": "2022-06-28T06:03:58.497Z"
   },
   {
    "duration": 450,
    "start_time": "2022-06-28T06:03:58.509Z"
   },
   {
    "duration": 6,
    "start_time": "2022-06-28T06:03:58.963Z"
   },
   {
    "duration": 99,
    "start_time": "2022-06-28T06:03:58.974Z"
   },
   {
    "duration": 26,
    "start_time": "2022-06-28T06:03:59.075Z"
   },
   {
    "duration": 40,
    "start_time": "2022-06-28T06:03:59.103Z"
   },
   {
    "duration": 36,
    "start_time": "2022-06-28T06:03:59.146Z"
   },
   {
    "duration": 25,
    "start_time": "2022-06-28T06:03:59.185Z"
   },
   {
    "duration": 73,
    "start_time": "2022-06-28T06:03:59.212Z"
   },
   {
    "duration": 16,
    "start_time": "2022-06-28T06:03:59.287Z"
   },
   {
    "duration": 45,
    "start_time": "2022-06-28T06:03:59.305Z"
   },
   {
    "duration": 254,
    "start_time": "2022-06-28T06:03:59.352Z"
   },
   {
    "duration": 31,
    "start_time": "2022-06-28T06:03:59.608Z"
   },
   {
    "duration": 11,
    "start_time": "2022-06-28T06:03:59.642Z"
   },
   {
    "duration": 12,
    "start_time": "2022-06-28T06:03:59.655Z"
   },
   {
    "duration": 17,
    "start_time": "2022-06-28T06:03:59.670Z"
   },
   {
    "duration": 6,
    "start_time": "2022-06-28T06:04:23.373Z"
   },
   {
    "duration": 1863,
    "start_time": "2022-06-28T08:23:42.930Z"
   },
   {
    "duration": 5,
    "start_time": "2022-06-28T08:23:44.796Z"
   },
   {
    "duration": 198,
    "start_time": "2022-06-28T08:23:44.802Z"
   },
   {
    "duration": 65,
    "start_time": "2022-06-28T08:23:45.003Z"
   },
   {
    "duration": 1021,
    "start_time": "2022-06-28T08:23:45.070Z"
   },
   {
    "duration": 13,
    "start_time": "2022-06-28T08:23:46.093Z"
   },
   {
    "duration": 7,
    "start_time": "2022-06-28T08:23:46.107Z"
   },
   {
    "duration": 16,
    "start_time": "2022-06-28T08:23:46.116Z"
   },
   {
    "duration": 10,
    "start_time": "2022-06-28T08:23:46.134Z"
   },
   {
    "duration": 22,
    "start_time": "2022-06-28T08:23:46.147Z"
   },
   {
    "duration": 10,
    "start_time": "2022-06-28T08:23:46.171Z"
   },
   {
    "duration": 16,
    "start_time": "2022-06-28T08:23:46.183Z"
   },
   {
    "duration": 10,
    "start_time": "2022-06-28T08:23:46.201Z"
   },
   {
    "duration": 55,
    "start_time": "2022-06-28T08:23:46.213Z"
   },
   {
    "duration": 25,
    "start_time": "2022-06-28T08:23:46.270Z"
   },
   {
    "duration": 12,
    "start_time": "2022-06-28T08:23:46.297Z"
   },
   {
    "duration": 8,
    "start_time": "2022-06-28T08:23:46.311Z"
   },
   {
    "duration": 13,
    "start_time": "2022-06-28T08:23:46.322Z"
   },
   {
    "duration": 7,
    "start_time": "2022-06-28T08:23:46.368Z"
   },
   {
    "duration": 20,
    "start_time": "2022-06-28T08:23:46.377Z"
   },
   {
    "duration": 271,
    "start_time": "2022-06-28T08:23:46.399Z"
   },
   {
    "duration": 324,
    "start_time": "2022-06-28T08:23:46.672Z"
   },
   {
    "duration": 246,
    "start_time": "2022-06-28T08:23:46.998Z"
   },
   {
    "duration": 154,
    "start_time": "2022-06-28T08:23:47.246Z"
   },
   {
    "duration": 319,
    "start_time": "2022-06-28T08:23:47.403Z"
   },
   {
    "duration": 10,
    "start_time": "2022-06-28T08:23:47.724Z"
   },
   {
    "duration": 14,
    "start_time": "2022-06-28T08:23:47.736Z"
   },
   {
    "duration": 17,
    "start_time": "2022-06-28T08:23:47.769Z"
   },
   {
    "duration": 18,
    "start_time": "2022-06-28T08:23:47.788Z"
   },
   {
    "duration": 8,
    "start_time": "2022-06-28T08:23:47.808Z"
   },
   {
    "duration": 436,
    "start_time": "2022-06-28T08:23:47.818Z"
   },
   {
    "duration": 10,
    "start_time": "2022-06-28T08:23:48.257Z"
   },
   {
    "duration": 111,
    "start_time": "2022-06-28T08:23:48.269Z"
   },
   {
    "duration": 663,
    "start_time": "2022-06-28T08:23:48.382Z"
   },
   {
    "duration": 13,
    "start_time": "2022-06-28T08:23:49.047Z"
   },
   {
    "duration": 501,
    "start_time": "2022-06-28T08:23:49.068Z"
   },
   {
    "duration": 5,
    "start_time": "2022-06-28T08:23:49.572Z"
   },
   {
    "duration": 91,
    "start_time": "2022-06-28T08:23:49.579Z"
   },
   {
    "duration": 21,
    "start_time": "2022-06-28T08:23:49.672Z"
   },
   {
    "duration": 18,
    "start_time": "2022-06-28T08:23:49.695Z"
   },
   {
    "duration": 19,
    "start_time": "2022-06-28T08:23:49.716Z"
   },
   {
    "duration": 39,
    "start_time": "2022-06-28T08:23:49.738Z"
   },
   {
    "duration": 57,
    "start_time": "2022-06-28T08:23:49.779Z"
   },
   {
    "duration": 33,
    "start_time": "2022-06-28T08:23:49.837Z"
   },
   {
    "duration": 57,
    "start_time": "2022-06-28T08:23:49.872Z"
   },
   {
    "duration": 302,
    "start_time": "2022-06-28T08:23:49.930Z"
   },
   {
    "duration": 20,
    "start_time": "2022-06-28T08:23:50.234Z"
   },
   {
    "duration": 14,
    "start_time": "2022-06-28T08:23:50.266Z"
   },
   {
    "duration": 49,
    "start_time": "2022-06-28T08:23:50.282Z"
   },
   {
    "duration": 39,
    "start_time": "2022-06-28T08:23:50.333Z"
   },
   {
    "duration": 9,
    "start_time": "2022-06-28T08:24:14.855Z"
   },
   {
    "duration": 302,
    "start_time": "2022-06-28T08:24:34.147Z"
   },
   {
    "duration": 115,
    "start_time": "2022-06-28T08:24:56.557Z"
   },
   {
    "duration": 6,
    "start_time": "2022-06-28T08:25:10.218Z"
   },
   {
    "duration": 9,
    "start_time": "2022-06-28T08:25:25.699Z"
   },
   {
    "duration": 131,
    "start_time": "2022-06-28T08:25:49.698Z"
   },
   {
    "duration": 22,
    "start_time": "2022-06-28T08:27:54.987Z"
   },
   {
    "duration": 13,
    "start_time": "2022-06-28T08:28:02.314Z"
   },
   {
    "duration": 10,
    "start_time": "2022-06-28T08:28:08.062Z"
   },
   {
    "duration": 393,
    "start_time": "2022-06-28T08:28:42.419Z"
   },
   {
    "duration": 382,
    "start_time": "2022-06-28T08:28:56.379Z"
   },
   {
    "duration": 13,
    "start_time": "2022-06-28T08:29:32.102Z"
   },
   {
    "duration": 13,
    "start_time": "2022-06-28T08:29:32.540Z"
   },
   {
    "duration": 26,
    "start_time": "2022-06-28T08:29:54.659Z"
   },
   {
    "duration": 20,
    "start_time": "2022-06-28T08:30:07.082Z"
   },
   {
    "duration": 402,
    "start_time": "2022-06-28T08:30:19.019Z"
   },
   {
    "duration": 23,
    "start_time": "2022-06-28T08:31:46.027Z"
   },
   {
    "duration": 235,
    "start_time": "2022-06-28T08:32:16.494Z"
   },
   {
    "duration": 24,
    "start_time": "2022-06-28T08:33:23.626Z"
   },
   {
    "duration": 298,
    "start_time": "2022-06-28T08:33:31.338Z"
   },
   {
    "duration": 13,
    "start_time": "2022-06-28T08:33:41.562Z"
   },
   {
    "duration": 12,
    "start_time": "2022-06-28T08:34:15.066Z"
   },
   {
    "duration": 10,
    "start_time": "2022-06-28T08:34:20.414Z"
   },
   {
    "duration": 40,
    "start_time": "2022-06-28T08:35:02.010Z"
   },
   {
    "duration": 49,
    "start_time": "2022-06-28T08:35:06.146Z"
   },
   {
    "duration": 14,
    "start_time": "2022-06-28T08:35:28.231Z"
   },
   {
    "duration": 914,
    "start_time": "2022-06-28T08:35:38.867Z"
   },
   {
    "duration": 17,
    "start_time": "2022-06-28T08:36:44.955Z"
   },
   {
    "duration": 11,
    "start_time": "2022-06-28T08:37:02.751Z"
   },
   {
    "duration": 12,
    "start_time": "2022-06-28T08:37:10.590Z"
   },
   {
    "duration": 11,
    "start_time": "2022-06-28T08:37:11.323Z"
   },
   {
    "duration": 16,
    "start_time": "2022-06-28T08:37:14.170Z"
   },
   {
    "duration": 17,
    "start_time": "2022-06-28T08:37:54.547Z"
   },
   {
    "duration": 15,
    "start_time": "2022-06-28T08:37:59.614Z"
   },
   {
    "duration": 9,
    "start_time": "2022-06-28T08:38:00.210Z"
   },
   {
    "duration": 128,
    "start_time": "2022-06-28T08:38:20.331Z"
   },
   {
    "duration": 312,
    "start_time": "2022-06-28T08:38:24.527Z"
   },
   {
    "duration": 16,
    "start_time": "2022-06-28T08:38:32.834Z"
   },
   {
    "duration": 21,
    "start_time": "2022-06-28T08:38:45.715Z"
   },
   {
    "duration": 20,
    "start_time": "2022-06-28T08:38:52.211Z"
   },
   {
    "duration": 370,
    "start_time": "2022-06-28T08:39:24.450Z"
   },
   {
    "duration": 314,
    "start_time": "2022-06-28T08:40:19.610Z"
   },
   {
    "duration": 309,
    "start_time": "2022-06-28T08:40:52.326Z"
   },
   {
    "duration": 317,
    "start_time": "2022-06-28T08:41:01.498Z"
   },
   {
    "duration": 338,
    "start_time": "2022-06-28T08:41:46.486Z"
   },
   {
    "duration": 4,
    "start_time": "2022-06-28T08:41:55.415Z"
   },
   {
    "duration": 91,
    "start_time": "2022-06-28T08:41:57.374Z"
   },
   {
    "duration": 11,
    "start_time": "2022-06-28T08:42:23.059Z"
   },
   {
    "duration": 9,
    "start_time": "2022-06-28T08:42:32.654Z"
   },
   {
    "duration": 15,
    "start_time": "2022-06-28T08:43:27.418Z"
   },
   {
    "duration": 124,
    "start_time": "2022-06-28T08:43:29.226Z"
   },
   {
    "duration": 298,
    "start_time": "2022-06-28T08:43:31.050Z"
   },
   {
    "duration": 633,
    "start_time": "2022-06-28T08:43:40.638Z"
   },
   {
    "duration": 11,
    "start_time": "2022-06-28T08:43:48.594Z"
   },
   {
    "duration": 9,
    "start_time": "2022-06-28T08:44:15.987Z"
   },
   {
    "duration": 747,
    "start_time": "2022-06-28T08:44:29.522Z"
   },
   {
    "duration": 623,
    "start_time": "2022-06-28T08:45:05.138Z"
   },
   {
    "duration": 560,
    "start_time": "2022-06-28T08:45:13.898Z"
   },
   {
    "duration": 558,
    "start_time": "2022-06-28T08:47:12.402Z"
   },
   {
    "duration": 12,
    "start_time": "2022-06-28T08:47:32.178Z"
   },
   {
    "duration": 547,
    "start_time": "2022-06-28T08:47:47.823Z"
   },
   {
    "duration": 52,
    "start_time": "2022-06-28T08:48:36.818Z"
   },
   {
    "duration": 458,
    "start_time": "2022-06-28T08:48:40.666Z"
   },
   {
    "duration": 55,
    "start_time": "2022-06-28T08:49:39.310Z"
   },
   {
    "duration": 532,
    "start_time": "2022-06-28T08:49:46.754Z"
   },
   {
    "duration": 604,
    "start_time": "2022-06-28T08:49:51.650Z"
   },
   {
    "duration": 452,
    "start_time": "2022-06-28T08:50:07.670Z"
   },
   {
    "duration": 654,
    "start_time": "2022-06-28T08:50:17.826Z"
   },
   {
    "duration": 605,
    "start_time": "2022-06-28T08:50:28.802Z"
   },
   {
    "duration": 572,
    "start_time": "2022-06-28T08:50:32.514Z"
   },
   {
    "duration": 620,
    "start_time": "2022-06-28T08:51:45.910Z"
   },
   {
    "duration": 48,
    "start_time": "2022-06-28T08:52:50.778Z"
   },
   {
    "duration": 705,
    "start_time": "2022-06-28T08:52:53.035Z"
   },
   {
    "duration": 674,
    "start_time": "2022-06-28T08:53:07.010Z"
   },
   {
    "duration": 666,
    "start_time": "2022-06-28T08:53:18.054Z"
   },
   {
    "duration": 644,
    "start_time": "2022-06-28T08:53:23.309Z"
   },
   {
    "duration": 94,
    "start_time": "2022-06-28T08:53:34.202Z"
   },
   {
    "duration": 752,
    "start_time": "2022-06-28T08:53:36.534Z"
   },
   {
    "duration": 740,
    "start_time": "2022-06-28T08:53:43.602Z"
   },
   {
    "duration": 741,
    "start_time": "2022-06-28T08:53:48.233Z"
   },
   {
    "duration": 639,
    "start_time": "2022-06-28T08:53:53.078Z"
   },
   {
    "duration": 610,
    "start_time": "2022-06-28T08:54:05.922Z"
   },
   {
    "duration": 666,
    "start_time": "2022-06-28T08:54:37.582Z"
   },
   {
    "duration": 674,
    "start_time": "2022-06-28T08:55:04.885Z"
   },
   {
    "duration": 58,
    "start_time": "2022-06-28T08:55:22.847Z"
   },
   {
    "duration": 459,
    "start_time": "2022-06-28T08:55:25.153Z"
   },
   {
    "duration": 61,
    "start_time": "2022-06-28T08:56:30.658Z"
   },
   {
    "duration": 355,
    "start_time": "2022-06-28T08:56:32.517Z"
   },
   {
    "duration": 400,
    "start_time": "2022-06-28T08:56:45.294Z"
   },
   {
    "duration": 5,
    "start_time": "2022-06-28T08:58:41.269Z"
   },
   {
    "duration": 4,
    "start_time": "2022-06-28T08:58:55.482Z"
   },
   {
    "duration": 9,
    "start_time": "2022-06-28T08:58:59.742Z"
   },
   {
    "duration": 8,
    "start_time": "2022-06-28T08:59:49.074Z"
   },
   {
    "duration": 160,
    "start_time": "2022-06-28T09:00:00.582Z"
   },
   {
    "duration": 207,
    "start_time": "2022-06-28T09:00:07.878Z"
   },
   {
    "duration": 494,
    "start_time": "2022-06-28T09:00:25.513Z"
   },
   {
    "duration": 730,
    "start_time": "2022-06-28T09:00:45.954Z"
   },
   {
    "duration": 524,
    "start_time": "2022-06-28T09:01:15.110Z"
   },
   {
    "duration": 1180,
    "start_time": "2022-06-28T09:02:34.866Z"
   },
   {
    "duration": 1304,
    "start_time": "2022-06-28T09:02:49.286Z"
   },
   {
    "duration": 1915,
    "start_time": "2022-06-28T09:05:58.831Z"
   },
   {
    "duration": 1795,
    "start_time": "2022-06-28T09:06:09.415Z"
   },
   {
    "duration": 13,
    "start_time": "2022-06-28T09:06:14.598Z"
   },
   {
    "duration": 12,
    "start_time": "2022-06-28T09:06:28.286Z"
   },
   {
    "duration": 10,
    "start_time": "2022-06-28T09:06:42.122Z"
   },
   {
    "duration": 9,
    "start_time": "2022-06-28T09:06:46.359Z"
   },
   {
    "duration": 514,
    "start_time": "2022-06-28T09:07:41.814Z"
   },
   {
    "duration": 507,
    "start_time": "2022-06-28T09:09:18.846Z"
   },
   {
    "duration": 471,
    "start_time": "2022-06-28T09:09:57.310Z"
   },
   {
    "duration": 432,
    "start_time": "2022-06-28T09:10:18.255Z"
   },
   {
    "duration": 371,
    "start_time": "2022-06-28T09:10:30.090Z"
   },
   {
    "duration": 652,
    "start_time": "2022-06-28T09:11:23.839Z"
   },
   {
    "duration": 16,
    "start_time": "2022-06-28T09:11:31.535Z"
   },
   {
    "duration": 11,
    "start_time": "2022-06-28T09:11:39.118Z"
   },
   {
    "duration": 11,
    "start_time": "2022-06-28T09:12:30.791Z"
   },
   {
    "duration": 9,
    "start_time": "2022-06-28T09:12:31.723Z"
   },
   {
    "duration": 13,
    "start_time": "2022-06-28T09:12:46.398Z"
   },
   {
    "duration": 6,
    "start_time": "2022-06-28T09:12:47.535Z"
   },
   {
    "duration": 11,
    "start_time": "2022-06-28T09:12:51.218Z"
   },
   {
    "duration": 12,
    "start_time": "2022-06-28T09:12:56.746Z"
   },
   {
    "duration": 11,
    "start_time": "2022-06-28T09:12:57.963Z"
   },
   {
    "duration": 15,
    "start_time": "2022-06-28T09:14:00.386Z"
   },
   {
    "duration": 8,
    "start_time": "2022-06-28T09:15:39.563Z"
   },
   {
    "duration": 17,
    "start_time": "2022-06-28T09:15:44.704Z"
   },
   {
    "duration": 15,
    "start_time": "2022-06-28T09:16:26.255Z"
   },
   {
    "duration": 7,
    "start_time": "2022-06-28T09:16:41.623Z"
   },
   {
    "duration": 6,
    "start_time": "2022-06-28T09:20:02.739Z"
   },
   {
    "duration": 9,
    "start_time": "2022-06-28T09:20:26.885Z"
   },
   {
    "duration": 19,
    "start_time": "2022-06-28T09:22:22.883Z"
   },
   {
    "duration": 27,
    "start_time": "2022-06-28T09:22:49.967Z"
   },
   {
    "duration": 17,
    "start_time": "2022-06-28T09:22:55.255Z"
   },
   {
    "duration": 16,
    "start_time": "2022-06-28T09:23:06.743Z"
   },
   {
    "duration": 19,
    "start_time": "2022-06-28T09:23:16.890Z"
   },
   {
    "duration": 17,
    "start_time": "2022-06-28T09:23:27.819Z"
   },
   {
    "duration": 10,
    "start_time": "2022-06-28T09:23:38.219Z"
   },
   {
    "duration": 11,
    "start_time": "2022-06-28T09:23:44.174Z"
   },
   {
    "duration": 5,
    "start_time": "2022-06-28T09:23:54.235Z"
   },
   {
    "duration": 10,
    "start_time": "2022-06-28T09:24:16.059Z"
   },
   {
    "duration": 6,
    "start_time": "2022-06-28T09:24:28.594Z"
   },
   {
    "duration": 12,
    "start_time": "2022-06-28T09:25:22.451Z"
   },
   {
    "duration": 7,
    "start_time": "2022-06-28T09:25:43.502Z"
   },
   {
    "duration": 9,
    "start_time": "2022-06-28T09:25:57.699Z"
   },
   {
    "duration": 9,
    "start_time": "2022-06-28T09:26:15.610Z"
   },
   {
    "duration": 13,
    "start_time": "2022-06-28T09:26:26.687Z"
   },
   {
    "duration": 9,
    "start_time": "2022-06-28T09:26:50.570Z"
   },
   {
    "duration": 15,
    "start_time": "2022-06-28T09:27:01.447Z"
   },
   {
    "duration": 17,
    "start_time": "2022-06-28T09:27:03.751Z"
   },
   {
    "duration": 9,
    "start_time": "2022-06-28T09:27:06.499Z"
   },
   {
    "duration": 11,
    "start_time": "2022-06-28T09:27:13.423Z"
   },
   {
    "duration": 13,
    "start_time": "2022-06-28T09:27:27.884Z"
   },
   {
    "duration": 3092,
    "start_time": "2022-06-28T09:28:19.775Z"
   },
   {
    "duration": 11,
    "start_time": "2022-06-28T09:28:46.831Z"
   },
   {
    "duration": 9,
    "start_time": "2022-06-28T09:28:53.047Z"
   },
   {
    "duration": 150,
    "start_time": "2022-06-28T09:29:57.502Z"
   },
   {
    "duration": 1389,
    "start_time": "2022-06-28T09:30:00.799Z"
   },
   {
    "duration": 11,
    "start_time": "2022-06-28T09:30:09.591Z"
   },
   {
    "duration": 150,
    "start_time": "2022-06-28T09:30:20.926Z"
   },
   {
    "duration": 266,
    "start_time": "2022-06-28T09:30:36.787Z"
   },
   {
    "duration": 154,
    "start_time": "2022-06-28T09:31:00.659Z"
   },
   {
    "duration": 91,
    "start_time": "2022-06-28T09:31:20.987Z"
   },
   {
    "duration": 215,
    "start_time": "2022-06-28T09:31:29.819Z"
   },
   {
    "duration": 199,
    "start_time": "2022-06-28T09:32:33.229Z"
   },
   {
    "duration": 12,
    "start_time": "2022-06-28T09:32:48.595Z"
   },
   {
    "duration": 13,
    "start_time": "2022-06-28T09:33:18.108Z"
   },
   {
    "duration": 9,
    "start_time": "2022-06-28T09:33:39.028Z"
   },
   {
    "duration": 530,
    "start_time": "2022-06-28T09:33:43.999Z"
   },
   {
    "duration": 10,
    "start_time": "2022-06-28T09:33:51.792Z"
   },
   {
    "duration": 8,
    "start_time": "2022-06-28T09:34:10.444Z"
   },
   {
    "duration": 13,
    "start_time": "2022-06-28T09:34:14.018Z"
   },
   {
    "duration": 431,
    "start_time": "2022-06-28T09:34:16.720Z"
   },
   {
    "duration": 15,
    "start_time": "2022-06-28T09:34:55.752Z"
   },
   {
    "duration": 22,
    "start_time": "2022-06-28T09:35:00.556Z"
   },
   {
    "duration": 13,
    "start_time": "2022-06-28T09:35:14.584Z"
   },
   {
    "duration": 21,
    "start_time": "2022-06-28T09:35:32.644Z"
   },
   {
    "duration": 25,
    "start_time": "2022-06-28T09:35:48.994Z"
   },
   {
    "duration": 381,
    "start_time": "2022-06-28T09:36:58.560Z"
   },
   {
    "duration": 418,
    "start_time": "2022-06-28T09:37:10.592Z"
   },
   {
    "duration": 822,
    "start_time": "2022-06-28T09:38:05.632Z"
   },
   {
    "duration": 371,
    "start_time": "2022-06-28T09:38:20.117Z"
   },
   {
    "duration": 425,
    "start_time": "2022-06-28T09:38:29.628Z"
   },
   {
    "duration": 1358,
    "start_time": "2022-06-28T09:39:07.601Z"
   },
   {
    "duration": 17,
    "start_time": "2022-06-28T09:39:23.725Z"
   },
   {
    "duration": 24,
    "start_time": "2022-06-28T09:39:31.619Z"
   },
   {
    "duration": 584,
    "start_time": "2022-06-28T09:39:43.273Z"
   },
   {
    "duration": 570,
    "start_time": "2022-06-28T09:39:56.292Z"
   },
   {
    "duration": 18,
    "start_time": "2022-06-28T09:40:21.669Z"
   },
   {
    "duration": 59,
    "start_time": "2022-06-28T09:41:24.245Z"
   },
   {
    "duration": 49,
    "start_time": "2022-06-28T09:41:33.728Z"
   },
   {
    "duration": 11,
    "start_time": "2022-06-28T09:41:42.541Z"
   },
   {
    "duration": 12,
    "start_time": "2022-06-28T09:41:54.661Z"
   },
   {
    "duration": 49,
    "start_time": "2022-06-28T09:42:07.413Z"
   },
   {
    "duration": 13,
    "start_time": "2022-06-28T09:42:23.781Z"
   },
   {
    "duration": 12,
    "start_time": "2022-06-28T09:42:46.173Z"
   },
   {
    "duration": 14,
    "start_time": "2022-06-28T09:43:32.738Z"
   },
   {
    "duration": 16,
    "start_time": "2022-06-28T09:43:57.529Z"
   },
   {
    "duration": 17,
    "start_time": "2022-06-28T09:44:14.193Z"
   },
   {
    "duration": 15,
    "start_time": "2022-06-28T09:44:39.446Z"
   },
   {
    "duration": 14,
    "start_time": "2022-06-28T09:44:46.335Z"
   },
   {
    "duration": 14,
    "start_time": "2022-06-28T09:44:57.973Z"
   },
   {
    "duration": 19,
    "start_time": "2022-06-28T09:45:28.458Z"
   },
   {
    "duration": 16,
    "start_time": "2022-06-28T09:45:35.346Z"
   },
   {
    "duration": 325,
    "start_time": "2022-06-28T09:45:40.240Z"
   },
   {
    "duration": 275,
    "start_time": "2022-06-28T09:46:18.406Z"
   },
   {
    "duration": 17,
    "start_time": "2022-06-28T09:46:41.070Z"
   },
   {
    "duration": 234,
    "start_time": "2022-06-28T09:46:41.733Z"
   },
   {
    "duration": 8,
    "start_time": "2022-06-28T09:47:05.428Z"
   },
   {
    "duration": 15,
    "start_time": "2022-06-28T09:47:54.850Z"
   },
   {
    "duration": 336,
    "start_time": "2022-06-28T09:47:58.478Z"
   },
   {
    "duration": 248,
    "start_time": "2022-06-28T09:48:24.346Z"
   },
   {
    "duration": 9,
    "start_time": "2022-06-28T10:35:08.593Z"
   },
   {
    "duration": 8,
    "start_time": "2022-06-28T10:36:02.266Z"
   },
   {
    "duration": 9,
    "start_time": "2022-06-28T10:36:16.573Z"
   },
   {
    "duration": 255,
    "start_time": "2022-06-28T10:36:29.962Z"
   },
   {
    "duration": 262,
    "start_time": "2022-06-28T10:37:42.981Z"
   },
   {
    "duration": 9,
    "start_time": "2022-06-28T10:38:46.629Z"
   },
   {
    "duration": 177,
    "start_time": "2022-06-28T10:38:52.641Z"
   },
   {
    "duration": 267,
    "start_time": "2022-06-28T10:39:03.522Z"
   },
   {
    "duration": 653,
    "start_time": "2022-06-28T10:39:31.229Z"
   },
   {
    "duration": 1345,
    "start_time": "2022-06-28T10:39:49.294Z"
   },
   {
    "duration": 1515,
    "start_time": "2022-06-28T10:40:14.861Z"
   },
   {
    "duration": 13,
    "start_time": "2022-06-28T10:40:56.446Z"
   },
   {
    "duration": 1519,
    "start_time": "2022-06-28T10:42:16.041Z"
   },
   {
    "duration": 36,
    "start_time": "2022-06-28T10:42:29.185Z"
   },
   {
    "duration": 1353,
    "start_time": "2022-06-28T10:42:40.789Z"
   },
   {
    "duration": 1330,
    "start_time": "2022-06-28T10:43:38.785Z"
   },
   {
    "duration": 1303,
    "start_time": "2022-06-28T10:43:46.195Z"
   },
   {
    "duration": 1246,
    "start_time": "2022-06-28T10:43:51.589Z"
   },
   {
    "duration": 1657,
    "start_time": "2022-06-28T10:43:57.996Z"
   },
   {
    "duration": 1596,
    "start_time": "2022-06-28T10:44:27.749Z"
   },
   {
    "duration": 835,
    "start_time": "2022-06-28T10:44:34.652Z"
   },
   {
    "duration": 11,
    "start_time": "2022-06-28T10:45:22.453Z"
   },
   {
    "duration": 1407,
    "start_time": "2022-06-28T10:49:13.164Z"
   },
   {
    "duration": 1501,
    "start_time": "2022-06-28T10:49:26.344Z"
   },
   {
    "duration": 1168,
    "start_time": "2022-06-28T10:51:31.803Z"
   },
   {
    "duration": 1017,
    "start_time": "2022-06-28T10:52:00.984Z"
   },
   {
    "duration": 49,
    "start_time": "2022-06-28T10:52:37.907Z"
   },
   {
    "duration": 1044,
    "start_time": "2022-06-28T10:52:44.756Z"
   },
   {
    "duration": 1038,
    "start_time": "2022-06-28T10:53:20.187Z"
   },
   {
    "duration": 415,
    "start_time": "2022-06-28T10:53:43.743Z"
   },
   {
    "duration": 1181,
    "start_time": "2022-06-28T10:53:48.307Z"
   },
   {
    "duration": 1035,
    "start_time": "2022-06-28T10:54:27.627Z"
   },
   {
    "duration": 632,
    "start_time": "2022-06-28T10:54:37.367Z"
   },
   {
    "duration": 1134,
    "start_time": "2022-06-28T10:54:44.536Z"
   },
   {
    "duration": 1068,
    "start_time": "2022-06-28T10:55:00.312Z"
   },
   {
    "duration": 4,
    "start_time": "2022-06-28T11:07:50.343Z"
   },
   {
    "duration": 8,
    "start_time": "2022-06-28T11:08:10.782Z"
   },
   {
    "duration": 14,
    "start_time": "2022-06-28T11:09:37.954Z"
   },
   {
    "duration": 14,
    "start_time": "2022-06-28T11:09:40.703Z"
   },
   {
    "duration": 13,
    "start_time": "2022-06-28T11:09:54.367Z"
   },
   {
    "duration": 9,
    "start_time": "2022-06-28T11:10:02.726Z"
   },
   {
    "duration": 27,
    "start_time": "2022-06-28T11:10:06.855Z"
   },
   {
    "duration": 9,
    "start_time": "2022-06-28T11:10:28.075Z"
   },
   {
    "duration": 194,
    "start_time": "2022-06-28T11:10:33.943Z"
   },
   {
    "duration": 12,
    "start_time": "2022-06-28T11:10:36.999Z"
   },
   {
    "duration": 586,
    "start_time": "2022-06-28T11:10:56.795Z"
   },
   {
    "duration": 629,
    "start_time": "2022-06-28T11:11:06.555Z"
   },
   {
    "duration": 193,
    "start_time": "2022-06-28T11:11:13.359Z"
   },
   {
    "duration": 18,
    "start_time": "2022-06-28T11:13:20.562Z"
   },
   {
    "duration": 206,
    "start_time": "2022-06-28T11:13:31.978Z"
   },
   {
    "duration": 861,
    "start_time": "2022-06-28T11:13:54.931Z"
   },
   {
    "duration": 200,
    "start_time": "2022-06-28T11:14:06.584Z"
   },
   {
    "duration": 14,
    "start_time": "2022-06-28T11:16:01.040Z"
   },
   {
    "duration": 5,
    "start_time": "2022-06-28T11:16:07.554Z"
   },
   {
    "duration": 249,
    "start_time": "2022-06-28T11:17:28.218Z"
   },
   {
    "duration": 3,
    "start_time": "2022-06-28T12:21:26.188Z"
   },
   {
    "duration": 8,
    "start_time": "2022-06-28T12:21:26.193Z"
   },
   {
    "duration": 65,
    "start_time": "2022-06-28T12:21:26.203Z"
   },
   {
    "duration": 12,
    "start_time": "2022-06-28T12:21:26.269Z"
   },
   {
    "duration": 1018,
    "start_time": "2022-06-28T12:21:26.283Z"
   },
   {
    "duration": 11,
    "start_time": "2022-06-28T12:21:27.303Z"
   },
   {
    "duration": 8,
    "start_time": "2022-06-28T12:21:27.316Z"
   },
   {
    "duration": 12,
    "start_time": "2022-06-28T12:21:27.326Z"
   },
   {
    "duration": 11,
    "start_time": "2022-06-28T12:21:27.340Z"
   },
   {
    "duration": 10,
    "start_time": "2022-06-28T12:21:27.353Z"
   },
   {
    "duration": 8,
    "start_time": "2022-06-28T12:21:27.366Z"
   },
   {
    "duration": 12,
    "start_time": "2022-06-28T12:21:27.375Z"
   },
   {
    "duration": 9,
    "start_time": "2022-06-28T12:21:27.389Z"
   },
   {
    "duration": 22,
    "start_time": "2022-06-28T12:21:27.400Z"
   },
   {
    "duration": 44,
    "start_time": "2022-06-28T12:21:27.424Z"
   },
   {
    "duration": 10,
    "start_time": "2022-06-28T12:21:27.470Z"
   },
   {
    "duration": 6,
    "start_time": "2022-06-28T12:21:27.482Z"
   },
   {
    "duration": 11,
    "start_time": "2022-06-28T12:21:27.490Z"
   },
   {
    "duration": 7,
    "start_time": "2022-06-28T12:21:27.503Z"
   },
   {
    "duration": 16,
    "start_time": "2022-06-28T12:21:27.511Z"
   },
   {
    "duration": 241,
    "start_time": "2022-06-28T12:21:27.529Z"
   },
   {
    "duration": 278,
    "start_time": "2022-06-28T12:21:27.771Z"
   },
   {
    "duration": 205,
    "start_time": "2022-06-28T12:21:28.051Z"
   },
   {
    "duration": 20,
    "start_time": "2022-06-28T12:21:28.258Z"
   },
   {
    "duration": 9,
    "start_time": "2022-06-28T12:21:28.280Z"
   },
   {
    "duration": 131,
    "start_time": "2022-06-28T12:21:28.291Z"
   },
   {
    "duration": 283,
    "start_time": "2022-06-28T12:21:28.424Z"
   },
   {
    "duration": 307,
    "start_time": "2022-06-28T12:21:28.708Z"
   },
   {
    "duration": 871,
    "start_time": "2022-06-28T12:21:29.019Z"
   },
   {
    "duration": 1026,
    "start_time": "2022-06-28T12:21:29.892Z"
   },
   {
    "duration": 10,
    "start_time": "2022-06-28T12:21:30.920Z"
   },
   {
    "duration": 40,
    "start_time": "2022-06-28T12:21:30.931Z"
   },
   {
    "duration": 5,
    "start_time": "2022-06-28T12:21:30.972Z"
   },
   {
    "duration": 299,
    "start_time": "2022-06-28T12:21:30.978Z"
   },
   {
    "duration": 4,
    "start_time": "2022-06-28T12:21:31.279Z"
   },
   {
    "duration": 88,
    "start_time": "2022-06-28T12:21:31.285Z"
   },
   {
    "duration": 3,
    "start_time": "2022-06-28T12:21:31.374Z"
   },
   {
    "duration": 75,
    "start_time": "2022-06-28T12:21:31.379Z"
   },
   {
    "duration": 17,
    "start_time": "2022-06-28T12:21:31.456Z"
   },
   {
    "duration": 26,
    "start_time": "2022-06-28T12:21:31.475Z"
   },
   {
    "duration": 24,
    "start_time": "2022-06-28T12:21:31.502Z"
   },
   {
    "duration": 59,
    "start_time": "2022-06-28T12:21:31.527Z"
   },
   {
    "duration": 13,
    "start_time": "2022-06-28T12:21:31.588Z"
   },
   {
    "duration": 216,
    "start_time": "2022-06-28T12:21:31.602Z"
   },
   {
    "duration": 206,
    "start_time": "2022-06-28T12:21:31.820Z"
   },
   {
    "duration": 18,
    "start_time": "2022-06-28T12:21:32.028Z"
   },
   {
    "duration": 22,
    "start_time": "2022-06-28T12:21:32.048Z"
   },
   {
    "duration": 60,
    "start_time": "2022-06-28T12:21:32.072Z"
   },
   {
    "duration": 219,
    "start_time": "2022-06-28T12:21:32.134Z"
   },
   {
    "duration": 3,
    "start_time": "2022-06-28T12:22:12.004Z"
   },
   {
    "duration": 194,
    "start_time": "2022-06-28T12:23:33.788Z"
   },
   {
    "duration": 14,
    "start_time": "2022-06-28T12:24:08.610Z"
   },
   {
    "duration": 15,
    "start_time": "2022-06-28T12:24:28.821Z"
   },
   {
    "duration": 13,
    "start_time": "2022-06-28T12:26:57.738Z"
   },
   {
    "duration": 15,
    "start_time": "2022-06-28T12:27:04.307Z"
   },
   {
    "duration": 5,
    "start_time": "2022-06-28T12:27:13.250Z"
   },
   {
    "duration": 542,
    "start_time": "2022-06-28T12:27:15.776Z"
   },
   {
    "duration": 1563,
    "start_time": "2022-06-28T16:17:36.719Z"
   },
   {
    "duration": 6,
    "start_time": "2022-06-28T16:17:38.284Z"
   },
   {
    "duration": 681,
    "start_time": "2022-06-28T16:17:38.291Z"
   },
   {
    "duration": 14,
    "start_time": "2022-06-28T16:17:38.975Z"
   },
   {
    "duration": 1141,
    "start_time": "2022-06-28T16:17:38.991Z"
   },
   {
    "duration": 12,
    "start_time": "2022-06-28T16:17:40.136Z"
   },
   {
    "duration": 14,
    "start_time": "2022-06-28T16:17:40.150Z"
   },
   {
    "duration": 9,
    "start_time": "2022-06-28T16:17:40.166Z"
   },
   {
    "duration": 8,
    "start_time": "2022-06-28T16:17:40.177Z"
   },
   {
    "duration": 7,
    "start_time": "2022-06-28T16:17:40.187Z"
   },
   {
    "duration": 9,
    "start_time": "2022-06-28T16:17:40.196Z"
   },
   {
    "duration": 40,
    "start_time": "2022-06-28T16:17:40.207Z"
   },
   {
    "duration": 23,
    "start_time": "2022-06-28T16:17:40.249Z"
   },
   {
    "duration": 27,
    "start_time": "2022-06-28T16:17:40.275Z"
   },
   {
    "duration": 31,
    "start_time": "2022-06-28T16:17:40.304Z"
   },
   {
    "duration": 17,
    "start_time": "2022-06-28T16:17:40.337Z"
   },
   {
    "duration": 10,
    "start_time": "2022-06-28T16:17:40.356Z"
   },
   {
    "duration": 7,
    "start_time": "2022-06-28T16:17:40.368Z"
   },
   {
    "duration": 6,
    "start_time": "2022-06-28T16:17:40.377Z"
   },
   {
    "duration": 14,
    "start_time": "2022-06-28T16:17:40.385Z"
   },
   {
    "duration": 244,
    "start_time": "2022-06-28T16:17:40.400Z"
   },
   {
    "duration": 316,
    "start_time": "2022-06-28T16:17:40.649Z"
   },
   {
    "duration": 232,
    "start_time": "2022-06-28T16:17:40.966Z"
   },
   {
    "duration": 34,
    "start_time": "2022-06-28T16:17:41.200Z"
   },
   {
    "duration": 127,
    "start_time": "2022-06-28T16:17:41.236Z"
   },
   {
    "duration": 293,
    "start_time": "2022-06-28T16:17:41.365Z"
   },
   {
    "duration": 1259,
    "start_time": "2022-06-28T16:17:41.660Z"
   },
   {
    "duration": 13,
    "start_time": "2022-06-28T16:17:42.922Z"
   },
   {
    "duration": 148,
    "start_time": "2022-06-28T16:17:42.937Z"
   },
   {
    "duration": 0,
    "start_time": "2022-06-28T16:17:43.088Z"
   },
   {
    "duration": 0,
    "start_time": "2022-06-28T16:17:43.090Z"
   },
   {
    "duration": 0,
    "start_time": "2022-06-28T16:17:43.092Z"
   },
   {
    "duration": 0,
    "start_time": "2022-06-28T16:17:43.094Z"
   },
   {
    "duration": 0,
    "start_time": "2022-06-28T16:17:43.096Z"
   },
   {
    "duration": 0,
    "start_time": "2022-06-28T16:17:43.098Z"
   },
   {
    "duration": 0,
    "start_time": "2022-06-28T16:17:43.099Z"
   },
   {
    "duration": 0,
    "start_time": "2022-06-28T16:17:43.101Z"
   },
   {
    "duration": 0,
    "start_time": "2022-06-28T16:17:43.125Z"
   },
   {
    "duration": 0,
    "start_time": "2022-06-28T16:17:43.126Z"
   },
   {
    "duration": 0,
    "start_time": "2022-06-28T16:17:43.128Z"
   },
   {
    "duration": 0,
    "start_time": "2022-06-28T16:17:43.136Z"
   },
   {
    "duration": 0,
    "start_time": "2022-06-28T16:17:43.142Z"
   },
   {
    "duration": 0,
    "start_time": "2022-06-28T16:17:43.147Z"
   },
   {
    "duration": 0,
    "start_time": "2022-06-28T16:17:43.151Z"
   },
   {
    "duration": 0,
    "start_time": "2022-06-28T16:17:43.152Z"
   },
   {
    "duration": 10,
    "start_time": "2022-06-28T16:18:55.086Z"
   },
   {
    "duration": 16,
    "start_time": "2022-06-28T16:19:02.971Z"
   },
   {
    "duration": 25,
    "start_time": "2022-06-28T16:19:33.727Z"
   },
   {
    "duration": 11,
    "start_time": "2022-06-28T16:19:35.302Z"
   },
   {
    "duration": 19,
    "start_time": "2022-06-28T16:19:38.778Z"
   },
   {
    "duration": 9,
    "start_time": "2022-06-28T16:19:54.671Z"
   },
   {
    "duration": 9,
    "start_time": "2022-06-28T16:20:07.906Z"
   },
   {
    "duration": 229,
    "start_time": "2022-06-28T16:20:27.831Z"
   },
   {
    "duration": 527,
    "start_time": "2022-06-28T16:20:36.718Z"
   },
   {
    "duration": 3,
    "start_time": "2022-06-28T16:21:36.782Z"
   },
   {
    "duration": 15,
    "start_time": "2022-06-28T16:21:36.792Z"
   },
   {
    "duration": 125,
    "start_time": "2022-06-28T16:21:36.810Z"
   },
   {
    "duration": 15,
    "start_time": "2022-06-28T16:21:36.937Z"
   },
   {
    "duration": 1058,
    "start_time": "2022-06-28T16:21:36.955Z"
   },
   {
    "duration": 15,
    "start_time": "2022-06-28T16:21:38.014Z"
   },
   {
    "duration": 27,
    "start_time": "2022-06-28T16:21:38.033Z"
   },
   {
    "duration": 19,
    "start_time": "2022-06-28T16:21:38.062Z"
   },
   {
    "duration": 15,
    "start_time": "2022-06-28T16:21:38.082Z"
   },
   {
    "duration": 9,
    "start_time": "2022-06-28T16:21:38.098Z"
   },
   {
    "duration": 10,
    "start_time": "2022-06-28T16:21:38.109Z"
   },
   {
    "duration": 42,
    "start_time": "2022-06-28T16:21:38.121Z"
   },
   {
    "duration": 15,
    "start_time": "2022-06-28T16:21:38.165Z"
   },
   {
    "duration": 34,
    "start_time": "2022-06-28T16:21:38.182Z"
   },
   {
    "duration": 30,
    "start_time": "2022-06-28T16:21:38.217Z"
   },
   {
    "duration": 17,
    "start_time": "2022-06-28T16:21:38.251Z"
   },
   {
    "duration": 19,
    "start_time": "2022-06-28T16:21:38.270Z"
   },
   {
    "duration": 23,
    "start_time": "2022-06-28T16:21:38.290Z"
   },
   {
    "duration": 10,
    "start_time": "2022-06-28T16:21:38.315Z"
   },
   {
    "duration": 48,
    "start_time": "2022-06-28T16:21:38.330Z"
   },
   {
    "duration": 224,
    "start_time": "2022-06-28T16:21:38.380Z"
   },
   {
    "duration": 327,
    "start_time": "2022-06-28T16:21:38.606Z"
   },
   {
    "duration": 227,
    "start_time": "2022-06-28T16:21:38.939Z"
   },
   {
    "duration": 12,
    "start_time": "2022-06-28T16:21:39.168Z"
   },
   {
    "duration": 139,
    "start_time": "2022-06-28T16:21:39.182Z"
   },
   {
    "duration": 293,
    "start_time": "2022-06-28T16:21:39.323Z"
   },
   {
    "duration": 1178,
    "start_time": "2022-06-28T16:21:39.618Z"
   },
   {
    "duration": 11,
    "start_time": "2022-06-28T16:21:40.798Z"
   },
   {
    "duration": 23,
    "start_time": "2022-06-28T16:21:40.826Z"
   },
   {
    "duration": 13,
    "start_time": "2022-06-28T16:21:40.851Z"
   },
   {
    "duration": 319,
    "start_time": "2022-06-28T16:21:40.866Z"
   },
   {
    "duration": 4,
    "start_time": "2022-06-28T16:21:41.187Z"
   },
   {
    "duration": 98,
    "start_time": "2022-06-28T16:21:41.193Z"
   },
   {
    "duration": 4,
    "start_time": "2022-06-28T16:21:41.293Z"
   },
   {
    "duration": 85,
    "start_time": "2022-06-28T16:21:41.298Z"
   },
   {
    "duration": 17,
    "start_time": "2022-06-28T16:21:41.385Z"
   },
   {
    "duration": 28,
    "start_time": "2022-06-28T16:21:41.404Z"
   },
   {
    "duration": 14,
    "start_time": "2022-06-28T16:21:41.433Z"
   },
   {
    "duration": 26,
    "start_time": "2022-06-28T16:21:41.450Z"
   },
   {
    "duration": 0,
    "start_time": "2022-06-28T16:21:41.478Z"
   },
   {
    "duration": 0,
    "start_time": "2022-06-28T16:21:41.479Z"
   },
   {
    "duration": 0,
    "start_time": "2022-06-28T16:21:41.480Z"
   },
   {
    "duration": 0,
    "start_time": "2022-06-28T16:21:41.482Z"
   },
   {
    "duration": 0,
    "start_time": "2022-06-28T16:21:41.483Z"
   },
   {
    "duration": 0,
    "start_time": "2022-06-28T16:21:41.484Z"
   },
   {
    "duration": 60,
    "start_time": "2022-06-28T16:22:09.754Z"
   },
   {
    "duration": 49,
    "start_time": "2022-06-28T16:22:17.074Z"
   },
   {
    "duration": 16,
    "start_time": "2022-06-28T16:22:17.125Z"
   },
   {
    "duration": 266,
    "start_time": "2022-06-28T16:22:17.143Z"
   },
   {
    "duration": 242,
    "start_time": "2022-06-28T16:22:17.410Z"
   },
   {
    "duration": 20,
    "start_time": "2022-06-28T16:22:17.655Z"
   },
   {
    "duration": 6,
    "start_time": "2022-06-28T16:22:17.677Z"
   },
   {
    "duration": 362,
    "start_time": "2022-06-28T16:22:17.685Z"
   },
   {
    "duration": 14,
    "start_time": "2022-06-28T16:22:41.526Z"
   },
   {
    "duration": 15,
    "start_time": "2022-06-28T16:22:45.922Z"
   },
   {
    "duration": 5,
    "start_time": "2022-06-28T16:22:57.589Z"
   },
   {
    "duration": 8,
    "start_time": "2022-06-28T16:23:04.149Z"
   },
   {
    "duration": 177,
    "start_time": "2022-06-28T16:23:24.731Z"
   },
   {
    "duration": 237,
    "start_time": "2022-06-28T16:23:30.558Z"
   },
   {
    "duration": 9,
    "start_time": "2022-06-28T16:27:22.793Z"
   },
   {
    "duration": 15,
    "start_time": "2022-06-28T16:27:35.966Z"
   },
   {
    "duration": 243,
    "start_time": "2022-06-28T16:39:13.050Z"
   },
   {
    "duration": 270,
    "start_time": "2022-06-28T16:40:11.980Z"
   },
   {
    "duration": 249,
    "start_time": "2022-06-28T16:41:05.649Z"
   },
   {
    "duration": 7,
    "start_time": "2022-06-28T16:53:42.814Z"
   },
   {
    "duration": 262,
    "start_time": "2022-06-28T16:56:02.879Z"
   },
   {
    "duration": 251,
    "start_time": "2022-06-28T16:56:10.115Z"
   },
   {
    "duration": 12,
    "start_time": "2022-06-28T17:12:29.106Z"
   },
   {
    "duration": 11,
    "start_time": "2022-06-28T17:12:46.280Z"
   },
   {
    "duration": 7,
    "start_time": "2022-06-28T17:12:52.733Z"
   },
   {
    "duration": 7,
    "start_time": "2022-06-28T17:13:06.818Z"
   },
   {
    "duration": 10,
    "start_time": "2022-06-28T17:13:27.343Z"
   },
   {
    "duration": 10,
    "start_time": "2022-06-28T17:26:10.943Z"
   },
   {
    "duration": 1304,
    "start_time": "2022-06-28T17:32:22.739Z"
   },
   {
    "duration": 4,
    "start_time": "2022-06-28T17:32:24.045Z"
   },
   {
    "duration": 79,
    "start_time": "2022-06-28T17:32:24.050Z"
   },
   {
    "duration": 12,
    "start_time": "2022-06-28T17:32:24.131Z"
   },
   {
    "duration": 1005,
    "start_time": "2022-06-28T17:32:24.144Z"
   },
   {
    "duration": 11,
    "start_time": "2022-06-28T17:32:25.151Z"
   },
   {
    "duration": 6,
    "start_time": "2022-06-28T17:32:25.163Z"
   },
   {
    "duration": 9,
    "start_time": "2022-06-28T17:32:25.171Z"
   },
   {
    "duration": 8,
    "start_time": "2022-06-28T17:32:25.181Z"
   },
   {
    "duration": 5,
    "start_time": "2022-06-28T17:32:25.193Z"
   },
   {
    "duration": 29,
    "start_time": "2022-06-28T17:32:25.200Z"
   },
   {
    "duration": 16,
    "start_time": "2022-06-28T17:32:25.231Z"
   },
   {
    "duration": 9,
    "start_time": "2022-06-28T17:32:25.248Z"
   },
   {
    "duration": 21,
    "start_time": "2022-06-28T17:32:25.258Z"
   },
   {
    "duration": 46,
    "start_time": "2022-06-28T17:32:25.281Z"
   },
   {
    "duration": 12,
    "start_time": "2022-06-28T17:32:25.328Z"
   },
   {
    "duration": 10,
    "start_time": "2022-06-28T17:32:25.342Z"
   },
   {
    "duration": 8,
    "start_time": "2022-06-28T17:32:25.355Z"
   },
   {
    "duration": 7,
    "start_time": "2022-06-28T17:32:25.365Z"
   },
   {
    "duration": 53,
    "start_time": "2022-06-28T17:32:25.374Z"
   },
   {
    "duration": 236,
    "start_time": "2022-06-28T17:32:25.429Z"
   },
   {
    "duration": 290,
    "start_time": "2022-06-28T17:32:25.666Z"
   },
   {
    "duration": 230,
    "start_time": "2022-06-28T17:32:25.957Z"
   },
   {
    "duration": 16,
    "start_time": "2022-06-28T17:32:26.188Z"
   },
   {
    "duration": 23,
    "start_time": "2022-06-28T17:32:26.206Z"
   },
   {
    "duration": 127,
    "start_time": "2022-06-28T17:32:26.231Z"
   },
   {
    "duration": 340,
    "start_time": "2022-06-28T17:32:26.359Z"
   },
   {
    "duration": 1244,
    "start_time": "2022-06-28T17:32:26.703Z"
   },
   {
    "duration": 15,
    "start_time": "2022-06-28T17:32:27.948Z"
   },
   {
    "duration": 20,
    "start_time": "2022-06-28T17:32:27.964Z"
   },
   {
    "duration": 7,
    "start_time": "2022-06-28T17:32:27.986Z"
   },
   {
    "duration": 353,
    "start_time": "2022-06-28T17:32:27.995Z"
   },
   {
    "duration": 4,
    "start_time": "2022-06-28T17:32:28.350Z"
   },
   {
    "duration": 171,
    "start_time": "2022-06-28T17:32:28.355Z"
   },
   {
    "duration": 4,
    "start_time": "2022-06-28T17:32:28.527Z"
   },
   {
    "duration": 59,
    "start_time": "2022-06-28T17:32:28.532Z"
   },
   {
    "duration": 38,
    "start_time": "2022-06-28T17:32:28.592Z"
   },
   {
    "duration": 16,
    "start_time": "2022-06-28T17:32:28.631Z"
   },
   {
    "duration": 281,
    "start_time": "2022-06-28T17:32:28.648Z"
   },
   {
    "duration": 7,
    "start_time": "2022-06-28T17:32:28.931Z"
   },
   {
    "duration": 60,
    "start_time": "2022-06-28T17:32:28.940Z"
   },
   {
    "duration": 36,
    "start_time": "2022-06-28T17:32:29.002Z"
   },
   {
    "duration": 233,
    "start_time": "2022-06-28T17:32:29.040Z"
   },
   {
    "duration": 265,
    "start_time": "2022-06-28T17:32:29.275Z"
   },
   {
    "duration": 21,
    "start_time": "2022-06-28T17:32:29.542Z"
   },
   {
    "duration": 6,
    "start_time": "2022-06-28T17:32:29.565Z"
   },
   {
    "duration": 258,
    "start_time": "2022-06-28T17:32:29.573Z"
   },
   {
    "duration": 10,
    "start_time": "2022-06-28T17:32:29.833Z"
   },
   {
    "duration": 1151,
    "start_time": "2022-06-29T17:48:25.173Z"
   },
   {
    "duration": 4,
    "start_time": "2022-06-29T17:48:26.326Z"
   },
   {
    "duration": 69,
    "start_time": "2022-06-29T17:48:26.331Z"
   },
   {
    "duration": 13,
    "start_time": "2022-06-29T17:48:26.401Z"
   },
   {
    "duration": 1264,
    "start_time": "2022-06-29T17:48:26.417Z"
   },
   {
    "duration": 11,
    "start_time": "2022-06-29T17:48:27.682Z"
   },
   {
    "duration": 6,
    "start_time": "2022-06-29T17:48:27.695Z"
   },
   {
    "duration": 12,
    "start_time": "2022-06-29T17:48:27.703Z"
   },
   {
    "duration": 9,
    "start_time": "2022-06-29T17:48:27.717Z"
   },
   {
    "duration": 9,
    "start_time": "2022-06-29T17:48:27.728Z"
   },
   {
    "duration": 10,
    "start_time": "2022-06-29T17:48:27.738Z"
   },
   {
    "duration": 30,
    "start_time": "2022-06-29T17:48:27.749Z"
   },
   {
    "duration": 8,
    "start_time": "2022-06-29T17:48:27.781Z"
   },
   {
    "duration": 17,
    "start_time": "2022-06-29T17:48:27.792Z"
   },
   {
    "duration": 22,
    "start_time": "2022-06-29T17:48:27.811Z"
   },
   {
    "duration": 41,
    "start_time": "2022-06-29T17:48:27.835Z"
   },
   {
    "duration": 7,
    "start_time": "2022-06-29T17:48:27.878Z"
   },
   {
    "duration": 9,
    "start_time": "2022-06-29T17:48:27.886Z"
   },
   {
    "duration": 7,
    "start_time": "2022-06-29T17:48:27.896Z"
   },
   {
    "duration": 16,
    "start_time": "2022-06-29T17:48:27.904Z"
   },
   {
    "duration": 240,
    "start_time": "2022-06-29T17:48:27.922Z"
   },
   {
    "duration": 286,
    "start_time": "2022-06-29T17:48:28.163Z"
   },
   {
    "duration": 204,
    "start_time": "2022-06-29T17:48:28.451Z"
   },
   {
    "duration": 21,
    "start_time": "2022-06-29T17:48:28.657Z"
   },
   {
    "duration": 11,
    "start_time": "2022-06-29T17:48:28.680Z"
   },
   {
    "duration": 122,
    "start_time": "2022-06-29T17:48:28.693Z"
   },
   {
    "duration": 328,
    "start_time": "2022-06-29T17:48:28.816Z"
   },
   {
    "duration": 1078,
    "start_time": "2022-06-29T17:48:29.146Z"
   },
   {
    "duration": 10,
    "start_time": "2022-06-29T17:48:30.226Z"
   },
   {
    "duration": 17,
    "start_time": "2022-06-29T17:48:30.237Z"
   },
   {
    "duration": 9,
    "start_time": "2022-06-29T17:48:30.267Z"
   },
   {
    "duration": 312,
    "start_time": "2022-06-29T17:48:30.277Z"
   },
   {
    "duration": 5,
    "start_time": "2022-06-29T17:48:30.591Z"
   },
   {
    "duration": 179,
    "start_time": "2022-06-29T17:48:30.597Z"
   },
   {
    "duration": 3,
    "start_time": "2022-06-29T17:48:30.778Z"
   },
   {
    "duration": 89,
    "start_time": "2022-06-29T17:48:30.783Z"
   },
   {
    "duration": 19,
    "start_time": "2022-06-29T17:48:30.874Z"
   },
   {
    "duration": 20,
    "start_time": "2022-06-29T17:48:30.894Z"
   },
   {
    "duration": 265,
    "start_time": "2022-06-29T17:48:30.916Z"
   },
   {
    "duration": 6,
    "start_time": "2022-06-29T17:48:31.183Z"
   },
   {
    "duration": 69,
    "start_time": "2022-06-29T17:48:31.192Z"
   },
   {
    "duration": 13,
    "start_time": "2022-06-29T17:48:31.263Z"
   },
   {
    "duration": 237,
    "start_time": "2022-06-29T17:48:31.277Z"
   },
   {
    "duration": 206,
    "start_time": "2022-06-29T17:48:31.516Z"
   },
   {
    "duration": 19,
    "start_time": "2022-06-29T17:48:31.723Z"
   },
   {
    "duration": 5,
    "start_time": "2022-06-29T17:48:31.744Z"
   },
   {
    "duration": 230,
    "start_time": "2022-06-29T17:48:31.766Z"
   },
   {
    "duration": 8,
    "start_time": "2022-06-29T17:48:31.998Z"
   },
   {
    "duration": 110,
    "start_time": "2022-06-29T18:11:29.126Z"
   },
   {
    "duration": 1281,
    "start_time": "2022-06-29T18:11:32.001Z"
   },
   {
    "duration": 4,
    "start_time": "2022-06-29T18:11:33.284Z"
   },
   {
    "duration": 290,
    "start_time": "2022-06-29T18:11:33.289Z"
   },
   {
    "duration": 14,
    "start_time": "2022-06-29T18:11:33.581Z"
   },
   {
    "duration": 1485,
    "start_time": "2022-06-29T18:11:33.597Z"
   },
   {
    "duration": 10,
    "start_time": "2022-06-29T18:11:35.084Z"
   },
   {
    "duration": 36,
    "start_time": "2022-06-29T18:11:35.095Z"
   },
   {
    "duration": 41,
    "start_time": "2022-06-29T18:11:35.133Z"
   },
   {
    "duration": 27,
    "start_time": "2022-06-29T18:11:35.176Z"
   },
   {
    "duration": 10,
    "start_time": "2022-06-29T18:11:35.205Z"
   },
   {
    "duration": 27,
    "start_time": "2022-06-29T18:11:35.217Z"
   },
   {
    "duration": 33,
    "start_time": "2022-06-29T18:11:35.246Z"
   },
   {
    "duration": 8,
    "start_time": "2022-06-29T18:11:35.280Z"
   },
   {
    "duration": 32,
    "start_time": "2022-06-29T18:11:35.290Z"
   },
   {
    "duration": 32,
    "start_time": "2022-06-29T18:11:35.323Z"
   },
   {
    "duration": 9,
    "start_time": "2022-06-29T18:11:35.357Z"
   },
   {
    "duration": 18,
    "start_time": "2022-06-29T18:11:35.368Z"
   },
   {
    "duration": 15,
    "start_time": "2022-06-29T18:11:35.387Z"
   },
   {
    "duration": 8,
    "start_time": "2022-06-29T18:11:35.404Z"
   },
   {
    "duration": 78,
    "start_time": "2022-06-29T18:11:37.394Z"
   },
   {
    "duration": 96,
    "start_time": "2022-06-29T18:12:19.798Z"
   },
   {
    "duration": 121,
    "start_time": "2022-06-29T18:12:42.926Z"
   },
   {
    "duration": 19,
    "start_time": "2022-06-29T18:12:49.135Z"
   },
   {
    "duration": 4,
    "start_time": "2022-06-29T18:19:27.134Z"
   },
   {
    "duration": 236,
    "start_time": "2022-06-29T18:21:09.309Z"
   },
   {
    "duration": 14,
    "start_time": "2022-06-29T18:21:55.994Z"
   },
   {
    "duration": 8,
    "start_time": "2022-06-29T18:22:09.913Z"
   },
   {
    "duration": 16,
    "start_time": "2022-06-29T18:22:20.945Z"
   },
   {
    "duration": 224,
    "start_time": "2022-06-29T18:22:28.917Z"
   },
   {
    "duration": 11,
    "start_time": "2022-06-29T18:25:28.433Z"
   },
   {
    "duration": 4,
    "start_time": "2022-06-29T18:25:32.126Z"
   },
   {
    "duration": 6,
    "start_time": "2022-06-29T18:25:32.131Z"
   },
   {
    "duration": 72,
    "start_time": "2022-06-29T18:25:32.138Z"
   },
   {
    "duration": 11,
    "start_time": "2022-06-29T18:25:32.211Z"
   },
   {
    "duration": 1532,
    "start_time": "2022-06-29T18:25:32.224Z"
   },
   {
    "duration": 10,
    "start_time": "2022-06-29T18:25:33.757Z"
   },
   {
    "duration": 6,
    "start_time": "2022-06-29T18:25:33.768Z"
   },
   {
    "duration": 13,
    "start_time": "2022-06-29T18:25:33.775Z"
   },
   {
    "duration": 8,
    "start_time": "2022-06-29T18:25:33.789Z"
   },
   {
    "duration": 7,
    "start_time": "2022-06-29T18:25:33.800Z"
   },
   {
    "duration": 9,
    "start_time": "2022-06-29T18:25:33.808Z"
   },
   {
    "duration": 18,
    "start_time": "2022-06-29T18:25:33.819Z"
   },
   {
    "duration": 8,
    "start_time": "2022-06-29T18:25:33.839Z"
   },
   {
    "duration": 17,
    "start_time": "2022-06-29T18:25:33.848Z"
   },
   {
    "duration": 19,
    "start_time": "2022-06-29T18:25:33.866Z"
   },
   {
    "duration": 8,
    "start_time": "2022-06-29T18:25:33.887Z"
   },
   {
    "duration": 34,
    "start_time": "2022-06-29T18:25:33.897Z"
   },
   {
    "duration": 10,
    "start_time": "2022-06-29T18:25:33.933Z"
   },
   {
    "duration": 5,
    "start_time": "2022-06-29T18:25:33.944Z"
   },
   {
    "duration": 17,
    "start_time": "2022-06-29T18:25:33.950Z"
   },
   {
    "duration": 227,
    "start_time": "2022-06-29T18:25:33.969Z"
   },
   {
    "duration": 261,
    "start_time": "2022-06-29T18:25:34.198Z"
   },
   {
    "duration": 205,
    "start_time": "2022-06-29T18:25:34.460Z"
   },
   {
    "duration": 14,
    "start_time": "2022-06-29T18:25:34.666Z"
   },
   {
    "duration": 13,
    "start_time": "2022-06-29T18:25:34.683Z"
   },
   {
    "duration": 134,
    "start_time": "2022-06-29T18:25:34.697Z"
   },
   {
    "duration": 328,
    "start_time": "2022-06-29T18:25:34.832Z"
   },
   {
    "duration": 1138,
    "start_time": "2022-06-29T18:25:35.161Z"
   },
   {
    "duration": 10,
    "start_time": "2022-06-29T18:25:36.301Z"
   },
   {
    "duration": 25,
    "start_time": "2022-06-29T18:25:36.313Z"
   },
   {
    "duration": 16,
    "start_time": "2022-06-29T18:25:36.339Z"
   },
   {
    "duration": 323,
    "start_time": "2022-06-29T18:25:36.356Z"
   },
   {
    "duration": 4,
    "start_time": "2022-06-29T18:25:36.680Z"
   },
   {
    "duration": 77,
    "start_time": "2022-06-29T18:25:36.685Z"
   },
   {
    "duration": 3,
    "start_time": "2022-06-29T18:25:36.764Z"
   },
   {
    "duration": 73,
    "start_time": "2022-06-29T18:25:36.768Z"
   },
   {
    "duration": 16,
    "start_time": "2022-06-29T18:25:36.843Z"
   },
   {
    "duration": 13,
    "start_time": "2022-06-29T18:25:36.861Z"
   },
   {
    "duration": 247,
    "start_time": "2022-06-29T18:25:36.876Z"
   },
   {
    "duration": 10,
    "start_time": "2022-06-29T18:25:37.124Z"
   },
   {
    "duration": 63,
    "start_time": "2022-06-29T18:25:37.135Z"
   },
   {
    "duration": 13,
    "start_time": "2022-06-29T18:25:37.200Z"
   },
   {
    "duration": 251,
    "start_time": "2022-06-29T18:25:37.214Z"
   },
   {
    "duration": 234,
    "start_time": "2022-06-29T18:25:42.818Z"
   },
   {
    "duration": 4,
    "start_time": "2022-06-29T18:28:41.145Z"
   },
   {
    "duration": 26,
    "start_time": "2022-06-29T18:29:00.594Z"
   },
   {
    "duration": 9,
    "start_time": "2022-06-29T18:29:09.985Z"
   },
   {
    "duration": 12,
    "start_time": "2022-06-29T18:30:06.133Z"
   },
   {
    "duration": 8,
    "start_time": "2022-06-29T18:36:50.845Z"
   },
   {
    "duration": 9,
    "start_time": "2022-06-29T18:37:45.766Z"
   },
   {
    "duration": 15,
    "start_time": "2022-06-29T18:38:29.514Z"
   },
   {
    "duration": 20,
    "start_time": "2022-06-29T18:38:34.637Z"
   },
   {
    "duration": 21,
    "start_time": "2022-06-29T18:38:46.450Z"
   },
   {
    "duration": 19,
    "start_time": "2022-06-29T18:39:17.485Z"
   },
   {
    "duration": 19,
    "start_time": "2022-06-29T18:39:22.029Z"
   },
   {
    "duration": 17,
    "start_time": "2022-06-29T18:39:34.453Z"
   },
   {
    "duration": 17,
    "start_time": "2022-06-29T18:39:55.513Z"
   },
   {
    "duration": 17,
    "start_time": "2022-06-29T18:40:22.171Z"
   },
   {
    "duration": 19,
    "start_time": "2022-06-29T18:41:31.685Z"
   },
   {
    "duration": 17,
    "start_time": "2022-06-29T18:41:50.267Z"
   },
   {
    "duration": 17,
    "start_time": "2022-06-29T18:45:05.093Z"
   },
   {
    "duration": 269,
    "start_time": "2022-06-29T18:45:21.165Z"
   },
   {
    "duration": 234,
    "start_time": "2022-06-29T18:45:44.468Z"
   },
   {
    "duration": 220,
    "start_time": "2022-06-29T18:45:55.837Z"
   },
   {
    "duration": 296,
    "start_time": "2022-06-29T18:46:10.941Z"
   },
   {
    "duration": 21,
    "start_time": "2022-06-29T18:47:28.305Z"
   },
   {
    "duration": 17,
    "start_time": "2022-06-29T18:47:33.183Z"
   },
   {
    "duration": 203,
    "start_time": "2022-06-29T18:47:41.686Z"
   },
   {
    "duration": 698,
    "start_time": "2022-06-29T18:47:56.018Z"
   },
   {
    "duration": 191,
    "start_time": "2022-06-29T18:48:04.825Z"
   },
   {
    "duration": 200,
    "start_time": "2022-06-29T18:49:11.988Z"
   },
   {
    "duration": 198,
    "start_time": "2022-06-29T18:49:20.205Z"
   },
   {
    "duration": 1153,
    "start_time": "2022-06-29T19:52:16.404Z"
   },
   {
    "duration": 3,
    "start_time": "2022-06-29T19:52:17.559Z"
   },
   {
    "duration": 78,
    "start_time": "2022-06-29T19:52:17.563Z"
   },
   {
    "duration": 12,
    "start_time": "2022-06-29T19:52:17.643Z"
   },
   {
    "duration": 1096,
    "start_time": "2022-06-29T19:52:17.656Z"
   },
   {
    "duration": 10,
    "start_time": "2022-06-29T19:52:18.753Z"
   },
   {
    "duration": 6,
    "start_time": "2022-06-29T19:52:18.765Z"
   },
   {
    "duration": 9,
    "start_time": "2022-06-29T19:52:18.772Z"
   },
   {
    "duration": 7,
    "start_time": "2022-06-29T19:52:18.783Z"
   },
   {
    "duration": 9,
    "start_time": "2022-06-29T19:52:18.792Z"
   },
   {
    "duration": 10,
    "start_time": "2022-06-29T19:52:18.802Z"
   },
   {
    "duration": 12,
    "start_time": "2022-06-29T19:52:18.829Z"
   },
   {
    "duration": 8,
    "start_time": "2022-06-29T19:52:18.842Z"
   },
   {
    "duration": 16,
    "start_time": "2022-06-29T19:52:18.851Z"
   },
   {
    "duration": 20,
    "start_time": "2022-06-29T19:52:18.868Z"
   },
   {
    "duration": 9,
    "start_time": "2022-06-29T19:52:18.889Z"
   },
   {
    "duration": 7,
    "start_time": "2022-06-29T19:52:18.928Z"
   },
   {
    "duration": 10,
    "start_time": "2022-06-29T19:52:18.937Z"
   },
   {
    "duration": 5,
    "start_time": "2022-06-29T19:52:18.949Z"
   },
   {
    "duration": 22,
    "start_time": "2022-06-29T19:52:18.956Z"
   },
   {
    "duration": 244,
    "start_time": "2022-06-29T19:52:18.980Z"
   },
   {
    "duration": 260,
    "start_time": "2022-06-29T19:52:19.226Z"
   },
   {
    "duration": 213,
    "start_time": "2022-06-29T19:52:19.488Z"
   },
   {
    "duration": 15,
    "start_time": "2022-06-29T19:52:19.703Z"
   },
   {
    "duration": 17,
    "start_time": "2022-06-29T19:52:19.728Z"
   },
   {
    "duration": 120,
    "start_time": "2022-06-29T19:52:19.746Z"
   },
   {
    "duration": 13,
    "start_time": "2022-06-29T19:52:19.868Z"
   },
   {
    "duration": 207,
    "start_time": "2022-06-29T19:52:19.884Z"
   },
   {
    "duration": 1059,
    "start_time": "2022-06-29T19:52:20.092Z"
   },
   {
    "duration": 11,
    "start_time": "2022-06-29T19:52:21.153Z"
   },
   {
    "duration": 13,
    "start_time": "2022-06-29T19:52:21.166Z"
   },
   {
    "duration": 8,
    "start_time": "2022-06-29T19:52:21.180Z"
   },
   {
    "duration": 302,
    "start_time": "2022-06-29T19:52:21.190Z"
   },
   {
    "duration": 3,
    "start_time": "2022-06-29T19:52:21.494Z"
   },
   {
    "duration": 151,
    "start_time": "2022-06-29T19:52:21.499Z"
   },
   {
    "duration": 3,
    "start_time": "2022-06-29T19:52:21.652Z"
   },
   {
    "duration": 58,
    "start_time": "2022-06-29T19:52:21.657Z"
   },
   {
    "duration": 25,
    "start_time": "2022-06-29T19:52:21.717Z"
   },
   {
    "duration": 15,
    "start_time": "2022-06-29T19:52:21.744Z"
   },
   {
    "duration": 265,
    "start_time": "2022-06-29T19:52:21.761Z"
   },
   {
    "duration": 7,
    "start_time": "2022-06-29T19:52:22.029Z"
   },
   {
    "duration": 58,
    "start_time": "2022-06-29T19:52:22.037Z"
   },
   {
    "duration": 34,
    "start_time": "2022-06-29T19:52:22.096Z"
   },
   {
    "duration": 239,
    "start_time": "2022-06-29T19:52:22.132Z"
   },
   {
    "duration": 215,
    "start_time": "2022-06-29T19:52:22.372Z"
   },
   {
    "duration": 17,
    "start_time": "2022-06-29T19:52:22.589Z"
   },
   {
    "duration": 6,
    "start_time": "2022-06-29T19:52:22.607Z"
   },
   {
    "duration": 240,
    "start_time": "2022-06-29T19:52:22.614Z"
   },
   {
    "duration": 8,
    "start_time": "2022-06-29T19:52:22.855Z"
   },
   {
    "duration": 318,
    "start_time": "2022-06-29T20:03:06.076Z"
   },
   {
    "duration": 188,
    "start_time": "2022-06-29T20:03:09.540Z"
   },
   {
    "duration": 214,
    "start_time": "2022-06-29T20:03:30.428Z"
   },
   {
    "duration": 197,
    "start_time": "2022-06-29T20:03:37.992Z"
   },
   {
    "duration": 188,
    "start_time": "2022-06-29T20:03:51.952Z"
   },
   {
    "duration": 226,
    "start_time": "2022-06-29T20:04:35.436Z"
   },
   {
    "duration": 926,
    "start_time": "2022-06-29T20:06:01.827Z"
   },
   {
    "duration": 7,
    "start_time": "2022-06-29T20:06:14.652Z"
   },
   {
    "duration": 6,
    "start_time": "2022-06-29T20:06:28.270Z"
   },
   {
    "duration": 5,
    "start_time": "2022-06-29T20:06:37.867Z"
   },
   {
    "duration": 2531,
    "start_time": "2022-06-29T20:07:14.435Z"
   },
   {
    "duration": 2302,
    "start_time": "2022-06-29T20:07:57.823Z"
   },
   {
    "duration": 2406,
    "start_time": "2022-06-29T20:08:11.815Z"
   },
   {
    "duration": 2369,
    "start_time": "2022-06-29T20:08:21.235Z"
   },
   {
    "duration": 2489,
    "start_time": "2022-06-29T20:09:05.147Z"
   },
   {
    "duration": 2489,
    "start_time": "2022-06-29T20:09:29.349Z"
   },
   {
    "duration": 206,
    "start_time": "2022-06-29T20:09:47.139Z"
   },
   {
    "duration": 216,
    "start_time": "2022-06-29T20:10:01.787Z"
   },
   {
    "duration": 217,
    "start_time": "2022-06-29T20:10:18.695Z"
   },
   {
    "duration": 213,
    "start_time": "2022-06-29T20:10:57.087Z"
   },
   {
    "duration": 218,
    "start_time": "2022-06-29T20:11:01.891Z"
   },
   {
    "duration": 229,
    "start_time": "2022-06-29T20:12:23.539Z"
   },
   {
    "duration": 84,
    "start_time": "2022-06-29T20:12:29.543Z"
   },
   {
    "duration": 219,
    "start_time": "2022-06-29T20:12:35.331Z"
   },
   {
    "duration": 1237,
    "start_time": "2022-06-29T20:25:01.353Z"
   },
   {
    "duration": 4,
    "start_time": "2022-06-29T20:25:02.592Z"
   },
   {
    "duration": 94,
    "start_time": "2022-06-29T20:25:02.597Z"
   },
   {
    "duration": 12,
    "start_time": "2022-06-29T20:25:02.693Z"
   },
   {
    "duration": 1200,
    "start_time": "2022-06-29T20:25:02.708Z"
   },
   {
    "duration": 11,
    "start_time": "2022-06-29T20:25:03.910Z"
   },
   {
    "duration": 5,
    "start_time": "2022-06-29T20:25:03.923Z"
   },
   {
    "duration": 15,
    "start_time": "2022-06-29T20:25:03.929Z"
   },
   {
    "duration": 9,
    "start_time": "2022-06-29T20:25:03.946Z"
   },
   {
    "duration": 7,
    "start_time": "2022-06-29T20:25:03.957Z"
   },
   {
    "duration": 9,
    "start_time": "2022-06-29T20:25:03.966Z"
   },
   {
    "duration": 14,
    "start_time": "2022-06-29T20:25:03.977Z"
   },
   {
    "duration": 9,
    "start_time": "2022-06-29T20:25:03.992Z"
   },
   {
    "duration": 40,
    "start_time": "2022-06-29T20:25:04.004Z"
   },
   {
    "duration": 25,
    "start_time": "2022-06-29T20:25:04.045Z"
   },
   {
    "duration": 11,
    "start_time": "2022-06-29T20:25:04.072Z"
   },
   {
    "duration": 6,
    "start_time": "2022-06-29T20:25:04.084Z"
   },
   {
    "duration": 9,
    "start_time": "2022-06-29T20:25:04.093Z"
   },
   {
    "duration": 6,
    "start_time": "2022-06-29T20:25:04.130Z"
   },
   {
    "duration": 21,
    "start_time": "2022-06-29T20:25:04.137Z"
   },
   {
    "duration": 221,
    "start_time": "2022-06-29T20:25:04.160Z"
   },
   {
    "duration": 246,
    "start_time": "2022-06-29T20:25:04.383Z"
   },
   {
    "duration": 212,
    "start_time": "2022-06-29T20:25:04.630Z"
   },
   {
    "duration": 14,
    "start_time": "2022-06-29T20:25:04.843Z"
   },
   {
    "duration": 17,
    "start_time": "2022-06-29T20:25:04.858Z"
   },
   {
    "duration": 125,
    "start_time": "2022-06-29T20:25:04.876Z"
   },
   {
    "duration": 26,
    "start_time": "2022-06-29T20:25:05.003Z"
   },
   {
    "duration": 233,
    "start_time": "2022-06-29T20:25:05.031Z"
   },
   {
    "duration": 1106,
    "start_time": "2022-06-29T20:25:05.265Z"
   },
   {
    "duration": 11,
    "start_time": "2022-06-29T20:25:06.373Z"
   },
   {
    "duration": 13,
    "start_time": "2022-06-29T20:25:06.385Z"
   },
   {
    "duration": 5,
    "start_time": "2022-06-29T20:25:06.399Z"
   },
   {
    "duration": 313,
    "start_time": "2022-06-29T20:25:06.405Z"
   },
   {
    "duration": 10,
    "start_time": "2022-06-29T20:25:06.720Z"
   },
   {
    "duration": 148,
    "start_time": "2022-06-29T20:25:06.731Z"
   },
   {
    "duration": 3,
    "start_time": "2022-06-29T20:25:06.881Z"
   },
   {
    "duration": 65,
    "start_time": "2022-06-29T20:25:06.885Z"
   },
   {
    "duration": 17,
    "start_time": "2022-06-29T20:25:06.952Z"
   },
   {
    "duration": 14,
    "start_time": "2022-06-29T20:25:06.970Z"
   },
   {
    "duration": 254,
    "start_time": "2022-06-29T20:25:06.985Z"
   },
   {
    "duration": 6,
    "start_time": "2022-06-29T20:25:07.243Z"
   },
   {
    "duration": 46,
    "start_time": "2022-06-29T20:25:07.251Z"
   },
   {
    "duration": 36,
    "start_time": "2022-06-29T20:25:07.299Z"
   },
   {
    "duration": 239,
    "start_time": "2022-06-29T20:25:07.337Z"
   },
   {
    "duration": 225,
    "start_time": "2022-06-29T20:25:07.578Z"
   },
   {
    "duration": 26,
    "start_time": "2022-06-29T20:25:07.804Z"
   },
   {
    "duration": 7,
    "start_time": "2022-06-29T20:25:07.832Z"
   },
   {
    "duration": 232,
    "start_time": "2022-06-29T20:25:07.840Z"
   },
   {
    "duration": 8,
    "start_time": "2022-06-29T20:25:08.074Z"
   },
   {
    "duration": 1129,
    "start_time": "2022-06-29T20:29:44.938Z"
   },
   {
    "duration": 5,
    "start_time": "2022-06-29T20:29:46.070Z"
   },
   {
    "duration": 88,
    "start_time": "2022-06-29T20:29:46.076Z"
   },
   {
    "duration": 15,
    "start_time": "2022-06-29T20:29:46.166Z"
   },
   {
    "duration": 1014,
    "start_time": "2022-06-29T20:29:46.182Z"
   },
   {
    "duration": 10,
    "start_time": "2022-06-29T20:29:47.197Z"
   },
   {
    "duration": 8,
    "start_time": "2022-06-29T20:29:47.209Z"
   },
   {
    "duration": 9,
    "start_time": "2022-06-29T20:29:47.219Z"
   },
   {
    "duration": 8,
    "start_time": "2022-06-29T20:29:47.229Z"
   },
   {
    "duration": 6,
    "start_time": "2022-06-29T20:29:47.239Z"
   },
   {
    "duration": 9,
    "start_time": "2022-06-29T20:29:47.246Z"
   },
   {
    "duration": 12,
    "start_time": "2022-06-29T20:29:47.257Z"
   },
   {
    "duration": 7,
    "start_time": "2022-06-29T20:29:47.270Z"
   },
   {
    "duration": 18,
    "start_time": "2022-06-29T20:29:47.278Z"
   },
   {
    "duration": 42,
    "start_time": "2022-06-29T20:29:47.297Z"
   },
   {
    "duration": 7,
    "start_time": "2022-06-29T20:29:47.341Z"
   },
   {
    "duration": 5,
    "start_time": "2022-06-29T20:29:47.350Z"
   },
   {
    "duration": 10,
    "start_time": "2022-06-29T20:29:47.356Z"
   },
   {
    "duration": 4,
    "start_time": "2022-06-29T20:29:47.367Z"
   },
   {
    "duration": 18,
    "start_time": "2022-06-29T20:29:47.373Z"
   },
   {
    "duration": 224,
    "start_time": "2022-06-29T20:29:47.393Z"
   },
   {
    "duration": 254,
    "start_time": "2022-06-29T20:29:47.619Z"
   },
   {
    "duration": 205,
    "start_time": "2022-06-29T20:29:47.875Z"
   },
   {
    "duration": 13,
    "start_time": "2022-06-29T20:29:48.081Z"
   },
   {
    "duration": 15,
    "start_time": "2022-06-29T20:29:48.095Z"
   },
   {
    "duration": 120,
    "start_time": "2022-06-29T20:29:48.111Z"
   },
   {
    "duration": 15,
    "start_time": "2022-06-29T20:29:48.232Z"
   },
   {
    "duration": 212,
    "start_time": "2022-06-29T20:29:48.250Z"
   },
   {
    "duration": 1032,
    "start_time": "2022-06-29T20:29:48.463Z"
   },
   {
    "duration": 10,
    "start_time": "2022-06-29T20:29:49.497Z"
   },
   {
    "duration": 12,
    "start_time": "2022-06-29T20:29:49.509Z"
   },
   {
    "duration": 9,
    "start_time": "2022-06-29T20:29:49.522Z"
   },
   {
    "duration": 312,
    "start_time": "2022-06-29T20:29:49.533Z"
   },
   {
    "duration": 4,
    "start_time": "2022-06-29T20:29:49.846Z"
   },
   {
    "duration": 154,
    "start_time": "2022-06-29T20:29:49.851Z"
   },
   {
    "duration": 23,
    "start_time": "2022-06-29T20:29:50.007Z"
   },
   {
    "duration": 118,
    "start_time": "2022-06-29T20:29:50.032Z"
   },
   {
    "duration": 17,
    "start_time": "2022-06-29T20:29:50.151Z"
   },
   {
    "duration": 70,
    "start_time": "2022-06-29T20:29:50.170Z"
   },
   {
    "duration": 433,
    "start_time": "2022-06-29T20:29:50.242Z"
   },
   {
    "duration": 7,
    "start_time": "2022-06-29T20:29:50.729Z"
   },
   {
    "duration": 110,
    "start_time": "2022-06-29T20:29:50.737Z"
   },
   {
    "duration": 13,
    "start_time": "2022-06-29T20:29:50.849Z"
   },
   {
    "duration": 468,
    "start_time": "2022-06-29T20:29:50.863Z"
   },
   {
    "duration": 362,
    "start_time": "2022-06-29T20:29:51.333Z"
   },
   {
    "duration": 16,
    "start_time": "2022-06-29T20:29:51.697Z"
   },
   {
    "duration": 19,
    "start_time": "2022-06-29T20:29:51.714Z"
   },
   {
    "duration": 220,
    "start_time": "2022-06-29T20:29:51.734Z"
   },
   {
    "duration": 8,
    "start_time": "2022-06-29T20:29:51.955Z"
   },
   {
    "duration": 1506,
    "start_time": "2022-06-30T13:34:36.838Z"
   },
   {
    "duration": 5,
    "start_time": "2022-06-30T13:34:38.347Z"
   },
   {
    "duration": 120,
    "start_time": "2022-06-30T13:34:38.354Z"
   },
   {
    "duration": 16,
    "start_time": "2022-06-30T13:34:38.476Z"
   },
   {
    "duration": 1073,
    "start_time": "2022-06-30T13:34:38.493Z"
   },
   {
    "duration": 12,
    "start_time": "2022-06-30T13:34:39.568Z"
   },
   {
    "duration": 8,
    "start_time": "2022-06-30T13:34:39.582Z"
   },
   {
    "duration": 17,
    "start_time": "2022-06-30T13:34:39.591Z"
   },
   {
    "duration": 10,
    "start_time": "2022-06-30T13:34:39.610Z"
   },
   {
    "duration": 7,
    "start_time": "2022-06-30T13:34:39.624Z"
   },
   {
    "duration": 15,
    "start_time": "2022-06-30T13:34:39.633Z"
   },
   {
    "duration": 14,
    "start_time": "2022-06-30T13:34:39.650Z"
   },
   {
    "duration": 11,
    "start_time": "2022-06-30T13:34:39.666Z"
   },
   {
    "duration": 20,
    "start_time": "2022-06-30T13:34:39.679Z"
   },
   {
    "duration": 47,
    "start_time": "2022-06-30T13:34:39.701Z"
   },
   {
    "duration": 11,
    "start_time": "2022-06-30T13:34:39.751Z"
   },
   {
    "duration": 8,
    "start_time": "2022-06-30T13:34:39.764Z"
   },
   {
    "duration": 11,
    "start_time": "2022-06-30T13:34:39.773Z"
   },
   {
    "duration": 6,
    "start_time": "2022-06-30T13:34:39.786Z"
   },
   {
    "duration": 21,
    "start_time": "2022-06-30T13:34:39.825Z"
   },
   {
    "duration": 257,
    "start_time": "2022-06-30T13:34:39.847Z"
   },
   {
    "duration": 300,
    "start_time": "2022-06-30T13:34:40.106Z"
   },
   {
    "duration": 238,
    "start_time": "2022-06-30T13:34:40.408Z"
   },
   {
    "duration": 16,
    "start_time": "2022-06-30T13:34:40.648Z"
   },
   {
    "duration": 18,
    "start_time": "2022-06-30T13:34:40.666Z"
   },
   {
    "duration": 143,
    "start_time": "2022-06-30T13:34:40.685Z"
   },
   {
    "duration": 16,
    "start_time": "2022-06-30T13:34:40.830Z"
   },
   {
    "duration": 250,
    "start_time": "2022-06-30T13:34:40.849Z"
   },
   {
    "duration": 1224,
    "start_time": "2022-06-30T13:34:41.101Z"
   },
   {
    "duration": 13,
    "start_time": "2022-06-30T13:34:42.327Z"
   },
   {
    "duration": 16,
    "start_time": "2022-06-30T13:34:42.341Z"
   },
   {
    "duration": 5,
    "start_time": "2022-06-30T13:34:42.359Z"
   },
   {
    "duration": 363,
    "start_time": "2022-06-30T13:34:42.366Z"
   },
   {
    "duration": 5,
    "start_time": "2022-06-30T13:34:42.731Z"
   },
   {
    "duration": 161,
    "start_time": "2022-06-30T13:34:42.737Z"
   },
   {
    "duration": 4,
    "start_time": "2022-06-30T13:34:42.900Z"
   },
   {
    "duration": 68,
    "start_time": "2022-06-30T13:34:42.905Z"
   },
   {
    "duration": 18,
    "start_time": "2022-06-30T13:34:42.975Z"
   },
   {
    "duration": 16,
    "start_time": "2022-06-30T13:34:42.995Z"
   },
   {
    "duration": 260,
    "start_time": "2022-06-30T13:34:43.026Z"
   },
   {
    "duration": 7,
    "start_time": "2022-06-30T13:34:43.288Z"
   },
   {
    "duration": 63,
    "start_time": "2022-06-30T13:34:43.296Z"
   },
   {
    "duration": 13,
    "start_time": "2022-06-30T13:34:43.361Z"
   },
   {
    "duration": 250,
    "start_time": "2022-06-30T13:34:43.376Z"
   },
   {
    "duration": 221,
    "start_time": "2022-06-30T13:34:43.628Z"
   },
   {
    "duration": 19,
    "start_time": "2022-06-30T13:34:43.851Z"
   },
   {
    "duration": 6,
    "start_time": "2022-06-30T13:34:43.872Z"
   },
   {
    "duration": 247,
    "start_time": "2022-06-30T13:34:43.879Z"
   },
   {
    "duration": 9,
    "start_time": "2022-06-30T13:34:44.127Z"
   },
   {
    "duration": 4,
    "start_time": "2022-06-30T13:37:02.801Z"
   },
   {
    "duration": 148,
    "start_time": "2022-06-30T13:37:04.379Z"
   },
   {
    "duration": 4,
    "start_time": "2022-06-30T13:37:14.802Z"
   },
   {
    "duration": 105,
    "start_time": "2022-06-30T13:37:15.333Z"
   },
   {
    "duration": 4,
    "start_time": "2022-06-30T13:37:37.103Z"
   },
   {
    "duration": 77,
    "start_time": "2022-06-30T13:37:37.705Z"
   },
   {
    "duration": 1254,
    "start_time": "2022-06-30T17:23:40.894Z"
   },
   {
    "duration": 4,
    "start_time": "2022-06-30T17:23:42.150Z"
   },
   {
    "duration": 73,
    "start_time": "2022-06-30T17:23:42.156Z"
   },
   {
    "duration": 15,
    "start_time": "2022-06-30T17:23:42.230Z"
   },
   {
    "duration": 1097,
    "start_time": "2022-06-30T17:23:42.247Z"
   },
   {
    "duration": 10,
    "start_time": "2022-06-30T17:23:43.345Z"
   },
   {
    "duration": 7,
    "start_time": "2022-06-30T17:23:43.357Z"
   },
   {
    "duration": 7,
    "start_time": "2022-06-30T17:23:43.551Z"
   },
   {
    "duration": 6,
    "start_time": "2022-06-30T17:23:43.817Z"
   },
   {
    "duration": 8,
    "start_time": "2022-06-30T17:23:44.483Z"
   },
   {
    "duration": 8,
    "start_time": "2022-06-30T17:23:44.731Z"
   },
   {
    "duration": 15,
    "start_time": "2022-06-30T17:23:45.154Z"
   },
   {
    "duration": 10,
    "start_time": "2022-06-30T17:23:45.562Z"
   },
   {
    "duration": 20,
    "start_time": "2022-06-30T17:23:46.189Z"
   },
   {
    "duration": 24,
    "start_time": "2022-06-30T17:23:46.383Z"
   },
   {
    "duration": 10,
    "start_time": "2022-06-30T17:23:46.784Z"
   },
   {
    "duration": 7,
    "start_time": "2022-06-30T17:23:47.572Z"
   },
   {
    "duration": 7,
    "start_time": "2022-06-30T17:23:47.728Z"
   },
   {
    "duration": 6,
    "start_time": "2022-06-30T17:23:48.043Z"
   },
   {
    "duration": 22,
    "start_time": "2022-06-30T17:23:50.086Z"
   },
   {
    "duration": 229,
    "start_time": "2022-06-30T17:23:52.556Z"
   },
   {
    "duration": 273,
    "start_time": "2022-06-30T17:23:54.718Z"
   },
   {
    "duration": 205,
    "start_time": "2022-06-30T17:23:57.091Z"
   },
   {
    "duration": 15,
    "start_time": "2022-06-30T17:23:57.373Z"
   },
   {
    "duration": 18,
    "start_time": "2022-06-30T17:23:58.215Z"
   },
   {
    "duration": 118,
    "start_time": "2022-06-30T17:23:58.493Z"
   },
   {
    "duration": 18,
    "start_time": "2022-06-30T17:23:59.150Z"
   },
   {
    "duration": 237,
    "start_time": "2022-06-30T17:23:59.353Z"
   },
   {
    "duration": 1162,
    "start_time": "2022-06-30T17:24:00.531Z"
   },
   {
    "duration": 14,
    "start_time": "2022-06-30T17:24:07.325Z"
   },
   {
    "duration": 16,
    "start_time": "2022-06-30T17:24:09.374Z"
   },
   {
    "duration": 6,
    "start_time": "2022-06-30T17:24:10.998Z"
   },
   {
    "duration": 304,
    "start_time": "2022-06-30T17:24:12.379Z"
   },
   {
    "duration": 4,
    "start_time": "2022-06-30T17:24:15.590Z"
   },
   {
    "duration": 192,
    "start_time": "2022-06-30T17:24:17.276Z"
   },
   {
    "duration": 410,
    "start_time": "2022-06-30T17:25:20.425Z"
   },
   {
    "duration": 358,
    "start_time": "2022-06-30T17:25:54.785Z"
   },
   {
    "duration": 440,
    "start_time": "2022-06-30T17:27:40.901Z"
   },
   {
    "duration": 136,
    "start_time": "2022-06-30T17:27:59.592Z"
   },
   {
    "duration": 143,
    "start_time": "2022-06-30T17:28:42.888Z"
   },
   {
    "duration": 557,
    "start_time": "2022-06-30T17:28:50.002Z"
   },
   {
    "duration": 139,
    "start_time": "2022-06-30T17:28:58.304Z"
   },
   {
    "duration": 23,
    "start_time": "2022-06-30T17:30:37.600Z"
   },
   {
    "duration": 1248,
    "start_time": "2022-06-30T17:30:55.010Z"
   },
   {
    "duration": 5,
    "start_time": "2022-06-30T17:30:56.260Z"
   },
   {
    "duration": 92,
    "start_time": "2022-06-30T17:30:56.267Z"
   },
   {
    "duration": 14,
    "start_time": "2022-06-30T17:30:56.361Z"
   },
   {
    "duration": 1125,
    "start_time": "2022-06-30T17:30:56.376Z"
   },
   {
    "duration": 11,
    "start_time": "2022-06-30T17:30:57.502Z"
   },
   {
    "duration": 8,
    "start_time": "2022-06-30T17:30:57.515Z"
   },
   {
    "duration": 8,
    "start_time": "2022-06-30T17:30:57.525Z"
   },
   {
    "duration": 8,
    "start_time": "2022-06-30T17:30:58.417Z"
   },
   {
    "duration": 7,
    "start_time": "2022-06-30T17:30:58.427Z"
   },
   {
    "duration": 10,
    "start_time": "2022-06-30T17:30:58.435Z"
   },
   {
    "duration": 14,
    "start_time": "2022-06-30T17:30:58.662Z"
   },
   {
    "duration": 10,
    "start_time": "2022-06-30T17:30:59.032Z"
   },
   {
    "duration": 19,
    "start_time": "2022-06-30T17:30:59.576Z"
   },
   {
    "duration": 24,
    "start_time": "2022-06-30T17:30:59.786Z"
   },
   {
    "duration": 11,
    "start_time": "2022-06-30T17:31:00.179Z"
   },
   {
    "duration": 7,
    "start_time": "2022-06-30T17:31:00.942Z"
   },
   {
    "duration": 7,
    "start_time": "2022-06-30T17:31:01.079Z"
   },
   {
    "duration": 8,
    "start_time": "2022-06-30T17:31:01.268Z"
   },
   {
    "duration": 20,
    "start_time": "2022-06-30T17:31:02.054Z"
   },
   {
    "duration": 226,
    "start_time": "2022-06-30T17:31:02.853Z"
   },
   {
    "duration": 274,
    "start_time": "2022-06-30T17:31:03.435Z"
   },
   {
    "duration": 223,
    "start_time": "2022-06-30T17:31:04.609Z"
   },
   {
    "duration": 16,
    "start_time": "2022-06-30T17:31:04.834Z"
   },
   {
    "duration": 19,
    "start_time": "2022-06-30T17:31:05.607Z"
   },
   {
    "duration": 130,
    "start_time": "2022-06-30T17:31:05.820Z"
   },
   {
    "duration": 19,
    "start_time": "2022-06-30T17:31:06.777Z"
   },
   {
    "duration": 239,
    "start_time": "2022-06-30T17:31:07.062Z"
   },
   {
    "duration": 1196,
    "start_time": "2022-06-30T17:31:08.653Z"
   },
   {
    "duration": 11,
    "start_time": "2022-06-30T17:31:10.804Z"
   },
   {
    "duration": 17,
    "start_time": "2022-06-30T17:31:12.109Z"
   },
   {
    "duration": 7,
    "start_time": "2022-06-30T17:31:13.106Z"
   },
   {
    "duration": 379,
    "start_time": "2022-06-30T17:31:14.209Z"
   },
   {
    "duration": 4,
    "start_time": "2022-06-30T17:31:15.732Z"
   },
   {
    "duration": 110,
    "start_time": "2022-06-30T17:31:16.359Z"
   },
   {
    "duration": 1244,
    "start_time": "2022-06-30T18:45:29.142Z"
   },
   {
    "duration": 5,
    "start_time": "2022-06-30T18:45:30.389Z"
   },
   {
    "duration": 76,
    "start_time": "2022-06-30T18:45:30.395Z"
   },
   {
    "duration": 15,
    "start_time": "2022-06-30T18:45:30.473Z"
   },
   {
    "duration": 1035,
    "start_time": "2022-06-30T18:45:30.489Z"
   },
   {
    "duration": 11,
    "start_time": "2022-06-30T18:45:31.526Z"
   },
   {
    "duration": 20,
    "start_time": "2022-06-30T18:45:31.538Z"
   },
   {
    "duration": 20,
    "start_time": "2022-06-30T18:45:31.560Z"
   },
   {
    "duration": 13,
    "start_time": "2022-06-30T18:45:31.582Z"
   },
   {
    "duration": 20,
    "start_time": "2022-06-30T18:45:31.598Z"
   },
   {
    "duration": 36,
    "start_time": "2022-06-30T18:45:31.619Z"
   },
   {
    "duration": 19,
    "start_time": "2022-06-30T18:45:31.656Z"
   },
   {
    "duration": 20,
    "start_time": "2022-06-30T18:45:31.676Z"
   },
   {
    "duration": 18,
    "start_time": "2022-06-30T18:45:31.697Z"
   },
   {
    "duration": 22,
    "start_time": "2022-06-30T18:45:31.717Z"
   },
   {
    "duration": 9,
    "start_time": "2022-06-30T18:45:31.741Z"
   },
   {
    "duration": 6,
    "start_time": "2022-06-30T18:45:31.751Z"
   },
   {
    "duration": 12,
    "start_time": "2022-06-30T18:45:31.759Z"
   },
   {
    "duration": 7,
    "start_time": "2022-06-30T18:45:31.772Z"
   },
   {
    "duration": 50,
    "start_time": "2022-06-30T18:45:31.781Z"
   },
   {
    "duration": 228,
    "start_time": "2022-06-30T18:45:31.832Z"
   },
   {
    "duration": 271,
    "start_time": "2022-06-30T18:45:32.062Z"
   },
   {
    "duration": 226,
    "start_time": "2022-06-30T18:45:32.335Z"
   },
   {
    "duration": 16,
    "start_time": "2022-06-30T18:45:32.563Z"
   },
   {
    "duration": 31,
    "start_time": "2022-06-30T18:45:32.581Z"
   },
   {
    "duration": 122,
    "start_time": "2022-06-30T18:45:32.613Z"
   },
   {
    "duration": 16,
    "start_time": "2022-06-30T18:45:32.737Z"
   },
   {
    "duration": 235,
    "start_time": "2022-06-30T18:45:32.758Z"
   },
   {
    "duration": 1131,
    "start_time": "2022-06-30T18:45:32.994Z"
   },
   {
    "duration": 15,
    "start_time": "2022-06-30T18:45:34.127Z"
   },
   {
    "duration": 20,
    "start_time": "2022-06-30T18:45:34.144Z"
   },
   {
    "duration": 5,
    "start_time": "2022-06-30T18:45:34.166Z"
   },
   {
    "duration": 323,
    "start_time": "2022-06-30T18:45:34.173Z"
   },
   {
    "duration": 5,
    "start_time": "2022-06-30T18:45:34.498Z"
   },
   {
    "duration": 238,
    "start_time": "2022-06-30T18:45:34.505Z"
   },
   {
    "duration": 3,
    "start_time": "2022-06-30T18:45:34.745Z"
   },
   {
    "duration": 67,
    "start_time": "2022-06-30T18:45:34.750Z"
   },
   {
    "duration": 22,
    "start_time": "2022-06-30T18:45:34.819Z"
   },
   {
    "duration": 16,
    "start_time": "2022-06-30T18:45:34.843Z"
   },
   {
    "duration": 263,
    "start_time": "2022-06-30T18:45:34.861Z"
   },
   {
    "duration": 7,
    "start_time": "2022-06-30T18:45:35.126Z"
   },
   {
    "duration": 50,
    "start_time": "2022-06-30T18:45:35.134Z"
   },
   {
    "duration": 13,
    "start_time": "2022-06-30T18:45:35.186Z"
   },
   {
    "duration": 266,
    "start_time": "2022-06-30T18:45:35.226Z"
   },
   {
    "duration": 220,
    "start_time": "2022-06-30T18:45:35.493Z"
   },
   {
    "duration": 26,
    "start_time": "2022-06-30T18:45:35.715Z"
   },
   {
    "duration": 7,
    "start_time": "2022-06-30T18:45:35.743Z"
   },
   {
    "duration": 247,
    "start_time": "2022-06-30T18:45:35.752Z"
   },
   {
    "duration": 9,
    "start_time": "2022-06-30T18:45:36.001Z"
   }
  ],
  "kernelspec": {
   "display_name": "Python 3 (ipykernel)",
   "language": "python",
   "name": "python3"
  },
  "language_info": {
   "codemirror_mode": {
    "name": "ipython",
    "version": 3
   },
   "file_extension": ".py",
   "mimetype": "text/x-python",
   "name": "python",
   "nbconvert_exporter": "python",
   "pygments_lexer": "ipython3",
   "version": "3.9.7"
  },
  "toc": {
   "base_numbering": 1,
   "nav_menu": {},
   "number_sections": true,
   "sideBar": true,
   "skip_h1_title": true,
   "title_cell": "Table of Contents",
   "title_sidebar": "Contents",
   "toc_cell": false,
   "toc_position": {
    "height": "calc(100% - 180px)",
    "left": "10px",
    "top": "150px",
    "width": "324px"
   },
   "toc_section_display": true,
   "toc_window_display": true
  }
 },
 "nbformat": 4,
 "nbformat_minor": 2
}
