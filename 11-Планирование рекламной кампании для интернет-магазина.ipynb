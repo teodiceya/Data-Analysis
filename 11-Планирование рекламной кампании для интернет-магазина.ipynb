{
 "cells": [
  {
   "cell_type": "markdown",
   "metadata": {},
   "source": [
    "# Планирование рекламной кампании для интернет-магазина"
   ]
  },
  {
   "cell_type": "markdown",
   "metadata": {},
   "source": [
    "Интернет-магазин \"Стримчик\" попросил провести анализ данных для планирования рекламной кампании на 2017 год. В нашем распоряжении исторические данные о продажах игр, оценках пользователей и экспертов, жанрах и платформах, на которых были выпущены игры. Необходимо выявить определяющие успешность игры закономерности, чтобы ориентироваться, какой продукт будет потенциально популярным и прибыльным.\n",
    "\n",
    "**Описание данных**\n",
    "- Name — название игры\n",
    "- Platform — платформа\n",
    "- Year_of_Release — год выпуска\n",
    "- Genre — жанр игры\n",
    "- NA_sales — продажи в Северной Америке (миллионы проданных копий)\n",
    "- EU_sales — продажи в Европе (миллионы проданных копий)\n",
    "- JP_sales — продажи в Японии (миллионы проданных копий)\n",
    "- Other_sales — продажи в других странах (миллионы проданных копий)\n",
    "- Critic_Score — оценка критиков (максимум 100)\n",
    "- User_Score — оценка пользователей (максимум 10)\n",
    "- Rating — рейтинг от организации ESRB (англ. Entertainment Software Rating\n",
    "Board). Эта ассоциация определяет рейтинг компьютерных игр и присваивает\n",
    "им подходящую возрастную категорию."
   ]
  },
  {
   "cell_type": "markdown",
   "metadata": {},
   "source": [
    "## Обзор данных"
   ]
  },
  {
   "cell_type": "code",
   "execution_count": 87,
   "metadata": {},
   "outputs": [],
   "source": [
    "import pandas as pd # импорт библиотек\n",
    "import numpy as np\n",
    "import matplotlib \n",
    "from scipy import stats as st\n",
    "import matplotlib.pyplot as plt\n",
    "import seaborn as sns"
   ]
  },
  {
   "cell_type": "code",
   "execution_count": 88,
   "metadata": {
    "scrolled": true
   },
   "outputs": [
    {
     "data": {
      "text/html": [
       "<div>\n",
       "<style scoped>\n",
       "    .dataframe tbody tr th:only-of-type {\n",
       "        vertical-align: middle;\n",
       "    }\n",
       "\n",
       "    .dataframe tbody tr th {\n",
       "        vertical-align: top;\n",
       "    }\n",
       "\n",
       "    .dataframe thead th {\n",
       "        text-align: right;\n",
       "    }\n",
       "</style>\n",
       "<table border=\"1\" class=\"dataframe\">\n",
       "  <thead>\n",
       "    <tr style=\"text-align: right;\">\n",
       "      <th></th>\n",
       "      <th>Name</th>\n",
       "      <th>Platform</th>\n",
       "      <th>Year_of_Release</th>\n",
       "      <th>Genre</th>\n",
       "      <th>NA_sales</th>\n",
       "      <th>EU_sales</th>\n",
       "      <th>JP_sales</th>\n",
       "      <th>Other_sales</th>\n",
       "      <th>Critic_Score</th>\n",
       "      <th>User_Score</th>\n",
       "      <th>Rating</th>\n",
       "    </tr>\n",
       "  </thead>\n",
       "  <tbody>\n",
       "    <tr>\n",
       "      <th>0</th>\n",
       "      <td>Wii Sports</td>\n",
       "      <td>Wii</td>\n",
       "      <td>2006.0</td>\n",
       "      <td>Sports</td>\n",
       "      <td>41.36</td>\n",
       "      <td>28.96</td>\n",
       "      <td>3.77</td>\n",
       "      <td>8.45</td>\n",
       "      <td>76.0</td>\n",
       "      <td>8</td>\n",
       "      <td>E</td>\n",
       "    </tr>\n",
       "    <tr>\n",
       "      <th>1</th>\n",
       "      <td>Super Mario Bros.</td>\n",
       "      <td>NES</td>\n",
       "      <td>1985.0</td>\n",
       "      <td>Platform</td>\n",
       "      <td>29.08</td>\n",
       "      <td>3.58</td>\n",
       "      <td>6.81</td>\n",
       "      <td>0.77</td>\n",
       "      <td>NaN</td>\n",
       "      <td>NaN</td>\n",
       "      <td>NaN</td>\n",
       "    </tr>\n",
       "    <tr>\n",
       "      <th>2</th>\n",
       "      <td>Mario Kart Wii</td>\n",
       "      <td>Wii</td>\n",
       "      <td>2008.0</td>\n",
       "      <td>Racing</td>\n",
       "      <td>15.68</td>\n",
       "      <td>12.76</td>\n",
       "      <td>3.79</td>\n",
       "      <td>3.29</td>\n",
       "      <td>82.0</td>\n",
       "      <td>8.3</td>\n",
       "      <td>E</td>\n",
       "    </tr>\n",
       "    <tr>\n",
       "      <th>3</th>\n",
       "      <td>Wii Sports Resort</td>\n",
       "      <td>Wii</td>\n",
       "      <td>2009.0</td>\n",
       "      <td>Sports</td>\n",
       "      <td>15.61</td>\n",
       "      <td>10.93</td>\n",
       "      <td>3.28</td>\n",
       "      <td>2.95</td>\n",
       "      <td>80.0</td>\n",
       "      <td>8</td>\n",
       "      <td>E</td>\n",
       "    </tr>\n",
       "    <tr>\n",
       "      <th>4</th>\n",
       "      <td>Pokemon Red/Pokemon Blue</td>\n",
       "      <td>GB</td>\n",
       "      <td>1996.0</td>\n",
       "      <td>Role-Playing</td>\n",
       "      <td>11.27</td>\n",
       "      <td>8.89</td>\n",
       "      <td>10.22</td>\n",
       "      <td>1.00</td>\n",
       "      <td>NaN</td>\n",
       "      <td>NaN</td>\n",
       "      <td>NaN</td>\n",
       "    </tr>\n",
       "    <tr>\n",
       "      <th>5</th>\n",
       "      <td>Tetris</td>\n",
       "      <td>GB</td>\n",
       "      <td>1989.0</td>\n",
       "      <td>Puzzle</td>\n",
       "      <td>23.20</td>\n",
       "      <td>2.26</td>\n",
       "      <td>4.22</td>\n",
       "      <td>0.58</td>\n",
       "      <td>NaN</td>\n",
       "      <td>NaN</td>\n",
       "      <td>NaN</td>\n",
       "    </tr>\n",
       "    <tr>\n",
       "      <th>6</th>\n",
       "      <td>New Super Mario Bros.</td>\n",
       "      <td>DS</td>\n",
       "      <td>2006.0</td>\n",
       "      <td>Platform</td>\n",
       "      <td>11.28</td>\n",
       "      <td>9.14</td>\n",
       "      <td>6.50</td>\n",
       "      <td>2.88</td>\n",
       "      <td>89.0</td>\n",
       "      <td>8.5</td>\n",
       "      <td>E</td>\n",
       "    </tr>\n",
       "    <tr>\n",
       "      <th>7</th>\n",
       "      <td>Wii Play</td>\n",
       "      <td>Wii</td>\n",
       "      <td>2006.0</td>\n",
       "      <td>Misc</td>\n",
       "      <td>13.96</td>\n",
       "      <td>9.18</td>\n",
       "      <td>2.93</td>\n",
       "      <td>2.84</td>\n",
       "      <td>58.0</td>\n",
       "      <td>6.6</td>\n",
       "      <td>E</td>\n",
       "    </tr>\n",
       "    <tr>\n",
       "      <th>8</th>\n",
       "      <td>New Super Mario Bros. Wii</td>\n",
       "      <td>Wii</td>\n",
       "      <td>2009.0</td>\n",
       "      <td>Platform</td>\n",
       "      <td>14.44</td>\n",
       "      <td>6.94</td>\n",
       "      <td>4.70</td>\n",
       "      <td>2.24</td>\n",
       "      <td>87.0</td>\n",
       "      <td>8.4</td>\n",
       "      <td>E</td>\n",
       "    </tr>\n",
       "    <tr>\n",
       "      <th>9</th>\n",
       "      <td>Duck Hunt</td>\n",
       "      <td>NES</td>\n",
       "      <td>1984.0</td>\n",
       "      <td>Shooter</td>\n",
       "      <td>26.93</td>\n",
       "      <td>0.63</td>\n",
       "      <td>0.28</td>\n",
       "      <td>0.47</td>\n",
       "      <td>NaN</td>\n",
       "      <td>NaN</td>\n",
       "      <td>NaN</td>\n",
       "    </tr>\n",
       "    <tr>\n",
       "      <th>10</th>\n",
       "      <td>Nintendogs</td>\n",
       "      <td>DS</td>\n",
       "      <td>2005.0</td>\n",
       "      <td>Simulation</td>\n",
       "      <td>9.05</td>\n",
       "      <td>10.95</td>\n",
       "      <td>1.93</td>\n",
       "      <td>2.74</td>\n",
       "      <td>NaN</td>\n",
       "      <td>NaN</td>\n",
       "      <td>NaN</td>\n",
       "    </tr>\n",
       "    <tr>\n",
       "      <th>11</th>\n",
       "      <td>Mario Kart DS</td>\n",
       "      <td>DS</td>\n",
       "      <td>2005.0</td>\n",
       "      <td>Racing</td>\n",
       "      <td>9.71</td>\n",
       "      <td>7.47</td>\n",
       "      <td>4.13</td>\n",
       "      <td>1.90</td>\n",
       "      <td>91.0</td>\n",
       "      <td>8.6</td>\n",
       "      <td>E</td>\n",
       "    </tr>\n",
       "    <tr>\n",
       "      <th>12</th>\n",
       "      <td>Pokemon Gold/Pokemon Silver</td>\n",
       "      <td>GB</td>\n",
       "      <td>1999.0</td>\n",
       "      <td>Role-Playing</td>\n",
       "      <td>9.00</td>\n",
       "      <td>6.18</td>\n",
       "      <td>7.20</td>\n",
       "      <td>0.71</td>\n",
       "      <td>NaN</td>\n",
       "      <td>NaN</td>\n",
       "      <td>NaN</td>\n",
       "    </tr>\n",
       "    <tr>\n",
       "      <th>13</th>\n",
       "      <td>Wii Fit</td>\n",
       "      <td>Wii</td>\n",
       "      <td>2007.0</td>\n",
       "      <td>Sports</td>\n",
       "      <td>8.92</td>\n",
       "      <td>8.03</td>\n",
       "      <td>3.60</td>\n",
       "      <td>2.15</td>\n",
       "      <td>80.0</td>\n",
       "      <td>7.7</td>\n",
       "      <td>E</td>\n",
       "    </tr>\n",
       "    <tr>\n",
       "      <th>14</th>\n",
       "      <td>Kinect Adventures!</td>\n",
       "      <td>X360</td>\n",
       "      <td>2010.0</td>\n",
       "      <td>Misc</td>\n",
       "      <td>15.00</td>\n",
       "      <td>4.89</td>\n",
       "      <td>0.24</td>\n",
       "      <td>1.69</td>\n",
       "      <td>61.0</td>\n",
       "      <td>6.3</td>\n",
       "      <td>E</td>\n",
       "    </tr>\n",
       "  </tbody>\n",
       "</table>\n",
       "</div>"
      ],
      "text/plain": [
       "                           Name Platform  Year_of_Release         Genre  \\\n",
       "0                    Wii Sports      Wii           2006.0        Sports   \n",
       "1             Super Mario Bros.      NES           1985.0      Platform   \n",
       "2                Mario Kart Wii      Wii           2008.0        Racing   \n",
       "3             Wii Sports Resort      Wii           2009.0        Sports   \n",
       "4      Pokemon Red/Pokemon Blue       GB           1996.0  Role-Playing   \n",
       "5                        Tetris       GB           1989.0        Puzzle   \n",
       "6         New Super Mario Bros.       DS           2006.0      Platform   \n",
       "7                      Wii Play      Wii           2006.0          Misc   \n",
       "8     New Super Mario Bros. Wii      Wii           2009.0      Platform   \n",
       "9                     Duck Hunt      NES           1984.0       Shooter   \n",
       "10                   Nintendogs       DS           2005.0    Simulation   \n",
       "11                Mario Kart DS       DS           2005.0        Racing   \n",
       "12  Pokemon Gold/Pokemon Silver       GB           1999.0  Role-Playing   \n",
       "13                      Wii Fit      Wii           2007.0        Sports   \n",
       "14           Kinect Adventures!     X360           2010.0          Misc   \n",
       "\n",
       "    NA_sales  EU_sales  JP_sales  Other_sales  Critic_Score User_Score Rating  \n",
       "0      41.36     28.96      3.77         8.45          76.0          8      E  \n",
       "1      29.08      3.58      6.81         0.77           NaN        NaN    NaN  \n",
       "2      15.68     12.76      3.79         3.29          82.0        8.3      E  \n",
       "3      15.61     10.93      3.28         2.95          80.0          8      E  \n",
       "4      11.27      8.89     10.22         1.00           NaN        NaN    NaN  \n",
       "5      23.20      2.26      4.22         0.58           NaN        NaN    NaN  \n",
       "6      11.28      9.14      6.50         2.88          89.0        8.5      E  \n",
       "7      13.96      9.18      2.93         2.84          58.0        6.6      E  \n",
       "8      14.44      6.94      4.70         2.24          87.0        8.4      E  \n",
       "9      26.93      0.63      0.28         0.47           NaN        NaN    NaN  \n",
       "10      9.05     10.95      1.93         2.74           NaN        NaN    NaN  \n",
       "11      9.71      7.47      4.13         1.90          91.0        8.6      E  \n",
       "12      9.00      6.18      7.20         0.71           NaN        NaN    NaN  \n",
       "13      8.92      8.03      3.60         2.15          80.0        7.7      E  \n",
       "14     15.00      4.89      0.24         1.69          61.0        6.3      E  "
      ]
     },
     "execution_count": 88,
     "metadata": {},
     "output_type": "execute_result"
    }
   ],
   "source": [
    "# открываем данные\n",
    "pd.set_option('display.max_columns', None)\n",
    "df = pd.read_csv('datasets\\\\games.csv')\n",
    "df.head(15)"
   ]
  },
  {
   "cell_type": "code",
   "execution_count": 89,
   "metadata": {},
   "outputs": [
    {
     "name": "stdout",
     "output_type": "stream",
     "text": [
      "<class 'pandas.core.frame.DataFrame'>\n",
      "RangeIndex: 16715 entries, 0 to 16714\n",
      "Data columns (total 11 columns):\n",
      " #   Column           Non-Null Count  Dtype  \n",
      "---  ------           --------------  -----  \n",
      " 0   Name             16713 non-null  object \n",
      " 1   Platform         16715 non-null  object \n",
      " 2   Year_of_Release  16446 non-null  float64\n",
      " 3   Genre            16713 non-null  object \n",
      " 4   NA_sales         16715 non-null  float64\n",
      " 5   EU_sales         16715 non-null  float64\n",
      " 6   JP_sales         16715 non-null  float64\n",
      " 7   Other_sales      16715 non-null  float64\n",
      " 8   Critic_Score     8137 non-null   float64\n",
      " 9   User_Score       10014 non-null  object \n",
      " 10  Rating           9949 non-null   object \n",
      "dtypes: float64(6), object(5)\n",
      "memory usage: 1.4+ MB\n"
     ]
    }
   ],
   "source": [
    "df.info() # общая информация"
   ]
  },
  {
   "cell_type": "markdown",
   "metadata": {},
   "source": [
    "Есть пропуски в столбцах с названием (всего два, не критично), годом релиза, много пропущенных данных с оценками критиков и рейтингом у игроков. Пока примерный план предобработки такойй:\n",
    "- переименуем столбцы - приведем их к нижнему регистру;\n",
    "- у столбца с годом релиза неправильный тип данных, как и у столбца 'user_score', нужно исправить;\n",
    "- отредактируем жанры, чтобы потом было удобно делать срезы данных;\n",
    "- после займемся заполнением пропусков."
   ]
  },
  {
   "cell_type": "markdown",
   "metadata": {},
   "source": [
    "## Предобработка данных"
   ]
  },
  {
   "cell_type": "code",
   "execution_count": 90,
   "metadata": {},
   "outputs": [],
   "source": [
    "# приводим столбцы в удобный вид\n",
    "df.columns = df.columns.str.lower()"
   ]
  },
  {
   "cell_type": "markdown",
   "metadata": {},
   "source": [
    "Чтобы разобраться с датой релиза, сначала придется заняться пропусками в этом самом столбце. Рассуждения ниже."
   ]
  },
  {
   "cell_type": "code",
   "execution_count": 91,
   "metadata": {},
   "outputs": [
    {
     "data": {
      "text/html": [
       "<div>\n",
       "<style scoped>\n",
       "    .dataframe tbody tr th:only-of-type {\n",
       "        vertical-align: middle;\n",
       "    }\n",
       "\n",
       "    .dataframe tbody tr th {\n",
       "        vertical-align: top;\n",
       "    }\n",
       "\n",
       "    .dataframe thead th {\n",
       "        text-align: right;\n",
       "    }\n",
       "</style>\n",
       "<table border=\"1\" class=\"dataframe\">\n",
       "  <thead>\n",
       "    <tr style=\"text-align: right;\">\n",
       "      <th></th>\n",
       "      <th>name</th>\n",
       "      <th>platform</th>\n",
       "      <th>year_of_release</th>\n",
       "      <th>genre</th>\n",
       "      <th>na_sales</th>\n",
       "      <th>eu_sales</th>\n",
       "      <th>jp_sales</th>\n",
       "      <th>other_sales</th>\n",
       "      <th>critic_score</th>\n",
       "      <th>user_score</th>\n",
       "      <th>rating</th>\n",
       "    </tr>\n",
       "  </thead>\n",
       "  <tbody>\n",
       "    <tr>\n",
       "      <th>183</th>\n",
       "      <td>Madden NFL 2004</td>\n",
       "      <td>PS2</td>\n",
       "      <td>NaN</td>\n",
       "      <td>Sports</td>\n",
       "      <td>4.26</td>\n",
       "      <td>0.26</td>\n",
       "      <td>0.01</td>\n",
       "      <td>0.71</td>\n",
       "      <td>94.0</td>\n",
       "      <td>8.5</td>\n",
       "      <td>E</td>\n",
       "    </tr>\n",
       "    <tr>\n",
       "      <th>377</th>\n",
       "      <td>FIFA Soccer 2004</td>\n",
       "      <td>PS2</td>\n",
       "      <td>NaN</td>\n",
       "      <td>Sports</td>\n",
       "      <td>0.59</td>\n",
       "      <td>2.36</td>\n",
       "      <td>0.04</td>\n",
       "      <td>0.51</td>\n",
       "      <td>84.0</td>\n",
       "      <td>6.4</td>\n",
       "      <td>E</td>\n",
       "    </tr>\n",
       "    <tr>\n",
       "      <th>456</th>\n",
       "      <td>LEGO Batman: The Videogame</td>\n",
       "      <td>Wii</td>\n",
       "      <td>NaN</td>\n",
       "      <td>Action</td>\n",
       "      <td>1.80</td>\n",
       "      <td>0.97</td>\n",
       "      <td>0.00</td>\n",
       "      <td>0.29</td>\n",
       "      <td>74.0</td>\n",
       "      <td>7.9</td>\n",
       "      <td>E10+</td>\n",
       "    </tr>\n",
       "    <tr>\n",
       "      <th>475</th>\n",
       "      <td>wwe Smackdown vs. Raw 2006</td>\n",
       "      <td>PS2</td>\n",
       "      <td>NaN</td>\n",
       "      <td>Fighting</td>\n",
       "      <td>1.57</td>\n",
       "      <td>1.02</td>\n",
       "      <td>0.00</td>\n",
       "      <td>0.41</td>\n",
       "      <td>NaN</td>\n",
       "      <td>NaN</td>\n",
       "      <td>NaN</td>\n",
       "    </tr>\n",
       "    <tr>\n",
       "      <th>609</th>\n",
       "      <td>Space Invaders</td>\n",
       "      <td>2600</td>\n",
       "      <td>NaN</td>\n",
       "      <td>Shooter</td>\n",
       "      <td>2.36</td>\n",
       "      <td>0.14</td>\n",
       "      <td>0.00</td>\n",
       "      <td>0.03</td>\n",
       "      <td>NaN</td>\n",
       "      <td>NaN</td>\n",
       "      <td>NaN</td>\n",
       "    </tr>\n",
       "    <tr>\n",
       "      <th>627</th>\n",
       "      <td>Rock Band</td>\n",
       "      <td>X360</td>\n",
       "      <td>NaN</td>\n",
       "      <td>Misc</td>\n",
       "      <td>1.93</td>\n",
       "      <td>0.33</td>\n",
       "      <td>0.00</td>\n",
       "      <td>0.21</td>\n",
       "      <td>92.0</td>\n",
       "      <td>8.2</td>\n",
       "      <td>T</td>\n",
       "    </tr>\n",
       "    <tr>\n",
       "      <th>657</th>\n",
       "      <td>Frogger's Adventures: Temple of the Frog</td>\n",
       "      <td>GBA</td>\n",
       "      <td>NaN</td>\n",
       "      <td>Adventure</td>\n",
       "      <td>2.15</td>\n",
       "      <td>0.18</td>\n",
       "      <td>0.00</td>\n",
       "      <td>0.07</td>\n",
       "      <td>73.0</td>\n",
       "      <td>tbd</td>\n",
       "      <td>E</td>\n",
       "    </tr>\n",
       "    <tr>\n",
       "      <th>678</th>\n",
       "      <td>LEGO Indiana Jones: The Original Adventures</td>\n",
       "      <td>Wii</td>\n",
       "      <td>NaN</td>\n",
       "      <td>Action</td>\n",
       "      <td>1.51</td>\n",
       "      <td>0.61</td>\n",
       "      <td>0.00</td>\n",
       "      <td>0.21</td>\n",
       "      <td>78.0</td>\n",
       "      <td>6.6</td>\n",
       "      <td>E10+</td>\n",
       "    </tr>\n",
       "    <tr>\n",
       "      <th>719</th>\n",
       "      <td>Call of Duty 3</td>\n",
       "      <td>Wii</td>\n",
       "      <td>NaN</td>\n",
       "      <td>Shooter</td>\n",
       "      <td>1.17</td>\n",
       "      <td>0.84</td>\n",
       "      <td>0.00</td>\n",
       "      <td>0.23</td>\n",
       "      <td>69.0</td>\n",
       "      <td>6.7</td>\n",
       "      <td>T</td>\n",
       "    </tr>\n",
       "    <tr>\n",
       "      <th>805</th>\n",
       "      <td>Rock Band</td>\n",
       "      <td>Wii</td>\n",
       "      <td>NaN</td>\n",
       "      <td>Misc</td>\n",
       "      <td>1.33</td>\n",
       "      <td>0.56</td>\n",
       "      <td>0.00</td>\n",
       "      <td>0.20</td>\n",
       "      <td>80.0</td>\n",
       "      <td>6.3</td>\n",
       "      <td>T</td>\n",
       "    </tr>\n",
       "    <tr>\n",
       "      <th>1131</th>\n",
       "      <td>Call of Duty: Black Ops</td>\n",
       "      <td>PC</td>\n",
       "      <td>NaN</td>\n",
       "      <td>Shooter</td>\n",
       "      <td>0.58</td>\n",
       "      <td>0.81</td>\n",
       "      <td>0.00</td>\n",
       "      <td>0.23</td>\n",
       "      <td>81.0</td>\n",
       "      <td>5.2</td>\n",
       "      <td>M</td>\n",
       "    </tr>\n",
       "    <tr>\n",
       "      <th>1142</th>\n",
       "      <td>Rock Band</td>\n",
       "      <td>PS3</td>\n",
       "      <td>NaN</td>\n",
       "      <td>Misc</td>\n",
       "      <td>0.99</td>\n",
       "      <td>0.41</td>\n",
       "      <td>0.00</td>\n",
       "      <td>0.22</td>\n",
       "      <td>92.0</td>\n",
       "      <td>8.4</td>\n",
       "      <td>T</td>\n",
       "    </tr>\n",
       "    <tr>\n",
       "      <th>1301</th>\n",
       "      <td>Triple Play 99</td>\n",
       "      <td>PS</td>\n",
       "      <td>NaN</td>\n",
       "      <td>Sports</td>\n",
       "      <td>0.81</td>\n",
       "      <td>0.55</td>\n",
       "      <td>0.00</td>\n",
       "      <td>0.10</td>\n",
       "      <td>NaN</td>\n",
       "      <td>NaN</td>\n",
       "      <td>NaN</td>\n",
       "    </tr>\n",
       "    <tr>\n",
       "      <th>1506</th>\n",
       "      <td>Adventure</td>\n",
       "      <td>2600</td>\n",
       "      <td>NaN</td>\n",
       "      <td>Adventure</td>\n",
       "      <td>1.21</td>\n",
       "      <td>0.08</td>\n",
       "      <td>0.00</td>\n",
       "      <td>0.01</td>\n",
       "      <td>NaN</td>\n",
       "      <td>NaN</td>\n",
       "      <td>NaN</td>\n",
       "    </tr>\n",
       "    <tr>\n",
       "      <th>1538</th>\n",
       "      <td>LEGO Batman: The Videogame</td>\n",
       "      <td>PSP</td>\n",
       "      <td>NaN</td>\n",
       "      <td>Action</td>\n",
       "      <td>0.57</td>\n",
       "      <td>0.44</td>\n",
       "      <td>0.00</td>\n",
       "      <td>0.27</td>\n",
       "      <td>73.0</td>\n",
       "      <td>7.4</td>\n",
       "      <td>E10+</td>\n",
       "    </tr>\n",
       "  </tbody>\n",
       "</table>\n",
       "</div>"
      ],
      "text/plain": [
       "                                             name platform  year_of_release  \\\n",
       "183                               Madden NFL 2004      PS2              NaN   \n",
       "377                              FIFA Soccer 2004      PS2              NaN   \n",
       "456                    LEGO Batman: The Videogame      Wii              NaN   \n",
       "475                    wwe Smackdown vs. Raw 2006      PS2              NaN   \n",
       "609                                Space Invaders     2600              NaN   \n",
       "627                                     Rock Band     X360              NaN   \n",
       "657      Frogger's Adventures: Temple of the Frog      GBA              NaN   \n",
       "678   LEGO Indiana Jones: The Original Adventures      Wii              NaN   \n",
       "719                                Call of Duty 3      Wii              NaN   \n",
       "805                                     Rock Band      Wii              NaN   \n",
       "1131                      Call of Duty: Black Ops       PC              NaN   \n",
       "1142                                    Rock Band      PS3              NaN   \n",
       "1301                               Triple Play 99       PS              NaN   \n",
       "1506                                    Adventure     2600              NaN   \n",
       "1538                   LEGO Batman: The Videogame      PSP              NaN   \n",
       "\n",
       "          genre  na_sales  eu_sales  jp_sales  other_sales  critic_score  \\\n",
       "183      Sports      4.26      0.26      0.01         0.71          94.0   \n",
       "377      Sports      0.59      2.36      0.04         0.51          84.0   \n",
       "456      Action      1.80      0.97      0.00         0.29          74.0   \n",
       "475    Fighting      1.57      1.02      0.00         0.41           NaN   \n",
       "609     Shooter      2.36      0.14      0.00         0.03           NaN   \n",
       "627        Misc      1.93      0.33      0.00         0.21          92.0   \n",
       "657   Adventure      2.15      0.18      0.00         0.07          73.0   \n",
       "678      Action      1.51      0.61      0.00         0.21          78.0   \n",
       "719     Shooter      1.17      0.84      0.00         0.23          69.0   \n",
       "805        Misc      1.33      0.56      0.00         0.20          80.0   \n",
       "1131    Shooter      0.58      0.81      0.00         0.23          81.0   \n",
       "1142       Misc      0.99      0.41      0.00         0.22          92.0   \n",
       "1301     Sports      0.81      0.55      0.00         0.10           NaN   \n",
       "1506  Adventure      1.21      0.08      0.00         0.01           NaN   \n",
       "1538     Action      0.57      0.44      0.00         0.27          73.0   \n",
       "\n",
       "     user_score rating  \n",
       "183         8.5      E  \n",
       "377         6.4      E  \n",
       "456         7.9   E10+  \n",
       "475         NaN    NaN  \n",
       "609         NaN    NaN  \n",
       "627         8.2      T  \n",
       "657         tbd      E  \n",
       "678         6.6   E10+  \n",
       "719         6.7      T  \n",
       "805         6.3      T  \n",
       "1131        5.2      M  \n",
       "1142        8.4      T  \n",
       "1301        NaN    NaN  \n",
       "1506        NaN    NaN  \n",
       "1538        7.4   E10+  "
      ]
     },
     "execution_count": 91,
     "metadata": {},
     "output_type": "execute_result"
    }
   ],
   "source": [
    "df[df['year_of_release'].isna() == True].head(15) # срез с пропущенным годом выпуска"
   ]
  },
  {
   "cell_type": "markdown",
   "metadata": {},
   "source": [
    "Год издания - дата, которую не подставить средним значением или медианой, причем доля пропусков всего 1,6%, поэтому предлагаю их вообще не трогать `(по итогу удобнее вышло заменить пропуски числом, отличным от наших данных и перевести для лаконичности год в формат 'int'). Без заполнения NaN у меня упорно не переводится число года в \"int\", чтобы избавиться от нулей после точки.`\n",
    "\n",
    "Судя по шапке среза данных, игры с пропущенным годом очень разнообразны как по платформе, так и по жанру и отзывам, причиной пропусков может быть как неправильная выгрузка данных, так и просто их изначальное отсутствие."
   ]
  },
  {
   "cell_type": "code",
   "execution_count": 92,
   "metadata": {},
   "outputs": [
    {
     "name": "stdout",
     "output_type": "stream",
     "text": [
      "Внимание, ошибка!\n",
      "<class 'pandas.core.frame.DataFrame'>\n",
      "RangeIndex: 16715 entries, 0 to 16714\n",
      "Data columns (total 11 columns):\n",
      " #   Column           Non-Null Count  Dtype  \n",
      "---  ------           --------------  -----  \n",
      " 0   name             16713 non-null  object \n",
      " 1   platform         16715 non-null  object \n",
      " 2   year_of_release  16715 non-null  int64  \n",
      " 3   genre            16713 non-null  object \n",
      " 4   na_sales         16715 non-null  float64\n",
      " 5   eu_sales         16715 non-null  float64\n",
      " 6   jp_sales         16715 non-null  float64\n",
      " 7   other_sales      16715 non-null  float64\n",
      " 8   critic_score     8137 non-null   float64\n",
      " 9   user_score       10014 non-null  object \n",
      " 10  rating           9949 non-null   object \n",
      "dtypes: float64(5), int64(1), object(5)\n",
      "memory usage: 1.4+ MB\n"
     ]
    }
   ],
   "source": [
    "# манипуляции с годом\n",
    "df['year_of_release'] = df['year_of_release'].fillna(999).astype('int')\n",
    "try:\n",
    "    df['user_score'] = pd.to_numeric(df['user_score']) # перевожу тип данных в числовой\n",
    "except:\n",
    "    print('Внимание, ошибка!')\n",
    "    \n",
    "df.info()"
   ]
  },
  {
   "cell_type": "markdown",
   "metadata": {},
   "source": [
    "Функция перевода типа данных пользовательского рейтинга выдает ошибку, стоит остановиться на значениях более подробно."
   ]
  },
  {
   "cell_type": "code",
   "execution_count": 93,
   "metadata": {},
   "outputs": [
    {
     "data": {
      "text/plain": [
       "array(['8', nan, '8.3', '8.5', '6.6', '8.4', '8.6', '7.7', '6.3', '7.4',\n",
       "       '8.2', '9', '7.9', '8.1', '8.7', '7.1', '3.4', '5.3', '4.8', '3.2',\n",
       "       '8.9', '6.4', '7.8', '7.5', '2.6', '7.2', '9.2', '7', '7.3', '4.3',\n",
       "       '7.6', '5.7', '5', '9.1', '6.5', 'tbd', '8.8', '6.9', '9.4', '6.8',\n",
       "       '6.1', '6.7', '5.4', '4', '4.9', '4.5', '9.3', '6.2', '4.2', '6',\n",
       "       '3.7', '4.1', '5.8', '5.6', '5.5', '4.4', '4.6', '5.9', '3.9',\n",
       "       '3.1', '2.9', '5.2', '3.3', '4.7', '5.1', '3.5', '2.5', '1.9', '3',\n",
       "       '2.7', '2.2', '2', '9.5', '2.1', '3.6', '2.8', '1.8', '3.8', '0',\n",
       "       '1.6', '9.6', '2.4', '1.7', '1.1', '0.3', '1.5', '0.7', '1.2',\n",
       "       '2.3', '0.5', '1.3', '0.2', '0.6', '1.4', '0.9', '1', '9.7'],\n",
       "      dtype=object)"
      ]
     },
     "execution_count": 93,
     "metadata": {},
     "output_type": "execute_result"
    }
   ],
   "source": [
    "df['user_score'].unique() # уникальные значения рейтинга пользователей"
   ]
  },
  {
   "cell_type": "markdown",
   "metadata": {},
   "source": [
    "Среди оценок затесалось значение `tbd`: to be determined. Проще говоря, рейтинг не определен, а для нас это то же самое, что и пропуск."
   ]
  },
  {
   "cell_type": "code",
   "execution_count": 94,
   "metadata": {},
   "outputs": [
    {
     "name": "stdout",
     "output_type": "stream",
     "text": [
      "<class 'pandas.core.frame.DataFrame'>\n",
      "RangeIndex: 16715 entries, 0 to 16714\n",
      "Data columns (total 11 columns):\n",
      " #   Column           Non-Null Count  Dtype  \n",
      "---  ------           --------------  -----  \n",
      " 0   name             16713 non-null  object \n",
      " 1   platform         16715 non-null  object \n",
      " 2   year_of_release  16715 non-null  int64  \n",
      " 3   genre            16713 non-null  object \n",
      " 4   na_sales         16715 non-null  float64\n",
      " 5   eu_sales         16715 non-null  float64\n",
      " 6   jp_sales         16715 non-null  float64\n",
      " 7   other_sales      16715 non-null  float64\n",
      " 8   critic_score     8137 non-null   float64\n",
      " 9   user_score       7590 non-null   float64\n",
      " 10  rating           9949 non-null   object \n",
      "dtypes: float64(6), int64(1), object(4)\n",
      "memory usage: 1.4+ MB\n"
     ]
    }
   ],
   "source": [
    "df['user_score'] = df['user_score'].replace('tbd', np.nan) # вместо tbd = пока что NaN\n",
    "df['user_score'] = pd.to_numeric(df['user_score'], errors='ignore') # повторно меняю тип\n",
    "df.info() "
   ]
  },
  {
   "cell_type": "code",
   "execution_count": 95,
   "metadata": {},
   "outputs": [
    {
     "data": {
      "text/plain": [
       "action          3369\n",
       "sports          2348\n",
       "misc            1750\n",
       "role-playing    1498\n",
       "shooter         1323\n",
       "adventure       1303\n",
       "racing          1249\n",
       "platform         888\n",
       "simulation       873\n",
       "fighting         849\n",
       "strategy         683\n",
       "puzzle           580\n",
       "Name: genre, dtype: int64"
      ]
     },
     "execution_count": 95,
     "metadata": {},
     "output_type": "execute_result"
    }
   ],
   "source": [
    "df['genre'] = df['genre'].str.lower() # к нижнему регистру\n",
    "df['platform'] = df['platform'].str.lower()\n",
    "df['genre'].value_counts()"
   ]
  },
  {
   "cell_type": "code",
   "execution_count": 96,
   "metadata": {},
   "outputs": [
    {
     "data": {
      "text/plain": [
       "name                  2\n",
       "platform              0\n",
       "year_of_release       0\n",
       "genre                 2\n",
       "na_sales              0\n",
       "eu_sales              0\n",
       "jp_sales              0\n",
       "other_sales           0\n",
       "critic_score       8578\n",
       "user_score         9125\n",
       "rating             6766\n",
       "dtype: int64"
      ]
     },
     "execution_count": 96,
     "metadata": {},
     "output_type": "execute_result"
    }
   ],
   "source": [
    "df.isna().sum() # смотрим пропуски"
   ]
  },
  {
   "cell_type": "code",
   "execution_count": 97,
   "metadata": {},
   "outputs": [
    {
     "data": {
      "text/html": [
       "<div>\n",
       "<style scoped>\n",
       "    .dataframe tbody tr th:only-of-type {\n",
       "        vertical-align: middle;\n",
       "    }\n",
       "\n",
       "    .dataframe tbody tr th {\n",
       "        vertical-align: top;\n",
       "    }\n",
       "\n",
       "    .dataframe thead th {\n",
       "        text-align: right;\n",
       "    }\n",
       "</style>\n",
       "<table border=\"1\" class=\"dataframe\">\n",
       "  <thead>\n",
       "    <tr style=\"text-align: right;\">\n",
       "      <th></th>\n",
       "      <th>name</th>\n",
       "      <th>platform</th>\n",
       "      <th>year_of_release</th>\n",
       "      <th>genre</th>\n",
       "      <th>na_sales</th>\n",
       "      <th>eu_sales</th>\n",
       "      <th>jp_sales</th>\n",
       "      <th>other_sales</th>\n",
       "      <th>critic_score</th>\n",
       "      <th>user_score</th>\n",
       "      <th>rating</th>\n",
       "    </tr>\n",
       "  </thead>\n",
       "  <tbody>\n",
       "    <tr>\n",
       "      <th>659</th>\n",
       "      <td>NaN</td>\n",
       "      <td>gen</td>\n",
       "      <td>1993</td>\n",
       "      <td>NaN</td>\n",
       "      <td>1.78</td>\n",
       "      <td>0.53</td>\n",
       "      <td>0.00</td>\n",
       "      <td>0.08</td>\n",
       "      <td>NaN</td>\n",
       "      <td>NaN</td>\n",
       "      <td>NaN</td>\n",
       "    </tr>\n",
       "    <tr>\n",
       "      <th>14244</th>\n",
       "      <td>NaN</td>\n",
       "      <td>gen</td>\n",
       "      <td>1993</td>\n",
       "      <td>NaN</td>\n",
       "      <td>0.00</td>\n",
       "      <td>0.00</td>\n",
       "      <td>0.03</td>\n",
       "      <td>0.00</td>\n",
       "      <td>NaN</td>\n",
       "      <td>NaN</td>\n",
       "      <td>NaN</td>\n",
       "    </tr>\n",
       "  </tbody>\n",
       "</table>\n",
       "</div>"
      ],
      "text/plain": [
       "      name platform  year_of_release genre  na_sales  eu_sales  jp_sales  \\\n",
       "659    NaN      gen             1993   NaN      1.78      0.53      0.00   \n",
       "14244  NaN      gen             1993   NaN      0.00      0.00      0.03   \n",
       "\n",
       "       other_sales  critic_score  user_score rating  \n",
       "659           0.08           NaN         NaN    NaN  \n",
       "14244         0.00           NaN         NaN    NaN  "
      ]
     },
     "execution_count": 97,
     "metadata": {},
     "output_type": "execute_result"
    }
   ],
   "source": [
    "df[df['name'].isna() == True] # пропущенные названия игр"
   ]
  },
  {
   "cell_type": "markdown",
   "metadata": {},
   "source": [
    "Судя по заполненности данных, коих мало, можем от них смело избавиться."
   ]
  },
  {
   "cell_type": "code",
   "execution_count": 98,
   "metadata": {},
   "outputs": [],
   "source": [
    "df = df.dropna(subset=['name']).reset_index(drop=True) # удаляем строки с пропусками в названиях"
   ]
  },
  {
   "cell_type": "markdown",
   "metadata": {},
   "source": [
    "Возникает большой вопрос, что же мы будем делать с рейтингами и оценками игр? Больше половины данных отсутствует, опять же заполнением медианой мы только сделаем хуже и исказим вычисления. Удалением этих данных мы так же испортим будущие расчеты о продажах и предпочтениях ЦА каждого региона. Чтобы оставить эти данные, но так, чтобы они ничего не искажали, можно заменить значения резко выделяющимся числом, нам будет видно его на графиках, и если что будущие данные можно будет фильтровать по нему.\n",
    "\n",
    "Вот какая есть информация о возрастном рейтинге, который выставляется ассоциацией ESRB. Нам, к слову, отлично подходит значение RP - можно заменить пропуски им.\n",
    "* **EC и K-A** - для детей от 3 лет\n",
    "* **E** - для всех от 6 лет\n",
    "* **E10+** - для всех от 10 лет\n",
    "* **T** - подросткам от 13 лет\n",
    "* **M** - для взрослых от 17 лет\n",
    "* **RP** - рейтинг ожидается\n",
    "* **AO** - только для взрослых 18+\n",
    "\n",
    "Неплохой вариант добавить отдельный столбец с расшифровкой всех аббревиатур, чтобы потом было удобнее интерпретировать результаты. Например, для всех, для детей от 10 лет, для взрослых от 17 лет, рейтинг не определен."
   ]
  },
  {
   "cell_type": "code",
   "execution_count": 99,
   "metadata": {},
   "outputs": [
    {
     "data": {
      "text/plain": [
       "NaN     6764\n",
       "E       3990\n",
       "T       2961\n",
       "M       1563\n",
       "E10+    1420\n",
       "EC         8\n",
       "RP         3\n",
       "K-A        3\n",
       "AO         1\n",
       "Name: rating, dtype: int64"
      ]
     },
     "execution_count": 99,
     "metadata": {},
     "output_type": "execute_result"
    }
   ],
   "source": [
    "df['rating'].value_counts(dropna=False) # проверяем, что никаких рейтингов помимо вышеуказанных тут не наблюдается"
   ]
  },
  {
   "cell_type": "code",
   "execution_count": 100,
   "metadata": {
    "scrolled": true
   },
   "outputs": [],
   "source": [
    "# ставим значениe RP и учитываем, что в будущем анализе это означает отсутствие рейтинга\n",
    "\n",
    "df['rating'] = df['rating'].fillna('RP') "
   ]
  },
  {
   "cell_type": "code",
   "execution_count": 101,
   "metadata": {
    "scrolled": true
   },
   "outputs": [],
   "source": [
    "# столбец с понятным классификатором (упрощенный)\n",
    "\n",
    "def rating_def(df):\n",
    "    rating = df['rating']\n",
    "    if rating in ['EC','K-A','E']:\n",
    "        return 'для всех'\n",
    "    elif rating in ['E10+','T']:\n",
    "        return 'дети от 10 лет'\n",
    "    elif rating in ['M','AO']:\n",
    "        return 'взрослые от 17 лет'\n",
    "    else:\n",
    "        return 'без рейтинга'\n",
    "\n",
    "df['new_rating'] = df.apply(rating_def, axis=1)"
   ]
  },
  {
   "cell_type": "code",
   "execution_count": 102,
   "metadata": {},
   "outputs": [
    {
     "data": {
      "text/plain": [
       "без рейтинга          6767\n",
       "дети от 10 лет        4381\n",
       "для всех              4001\n",
       "взрослые от 17 лет    1564\n",
       "Name: new_rating, dtype: int64"
      ]
     },
     "execution_count": 102,
     "metadata": {},
     "output_type": "execute_result"
    }
   ],
   "source": [
    "df['new_rating'].value_counts()"
   ]
  },
  {
   "cell_type": "code",
   "execution_count": 103,
   "metadata": {},
   "outputs": [
    {
     "data": {
      "text/plain": [
       "name               0\n",
       "platform           0\n",
       "year_of_release    0\n",
       "genre              0\n",
       "na_sales           0\n",
       "eu_sales           0\n",
       "jp_sales           0\n",
       "other_sales        0\n",
       "critic_score       0\n",
       "user_score         0\n",
       "rating             0\n",
       "new_rating         0\n",
       "dtype: int64"
      ]
     },
     "execution_count": 103,
     "metadata": {},
     "output_type": "execute_result"
    }
   ],
   "source": [
    "df['critic_score'] = df['critic_score'].fillna(999) # ставим значение-затычку для пропусков оценок\n",
    "df['user_score'] = df['user_score'].fillna(999) \n",
    "df.isna().sum()"
   ]
  },
  {
   "cell_type": "code",
   "execution_count": 104,
   "metadata": {},
   "outputs": [],
   "source": [
    "df['total_sales'] = df['na_sales'] + df['eu_sales'] + df['jp_sales'] + df['other_sales'] # столбец с общими продажами"
   ]
  },
  {
   "cell_type": "markdown",
   "metadata": {},
   "source": [
    "## Исследовательский анализ данных"
   ]
  },
  {
   "cell_type": "markdown",
   "metadata": {},
   "source": [
    "### Определение актуального периода"
   ]
  },
  {
   "cell_type": "markdown",
   "metadata": {},
   "source": [
    "Посмотрим на графике, сколько игр выпускалось каждый год."
   ]
  },
  {
   "cell_type": "code",
   "execution_count": 105,
   "metadata": {
    "scrolled": false
   },
   "outputs": [
    {
     "data": {
      "image/png": "[encoded data removed]",
      "text/plain": [
       "<Figure size 1440x720 with 1 Axes>"
      ]
     },
     "metadata": {
      "needs_background": "light"
     },
     "output_type": "display_data"
    }
   ],
   "source": [
    "plt.figure(figsize=[20, 10]) \n",
    "df_game = (df\n",
    "           .query('year_of_release != 999')\n",
    "           .groupby('year_of_release')['name'].count()    # группируем данные по году релиза и строим график\n",
    "          )\n",
    "color = ['#162d7d', '#37abb8']\n",
    "df_game.plot(kind='bar', grid=True, color=color)\n",
    "plt.title('Объем игрового рынка с 1980 по 2016 год', fontsize=17)\n",
    "plt.ylabel('Количество выпущенных игр', fontsize = 15)\n",
    "plt.xlabel('Год выпуска игр', fontsize=15)\n",
    "plt.tick_params(axis='both', labelsize=15)\n",
    "plt.show()"
   ]
  },
  {
   "cell_type": "markdown",
   "metadata": {},
   "source": [
    "Игры до 1994 года выходили крайне редко, после начинается глобальное развитие: пик релизов приходится на период с 2007 по 2011 годы (на самом деле золотое время шедевров). С 2012 наблюдается сильный спад, который сохраняется и в 2016 году, в нем было выпущено всего около 500 игр. Дают о себе знать мобильные платформы, многие геймеры постепенно перекочевали туда, да и рынок перенасытился игровыми новинками). Хотелось бы, конечно, в будущем увидеть новые данные, чтобы подтвердить свои предположения.\n",
    "\n",
    "Данные о предыдущих годах помогут нам сформировать портрет типичного пользователя каждого выделенного региона, однако для прогнозирования продаж и будущих рекламных компаний нам важны актуальные данные. Пока что предполагаем таковой с 2012 по 2016 год, более точно определимся после анализа платформ."
   ]
  },
  {
   "cell_type": "markdown",
   "metadata": {},
   "source": [
    "### Анализ популярных платформ"
   ]
  },
  {
   "cell_type": "code",
   "execution_count": 106,
   "metadata": {},
   "outputs": [],
   "source": [
    "df_platform = (df\n",
    "               .pivot_table(index='platform', values='total_sales', aggfunc='sum')\n",
    "               .sort_values(by='total_sales', ascending=False)\n",
    "               .head(10)\n",
    "              )\n",
    "# сделаем список платформ с наибольшими суммарными продажами: сначала сводную таблицу по продажам, \n",
    "# потом сортировка по убыванию и сохраним первые десять позиций"
   ]
  },
  {
   "cell_type": "markdown",
   "metadata": {},
   "source": [
    "Первые 10 позиций войдут в наш список самых крутых прибыльных платформ. На основе него построим распределение по годам и продажам."
   ]
  },
  {
   "cell_type": "code",
   "execution_count": 107,
   "metadata": {
    "scrolled": false
   },
   "outputs": [
    {
     "data": {
      "text/plain": [
       "<AxesSubplot:title={'center':'Распределение продаж по годам 10-ти самых прибыльных платформ'}, xlabel='Год выпуска игр', ylabel='Количество проданных игр, млн.копий'>"
      ]
     },
     "execution_count": 107,
     "metadata": {},
     "output_type": "execute_result"
    },
    {
     "data": {
      "image/png": "[encoded data removed]",
      "text/plain": [
       "<Figure size 1080x504 with 1 Axes>"
      ]
     },
     "metadata": {
      "needs_background": "light"
     },
     "output_type": "display_data"
    }
   ],
   "source": [
    "(\n",
    "    df\n",
    "    .query('platform in @df_platform.index and year_of_release != 999')\n",
    "    .pivot_table(index='year_of_release', columns='platform', values='total_sales', aggfunc='sum')\n",
    "    .plot(figsize=(15,7), style='o-', grid=True, \n",
    "          xlabel= 'Год выпуска игр', \n",
    "          ylabel= ('Количество проданных игр, млн.копий'),\n",
    "          title='Распределение продаж по годам 10-ти самых прибыльных платформ')\n",
    ")"
   ]
  },
  {
   "cell_type": "markdown",
   "metadata": {},
   "source": [
    "Итак, взглянем на получившиеся графики. В первую очередь заметна линия PC - за все время продажи стабильно не поднимаются выше 45 миллионов копий, был пик в начале 10-х годов, сейчас наблюдается спад (тот самый пик золотых шедевров). Платформа PS вошла на рынок в 94-ом, в 1998 был пик ее популярности и после - такое же резкое угасание, в среднем платформа \"жила\" пять лет (подразумеваются активные продажи). Приставка PS2 - бурный взрыв с 2001 по 2005. Wii: грандиозная выручка в 2009 и почти моментальное падение. Наблюдается некая закономерность: **большинство приставок имеют свой \"цикл жизни\" в среднем 5 лет**, после еще пару-тройку лет поддерживаются производителем и уходят с рынка. PC стоит особняком, его доходы ежегодно малы, но зато стабильны и с рынка компьютеры уходить точно не собираются. Относительно новой остается PS4 (ну это на 2016 год, разумеется).\n",
    "\n",
    "У нас есть цель: спрогнозировать кампанию на 2017 год. Мы знаем, что:\n",
    "* После пика конца нулевых рынок игр с 2012 года находится в упадке, но стабилен\n",
    "* Среднее время жизни новых платформ - пять лет\n",
    "\n",
    "На основе этого актуальным периодом правильно выбрать промежуток с 2012 по 2016 год: мы как раз увидим тенденции продаж на приставках, и объемы рынка будут примерно соответствовать ожидаемым."
   ]
  },
  {
   "cell_type": "code",
   "execution_count": 108,
   "metadata": {},
   "outputs": [],
   "source": [
    "df_actual = df.query('year_of_release >= 2012') # наша актуальная выборка"
   ]
  },
  {
   "cell_type": "code",
   "execution_count": 109,
   "metadata": {},
   "outputs": [
    {
     "data": {
      "text/html": [
       "<div>\n",
       "<style scoped>\n",
       "    .dataframe tbody tr th:only-of-type {\n",
       "        vertical-align: middle;\n",
       "    }\n",
       "\n",
       "    .dataframe tbody tr th {\n",
       "        vertical-align: top;\n",
       "    }\n",
       "\n",
       "    .dataframe thead th {\n",
       "        text-align: right;\n",
       "    }\n",
       "</style>\n",
       "<table border=\"1\" class=\"dataframe\">\n",
       "  <thead>\n",
       "    <tr style=\"text-align: right;\">\n",
       "      <th></th>\n",
       "      <th>total_sales</th>\n",
       "    </tr>\n",
       "    <tr>\n",
       "      <th>platform</th>\n",
       "      <th></th>\n",
       "    </tr>\n",
       "  </thead>\n",
       "  <tbody>\n",
       "    <tr>\n",
       "      <th>ps4</th>\n",
       "      <td>314.14</td>\n",
       "    </tr>\n",
       "    <tr>\n",
       "      <th>ps3</th>\n",
       "      <td>288.79</td>\n",
       "    </tr>\n",
       "    <tr>\n",
       "      <th>x360</th>\n",
       "      <td>236.54</td>\n",
       "    </tr>\n",
       "    <tr>\n",
       "      <th>3ds</th>\n",
       "      <td>194.61</td>\n",
       "    </tr>\n",
       "    <tr>\n",
       "      <th>xone</th>\n",
       "      <td>159.32</td>\n",
       "    </tr>\n",
       "    <tr>\n",
       "      <th>wiiu</th>\n",
       "      <td>82.19</td>\n",
       "    </tr>\n",
       "    <tr>\n",
       "      <th>pc</th>\n",
       "      <td>62.65</td>\n",
       "    </tr>\n",
       "    <tr>\n",
       "      <th>psv</th>\n",
       "      <td>49.18</td>\n",
       "    </tr>\n",
       "    <tr>\n",
       "      <th>wii</th>\n",
       "      <td>35.37</td>\n",
       "    </tr>\n",
       "    <tr>\n",
       "      <th>ds</th>\n",
       "      <td>12.55</td>\n",
       "    </tr>\n",
       "    <tr>\n",
       "      <th>psp</th>\n",
       "      <td>11.19</td>\n",
       "    </tr>\n",
       "  </tbody>\n",
       "</table>\n",
       "</div>"
      ],
      "text/plain": [
       "          total_sales\n",
       "platform             \n",
       "ps4            314.14\n",
       "ps3            288.79\n",
       "x360           236.54\n",
       "3ds            194.61\n",
       "xone           159.32\n",
       "wiiu            82.19\n",
       "pc              62.65\n",
       "psv             49.18\n",
       "wii             35.37\n",
       "ds              12.55\n",
       "psp             11.19"
      ]
     },
     "execution_count": 109,
     "metadata": {},
     "output_type": "execute_result"
    }
   ],
   "source": [
    "(df_actual\n",
    " .pivot_table(index='platform', values='total_sales', aggfunc='sum')\n",
    " .sort_values(by='total_sales', ascending=False)\n",
    ")\n",
    "\n",
    "# рейтинг платформ по продажам за актуальный период"
   ]
  },
  {
   "cell_type": "code",
   "execution_count": 110,
   "metadata": {
    "scrolled": false
   },
   "outputs": [
    {
     "data": {
      "text/plain": [
       "<AxesSubplot:title={'center':'Распределение продаж за актуальный период'}, xlabel='Год выпуска игр', ylabel='Количество проданных игр, млн.копий'>"
      ]
     },
     "execution_count": 110,
     "metadata": {},
     "output_type": "execute_result"
    },
    {
     "data": {
      "image/png": "[encoded data removed]",
      "text/plain": [
       "<Figure size 1080x504 with 1 Axes>"
      ]
     },
     "metadata": {
      "needs_background": "light"
     },
     "output_type": "display_data"
    }
   ],
   "source": [
    "(\n",
    "    df_actual\n",
    "    .pivot_table(index='year_of_release', columns='platform', values='total_sales', aggfunc='sum')\n",
    "    .plot(kind='bar', figsize=(15,7), grid=True, \n",
    "          xlabel='Год выпуска игр',\n",
    "          ylabel='Количество проданных игр, млн.копий',\n",
    "          title='Распределение продаж за актуальный период')\n",
    ")\n",
    "\n",
    "# график продаж по годам в актуальной выборке"
   ]
  },
  {
   "cell_type": "markdown",
   "metadata": {},
   "source": [
    "Вот что можно сказать о нашей пятерке платформ из сводной таблицы:\n",
    "- PS4 (и сейчас остается в топе)\n",
    "- PS3 (тень былых времен, в 2017 о популярности речи уже не идет (смотрим график выше)\n",
    "- X360 (уже не актуально)\n",
    "- 3DS (Nintendo пока еще интересен публике)\n",
    "- XOne (пытается догнать Playstation и имеет какую-то долю на рынке)\n",
    "\n",
    "К *потенциально прибыльным в 2017 платформам* в итоге отнесём: \n",
    "- **PS4** - самая актуальная.\n",
    "- **Nintendo 3DS**\n",
    "- **XBox One**\n",
    "- **Nintendo WiiU** (с натяжкой, помним, что в 2016 был анонсирован преемник Nintendo Switch...)\n",
    "- **PC** - почему? Потому что в отличии от остальных приставок продажи на пк всегда стабильны.\n"
   ]
  },
  {
   "cell_type": "code",
   "execution_count": 111,
   "metadata": {
    "scrolled": false
   },
   "outputs": [
    {
     "data": {
      "text/plain": [
       "<AxesSubplot:title={'center':'total_sales'}, xlabel='platform'>"
      ]
     },
     "execution_count": 111,
     "metadata": {},
     "output_type": "execute_result"
    },
    {
     "data": {
      "image/png": "[encoded data removed]",
      "text/plain": [
       "<Figure size 648x648 with 1 Axes>"
      ]
     },
     "metadata": {
      "needs_background": "light"
     },
     "output_type": "display_data"
    }
   ],
   "source": [
    "# диаграмма размаха продаж по выбранным платформам\n",
    "platforms = ['ps4', '3ds', 'xone', 'wiiu', 'pc'] # актуальные платформы\n",
    "(df_actual\n",
    " .query('platform in @platforms')\n",
    " .boxplot(by='platform', column='total_sales', figsize=(9,9))\n",
    ")"
   ]
  },
  {
   "cell_type": "markdown",
   "metadata": {},
   "source": [
    "Полученная диаграмма недостаточно подходит для формирования каких-либо выводов, медиану практически не видно, заметно только что крупные запуски были на нинтендо 3ds и ps4. Попробуем уточнить её вывод."
   ]
  },
  {
   "cell_type": "code",
   "execution_count": 112,
   "metadata": {
    "scrolled": false
   },
   "outputs": [
    {
     "data": {
      "text/plain": [
       "(0.0, 1.0)"
      ]
     },
     "execution_count": 112,
     "metadata": {},
     "output_type": "execute_result"
    },
    {
     "data": {
      "image/png": "[encoded data removed]",
      "text/plain": [
       "<Figure size 648x648 with 1 Axes>"
      ]
     },
     "metadata": {
      "needs_background": "light"
     },
     "output_type": "display_data"
    }
   ],
   "source": [
    "boxplot = (df_actual\n",
    "           .query('platform in @platforms')\n",
    "           .boxplot(by='platform', column='total_sales', figsize=(9,9))\n",
    "          )\n",
    "boxplot.set_ylim([0, 1])"
   ]
  },
  {
   "cell_type": "markdown",
   "metadata": {},
   "source": [
    "Теперь можно остановиться на \"ящиках с усами\" поподробнее. На графике хорошо видно, что медиана продаж не поднимается выше 0,2 млн.копий, причем только у двух платформ: WiiU и Xbox One. Данные у всех платформ расположены несимметрично, третий квартиль расположен сильно дальше от медианы, чем нижний.\n",
    "\n",
    "Может быть на Нинтендо и есть крупые запуски, но именно у двух популярных игровых консолей PS4 и Xbox One наибольшая прибыль: 25% игр у каждой из них продается более чем на 700 тыс.копий."
   ]
  },
  {
   "cell_type": "markdown",
   "metadata": {},
   "source": [
    "### Взаимосвязь рейтингов игр и продаж"
   ]
  },
  {
   "cell_type": "code",
   "execution_count": 113,
   "metadata": {},
   "outputs": [],
   "source": [
    "def scatter_platform(data, gaming):\n",
    "    data_plot = data[(data['platform'] == gaming) & (data['user_score'] != 999) & (data['critic_score'] != 999)]\n",
    "    user_corr = data_plot['user_score'].corr(data_plot['total_sales'])\n",
    "    critic_corr = data_plot['critic_score'].corr(data_plot['total_sales'])\n",
    "    print(f'Исследуемая платформа: {gaming}')\n",
    "    print(f'Корреляция отзывов пользователей и объема продаж: {user_corr}')\n",
    "    print(f'Корреляция отзывов критиков и объема продаж: {critic_corr}')\n",
    "    data_plot.plot(x='user_score', y='total_sales', kind='scatter', figsize=(4,4), alpha=0.5)\n",
    "    plt.show()\n",
    "    data_plot.plot(x='critic_score', y='total_sales', kind='scatter', figsize=(4,4), alpha=0.5)\n",
    "    plt.show()\n",
    "    \n",
    "# функция для визуализации зависимости между продажами и отзывами пользователей и критиков на каждой актуальной платформе"
   ]
  },
  {
   "cell_type": "code",
   "execution_count": 114,
   "metadata": {},
   "outputs": [
    {
     "name": "stdout",
     "output_type": "stream",
     "text": [
      "Исследуемая платформа: ps4\n",
      "Корреляция отзывов пользователей и объема продаж: -0.03362497596528878\n",
      "Корреляция отзывов критиков и объема продаж: 0.40589480145836687\n"
     ]
    },
    {
     "data": {
      "image/png": "[encoded data removed]",
      "text/plain": [
       "<Figure size 288x288 with 1 Axes>"
      ]
     },
     "metadata": {
      "needs_background": "light"
     },
     "output_type": "display_data"
    },
    {
     "data": {
      "image/png": "[encoded data removed]",
      "text/plain": [
       "<Figure size 288x288 with 1 Axes>"
      ]
     },
     "metadata": {
      "needs_background": "light"
     },
     "output_type": "display_data"
    }
   ],
   "source": [
    "scatter_platform(df_actual, 'ps4') # диаграмма рассеяния для ps4"
   ]
  },
  {
   "cell_type": "code",
   "execution_count": 115,
   "metadata": {},
   "outputs": [
    {
     "name": "stdout",
     "output_type": "stream",
     "text": [
      "Исследуемая платформа: pc\n",
      "Корреляция отзывов пользователей и объема продаж: -0.1369335107338787\n",
      "Корреляция отзывов критиков и объема продаж: 0.23600773618792362\n"
     ]
    },
    {
     "data": {
      "image/png": "[encoded data removed]",
      "text/plain": [
       "<Figure size 288x288 with 1 Axes>"
      ]
     },
     "metadata": {
      "needs_background": "light"
     },
     "output_type": "display_data"
    },
    {
     "data": {
      "image/png": "[encoded data removed]",
      "text/plain": [
       "<Figure size 288x288 with 1 Axes>"
      ]
     },
     "metadata": {
      "needs_background": "light"
     },
     "output_type": "display_data"
    }
   ],
   "source": [
    "scatter_platform(df_actual, 'pc') # диаграмма рассеяния для pc"
   ]
  },
  {
   "cell_type": "code",
   "execution_count": 116,
   "metadata": {},
   "outputs": [
    {
     "name": "stdout",
     "output_type": "stream",
     "text": [
      "Исследуемая платформа: xone\n",
      "Корреляция отзывов пользователей и объема продаж: -0.09400318326920852\n",
      "Корреляция отзывов критиков и объема продаж: 0.41042203561296375\n"
     ]
    },
    {
     "data": {
      "image/png": "[encoded data removed]",
      "text/plain": [
       "<Figure size 288x288 with 1 Axes>"
      ]
     },
     "metadata": {
      "needs_background": "light"
     },
     "output_type": "display_data"
    },
    {
     "data": {
      "image/png": "[encoded data removed]",
      "text/plain": [
       "<Figure size 288x288 with 1 Axes>"
      ]
     },
     "metadata": {
      "needs_background": "light"
     },
     "output_type": "display_data"
    }
   ],
   "source": [
    "scatter_platform(df_actual, 'xone') # диаграмма рассеяния xbox one"
   ]
  },
  {
   "cell_type": "code",
   "execution_count": 117,
   "metadata": {},
   "outputs": [
    {
     "name": "stdout",
     "output_type": "stream",
     "text": [
      "Исследуемая платформа: wiiu\n",
      "Корреляция отзывов пользователей и объема продаж: 0.3918479505297129\n",
      "Корреляция отзывов критиков и объема продаж: 0.350882422488643\n"
     ]
    },
    {
     "data": {
      "image/png": "[encoded data removed]",
      "text/plain": [
       "<Figure size 288x288 with 1 Axes>"
      ]
     },
     "metadata": {
      "needs_background": "light"
     },
     "output_type": "display_data"
    },
    {
     "data": {
      "image/png": "[encoded data removed]",
      "text/plain": [
       "<Figure size 288x288 with 1 Axes>"
      ]
     },
     "metadata": {
      "needs_background": "light"
     },
     "output_type": "display_data"
    }
   ],
   "source": [
    "scatter_platform(df_actual, 'wiiu') # диаграмма рассеяния для nintendo wiiu"
   ]
  },
  {
   "cell_type": "code",
   "execution_count": 118,
   "metadata": {},
   "outputs": [
    {
     "name": "stdout",
     "output_type": "stream",
     "text": [
      "Исследуемая платформа: 3ds\n",
      "Корреляция отзывов пользователей и объема продаж: 0.20181255007655283\n",
      "Корреляция отзывов критиков и объема продаж: 0.31055301915326294\n"
     ]
    },
    {
     "data": {
      "image/png": "[encoded data removed]",
      "text/plain": [
       "<Figure size 288x288 with 1 Axes>"
      ]
     },
     "metadata": {
      "needs_background": "light"
     },
     "output_type": "display_data"
    },
    {
     "data": {
      "image/png": "[encoded data removed]",
      "text/plain": [
       "<Figure size 288x288 with 1 Axes>"
      ]
     },
     "metadata": {
      "needs_background": "light"
     },
     "output_type": "display_data"
    }
   ],
   "source": [
    "scatter_platform(df_actual, '3ds') # диаграмма рассеяния для nintendo 3ds"
   ]
  },
  {
   "cell_type": "markdown",
   "metadata": {},
   "source": [
    "Коэффициент корреляции определяет степень взаимозависимости одной переменной от другой. \n",
    "Есть закономерность, но нет причинно-следственной связи.\n",
    "\n",
    "Диаграммы рассеяния и расчеты показывают, что *между продажами игр и отзывами критиков есть прямая связь, однако при среднем показателе корреляции 0,3-0,4 она выражена слабо*. \n",
    "\n",
    "Слабая прямая корреляция между оценками пользователей и продажами присутствует только у двух платформ, и обе относятся к Nintendo, у остальных консолей *корреляционной связи пользовательского рейтинга и игровых продаж не наблюдается*."
   ]
  },
  {
   "cell_type": "markdown",
   "metadata": {},
   "source": [
    "### Рейтинг популярных жанров игр"
   ]
  },
  {
   "cell_type": "markdown",
   "metadata": {},
   "source": [
    "Вернемся к нашему актуальному срезу данных и рассмотрим распределение по жанрам игр: какие из них вызывают больший интерес аудитории и, соответственно, прибыль."
   ]
  },
  {
   "cell_type": "code",
   "execution_count": 119,
   "metadata": {},
   "outputs": [
    {
     "data": {
      "image/png": "[encoded data removed]",
      "text/plain": [
       "<Figure size 720x360 with 1 Axes>"
      ]
     },
     "metadata": {
      "needs_background": "light"
     },
     "output_type": "display_data"
    },
    {
     "data": {
      "text/plain": [
       "<AxesSubplot:title={'center':'Рейтинг жанров по количеству выпущенных с 2012 по 2016 год'}, xlabel='Игровые жанры', ylabel='Выпущенные игры, шт.'>"
      ]
     },
     "execution_count": 119,
     "metadata": {},
     "output_type": "execute_result"
    },
    {
     "data": {
      "image/png": "[encoded data removed]",
      "text/plain": [
       "<Figure size 720x360 with 1 Axes>"
      ]
     },
     "metadata": {
      "needs_background": "light"
     },
     "output_type": "display_data"
    }
   ],
   "source": [
    "# сводная таблица жанров\n",
    "df_actual_genre = (df_actual\n",
    "                   .pivot_table(index='genre', values='total_sales', aggfunc=['median', 'count'])\n",
    "                  )\n",
    "df_actual_genre.columns = ['median', 'count']\n",
    "\n",
    "(df_actual_genre['median']\n",
    " .sort_values(ascending=False)\n",
    " .plot(kind='bar', figsize=(10,5), color= '#9f21de', grid=True, \n",
    "       xlabel='Игровые жанры',\n",
    "       ylabel='Медианные продажи, млн.копий',\n",
    "       title='Медианные продажи игр разных жанров с 2012 по 2016 год')\n",
    ")\n",
    "plt.show()\n",
    "\n",
    "(df_actual_genre['count']\n",
    " .sort_values(ascending=False)\n",
    " .plot(kind='bar', figsize=(10,5), grid=True, \n",
    "       xlabel='Игровые жанры',\n",
    "       ylabel='Выпущенные игры, шт.',\n",
    "       title='Рейтинг жанров по количеству выпущенных с 2012 по 2016 год')\n",
    ")\n"
   ]
  },
  {
   "cell_type": "markdown",
   "metadata": {},
   "source": [
    "**Пятерка самых доходных жанров игр:** \n",
    "1. Шутеры\n",
    "2. Спортивные игры\n",
    "3. Платформеры\n",
    "4. РПГ\n",
    "5. Гонки\n",
    "\n",
    "**Пять жанром с наибольшим числом выпущенных игр:**\n",
    "1. Экшен (отрыв от второго места больше чем в два раза)\n",
    "2. РПГ\n",
    "3. Адвенчуры\n",
    "4. Спортивные игры\n",
    "5. Шутеры\n",
    "\n",
    "На рынке было представлено чуть больше 200 игр в жанре **шутер**, однако именно они **имеют самую большой объем продаж**, их медиана составляет более 400 тысяч копий на одну игру. Так же популярны спортивные игры и РПГ, они собирают неплохой доход и обширно представлены на рынке. Жанр экшен вышел в лидеры по количеству выпущенных игр, более тысячи различных вариантов, однако по объемам продаж находится всего лишь на седьмом месте; наводит на мысли, что разработчики этих игр больше берут количеством, но не качеством (всегда есть успешные игры, но с учетом того, каким объемом представлен этот жанр, спрогнозировать потенциальный хит будет довольно трудно).\n",
    "\n",
    "Для планировании будущей рекламной кампании стоит ориентироваться на стабильные жанры по доходам, в первую очередь на шутеры, спортивные игры, РПГ, платформеры: вероятность того, что та или иная игра в этих жанрах будет хорошо продаваться, выше, чем у остальных."
   ]
  },
  {
   "cell_type": "markdown",
   "metadata": {},
   "source": [
    "## Интересы пользователей отдельных регионов"
   ]
  },
  {
   "cell_type": "markdown",
   "metadata": {},
   "source": [
    "В разных регионах могут быть разные предпочтения, всем известно, что в Японии любят РПГ и новеллы, но чтобы это доказать, нужно составить отдельные рейтинги по регионам и определить предпочтения пользователей. Поэтому будем писать функцию и анализировать каждый регион."
   ]
  },
  {
   "cell_type": "code",
   "execution_count": 120,
   "metadata": {
    "scrolled": false
   },
   "outputs": [
    {
     "data": {
      "text/plain": [
       "<AxesSubplot:xlabel='genre'>"
      ]
     },
     "execution_count": 120,
     "metadata": {},
     "output_type": "execute_result"
    },
    {
     "data": {
      "image/png": "[encoded data removed]",
      "text/plain": [
       "<Figure size 720x360 with 1 Axes>"
      ]
     },
     "metadata": {
      "needs_background": "light"
     },
     "output_type": "display_data"
    }
   ],
   "source": [
    "(df_actual\n",
    " .pivot_table(index=['genre'], values=['na_sales', 'eu_sales', 'jp_sales', 'other_sales'], aggfunc='sum')\n",
    " .plot(kind='bar', grid=True, figsize=(10,5))\n",
    ")"
   ]
  },
  {
   "cell_type": "markdown",
   "metadata": {},
   "source": [
    "Красиво, но рейтинг не выявить, разве что отмечу, что львиную долю всей прибыли приносят игроки из Северной Америки, на втором месте Европа и после Япония. Углубимся в анализ каждого региона по отдельности, а потом еще сравним их между собой по пунктам."
   ]
  },
  {
   "cell_type": "code",
   "execution_count": 121,
   "metadata": {},
   "outputs": [
    {
     "data": {
      "text/plain": [
       "<AxesSubplot:xlabel='platform'>"
      ]
     },
     "execution_count": 121,
     "metadata": {},
     "output_type": "execute_result"
    },
    {
     "data": {
      "image/png": "[encoded data removed]",
      "text/plain": [
       "<Figure size 720x360 with 1 Axes>"
      ]
     },
     "metadata": {
      "needs_background": "light"
     },
     "output_type": "display_data"
    }
   ],
   "source": [
    "(df_actual\n",
    " .pivot_table(index=['platform'], values=['na_sales', 'eu_sales', 'jp_sales', 'other_sales'], aggfunc='sum')\n",
    " .plot(kind='bar', grid=True, figsize=(10,5))\n",
    ")"
   ]
  },
  {
   "cell_type": "markdown",
   "metadata": {},
   "source": [
    "А из этого графика заметно, что в каждом блоке свои фавориты игровых устройств, особенно выделяется американский столбец с приставками фирмы Xbox... все, хватит разводить лишние графики, перейдем к функции."
   ]
  },
  {
   "cell_type": "code",
   "execution_count": 124,
   "metadata": {},
   "outputs": [],
   "source": [
    "# функция для визуального сравнения показателей между регионами\n",
    "\n",
    "color_dict = {'na_sales': '#4C10AE',\n",
    "             'jp_sales': '#038A9D',\n",
    "             'eu_sales': '#7B68EE'}\n",
    "def typical_user2(value, region, name, ax):\n",
    "    (df_actual\n",
    "     .pivot_table(index=value, values=region, aggfunc='sum')\n",
    "     .sort_values(by=region, ascending=False)\n",
    "     .plot(kind='bar', grid=True, color=color_dict[region], ax=axes[ax], fontsize=15, \n",
    "           title= f'Рейтинг продаж в регионе {name}')\n",
    "    )"
   ]
  },
  {
   "cell_type": "code",
   "execution_count": 125,
   "metadata": {},
   "outputs": [
    {
     "data": {
      "image/png": "[encoded data removed]",
      "text/plain": [
       "<Figure size 2160x432 with 3 Axes>"
      ]
     },
     "metadata": {
      "needs_background": "light"
     },
     "output_type": "display_data"
    }
   ],
   "source": [
    "fig, axes = plt.subplots(1, 3, figsize=(30, 6))  # сравнение продаж по жанрам\n",
    "\n",
    "typical_user2('genre', 'na_sales', 'Северная Америка', 0)\n",
    "typical_user2('genre', 'jp_sales', 'Япония', 1)\n",
    "typical_user2('genre', 'eu_sales', 'Европа', 2)"
   ]
  },
  {
   "cell_type": "markdown",
   "metadata": {},
   "source": [
    "По жанрам: у Америки и Европы схожие вкусы, и топ практически совпадает с вышеобозначенным. (неудивительно, если вспомнить что основную прибыль приносят именно эти два региона, то и топ формируют они). Япония не от мира всего, в ней на первой место вырываются рпг-игры (а я говорила!), уже после идет экшен."
   ]
  },
  {
   "cell_type": "code",
   "execution_count": 126,
   "metadata": {
    "scrolled": true
   },
   "outputs": [
    {
     "data": {
      "image/png": "[encoded data removed]",
      "text/plain": [
       "<Figure size 2160x432 with 3 Axes>"
      ]
     },
     "metadata": {
      "needs_background": "light"
     },
     "output_type": "display_data"
    }
   ],
   "source": [
    "fig, axes = plt.subplots(1, 3, figsize=(30, 6)) # сравнение продаж по платформам\n",
    "\n",
    "typical_user2('platform', 'na_sales', 'Северная Америка', 0)\n",
    "typical_user2('platform', 'jp_sales', 'Япония', 1)\n",
    "typical_user2('platform', 'eu_sales', 'Европа', 2)"
   ]
  },
  {
   "cell_type": "markdown",
   "metadata": {},
   "source": [
    "Вот здесь у нас произошло распутье между старым миром и новым. В Америке о-очень много играют на XBox 360, c отрывом за ней идут Playstation обоих поколений. Что интересно, в наш предыдущий список популярных платформ x360 не входил. В Японии преимущество за нинтендо, затем третья PlayStation и снова портативная приставка. В Японии любят портативные приставки, очевидно. Европейский регион предпочитает приставки ps обоих поколений, а уже после них продукцию Xbox. "
   ]
  },
  {
   "cell_type": "code",
   "execution_count": 127,
   "metadata": {},
   "outputs": [
    {
     "data": {
      "image/png": "[encoded data removed]",
      "text/plain": [
       "<Figure size 2160x432 with 3 Axes>"
      ]
     },
     "metadata": {
      "needs_background": "light"
     },
     "output_type": "display_data"
    }
   ],
   "source": [
    "fig, axes = plt.subplots(1, 3, figsize=(30, 6)) # сравнение продаж по рейтингу ESRB\n",
    "\n",
    "typical_user2('new_rating', 'na_sales', 'Северная Америка', 0)\n",
    "typical_user2('new_rating', 'jp_sales', 'Япония', 1)\n",
    "typical_user2('new_rating', 'eu_sales', 'Европа', 2)"
   ]
  },
  {
   "cell_type": "markdown",
   "metadata": {},
   "source": [
    "Что можно сказать: японцы очень себе на уме, рейтинг ESRB у них в подавляющем случае не имеет никакого влияния. Европа с Америкой идут очень близко, самые доходные игры идут с рейтингом от 17+ лет (тот самый экшн).\n",
    "\n"
   ]
  },
  {
   "cell_type": "code",
   "execution_count": 128,
   "metadata": {},
   "outputs": [],
   "source": [
    "# для полного завершения, краткая сводка по каждому региону\n",
    "def user_portrait(region, name):\n",
    "    c1 = (df_actual\n",
    "          .groupby('genre')\n",
    "          .agg({region:'sum'})\n",
    "          .sort_values(by=region, ascending=False)\n",
    "          .head(3)\n",
    "         )\n",
    "    c2 = (df_actual\n",
    "          .groupby('platform')\n",
    "          .agg({region:'sum'})\n",
    "          .sort_values(by=region, ascending=False)\n",
    "          .head(3)\n",
    "         )\n",
    "    c3 = (df_actual\n",
    "          .groupby('new_rating')\n",
    "          .agg({region:'sum'})\n",
    "          .sort_values(by=region, ascending=False)\n",
    "          .head(3)\n",
    "         )\n",
    "    print(f'Регион: {name}')\n",
    "    print('Топ жанров:\\n', c1, end='\\n\\n')\n",
    "    print('Топ приставок:\\n', c2, end='\\n\\n')\n",
    "    print('Самый популярный рейтинг ESRB:\\n', c3, end='\\n\\n')\n"
   ]
  },
  {
   "cell_type": "markdown",
   "metadata": {},
   "source": [
    "Вместо итога выведем \"мини-досье\" на среднего игрока из исследуемых регионов"
   ]
  },
  {
   "cell_type": "code",
   "execution_count": 129,
   "metadata": {},
   "outputs": [
    {
     "name": "stdout",
     "output_type": "stream",
     "text": [
      "Регион: Северная Америка\n",
      "Топ жанров:\n",
      "          na_sales\n",
      "genre            \n",
      "action     177.84\n",
      "shooter    144.77\n",
      "sports      81.53\n",
      "\n",
      "Топ приставок:\n",
      "           na_sales\n",
      "platform          \n",
      "x360        140.05\n",
      "ps4         108.74\n",
      "ps3         103.38\n",
      "\n",
      "Самый популярный рейтинг ESRB:\n",
      "                     na_sales\n",
      "new_rating                  \n",
      "взрослые от 17 лет    231.57\n",
      "дети от 10 лет        141.72\n",
      "для всех              114.37\n",
      "\n"
     ]
    }
   ],
   "source": [
    "user_portrait('na_sales', 'Северная Америка') # вот что предпочтет юзер из Америки"
   ]
  },
  {
   "cell_type": "code",
   "execution_count": 130,
   "metadata": {},
   "outputs": [
    {
     "name": "stdout",
     "output_type": "stream",
     "text": [
      "Регион: Европа\n",
      "Топ жанров:\n",
      "          eu_sales\n",
      "genre            \n",
      "action     159.34\n",
      "shooter    113.47\n",
      "sports      69.09\n",
      "\n",
      "Топ приставок:\n",
      "           eu_sales\n",
      "platform          \n",
      "ps4         141.09\n",
      "ps3         106.86\n",
      "x360         74.52\n",
      "\n",
      "Самый популярный рейтинг ESRB:\n",
      "                     eu_sales\n",
      "new_rating                  \n",
      "взрослые от 17 лет    193.96\n",
      "для всех              113.03\n",
      "дети от 10 лет        108.33\n",
      "\n"
     ]
    }
   ],
   "source": [
    "user_portrait('eu_sales', 'Европа') # примерный портрет европейца"
   ]
  },
  {
   "cell_type": "code",
   "execution_count": 131,
   "metadata": {},
   "outputs": [
    {
     "name": "stdout",
     "output_type": "stream",
     "text": [
      "Регион: Япония\n",
      "Топ жанров:\n",
      "               jp_sales\n",
      "genre                 \n",
      "role-playing     65.44\n",
      "action           52.80\n",
      "misc             12.86\n",
      "\n",
      "Топ приставок:\n",
      "           jp_sales\n",
      "platform          \n",
      "3ds          87.79\n",
      "ps3          35.29\n",
      "psv          21.04\n",
      "\n",
      "Самый популярный рейтинг ESRB:\n",
      "                 jp_sales\n",
      "new_rating              \n",
      "без рейтинга      108.84\n",
      "дети от 10 лет     34.21\n",
      "для всех           28.33\n",
      "\n"
     ]
    }
   ],
   "source": [
    "user_portrait('jp_sales', 'Япония') # предпочтения Японии"
   ]
  },
  {
   "cell_type": "markdown",
   "metadata": {},
   "source": [
    "## Статистический анализ данных"
   ]
  },
  {
   "cell_type": "markdown",
   "metadata": {},
   "source": [
    "###  Сравнение пользовательского рейтинга платформ Xbox One и PC"
   ]
  },
  {
   "cell_type": "markdown",
   "metadata": {},
   "source": [
    "Для начала определимся: проверять гипотезы будем на актуальных данных (то есть с 2012 по 2016 год). Первый вопрос предлагает нам сравнить пользовательские рейтинги двух платформ - XOne и PC. Нам нужно провести статистический тест на двух небольших выборках двух генеральных совокупностей, но прежде требуется сформулировать нулевую гипотезу и альтернативную. Нулевая гипотеза формируется с учетом знака равенства и будет звучать так:\n",
    "\n",
    "**H₀ - средние пользовательские рейтинги платформ Xbox One и PC одинаковые**\n",
    "\n",
    "В противоположность ей составляется альтернативная гипотеза:\n",
    "\n",
    "**H₁ - средние пользовательские рейтинги платформ Xbox One и PC отличаются**\n",
    "\n",
    "Нам не важно отклонение в большую или меньшую сторону, поэтому гипотеза двусторонняя.\n",
    "\n",
    "Проведем t-тест, параметр equal_var оставляем без изменений. "
   ]
  },
  {
   "cell_type": "code",
   "execution_count": 132,
   "metadata": {},
   "outputs": [],
   "source": [
    "# сначала формируем выборки двух платформ\n",
    "rating = (df_actual\n",
    "          .query('user_score != 999')\n",
    "          .pivot_table(index='name', columns='platform', values='user_score')\n",
    "         )\n",
    "df_xone = rating['xone'].dropna()       \n",
    "df_pc = rating['pc'].dropna()"
   ]
  },
  {
   "cell_type": "code",
   "execution_count": 133,
   "metadata": {},
   "outputs": [
    {
     "name": "stdout",
     "output_type": "stream",
     "text": [
      "p-значение: 0.5535080500643738\n",
      "Не получилось отвергнуть нулевую гипотезу\n",
      "Средняя пользовательский рейтинг игроков Xbox One: 6.521428571428572\n",
      "Средняя выручка пользовательский рейтинг игроков PC: 6.428640776699029\n"
     ]
    }
   ],
   "source": [
    "alpha = .01 # критический уровень статистической значимости ставлю 1%\n",
    "\n",
    "results = st.ttest_ind(\n",
    "    df_xone, \n",
    "    df_pc)\n",
    "\n",
    "print('p-значение:', results.pvalue)\n",
    "\n",
    "if results.pvalue < alpha:\n",
    "    print(\"Отвергаем нулевую гипотезу\")\n",
    "else:\n",
    "    print(\"Не получилось отвергнуть нулевую гипотезу\") \n",
    "\n",
    "print('Средняя пользовательский рейтинг игроков Xbox One:', df_xone.mean())\n",
    "print('Средняя выручка пользовательский рейтинг игроков PC:', df_pc.mean())"
   ]
  },
  {
   "cell_type": "markdown",
   "metadata": {},
   "source": [
    "При условии, что нулевая гипотеза верна, вероятность получить исследумый результат будет равна более 55%. При критическом пороге статистической значимости в 1% нулевая гипотеза не отвергается, и пользовательские рейтинги двух платформ **действительно не отличаются.**"
   ]
  },
  {
   "cell_type": "markdown",
   "metadata": {},
   "source": [
    "### Сравнение пользовательского рейтинга жанров Action и Sports"
   ]
  },
  {
   "cell_type": "markdown",
   "metadata": {},
   "source": [
    "Проверим второе предположение, как обычно, сначала формируем нулевую гипотезу со знаком равенства:\n",
    "\n",
    "**H₀ - средние пользовательские рейтинги жанров Action и Sports одинаковые**\n",
    "\n",
    "На основе нулевой гипотезы формируем альтернативную:\n",
    "\n",
    "**H₁ - средние пользовательские рейтинги жанров Action и Sports разные**\n",
    "\n",
    "Условия не изменились по сравнению с первым анализом, формируем выборки и проводим тест."
   ]
  },
  {
   "cell_type": "code",
   "execution_count": 134,
   "metadata": {},
   "outputs": [],
   "source": [
    "genre = (df_actual\n",
    "         .query('user_score != 999')\n",
    "         .pivot_table(index='name', columns='genre', values='user_score')\n",
    "         )\n",
    "df_action = genre['action'].dropna()       \n",
    "df_sports = genre['sports'].dropna()\n",
    "\n",
    "# выборки по жанрам"
   ]
  },
  {
   "cell_type": "code",
   "execution_count": 135,
   "metadata": {},
   "outputs": [
    {
     "name": "stdout",
     "output_type": "stream",
     "text": [
      "p-значение: 4.4321533132568645e-11\n",
      "Отвергаем нулевую гипотезу\n",
      "Средняя пользовательский рейтинг игр жанра Action: 6.909471066907775\n",
      "Средняя выручка пользовательский рейтинг игр жанра Sports: 5.654486301369863\n"
     ]
    }
   ],
   "source": [
    "alpha = .01 # критический уровень статистической значимости ставлю 1%\n",
    "\n",
    "results = st.ttest_ind(\n",
    "    df_action, \n",
    "    df_sports)\n",
    "\n",
    "print('p-значение:', results.pvalue)\n",
    "\n",
    "if results.pvalue < alpha:\n",
    "    print(\"Отвергаем нулевую гипотезу\")\n",
    "else:\n",
    "    print(\"Не получилось отвергнуть нулевую гипотезу\") \n",
    "\n",
    "print('Средняя пользовательский рейтинг игр жанра Action:', df_action.mean())\n",
    "print('Средняя выручка пользовательский рейтинг игр жанра Sports:', df_sports.mean())"
   ]
  },
  {
   "cell_type": "markdown",
   "metadata": {},
   "source": [
    "Полученное значение p-value дает нам достаточно оснований для того, чтобы отвергнуть нулевую гипотезу о равенстве пользовательского рейтинга исследуемых жанров, следовательно, **они действительно различаются**. На основе вышеуказанных исследований выходит, что в среднем игроки оценивают экшен-игры выше, чем спортивные."
   ]
  },
  {
   "cell_type": "markdown",
   "metadata": {},
   "source": [
    "## Общий вывод"
   ]
  },
  {
   "cell_type": "markdown",
   "metadata": {},
   "source": [
    "Итак, проект вышел довольно насыщенным, поэтому попробуем структурировать все наши наработки:\n",
    "* Нам были предоставлены данные за большой период с 1980 года, после анализа было принято решение выделить **актуальный период с 2012 по 2016 год** для дальнейшего исследования: он соответствует нашим требованиям и поможет соориентироваться в предпочтениях пользователей для формирования будущей рекламной кампании магазина.\n",
    "\n",
    "\n",
    "* Были проанализированы доходы с каждого предоставленного устройства, на основе чего был сформирован **рейтинг потенциально прибыльных платформ**, а именно:\n",
    " 1. Playstation 4\n",
    " 2. Nintendo 3DS\n",
    " 3. Xbox One\n",
    " 4. Nintendo WiiU\n",
    " 5. PC\n",
    " \n",
    " \n",
    "* Аналогичным образом выделили **топ самых прибыльных и популярных жанров игр**:\n",
    " 1. Шутеры\n",
    " 2. Спортивные игры\n",
    " 3. Платформеры\n",
    " 4. РПГ\n",
    " \n",
    " \n",
    "* В данных так же присутствуют рейтинги пользователей и критиков к выпущенным играм, большая часть данных отсутствует, однако на основе имеющихся оценок мы выяснили, что **между отзывами критиков и продажами игр присутствует прямая слабо-средняя корреляционная связь**, в отличие от оценок пользователей, которая таковой не имеет.\n",
    "* Так как у нас есть информация о продажах в отдельных регионах, стало возможным проанализировать отдельные предпочтения игроков Северной Америки, Японии и Европы. В итоге получились следующие результаты (для анализа использовался актуальный период):\n",
    " - **американские игроки** предпочитают жанры экшен и шутеры, из платформ чаще выбирают Xbox и PS, по возрастному рейтингу больше всего продаются игры с ограничениями от 17 лет и выше\n",
    " - **игроки Европы** так же больше всего тратятся на экшен-игры и шутеры, однако из приставок предпочитают PS, влияние рейтинга ESRB у них аналогично Америке.\n",
    " - **Япония** имеет противоположных фаворитов: в играх они предпочитают РПГ и экшен, а играют чаще всего на приставках Nintendo. Возрастной рейтинг для них значения не имеет. \n",
    "* Проверка гипотез показала, что средние пользовательские рейтинги платформ Xbox One и PC `не имеют статистической разницы`, а вот `жанры sport и action игроки оценивают по-разному` с перевесом в сторону последнего.\n",
    "\n",
    "\n",
    "* Для формирования будущей рекламной кампании будет полезно ориентироваться на платформы PS4 и Xbox One для американского и европейского рынка и на Nintendo последнего поколения - для японского. Экшен-игры и шутеры имеют стабильный доход и предпочитаются большинством игроков, однако будет неплохо обратить внимание на РПГ игры, так как они хорошо продаются в Азии. "
   ]
  }
 ],
 "metadata": {
  "ExecuteTimeLog": [
   {
    "duration": 860,
    "start_time": "2022-05-10T12:49:08.007Z"
   },
   {
    "duration": 127,
    "start_time": "2022-05-10T12:49:10.420Z"
   },
   {
    "duration": 68,
    "start_time": "2022-05-10T12:49:26.807Z"
   },
   {
    "duration": 14,
    "start_time": "2022-05-10T12:49:29.737Z"
   },
   {
    "duration": 3,
    "start_time": "2022-05-10T12:49:40.271Z"
   },
   {
    "duration": 19,
    "start_time": "2022-05-10T12:49:45.668Z"
   },
   {
    "duration": 16,
    "start_time": "2022-05-10T12:49:49.957Z"
   },
   {
    "duration": 5,
    "start_time": "2022-05-10T12:49:57.777Z"
   },
   {
    "duration": 18,
    "start_time": "2022-05-10T12:50:00.631Z"
   },
   {
    "duration": 12,
    "start_time": "2022-05-10T12:50:03.270Z"
   },
   {
    "duration": 9,
    "start_time": "2022-05-10T12:50:05.267Z"
   },
   {
    "duration": 14,
    "start_time": "2022-05-10T12:50:07.203Z"
   },
   {
    "duration": 10,
    "start_time": "2022-05-10T12:50:11.276Z"
   },
   {
    "duration": 7,
    "start_time": "2022-05-10T12:50:15.895Z"
   },
   {
    "duration": 9,
    "start_time": "2022-05-10T12:50:20.299Z"
   },
   {
    "duration": 11,
    "start_time": "2022-05-10T12:50:26.223Z"
   },
   {
    "duration": 5,
    "start_time": "2022-05-10T12:50:31.433Z"
   },
   {
    "duration": 642,
    "start_time": "2022-05-10T12:50:36.785Z"
   },
   {
    "duration": 11,
    "start_time": "2022-05-10T12:50:43.894Z"
   },
   {
    "duration": 13,
    "start_time": "2022-05-10T12:50:47.670Z"
   },
   {
    "duration": 288,
    "start_time": "2022-05-10T12:50:54.229Z"
   },
   {
    "duration": 262,
    "start_time": "2022-05-10T12:52:47.834Z"
   },
   {
    "duration": 28,
    "start_time": "2022-05-10T12:53:06.448Z"
   },
   {
    "duration": 249,
    "start_time": "2022-05-10T12:54:01.335Z"
   },
   {
    "duration": 244,
    "start_time": "2022-05-10T12:54:24.552Z"
   },
   {
    "duration": 236,
    "start_time": "2022-05-10T12:54:41.429Z"
   },
   {
    "duration": 6,
    "start_time": "2022-05-10T13:17:06.605Z"
   },
   {
    "duration": 336,
    "start_time": "2022-05-10T13:17:44.110Z"
   },
   {
    "duration": 3,
    "start_time": "2022-05-10T13:17:56.693Z"
   },
   {
    "duration": 58,
    "start_time": "2022-05-10T13:17:56.698Z"
   },
   {
    "duration": 15,
    "start_time": "2022-05-10T13:17:56.758Z"
   },
   {
    "duration": 8,
    "start_time": "2022-05-10T13:17:56.775Z"
   },
   {
    "duration": 0,
    "start_time": "2022-05-10T13:17:56.785Z"
   },
   {
    "duration": 0,
    "start_time": "2022-05-10T13:17:56.786Z"
   },
   {
    "duration": 0,
    "start_time": "2022-05-10T13:17:56.788Z"
   },
   {
    "duration": 0,
    "start_time": "2022-05-10T13:17:56.789Z"
   },
   {
    "duration": 0,
    "start_time": "2022-05-10T13:17:56.790Z"
   },
   {
    "duration": 0,
    "start_time": "2022-05-10T13:17:56.791Z"
   },
   {
    "duration": 0,
    "start_time": "2022-05-10T13:17:56.792Z"
   },
   {
    "duration": 0,
    "start_time": "2022-05-10T13:17:56.793Z"
   },
   {
    "duration": 0,
    "start_time": "2022-05-10T13:17:56.793Z"
   },
   {
    "duration": 0,
    "start_time": "2022-05-10T13:17:56.794Z"
   },
   {
    "duration": 0,
    "start_time": "2022-05-10T13:17:56.795Z"
   },
   {
    "duration": 0,
    "start_time": "2022-05-10T13:17:56.796Z"
   },
   {
    "duration": 0,
    "start_time": "2022-05-10T13:17:56.797Z"
   },
   {
    "duration": 0,
    "start_time": "2022-05-10T13:17:56.798Z"
   },
   {
    "duration": 0,
    "start_time": "2022-05-10T13:17:56.799Z"
   },
   {
    "duration": 0,
    "start_time": "2022-05-10T13:17:56.799Z"
   },
   {
    "duration": 0,
    "start_time": "2022-05-10T13:17:56.800Z"
   },
   {
    "duration": 4,
    "start_time": "2022-05-10T13:18:06.296Z"
   },
   {
    "duration": 15,
    "start_time": "2022-05-10T13:18:12.402Z"
   },
   {
    "duration": 4,
    "start_time": "2022-05-10T13:18:20.238Z"
   },
   {
    "duration": 20,
    "start_time": "2022-05-10T13:18:24.997Z"
   },
   {
    "duration": 23,
    "start_time": "2022-05-10T13:18:25.019Z"
   },
   {
    "duration": 6,
    "start_time": "2022-05-10T13:18:25.044Z"
   },
   {
    "duration": 29,
    "start_time": "2022-05-10T13:18:25.052Z"
   },
   {
    "duration": 12,
    "start_time": "2022-05-10T13:18:25.083Z"
   },
   {
    "duration": 11,
    "start_time": "2022-05-10T13:18:25.096Z"
   },
   {
    "duration": 15,
    "start_time": "2022-05-10T13:18:25.108Z"
   },
   {
    "duration": 9,
    "start_time": "2022-05-10T13:18:25.124Z"
   },
   {
    "duration": 6,
    "start_time": "2022-05-10T13:18:25.135Z"
   },
   {
    "duration": 35,
    "start_time": "2022-05-10T13:18:25.143Z"
   },
   {
    "duration": 17,
    "start_time": "2022-05-10T13:18:25.180Z"
   },
   {
    "duration": 5,
    "start_time": "2022-05-10T13:18:25.198Z"
   },
   {
    "duration": 300,
    "start_time": "2022-05-10T13:18:25.204Z"
   },
   {
    "duration": 12,
    "start_time": "2022-05-10T13:18:25.507Z"
   },
   {
    "duration": 362,
    "start_time": "2022-05-10T13:18:25.520Z"
   },
   {
    "duration": 7,
    "start_time": "2022-05-10T13:18:25.883Z"
   },
   {
    "duration": 250,
    "start_time": "2022-05-10T13:18:25.891Z"
   },
   {
    "duration": 317,
    "start_time": "2022-05-10T13:19:02.282Z"
   },
   {
    "duration": 315,
    "start_time": "2022-05-10T13:19:19.344Z"
   },
   {
    "duration": 23,
    "start_time": "2022-05-10T13:19:48.739Z"
   },
   {
    "duration": 296,
    "start_time": "2022-05-10T13:20:00.471Z"
   },
   {
    "duration": 395,
    "start_time": "2022-05-10T13:20:51.923Z"
   },
   {
    "duration": 298,
    "start_time": "2022-05-10T13:20:57.375Z"
   },
   {
    "duration": 16,
    "start_time": "2022-05-10T13:21:46.718Z"
   },
   {
    "duration": 17,
    "start_time": "2022-05-10T13:21:58.765Z"
   },
   {
    "duration": 18,
    "start_time": "2022-05-10T13:22:06.380Z"
   },
   {
    "duration": 19,
    "start_time": "2022-05-10T13:22:23.141Z"
   },
   {
    "duration": 17,
    "start_time": "2022-05-10T13:22:42.308Z"
   },
   {
    "duration": 17,
    "start_time": "2022-05-10T13:31:29.737Z"
   },
   {
    "duration": 72,
    "start_time": "2022-05-10T13:32:41.046Z"
   },
   {
    "duration": 19,
    "start_time": "2022-05-10T13:32:44.044Z"
   },
   {
    "duration": 19,
    "start_time": "2022-05-10T13:32:54.592Z"
   },
   {
    "duration": 21,
    "start_time": "2022-05-10T13:33:04.095Z"
   },
   {
    "duration": 15,
    "start_time": "2022-05-10T13:33:11.447Z"
   },
   {
    "duration": 15,
    "start_time": "2022-05-10T13:33:22.038Z"
   },
   {
    "duration": 13,
    "start_time": "2022-05-10T13:33:27.216Z"
   },
   {
    "duration": 15,
    "start_time": "2022-05-10T13:33:55.654Z"
   },
   {
    "duration": 12,
    "start_time": "2022-05-10T13:34:54.132Z"
   },
   {
    "duration": 280,
    "start_time": "2022-05-10T13:34:56.016Z"
   },
   {
    "duration": 229,
    "start_time": "2022-05-10T13:35:23.450Z"
   },
   {
    "duration": 16,
    "start_time": "2022-05-10T13:35:29.240Z"
   },
   {
    "duration": 299,
    "start_time": "2022-05-10T13:36:32.885Z"
   },
   {
    "duration": 303,
    "start_time": "2022-05-10T13:40:08.507Z"
   },
   {
    "duration": 20,
    "start_time": "2022-05-10T14:13:29.071Z"
   },
   {
    "duration": 36,
    "start_time": "2022-05-10T14:13:36.892Z"
   },
   {
    "duration": 3,
    "start_time": "2022-05-10T14:13:49.613Z"
   },
   {
    "duration": 61,
    "start_time": "2022-05-10T14:13:49.619Z"
   },
   {
    "duration": 15,
    "start_time": "2022-05-10T14:13:49.682Z"
   },
   {
    "duration": 4,
    "start_time": "2022-05-10T14:13:49.699Z"
   },
   {
    "duration": 23,
    "start_time": "2022-05-10T14:13:49.705Z"
   },
   {
    "duration": 15,
    "start_time": "2022-05-10T14:13:49.730Z"
   },
   {
    "duration": 6,
    "start_time": "2022-05-10T14:13:49.773Z"
   },
   {
    "duration": 23,
    "start_time": "2022-05-10T14:13:49.781Z"
   },
   {
    "duration": 19,
    "start_time": "2022-05-10T14:13:49.806Z"
   },
   {
    "duration": 10,
    "start_time": "2022-05-10T14:13:49.827Z"
   },
   {
    "duration": 45,
    "start_time": "2022-05-10T14:13:49.839Z"
   },
   {
    "duration": 13,
    "start_time": "2022-05-10T14:13:49.886Z"
   },
   {
    "duration": 8,
    "start_time": "2022-05-10T14:13:49.901Z"
   },
   {
    "duration": 15,
    "start_time": "2022-05-10T14:13:49.911Z"
   },
   {
    "duration": 12,
    "start_time": "2022-05-10T14:13:49.928Z"
   },
   {
    "duration": 32,
    "start_time": "2022-05-10T14:13:49.941Z"
   },
   {
    "duration": 314,
    "start_time": "2022-05-10T14:13:49.975Z"
   },
   {
    "duration": 13,
    "start_time": "2022-05-10T14:13:50.291Z"
   },
   {
    "duration": 282,
    "start_time": "2022-05-10T14:13:50.305Z"
   },
   {
    "duration": 8,
    "start_time": "2022-05-10T14:13:50.589Z"
   },
   {
    "duration": 23,
    "start_time": "2022-05-10T14:13:50.599Z"
   },
   {
    "duration": 332,
    "start_time": "2022-05-10T14:13:50.624Z"
   },
   {
    "duration": 302,
    "start_time": "2022-05-10T14:14:17.007Z"
   },
   {
    "duration": 3,
    "start_time": "2022-05-10T14:16:22.733Z"
   },
   {
    "duration": 9,
    "start_time": "2022-05-10T14:16:30.985Z"
   },
   {
    "duration": 13,
    "start_time": "2022-05-10T14:16:40.147Z"
   },
   {
    "duration": 24,
    "start_time": "2022-05-10T14:17:04.109Z"
   },
   {
    "duration": 318,
    "start_time": "2022-05-10T14:17:09.748Z"
   },
   {
    "duration": 101,
    "start_time": "2022-05-10T14:17:20.894Z"
   },
   {
    "duration": 3,
    "start_time": "2022-05-10T14:17:49.414Z"
   },
   {
    "duration": 96,
    "start_time": "2022-05-10T14:17:58.423Z"
   },
   {
    "duration": 94,
    "start_time": "2022-05-10T14:18:08.874Z"
   },
   {
    "duration": 116,
    "start_time": "2022-05-10T14:18:38.581Z"
   },
   {
    "duration": 105,
    "start_time": "2022-05-10T14:18:43.908Z"
   },
   {
    "duration": 111,
    "start_time": "2022-05-10T14:18:52.213Z"
   },
   {
    "duration": 102,
    "start_time": "2022-05-10T14:19:11.800Z"
   },
   {
    "duration": 119,
    "start_time": "2022-05-10T14:19:28.862Z"
   },
   {
    "duration": 29,
    "start_time": "2022-05-10T14:19:46.707Z"
   },
   {
    "duration": 3,
    "start_time": "2022-05-10T14:20:29.806Z"
   },
   {
    "duration": 9,
    "start_time": "2022-05-10T14:20:43.655Z"
   },
   {
    "duration": 101,
    "start_time": "2022-05-10T14:20:48.206Z"
   },
   {
    "duration": 4,
    "start_time": "2022-05-10T14:21:05.695Z"
   },
   {
    "duration": 97,
    "start_time": "2022-05-10T14:21:06.207Z"
   },
   {
    "duration": 98,
    "start_time": "2022-05-10T14:21:11.333Z"
   },
   {
    "duration": 103,
    "start_time": "2022-05-10T14:21:15.613Z"
   },
   {
    "duration": 100,
    "start_time": "2022-05-10T14:21:22.056Z"
   },
   {
    "duration": 102,
    "start_time": "2022-05-10T14:21:31.096Z"
   },
   {
    "duration": 105,
    "start_time": "2022-05-10T14:21:40.810Z"
   },
   {
    "duration": 100,
    "start_time": "2022-05-10T14:21:58.559Z"
   },
   {
    "duration": 9,
    "start_time": "2022-05-10T14:22:16.205Z"
   },
   {
    "duration": 3,
    "start_time": "2022-05-10T14:22:25.576Z"
   },
   {
    "duration": 107,
    "start_time": "2022-05-10T14:22:26.204Z"
   },
   {
    "duration": 102,
    "start_time": "2022-05-10T14:22:45.911Z"
   },
   {
    "duration": 80,
    "start_time": "2022-05-10T14:23:25.341Z"
   },
   {
    "duration": 100,
    "start_time": "2022-05-10T14:23:28.889Z"
   },
   {
    "duration": 3,
    "start_time": "2022-05-10T14:23:42.501Z"
   },
   {
    "duration": 105,
    "start_time": "2022-05-10T14:23:42.981Z"
   },
   {
    "duration": 102,
    "start_time": "2022-05-10T14:23:45.258Z"
   },
   {
    "duration": 10,
    "start_time": "2022-05-10T14:24:40.801Z"
   },
   {
    "duration": 3,
    "start_time": "2022-05-10T14:24:44.505Z"
   },
   {
    "duration": 268,
    "start_time": "2022-05-10T14:24:44.993Z"
   },
   {
    "duration": 102,
    "start_time": "2022-05-10T14:24:47.381Z"
   },
   {
    "duration": 24,
    "start_time": "2022-05-10T14:25:02.943Z"
   },
   {
    "duration": 3,
    "start_time": "2022-05-10T14:25:11.004Z"
   },
   {
    "duration": 7,
    "start_time": "2022-05-10T14:25:11.685Z"
   },
   {
    "duration": 3,
    "start_time": "2022-05-10T14:25:19.931Z"
   },
   {
    "duration": 24,
    "start_time": "2022-05-10T14:25:20.374Z"
   },
   {
    "duration": 3,
    "start_time": "2022-05-10T14:25:50.399Z"
   },
   {
    "duration": 25,
    "start_time": "2022-05-10T14:25:50.892Z"
   },
   {
    "duration": 23,
    "start_time": "2022-05-10T14:25:53.305Z"
   },
   {
    "duration": 3,
    "start_time": "2022-05-10T14:26:11.654Z"
   },
   {
    "duration": 25,
    "start_time": "2022-05-10T14:26:12.140Z"
   },
   {
    "duration": 23,
    "start_time": "2022-05-10T14:28:47.597Z"
   },
   {
    "duration": 7,
    "start_time": "2022-05-10T14:28:57.571Z"
   },
   {
    "duration": 87,
    "start_time": "2022-05-10T14:30:04.783Z"
   },
   {
    "duration": 95,
    "start_time": "2022-05-10T14:30:07.849Z"
   },
   {
    "duration": 23,
    "start_time": "2022-05-10T14:30:22.480Z"
   },
   {
    "duration": 30,
    "start_time": "2022-05-10T14:30:51.184Z"
   },
   {
    "duration": 22,
    "start_time": "2022-05-10T14:31:07.270Z"
   },
   {
    "duration": 23,
    "start_time": "2022-05-10T14:31:16.353Z"
   },
   {
    "duration": 23,
    "start_time": "2022-05-10T14:31:34.569Z"
   },
   {
    "duration": 23,
    "start_time": "2022-05-10T14:31:38.912Z"
   },
   {
    "duration": 102,
    "start_time": "2022-05-10T14:32:03.249Z"
   },
   {
    "duration": 105,
    "start_time": "2022-05-10T14:32:08.474Z"
   },
   {
    "duration": 24,
    "start_time": "2022-05-10T14:32:11.250Z"
   },
   {
    "duration": 153,
    "start_time": "2022-05-10T14:32:58.302Z"
   },
   {
    "duration": 181,
    "start_time": "2022-05-10T14:33:09.878Z"
   },
   {
    "duration": 4,
    "start_time": "2022-05-10T14:33:47.175Z"
   },
   {
    "duration": 173,
    "start_time": "2022-05-10T14:34:21.787Z"
   },
   {
    "duration": 195,
    "start_time": "2022-05-10T14:35:03.074Z"
   },
   {
    "duration": 83,
    "start_time": "2022-05-10T15:49:38.405Z"
   },
   {
    "duration": 105,
    "start_time": "2022-05-10T15:49:41.173Z"
   },
   {
    "duration": 229,
    "start_time": "2022-05-10T15:49:54.272Z"
   },
   {
    "duration": 33,
    "start_time": "2022-05-10T15:50:15.412Z"
   },
   {
    "duration": 32,
    "start_time": "2022-05-10T15:50:48.432Z"
   },
   {
    "duration": 54,
    "start_time": "2022-05-10T15:51:01.884Z"
   },
   {
    "duration": 31,
    "start_time": "2022-05-10T15:51:09.081Z"
   },
   {
    "duration": 30,
    "start_time": "2022-05-10T15:51:15.960Z"
   },
   {
    "duration": 3,
    "start_time": "2022-05-10T16:04:34.055Z"
   },
   {
    "duration": 4,
    "start_time": "2022-05-10T16:05:44.968Z"
   },
   {
    "duration": 44,
    "start_time": "2022-05-10T16:06:26.995Z"
   },
   {
    "duration": 8,
    "start_time": "2022-05-10T16:06:38.122Z"
   },
   {
    "duration": 30,
    "start_time": "2022-05-10T16:06:42.676Z"
   },
   {
    "duration": 32,
    "start_time": "2022-05-10T16:07:46.097Z"
   },
   {
    "duration": 7,
    "start_time": "2022-05-10T16:08:01.634Z"
   },
   {
    "duration": 80,
    "start_time": "2022-05-10T16:08:02.139Z"
   },
   {
    "duration": 9,
    "start_time": "2022-05-10T16:08:14.238Z"
   },
   {
    "duration": 4,
    "start_time": "2022-05-10T16:08:15.703Z"
   },
   {
    "duration": 9,
    "start_time": "2022-05-10T16:08:16.091Z"
   },
   {
    "duration": 184,
    "start_time": "2022-05-10T16:08:26.542Z"
   },
   {
    "duration": 4,
    "start_time": "2022-05-10T16:08:47.569Z"
   },
   {
    "duration": 311,
    "start_time": "2022-05-10T16:08:48.182Z"
   },
   {
    "duration": 3,
    "start_time": "2022-05-10T16:09:45.191Z"
   },
   {
    "duration": 79,
    "start_time": "2022-05-10T16:09:45.196Z"
   },
   {
    "duration": 13,
    "start_time": "2022-05-10T16:09:45.277Z"
   },
   {
    "duration": 3,
    "start_time": "2022-05-10T16:09:45.292Z"
   },
   {
    "duration": 20,
    "start_time": "2022-05-10T16:09:45.297Z"
   },
   {
    "duration": 17,
    "start_time": "2022-05-10T16:09:45.319Z"
   },
   {
    "duration": 6,
    "start_time": "2022-05-10T16:09:45.337Z"
   },
   {
    "duration": 54,
    "start_time": "2022-05-10T16:09:45.345Z"
   },
   {
    "duration": 18,
    "start_time": "2022-05-10T16:09:45.402Z"
   },
   {
    "duration": 15,
    "start_time": "2022-05-10T16:09:45.422Z"
   },
   {
    "duration": 47,
    "start_time": "2022-05-10T16:09:45.440Z"
   },
   {
    "duration": 12,
    "start_time": "2022-05-10T16:09:45.489Z"
   },
   {
    "duration": 8,
    "start_time": "2022-05-10T16:09:45.502Z"
   },
   {
    "duration": 10,
    "start_time": "2022-05-10T16:09:45.511Z"
   },
   {
    "duration": 15,
    "start_time": "2022-05-10T16:09:45.523Z"
   },
   {
    "duration": 36,
    "start_time": "2022-05-10T16:09:45.540Z"
   },
   {
    "duration": 335,
    "start_time": "2022-05-10T16:09:45.577Z"
   },
   {
    "duration": 13,
    "start_time": "2022-05-10T16:09:45.914Z"
   },
   {
    "duration": 295,
    "start_time": "2022-05-10T16:09:45.928Z"
   },
   {
    "duration": 9,
    "start_time": "2022-05-10T16:09:46.224Z"
   },
   {
    "duration": 15,
    "start_time": "2022-05-10T16:09:46.235Z"
   },
   {
    "duration": 501,
    "start_time": "2022-05-10T16:09:46.252Z"
   },
   {
    "duration": 192,
    "start_time": "2022-05-10T16:09:46.755Z"
   },
   {
    "duration": 4,
    "start_time": "2022-05-10T16:09:46.950Z"
   },
   {
    "duration": 335,
    "start_time": "2022-05-10T16:09:46.956Z"
   },
   {
    "duration": 4,
    "start_time": "2022-05-10T16:11:39.826Z"
   },
   {
    "duration": 3,
    "start_time": "2022-05-10T16:11:59.492Z"
   },
   {
    "duration": 71,
    "start_time": "2022-05-10T16:11:59.497Z"
   },
   {
    "duration": 13,
    "start_time": "2022-05-10T16:11:59.570Z"
   },
   {
    "duration": 2,
    "start_time": "2022-05-10T16:11:59.585Z"
   },
   {
    "duration": 21,
    "start_time": "2022-05-10T16:11:59.589Z"
   },
   {
    "duration": 25,
    "start_time": "2022-05-10T16:11:59.612Z"
   },
   {
    "duration": 7,
    "start_time": "2022-05-10T16:11:59.639Z"
   },
   {
    "duration": 19,
    "start_time": "2022-05-10T16:11:59.673Z"
   },
   {
    "duration": 18,
    "start_time": "2022-05-10T16:11:59.695Z"
   },
   {
    "duration": 14,
    "start_time": "2022-05-10T16:11:59.715Z"
   },
   {
    "duration": 13,
    "start_time": "2022-05-10T16:11:59.731Z"
   },
   {
    "duration": 9,
    "start_time": "2022-05-10T16:11:59.773Z"
   },
   {
    "duration": 7,
    "start_time": "2022-05-10T16:11:59.784Z"
   },
   {
    "duration": 12,
    "start_time": "2022-05-10T16:11:59.793Z"
   },
   {
    "duration": 12,
    "start_time": "2022-05-10T16:11:59.807Z"
   },
   {
    "duration": 4,
    "start_time": "2022-05-10T16:11:59.821Z"
   },
   {
    "duration": 356,
    "start_time": "2022-05-10T16:11:59.827Z"
   },
   {
    "duration": 12,
    "start_time": "2022-05-10T16:12:00.185Z"
   },
   {
    "duration": 303,
    "start_time": "2022-05-10T16:12:00.199Z"
   },
   {
    "duration": 7,
    "start_time": "2022-05-10T16:12:00.504Z"
   },
   {
    "duration": 28,
    "start_time": "2022-05-10T16:12:00.513Z"
   },
   {
    "duration": 320,
    "start_time": "2022-05-10T16:12:00.543Z"
   },
   {
    "duration": 203,
    "start_time": "2022-05-10T16:12:00.873Z"
   },
   {
    "duration": 4,
    "start_time": "2022-05-10T16:12:01.080Z"
   },
   {
    "duration": 333,
    "start_time": "2022-05-10T16:12:01.086Z"
   },
   {
    "duration": 10,
    "start_time": "2022-05-10T16:12:29.726Z"
   },
   {
    "duration": 9,
    "start_time": "2022-05-10T16:12:36.261Z"
   },
   {
    "duration": 7,
    "start_time": "2022-05-10T16:12:56.044Z"
   },
   {
    "duration": 4,
    "start_time": "2022-05-10T16:13:34.433Z"
   },
   {
    "duration": 255,
    "start_time": "2022-05-10T16:13:34.837Z"
   },
   {
    "duration": 4,
    "start_time": "2022-05-10T16:14:04.802Z"
   },
   {
    "duration": 247,
    "start_time": "2022-05-10T16:14:05.858Z"
   },
   {
    "duration": 3,
    "start_time": "2022-05-10T16:14:52.729Z"
   },
   {
    "duration": 4,
    "start_time": "2022-05-10T16:15:07.905Z"
   },
   {
    "duration": 256,
    "start_time": "2022-05-10T16:15:08.264Z"
   },
   {
    "duration": 4,
    "start_time": "2022-05-10T16:15:20.029Z"
   },
   {
    "duration": 11,
    "start_time": "2022-05-10T16:15:20.370Z"
   },
   {
    "duration": 7,
    "start_time": "2022-05-10T16:16:04.115Z"
   },
   {
    "duration": 12,
    "start_time": "2022-05-10T16:16:08.362Z"
   },
   {
    "duration": 26,
    "start_time": "2022-05-10T16:16:19.124Z"
   },
   {
    "duration": 3,
    "start_time": "2022-05-10T16:16:46.298Z"
   },
   {
    "duration": 11,
    "start_time": "2022-05-10T16:16:46.782Z"
   },
   {
    "duration": 25,
    "start_time": "2022-05-10T16:18:49.061Z"
   },
   {
    "duration": 7,
    "start_time": "2022-05-10T16:18:51.025Z"
   },
   {
    "duration": 8,
    "start_time": "2022-05-10T16:18:54.620Z"
   },
   {
    "duration": 4,
    "start_time": "2022-05-10T16:19:01.525Z"
   },
   {
    "duration": 35,
    "start_time": "2022-05-10T16:19:01.988Z"
   },
   {
    "duration": 33,
    "start_time": "2022-05-10T16:19:43.908Z"
   },
   {
    "duration": 32,
    "start_time": "2022-05-10T16:20:05.564Z"
   },
   {
    "duration": 4,
    "start_time": "2022-05-10T16:20:07.644Z"
   },
   {
    "duration": 33,
    "start_time": "2022-05-10T16:20:08.076Z"
   },
   {
    "duration": 4,
    "start_time": "2022-05-10T16:22:56.037Z"
   },
   {
    "duration": 12,
    "start_time": "2022-05-10T16:22:56.537Z"
   },
   {
    "duration": 3,
    "start_time": "2022-05-10T16:23:08.521Z"
   },
   {
    "duration": 14,
    "start_time": "2022-05-10T16:23:08.880Z"
   },
   {
    "duration": 3,
    "start_time": "2022-05-10T16:24:22.531Z"
   },
   {
    "duration": 14,
    "start_time": "2022-05-10T16:24:23.029Z"
   },
   {
    "duration": 4,
    "start_time": "2022-05-10T16:24:32.272Z"
   },
   {
    "duration": 307,
    "start_time": "2022-05-10T16:24:32.732Z"
   },
   {
    "duration": 5,
    "start_time": "2022-05-10T16:25:35.028Z"
   },
   {
    "duration": 300,
    "start_time": "2022-05-10T16:25:39.640Z"
   },
   {
    "duration": 86,
    "start_time": "2022-05-10T16:26:36.549Z"
   },
   {
    "duration": 291,
    "start_time": "2022-05-10T16:26:37.131Z"
   },
   {
    "duration": 88,
    "start_time": "2022-05-10T16:26:45.815Z"
   },
   {
    "duration": 293,
    "start_time": "2022-05-10T16:26:46.539Z"
   },
   {
    "duration": 4,
    "start_time": "2022-05-10T16:27:21.755Z"
   },
   {
    "duration": 542,
    "start_time": "2022-05-10T16:27:22.415Z"
   },
   {
    "duration": 5,
    "start_time": "2022-05-10T16:27:38.776Z"
   },
   {
    "duration": 286,
    "start_time": "2022-05-10T16:27:42.354Z"
   },
   {
    "duration": 5,
    "start_time": "2022-05-10T16:27:52.519Z"
   },
   {
    "duration": 285,
    "start_time": "2022-05-10T16:27:53.090Z"
   },
   {
    "duration": 5,
    "start_time": "2022-05-10T16:28:05.910Z"
   },
   {
    "duration": 272,
    "start_time": "2022-05-10T16:28:06.445Z"
   },
   {
    "duration": 6,
    "start_time": "2022-05-10T16:28:38.562Z"
   },
   {
    "duration": 268,
    "start_time": "2022-05-10T16:28:49.142Z"
   },
   {
    "duration": 259,
    "start_time": "2022-05-10T16:29:10.575Z"
   },
   {
    "duration": 261,
    "start_time": "2022-05-10T16:29:22.530Z"
   },
   {
    "duration": 271,
    "start_time": "2022-05-10T16:29:32.269Z"
   },
   {
    "duration": 259,
    "start_time": "2022-05-10T16:29:38.977Z"
   },
   {
    "duration": 5,
    "start_time": "2022-05-10T16:29:56.007Z"
   },
   {
    "duration": 5,
    "start_time": "2022-05-10T16:30:03.373Z"
   },
   {
    "duration": 236,
    "start_time": "2022-05-10T16:30:03.723Z"
   },
   {
    "duration": 5,
    "start_time": "2022-05-10T16:30:15.195Z"
   },
   {
    "duration": 221,
    "start_time": "2022-05-10T16:30:15.574Z"
   },
   {
    "duration": 232,
    "start_time": "2022-05-10T16:30:19.253Z"
   },
   {
    "duration": 217,
    "start_time": "2022-05-10T16:30:20.414Z"
   },
   {
    "duration": 225,
    "start_time": "2022-05-10T16:30:21.315Z"
   },
   {
    "duration": 205,
    "start_time": "2022-05-10T16:30:22.410Z"
   },
   {
    "duration": 5,
    "start_time": "2022-05-10T16:30:51.448Z"
   },
   {
    "duration": 220,
    "start_time": "2022-05-10T16:30:51.939Z"
   },
   {
    "duration": 222,
    "start_time": "2022-05-10T16:30:53.184Z"
   },
   {
    "duration": 473,
    "start_time": "2022-05-10T16:30:53.865Z"
   },
   {
    "duration": 231,
    "start_time": "2022-05-10T16:30:54.669Z"
   },
   {
    "duration": 202,
    "start_time": "2022-05-10T16:30:55.201Z"
   },
   {
    "duration": 5,
    "start_time": "2022-05-10T16:31:16.672Z"
   },
   {
    "duration": 17,
    "start_time": "2022-05-10T16:31:17.133Z"
   },
   {
    "duration": 6,
    "start_time": "2022-05-10T16:31:31.544Z"
   },
   {
    "duration": 229,
    "start_time": "2022-05-10T16:31:32.125Z"
   },
   {
    "duration": 229,
    "start_time": "2022-05-10T16:31:35.018Z"
   },
   {
    "duration": 227,
    "start_time": "2022-05-10T16:31:35.584Z"
   },
   {
    "duration": 239,
    "start_time": "2022-05-10T16:31:36.173Z"
   },
   {
    "duration": 206,
    "start_time": "2022-05-10T16:31:36.697Z"
   },
   {
    "duration": 22,
    "start_time": "2022-05-10T17:32:20.826Z"
   },
   {
    "duration": 24,
    "start_time": "2022-05-10T17:32:43.325Z"
   },
   {
    "duration": 6,
    "start_time": "2022-05-10T17:33:07.954Z"
   },
   {
    "duration": 37,
    "start_time": "2022-05-10T17:33:28.114Z"
   },
   {
    "duration": 23,
    "start_time": "2022-05-10T17:33:32.294Z"
   },
   {
    "duration": 25,
    "start_time": "2022-05-10T17:33:51.729Z"
   },
   {
    "duration": 23,
    "start_time": "2022-05-10T17:34:20.002Z"
   },
   {
    "duration": 25,
    "start_time": "2022-05-10T17:34:26.870Z"
   },
   {
    "duration": 26,
    "start_time": "2022-05-10T17:35:20.109Z"
   },
   {
    "duration": 27,
    "start_time": "2022-05-10T17:35:37.618Z"
   },
   {
    "duration": 29,
    "start_time": "2022-05-10T17:35:48.049Z"
   },
   {
    "duration": 16,
    "start_time": "2022-05-10T17:36:16.629Z"
   },
   {
    "duration": 15,
    "start_time": "2022-05-10T17:37:32.917Z"
   },
   {
    "duration": 76,
    "start_time": "2022-05-10T17:38:13.182Z"
   },
   {
    "duration": 14,
    "start_time": "2022-05-10T17:38:16.952Z"
   },
   {
    "duration": 176,
    "start_time": "2022-05-10T17:38:45.318Z"
   },
   {
    "duration": 22,
    "start_time": "2022-05-10T17:38:48.416Z"
   },
   {
    "duration": 14,
    "start_time": "2022-05-10T17:40:19.449Z"
   },
   {
    "duration": 22,
    "start_time": "2022-05-10T17:40:39.796Z"
   },
   {
    "duration": 3,
    "start_time": "2022-05-10T17:41:24.206Z"
   },
   {
    "duration": 56,
    "start_time": "2022-05-10T17:41:24.211Z"
   },
   {
    "duration": 18,
    "start_time": "2022-05-10T17:41:24.269Z"
   },
   {
    "duration": 3,
    "start_time": "2022-05-10T17:41:24.290Z"
   },
   {
    "duration": 30,
    "start_time": "2022-05-10T17:41:24.296Z"
   },
   {
    "duration": 25,
    "start_time": "2022-05-10T17:41:24.328Z"
   },
   {
    "duration": 5,
    "start_time": "2022-05-10T17:41:24.355Z"
   },
   {
    "duration": 21,
    "start_time": "2022-05-10T17:41:24.373Z"
   },
   {
    "duration": 24,
    "start_time": "2022-05-10T17:41:24.396Z"
   },
   {
    "duration": 11,
    "start_time": "2022-05-10T17:41:24.421Z"
   },
   {
    "duration": 40,
    "start_time": "2022-05-10T17:41:24.434Z"
   },
   {
    "duration": 9,
    "start_time": "2022-05-10T17:41:24.476Z"
   },
   {
    "duration": 7,
    "start_time": "2022-05-10T17:41:24.489Z"
   },
   {
    "duration": 12,
    "start_time": "2022-05-10T17:41:24.498Z"
   },
   {
    "duration": 15,
    "start_time": "2022-05-10T17:41:24.512Z"
   },
   {
    "duration": 5,
    "start_time": "2022-05-10T17:41:24.529Z"
   },
   {
    "duration": 343,
    "start_time": "2022-05-10T17:41:24.536Z"
   },
   {
    "duration": 12,
    "start_time": "2022-05-10T17:41:24.881Z"
   },
   {
    "duration": 298,
    "start_time": "2022-05-10T17:41:24.894Z"
   },
   {
    "duration": 7,
    "start_time": "2022-05-10T17:41:25.194Z"
   },
   {
    "duration": 21,
    "start_time": "2022-05-10T17:41:25.202Z"
   },
   {
    "duration": 355,
    "start_time": "2022-05-10T17:41:25.225Z"
   },
   {
    "duration": 198,
    "start_time": "2022-05-10T17:41:25.582Z"
   },
   {
    "duration": 5,
    "start_time": "2022-05-10T17:41:25.782Z"
   },
   {
    "duration": 248,
    "start_time": "2022-05-10T17:41:25.789Z"
   },
   {
    "duration": 260,
    "start_time": "2022-05-10T17:41:26.039Z"
   },
   {
    "duration": 241,
    "start_time": "2022-05-10T17:41:26.301Z"
   },
   {
    "duration": 235,
    "start_time": "2022-05-10T17:41:26.544Z"
   },
   {
    "duration": 472,
    "start_time": "2022-05-10T17:41:26.780Z"
   },
   {
    "duration": 79,
    "start_time": "2022-05-10T17:41:27.253Z"
   },
   {
    "duration": 31,
    "start_time": "2022-05-10T17:41:47.796Z"
   },
   {
    "duration": 141,
    "start_time": "2022-05-10T17:42:00.799Z"
   },
   {
    "duration": 149,
    "start_time": "2022-05-10T17:42:11.265Z"
   },
   {
    "duration": 152,
    "start_time": "2022-05-10T17:42:23.497Z"
   },
   {
    "duration": 219,
    "start_time": "2022-05-10T17:42:30.721Z"
   },
   {
    "duration": 216,
    "start_time": "2022-05-10T17:43:15.447Z"
   },
   {
    "duration": 207,
    "start_time": "2022-05-10T17:44:53.760Z"
   },
   {
    "duration": 207,
    "start_time": "2022-05-10T17:45:14.686Z"
   },
   {
    "duration": 25,
    "start_time": "2022-05-10T17:47:41.211Z"
   },
   {
    "duration": 28,
    "start_time": "2022-05-10T17:47:50.218Z"
   },
   {
    "duration": 28,
    "start_time": "2022-05-10T17:48:50.405Z"
   },
   {
    "duration": 23,
    "start_time": "2022-05-10T17:51:57.063Z"
   },
   {
    "duration": 22,
    "start_time": "2022-05-10T18:25:59.138Z"
   },
   {
    "duration": 227,
    "start_time": "2022-05-10T18:27:48.352Z"
   },
   {
    "duration": 245,
    "start_time": "2022-05-10T18:29:16.073Z"
   },
   {
    "duration": 205,
    "start_time": "2022-05-10T18:31:10.259Z"
   },
   {
    "duration": 215,
    "start_time": "2022-05-10T18:31:36.422Z"
   },
   {
    "duration": 88,
    "start_time": "2022-05-10T18:31:52.619Z"
   },
   {
    "duration": 215,
    "start_time": "2022-05-10T18:31:57.458Z"
   },
   {
    "duration": 15,
    "start_time": "2022-05-10T18:49:15.638Z"
   },
   {
    "duration": 295,
    "start_time": "2022-05-10T18:50:54.845Z"
   },
   {
    "duration": 291,
    "start_time": "2022-05-10T18:50:59.002Z"
   },
   {
    "duration": 301,
    "start_time": "2022-05-10T18:51:07.168Z"
   },
   {
    "duration": 24,
    "start_time": "2022-05-10T18:51:32.909Z"
   },
   {
    "duration": 28,
    "start_time": "2022-05-10T18:52:13.119Z"
   },
   {
    "duration": 226,
    "start_time": "2022-05-10T18:53:02.289Z"
   },
   {
    "duration": 244,
    "start_time": "2022-05-10T18:53:33.973Z"
   },
   {
    "duration": 30,
    "start_time": "2022-05-10T18:55:48.604Z"
   },
   {
    "duration": 9,
    "start_time": "2022-05-10T18:57:41.884Z"
   },
   {
    "duration": 29,
    "start_time": "2022-05-10T18:57:45.167Z"
   },
   {
    "duration": 1462,
    "start_time": "2022-05-10T18:58:24.224Z"
   },
   {
    "duration": 32,
    "start_time": "2022-05-10T18:58:45.223Z"
   },
   {
    "duration": 7915,
    "start_time": "2022-05-10T18:59:15.840Z"
   },
   {
    "duration": 1477,
    "start_time": "2022-05-10T18:59:54.467Z"
   },
   {
    "duration": 79,
    "start_time": "2022-05-10T19:00:13.715Z"
   },
   {
    "duration": 15,
    "start_time": "2022-05-10T19:00:17.027Z"
   },
   {
    "duration": 19,
    "start_time": "2022-05-10T19:00:54.567Z"
   },
   {
    "duration": 27,
    "start_time": "2022-05-10T19:01:14.675Z"
   },
   {
    "duration": 19,
    "start_time": "2022-05-10T19:01:23.595Z"
   },
   {
    "duration": 284,
    "start_time": "2022-05-10T19:01:47.119Z"
   },
   {
    "duration": 283,
    "start_time": "2022-05-10T19:01:56.647Z"
   },
   {
    "duration": 659,
    "start_time": "2022-05-10T19:04:02.503Z"
   },
   {
    "duration": 855,
    "start_time": "2022-05-10T19:04:54.730Z"
   },
   {
    "duration": 620,
    "start_time": "2022-05-10T19:09:08.202Z"
   },
   {
    "duration": 1107,
    "start_time": "2022-05-10T19:10:37.442Z"
   },
   {
    "duration": 1442,
    "start_time": "2022-05-11T13:44:01.392Z"
   },
   {
    "duration": 125,
    "start_time": "2022-05-11T13:44:02.836Z"
   },
   {
    "duration": 15,
    "start_time": "2022-05-11T13:44:02.963Z"
   },
   {
    "duration": 10,
    "start_time": "2022-05-11T13:44:02.980Z"
   },
   {
    "duration": 51,
    "start_time": "2022-05-11T13:44:02.992Z"
   },
   {
    "duration": 16,
    "start_time": "2022-05-11T13:44:03.045Z"
   },
   {
    "duration": 14,
    "start_time": "2022-05-11T13:44:03.063Z"
   },
   {
    "duration": 48,
    "start_time": "2022-05-11T13:44:03.079Z"
   },
   {
    "duration": 23,
    "start_time": "2022-05-11T13:44:03.129Z"
   },
   {
    "duration": 10,
    "start_time": "2022-05-11T13:44:03.155Z"
   },
   {
    "duration": 24,
    "start_time": "2022-05-11T13:44:03.167Z"
   },
   {
    "duration": 35,
    "start_time": "2022-05-11T13:44:03.193Z"
   },
   {
    "duration": 11,
    "start_time": "2022-05-11T13:44:03.230Z"
   },
   {
    "duration": 15,
    "start_time": "2022-05-11T13:44:03.243Z"
   },
   {
    "duration": 26,
    "start_time": "2022-05-11T13:44:03.260Z"
   },
   {
    "duration": 6,
    "start_time": "2022-05-11T13:44:03.288Z"
   },
   {
    "duration": 382,
    "start_time": "2022-05-11T13:44:03.296Z"
   },
   {
    "duration": 13,
    "start_time": "2022-05-11T13:44:03.680Z"
   },
   {
    "duration": 468,
    "start_time": "2022-05-11T13:44:03.695Z"
   },
   {
    "duration": 7,
    "start_time": "2022-05-11T13:44:04.165Z"
   },
   {
    "duration": 23,
    "start_time": "2022-05-11T13:44:04.173Z"
   },
   {
    "duration": 374,
    "start_time": "2022-05-11T13:44:04.198Z"
   },
   {
    "duration": 275,
    "start_time": "2022-05-11T13:44:04.574Z"
   },
   {
    "duration": 7,
    "start_time": "2022-05-11T13:44:04.851Z"
   },
   {
    "duration": 284,
    "start_time": "2022-05-11T13:44:04.860Z"
   },
   {
    "duration": 290,
    "start_time": "2022-05-11T13:44:05.146Z"
   },
   {
    "duration": 365,
    "start_time": "2022-05-11T13:44:05.438Z"
   },
   {
    "duration": 261,
    "start_time": "2022-05-11T13:44:05.806Z"
   },
   {
    "duration": 253,
    "start_time": "2022-05-11T13:44:06.069Z"
   },
   {
    "duration": 259,
    "start_time": "2022-05-11T13:44:06.325Z"
   },
   {
    "duration": 25,
    "start_time": "2022-05-11T13:44:06.586Z"
   },
   {
    "duration": 41,
    "start_time": "2022-05-11T13:44:06.614Z"
   },
   {
    "duration": 22,
    "start_time": "2022-05-11T13:44:06.657Z"
   },
   {
    "duration": 418,
    "start_time": "2022-05-11T13:44:06.681Z"
   },
   {
    "duration": 3,
    "start_time": "2022-05-11T13:50:35.133Z"
   },
   {
    "duration": 115,
    "start_time": "2022-05-11T13:51:11.928Z"
   },
   {
    "duration": 3,
    "start_time": "2022-05-11T13:51:24.552Z"
   },
   {
    "duration": 2666,
    "start_time": "2022-05-11T13:51:33.680Z"
   },
   {
    "duration": 16,
    "start_time": "2022-05-11T13:51:44.927Z"
   },
   {
    "duration": 3,
    "start_time": "2022-05-11T13:52:24.864Z"
   },
   {
    "duration": 17,
    "start_time": "2022-05-11T13:52:25.608Z"
   },
   {
    "duration": 8,
    "start_time": "2022-05-11T13:53:09.752Z"
   },
   {
    "duration": 3,
    "start_time": "2022-05-11T13:53:12.456Z"
   },
   {
    "duration": 12,
    "start_time": "2022-05-11T13:53:12.855Z"
   },
   {
    "duration": 5,
    "start_time": "2022-05-11T13:53:20.224Z"
   },
   {
    "duration": 14,
    "start_time": "2022-05-11T13:53:20.596Z"
   },
   {
    "duration": 15,
    "start_time": "2022-05-11T13:54:18.532Z"
   },
   {
    "duration": 166,
    "start_time": "2022-05-11T13:54:34.676Z"
   },
   {
    "duration": 127,
    "start_time": "2022-05-11T13:55:31.956Z"
   },
   {
    "duration": 3,
    "start_time": "2022-05-11T13:56:27.303Z"
   },
   {
    "duration": 15,
    "start_time": "2022-05-11T13:56:48.704Z"
   },
   {
    "duration": 3,
    "start_time": "2022-05-11T13:57:23.400Z"
   },
   {
    "duration": 29,
    "start_time": "2022-05-11T13:57:24.124Z"
   },
   {
    "duration": 3,
    "start_time": "2022-05-11T13:59:49.239Z"
   },
   {
    "duration": 15,
    "start_time": "2022-05-11T13:59:51.959Z"
   },
   {
    "duration": 5,
    "start_time": "2022-05-11T14:01:09.423Z"
   },
   {
    "duration": 10,
    "start_time": "2022-05-11T14:01:09.983Z"
   },
   {
    "duration": 16,
    "start_time": "2022-05-11T14:01:14.787Z"
   },
   {
    "duration": 13,
    "start_time": "2022-05-11T14:01:22.487Z"
   },
   {
    "duration": 3,
    "start_time": "2022-05-11T14:01:30.003Z"
   },
   {
    "duration": 14,
    "start_time": "2022-05-11T14:01:30.363Z"
   },
   {
    "duration": 3,
    "start_time": "2022-05-11T14:01:47.639Z"
   },
   {
    "duration": 14,
    "start_time": "2022-05-11T14:01:48.027Z"
   },
   {
    "duration": 3,
    "start_time": "2022-05-11T14:02:07.700Z"
   },
   {
    "duration": 14,
    "start_time": "2022-05-11T14:02:08.183Z"
   },
   {
    "duration": 21,
    "start_time": "2022-05-11T14:02:26.079Z"
   },
   {
    "duration": 3,
    "start_time": "2022-05-11T14:02:46.399Z"
   },
   {
    "duration": 13,
    "start_time": "2022-05-11T14:02:51.783Z"
   },
   {
    "duration": 4,
    "start_time": "2022-05-11T14:03:07.563Z"
   },
   {
    "duration": 27,
    "start_time": "2022-05-11T14:03:07.983Z"
   },
   {
    "duration": 8,
    "start_time": "2022-05-11T14:03:28.707Z"
   },
   {
    "duration": 3,
    "start_time": "2022-05-11T14:03:30.963Z"
   },
   {
    "duration": 25,
    "start_time": "2022-05-11T14:03:31.395Z"
   },
   {
    "duration": 3,
    "start_time": "2022-05-11T14:03:50.123Z"
   },
   {
    "duration": 2958,
    "start_time": "2022-05-11T14:03:55.391Z"
   },
   {
    "duration": 16,
    "start_time": "2022-05-11T14:04:05.051Z"
   },
   {
    "duration": 4,
    "start_time": "2022-05-11T14:04:17.427Z"
   },
   {
    "duration": 17,
    "start_time": "2022-05-11T14:04:20.178Z"
   },
   {
    "duration": 3,
    "start_time": "2022-05-11T14:04:36.371Z"
   },
   {
    "duration": 11,
    "start_time": "2022-05-11T14:04:36.887Z"
   },
   {
    "duration": 14,
    "start_time": "2022-05-11T14:04:40.143Z"
   },
   {
    "duration": 3,
    "start_time": "2022-05-11T14:04:46.070Z"
   },
   {
    "duration": 3,
    "start_time": "2022-05-11T14:04:48.135Z"
   },
   {
    "duration": 25,
    "start_time": "2022-05-11T14:04:48.551Z"
   },
   {
    "duration": 3,
    "start_time": "2022-05-11T14:05:32.679Z"
   },
   {
    "duration": 16,
    "start_time": "2022-05-11T14:05:33.467Z"
   },
   {
    "duration": 9,
    "start_time": "2022-05-11T14:05:42.295Z"
   },
   {
    "duration": 13,
    "start_time": "2022-05-11T14:05:54.982Z"
   },
   {
    "duration": 4,
    "start_time": "2022-05-11T14:05:59.034Z"
   },
   {
    "duration": 16,
    "start_time": "2022-05-11T14:05:59.726Z"
   },
   {
    "duration": 15,
    "start_time": "2022-05-11T14:06:11.255Z"
   },
   {
    "duration": 12,
    "start_time": "2022-05-11T14:06:35.059Z"
   },
   {
    "duration": 5,
    "start_time": "2022-05-11T14:08:17.523Z"
   },
   {
    "duration": 3,
    "start_time": "2022-05-11T14:08:59.555Z"
   },
   {
    "duration": 194,
    "start_time": "2022-05-11T14:09:00.007Z"
   },
   {
    "duration": 3,
    "start_time": "2022-05-11T14:09:41.783Z"
   },
   {
    "duration": 275,
    "start_time": "2022-05-11T14:09:42.163Z"
   },
   {
    "duration": 4,
    "start_time": "2022-05-11T14:11:55.995Z"
   },
   {
    "duration": 194,
    "start_time": "2022-05-11T14:11:56.715Z"
   },
   {
    "duration": 4,
    "start_time": "2022-05-11T14:12:24.023Z"
   },
   {
    "duration": 195,
    "start_time": "2022-05-11T14:12:24.614Z"
   },
   {
    "duration": 4,
    "start_time": "2022-05-11T14:12:51.467Z"
   },
   {
    "duration": 195,
    "start_time": "2022-05-11T14:12:51.895Z"
   },
   {
    "duration": 191,
    "start_time": "2022-05-11T14:13:17.616Z"
   },
   {
    "duration": 3,
    "start_time": "2022-05-11T14:13:35.599Z"
   },
   {
    "duration": 193,
    "start_time": "2022-05-11T14:13:36.107Z"
   },
   {
    "duration": 5,
    "start_time": "2022-05-11T14:19:11.847Z"
   },
   {
    "duration": 9,
    "start_time": "2022-05-11T14:19:13.311Z"
   },
   {
    "duration": 207,
    "start_time": "2022-05-11T14:19:25.011Z"
   },
   {
    "duration": 5,
    "start_time": "2022-05-11T14:20:02.024Z"
   },
   {
    "duration": 213,
    "start_time": "2022-05-11T14:20:02.491Z"
   },
   {
    "duration": 6,
    "start_time": "2022-05-11T14:20:26.355Z"
   },
   {
    "duration": 210,
    "start_time": "2022-05-11T14:20:26.833Z"
   },
   {
    "duration": 192,
    "start_time": "2022-05-11T14:25:06.555Z"
   },
   {
    "duration": 4,
    "start_time": "2022-05-11T14:25:10.104Z"
   },
   {
    "duration": 190,
    "start_time": "2022-05-11T14:25:22.418Z"
   },
   {
    "duration": 28,
    "start_time": "2022-05-11T14:26:04.523Z"
   },
   {
    "duration": 6,
    "start_time": "2022-05-11T14:26:14.379Z"
   },
   {
    "duration": 209,
    "start_time": "2022-05-11T14:26:16.347Z"
   },
   {
    "duration": 4,
    "start_time": "2022-05-11T14:28:16.799Z"
   },
   {
    "duration": 357,
    "start_time": "2022-05-11T14:28:19.108Z"
   },
   {
    "duration": 6,
    "start_time": "2022-05-11T14:29:45.571Z"
   },
   {
    "duration": 511,
    "start_time": "2022-05-11T14:29:47.616Z"
   },
   {
    "duration": 867,
    "start_time": "2022-05-11T14:33:17.459Z"
   },
   {
    "duration": 10,
    "start_time": "2022-05-11T14:35:29.071Z"
   },
   {
    "duration": 578,
    "start_time": "2022-05-11T14:35:29.707Z"
   },
   {
    "duration": 6,
    "start_time": "2022-05-11T14:47:36.906Z"
   },
   {
    "duration": 29,
    "start_time": "2022-05-11T14:47:37.374Z"
   },
   {
    "duration": 3,
    "start_time": "2022-05-11T14:48:15.603Z"
   },
   {
    "duration": 71,
    "start_time": "2022-05-11T14:48:15.608Z"
   },
   {
    "duration": 17,
    "start_time": "2022-05-11T14:48:15.682Z"
   },
   {
    "duration": 29,
    "start_time": "2022-05-11T14:48:15.701Z"
   },
   {
    "duration": 31,
    "start_time": "2022-05-11T14:48:15.733Z"
   },
   {
    "duration": 19,
    "start_time": "2022-05-11T14:48:15.767Z"
   },
   {
    "duration": 13,
    "start_time": "2022-05-11T14:48:15.787Z"
   },
   {
    "duration": 51,
    "start_time": "2022-05-11T14:48:15.802Z"
   },
   {
    "duration": 20,
    "start_time": "2022-05-11T14:48:15.855Z"
   },
   {
    "duration": 16,
    "start_time": "2022-05-11T14:48:15.877Z"
   },
   {
    "duration": 57,
    "start_time": "2022-05-11T14:48:15.897Z"
   },
   {
    "duration": 11,
    "start_time": "2022-05-11T14:48:15.956Z"
   },
   {
    "duration": 10,
    "start_time": "2022-05-11T14:48:15.970Z"
   },
   {
    "duration": 13,
    "start_time": "2022-05-11T14:48:15.982Z"
   },
   {
    "duration": 35,
    "start_time": "2022-05-11T14:48:15.997Z"
   },
   {
    "duration": 12,
    "start_time": "2022-05-11T14:48:16.034Z"
   },
   {
    "duration": 401,
    "start_time": "2022-05-11T14:48:16.049Z"
   },
   {
    "duration": 13,
    "start_time": "2022-05-11T14:48:16.452Z"
   },
   {
    "duration": 396,
    "start_time": "2022-05-11T14:48:16.466Z"
   },
   {
    "duration": 8,
    "start_time": "2022-05-11T14:48:16.864Z"
   },
   {
    "duration": 16,
    "start_time": "2022-05-11T14:48:16.874Z"
   },
   {
    "duration": 499,
    "start_time": "2022-05-11T14:48:16.893Z"
   },
   {
    "duration": 218,
    "start_time": "2022-05-11T14:48:17.395Z"
   },
   {
    "duration": 7,
    "start_time": "2022-05-11T14:48:17.623Z"
   },
   {
    "duration": 268,
    "start_time": "2022-05-11T14:48:17.632Z"
   },
   {
    "duration": 274,
    "start_time": "2022-05-11T14:48:17.902Z"
   },
   {
    "duration": 262,
    "start_time": "2022-05-11T14:48:18.178Z"
   },
   {
    "duration": 257,
    "start_time": "2022-05-11T14:48:18.442Z"
   },
   {
    "duration": 301,
    "start_time": "2022-05-11T14:48:18.703Z"
   },
   {
    "duration": 258,
    "start_time": "2022-05-11T14:48:19.006Z"
   },
   {
    "duration": 24,
    "start_time": "2022-05-11T14:48:19.266Z"
   },
   {
    "duration": 60,
    "start_time": "2022-05-11T14:48:19.293Z"
   },
   {
    "duration": 22,
    "start_time": "2022-05-11T14:48:19.355Z"
   },
   {
    "duration": 397,
    "start_time": "2022-05-11T14:48:19.378Z"
   },
   {
    "duration": 4,
    "start_time": "2022-05-11T14:48:19.777Z"
   },
   {
    "duration": 5,
    "start_time": "2022-05-11T14:48:19.783Z"
   },
   {
    "duration": 8,
    "start_time": "2022-05-11T14:48:19.790Z"
   },
   {
    "duration": 577,
    "start_time": "2022-05-11T14:48:19.800Z"
   },
   {
    "duration": 5,
    "start_time": "2022-05-11T14:49:00.059Z"
   },
   {
    "duration": 550,
    "start_time": "2022-05-11T14:49:00.490Z"
   },
   {
    "duration": 6,
    "start_time": "2022-05-11T14:49:55.559Z"
   },
   {
    "duration": 547,
    "start_time": "2022-05-11T14:49:56.011Z"
   },
   {
    "duration": 7,
    "start_time": "2022-05-11T14:51:50.634Z"
   },
   {
    "duration": 852,
    "start_time": "2022-05-11T14:51:51.019Z"
   },
   {
    "duration": 161,
    "start_time": "2022-05-11T14:53:14.606Z"
   },
   {
    "duration": 889,
    "start_time": "2022-05-11T14:53:15.666Z"
   },
   {
    "duration": 9,
    "start_time": "2022-05-11T14:53:25.195Z"
   },
   {
    "duration": 835,
    "start_time": "2022-05-11T14:53:25.579Z"
   },
   {
    "duration": 219,
    "start_time": "2022-05-11T14:54:00.554Z"
   },
   {
    "duration": 557,
    "start_time": "2022-05-11T14:54:00.934Z"
   },
   {
    "duration": 6,
    "start_time": "2022-05-11T14:54:04.078Z"
   },
   {
    "duration": 556,
    "start_time": "2022-05-11T14:54:04.443Z"
   },
   {
    "duration": 4,
    "start_time": "2022-05-11T15:50:48.153Z"
   },
   {
    "duration": 67,
    "start_time": "2022-05-11T15:50:48.159Z"
   },
   {
    "duration": 14,
    "start_time": "2022-05-11T15:50:48.229Z"
   },
   {
    "duration": 8,
    "start_time": "2022-05-11T15:50:48.245Z"
   },
   {
    "duration": 20,
    "start_time": "2022-05-11T15:50:48.255Z"
   },
   {
    "duration": 53,
    "start_time": "2022-05-11T15:50:48.277Z"
   },
   {
    "duration": 5,
    "start_time": "2022-05-11T15:50:48.331Z"
   },
   {
    "duration": 20,
    "start_time": "2022-05-11T15:50:48.338Z"
   },
   {
    "duration": 26,
    "start_time": "2022-05-11T15:50:48.360Z"
   },
   {
    "duration": 43,
    "start_time": "2022-05-11T15:50:48.389Z"
   },
   {
    "duration": 16,
    "start_time": "2022-05-11T15:50:48.436Z"
   },
   {
    "duration": 11,
    "start_time": "2022-05-11T15:50:48.454Z"
   },
   {
    "duration": 8,
    "start_time": "2022-05-11T15:50:48.467Z"
   },
   {
    "duration": 47,
    "start_time": "2022-05-11T15:50:48.477Z"
   },
   {
    "duration": 12,
    "start_time": "2022-05-11T15:50:48.526Z"
   },
   {
    "duration": 7,
    "start_time": "2022-05-11T15:50:48.540Z"
   },
   {
    "duration": 719,
    "start_time": "2022-05-11T15:50:48.549Z"
   },
   {
    "duration": 18,
    "start_time": "2022-05-11T15:50:49.271Z"
   },
   {
    "duration": 462,
    "start_time": "2022-05-11T15:50:49.292Z"
   },
   {
    "duration": 7,
    "start_time": "2022-05-11T15:50:49.755Z"
   },
   {
    "duration": 28,
    "start_time": "2022-05-11T15:50:49.764Z"
   },
   {
    "duration": 311,
    "start_time": "2022-05-11T15:50:49.794Z"
   },
   {
    "duration": 191,
    "start_time": "2022-05-11T15:50:50.107Z"
   },
   {
    "duration": 4,
    "start_time": "2022-05-11T15:50:50.300Z"
   },
   {
    "duration": 270,
    "start_time": "2022-05-11T15:50:50.307Z"
   },
   {
    "duration": 248,
    "start_time": "2022-05-11T15:50:50.579Z"
   },
   {
    "duration": 249,
    "start_time": "2022-05-11T15:50:50.829Z"
   },
   {
    "duration": 249,
    "start_time": "2022-05-11T15:50:51.079Z"
   },
   {
    "duration": 225,
    "start_time": "2022-05-11T15:50:51.332Z"
   },
   {
    "duration": 240,
    "start_time": "2022-05-11T15:50:51.558Z"
   },
   {
    "duration": 34,
    "start_time": "2022-05-11T15:50:51.800Z"
   },
   {
    "duration": 26,
    "start_time": "2022-05-11T15:50:51.836Z"
   },
   {
    "duration": 24,
    "start_time": "2022-05-11T15:50:51.864Z"
   },
   {
    "duration": 419,
    "start_time": "2022-05-11T15:50:51.890Z"
   },
   {
    "duration": 17,
    "start_time": "2022-05-11T15:50:52.312Z"
   },
   {
    "duration": 775,
    "start_time": "2022-05-11T15:50:52.332Z"
   },
   {
    "duration": 6,
    "start_time": "2022-05-11T15:52:15.889Z"
   },
   {
    "duration": 889,
    "start_time": "2022-05-11T15:52:16.677Z"
   },
   {
    "duration": 6,
    "start_time": "2022-05-11T15:58:29.797Z"
   },
   {
    "duration": 485,
    "start_time": "2022-05-11T15:58:30.438Z"
   },
   {
    "duration": 5,
    "start_time": "2022-05-11T15:59:09.873Z"
   },
   {
    "duration": 385,
    "start_time": "2022-05-11T15:59:10.281Z"
   },
   {
    "duration": 6,
    "start_time": "2022-05-11T16:07:29.213Z"
   },
   {
    "duration": 867,
    "start_time": "2022-05-11T16:07:36.999Z"
   },
   {
    "duration": 6,
    "start_time": "2022-05-11T16:07:51.289Z"
   },
   {
    "duration": 475,
    "start_time": "2022-05-11T16:07:52.633Z"
   },
   {
    "duration": 6,
    "start_time": "2022-05-11T16:08:07.805Z"
   },
   {
    "duration": 703,
    "start_time": "2022-05-11T16:08:08.369Z"
   },
   {
    "duration": 7,
    "start_time": "2022-05-11T16:08:46.968Z"
   },
   {
    "duration": 812,
    "start_time": "2022-05-11T16:08:47.342Z"
   },
   {
    "duration": 7,
    "start_time": "2022-05-11T16:09:39.873Z"
   },
   {
    "duration": 663,
    "start_time": "2022-05-11T16:09:40.237Z"
   },
   {
    "duration": 6,
    "start_time": "2022-05-11T16:09:47.201Z"
   },
   {
    "duration": 656,
    "start_time": "2022-05-11T16:09:48.257Z"
   },
   {
    "duration": 6,
    "start_time": "2022-05-11T16:14:22.429Z"
   },
   {
    "duration": 6,
    "start_time": "2022-05-11T16:14:27.454Z"
   },
   {
    "duration": 6,
    "start_time": "2022-05-11T16:14:33.416Z"
   },
   {
    "duration": 2911,
    "start_time": "2022-05-11T16:14:54.384Z"
   },
   {
    "duration": 6,
    "start_time": "2022-05-11T16:15:15.832Z"
   },
   {
    "duration": 2740,
    "start_time": "2022-05-11T16:15:16.452Z"
   },
   {
    "duration": 4,
    "start_time": "2022-05-11T16:15:45.573Z"
   },
   {
    "duration": 37,
    "start_time": "2022-05-11T16:15:45.981Z"
   },
   {
    "duration": 5,
    "start_time": "2022-05-11T16:16:00.389Z"
   },
   {
    "duration": 2741,
    "start_time": "2022-05-11T16:16:00.837Z"
   },
   {
    "duration": 6,
    "start_time": "2022-05-11T16:16:13.128Z"
   },
   {
    "duration": 28,
    "start_time": "2022-05-11T16:16:14.552Z"
   },
   {
    "duration": 5,
    "start_time": "2022-05-11T16:16:33.272Z"
   },
   {
    "duration": 124,
    "start_time": "2022-05-11T16:16:33.644Z"
   },
   {
    "duration": 7,
    "start_time": "2022-05-11T16:17:07.265Z"
   },
   {
    "duration": 140,
    "start_time": "2022-05-11T16:17:07.760Z"
   },
   {
    "duration": 6,
    "start_time": "2022-05-11T16:18:27.597Z"
   },
   {
    "duration": 115,
    "start_time": "2022-05-11T16:18:27.981Z"
   },
   {
    "duration": 5,
    "start_time": "2022-05-11T16:18:34.528Z"
   },
   {
    "duration": 125,
    "start_time": "2022-05-11T16:18:34.932Z"
   },
   {
    "duration": 4,
    "start_time": "2022-05-11T16:18:38.237Z"
   },
   {
    "duration": 235,
    "start_time": "2022-05-11T16:18:38.548Z"
   },
   {
    "duration": 162,
    "start_time": "2022-05-11T16:18:51.277Z"
   },
   {
    "duration": 140,
    "start_time": "2022-05-11T16:18:51.632Z"
   },
   {
    "duration": 5,
    "start_time": "2022-05-11T16:19:41.964Z"
   },
   {
    "duration": 127,
    "start_time": "2022-05-11T16:19:42.820Z"
   },
   {
    "duration": 5,
    "start_time": "2022-05-11T16:19:51.169Z"
   },
   {
    "duration": 233,
    "start_time": "2022-05-11T16:19:51.504Z"
   },
   {
    "duration": 8,
    "start_time": "2022-05-11T16:20:10.469Z"
   },
   {
    "duration": 589,
    "start_time": "2022-05-11T16:20:10.773Z"
   },
   {
    "duration": 5,
    "start_time": "2022-05-11T16:20:30.777Z"
   },
   {
    "duration": 372,
    "start_time": "2022-05-11T16:20:31.085Z"
   },
   {
    "duration": 4,
    "start_time": "2022-05-11T16:20:40.357Z"
   },
   {
    "duration": 255,
    "start_time": "2022-05-11T16:20:40.788Z"
   },
   {
    "duration": 6,
    "start_time": "2022-05-11T16:20:43.816Z"
   },
   {
    "duration": 800,
    "start_time": "2022-05-11T16:20:44.233Z"
   },
   {
    "duration": 7,
    "start_time": "2022-05-11T16:20:49.157Z"
   },
   {
    "duration": 431,
    "start_time": "2022-05-11T16:20:49.549Z"
   },
   {
    "duration": 8,
    "start_time": "2022-05-11T16:20:56.529Z"
   },
   {
    "duration": 586,
    "start_time": "2022-05-11T16:20:56.909Z"
   },
   {
    "duration": 6,
    "start_time": "2022-05-11T16:21:10.136Z"
   },
   {
    "duration": 256,
    "start_time": "2022-05-11T16:21:10.495Z"
   },
   {
    "duration": 6,
    "start_time": "2022-05-11T16:21:19.032Z"
   },
   {
    "duration": 319,
    "start_time": "2022-05-11T16:21:19.436Z"
   },
   {
    "duration": 6,
    "start_time": "2022-05-11T16:21:26.209Z"
   },
   {
    "duration": 357,
    "start_time": "2022-05-11T16:21:26.584Z"
   },
   {
    "duration": 4,
    "start_time": "2022-05-11T16:23:18.341Z"
   },
   {
    "duration": 125,
    "start_time": "2022-05-11T16:23:18.712Z"
   },
   {
    "duration": 6,
    "start_time": "2022-05-11T16:23:38.545Z"
   },
   {
    "duration": 141,
    "start_time": "2022-05-11T16:23:38.624Z"
   },
   {
    "duration": 4,
    "start_time": "2022-05-11T16:23:51.549Z"
   },
   {
    "duration": 121,
    "start_time": "2022-05-11T16:23:51.933Z"
   },
   {
    "duration": 5,
    "start_time": "2022-05-11T16:24:01.105Z"
   },
   {
    "duration": 127,
    "start_time": "2022-05-11T16:24:01.497Z"
   },
   {
    "duration": 5,
    "start_time": "2022-05-11T16:26:40.777Z"
   },
   {
    "duration": 316,
    "start_time": "2022-05-11T16:26:41.165Z"
   },
   {
    "duration": 5,
    "start_time": "2022-05-11T16:26:55.433Z"
   },
   {
    "duration": 592,
    "start_time": "2022-05-11T16:26:55.793Z"
   },
   {
    "duration": 8,
    "start_time": "2022-05-11T16:27:17.489Z"
   },
   {
    "duration": 991,
    "start_time": "2022-05-11T16:27:17.837Z"
   },
   {
    "duration": 7,
    "start_time": "2022-05-11T16:27:27.393Z"
   },
   {
    "duration": 8,
    "start_time": "2022-05-11T16:27:36.181Z"
   },
   {
    "duration": 1013,
    "start_time": "2022-05-11T16:27:38.750Z"
   },
   {
    "duration": 6,
    "start_time": "2022-05-11T16:27:51.220Z"
   },
   {
    "duration": 283,
    "start_time": "2022-05-11T16:27:51.536Z"
   },
   {
    "duration": 6,
    "start_time": "2022-05-11T16:28:01.461Z"
   },
   {
    "duration": 695,
    "start_time": "2022-05-11T16:28:01.764Z"
   },
   {
    "duration": 5,
    "start_time": "2022-05-11T16:28:09.057Z"
   },
   {
    "duration": 727,
    "start_time": "2022-05-11T16:28:12.436Z"
   },
   {
    "duration": 5,
    "start_time": "2022-05-11T16:28:26.636Z"
   },
   {
    "duration": 617,
    "start_time": "2022-05-11T16:28:27.049Z"
   },
   {
    "duration": 1047,
    "start_time": "2022-05-11T16:30:15.852Z"
   },
   {
    "duration": 6,
    "start_time": "2022-05-11T16:31:54.221Z"
   },
   {
    "duration": 391,
    "start_time": "2022-05-11T16:31:54.884Z"
   },
   {
    "duration": 5,
    "start_time": "2022-05-11T16:32:51.324Z"
   },
   {
    "duration": 377,
    "start_time": "2022-05-11T16:32:51.772Z"
   },
   {
    "duration": 5,
    "start_time": "2022-05-11T16:34:57.841Z"
   },
   {
    "duration": 283,
    "start_time": "2022-05-11T16:34:58.172Z"
   },
   {
    "duration": 5,
    "start_time": "2022-05-11T16:35:02.070Z"
   },
   {
    "duration": 357,
    "start_time": "2022-05-11T16:35:02.473Z"
   },
   {
    "duration": 5,
    "start_time": "2022-05-11T16:35:08.181Z"
   },
   {
    "duration": 432,
    "start_time": "2022-05-11T16:35:08.649Z"
   },
   {
    "duration": 5,
    "start_time": "2022-05-11T16:35:14.337Z"
   },
   {
    "duration": 381,
    "start_time": "2022-05-11T16:35:14.749Z"
   },
   {
    "duration": 5,
    "start_time": "2022-05-11T16:35:25.557Z"
   },
   {
    "duration": 385,
    "start_time": "2022-05-11T16:35:25.961Z"
   },
   {
    "duration": 159,
    "start_time": "2022-05-11T16:39:50.605Z"
   },
   {
    "duration": 280,
    "start_time": "2022-05-11T16:39:51.094Z"
   },
   {
    "duration": 6,
    "start_time": "2022-05-11T16:40:02.261Z"
   },
   {
    "duration": 516,
    "start_time": "2022-05-11T16:40:02.857Z"
   },
   {
    "duration": 650,
    "start_time": "2022-05-11T16:40:26.308Z"
   },
   {
    "duration": 5,
    "start_time": "2022-05-11T16:40:57.928Z"
   },
   {
    "duration": 572,
    "start_time": "2022-05-11T16:40:58.480Z"
   },
   {
    "duration": 848,
    "start_time": "2022-05-11T16:41:17.149Z"
   },
   {
    "duration": 627,
    "start_time": "2022-05-11T16:41:23.212Z"
   },
   {
    "duration": 4,
    "start_time": "2022-05-11T16:41:45.656Z"
   },
   {
    "duration": 644,
    "start_time": "2022-05-11T16:41:46.312Z"
   },
   {
    "duration": 641,
    "start_time": "2022-05-11T16:41:53.000Z"
   },
   {
    "duration": 559,
    "start_time": "2022-05-11T16:41:59.133Z"
   },
   {
    "duration": 793,
    "start_time": "2022-05-11T16:42:04.081Z"
   },
   {
    "duration": 699,
    "start_time": "2022-05-11T16:42:16.512Z"
   },
   {
    "duration": 639,
    "start_time": "2022-05-11T16:42:22.349Z"
   },
   {
    "duration": 4,
    "start_time": "2022-05-11T16:42:41.728Z"
   },
   {
    "duration": 671,
    "start_time": "2022-05-11T16:42:42.212Z"
   },
   {
    "duration": 205,
    "start_time": "2022-05-11T16:44:02.104Z"
   },
   {
    "duration": 164,
    "start_time": "2022-05-11T16:44:06.076Z"
   },
   {
    "duration": 680,
    "start_time": "2022-05-11T16:44:06.501Z"
   },
   {
    "duration": 198,
    "start_time": "2022-05-11T16:44:28.196Z"
   },
   {
    "duration": 169,
    "start_time": "2022-05-11T16:44:44.096Z"
   },
   {
    "duration": 955,
    "start_time": "2022-05-11T16:44:44.524Z"
   },
   {
    "duration": 249,
    "start_time": "2022-05-11T16:44:52.348Z"
   },
   {
    "duration": 157,
    "start_time": "2022-05-11T16:45:06.196Z"
   },
   {
    "duration": 5,
    "start_time": "2022-05-11T16:45:18.380Z"
   },
   {
    "duration": 922,
    "start_time": "2022-05-11T16:45:19.100Z"
   },
   {
    "duration": 4,
    "start_time": "2022-05-11T16:45:30.192Z"
   },
   {
    "duration": 644,
    "start_time": "2022-05-11T16:45:30.545Z"
   },
   {
    "duration": 4,
    "start_time": "2022-05-11T16:46:24.024Z"
   },
   {
    "duration": 619,
    "start_time": "2022-05-11T16:46:24.448Z"
   },
   {
    "duration": 4,
    "start_time": "2022-05-11T16:46:32.820Z"
   },
   {
    "duration": 606,
    "start_time": "2022-05-11T16:46:33.204Z"
   },
   {
    "duration": 4,
    "start_time": "2022-05-11T16:46:39.504Z"
   },
   {
    "duration": 758,
    "start_time": "2022-05-11T16:46:39.923Z"
   },
   {
    "duration": 4,
    "start_time": "2022-05-11T16:48:33.596Z"
   },
   {
    "duration": 405,
    "start_time": "2022-05-11T16:48:37.160Z"
   },
   {
    "duration": 5,
    "start_time": "2022-05-11T16:48:45.452Z"
   },
   {
    "duration": 787,
    "start_time": "2022-05-11T16:48:45.904Z"
   },
   {
    "duration": 3,
    "start_time": "2022-05-11T16:49:38.550Z"
   },
   {
    "duration": 270,
    "start_time": "2022-05-11T16:49:38.555Z"
   },
   {
    "duration": 5,
    "start_time": "2022-05-11T16:49:51.301Z"
   },
   {
    "duration": 630,
    "start_time": "2022-05-11T16:49:51.696Z"
   },
   {
    "duration": 67,
    "start_time": "2022-05-11T16:50:53.200Z"
   },
   {
    "duration": 711,
    "start_time": "2022-05-11T16:51:04.156Z"
   },
   {
    "duration": 403,
    "start_time": "2022-05-11T16:51:30.112Z"
   },
   {
    "duration": 9,
    "start_time": "2022-05-11T16:53:15.164Z"
   },
   {
    "duration": 4,
    "start_time": "2022-05-11T16:53:18.693Z"
   },
   {
    "duration": 9,
    "start_time": "2022-05-11T16:53:20.844Z"
   },
   {
    "duration": 9,
    "start_time": "2022-05-11T16:53:26.920Z"
   },
   {
    "duration": 4,
    "start_time": "2022-05-11T16:55:29.456Z"
   },
   {
    "duration": 5,
    "start_time": "2022-05-11T16:55:57.496Z"
   },
   {
    "duration": 266,
    "start_time": "2022-05-11T16:55:58.184Z"
   },
   {
    "duration": 5,
    "start_time": "2022-05-11T16:56:37.437Z"
   },
   {
    "duration": 895,
    "start_time": "2022-05-11T16:56:38.300Z"
   },
   {
    "duration": 504,
    "start_time": "2022-05-11T16:56:45.992Z"
   },
   {
    "duration": 402,
    "start_time": "2022-05-11T16:56:47.720Z"
   },
   {
    "duration": 4,
    "start_time": "2022-05-11T17:15:18.587Z"
   },
   {
    "duration": 9,
    "start_time": "2022-05-11T17:15:51.299Z"
   },
   {
    "duration": 764,
    "start_time": "2022-05-11T17:16:01.751Z"
   },
   {
    "duration": 3,
    "start_time": "2022-05-11T17:16:46.576Z"
   },
   {
    "duration": 57,
    "start_time": "2022-05-11T17:16:46.581Z"
   },
   {
    "duration": 16,
    "start_time": "2022-05-11T17:16:46.640Z"
   },
   {
    "duration": 4,
    "start_time": "2022-05-11T17:16:46.658Z"
   },
   {
    "duration": 20,
    "start_time": "2022-05-11T17:16:46.664Z"
   },
   {
    "duration": 46,
    "start_time": "2022-05-11T17:16:46.686Z"
   },
   {
    "duration": 5,
    "start_time": "2022-05-11T17:16:46.734Z"
   },
   {
    "duration": 22,
    "start_time": "2022-05-11T17:16:46.741Z"
   },
   {
    "duration": 19,
    "start_time": "2022-05-11T17:16:46.764Z"
   },
   {
    "duration": 9,
    "start_time": "2022-05-11T17:16:46.785Z"
   },
   {
    "duration": 14,
    "start_time": "2022-05-11T17:16:46.824Z"
   },
   {
    "duration": 10,
    "start_time": "2022-05-11T17:16:46.840Z"
   },
   {
    "duration": 8,
    "start_time": "2022-05-11T17:16:46.852Z"
   },
   {
    "duration": 15,
    "start_time": "2022-05-11T17:16:46.862Z"
   },
   {
    "duration": 45,
    "start_time": "2022-05-11T17:16:46.879Z"
   },
   {
    "duration": 12,
    "start_time": "2022-05-11T17:16:46.926Z"
   },
   {
    "duration": 4,
    "start_time": "2022-05-11T17:16:46.940Z"
   },
   {
    "duration": 318,
    "start_time": "2022-05-11T17:16:46.946Z"
   },
   {
    "duration": 13,
    "start_time": "2022-05-11T17:16:47.266Z"
   },
   {
    "duration": 281,
    "start_time": "2022-05-11T17:16:47.281Z"
   },
   {
    "duration": 7,
    "start_time": "2022-05-11T17:16:47.564Z"
   },
   {
    "duration": 17,
    "start_time": "2022-05-11T17:16:47.572Z"
   },
   {
    "duration": 339,
    "start_time": "2022-05-11T17:16:47.591Z"
   },
   {
    "duration": 198,
    "start_time": "2022-05-11T17:16:47.932Z"
   },
   {
    "duration": 5,
    "start_time": "2022-05-11T17:16:48.133Z"
   },
   {
    "duration": 363,
    "start_time": "2022-05-11T17:16:48.140Z"
   },
   {
    "duration": 224,
    "start_time": "2022-05-11T17:16:48.505Z"
   },
   {
    "duration": 228,
    "start_time": "2022-05-11T17:16:48.731Z"
   },
   {
    "duration": 232,
    "start_time": "2022-05-11T17:16:48.963Z"
   },
   {
    "duration": 217,
    "start_time": "2022-05-11T17:16:49.196Z"
   },
   {
    "duration": 225,
    "start_time": "2022-05-11T17:16:49.415Z"
   },
   {
    "duration": 23,
    "start_time": "2022-05-11T17:16:49.642Z"
   },
   {
    "duration": 275,
    "start_time": "2022-05-11T17:16:49.667Z"
   },
   {
    "duration": 4,
    "start_time": "2022-05-11T17:16:49.943Z"
   },
   {
    "duration": 621,
    "start_time": "2022-05-11T17:16:49.949Z"
   },
   {
    "duration": 4,
    "start_time": "2022-05-11T17:16:50.572Z"
   },
   {
    "duration": 648,
    "start_time": "2022-05-11T17:16:50.578Z"
   },
   {
    "duration": 639,
    "start_time": "2022-05-11T17:16:51.228Z"
   },
   {
    "duration": 405,
    "start_time": "2022-05-11T17:16:51.868Z"
   },
   {
    "duration": 652,
    "start_time": "2022-05-11T17:18:13.968Z"
   },
   {
    "duration": 220,
    "start_time": "2022-05-11T17:19:23.860Z"
   },
   {
    "duration": 8,
    "start_time": "2022-05-11T17:19:50.931Z"
   },
   {
    "duration": 7,
    "start_time": "2022-05-11T17:20:06.495Z"
   },
   {
    "duration": 3,
    "start_time": "2022-05-11T17:21:02.108Z"
   },
   {
    "duration": 60,
    "start_time": "2022-05-11T17:21:02.113Z"
   },
   {
    "duration": 16,
    "start_time": "2022-05-11T17:21:02.174Z"
   },
   {
    "duration": 11,
    "start_time": "2022-05-11T17:21:02.192Z"
   },
   {
    "duration": 33,
    "start_time": "2022-05-11T17:21:02.205Z"
   },
   {
    "duration": 18,
    "start_time": "2022-05-11T17:21:02.239Z"
   },
   {
    "duration": 5,
    "start_time": "2022-05-11T17:21:02.259Z"
   },
   {
    "duration": 21,
    "start_time": "2022-05-11T17:21:02.266Z"
   },
   {
    "duration": 49,
    "start_time": "2022-05-11T17:21:02.289Z"
   },
   {
    "duration": 15,
    "start_time": "2022-05-11T17:21:02.339Z"
   },
   {
    "duration": 16,
    "start_time": "2022-05-11T17:21:02.357Z"
   },
   {
    "duration": 10,
    "start_time": "2022-05-11T17:21:02.375Z"
   },
   {
    "duration": 8,
    "start_time": "2022-05-11T17:21:02.387Z"
   },
   {
    "duration": 9,
    "start_time": "2022-05-11T17:21:02.423Z"
   },
   {
    "duration": 118,
    "start_time": "2022-05-11T17:21:02.434Z"
   },
   {
    "duration": 7,
    "start_time": "2022-05-11T17:21:02.554Z"
   },
   {
    "duration": 15,
    "start_time": "2022-05-11T17:21:02.563Z"
   },
   {
    "duration": 5,
    "start_time": "2022-05-11T17:21:02.581Z"
   },
   {
    "duration": 330,
    "start_time": "2022-05-11T17:21:02.588Z"
   },
   {
    "duration": 15,
    "start_time": "2022-05-11T17:21:02.923Z"
   },
   {
    "duration": 295,
    "start_time": "2022-05-11T17:21:02.939Z"
   },
   {
    "duration": 7,
    "start_time": "2022-05-11T17:21:03.236Z"
   },
   {
    "duration": 26,
    "start_time": "2022-05-11T17:21:03.245Z"
   },
   {
    "duration": 327,
    "start_time": "2022-05-11T17:21:03.273Z"
   },
   {
    "duration": 203,
    "start_time": "2022-05-11T17:21:03.602Z"
   },
   {
    "duration": 5,
    "start_time": "2022-05-11T17:21:03.807Z"
   },
   {
    "duration": 245,
    "start_time": "2022-05-11T17:21:03.822Z"
   },
   {
    "duration": 239,
    "start_time": "2022-05-11T17:21:04.069Z"
   },
   {
    "duration": 225,
    "start_time": "2022-05-11T17:21:04.311Z"
   },
   {
    "duration": 242,
    "start_time": "2022-05-11T17:21:04.538Z"
   },
   {
    "duration": 229,
    "start_time": "2022-05-11T17:21:04.782Z"
   },
   {
    "duration": 243,
    "start_time": "2022-05-11T17:21:05.013Z"
   },
   {
    "duration": 25,
    "start_time": "2022-05-11T17:21:05.258Z"
   },
   {
    "duration": 449,
    "start_time": "2022-05-11T17:21:05.284Z"
   },
   {
    "duration": 3,
    "start_time": "2022-05-11T17:21:05.735Z"
   },
   {
    "duration": 517,
    "start_time": "2022-05-11T17:21:05.739Z"
   },
   {
    "duration": 4,
    "start_time": "2022-05-11T17:21:06.258Z"
   },
   {
    "duration": 658,
    "start_time": "2022-05-11T17:21:06.264Z"
   },
   {
    "duration": 551,
    "start_time": "2022-05-11T17:21:06.924Z"
   },
   {
    "duration": 424,
    "start_time": "2022-05-11T17:21:07.477Z"
   },
   {
    "duration": 12,
    "start_time": "2022-05-11T17:21:14.999Z"
   },
   {
    "duration": 118,
    "start_time": "2022-05-11T17:23:36.511Z"
   },
   {
    "duration": 8,
    "start_time": "2022-05-11T17:23:36.991Z"
   },
   {
    "duration": 116,
    "start_time": "2022-05-11T17:24:10.099Z"
   },
   {
    "duration": 9,
    "start_time": "2022-05-11T17:24:10.899Z"
   },
   {
    "duration": 3,
    "start_time": "2022-05-11T17:27:59.075Z"
   },
   {
    "duration": 1664,
    "start_time": "2022-05-11T17:27:59.081Z"
   },
   {
    "duration": 16,
    "start_time": "2022-05-11T17:28:00.748Z"
   },
   {
    "duration": 17,
    "start_time": "2022-05-11T17:28:00.766Z"
   },
   {
    "duration": 41,
    "start_time": "2022-05-11T17:28:00.786Z"
   },
   {
    "duration": 18,
    "start_time": "2022-05-11T17:28:00.829Z"
   },
   {
    "duration": 13,
    "start_time": "2022-05-11T17:28:00.848Z"
   },
   {
    "duration": 41,
    "start_time": "2022-05-11T17:28:00.862Z"
   },
   {
    "duration": 34,
    "start_time": "2022-05-11T17:28:00.905Z"
   },
   {
    "duration": 11,
    "start_time": "2022-05-11T17:28:00.941Z"
   },
   {
    "duration": 35,
    "start_time": "2022-05-11T17:28:00.955Z"
   },
   {
    "duration": 10,
    "start_time": "2022-05-11T17:28:00.992Z"
   },
   {
    "duration": 28,
    "start_time": "2022-05-11T17:28:01.004Z"
   },
   {
    "duration": 16,
    "start_time": "2022-05-11T17:28:01.034Z"
   },
   {
    "duration": 137,
    "start_time": "2022-05-11T17:28:01.051Z"
   },
   {
    "duration": 7,
    "start_time": "2022-05-11T17:28:01.190Z"
   },
   {
    "duration": 27,
    "start_time": "2022-05-11T17:28:01.198Z"
   },
   {
    "duration": 19,
    "start_time": "2022-05-11T17:28:01.226Z"
   },
   {
    "duration": 313,
    "start_time": "2022-05-11T17:28:01.247Z"
   },
   {
    "duration": 14,
    "start_time": "2022-05-11T17:28:01.562Z"
   },
   {
    "duration": 290,
    "start_time": "2022-05-11T17:28:01.578Z"
   },
   {
    "duration": 6,
    "start_time": "2022-05-11T17:28:01.870Z"
   },
   {
    "duration": 22,
    "start_time": "2022-05-11T17:28:01.878Z"
   },
   {
    "duration": 340,
    "start_time": "2022-05-11T17:28:01.902Z"
   },
   {
    "duration": 199,
    "start_time": "2022-05-11T17:28:02.244Z"
   },
   {
    "duration": 6,
    "start_time": "2022-05-11T17:28:02.445Z"
   },
   {
    "duration": 457,
    "start_time": "2022-05-11T17:28:02.452Z"
   },
   {
    "duration": 320,
    "start_time": "2022-05-11T17:28:02.911Z"
   },
   {
    "duration": 247,
    "start_time": "2022-05-11T17:28:03.234Z"
   },
   {
    "duration": 251,
    "start_time": "2022-05-11T17:28:03.483Z"
   },
   {
    "duration": 224,
    "start_time": "2022-05-11T17:28:03.737Z"
   },
   {
    "duration": 259,
    "start_time": "2022-05-11T17:28:03.963Z"
   },
   {
    "duration": 26,
    "start_time": "2022-05-11T17:28:04.224Z"
   },
   {
    "duration": 346,
    "start_time": "2022-05-11T17:28:04.252Z"
   },
   {
    "duration": 3,
    "start_time": "2022-05-11T17:28:04.600Z"
   },
   {
    "duration": 540,
    "start_time": "2022-05-11T17:28:04.605Z"
   },
   {
    "duration": 4,
    "start_time": "2022-05-11T17:28:05.147Z"
   },
   {
    "duration": 703,
    "start_time": "2022-05-11T17:28:05.153Z"
   },
   {
    "duration": 520,
    "start_time": "2022-05-11T17:28:05.858Z"
   },
   {
    "duration": 432,
    "start_time": "2022-05-11T17:28:06.380Z"
   },
   {
    "duration": 689,
    "start_time": "2022-05-11T17:28:06.813Z"
   },
   {
    "duration": 482,
    "start_time": "2022-05-11T17:30:41.515Z"
   },
   {
    "duration": 3,
    "start_time": "2022-05-11T17:30:47.548Z"
   },
   {
    "duration": 64,
    "start_time": "2022-05-11T17:30:47.553Z"
   },
   {
    "duration": 15,
    "start_time": "2022-05-11T17:30:47.619Z"
   },
   {
    "duration": 4,
    "start_time": "2022-05-11T17:30:47.636Z"
   },
   {
    "duration": 20,
    "start_time": "2022-05-11T17:30:47.642Z"
   },
   {
    "duration": 18,
    "start_time": "2022-05-11T17:30:47.663Z"
   },
   {
    "duration": 5,
    "start_time": "2022-05-11T17:30:47.683Z"
   },
   {
    "duration": 53,
    "start_time": "2022-05-11T17:30:47.690Z"
   },
   {
    "duration": 20,
    "start_time": "2022-05-11T17:30:47.745Z"
   },
   {
    "duration": 11,
    "start_time": "2022-05-11T17:30:47.767Z"
   },
   {
    "duration": 14,
    "start_time": "2022-05-11T17:30:47.780Z"
   },
   {
    "duration": 34,
    "start_time": "2022-05-11T17:30:47.796Z"
   },
   {
    "duration": 7,
    "start_time": "2022-05-11T17:30:47.832Z"
   },
   {
    "duration": 6,
    "start_time": "2022-05-11T17:30:47.840Z"
   },
   {
    "duration": 131,
    "start_time": "2022-05-11T17:30:47.847Z"
   },
   {
    "duration": 7,
    "start_time": "2022-05-11T17:30:47.980Z"
   },
   {
    "duration": 13,
    "start_time": "2022-05-11T17:30:47.988Z"
   },
   {
    "duration": 19,
    "start_time": "2022-05-11T17:30:48.003Z"
   },
   {
    "duration": 299,
    "start_time": "2022-05-11T17:30:48.025Z"
   },
   {
    "duration": 13,
    "start_time": "2022-05-11T17:30:48.325Z"
   },
   {
    "duration": 273,
    "start_time": "2022-05-11T17:30:48.340Z"
   },
   {
    "duration": 8,
    "start_time": "2022-05-11T17:30:48.622Z"
   },
   {
    "duration": 19,
    "start_time": "2022-05-11T17:30:48.631Z"
   },
   {
    "duration": 326,
    "start_time": "2022-05-11T17:30:48.653Z"
   },
   {
    "duration": 203,
    "start_time": "2022-05-11T17:30:48.981Z"
   },
   {
    "duration": 5,
    "start_time": "2022-05-11T17:30:49.186Z"
   },
   {
    "duration": 257,
    "start_time": "2022-05-11T17:30:49.192Z"
   },
   {
    "duration": 237,
    "start_time": "2022-05-11T17:30:49.451Z"
   },
   {
    "duration": 233,
    "start_time": "2022-05-11T17:30:49.690Z"
   },
   {
    "duration": 222,
    "start_time": "2022-05-11T17:30:49.924Z"
   },
   {
    "duration": 217,
    "start_time": "2022-05-11T17:30:50.147Z"
   },
   {
    "duration": 232,
    "start_time": "2022-05-11T17:30:50.366Z"
   },
   {
    "duration": 28,
    "start_time": "2022-05-11T17:30:50.600Z"
   },
   {
    "duration": 260,
    "start_time": "2022-05-11T17:30:50.630Z"
   },
   {
    "duration": 2,
    "start_time": "2022-05-11T17:30:50.892Z"
   },
   {
    "duration": 665,
    "start_time": "2022-05-11T17:30:50.896Z"
   },
   {
    "duration": 4,
    "start_time": "2022-05-11T17:30:51.563Z"
   },
   {
    "duration": 640,
    "start_time": "2022-05-11T17:30:51.568Z"
   },
   {
    "duration": 516,
    "start_time": "2022-05-11T17:30:52.209Z"
   },
   {
    "duration": 430,
    "start_time": "2022-05-11T17:30:52.727Z"
   },
   {
    "duration": 3,
    "start_time": "2022-05-11T17:31:43.431Z"
   },
   {
    "duration": 65,
    "start_time": "2022-05-11T17:31:43.436Z"
   },
   {
    "duration": 16,
    "start_time": "2022-05-11T17:31:43.522Z"
   },
   {
    "duration": 5,
    "start_time": "2022-05-11T17:31:43.540Z"
   },
   {
    "duration": 27,
    "start_time": "2022-05-11T17:31:43.547Z"
   },
   {
    "duration": 47,
    "start_time": "2022-05-11T17:31:43.576Z"
   },
   {
    "duration": 6,
    "start_time": "2022-05-11T17:31:43.624Z"
   },
   {
    "duration": 21,
    "start_time": "2022-05-11T17:31:43.632Z"
   },
   {
    "duration": 21,
    "start_time": "2022-05-11T17:31:43.655Z"
   },
   {
    "duration": 12,
    "start_time": "2022-05-11T17:31:43.678Z"
   },
   {
    "duration": 16,
    "start_time": "2022-05-11T17:31:43.723Z"
   },
   {
    "duration": 10,
    "start_time": "2022-05-11T17:31:43.741Z"
   },
   {
    "duration": 7,
    "start_time": "2022-05-11T17:31:43.755Z"
   },
   {
    "duration": 6,
    "start_time": "2022-05-11T17:31:43.764Z"
   },
   {
    "duration": 162,
    "start_time": "2022-05-11T17:31:43.771Z"
   },
   {
    "duration": 7,
    "start_time": "2022-05-11T17:31:43.935Z"
   },
   {
    "duration": 13,
    "start_time": "2022-05-11T17:31:43.944Z"
   },
   {
    "duration": 5,
    "start_time": "2022-05-11T17:31:43.959Z"
   },
   {
    "duration": 342,
    "start_time": "2022-05-11T17:31:43.966Z"
   },
   {
    "duration": 30,
    "start_time": "2022-05-11T17:31:44.311Z"
   },
   {
    "duration": 480,
    "start_time": "2022-05-11T17:31:44.343Z"
   },
   {
    "duration": 10,
    "start_time": "2022-05-11T17:31:44.826Z"
   },
   {
    "duration": 14,
    "start_time": "2022-05-11T17:31:44.838Z"
   },
   {
    "duration": 345,
    "start_time": "2022-05-11T17:31:44.854Z"
   },
   {
    "duration": 204,
    "start_time": "2022-05-11T17:31:45.201Z"
   },
   {
    "duration": 5,
    "start_time": "2022-05-11T17:31:45.407Z"
   },
   {
    "duration": 253,
    "start_time": "2022-05-11T17:31:45.423Z"
   },
   {
    "duration": 240,
    "start_time": "2022-05-11T17:31:45.678Z"
   },
   {
    "duration": 237,
    "start_time": "2022-05-11T17:31:45.920Z"
   },
   {
    "duration": 256,
    "start_time": "2022-05-11T17:31:46.158Z"
   },
   {
    "duration": 243,
    "start_time": "2022-05-11T17:31:46.417Z"
   },
   {
    "duration": 249,
    "start_time": "2022-05-11T17:31:46.662Z"
   },
   {
    "duration": 31,
    "start_time": "2022-05-11T17:31:46.913Z"
   },
   {
    "duration": 286,
    "start_time": "2022-05-11T17:31:46.947Z"
   },
   {
    "duration": 3,
    "start_time": "2022-05-11T17:31:47.235Z"
   },
   {
    "duration": 8,
    "start_time": "2022-05-11T17:31:47.239Z"
   },
   {
    "duration": 4,
    "start_time": "2022-05-11T17:31:47.251Z"
   },
   {
    "duration": 930,
    "start_time": "2022-05-11T17:31:47.257Z"
   },
   {
    "duration": 533,
    "start_time": "2022-05-11T17:31:48.189Z"
   },
   {
    "duration": 576,
    "start_time": "2022-05-11T17:31:48.724Z"
   },
   {
    "duration": 7,
    "start_time": "2022-05-11T17:36:45.995Z"
   },
   {
    "duration": 35,
    "start_time": "2022-05-11T17:37:26.446Z"
   },
   {
    "duration": 8,
    "start_time": "2022-05-11T17:37:39.795Z"
   },
   {
    "duration": 15,
    "start_time": "2022-05-11T17:38:54.543Z"
   },
   {
    "duration": 21,
    "start_time": "2022-05-11T17:39:01.907Z"
   },
   {
    "duration": 15,
    "start_time": "2022-05-12T15:26:02.513Z"
   },
   {
    "duration": 6,
    "start_time": "2022-05-12T15:26:58.920Z"
   },
   {
    "duration": 44,
    "start_time": "2022-05-12T15:26:59.497Z"
   },
   {
    "duration": 1329,
    "start_time": "2022-05-12T15:27:06.137Z"
   },
   {
    "duration": 120,
    "start_time": "2022-05-12T15:27:07.468Z"
   },
   {
    "duration": 17,
    "start_time": "2022-05-12T15:27:07.589Z"
   },
   {
    "duration": 7,
    "start_time": "2022-05-12T15:27:07.609Z"
   },
   {
    "duration": 23,
    "start_time": "2022-05-12T15:27:07.618Z"
   },
   {
    "duration": 40,
    "start_time": "2022-05-12T15:27:07.643Z"
   },
   {
    "duration": 8,
    "start_time": "2022-05-12T15:27:07.685Z"
   },
   {
    "duration": 39,
    "start_time": "2022-05-12T15:27:07.695Z"
   },
   {
    "duration": 35,
    "start_time": "2022-05-12T15:27:07.736Z"
   },
   {
    "duration": 15,
    "start_time": "2022-05-12T15:27:07.775Z"
   },
   {
    "duration": 26,
    "start_time": "2022-05-12T15:27:07.792Z"
   },
   {
    "duration": 10,
    "start_time": "2022-05-12T15:27:07.820Z"
   },
   {
    "duration": 8,
    "start_time": "2022-05-12T15:27:07.831Z"
   },
   {
    "duration": 31,
    "start_time": "2022-05-12T15:27:07.840Z"
   },
   {
    "duration": 125,
    "start_time": "2022-05-12T15:27:07.873Z"
   },
   {
    "duration": 7,
    "start_time": "2022-05-12T15:27:08.000Z"
   },
   {
    "duration": 15,
    "start_time": "2022-05-12T15:27:08.009Z"
   },
   {
    "duration": 5,
    "start_time": "2022-05-12T15:27:08.026Z"
   },
   {
    "duration": 527,
    "start_time": "2022-05-12T15:27:08.033Z"
   },
   {
    "duration": 17,
    "start_time": "2022-05-12T15:27:08.562Z"
   },
   {
    "duration": 352,
    "start_time": "2022-05-12T15:27:08.583Z"
   },
   {
    "duration": 6,
    "start_time": "2022-05-12T15:27:08.937Z"
   },
   {
    "duration": 47,
    "start_time": "2022-05-12T15:27:08.945Z"
   },
   {
    "duration": 546,
    "start_time": "2022-05-12T15:27:08.995Z"
   },
   {
    "duration": 266,
    "start_time": "2022-05-12T15:27:09.544Z"
   },
   {
    "duration": 8,
    "start_time": "2022-05-12T15:27:09.812Z"
   },
   {
    "duration": 349,
    "start_time": "2022-05-12T15:27:09.823Z"
   },
   {
    "duration": 0,
    "start_time": "2022-05-12T15:27:10.175Z"
   },
   {
    "duration": 0,
    "start_time": "2022-05-12T15:27:10.176Z"
   },
   {
    "duration": 0,
    "start_time": "2022-05-12T15:27:10.178Z"
   },
   {
    "duration": 0,
    "start_time": "2022-05-12T15:27:10.179Z"
   },
   {
    "duration": 0,
    "start_time": "2022-05-12T15:27:10.181Z"
   },
   {
    "duration": 0,
    "start_time": "2022-05-12T15:27:10.182Z"
   },
   {
    "duration": 0,
    "start_time": "2022-05-12T15:27:10.183Z"
   },
   {
    "duration": 0,
    "start_time": "2022-05-12T15:27:10.185Z"
   },
   {
    "duration": 0,
    "start_time": "2022-05-12T15:27:10.187Z"
   },
   {
    "duration": 0,
    "start_time": "2022-05-12T15:27:10.189Z"
   },
   {
    "duration": 0,
    "start_time": "2022-05-12T15:27:10.191Z"
   },
   {
    "duration": 0,
    "start_time": "2022-05-12T15:27:10.192Z"
   },
   {
    "duration": 0,
    "start_time": "2022-05-12T15:27:10.194Z"
   },
   {
    "duration": 0,
    "start_time": "2022-05-12T15:27:10.196Z"
   },
   {
    "duration": 6,
    "start_time": "2022-05-12T15:28:30.786Z"
   },
   {
    "duration": 191,
    "start_time": "2022-05-12T15:28:31.185Z"
   },
   {
    "duration": 5,
    "start_time": "2022-05-12T15:28:46.365Z"
   },
   {
    "duration": 181,
    "start_time": "2022-05-12T15:28:46.697Z"
   },
   {
    "duration": 10,
    "start_time": "2022-05-12T15:29:14.201Z"
   },
   {
    "duration": 399,
    "start_time": "2022-05-12T15:29:14.657Z"
   },
   {
    "duration": 241,
    "start_time": "2022-05-12T15:29:23.461Z"
   },
   {
    "duration": 246,
    "start_time": "2022-05-12T15:29:23.704Z"
   },
   {
    "duration": 236,
    "start_time": "2022-05-12T15:29:23.952Z"
   },
   {
    "duration": 227,
    "start_time": "2022-05-12T15:29:24.190Z"
   },
   {
    "duration": 354,
    "start_time": "2022-05-12T15:29:24.419Z"
   },
   {
    "duration": 374,
    "start_time": "2022-05-12T15:29:24.775Z"
   },
   {
    "duration": 42,
    "start_time": "2022-05-12T15:29:25.151Z"
   },
   {
    "duration": 560,
    "start_time": "2022-05-12T15:29:25.195Z"
   },
   {
    "duration": 10,
    "start_time": "2022-05-12T15:29:25.757Z"
   },
   {
    "duration": 3,
    "start_time": "2022-05-12T15:29:25.771Z"
   },
   {
    "duration": 6,
    "start_time": "2022-05-12T15:29:25.775Z"
   },
   {
    "duration": 679,
    "start_time": "2022-05-12T15:29:25.783Z"
   },
   {
    "duration": 541,
    "start_time": "2022-05-12T15:29:26.471Z"
   },
   {
    "duration": 555,
    "start_time": "2022-05-12T15:29:27.014Z"
   },
   {
    "duration": 16,
    "start_time": "2022-05-12T15:29:27.571Z"
   },
   {
    "duration": 198,
    "start_time": "2022-05-12T15:40:21.649Z"
   },
   {
    "duration": 4,
    "start_time": "2022-05-12T15:40:29.734Z"
   },
   {
    "duration": 7,
    "start_time": "2022-05-12T15:40:44.262Z"
   },
   {
    "duration": 5,
    "start_time": "2022-05-12T15:40:51.733Z"
   },
   {
    "duration": 16,
    "start_time": "2022-05-12T15:40:52.150Z"
   },
   {
    "duration": 5,
    "start_time": "2022-05-12T15:41:27.273Z"
   },
   {
    "duration": 13,
    "start_time": "2022-05-12T15:41:27.694Z"
   },
   {
    "duration": 6,
    "start_time": "2022-05-12T15:43:14.326Z"
   },
   {
    "duration": 21,
    "start_time": "2022-05-12T15:43:27.821Z"
   },
   {
    "duration": 126,
    "start_time": "2022-05-12T15:44:00.426Z"
   },
   {
    "duration": 20,
    "start_time": "2022-05-12T15:44:00.909Z"
   },
   {
    "duration": 126,
    "start_time": "2022-05-12T15:44:09.257Z"
   },
   {
    "duration": 129,
    "start_time": "2022-05-12T15:44:48.250Z"
   },
   {
    "duration": 138,
    "start_time": "2022-05-12T15:44:52.893Z"
   },
   {
    "duration": 120,
    "start_time": "2022-05-12T15:45:40.597Z"
   },
   {
    "duration": 133,
    "start_time": "2022-05-12T15:45:58.821Z"
   },
   {
    "duration": 7,
    "start_time": "2022-05-12T15:46:43.912Z"
   },
   {
    "duration": 18,
    "start_time": "2022-05-12T15:46:44.529Z"
   },
   {
    "duration": 130,
    "start_time": "2022-05-12T15:47:01.577Z"
   },
   {
    "duration": 118,
    "start_time": "2022-05-12T15:47:05.625Z"
   },
   {
    "duration": 112,
    "start_time": "2022-05-12T15:47:10.014Z"
   },
   {
    "duration": 7,
    "start_time": "2022-05-12T15:51:48.714Z"
   },
   {
    "duration": 13,
    "start_time": "2022-05-12T15:51:49.273Z"
   },
   {
    "duration": 5,
    "start_time": "2022-05-12T15:51:58.587Z"
   },
   {
    "duration": 16,
    "start_time": "2022-05-12T15:51:59.053Z"
   },
   {
    "duration": 5,
    "start_time": "2022-05-12T15:52:11.301Z"
   },
   {
    "duration": 13,
    "start_time": "2022-05-12T15:52:11.729Z"
   },
   {
    "duration": 4,
    "start_time": "2022-05-12T15:53:41.058Z"
   },
   {
    "duration": 18,
    "start_time": "2022-05-12T15:53:41.513Z"
   },
   {
    "duration": 129,
    "start_time": "2022-05-12T15:53:55.005Z"
   },
   {
    "duration": 128,
    "start_time": "2022-05-12T15:53:59.201Z"
   },
   {
    "duration": 125,
    "start_time": "2022-05-12T15:54:16.685Z"
   },
   {
    "duration": 8,
    "start_time": "2022-05-12T15:54:45.237Z"
   },
   {
    "duration": 26,
    "start_time": "2022-05-12T15:54:45.797Z"
   },
   {
    "duration": 7,
    "start_time": "2022-05-12T15:55:11.393Z"
   },
   {
    "duration": 53,
    "start_time": "2022-05-12T15:55:11.978Z"
   },
   {
    "duration": 8,
    "start_time": "2022-05-12T15:55:22.377Z"
   },
   {
    "duration": 27,
    "start_time": "2022-05-12T15:55:22.993Z"
   },
   {
    "duration": 5,
    "start_time": "2022-05-12T15:55:48.193Z"
   },
   {
    "duration": 22,
    "start_time": "2022-05-12T15:55:48.678Z"
   },
   {
    "duration": 4,
    "start_time": "2022-05-12T15:56:51.581Z"
   },
   {
    "duration": 19,
    "start_time": "2022-05-12T15:56:52.017Z"
   },
   {
    "duration": 8,
    "start_time": "2022-05-12T15:57:07.994Z"
   },
   {
    "duration": 24,
    "start_time": "2022-05-12T15:57:08.378Z"
   },
   {
    "duration": 6,
    "start_time": "2022-05-12T15:57:18.949Z"
   },
   {
    "duration": 17,
    "start_time": "2022-05-12T15:57:19.370Z"
   },
   {
    "duration": 17,
    "start_time": "2022-05-12T15:58:41.609Z"
   },
   {
    "duration": 18,
    "start_time": "2022-05-12T15:58:47.553Z"
   },
   {
    "duration": 407,
    "start_time": "2022-05-12T16:01:04.213Z"
   },
   {
    "duration": 188,
    "start_time": "2022-05-12T16:01:23.393Z"
   },
   {
    "duration": 53,
    "start_time": "2022-05-12T16:09:12.749Z"
   },
   {
    "duration": 7,
    "start_time": "2022-05-12T16:09:34.117Z"
   },
   {
    "duration": 36,
    "start_time": "2022-05-12T16:09:44.621Z"
   },
   {
    "duration": 24,
    "start_time": "2022-05-12T16:10:03.453Z"
   },
   {
    "duration": 29,
    "start_time": "2022-05-12T16:10:08.949Z"
   },
   {
    "duration": 37,
    "start_time": "2022-05-12T16:10:15.593Z"
   },
   {
    "duration": 8,
    "start_time": "2022-05-12T16:23:20.689Z"
   },
   {
    "duration": 239,
    "start_time": "2022-05-12T16:24:44.668Z"
   },
   {
    "duration": 18,
    "start_time": "2022-05-12T16:26:56.721Z"
   },
   {
    "duration": 11,
    "start_time": "2022-05-12T16:27:04.537Z"
   },
   {
    "duration": 26,
    "start_time": "2022-05-12T16:27:38.997Z"
   },
   {
    "duration": 31,
    "start_time": "2022-05-12T16:27:39.449Z"
   },
   {
    "duration": 7,
    "start_time": "2022-05-12T16:27:54.479Z"
   },
   {
    "duration": 6,
    "start_time": "2022-05-12T16:28:00.060Z"
   },
   {
    "duration": 20,
    "start_time": "2022-05-12T16:28:06.696Z"
   },
   {
    "duration": 8,
    "start_time": "2022-05-12T16:30:01.380Z"
   },
   {
    "duration": 244,
    "start_time": "2022-05-12T16:30:27.017Z"
   },
   {
    "duration": 19,
    "start_time": "2022-05-12T16:30:50.090Z"
   },
   {
    "duration": 20,
    "start_time": "2022-05-12T16:30:55.782Z"
   },
   {
    "duration": 5,
    "start_time": "2022-05-12T16:31:20.800Z"
   },
   {
    "duration": 23,
    "start_time": "2022-05-12T16:31:29.681Z"
   },
   {
    "duration": 17,
    "start_time": "2022-05-12T16:31:57.204Z"
   },
   {
    "duration": 21,
    "start_time": "2022-05-12T16:32:11.775Z"
   },
   {
    "duration": 22,
    "start_time": "2022-05-12T16:33:23.549Z"
   },
   {
    "duration": 6,
    "start_time": "2022-05-12T16:33:25.120Z"
   },
   {
    "duration": 6,
    "start_time": "2022-05-12T16:33:38.429Z"
   },
   {
    "duration": 11,
    "start_time": "2022-05-12T16:33:47.148Z"
   },
   {
    "duration": 7,
    "start_time": "2022-05-12T16:33:54.833Z"
   },
   {
    "duration": 18,
    "start_time": "2022-05-12T16:34:12.828Z"
   },
   {
    "duration": 6,
    "start_time": "2022-05-12T16:34:17.480Z"
   },
   {
    "duration": 11,
    "start_time": "2022-05-12T16:34:47.101Z"
   },
   {
    "duration": 29,
    "start_time": "2022-05-12T16:34:53.866Z"
   },
   {
    "duration": 16,
    "start_time": "2022-05-12T16:35:21.205Z"
   },
   {
    "duration": 2019,
    "start_time": "2022-05-12T16:35:26.193Z"
   },
   {
    "duration": 6,
    "start_time": "2022-05-12T16:35:41.317Z"
   },
   {
    "duration": 119,
    "start_time": "2022-05-12T16:40:42.105Z"
   },
   {
    "duration": 9,
    "start_time": "2022-05-12T16:42:26.998Z"
   },
   {
    "duration": 26,
    "start_time": "2022-05-12T16:42:31.670Z"
   },
   {
    "duration": 8,
    "start_time": "2022-05-12T16:42:42.423Z"
   },
   {
    "duration": 8,
    "start_time": "2022-05-12T16:42:47.531Z"
   },
   {
    "duration": 1912,
    "start_time": "2022-05-12T16:58:13.032Z"
   },
   {
    "duration": 28,
    "start_time": "2022-05-12T16:58:23.847Z"
   },
   {
    "duration": 16,
    "start_time": "2022-05-12T16:58:43.150Z"
   },
   {
    "duration": 12,
    "start_time": "2022-05-12T16:58:51.418Z"
   },
   {
    "duration": 30,
    "start_time": "2022-05-12T16:59:18.946Z"
   },
   {
    "duration": 158,
    "start_time": "2022-05-12T16:59:33.706Z"
   },
   {
    "duration": 7,
    "start_time": "2022-05-12T16:59:56.645Z"
   },
   {
    "duration": 14,
    "start_time": "2022-05-12T17:05:45.097Z"
   },
   {
    "duration": 16,
    "start_time": "2022-05-12T17:05:48.096Z"
   },
   {
    "duration": 2948,
    "start_time": "2022-05-12T17:06:05.888Z"
   },
   {
    "duration": 17,
    "start_time": "2022-05-12T17:06:25.244Z"
   },
   {
    "duration": 125,
    "start_time": "2022-05-12T17:06:48.083Z"
   },
   {
    "duration": 27,
    "start_time": "2022-05-12T17:06:51.556Z"
   },
   {
    "duration": 26,
    "start_time": "2022-05-12T17:06:53.495Z"
   },
   {
    "duration": 8,
    "start_time": "2022-05-12T17:07:05.416Z"
   },
   {
    "duration": 5,
    "start_time": "2022-05-12T17:07:09.008Z"
   },
   {
    "duration": 5,
    "start_time": "2022-05-12T17:07:13.174Z"
   },
   {
    "duration": 3,
    "start_time": "2022-05-12T17:08:33.759Z"
   },
   {
    "duration": 71,
    "start_time": "2022-05-12T17:08:33.764Z"
   },
   {
    "duration": 16,
    "start_time": "2022-05-12T17:08:33.837Z"
   },
   {
    "duration": 4,
    "start_time": "2022-05-12T17:08:33.855Z"
   },
   {
    "duration": 27,
    "start_time": "2022-05-12T17:08:33.867Z"
   },
   {
    "duration": 20,
    "start_time": "2022-05-12T17:08:33.896Z"
   },
   {
    "duration": 5,
    "start_time": "2022-05-12T17:08:33.918Z"
   },
   {
    "duration": 48,
    "start_time": "2022-05-12T17:08:33.925Z"
   },
   {
    "duration": 24,
    "start_time": "2022-05-12T17:08:33.975Z"
   },
   {
    "duration": 10,
    "start_time": "2022-05-12T17:08:34.000Z"
   },
   {
    "duration": 19,
    "start_time": "2022-05-12T17:08:34.013Z"
   },
   {
    "duration": 9,
    "start_time": "2022-05-12T17:08:34.034Z"
   },
   {
    "duration": 47,
    "start_time": "2022-05-12T17:08:34.045Z"
   },
   {
    "duration": 12,
    "start_time": "2022-05-12T17:08:34.094Z"
   },
   {
    "duration": 116,
    "start_time": "2022-05-12T17:08:34.108Z"
   },
   {
    "duration": 7,
    "start_time": "2022-05-12T17:08:34.225Z"
   },
   {
    "duration": 12,
    "start_time": "2022-05-12T17:08:34.234Z"
   },
   {
    "duration": 5,
    "start_time": "2022-05-12T17:08:34.248Z"
   },
   {
    "duration": 321,
    "start_time": "2022-05-12T17:08:34.267Z"
   },
   {
    "duration": 13,
    "start_time": "2022-05-12T17:08:34.590Z"
   },
   {
    "duration": 294,
    "start_time": "2022-05-12T17:08:34.604Z"
   },
   {
    "duration": 5,
    "start_time": "2022-05-12T17:08:34.900Z"
   },
   {
    "duration": 21,
    "start_time": "2022-05-12T17:08:34.907Z"
   },
   {
    "duration": 339,
    "start_time": "2022-05-12T17:08:34.930Z"
   },
   {
    "duration": 206,
    "start_time": "2022-05-12T17:08:35.271Z"
   },
   {
    "duration": 10,
    "start_time": "2022-05-12T17:08:35.479Z"
   },
   {
    "duration": 229,
    "start_time": "2022-05-12T17:08:35.491Z"
   },
   {
    "duration": 234,
    "start_time": "2022-05-12T17:08:35.721Z"
   },
   {
    "duration": 238,
    "start_time": "2022-05-12T17:08:35.959Z"
   },
   {
    "duration": 330,
    "start_time": "2022-05-12T17:08:36.199Z"
   },
   {
    "duration": 236,
    "start_time": "2022-05-12T17:08:36.531Z"
   },
   {
    "duration": 257,
    "start_time": "2022-05-12T17:08:36.769Z"
   },
   {
    "duration": 24,
    "start_time": "2022-05-12T17:08:37.028Z"
   },
   {
    "duration": 283,
    "start_time": "2022-05-12T17:08:37.067Z"
   },
   {
    "duration": 406,
    "start_time": "2022-05-12T17:08:37.352Z"
   },
   {
    "duration": 11,
    "start_time": "2022-05-12T17:08:37.760Z"
   },
   {
    "duration": 19,
    "start_time": "2022-05-12T17:08:37.773Z"
   },
   {
    "duration": 8,
    "start_time": "2022-05-12T17:08:37.794Z"
   },
   {
    "duration": 663,
    "start_time": "2022-05-12T17:08:37.804Z"
   },
   {
    "duration": 527,
    "start_time": "2022-05-12T17:08:38.469Z"
   },
   {
    "duration": 569,
    "start_time": "2022-05-12T17:08:38.998Z"
   },
   {
    "duration": 11,
    "start_time": "2022-05-12T17:08:39.569Z"
   },
   {
    "duration": 26,
    "start_time": "2022-05-12T17:08:39.582Z"
   },
   {
    "duration": 17,
    "start_time": "2022-05-12T17:08:39.610Z"
   },
   {
    "duration": 15,
    "start_time": "2022-05-12T17:08:39.628Z"
   },
   {
    "duration": 23,
    "start_time": "2022-05-12T17:08:39.678Z"
   },
   {
    "duration": 8,
    "start_time": "2022-05-12T17:08:39.703Z"
   },
   {
    "duration": 19,
    "start_time": "2022-05-12T17:08:39.713Z"
   },
   {
    "duration": 6,
    "start_time": "2022-05-12T17:08:39.734Z"
   },
   {
    "duration": 29,
    "start_time": "2022-05-12T17:12:16.635Z"
   },
   {
    "duration": 30,
    "start_time": "2022-05-12T17:12:33.027Z"
   },
   {
    "duration": 11,
    "start_time": "2022-05-12T17:31:42.998Z"
   },
   {
    "duration": 3,
    "start_time": "2022-05-12T17:32:01.826Z"
   },
   {
    "duration": 70,
    "start_time": "2022-05-12T17:32:01.832Z"
   },
   {
    "duration": 14,
    "start_time": "2022-05-12T17:32:01.904Z"
   },
   {
    "duration": 9,
    "start_time": "2022-05-12T17:32:01.920Z"
   },
   {
    "duration": 50,
    "start_time": "2022-05-12T17:32:01.932Z"
   },
   {
    "duration": 16,
    "start_time": "2022-05-12T17:32:01.984Z"
   },
   {
    "duration": 5,
    "start_time": "2022-05-12T17:32:02.002Z"
   },
   {
    "duration": 28,
    "start_time": "2022-05-12T17:32:02.009Z"
   },
   {
    "duration": 11,
    "start_time": "2022-05-12T17:32:02.039Z"
   },
   {
    "duration": 0,
    "start_time": "2022-05-12T17:32:02.067Z"
   },
   {
    "duration": 0,
    "start_time": "2022-05-12T17:32:02.068Z"
   },
   {
    "duration": 0,
    "start_time": "2022-05-12T17:32:02.069Z"
   },
   {
    "duration": 0,
    "start_time": "2022-05-12T17:32:02.069Z"
   },
   {
    "duration": 0,
    "start_time": "2022-05-12T17:32:02.070Z"
   },
   {
    "duration": 0,
    "start_time": "2022-05-12T17:32:02.072Z"
   },
   {
    "duration": 0,
    "start_time": "2022-05-12T17:32:02.073Z"
   },
   {
    "duration": 0,
    "start_time": "2022-05-12T17:32:02.074Z"
   },
   {
    "duration": 0,
    "start_time": "2022-05-12T17:32:02.075Z"
   },
   {
    "duration": 0,
    "start_time": "2022-05-12T17:32:02.077Z"
   },
   {
    "duration": 0,
    "start_time": "2022-05-12T17:32:02.078Z"
   },
   {
    "duration": 0,
    "start_time": "2022-05-12T17:32:02.080Z"
   },
   {
    "duration": 0,
    "start_time": "2022-05-12T17:32:02.082Z"
   },
   {
    "duration": 0,
    "start_time": "2022-05-12T17:32:02.085Z"
   },
   {
    "duration": 0,
    "start_time": "2022-05-12T17:32:02.086Z"
   },
   {
    "duration": 0,
    "start_time": "2022-05-12T17:32:02.087Z"
   },
   {
    "duration": 0,
    "start_time": "2022-05-12T17:32:02.089Z"
   },
   {
    "duration": 0,
    "start_time": "2022-05-12T17:32:02.090Z"
   },
   {
    "duration": 0,
    "start_time": "2022-05-12T17:32:02.091Z"
   },
   {
    "duration": 0,
    "start_time": "2022-05-12T17:32:02.092Z"
   },
   {
    "duration": 0,
    "start_time": "2022-05-12T17:32:02.094Z"
   },
   {
    "duration": 0,
    "start_time": "2022-05-12T17:32:02.095Z"
   },
   {
    "duration": 0,
    "start_time": "2022-05-12T17:32:02.097Z"
   },
   {
    "duration": 0,
    "start_time": "2022-05-12T17:32:02.098Z"
   },
   {
    "duration": 0,
    "start_time": "2022-05-12T17:32:02.100Z"
   },
   {
    "duration": 0,
    "start_time": "2022-05-12T17:32:02.101Z"
   },
   {
    "duration": 0,
    "start_time": "2022-05-12T17:32:02.102Z"
   },
   {
    "duration": 0,
    "start_time": "2022-05-12T17:32:02.104Z"
   },
   {
    "duration": 0,
    "start_time": "2022-05-12T17:32:02.105Z"
   },
   {
    "duration": 0,
    "start_time": "2022-05-12T17:32:02.106Z"
   },
   {
    "duration": 0,
    "start_time": "2022-05-12T17:32:02.107Z"
   },
   {
    "duration": 0,
    "start_time": "2022-05-12T17:32:02.109Z"
   },
   {
    "duration": 0,
    "start_time": "2022-05-12T17:32:02.110Z"
   },
   {
    "duration": 0,
    "start_time": "2022-05-12T17:32:02.111Z"
   },
   {
    "duration": 0,
    "start_time": "2022-05-12T17:32:02.113Z"
   },
   {
    "duration": 0,
    "start_time": "2022-05-12T17:32:02.167Z"
   },
   {
    "duration": 0,
    "start_time": "2022-05-12T17:32:02.168Z"
   },
   {
    "duration": 0,
    "start_time": "2022-05-12T17:32:02.168Z"
   },
   {
    "duration": 0,
    "start_time": "2022-05-12T17:32:02.171Z"
   },
   {
    "duration": 0,
    "start_time": "2022-05-12T17:32:02.174Z"
   },
   {
    "duration": 11,
    "start_time": "2022-05-12T17:32:10.110Z"
   },
   {
    "duration": 22,
    "start_time": "2022-05-12T17:32:26.173Z"
   },
   {
    "duration": 12,
    "start_time": "2022-05-12T17:32:34.923Z"
   },
   {
    "duration": 18,
    "start_time": "2022-05-12T17:32:50.842Z"
   },
   {
    "duration": 10,
    "start_time": "2022-05-12T17:32:58.851Z"
   },
   {
    "duration": 18,
    "start_time": "2022-05-12T17:33:01.664Z"
   },
   {
    "duration": 9,
    "start_time": "2022-05-12T17:33:12.755Z"
   },
   {
    "duration": 7,
    "start_time": "2022-05-12T17:33:46.318Z"
   },
   {
    "duration": 5,
    "start_time": "2022-05-12T17:33:52.241Z"
   },
   {
    "duration": 124,
    "start_time": "2022-05-12T17:33:55.987Z"
   },
   {
    "duration": 7,
    "start_time": "2022-05-12T17:33:59.488Z"
   },
   {
    "duration": 12,
    "start_time": "2022-05-12T17:34:03.765Z"
   },
   {
    "duration": 5,
    "start_time": "2022-05-12T17:34:08.152Z"
   },
   {
    "duration": 290,
    "start_time": "2022-05-12T18:47:08.171Z"
   },
   {
    "duration": 13,
    "start_time": "2022-05-12T18:49:40.804Z"
   },
   {
    "duration": 435,
    "start_time": "2022-05-12T18:49:45.016Z"
   },
   {
    "duration": 7,
    "start_time": "2022-05-12T18:51:50.903Z"
   },
   {
    "duration": 15,
    "start_time": "2022-05-12T18:52:04.306Z"
   },
   {
    "duration": 300,
    "start_time": "2022-05-12T18:52:11.627Z"
   },
   {
    "duration": 183,
    "start_time": "2022-05-12T18:54:07.354Z"
   },
   {
    "duration": 5,
    "start_time": "2022-05-12T18:54:35.970Z"
   },
   {
    "duration": 446,
    "start_time": "2022-05-12T18:56:03.508Z"
   },
   {
    "duration": 353,
    "start_time": "2022-05-12T18:56:07.871Z"
   },
   {
    "duration": 360,
    "start_time": "2022-05-12T18:56:10.036Z"
   },
   {
    "duration": 415,
    "start_time": "2022-05-12T18:56:12.535Z"
   },
   {
    "duration": 647,
    "start_time": "2022-05-12T18:56:14.390Z"
   },
   {
    "duration": 429,
    "start_time": "2022-05-12T18:58:14.895Z"
   },
   {
    "duration": 46,
    "start_time": "2022-05-12T18:59:46.499Z"
   },
   {
    "duration": 392,
    "start_time": "2022-05-12T19:01:07.532Z"
   },
   {
    "duration": 254,
    "start_time": "2022-05-12T19:01:16.902Z"
   },
   {
    "duration": 4,
    "start_time": "2022-05-12T19:01:26.063Z"
   },
   {
    "duration": 3,
    "start_time": "2022-05-12T19:01:27.535Z"
   },
   {
    "duration": 5,
    "start_time": "2022-05-12T19:01:28.214Z"
   },
   {
    "duration": 687,
    "start_time": "2022-05-12T19:01:29.814Z"
   },
   {
    "duration": 519,
    "start_time": "2022-05-12T19:01:55.130Z"
   },
   {
    "duration": 498,
    "start_time": "2022-05-12T19:02:58.707Z"
   },
   {
    "duration": 7,
    "start_time": "2022-05-12T19:03:56.507Z"
   },
   {
    "duration": 23,
    "start_time": "2022-05-12T19:04:00.335Z"
   },
   {
    "duration": 22,
    "start_time": "2022-05-12T19:04:04.207Z"
   },
   {
    "duration": 23,
    "start_time": "2022-05-12T19:04:06.362Z"
   },
   {
    "duration": 18,
    "start_time": "2022-05-12T19:05:17.914Z"
   },
   {
    "duration": 7,
    "start_time": "2022-05-12T19:05:35.902Z"
   },
   {
    "duration": 19,
    "start_time": "2022-05-12T19:06:24.834Z"
   },
   {
    "duration": 9,
    "start_time": "2022-05-12T19:06:26.868Z"
   },
   {
    "duration": 4,
    "start_time": "2022-05-12T19:18:03.380Z"
   },
   {
    "duration": 667,
    "start_time": "2022-05-12T19:18:15.919Z"
   },
   {
    "duration": 517,
    "start_time": "2022-05-12T19:18:40.755Z"
   },
   {
    "duration": 1141,
    "start_time": "2022-05-12T19:18:52.187Z"
   },
   {
    "duration": 5,
    "start_time": "2022-05-12T19:19:13.610Z"
   },
   {
    "duration": 651,
    "start_time": "2022-05-12T19:19:14.147Z"
   },
   {
    "duration": 493,
    "start_time": "2022-05-12T19:19:18.223Z"
   },
   {
    "duration": 5,
    "start_time": "2022-05-12T19:33:34.426Z"
   },
   {
    "duration": 77,
    "start_time": "2022-05-12T19:33:34.434Z"
   },
   {
    "duration": 24,
    "start_time": "2022-05-12T19:33:34.513Z"
   },
   {
    "duration": 29,
    "start_time": "2022-05-12T19:33:34.539Z"
   },
   {
    "duration": 34,
    "start_time": "2022-05-12T19:33:34.571Z"
   },
   {
    "duration": 25,
    "start_time": "2022-05-12T19:33:34.607Z"
   },
   {
    "duration": 8,
    "start_time": "2022-05-12T19:33:34.635Z"
   },
   {
    "duration": 53,
    "start_time": "2022-05-12T19:33:34.644Z"
   },
   {
    "duration": 29,
    "start_time": "2022-05-12T19:33:34.701Z"
   },
   {
    "duration": 39,
    "start_time": "2022-05-12T19:33:34.733Z"
   },
   {
    "duration": 166,
    "start_time": "2022-05-12T19:33:34.774Z"
   },
   {
    "duration": 26,
    "start_time": "2022-05-12T19:33:34.942Z"
   },
   {
    "duration": 26,
    "start_time": "2022-05-12T19:33:34.970Z"
   },
   {
    "duration": 34,
    "start_time": "2022-05-12T19:33:34.998Z"
   },
   {
    "duration": 198,
    "start_time": "2022-05-12T19:33:35.034Z"
   },
   {
    "duration": 10,
    "start_time": "2022-05-12T19:33:35.234Z"
   },
   {
    "duration": 30,
    "start_time": "2022-05-12T19:33:35.246Z"
   },
   {
    "duration": 7,
    "start_time": "2022-05-12T19:33:35.278Z"
   },
   {
    "duration": 464,
    "start_time": "2022-05-12T19:33:35.287Z"
   },
   {
    "duration": 26,
    "start_time": "2022-05-12T19:33:35.753Z"
   },
   {
    "duration": 294,
    "start_time": "2022-05-12T19:33:35.781Z"
   },
   {
    "duration": 7,
    "start_time": "2022-05-12T19:33:36.077Z"
   },
   {
    "duration": 16,
    "start_time": "2022-05-12T19:33:36.086Z"
   },
   {
    "duration": 510,
    "start_time": "2022-05-12T19:33:36.106Z"
   },
   {
    "duration": 399,
    "start_time": "2022-05-12T19:33:36.618Z"
   },
   {
    "duration": 8,
    "start_time": "2022-05-12T19:33:37.020Z"
   },
   {
    "duration": 384,
    "start_time": "2022-05-12T19:33:37.031Z"
   },
   {
    "duration": 382,
    "start_time": "2022-05-12T19:33:37.417Z"
   },
   {
    "duration": 248,
    "start_time": "2022-05-12T19:33:37.801Z"
   },
   {
    "duration": 251,
    "start_time": "2022-05-12T19:33:38.051Z"
   },
   {
    "duration": 234,
    "start_time": "2022-05-12T19:33:38.304Z"
   },
   {
    "duration": 238,
    "start_time": "2022-05-12T19:33:38.540Z"
   },
   {
    "duration": 27,
    "start_time": "2022-05-12T19:33:38.780Z"
   },
   {
    "duration": 302,
    "start_time": "2022-05-12T19:33:38.809Z"
   },
   {
    "duration": 429,
    "start_time": "2022-05-12T19:33:39.114Z"
   },
   {
    "duration": 3,
    "start_time": "2022-05-12T19:33:39.545Z"
   },
   {
    "duration": 11,
    "start_time": "2022-05-12T19:33:39.549Z"
   },
   {
    "duration": 4,
    "start_time": "2022-05-12T19:33:39.567Z"
   },
   {
    "duration": 646,
    "start_time": "2022-05-12T19:33:39.573Z"
   },
   {
    "duration": 515,
    "start_time": "2022-05-12T19:33:40.221Z"
   },
   {
    "duration": 446,
    "start_time": "2022-05-12T19:33:40.738Z"
   },
   {
    "duration": 6,
    "start_time": "2022-05-12T19:33:41.186Z"
   },
   {
    "duration": 43,
    "start_time": "2022-05-12T19:33:41.194Z"
   },
   {
    "duration": 18,
    "start_time": "2022-05-12T19:33:41.239Z"
   },
   {
    "duration": 21,
    "start_time": "2022-05-12T19:33:41.259Z"
   },
   {
    "duration": 34,
    "start_time": "2022-05-12T19:33:41.282Z"
   },
   {
    "duration": 11,
    "start_time": "2022-05-12T19:33:41.317Z"
   },
   {
    "duration": 26,
    "start_time": "2022-05-12T19:33:41.330Z"
   },
   {
    "duration": 10,
    "start_time": "2022-05-12T19:33:41.357Z"
   },
   {
    "duration": 1088,
    "start_time": "2022-05-13T08:25:27.008Z"
   },
   {
    "duration": 105,
    "start_time": "2022-05-13T08:25:28.097Z"
   },
   {
    "duration": 16,
    "start_time": "2022-05-13T08:25:28.204Z"
   },
   {
    "duration": 3,
    "start_time": "2022-05-13T08:25:28.222Z"
   },
   {
    "duration": 31,
    "start_time": "2022-05-13T08:25:28.227Z"
   },
   {
    "duration": 18,
    "start_time": "2022-05-13T08:25:28.268Z"
   },
   {
    "duration": 6,
    "start_time": "2022-05-13T08:25:28.288Z"
   },
   {
    "duration": 20,
    "start_time": "2022-05-13T08:25:28.296Z"
   },
   {
    "duration": 52,
    "start_time": "2022-05-13T08:25:28.318Z"
   },
   {
    "duration": 11,
    "start_time": "2022-05-13T08:25:28.373Z"
   },
   {
    "duration": 14,
    "start_time": "2022-05-13T08:25:28.386Z"
   },
   {
    "duration": 10,
    "start_time": "2022-05-13T08:25:28.401Z"
   },
   {
    "duration": 10,
    "start_time": "2022-05-13T08:25:28.413Z"
   },
   {
    "duration": 8,
    "start_time": "2022-05-13T08:25:28.425Z"
   },
   {
    "duration": 136,
    "start_time": "2022-05-13T08:25:28.435Z"
   },
   {
    "duration": 8,
    "start_time": "2022-05-13T08:25:28.572Z"
   },
   {
    "duration": 12,
    "start_time": "2022-05-13T08:25:28.582Z"
   },
   {
    "duration": 4,
    "start_time": "2022-05-13T08:25:28.596Z"
   },
   {
    "duration": 352,
    "start_time": "2022-05-13T08:25:28.602Z"
   },
   {
    "duration": 14,
    "start_time": "2022-05-13T08:25:28.956Z"
   },
   {
    "duration": 320,
    "start_time": "2022-05-13T08:25:28.972Z"
   },
   {
    "duration": 6,
    "start_time": "2022-05-13T08:25:29.294Z"
   },
   {
    "duration": 20,
    "start_time": "2022-05-13T08:25:29.302Z"
   },
   {
    "duration": 315,
    "start_time": "2022-05-13T08:25:29.324Z"
   },
   {
    "duration": 192,
    "start_time": "2022-05-13T08:25:29.641Z"
   },
   {
    "duration": 5,
    "start_time": "2022-05-13T08:25:29.835Z"
   },
   {
    "duration": 238,
    "start_time": "2022-05-13T08:25:29.841Z"
   },
   {
    "duration": 249,
    "start_time": "2022-05-13T08:25:30.083Z"
   },
   {
    "duration": 300,
    "start_time": "2022-05-13T08:25:30.334Z"
   },
   {
    "duration": 228,
    "start_time": "2022-05-13T08:25:30.635Z"
   },
   {
    "duration": 215,
    "start_time": "2022-05-13T08:25:30.866Z"
   },
   {
    "duration": 232,
    "start_time": "2022-05-13T08:25:31.083Z"
   },
   {
    "duration": 23,
    "start_time": "2022-05-13T08:25:31.317Z"
   },
   {
    "duration": 277,
    "start_time": "2022-05-13T08:25:31.342Z"
   },
   {
    "duration": 262,
    "start_time": "2022-05-13T08:25:31.620Z"
   },
   {
    "duration": 2,
    "start_time": "2022-05-13T08:25:31.884Z"
   },
   {
    "duration": 48,
    "start_time": "2022-05-13T08:25:31.888Z"
   },
   {
    "duration": 24,
    "start_time": "2022-05-13T08:25:31.938Z"
   },
   {
    "duration": 703,
    "start_time": "2022-05-13T08:25:31.964Z"
   },
   {
    "duration": 485,
    "start_time": "2022-05-13T08:25:32.668Z"
   },
   {
    "duration": 426,
    "start_time": "2022-05-13T08:25:33.155Z"
   },
   {
    "duration": 5,
    "start_time": "2022-05-13T08:25:33.583Z"
   },
   {
    "duration": 20,
    "start_time": "2022-05-13T08:25:33.590Z"
   },
   {
    "duration": 14,
    "start_time": "2022-05-13T08:25:33.612Z"
   },
   {
    "duration": 39,
    "start_time": "2022-05-13T08:25:33.628Z"
   },
   {
    "duration": 17,
    "start_time": "2022-05-13T08:25:33.669Z"
   },
   {
    "duration": 6,
    "start_time": "2022-05-13T08:25:33.688Z"
   },
   {
    "duration": 22,
    "start_time": "2022-05-13T08:25:33.695Z"
   },
   {
    "duration": 6,
    "start_time": "2022-05-13T08:25:33.718Z"
   },
   {
    "duration": 81,
    "start_time": "2022-05-13T14:12:38.921Z"
   },
   {
    "duration": 1676,
    "start_time": "2022-05-13T14:12:44.286Z"
   },
   {
    "duration": 143,
    "start_time": "2022-05-13T14:12:45.965Z"
   },
   {
    "duration": 21,
    "start_time": "2022-05-13T14:12:46.110Z"
   },
   {
    "duration": 29,
    "start_time": "2022-05-13T14:12:46.134Z"
   },
   {
    "duration": 36,
    "start_time": "2022-05-13T14:12:46.165Z"
   },
   {
    "duration": 1149,
    "start_time": "2022-05-13T14:12:48.517Z"
   },
   {
    "duration": 22,
    "start_time": "2022-05-13T14:22:41.848Z"
   },
   {
    "duration": 28,
    "start_time": "2022-05-13T15:38:48.236Z"
   },
   {
    "duration": 14,
    "start_time": "2022-05-13T15:54:05.438Z"
   },
   {
    "duration": 5,
    "start_time": "2022-05-13T15:54:13.350Z"
   },
   {
    "duration": 73,
    "start_time": "2022-05-13T15:54:13.358Z"
   },
   {
    "duration": 20,
    "start_time": "2022-05-13T15:54:13.452Z"
   },
   {
    "duration": 4,
    "start_time": "2022-05-13T15:54:13.475Z"
   },
   {
    "duration": 40,
    "start_time": "2022-05-13T15:54:13.482Z"
   },
   {
    "duration": 29,
    "start_time": "2022-05-13T15:54:13.552Z"
   },
   {
    "duration": 9,
    "start_time": "2022-05-13T15:54:13.584Z"
   },
   {
    "duration": 67,
    "start_time": "2022-05-13T15:54:13.596Z"
   },
   {
    "duration": 36,
    "start_time": "2022-05-13T15:54:13.665Z"
   },
   {
    "duration": 16,
    "start_time": "2022-05-13T15:54:13.703Z"
   },
   {
    "duration": 30,
    "start_time": "2022-05-13T15:54:16.705Z"
   },
   {
    "duration": 13,
    "start_time": "2022-05-13T15:54:18.825Z"
   },
   {
    "duration": 6,
    "start_time": "2022-05-13T15:54:24.913Z"
   },
   {
    "duration": 12,
    "start_time": "2022-05-13T15:55:03.833Z"
   },
   {
    "duration": 4,
    "start_time": "2022-05-13T16:00:47.026Z"
   },
   {
    "duration": 94,
    "start_time": "2022-05-13T16:00:47.033Z"
   },
   {
    "duration": 30,
    "start_time": "2022-05-13T16:00:47.131Z"
   },
   {
    "duration": 19,
    "start_time": "2022-05-13T16:00:47.166Z"
   },
   {
    "duration": 48,
    "start_time": "2022-05-13T16:00:47.188Z"
   },
   {
    "duration": 34,
    "start_time": "2022-05-13T16:00:47.239Z"
   },
   {
    "duration": 17,
    "start_time": "2022-05-13T16:00:47.276Z"
   },
   {
    "duration": 48,
    "start_time": "2022-05-13T16:00:47.295Z"
   },
   {
    "duration": 33,
    "start_time": "2022-05-13T16:00:47.345Z"
   },
   {
    "duration": 26,
    "start_time": "2022-05-13T16:00:47.381Z"
   },
   {
    "duration": 28,
    "start_time": "2022-05-13T16:00:47.412Z"
   },
   {
    "duration": 16,
    "start_time": "2022-05-13T16:00:47.443Z"
   },
   {
    "duration": 16,
    "start_time": "2022-05-13T16:00:47.462Z"
   },
   {
    "duration": 23,
    "start_time": "2022-05-13T16:00:47.480Z"
   },
   {
    "duration": 273,
    "start_time": "2022-05-13T16:00:47.505Z"
   },
   {
    "duration": 11,
    "start_time": "2022-05-13T16:00:47.780Z"
   },
   {
    "duration": 29,
    "start_time": "2022-05-13T16:00:47.793Z"
   },
   {
    "duration": 16,
    "start_time": "2022-05-13T16:00:47.824Z"
   },
   {
    "duration": 525,
    "start_time": "2022-05-13T16:00:49.460Z"
   },
   {
    "duration": 523,
    "start_time": "2022-05-13T16:01:05.218Z"
   },
   {
    "duration": 593,
    "start_time": "2022-05-13T16:01:22.202Z"
   },
   {
    "duration": 536,
    "start_time": "2022-05-13T16:02:42.619Z"
   },
   {
    "duration": 515,
    "start_time": "2022-05-13T16:02:59.088Z"
   },
   {
    "duration": 784,
    "start_time": "2022-05-13T16:03:07.327Z"
   },
   {
    "duration": 652,
    "start_time": "2022-05-13T16:03:16.155Z"
   },
   {
    "duration": 728,
    "start_time": "2022-05-13T16:05:28.780Z"
   },
   {
    "duration": 11,
    "start_time": "2022-05-13T16:05:35.527Z"
   },
   {
    "duration": 185,
    "start_time": "2022-05-13T16:05:50.060Z"
   },
   {
    "duration": 18,
    "start_time": "2022-05-13T16:06:02.547Z"
   },
   {
    "duration": 327,
    "start_time": "2022-05-13T16:06:21.639Z"
   },
   {
    "duration": 274,
    "start_time": "2022-05-13T16:06:32.944Z"
   },
   {
    "duration": 230,
    "start_time": "2022-05-13T16:06:41.979Z"
   },
   {
    "duration": 12,
    "start_time": "2022-05-13T16:06:53.776Z"
   },
   {
    "duration": 27,
    "start_time": "2022-05-13T16:07:11.435Z"
   },
   {
    "duration": 223,
    "start_time": "2022-05-13T16:07:16.700Z"
   },
   {
    "duration": 306,
    "start_time": "2022-05-13T16:07:41.115Z"
   },
   {
    "duration": 274,
    "start_time": "2022-05-13T16:07:49.638Z"
   },
   {
    "duration": 210,
    "start_time": "2022-05-13T16:08:00.019Z"
   },
   {
    "duration": 376,
    "start_time": "2022-05-13T16:08:04.702Z"
   },
   {
    "duration": 46,
    "start_time": "2022-05-13T16:12:23.551Z"
   },
   {
    "duration": 135,
    "start_time": "2022-05-13T16:12:35.565Z"
   },
   {
    "duration": 126,
    "start_time": "2022-05-13T16:13:02.491Z"
   },
   {
    "duration": 127,
    "start_time": "2022-05-13T16:13:05.295Z"
   },
   {
    "duration": 1802,
    "start_time": "2022-05-13T16:13:32.615Z"
   },
   {
    "duration": 200,
    "start_time": "2022-05-13T16:13:47.979Z"
   },
   {
    "duration": 21,
    "start_time": "2022-05-13T16:13:52.777Z"
   },
   {
    "duration": 2149,
    "start_time": "2022-05-13T16:14:09.655Z"
   },
   {
    "duration": 646,
    "start_time": "2022-05-13T16:14:34.631Z"
   },
   {
    "duration": 888,
    "start_time": "2022-05-13T16:14:40.669Z"
   },
   {
    "duration": 752,
    "start_time": "2022-05-13T16:14:52.631Z"
   },
   {
    "duration": 640,
    "start_time": "2022-05-13T16:15:04.787Z"
   },
   {
    "duration": 790,
    "start_time": "2022-05-13T16:17:01.699Z"
   },
   {
    "duration": 623,
    "start_time": "2022-05-13T16:17:31.823Z"
   },
   {
    "duration": 767,
    "start_time": "2022-05-13T16:17:41.855Z"
   },
   {
    "duration": 747,
    "start_time": "2022-05-13T16:17:56.410Z"
   },
   {
    "duration": 623,
    "start_time": "2022-05-13T16:18:03.094Z"
   },
   {
    "duration": 753,
    "start_time": "2022-05-13T16:18:18.807Z"
   },
   {
    "duration": 369,
    "start_time": "2022-05-13T16:18:27.975Z"
   },
   {
    "duration": 635,
    "start_time": "2022-05-13T16:18:34.783Z"
   },
   {
    "duration": 621,
    "start_time": "2022-05-13T16:18:40.692Z"
   },
   {
    "duration": 648,
    "start_time": "2022-05-13T16:18:42.911Z"
   },
   {
    "duration": 622,
    "start_time": "2022-05-13T16:18:47.987Z"
   },
   {
    "duration": 620,
    "start_time": "2022-05-13T16:18:50.279Z"
   },
   {
    "duration": 746,
    "start_time": "2022-05-13T16:18:56.111Z"
   },
   {
    "duration": 731,
    "start_time": "2022-05-13T16:18:58.882Z"
   },
   {
    "duration": 631,
    "start_time": "2022-05-13T16:19:01.061Z"
   },
   {
    "duration": 640,
    "start_time": "2022-05-13T16:19:05.064Z"
   },
   {
    "duration": 624,
    "start_time": "2022-05-13T16:19:21.875Z"
   },
   {
    "duration": 638,
    "start_time": "2022-05-13T16:19:33.286Z"
   },
   {
    "duration": 119,
    "start_time": "2022-05-13T16:19:55.503Z"
   },
   {
    "duration": 200,
    "start_time": "2022-05-13T16:20:03.969Z"
   },
   {
    "duration": 1072,
    "start_time": "2022-05-13T16:20:17.472Z"
   },
   {
    "duration": 632,
    "start_time": "2022-05-13T16:20:42.131Z"
   },
   {
    "duration": 918,
    "start_time": "2022-05-13T16:21:33.303Z"
   },
   {
    "duration": 630,
    "start_time": "2022-05-13T16:22:07.674Z"
   },
   {
    "duration": 648,
    "start_time": "2022-05-13T16:22:36.007Z"
   },
   {
    "duration": 925,
    "start_time": "2022-05-13T16:22:46.723Z"
   },
   {
    "duration": 924,
    "start_time": "2022-05-13T16:23:00.777Z"
   },
   {
    "duration": 694,
    "start_time": "2022-05-13T16:24:16.250Z"
   },
   {
    "duration": 938,
    "start_time": "2022-05-13T16:24:23.346Z"
   },
   {
    "duration": 683,
    "start_time": "2022-05-13T16:24:28.230Z"
   },
   {
    "duration": 669,
    "start_time": "2022-05-13T16:24:45.245Z"
   },
   {
    "duration": 679,
    "start_time": "2022-05-13T16:25:25.245Z"
   },
   {
    "duration": 823,
    "start_time": "2022-05-13T16:25:30.934Z"
   },
   {
    "duration": 686,
    "start_time": "2022-05-13T16:25:37.933Z"
   },
   {
    "duration": 694,
    "start_time": "2022-05-13T16:29:22.400Z"
   },
   {
    "duration": 763,
    "start_time": "2022-05-13T16:30:02.048Z"
   },
   {
    "duration": 128,
    "start_time": "2022-05-13T16:32:03.037Z"
   },
   {
    "duration": 69,
    "start_time": "2022-05-13T16:32:08.145Z"
   },
   {
    "duration": 21,
    "start_time": "2022-05-13T16:32:19.522Z"
   },
   {
    "duration": 668,
    "start_time": "2022-05-13T16:32:21.077Z"
   },
   {
    "duration": 127,
    "start_time": "2022-05-13T16:32:40.346Z"
   },
   {
    "duration": 470,
    "start_time": "2022-05-13T16:32:59.088Z"
   },
   {
    "duration": 675,
    "start_time": "2022-05-13T16:34:46.050Z"
   },
   {
    "duration": 800,
    "start_time": "2022-05-13T16:34:54.071Z"
   },
   {
    "duration": 11,
    "start_time": "2022-05-13T16:38:14.627Z"
   },
   {
    "duration": 9,
    "start_time": "2022-05-13T16:38:17.869Z"
   },
   {
    "duration": 37,
    "start_time": "2022-05-13T16:38:49.451Z"
   },
   {
    "duration": 18,
    "start_time": "2022-05-13T16:38:54.614Z"
   },
   {
    "duration": 8,
    "start_time": "2022-05-13T16:39:03.769Z"
   },
   {
    "duration": 19,
    "start_time": "2022-05-13T16:39:04.743Z"
   },
   {
    "duration": 24,
    "start_time": "2022-05-13T16:40:11.599Z"
   },
   {
    "duration": 148,
    "start_time": "2022-05-13T16:40:55.170Z"
   },
   {
    "duration": 653,
    "start_time": "2022-05-13T16:41:01.990Z"
   },
   {
    "duration": 224,
    "start_time": "2022-05-13T16:42:19.343Z"
   },
   {
    "duration": 17,
    "start_time": "2022-05-13T16:42:35.931Z"
   },
   {
    "duration": 281,
    "start_time": "2022-05-13T16:43:43.907Z"
   },
   {
    "duration": 371,
    "start_time": "2022-05-13T16:45:17.143Z"
   },
   {
    "duration": 545,
    "start_time": "2022-05-13T17:29:23.492Z"
   },
   {
    "duration": 516,
    "start_time": "2022-05-13T17:33:02.482Z"
   },
   {
    "duration": 341,
    "start_time": "2022-05-13T17:33:06.660Z"
   },
   {
    "duration": 498,
    "start_time": "2022-05-13T17:33:46.872Z"
   },
   {
    "duration": 372,
    "start_time": "2022-05-13T17:34:54.206Z"
   },
   {
    "duration": 59,
    "start_time": "2022-05-13T17:35:34.345Z"
   },
   {
    "duration": 30739,
    "start_time": "2022-05-13T17:36:13.190Z"
   },
   {
    "duration": 21,
    "start_time": "2022-05-13T17:37:44.222Z"
   },
   {
    "duration": 2560,
    "start_time": "2022-05-13T17:37:54.017Z"
   },
   {
    "duration": 24,
    "start_time": "2022-05-13T17:38:07.793Z"
   },
   {
    "duration": 16,
    "start_time": "2022-05-13T17:38:33.545Z"
   },
   {
    "duration": 153,
    "start_time": "2022-05-13T17:40:16.903Z"
   },
   {
    "duration": 32931,
    "start_time": "2022-05-13T17:40:24.377Z"
   },
   {
    "duration": 15,
    "start_time": "2022-05-13T17:40:59.980Z"
   },
   {
    "duration": 244,
    "start_time": "2022-05-13T17:42:34.694Z"
   },
   {
    "duration": 45,
    "start_time": "2022-05-13T17:42:37.680Z"
   },
   {
    "duration": 19,
    "start_time": "2022-05-13T17:43:18.216Z"
   },
   {
    "duration": 26,
    "start_time": "2022-05-13T17:43:38.115Z"
   },
   {
    "duration": 170,
    "start_time": "2022-05-13T17:43:49.256Z"
   },
   {
    "duration": 11,
    "start_time": "2022-05-13T17:43:52.623Z"
   },
   {
    "duration": 144,
    "start_time": "2022-05-13T17:44:04.815Z"
   },
   {
    "duration": 1678,
    "start_time": "2022-05-13T17:46:02.193Z"
   },
   {
    "duration": 180,
    "start_time": "2022-05-13T17:46:03.875Z"
   },
   {
    "duration": 34,
    "start_time": "2022-05-13T17:46:04.058Z"
   },
   {
    "duration": 19,
    "start_time": "2022-05-13T17:46:04.102Z"
   },
   {
    "duration": 54,
    "start_time": "2022-05-13T17:46:04.125Z"
   },
   {
    "duration": 44,
    "start_time": "2022-05-13T17:46:04.183Z"
   },
   {
    "duration": 24,
    "start_time": "2022-05-13T17:46:04.230Z"
   },
   {
    "duration": 69,
    "start_time": "2022-05-13T17:46:04.265Z"
   },
   {
    "duration": 55,
    "start_time": "2022-05-13T17:46:04.337Z"
   },
   {
    "duration": 38,
    "start_time": "2022-05-13T17:46:04.396Z"
   },
   {
    "duration": 37,
    "start_time": "2022-05-13T17:46:04.437Z"
   },
   {
    "duration": 37,
    "start_time": "2022-05-13T17:46:04.477Z"
   },
   {
    "duration": 11,
    "start_time": "2022-05-13T17:46:04.517Z"
   },
   {
    "duration": 12,
    "start_time": "2022-05-13T17:46:04.534Z"
   },
   {
    "duration": 269,
    "start_time": "2022-05-13T17:46:04.548Z"
   },
   {
    "duration": 10,
    "start_time": "2022-05-13T17:46:04.820Z"
   },
   {
    "duration": 27,
    "start_time": "2022-05-13T17:46:04.851Z"
   },
   {
    "duration": 43,
    "start_time": "2022-05-13T17:46:04.880Z"
   },
   {
    "duration": 804,
    "start_time": "2022-05-13T17:46:04.926Z"
   },
   {
    "duration": 36,
    "start_time": "2022-05-13T17:46:05.733Z"
   },
   {
    "duration": 634,
    "start_time": "2022-05-13T17:46:05.774Z"
   },
   {
    "duration": 12,
    "start_time": "2022-05-13T17:46:06.416Z"
   },
   {
    "duration": 42,
    "start_time": "2022-05-13T17:46:06.433Z"
   },
   {
    "duration": 904,
    "start_time": "2022-05-13T17:46:06.478Z"
   },
   {
    "duration": 389,
    "start_time": "2022-05-13T17:46:12.930Z"
   },
   {
    "duration": 773,
    "start_time": "2022-05-13T17:48:22.046Z"
   },
   {
    "duration": 450,
    "start_time": "2022-05-13T17:49:45.510Z"
   },
   {
    "duration": 451,
    "start_time": "2022-05-13T17:50:48.072Z"
   },
   {
    "duration": 505,
    "start_time": "2022-05-13T17:51:05.495Z"
   },
   {
    "duration": 3370,
    "start_time": "2022-05-13T17:51:18.975Z"
   },
   {
    "duration": 384,
    "start_time": "2022-05-13T17:51:33.994Z"
   },
   {
    "duration": 354,
    "start_time": "2022-05-13T17:51:48.070Z"
   },
   {
    "duration": 511,
    "start_time": "2022-05-13T17:52:05.491Z"
   },
   {
    "duration": 415,
    "start_time": "2022-05-13T17:53:39.849Z"
   },
   {
    "duration": 39924,
    "start_time": "2022-05-13T17:55:12.778Z"
   },
   {
    "duration": 429,
    "start_time": "2022-05-13T17:57:29.387Z"
   },
   {
    "duration": 35459,
    "start_time": "2022-05-13T18:00:19.126Z"
   },
   {
    "duration": 4,
    "start_time": "2022-05-13T18:01:55.424Z"
   },
   {
    "duration": 113,
    "start_time": "2022-05-13T18:02:11.082Z"
   },
   {
    "duration": 592,
    "start_time": "2022-05-13T18:05:12.838Z"
   },
   {
    "duration": 256,
    "start_time": "2022-05-13T18:09:09.172Z"
   },
   {
    "duration": 442,
    "start_time": "2022-05-13T18:09:37.945Z"
   },
   {
    "duration": 313,
    "start_time": "2022-05-13T18:09:45.955Z"
   },
   {
    "duration": 224,
    "start_time": "2022-05-13T18:10:42.780Z"
   },
   {
    "duration": 441,
    "start_time": "2022-05-13T18:10:53.679Z"
   },
   {
    "duration": 284,
    "start_time": "2022-05-13T18:11:09.409Z"
   },
   {
    "duration": 413,
    "start_time": "2022-05-13T18:12:18.425Z"
   },
   {
    "duration": 494,
    "start_time": "2022-05-13T18:12:25.653Z"
   },
   {
    "duration": 442,
    "start_time": "2022-05-13T18:12:52.066Z"
   },
   {
    "duration": 336,
    "start_time": "2022-05-13T18:13:01.849Z"
   },
   {
    "duration": 341,
    "start_time": "2022-05-13T18:13:10.681Z"
   },
   {
    "duration": 454,
    "start_time": "2022-05-13T18:13:56.376Z"
   },
   {
    "duration": 147,
    "start_time": "2022-05-13T18:14:12.590Z"
   },
   {
    "duration": 142,
    "start_time": "2022-05-13T18:14:19.284Z"
   },
   {
    "duration": 170,
    "start_time": "2022-05-13T18:14:54.380Z"
   },
   {
    "duration": 374,
    "start_time": "2022-05-13T18:15:07.101Z"
   },
   {
    "duration": 6,
    "start_time": "2022-05-13T18:17:12.485Z"
   },
   {
    "duration": 7,
    "start_time": "2022-05-13T18:17:18.626Z"
   },
   {
    "duration": 7,
    "start_time": "2022-05-13T18:17:21.380Z"
   },
   {
    "duration": 349,
    "start_time": "2022-05-13T18:17:41.613Z"
   },
   {
    "duration": 5,
    "start_time": "2022-05-13T18:17:53.102Z"
   },
   {
    "duration": 5,
    "start_time": "2022-05-13T18:18:04.946Z"
   },
   {
    "duration": 14,
    "start_time": "2022-05-13T18:18:09.641Z"
   },
   {
    "duration": 556,
    "start_time": "2022-05-13T18:18:34.282Z"
   },
   {
    "duration": 410,
    "start_time": "2022-05-13T18:19:26.378Z"
   },
   {
    "duration": 344,
    "start_time": "2022-05-13T18:19:34.086Z"
   },
   {
    "duration": 402,
    "start_time": "2022-05-13T18:19:35.786Z"
   },
   {
    "duration": 460,
    "start_time": "2022-05-13T18:23:34.551Z"
   },
   {
    "duration": 399,
    "start_time": "2022-05-13T18:23:53.038Z"
   },
   {
    "duration": 243,
    "start_time": "2022-05-13T18:57:15.728Z"
   },
   {
    "duration": 460,
    "start_time": "2022-05-13T18:57:23.405Z"
   },
   {
    "duration": 407,
    "start_time": "2022-05-13T19:16:28.484Z"
   },
   {
    "duration": 44,
    "start_time": "2022-05-13T19:16:47.639Z"
   },
   {
    "duration": 391,
    "start_time": "2022-05-13T19:16:53.487Z"
   },
   {
    "duration": 773,
    "start_time": "2022-05-13T19:17:18.416Z"
   },
   {
    "duration": 11,
    "start_time": "2022-05-13T19:18:15.891Z"
   },
   {
    "duration": 36,
    "start_time": "2022-05-13T19:19:27.963Z"
   },
   {
    "duration": 935,
    "start_time": "2022-05-13T19:19:33.681Z"
   },
   {
    "duration": 607,
    "start_time": "2022-05-13T19:19:46.199Z"
   },
   {
    "duration": 253,
    "start_time": "2022-05-13T19:20:44.915Z"
   },
   {
    "duration": 655,
    "start_time": "2022-05-13T19:20:49.115Z"
   },
   {
    "duration": 135,
    "start_time": "2022-05-13T19:21:50.535Z"
   },
   {
    "duration": 693,
    "start_time": "2022-05-13T19:21:58.639Z"
   },
   {
    "duration": 651,
    "start_time": "2022-05-13T19:23:03.473Z"
   },
   {
    "duration": 795,
    "start_time": "2022-05-13T20:09:53.801Z"
   },
   {
    "duration": 1066,
    "start_time": "2022-05-13T20:10:39.653Z"
   },
   {
    "duration": 5,
    "start_time": "2022-05-13T20:29:38.585Z"
   },
   {
    "duration": 84,
    "start_time": "2022-05-13T20:29:38.598Z"
   },
   {
    "duration": 28,
    "start_time": "2022-05-13T20:29:38.687Z"
   },
   {
    "duration": 41,
    "start_time": "2022-05-13T20:29:38.719Z"
   },
   {
    "duration": 71,
    "start_time": "2022-05-13T20:29:38.765Z"
   },
   {
    "duration": 57,
    "start_time": "2022-05-13T20:29:38.841Z"
   },
   {
    "duration": 10,
    "start_time": "2022-05-13T20:29:38.903Z"
   },
   {
    "duration": 51,
    "start_time": "2022-05-13T20:29:38.916Z"
   },
   {
    "duration": 76,
    "start_time": "2022-05-13T20:29:38.970Z"
   },
   {
    "duration": 31,
    "start_time": "2022-05-13T20:29:39.048Z"
   },
   {
    "duration": 50,
    "start_time": "2022-05-13T20:29:39.082Z"
   },
   {
    "duration": 12,
    "start_time": "2022-05-13T20:29:39.135Z"
   },
   {
    "duration": 74,
    "start_time": "2022-05-13T20:29:39.149Z"
   },
   {
    "duration": 17,
    "start_time": "2022-05-13T20:29:39.225Z"
   },
   {
    "duration": 271,
    "start_time": "2022-05-13T20:29:39.246Z"
   },
   {
    "duration": 10,
    "start_time": "2022-05-13T20:29:39.520Z"
   },
   {
    "duration": 38,
    "start_time": "2022-05-13T20:29:39.532Z"
   },
   {
    "duration": 40,
    "start_time": "2022-05-13T20:29:39.576Z"
   },
   {
    "duration": 1164,
    "start_time": "2022-05-13T20:29:39.620Z"
   },
   {
    "duration": 23,
    "start_time": "2022-05-13T20:29:40.787Z"
   },
   {
    "duration": 529,
    "start_time": "2022-05-13T20:29:40.813Z"
   },
   {
    "duration": 9,
    "start_time": "2022-05-13T20:29:41.352Z"
   },
   {
    "duration": 54,
    "start_time": "2022-05-13T20:29:41.363Z"
   },
   {
    "duration": 612,
    "start_time": "2022-05-13T20:29:41.419Z"
   },
   {
    "duration": 362,
    "start_time": "2022-05-13T20:29:42.033Z"
   },
   {
    "duration": 349,
    "start_time": "2022-05-13T20:29:42.398Z"
   },
   {
    "duration": 9,
    "start_time": "2022-05-13T20:29:42.755Z"
   },
   {
    "duration": 433,
    "start_time": "2022-05-13T20:29:42.766Z"
   },
   {
    "duration": 434,
    "start_time": "2022-05-13T20:29:43.201Z"
   },
   {
    "duration": 487,
    "start_time": "2022-05-13T20:29:43.638Z"
   },
   {
    "duration": 601,
    "start_time": "2022-05-13T20:29:44.128Z"
   },
   {
    "duration": 397,
    "start_time": "2022-05-13T20:29:44.732Z"
   },
   {
    "duration": 728,
    "start_time": "2022-05-13T20:29:45.132Z"
   },
   {
    "duration": 483,
    "start_time": "2022-05-13T20:29:45.865Z"
   },
   {
    "duration": 450,
    "start_time": "2022-05-13T20:29:46.353Z"
   },
   {
    "duration": 4,
    "start_time": "2022-05-13T20:29:46.806Z"
   },
   {
    "duration": 11,
    "start_time": "2022-05-13T20:29:46.813Z"
   },
   {
    "duration": 7,
    "start_time": "2022-05-13T20:29:46.826Z"
   },
   {
    "duration": 1147,
    "start_time": "2022-05-13T20:29:46.856Z"
   },
   {
    "duration": 916,
    "start_time": "2022-05-13T20:29:48.006Z"
   },
   {
    "duration": 816,
    "start_time": "2022-05-13T20:29:48.925Z"
   },
   {
    "duration": 13,
    "start_time": "2022-05-13T20:29:49.751Z"
   },
   {
    "duration": 49,
    "start_time": "2022-05-13T20:29:49.766Z"
   },
   {
    "duration": 27,
    "start_time": "2022-05-13T20:29:49.817Z"
   },
   {
    "duration": 35,
    "start_time": "2022-05-13T20:29:49.847Z"
   },
   {
    "duration": 39,
    "start_time": "2022-05-13T20:29:49.884Z"
   },
   {
    "duration": 11,
    "start_time": "2022-05-13T20:29:49.926Z"
   },
   {
    "duration": 42,
    "start_time": "2022-05-13T20:29:49.939Z"
   },
   {
    "duration": 20,
    "start_time": "2022-05-13T20:29:49.983Z"
   }
  ],
  "kernelspec": {
   "display_name": "Python 3 (ipykernel)",
   "language": "python",
   "name": "python3"
  },
  "language_info": {
   "codemirror_mode": {
    "name": "ipython",
    "version": 3
   },
   "file_extension": ".py",
   "mimetype": "text/x-python",
   "name": "python",
   "nbconvert_exporter": "python",
   "pygments_lexer": "ipython3",
   "version": "3.9.7"
  },
  "toc": {
   "base_numbering": 1,
   "nav_menu": {
    "height": "308px",
    "width": "448px"
   },
   "number_sections": true,
   "sideBar": true,
   "skip_h1_title": true,
   "title_cell": "Table of Contents",
   "title_sidebar": "Contents",
   "toc_cell": false,
   "toc_position": {},
   "toc_section_display": true,
   "toc_window_display": true
  }
 },
 "nbformat": 4,
 "nbformat_minor": 2
}
