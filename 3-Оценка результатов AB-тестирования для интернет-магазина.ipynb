{
 "cells": [
  {
   "cell_type": "markdown",
   "metadata": {},
   "source": [
    "# Подготовка и анализ результатов A/B теста"
   ]
  },
  {
   "cell_type": "markdown",
   "metadata": {},
   "source": [
    "## Описание проекта"
   ]
  },
  {
   "cell_type": "markdown",
   "metadata": {},
   "source": [
    "Отдел маркетинга интернет-магазина подготовил список гипотез для увеличения выручки. Необходимо приоритизировать гипотезы, выделив самые перспективные, а так же провести A/B тест и проанализировать его результаты.\n",
    "\n",
    "**Цель проекта**:\n",
    "1. Выбрать наиболее перспективные гипотезы для последующего запуска A/B тестирования;\n",
    "2. Принять решение о дальнейшем проведении A/B тестирования и оценка его результатов.\n",
    "\n",
    "Задачи проекта:\n",
    "1. Провести приоритизацию гипотез;\n",
    "2. Обработать данные, полученные в ходе A/B теста, провести статистический анализ гипотез результатов.  \n",
    "\n",
    "**План действий**:\n",
    "1. Провести предобработку данных;\n",
    "2. Для приоритизации гипотез использовать фреймворки ICE и RICE;\n",
    "3. Собрать кумулятивные данные;\n",
    "4. Построить график кумулятивной выручки и кумулятивного среднего чека;\n",
    "5. Проанализировать и обработать аномалии и выбросы;\n",
    "6. Посчитать статистическую значимость различий в конверсии и среднем чеке между группами по \"сырым\" данным;\n",
    "7. Посчитать статистическую значимость различий в конверсии и среднем чеке между группами по \"очищенным\" данным;\n",
    "8. Оценить полученные результаты.\n",
    "\n",
    "**Описание данных**\n",
    "\n",
    "Данные таблицы **hypothesis**:\n",
    "\n",
    "* _Hypothesis_ — краткое описание гипотезы;\n",
    "* _Reach_ — охват пользователей по 10-балльной шкале;\n",
    "* _Impact_ — влияние на пользователей по 10-балльной шкале;\n",
    "* _Confidence_ — уверенность в гипотезе по 10-балльной шкале;\n",
    "* _Efforts_ — затраты ресурсов на проверку гипотезы по 10-балльной шкале. Чем больше значение Efforts, тем дороже проверка гипотезы.\n",
    "\n",
    "Данные таблицы **orders**:\n",
    "\n",
    "* _transactionId_ — идентификатор заказа;\n",
    "* _visitorId_ — идентификатор пользователя, совершившего заказ;\n",
    "* _date_ — дата, когда был совершён заказ;\n",
    "* _revenue_ — выручка заказа;\n",
    "* _group_ — группа A/B-теста, в которую попал заказ.\n",
    "\n",
    "Данные таблицы **visitors**:\n",
    "\n",
    "* _date_ — дата;\n",
    "* _group_ — группа A/B-теста;\n",
    "* _visitors_ — количество пользователей в указанную дату в указанной группе A/B-теста"
   ]
  },
  {
   "cell_type": "markdown",
   "metadata": {},
   "source": [
    "## Приоритизация гипотез"
   ]
  },
  {
   "cell_type": "code",
   "execution_count": 14,
   "metadata": {},
   "outputs": [],
   "source": [
    "import pandas as pd  # импорт библиотек\n",
    "from scipy import stats as st\n",
    "import matplotlib.pyplot as plt\n",
    "import datetime as dt\n",
    "import numpy as np"
   ]
  },
  {
   "cell_type": "code",
   "execution_count": 15,
   "metadata": {
    "scrolled": true
   },
   "outputs": [
    {
     "data": {
      "text/html": [
       "<div>\n",
       "<style scoped>\n",
       "    .dataframe tbody tr th:only-of-type {\n",
       "        vertical-align: middle;\n",
       "    }\n",
       "\n",
       "    .dataframe tbody tr th {\n",
       "        vertical-align: top;\n",
       "    }\n",
       "\n",
       "    .dataframe thead th {\n",
       "        text-align: right;\n",
       "    }\n",
       "</style>\n",
       "<table border=\"1\" class=\"dataframe\">\n",
       "  <thead>\n",
       "    <tr style=\"text-align: right;\">\n",
       "      <th></th>\n",
       "      <th>Hypothesis</th>\n",
       "      <th>Reach</th>\n",
       "      <th>Impact</th>\n",
       "      <th>Confidence</th>\n",
       "      <th>Efforts</th>\n",
       "    </tr>\n",
       "  </thead>\n",
       "  <tbody>\n",
       "    <tr>\n",
       "      <th>0</th>\n",
       "      <td>Добавить два новых канала привлечения трафика, что позволит привлекать на 30% больше пользователей</td>\n",
       "      <td>3</td>\n",
       "      <td>10</td>\n",
       "      <td>8</td>\n",
       "      <td>6</td>\n",
       "    </tr>\n",
       "    <tr>\n",
       "      <th>1</th>\n",
       "      <td>Запустить собственную службу доставки, что сократит срок доставки заказов</td>\n",
       "      <td>2</td>\n",
       "      <td>5</td>\n",
       "      <td>4</td>\n",
       "      <td>10</td>\n",
       "    </tr>\n",
       "    <tr>\n",
       "      <th>2</th>\n",
       "      <td>Добавить блоки рекомендаций товаров на сайт интернет магазина, чтобы повысить конверсию и средний чек заказа</td>\n",
       "      <td>8</td>\n",
       "      <td>3</td>\n",
       "      <td>7</td>\n",
       "      <td>3</td>\n",
       "    </tr>\n",
       "    <tr>\n",
       "      <th>3</th>\n",
       "      <td>Изменить структура категорий, что увеличит конверсию, т.к. пользователи быстрее найдут нужный товар</td>\n",
       "      <td>8</td>\n",
       "      <td>3</td>\n",
       "      <td>3</td>\n",
       "      <td>8</td>\n",
       "    </tr>\n",
       "    <tr>\n",
       "      <th>4</th>\n",
       "      <td>Изменить цвет фона главной страницы, чтобы увеличить вовлеченность пользователей</td>\n",
       "      <td>3</td>\n",
       "      <td>1</td>\n",
       "      <td>1</td>\n",
       "      <td>1</td>\n",
       "    </tr>\n",
       "    <tr>\n",
       "      <th>5</th>\n",
       "      <td>Добавить страницу отзывов клиентов о магазине, что позволит увеличить количество заказов</td>\n",
       "      <td>3</td>\n",
       "      <td>2</td>\n",
       "      <td>2</td>\n",
       "      <td>3</td>\n",
       "    </tr>\n",
       "    <tr>\n",
       "      <th>6</th>\n",
       "      <td>Показать на главной странице баннеры с актуальными акциями и распродажами, чтобы увеличить конверсию</td>\n",
       "      <td>5</td>\n",
       "      <td>3</td>\n",
       "      <td>8</td>\n",
       "      <td>3</td>\n",
       "    </tr>\n",
       "    <tr>\n",
       "      <th>7</th>\n",
       "      <td>Добавить форму подписки на все основные страницы, чтобы собрать базу клиентов для email-рассылок</td>\n",
       "      <td>10</td>\n",
       "      <td>7</td>\n",
       "      <td>8</td>\n",
       "      <td>5</td>\n",
       "    </tr>\n",
       "    <tr>\n",
       "      <th>8</th>\n",
       "      <td>Запустить акцию, дающую скидку на товар в день рождения</td>\n",
       "      <td>1</td>\n",
       "      <td>9</td>\n",
       "      <td>9</td>\n",
       "      <td>5</td>\n",
       "    </tr>\n",
       "  </tbody>\n",
       "</table>\n",
       "</div>"
      ],
      "text/plain": [
       "                                                                                                     Hypothesis  \\\n",
       "0            Добавить два новых канала привлечения трафика, что позволит привлекать на 30% больше пользователей   \n",
       "1                                     Запустить собственную службу доставки, что сократит срок доставки заказов   \n",
       "2  Добавить блоки рекомендаций товаров на сайт интернет магазина, чтобы повысить конверсию и средний чек заказа   \n",
       "3           Изменить структура категорий, что увеличит конверсию, т.к. пользователи быстрее найдут нужный товар   \n",
       "4                              Изменить цвет фона главной страницы, чтобы увеличить вовлеченность пользователей   \n",
       "5                      Добавить страницу отзывов клиентов о магазине, что позволит увеличить количество заказов   \n",
       "6          Показать на главной странице баннеры с актуальными акциями и распродажами, чтобы увеличить конверсию   \n",
       "7              Добавить форму подписки на все основные страницы, чтобы собрать базу клиентов для email-рассылок   \n",
       "8                                                       Запустить акцию, дающую скидку на товар в день рождения   \n",
       "\n",
       "   Reach  Impact  Confidence  Efforts  \n",
       "0      3      10           8        6  \n",
       "1      2       5           4       10  \n",
       "2      8       3           7        3  \n",
       "3      8       3           3        8  \n",
       "4      3       1           1        1  \n",
       "5      3       2           2        3  \n",
       "6      5       3           8        3  \n",
       "7     10       7           8        5  \n",
       "8      1       9           9        5  "
      ]
     },
     "execution_count": 15,
     "metadata": {},
     "output_type": "execute_result"
    }
   ],
   "source": [
    "hypothesis = pd.read_csv('datasets\\\\hypothesis.csv') # чтение файла с гипотезами\n",
    "pd.set_option('display.max_colwidth', None)  \n",
    "hypothesis"
   ]
  },
  {
   "cell_type": "markdown",
   "metadata": {},
   "source": [
    "Всего отдел маркетинга предоставил девять гипотез, у каждой уже рассчитаны необходимые параметры. Для расчета приоритета у нас есть два метода, **ICE** и его модификация **RICE**. Проверим каждый из них: рассчитаем данные, добавим столбец и отсортируем результаты."
   ]
  },
  {
   "cell_type": "code",
   "execution_count": 16,
   "metadata": {
    "scrolled": true
   },
   "outputs": [],
   "source": [
    "hypothesis.columns = [x.lower() for x in hypothesis.columns.values] # переименовываю столбцы для удобства"
   ]
  },
  {
   "cell_type": "code",
   "execution_count": 17,
   "metadata": {},
   "outputs": [
    {
     "data": {
      "text/html": [
       "<div>\n",
       "<style scoped>\n",
       "    .dataframe tbody tr th:only-of-type {\n",
       "        vertical-align: middle;\n",
       "    }\n",
       "\n",
       "    .dataframe tbody tr th {\n",
       "        vertical-align: top;\n",
       "    }\n",
       "\n",
       "    .dataframe thead th {\n",
       "        text-align: right;\n",
       "    }\n",
       "</style>\n",
       "<table border=\"1\" class=\"dataframe\">\n",
       "  <thead>\n",
       "    <tr style=\"text-align: right;\">\n",
       "      <th></th>\n",
       "      <th>hypothesis</th>\n",
       "      <th>ICE</th>\n",
       "    </tr>\n",
       "  </thead>\n",
       "  <tbody>\n",
       "    <tr>\n",
       "      <th>8</th>\n",
       "      <td>Запустить акцию, дающую скидку на товар в день рождения</td>\n",
       "      <td>16.20</td>\n",
       "    </tr>\n",
       "    <tr>\n",
       "      <th>0</th>\n",
       "      <td>Добавить два новых канала привлечения трафика, что позволит привлекать на 30% больше пользователей</td>\n",
       "      <td>13.33</td>\n",
       "    </tr>\n",
       "    <tr>\n",
       "      <th>7</th>\n",
       "      <td>Добавить форму подписки на все основные страницы, чтобы собрать базу клиентов для email-рассылок</td>\n",
       "      <td>11.20</td>\n",
       "    </tr>\n",
       "    <tr>\n",
       "      <th>6</th>\n",
       "      <td>Показать на главной странице баннеры с актуальными акциями и распродажами, чтобы увеличить конверсию</td>\n",
       "      <td>8.00</td>\n",
       "    </tr>\n",
       "    <tr>\n",
       "      <th>2</th>\n",
       "      <td>Добавить блоки рекомендаций товаров на сайт интернет магазина, чтобы повысить конверсию и средний чек заказа</td>\n",
       "      <td>7.00</td>\n",
       "    </tr>\n",
       "    <tr>\n",
       "      <th>1</th>\n",
       "      <td>Запустить собственную службу доставки, что сократит срок доставки заказов</td>\n",
       "      <td>2.00</td>\n",
       "    </tr>\n",
       "    <tr>\n",
       "      <th>5</th>\n",
       "      <td>Добавить страницу отзывов клиентов о магазине, что позволит увеличить количество заказов</td>\n",
       "      <td>1.33</td>\n",
       "    </tr>\n",
       "    <tr>\n",
       "      <th>3</th>\n",
       "      <td>Изменить структура категорий, что увеличит конверсию, т.к. пользователи быстрее найдут нужный товар</td>\n",
       "      <td>1.12</td>\n",
       "    </tr>\n",
       "    <tr>\n",
       "      <th>4</th>\n",
       "      <td>Изменить цвет фона главной страницы, чтобы увеличить вовлеченность пользователей</td>\n",
       "      <td>1.00</td>\n",
       "    </tr>\n",
       "  </tbody>\n",
       "</table>\n",
       "</div>"
      ],
      "text/plain": [
       "                                                                                                     hypothesis  \\\n",
       "8                                                       Запустить акцию, дающую скидку на товар в день рождения   \n",
       "0            Добавить два новых канала привлечения трафика, что позволит привлекать на 30% больше пользователей   \n",
       "7              Добавить форму подписки на все основные страницы, чтобы собрать базу клиентов для email-рассылок   \n",
       "6          Показать на главной странице баннеры с актуальными акциями и распродажами, чтобы увеличить конверсию   \n",
       "2  Добавить блоки рекомендаций товаров на сайт интернет магазина, чтобы повысить конверсию и средний чек заказа   \n",
       "1                                     Запустить собственную службу доставки, что сократит срок доставки заказов   \n",
       "5                      Добавить страницу отзывов клиентов о магазине, что позволит увеличить количество заказов   \n",
       "3           Изменить структура категорий, что увеличит конверсию, т.к. пользователи быстрее найдут нужный товар   \n",
       "4                              Изменить цвет фона главной страницы, чтобы увеличить вовлеченность пользователей   \n",
       "\n",
       "     ICE  \n",
       "8  16.20  \n",
       "0  13.33  \n",
       "7  11.20  \n",
       "6   8.00  \n",
       "2   7.00  \n",
       "1   2.00  \n",
       "5   1.33  \n",
       "3   1.12  \n",
       "4   1.00  "
      ]
     },
     "execution_count": 17,
     "metadata": {},
     "output_type": "execute_result"
    }
   ],
   "source": [
    "hypothesis['ICE'] = (hypothesis['impact'] * hypothesis['confidence'] / hypothesis['efforts']).round(2) # расчет ICE\n",
    "hypothesis[['hypothesis', 'ICE']].sort_values(by='ICE', ascending=False)"
   ]
  },
  {
   "cell_type": "markdown",
   "metadata": {},
   "source": [
    "По результатам ICE наиболее перспективными гипотезами являются 9, 1 и 8. Однако, есть еще один способ расчета: RICE, который так же учитывает, сколько пользователей затронет исследуемое изменение."
   ]
  },
  {
   "cell_type": "code",
   "execution_count": 18,
   "metadata": {},
   "outputs": [
    {
     "data": {
      "text/html": [
       "<div>\n",
       "<style scoped>\n",
       "    .dataframe tbody tr th:only-of-type {\n",
       "        vertical-align: middle;\n",
       "    }\n",
       "\n",
       "    .dataframe tbody tr th {\n",
       "        vertical-align: top;\n",
       "    }\n",
       "\n",
       "    .dataframe thead th {\n",
       "        text-align: right;\n",
       "    }\n",
       "</style>\n",
       "<table border=\"1\" class=\"dataframe\">\n",
       "  <thead>\n",
       "    <tr style=\"text-align: right;\">\n",
       "      <th></th>\n",
       "      <th>hypothesis</th>\n",
       "      <th>RICE</th>\n",
       "    </tr>\n",
       "  </thead>\n",
       "  <tbody>\n",
       "    <tr>\n",
       "      <th>7</th>\n",
       "      <td>Добавить форму подписки на все основные страницы, чтобы собрать базу клиентов для email-рассылок</td>\n",
       "      <td>112.0</td>\n",
       "    </tr>\n",
       "    <tr>\n",
       "      <th>2</th>\n",
       "      <td>Добавить блоки рекомендаций товаров на сайт интернет магазина, чтобы повысить конверсию и средний чек заказа</td>\n",
       "      <td>56.0</td>\n",
       "    </tr>\n",
       "    <tr>\n",
       "      <th>0</th>\n",
       "      <td>Добавить два новых канала привлечения трафика, что позволит привлекать на 30% больше пользователей</td>\n",
       "      <td>40.0</td>\n",
       "    </tr>\n",
       "    <tr>\n",
       "      <th>6</th>\n",
       "      <td>Показать на главной странице баннеры с актуальными акциями и распродажами, чтобы увеличить конверсию</td>\n",
       "      <td>40.0</td>\n",
       "    </tr>\n",
       "    <tr>\n",
       "      <th>8</th>\n",
       "      <td>Запустить акцию, дающую скидку на товар в день рождения</td>\n",
       "      <td>16.2</td>\n",
       "    </tr>\n",
       "    <tr>\n",
       "      <th>3</th>\n",
       "      <td>Изменить структура категорий, что увеличит конверсию, т.к. пользователи быстрее найдут нужный товар</td>\n",
       "      <td>9.0</td>\n",
       "    </tr>\n",
       "    <tr>\n",
       "      <th>1</th>\n",
       "      <td>Запустить собственную службу доставки, что сократит срок доставки заказов</td>\n",
       "      <td>4.0</td>\n",
       "    </tr>\n",
       "    <tr>\n",
       "      <th>5</th>\n",
       "      <td>Добавить страницу отзывов клиентов о магазине, что позволит увеличить количество заказов</td>\n",
       "      <td>4.0</td>\n",
       "    </tr>\n",
       "    <tr>\n",
       "      <th>4</th>\n",
       "      <td>Изменить цвет фона главной страницы, чтобы увеличить вовлеченность пользователей</td>\n",
       "      <td>3.0</td>\n",
       "    </tr>\n",
       "  </tbody>\n",
       "</table>\n",
       "</div>"
      ],
      "text/plain": [
       "                                                                                                     hypothesis  \\\n",
       "7              Добавить форму подписки на все основные страницы, чтобы собрать базу клиентов для email-рассылок   \n",
       "2  Добавить блоки рекомендаций товаров на сайт интернет магазина, чтобы повысить конверсию и средний чек заказа   \n",
       "0            Добавить два новых канала привлечения трафика, что позволит привлекать на 30% больше пользователей   \n",
       "6          Показать на главной странице баннеры с актуальными акциями и распродажами, чтобы увеличить конверсию   \n",
       "8                                                       Запустить акцию, дающую скидку на товар в день рождения   \n",
       "3           Изменить структура категорий, что увеличит конверсию, т.к. пользователи быстрее найдут нужный товар   \n",
       "1                                     Запустить собственную службу доставки, что сократит срок доставки заказов   \n",
       "5                      Добавить страницу отзывов клиентов о магазине, что позволит увеличить количество заказов   \n",
       "4                              Изменить цвет фона главной страницы, чтобы увеличить вовлеченность пользователей   \n",
       "\n",
       "    RICE  \n",
       "7  112.0  \n",
       "2   56.0  \n",
       "0   40.0  \n",
       "6   40.0  \n",
       "8   16.2  \n",
       "3    9.0  \n",
       "1    4.0  \n",
       "5    4.0  \n",
       "4    3.0  "
      ]
     },
     "execution_count": 18,
     "metadata": {},
     "output_type": "execute_result"
    }
   ],
   "source": [
    "# расчет RICE\n",
    "hypothesis['RICE'] = (hypothesis['reach'] * hypothesis['impact'] * hypothesis['confidence'] / hypothesis['efforts'])\n",
    "hypothesis[['hypothesis', 'RICE']].sort_values(by='RICE', ascending=False)"
   ]
  },
  {
   "cell_type": "code",
   "execution_count": 19,
   "metadata": {
    "scrolled": false
   },
   "outputs": [
    {
     "data": {
      "image/png": "[encoded data removed]",
      "text/plain": [
       "<Figure size 576x576 with 1 Axes>"
      ]
     },
     "metadata": {
      "needs_background": "light"
     },
     "output_type": "display_data"
    }
   ],
   "source": [
    "y = hypothesis['ICE']   # визуализация результатов на точечной диаграмме\n",
    "z = hypothesis['RICE'] \n",
    "n = hypothesis.index \n",
    "\n",
    "fig, ax = plt.subplots()\n",
    "fig.set_figheight(8)\n",
    "fig.set_figwidth(8) \n",
    "ax.scatter(z, y)\n",
    "\n",
    "for i, txt in enumerate(n):\n",
    "    ax.annotate(txt, (z[i], y[i]), size=20)\n",
    "\n",
    "plt.title(\"ICE and RICE гипотезы\") \n",
    "plt.xlabel(\"RICE\") \n",
    "plt.ylabel(\"ICE\")\n",
    "plt.show()  "
   ]
  },
  {
   "cell_type": "markdown",
   "metadata": {},
   "source": [
    "Здесь произошли небольшие сдвиги: самой перспективной гипотезой является 8, за ней 3, 1 и 7.\n",
    "\n",
    "8 гипотеза вышла на первое место, потому что охват ее изменений касается всех пользователей, которые посещают сайт интернет-магазина. А вот гипотеза о добавлении акций в день рождения, наоборот, сильно просела в рейтинге из-за своего узкого эффекта на аудиторию."
   ]
  },
  {
   "cell_type": "markdown",
   "metadata": {},
   "source": [
    "Таким образом, нельзя делать выбор по приоритизации гипотез, основываясь только на одном методе, расчеты по формуле ICE сильно зависят от субъективной оценки гипотезы, тогда как его модернизированная версия RICE учитывает так же будущий охват изменений. В нашем случае на основании двух методов **наиболее перспективными будут гипотезы под номерами 8, 1 и 3**."
   ]
  },
  {
   "cell_type": "markdown",
   "metadata": {},
   "source": [
    "## Анализ результатов A/B теста"
   ]
  },
  {
   "cell_type": "markdown",
   "metadata": {},
   "source": [
    "### Подготовка данных"
   ]
  },
  {
   "cell_type": "code",
   "execution_count": 20,
   "metadata": {
    "scrolled": true
   },
   "outputs": [],
   "source": [
    "orders = pd.read_csv('datasets\\\\orders.csv') # чтение файлов\n",
    "visitors = pd.read_csv('datasets\\\\visitors.csv')"
   ]
  },
  {
   "cell_type": "code",
   "execution_count": 21,
   "metadata": {
    "scrolled": false
   },
   "outputs": [
    {
     "name": "stdout",
     "output_type": "stream",
     "text": [
      "<class 'pandas.core.frame.DataFrame'>\n",
      "RangeIndex: 1197 entries, 0 to 1196\n",
      "Data columns (total 5 columns):\n",
      " #   Column         Non-Null Count  Dtype \n",
      "---  ------         --------------  ----- \n",
      " 0   transactionId  1197 non-null   int64 \n",
      " 1   visitorId      1197 non-null   int64 \n",
      " 2   date           1197 non-null   object\n",
      " 3   revenue        1197 non-null   int64 \n",
      " 4   group          1197 non-null   object\n",
      "dtypes: int64(3), object(2)\n",
      "memory usage: 46.9+ KB\n",
      "None\n"
     ]
    },
    {
     "data": {
      "text/html": [
       "<div>\n",
       "<style scoped>\n",
       "    .dataframe tbody tr th:only-of-type {\n",
       "        vertical-align: middle;\n",
       "    }\n",
       "\n",
       "    .dataframe tbody tr th {\n",
       "        vertical-align: top;\n",
       "    }\n",
       "\n",
       "    .dataframe thead th {\n",
       "        text-align: right;\n",
       "    }\n",
       "</style>\n",
       "<table border=\"1\" class=\"dataframe\">\n",
       "  <thead>\n",
       "    <tr style=\"text-align: right;\">\n",
       "      <th></th>\n",
       "      <th>transactionId</th>\n",
       "      <th>visitorId</th>\n",
       "      <th>date</th>\n",
       "      <th>revenue</th>\n",
       "      <th>group</th>\n",
       "    </tr>\n",
       "  </thead>\n",
       "  <tbody>\n",
       "    <tr>\n",
       "      <th>0</th>\n",
       "      <td>3667963787</td>\n",
       "      <td>3312258926</td>\n",
       "      <td>2019-08-15</td>\n",
       "      <td>1650</td>\n",
       "      <td>B</td>\n",
       "    </tr>\n",
       "    <tr>\n",
       "      <th>1</th>\n",
       "      <td>2804400009</td>\n",
       "      <td>3642806036</td>\n",
       "      <td>2019-08-15</td>\n",
       "      <td>730</td>\n",
       "      <td>B</td>\n",
       "    </tr>\n",
       "    <tr>\n",
       "      <th>2</th>\n",
       "      <td>2961555356</td>\n",
       "      <td>4069496402</td>\n",
       "      <td>2019-08-15</td>\n",
       "      <td>400</td>\n",
       "      <td>A</td>\n",
       "    </tr>\n",
       "    <tr>\n",
       "      <th>3</th>\n",
       "      <td>3797467345</td>\n",
       "      <td>1196621759</td>\n",
       "      <td>2019-08-15</td>\n",
       "      <td>9759</td>\n",
       "      <td>B</td>\n",
       "    </tr>\n",
       "    <tr>\n",
       "      <th>4</th>\n",
       "      <td>2282983706</td>\n",
       "      <td>2322279887</td>\n",
       "      <td>2019-08-15</td>\n",
       "      <td>2308</td>\n",
       "      <td>B</td>\n",
       "    </tr>\n",
       "    <tr>\n",
       "      <th>...</th>\n",
       "      <td>...</td>\n",
       "      <td>...</td>\n",
       "      <td>...</td>\n",
       "      <td>...</td>\n",
       "      <td>...</td>\n",
       "    </tr>\n",
       "    <tr>\n",
       "      <th>1192</th>\n",
       "      <td>2662137336</td>\n",
       "      <td>3733762160</td>\n",
       "      <td>2019-08-14</td>\n",
       "      <td>6490</td>\n",
       "      <td>B</td>\n",
       "    </tr>\n",
       "    <tr>\n",
       "      <th>1193</th>\n",
       "      <td>2203539145</td>\n",
       "      <td>370388673</td>\n",
       "      <td>2019-08-14</td>\n",
       "      <td>3190</td>\n",
       "      <td>A</td>\n",
       "    </tr>\n",
       "    <tr>\n",
       "      <th>1194</th>\n",
       "      <td>1807773912</td>\n",
       "      <td>573423106</td>\n",
       "      <td>2019-08-14</td>\n",
       "      <td>10550</td>\n",
       "      <td>A</td>\n",
       "    </tr>\n",
       "    <tr>\n",
       "      <th>1195</th>\n",
       "      <td>1947021204</td>\n",
       "      <td>1614305549</td>\n",
       "      <td>2019-08-14</td>\n",
       "      <td>100</td>\n",
       "      <td>A</td>\n",
       "    </tr>\n",
       "    <tr>\n",
       "      <th>1196</th>\n",
       "      <td>3936777065</td>\n",
       "      <td>2108080724</td>\n",
       "      <td>2019-08-15</td>\n",
       "      <td>202740</td>\n",
       "      <td>B</td>\n",
       "    </tr>\n",
       "  </tbody>\n",
       "</table>\n",
       "<p>1197 rows × 5 columns</p>\n",
       "</div>"
      ],
      "text/plain": [
       "      transactionId   visitorId        date  revenue group\n",
       "0        3667963787  3312258926  2019-08-15     1650     B\n",
       "1        2804400009  3642806036  2019-08-15      730     B\n",
       "2        2961555356  4069496402  2019-08-15      400     A\n",
       "3        3797467345  1196621759  2019-08-15     9759     B\n",
       "4        2282983706  2322279887  2019-08-15     2308     B\n",
       "...             ...         ...         ...      ...   ...\n",
       "1192     2662137336  3733762160  2019-08-14     6490     B\n",
       "1193     2203539145   370388673  2019-08-14     3190     A\n",
       "1194     1807773912   573423106  2019-08-14    10550     A\n",
       "1195     1947021204  1614305549  2019-08-14      100     A\n",
       "1196     3936777065  2108080724  2019-08-15   202740     B\n",
       "\n",
       "[1197 rows x 5 columns]"
      ]
     },
     "metadata": {},
     "output_type": "display_data"
    }
   ],
   "source": [
    "print(orders.info()) # общая информация о таблице orders\n",
    "display(orders)"
   ]
  },
  {
   "cell_type": "code",
   "execution_count": 22,
   "metadata": {},
   "outputs": [
    {
     "name": "stdout",
     "output_type": "stream",
     "text": [
      "<class 'pandas.core.frame.DataFrame'>\n",
      "RangeIndex: 62 entries, 0 to 61\n",
      "Data columns (total 3 columns):\n",
      " #   Column    Non-Null Count  Dtype \n",
      "---  ------    --------------  ----- \n",
      " 0   date      62 non-null     object\n",
      " 1   group     62 non-null     object\n",
      " 2   visitors  62 non-null     int64 \n",
      "dtypes: int64(1), object(2)\n",
      "memory usage: 1.6+ KB\n",
      "None\n"
     ]
    },
    {
     "data": {
      "text/html": [
       "<div>\n",
       "<style scoped>\n",
       "    .dataframe tbody tr th:only-of-type {\n",
       "        vertical-align: middle;\n",
       "    }\n",
       "\n",
       "    .dataframe tbody tr th {\n",
       "        vertical-align: top;\n",
       "    }\n",
       "\n",
       "    .dataframe thead th {\n",
       "        text-align: right;\n",
       "    }\n",
       "</style>\n",
       "<table border=\"1\" class=\"dataframe\">\n",
       "  <thead>\n",
       "    <tr style=\"text-align: right;\">\n",
       "      <th></th>\n",
       "      <th>date</th>\n",
       "      <th>group</th>\n",
       "      <th>visitors</th>\n",
       "    </tr>\n",
       "  </thead>\n",
       "  <tbody>\n",
       "    <tr>\n",
       "      <th>0</th>\n",
       "      <td>2019-08-01</td>\n",
       "      <td>A</td>\n",
       "      <td>719</td>\n",
       "    </tr>\n",
       "    <tr>\n",
       "      <th>1</th>\n",
       "      <td>2019-08-02</td>\n",
       "      <td>A</td>\n",
       "      <td>619</td>\n",
       "    </tr>\n",
       "    <tr>\n",
       "      <th>2</th>\n",
       "      <td>2019-08-03</td>\n",
       "      <td>A</td>\n",
       "      <td>507</td>\n",
       "    </tr>\n",
       "    <tr>\n",
       "      <th>3</th>\n",
       "      <td>2019-08-04</td>\n",
       "      <td>A</td>\n",
       "      <td>717</td>\n",
       "    </tr>\n",
       "    <tr>\n",
       "      <th>4</th>\n",
       "      <td>2019-08-05</td>\n",
       "      <td>A</td>\n",
       "      <td>756</td>\n",
       "    </tr>\n",
       "    <tr>\n",
       "      <th>...</th>\n",
       "      <td>...</td>\n",
       "      <td>...</td>\n",
       "      <td>...</td>\n",
       "    </tr>\n",
       "    <tr>\n",
       "      <th>57</th>\n",
       "      <td>2019-08-27</td>\n",
       "      <td>B</td>\n",
       "      <td>720</td>\n",
       "    </tr>\n",
       "    <tr>\n",
       "      <th>58</th>\n",
       "      <td>2019-08-28</td>\n",
       "      <td>B</td>\n",
       "      <td>654</td>\n",
       "    </tr>\n",
       "    <tr>\n",
       "      <th>59</th>\n",
       "      <td>2019-08-29</td>\n",
       "      <td>B</td>\n",
       "      <td>531</td>\n",
       "    </tr>\n",
       "    <tr>\n",
       "      <th>60</th>\n",
       "      <td>2019-08-30</td>\n",
       "      <td>B</td>\n",
       "      <td>490</td>\n",
       "    </tr>\n",
       "    <tr>\n",
       "      <th>61</th>\n",
       "      <td>2019-08-31</td>\n",
       "      <td>B</td>\n",
       "      <td>718</td>\n",
       "    </tr>\n",
       "  </tbody>\n",
       "</table>\n",
       "<p>62 rows × 3 columns</p>\n",
       "</div>"
      ],
      "text/plain": [
       "          date group  visitors\n",
       "0   2019-08-01     A       719\n",
       "1   2019-08-02     A       619\n",
       "2   2019-08-03     A       507\n",
       "3   2019-08-04     A       717\n",
       "4   2019-08-05     A       756\n",
       "..         ...   ...       ...\n",
       "57  2019-08-27     B       720\n",
       "58  2019-08-28     B       654\n",
       "59  2019-08-29     B       531\n",
       "60  2019-08-30     B       490\n",
       "61  2019-08-31     B       718\n",
       "\n",
       "[62 rows x 3 columns]"
      ]
     },
     "metadata": {},
     "output_type": "display_data"
    }
   ],
   "source": [
    "print(visitors.info()) # общая информация о таблице visitors\n",
    "display(visitors)"
   ]
  },
  {
   "cell_type": "code",
   "execution_count": 23,
   "metadata": {},
   "outputs": [],
   "source": [
    "orders = orders.rename(columns={'transactionId': 'transaction_id',  # для удобства переименовываю столбцы\n",
    "                               'visitorId': 'visitor_id'})\n",
    "visitors.columns = ['date', 'group', 'daily_visitors']"
   ]
  },
  {
   "cell_type": "code",
   "execution_count": 24,
   "metadata": {},
   "outputs": [],
   "source": [
    "orders['date'] = orders['date'].map(lambda x: dt.datetime.strptime(x, '%Y-%m-%d'))  # переводим дату в правильный формат\n",
    "visitors['date'] = visitors['date'].map(lambda x: dt.datetime.strptime(x, '%Y-%m-%d'))"
   ]
  },
  {
   "cell_type": "code",
   "execution_count": 25,
   "metadata": {},
   "outputs": [
    {
     "name": "stdout",
     "output_type": "stream",
     "text": [
      "0\n",
      "0\n"
     ]
    }
   ],
   "source": [
    "print(orders.duplicated().sum()) # проверка на явные дубликаты\n",
    "print(visitors.duplicated().sum())"
   ]
  },
  {
   "cell_type": "code",
   "execution_count": 26,
   "metadata": {},
   "outputs": [
    {
     "name": "stdout",
     "output_type": "stream",
     "text": [
      "Начало проведения тестирования 2019-08-01 00:00:00\n",
      "Окончание проведения тестирования 2019-08-31 00:00:00\n"
     ]
    }
   ],
   "source": [
    "print(f\"Начало проведения тестирования {orders['date'].min()}\") # минимальная и максимальная дата исследования\n",
    "print(f\"Окончание проведения тестирования {orders['date'].max()}\")"
   ]
  },
  {
   "cell_type": "markdown",
   "metadata": {},
   "source": [
    "Судя по данным, тестирование проводилось ровно один месяц с 1 августа по 31 августа 2019 года. "
   ]
  },
  {
   "cell_type": "code",
   "execution_count": 27,
   "metadata": {},
   "outputs": [
    {
     "name": "stdout",
     "output_type": "stream",
     "text": [
      "Количество пользователей в группе А 18736\n",
      "Количество пользователей в группе B 18916\n"
     ]
    }
   ],
   "source": [
    "print(f\"Количество пользователей в группе А {visitors[visitors['group'] == 'A']['daily_visitors'].sum()}\") \n",
    "print(f\"Количество пользователей в группе B {visitors[visitors['group'] == 'B']['daily_visitors'].sum()}\") "
   ]
  },
  {
   "cell_type": "markdown",
   "metadata": {},
   "source": [
    "### Анализ кумулятивных данных"
   ]
  },
  {
   "cell_type": "markdown",
   "metadata": {},
   "source": [
    "Прежде всего агрегируем данные с накоплением результатов и представим их графиками, так мы увидим динамику проведения теста и возможные выбросы."
   ]
  },
  {
   "cell_type": "code",
   "execution_count": 28,
   "metadata": {},
   "outputs": [],
   "source": [
    "dates_group = orders[['date','group']].drop_duplicates() # уникальные пары \"дата-группа\" "
   ]
  },
  {
   "cell_type": "code",
   "execution_count": 29,
   "metadata": {},
   "outputs": [],
   "source": [
    "# агрегируем данные: сортируем таблицу orders по условию, \n",
    "# затем считаем число уникальных транзакций и пользователей, сумму покупок, \n",
    "# код проходит по каждой строке датафрейма\n",
    "\n",
    "agregated_orders = (dates_group\n",
    "                    .apply(lambda x: orders[np.logical_and(orders['date'] <= x['date'],\n",
    "                                                           orders['group'] == x['group'])]\n",
    "                           .agg(\n",
    "                               {\n",
    "                                   'date': 'max',\n",
    "                                   'group': 'max',\n",
    "                                   'transaction_id': 'nunique',\n",
    "                                   'visitor_id': 'nunique',\n",
    "                                   'revenue': 'sum'\n",
    "                               }\n",
    "                           ), axis=1)\n",
    "                    .sort_values(by=['date', 'group'])\n",
    "                   )\n",
    "\n",
    "# аналогичный расчет по данных о количестве пользователей в день\n",
    "\n",
    "agregated_visits = (dates_group\n",
    "                    .apply(lambda x: visitors[np.logical_and(visitors['date'] <= x['date'],\n",
    "                                                             visitors['group'] == x['group'])]\n",
    "                           .agg(\n",
    "                               {\n",
    "                                   'date': 'max',\n",
    "                                   'group': 'max',\n",
    "                                   'daily_visitors': 'sum'\n",
    "                               }\n",
    "                           ), axis=1)\n",
    "                    .sort_values(by=['date', 'group'])\n",
    "                    )"
   ]
  },
  {
   "cell_type": "code",
   "execution_count": 30,
   "metadata": {},
   "outputs": [
    {
     "data": {
      "text/html": [
       "<div>\n",
       "<style scoped>\n",
       "    .dataframe tbody tr th:only-of-type {\n",
       "        vertical-align: middle;\n",
       "    }\n",
       "\n",
       "    .dataframe tbody tr th {\n",
       "        vertical-align: top;\n",
       "    }\n",
       "\n",
       "    .dataframe thead th {\n",
       "        text-align: right;\n",
       "    }\n",
       "</style>\n",
       "<table border=\"1\" class=\"dataframe\">\n",
       "  <thead>\n",
       "    <tr style=\"text-align: right;\">\n",
       "      <th></th>\n",
       "      <th>date</th>\n",
       "      <th>group</th>\n",
       "      <th>orders</th>\n",
       "      <th>buyers</th>\n",
       "      <th>revenue</th>\n",
       "      <th>visitors</th>\n",
       "    </tr>\n",
       "  </thead>\n",
       "  <tbody>\n",
       "    <tr>\n",
       "      <th>0</th>\n",
       "      <td>2019-08-01</td>\n",
       "      <td>A</td>\n",
       "      <td>24</td>\n",
       "      <td>20</td>\n",
       "      <td>148579</td>\n",
       "      <td>719</td>\n",
       "    </tr>\n",
       "    <tr>\n",
       "      <th>1</th>\n",
       "      <td>2019-08-01</td>\n",
       "      <td>B</td>\n",
       "      <td>21</td>\n",
       "      <td>20</td>\n",
       "      <td>101217</td>\n",
       "      <td>713</td>\n",
       "    </tr>\n",
       "    <tr>\n",
       "      <th>2</th>\n",
       "      <td>2019-08-02</td>\n",
       "      <td>A</td>\n",
       "      <td>44</td>\n",
       "      <td>38</td>\n",
       "      <td>242401</td>\n",
       "      <td>1338</td>\n",
       "    </tr>\n",
       "    <tr>\n",
       "      <th>3</th>\n",
       "      <td>2019-08-02</td>\n",
       "      <td>B</td>\n",
       "      <td>45</td>\n",
       "      <td>43</td>\n",
       "      <td>266748</td>\n",
       "      <td>1294</td>\n",
       "    </tr>\n",
       "    <tr>\n",
       "      <th>4</th>\n",
       "      <td>2019-08-03</td>\n",
       "      <td>A</td>\n",
       "      <td>68</td>\n",
       "      <td>62</td>\n",
       "      <td>354874</td>\n",
       "      <td>1845</td>\n",
       "    </tr>\n",
       "    <tr>\n",
       "      <th>...</th>\n",
       "      <td>...</td>\n",
       "      <td>...</td>\n",
       "      <td>...</td>\n",
       "      <td>...</td>\n",
       "      <td>...</td>\n",
       "      <td>...</td>\n",
       "    </tr>\n",
       "    <tr>\n",
       "      <th>57</th>\n",
       "      <td>2019-08-29</td>\n",
       "      <td>B</td>\n",
       "      <td>596</td>\n",
       "      <td>544</td>\n",
       "      <td>5559398</td>\n",
       "      <td>17708</td>\n",
       "    </tr>\n",
       "    <tr>\n",
       "      <th>58</th>\n",
       "      <td>2019-08-30</td>\n",
       "      <td>A</td>\n",
       "      <td>545</td>\n",
       "      <td>493</td>\n",
       "      <td>4022970</td>\n",
       "      <td>18037</td>\n",
       "    </tr>\n",
       "    <tr>\n",
       "      <th>59</th>\n",
       "      <td>2019-08-30</td>\n",
       "      <td>B</td>\n",
       "      <td>620</td>\n",
       "      <td>567</td>\n",
       "      <td>5774631</td>\n",
       "      <td>18198</td>\n",
       "    </tr>\n",
       "    <tr>\n",
       "      <th>60</th>\n",
       "      <td>2019-08-31</td>\n",
       "      <td>A</td>\n",
       "      <td>557</td>\n",
       "      <td>503</td>\n",
       "      <td>4084803</td>\n",
       "      <td>18736</td>\n",
       "    </tr>\n",
       "    <tr>\n",
       "      <th>61</th>\n",
       "      <td>2019-08-31</td>\n",
       "      <td>B</td>\n",
       "      <td>640</td>\n",
       "      <td>586</td>\n",
       "      <td>5907760</td>\n",
       "      <td>18916</td>\n",
       "    </tr>\n",
       "  </tbody>\n",
       "</table>\n",
       "<p>62 rows × 6 columns</p>\n",
       "</div>"
      ],
      "text/plain": [
       "         date group  orders  buyers  revenue  visitors\n",
       "0  2019-08-01     A      24      20   148579       719\n",
       "1  2019-08-01     B      21      20   101217       713\n",
       "2  2019-08-02     A      44      38   242401      1338\n",
       "3  2019-08-02     B      45      43   266748      1294\n",
       "4  2019-08-03     A      68      62   354874      1845\n",
       "..        ...   ...     ...     ...      ...       ...\n",
       "57 2019-08-29     B     596     544  5559398     17708\n",
       "58 2019-08-30     A     545     493  4022970     18037\n",
       "59 2019-08-30     B     620     567  5774631     18198\n",
       "60 2019-08-31     A     557     503  4084803     18736\n",
       "61 2019-08-31     B     640     586  5907760     18916\n",
       "\n",
       "[62 rows x 6 columns]"
      ]
     },
     "execution_count": 30,
     "metadata": {},
     "output_type": "execute_result"
    }
   ],
   "source": [
    "# объединяем полученные таблицы в одну методом merge\n",
    "# переименовываем столбцы\n",
    "\n",
    "df_cummulative = agregated_orders.merge(agregated_visits, on=['date', 'group']) \n",
    "df_cummulative.columns = ['date', 'group', 'orders', 'buyers', 'revenue', 'visitors']\n",
    "df_cummulative"
   ]
  },
  {
   "cell_type": "code",
   "execution_count": 31,
   "metadata": {},
   "outputs": [
    {
     "name": "stdout",
     "output_type": "stream",
     "text": [
      "Начало проведения тестирования 2019-08-01 00:00:00\n",
      "Окончание проведения тестирования 2019-08-31 00:00:00\n"
     ]
    }
   ],
   "source": [
    "# проверка на корректность объединения датафрейма\n",
    "print(f\"Начало проведения тестирования {df_cummulative['date'].min()}\") \n",
    "print(f\"Окончание проведения тестирования {df_cummulative['date'].max()}\")"
   ]
  },
  {
   "cell_type": "markdown",
   "metadata": {},
   "source": [
    "Таблица готова, пора строить графики. Для начала выведем общий с кумулятивной выручкой в каждой группе."
   ]
  },
  {
   "cell_type": "code",
   "execution_count": 32,
   "metadata": {},
   "outputs": [],
   "source": [
    "# разделим общую таблицу на две части по каждой группе\n",
    "\n",
    "cummulative_a = df_cummulative.query('group == \"A\"')[['date', 'orders', 'buyers', 'revenue', 'visitors']] # группа А\n",
    "cummulative_b = df_cummulative.query('group == \"B\"')[['date', 'orders', 'buyers', 'revenue', 'visitors']] # группа B"
   ]
  },
  {
   "cell_type": "code",
   "execution_count": 33,
   "metadata": {
    "scrolled": true
   },
   "outputs": [
    {
     "data": {
      "image/png": "[encoded data removed]",
      "text/plain": [
       "<Figure size 648x360 with 1 Axes>"
      ]
     },
     "metadata": {
      "needs_background": "light"
     },
     "output_type": "display_data"
    }
   ],
   "source": [
    "plt.figure(figsize=(9,5))  # график динамики роста кумулятивной выручки\n",
    "plt.plot(cummulative_a['date'], cummulative_a['revenue'], label='A')\n",
    "plt.plot(cummulative_b['date'], cummulative_b['revenue'], label='B')\n",
    "plt.legend()\n",
    "plt.grid()\n",
    "plt.xlabel('Дата измерения')\n",
    "plt.ylabel('Сумма заказов, руб.')\n",
    "plt.title('Динамика роста кумулятивной выручки в обеих группах')\n",
    "plt.show()"
   ]
  },
  {
   "cell_type": "markdown",
   "metadata": {},
   "source": [
    "На графике виден рост в обеих группах, однако **у группы B явно присутствует резкий скачок** в период 18 августа, велика вероятность, что этот результат обусловлен выбросами в сумме заказов или всплеске их общего количества. У группы А рост более равномерный."
   ]
  },
  {
   "cell_type": "code",
   "execution_count": 34,
   "metadata": {},
   "outputs": [
    {
     "data": {
      "image/png": "[encoded data removed]",
      "text/plain": [
       "<Figure size 648x360 with 1 Axes>"
      ]
     },
     "metadata": {
      "needs_background": "light"
     },
     "output_type": "display_data"
    }
   ],
   "source": [
    "plt.figure(figsize=(9,5))  # динамика кумулятивного среднего чека\n",
    "plt.plot(cummulative_a['date'], (cummulative_a['revenue']/cummulative_a['orders']), label='A')\n",
    "plt.plot(cummulative_b['date'], (cummulative_b['revenue']/cummulative_b['orders']), label='B')\n",
    "plt.legend()\n",
    "plt.grid()\n",
    "plt.xlabel('Дата измерения')\n",
    "plt.ylabel('Средний чек, руб.')\n",
    "plt.title('Средний чек с разбивкой по группам')\n",
    "plt.show()"
   ]
  },
  {
   "cell_type": "markdown",
   "metadata": {},
   "source": [
    "Здесь уже интересно: средний чек группы A в целом стабилизируется, тогда как у группы B он продолжает падать, причем после огромного скачка в тот же период, что и на предыдущем графике. Ситуацию дестабилизировало наличие каких-то крупных заказов в определенную дату.\n",
    "\n",
    "Посмотрим, насколько изменялся средний чек B относительно группы А."
   ]
  },
  {
   "cell_type": "code",
   "execution_count": 35,
   "metadata": {},
   "outputs": [
    {
     "data": {
      "image/png": "[encoded data removed]",
      "text/plain": [
       "<Figure size 648x360 with 1 Axes>"
      ]
     },
     "metadata": {
      "needs_background": "light"
     },
     "output_type": "display_data"
    }
   ],
   "source": [
    "# сведем данные о покупках в одну таблицу\n",
    "merge_cummulative = cummulative_a.merge(cummulative_b,\n",
    "                                              on='date',\n",
    "                                              suffixes=['_A', '_B'])\n",
    "\n",
    "# строим график относительных изменений среднего чека\n",
    "plt.figure(figsize=(9,5))\n",
    "plt.plot(merge_cummulative['date'], (merge_cummulative['revenue_B']/merge_cummulative['orders_B'])/\n",
    "                           (merge_cummulative['revenue_A']/merge_cummulative['orders_A'])-1)\n",
    "plt.axhline(y=0, color='black', linestyle='--')\n",
    "plt.grid()\n",
    "plt.title('Относительные изменения среднего чека группы B к группе A')\n",
    "plt.show()"
   ]
  },
  {
   "cell_type": "markdown",
   "metadata": {},
   "source": [
    "График изменений сильно скачет, особенно с 18 по 19 августа, где-то там есть огромный выброс, средний чек вырос в тот момент на целых 50% процентов относительно контрольной группы."
   ]
  },
  {
   "cell_type": "code",
   "execution_count": 36,
   "metadata": {},
   "outputs": [
    {
     "data": {
      "image/png": "[encoded data removed]",
      "text/plain": [
       "<Figure size 648x360 with 1 Axes>"
      ]
     },
     "metadata": {
      "needs_background": "light"
     },
     "output_type": "display_data"
    }
   ],
   "source": [
    "# считаем конверсию\n",
    "cummulative_a['conversion'] = cummulative_a['orders'] / cummulative_a['visitors']\n",
    "cummulative_b['conversion'] = cummulative_b['orders'] / cummulative_b['visitors']\n",
    "\n",
    "# строим график кумулятивной конверсии\n",
    "plt.figure(figsize=(9,5))\n",
    "plt.plot(cummulative_a['date'], cummulative_a['conversion'], label='A')\n",
    "plt.plot(cummulative_b['date'], cummulative_b['conversion'], label='B')\n",
    "plt.legend()\n",
    "plt.grid()\n",
    "plt.xlabel('Дата измерения')\n",
    "plt.ylabel('Показатель конверсии')\n",
    "plt.title('Кумулятивная конверсия в группах')\n",
    "plt.show()"
   ]
  },
  {
   "cell_type": "markdown",
   "metadata": {},
   "source": [
    "График почти симметричен, конверсия группы B после колебаний сразу вырвалась вперед и выше чем в контрольной группе, стоит посмотреть, в каком относительном показателе группа B лидирует."
   ]
  },
  {
   "cell_type": "code",
   "execution_count": 37,
   "metadata": {
    "scrolled": true
   },
   "outputs": [
    {
     "data": {
      "image/png": "[encoded data removed]",
      "text/plain": [
       "<Figure size 648x360 with 1 Axes>"
      ]
     },
     "metadata": {
      "needs_background": "light"
     },
     "output_type": "display_data"
    }
   ],
   "source": [
    "# объединяем конверсии\n",
    "merge_conversions = cummulative_a[['date', 'conversion']].merge(cummulative_b[['date', 'conversion']],\n",
    "                                                               on='date',\n",
    "                                                               suffixes=['_A', '_B'])\n",
    "# строим график относительных изменений\n",
    "\n",
    "plt.figure(figsize=(9,5))\n",
    "plt.plot(merge_conversions['date'], merge_conversions['conversion_B']/merge_conversions['conversion_A']-1)\n",
    "plt.axhline(y=0, color='black', linestyle='--')\n",
    "plt.axhline(y=0.1, color='gray', linestyle='--')\n",
    "plt.grid()\n",
    "plt.ylim([-0.25, 0.25])\n",
    "plt.title('Относительные изменения кумулятивной конверсии группы B к группе A')\n",
    "plt.xlabel('Дата измерения')\n",
    "plt.show()"
   ]
  },
  {
   "cell_type": "markdown",
   "metadata": {},
   "source": [
    "Конверсия группы В относительно А почти сразу ушла в отрыв, затем был небольшой спад, а сейчас она снова на подъеме, причем относительно контрольной группы прирост составляет минимум 10% практически с начала тестирования."
   ]
  },
  {
   "cell_type": "markdown",
   "metadata": {},
   "source": [
    "### Анализ выбросов и поиск аномалий"
   ]
  },
  {
   "cell_type": "code",
   "execution_count": 38,
   "metadata": {},
   "outputs": [
    {
     "data": {
      "image/png": "[encoded data removed]",
      "text/plain": [
       "<Figure size 504x288 with 1 Axes>"
      ]
     },
     "metadata": {
      "needs_background": "light"
     },
     "output_type": "display_data"
    }
   ],
   "source": [
    "plt.figure(figsize=(7,4))   # гистограмма стоимости заказов\n",
    "plt.hist(orders['revenue'], bins=30)\n",
    "plt.grid()\n",
    "plt.title('Распределение стоимости заказов')\n",
    "plt.xlabel('Стоимость заказа, руб.')\n",
    "plt.ylabel('Количество заказов')\n",
    "plt.show()"
   ]
  },
  {
   "cell_type": "markdown",
   "metadata": {},
   "source": [
    "Подавляющая сумма заказов находится в пределах до 100 тысяч, по грубой оценке. По гистограмме сложно идентифицировать аномалии, но по крайней мере мы видим, что они действительно есть."
   ]
  },
  {
   "cell_type": "code",
   "execution_count": 39,
   "metadata": {},
   "outputs": [
    {
     "data": {
      "image/png": "[encoded data removed]",
      "text/plain": [
       "<Figure size 504x288 with 1 Axes>"
      ]
     },
     "metadata": {
      "needs_background": "light"
     },
     "output_type": "display_data"
    }
   ],
   "source": [
    "x_value = pd.Series(range(0,len(orders['revenue'])))  # точечная диаграмма распределения суммы заказов \n",
    "                                                      # и количества пользователей\n",
    "plt.figure(figsize=(7,4))\n",
    "plt.scatter(x_value, orders['revenue'])\n",
    "plt.grid()\n",
    "plt.title('Распределение стоимости заказов')\n",
    "plt.ylabel('Стоимость заказа, руб.')\n",
    "plt.xlabel('Количество заказов')\n",
    "plt.show()"
   ]
  },
  {
   "cell_type": "code",
   "execution_count": 40,
   "metadata": {},
   "outputs": [
    {
     "data": {
      "image/png": "[encoded data removed]",
      "text/plain": [
       "<Figure size 504x288 with 1 Axes>"
      ]
     },
     "metadata": {
      "needs_background": "light"
     },
     "output_type": "display_data"
    }
   ],
   "source": [
    "plt.figure(figsize=(7,4))   # ограничим ось y для наглядности стоимости покупок\n",
    "plt.scatter(x_value, orders['revenue'])\n",
    "plt.ylim([0,250000])\n",
    "plt.grid()\n",
    "plt.title('Распределение стоимости заказов')\n",
    "plt.ylabel('Стоимость заказа, руб.')\n",
    "plt.xlabel('Количество заказов')\n",
    "plt.show()"
   ]
  },
  {
   "cell_type": "markdown",
   "metadata": {},
   "source": [
    "Действительно, большая часть заказов не превышает сумму в 25 тысяч рублей. Догадки о выбросах подтверждаются: у нас есть минимум два аномальных заказа, которые искажают средний чек. Предположительно граница таких заказов начинается со шестидесяти тысяч рублей и выше. Добавим точности и вычислим перцентили."
   ]
  },
  {
   "cell_type": "code",
   "execution_count": 41,
   "metadata": {},
   "outputs": [
    {
     "data": {
      "text/plain": [
       "array([18168. , 28000. , 58233.2])"
      ]
     },
     "execution_count": 41,
     "metadata": {},
     "output_type": "execute_result"
    }
   ],
   "source": [
    "np.percentile(orders['revenue'], [90,95,99]) # считаем перцентили"
   ]
  },
  {
   "cell_type": "code",
   "execution_count": 42,
   "metadata": {},
   "outputs": [
    {
     "data": {
      "image/png": "[encoded data removed]",
      "text/plain": [
       "<Figure size 504x288 with 1 Axes>"
      ]
     },
     "metadata": {
      "needs_background": "light"
     },
     "output_type": "display_data"
    }
   ],
   "source": [
    "x_value = pd.Series(range(0,len(orders['revenue'])))  # точечная диаграмма распределения суммы заказов \n",
    "                                                      # и количества пользователей\n",
    "plt.figure(figsize=(7,4))\n",
    "plt.scatter(x_value, orders['revenue'])\n",
    "plt.grid()\n",
    "plt.title('Распределение стоимости заказов')\n",
    "plt.ylabel('Стоимость заказа, руб.')\n",
    "plt.xlabel('Количество заказов')\n",
    "plt.show()"
   ]
  },
  {
   "cell_type": "markdown",
   "metadata": {},
   "source": [
    "Не более 5% заказов дороже 28 тысяч рублей и не более 1% дороже 58 тысяч. 90% всех заказов расположены в диапазоне до 18 тысяч рублей. По результатам расчетов определимся с тем, что отсечем **до 1% наблюдений с крайними значениями и оставим границу в 58 тысяч рублей.**\n",
    "\n",
    "С аномалиями в сумме заказов разобрались, теперь стоит проверить покупателей на количество заказов, так как особо активные пользователи могли повлиять на наши расчеты конверсии."
   ]
  },
  {
   "cell_type": "code",
   "execution_count": 29,
   "metadata": {},
   "outputs": [
    {
     "data": {
      "text/html": [
       "<div>\n",
       "<style scoped>\n",
       "    .dataframe tbody tr th:only-of-type {\n",
       "        vertical-align: middle;\n",
       "    }\n",
       "\n",
       "    .dataframe tbody tr th {\n",
       "        vertical-align: top;\n",
       "    }\n",
       "\n",
       "    .dataframe thead th {\n",
       "        text-align: right;\n",
       "    }\n",
       "</style>\n",
       "<table border=\"1\" class=\"dataframe\">\n",
       "  <thead>\n",
       "    <tr style=\"text-align: right;\">\n",
       "      <th></th>\n",
       "      <th>visitor_id</th>\n",
       "      <th>orders</th>\n",
       "    </tr>\n",
       "  </thead>\n",
       "  <tbody>\n",
       "    <tr>\n",
       "      <th>1023</th>\n",
       "      <td>4256040402</td>\n",
       "      <td>11</td>\n",
       "    </tr>\n",
       "    <tr>\n",
       "      <th>591</th>\n",
       "      <td>2458001652</td>\n",
       "      <td>11</td>\n",
       "    </tr>\n",
       "    <tr>\n",
       "      <th>569</th>\n",
       "      <td>2378935119</td>\n",
       "      <td>9</td>\n",
       "    </tr>\n",
       "    <tr>\n",
       "      <th>487</th>\n",
       "      <td>2038680547</td>\n",
       "      <td>8</td>\n",
       "    </tr>\n",
       "    <tr>\n",
       "      <th>44</th>\n",
       "      <td>199603092</td>\n",
       "      <td>5</td>\n",
       "    </tr>\n",
       "    <tr>\n",
       "      <th>744</th>\n",
       "      <td>3062433592</td>\n",
       "      <td>5</td>\n",
       "    </tr>\n",
       "    <tr>\n",
       "      <th>55</th>\n",
       "      <td>237748145</td>\n",
       "      <td>5</td>\n",
       "    </tr>\n",
       "    <tr>\n",
       "      <th>917</th>\n",
       "      <td>3803269165</td>\n",
       "      <td>5</td>\n",
       "    </tr>\n",
       "    <tr>\n",
       "      <th>299</th>\n",
       "      <td>1230306981</td>\n",
       "      <td>5</td>\n",
       "    </tr>\n",
       "    <tr>\n",
       "      <th>897</th>\n",
       "      <td>3717692402</td>\n",
       "      <td>5</td>\n",
       "    </tr>\n",
       "  </tbody>\n",
       "</table>\n",
       "</div>"
      ],
      "text/plain": [
       "      visitor_id  orders\n",
       "1023  4256040402      11\n",
       "591   2458001652      11\n",
       "569   2378935119       9\n",
       "487   2038680547       8\n",
       "44     199603092       5\n",
       "744   3062433592       5\n",
       "55     237748145       5\n",
       "917   3803269165       5\n",
       "299   1230306981       5\n",
       "897   3717692402       5"
      ]
     },
     "execution_count": 29,
     "metadata": {},
     "output_type": "execute_result"
    }
   ],
   "source": [
    "# группируем данные по каждому пользователю и количеству заказов\n",
    "\n",
    "orders_by_users = (orders\n",
    "                   .groupby('visitor_id', as_index=False)\n",
    "                   .agg({'transaction_id': 'nunique'})\n",
    "                   .rename(columns={'transaction_id': 'orders'})\n",
    "                  )\n",
    "orders_by_users.sort_values(by='orders', ascending=False).head(10)"
   ]
  },
  {
   "cell_type": "code",
   "execution_count": 30,
   "metadata": {},
   "outputs": [
    {
     "data": {
      "image/png": "[encoded data removed]",
      "text/plain": [
       "<Figure size 504x288 with 1 Axes>"
      ]
     },
     "metadata": {
      "needs_background": "light"
     },
     "output_type": "display_data"
    }
   ],
   "source": [
    "plt.figure(figsize=(7,4))   # гистограмма количества покупок\n",
    "plt.hist(orders_by_users['orders'], bins=30)\n",
    "plt.grid()\n",
    "plt.title('Количество заказов на одного пользователя')\n",
    "plt.xlabel('Количество заказов')\n",
    "plt.ylabel('Число пользователей')\n",
    "plt.show()"
   ]
  },
  {
   "cell_type": "markdown",
   "metadata": {},
   "source": [
    "Подавляющее большинство совершает не более одного заказа."
   ]
  },
  {
   "cell_type": "code",
   "execution_count": 31,
   "metadata": {},
   "outputs": [
    {
     "data": {
      "image/png": "[encoded data removed]",
      "text/plain": [
       "<Figure size 504x288 with 1 Axes>"
      ]
     },
     "metadata": {
      "needs_background": "light"
     },
     "output_type": "display_data"
    }
   ],
   "source": [
    "x_value = pd.Series(range(0, len(orders_by_users))) # строим точечную диаграмму распределения количества заказов\n",
    "\n",
    "plt.figure(figsize=(7,4))\n",
    "plt.scatter(x_value, orders_by_users['orders'])\n",
    "plt.grid()\n",
    "plt.title('Распределение стоимости заказов')\n",
    "plt.ylabel('Стоимость заказа, руб.')\n",
    "plt.xlabel('Количество заказов')\n",
    "plt.show()"
   ]
  },
  {
   "cell_type": "markdown",
   "metadata": {},
   "source": [
    "Некоторая доля пользователей совершает и два, и даже пять заказов, подсчет выборочных перцентилей подскажет нам, считать их аномалиями или нет."
   ]
  },
  {
   "cell_type": "code",
   "execution_count": 32,
   "metadata": {},
   "outputs": [
    {
     "data": {
      "text/plain": [
       "array([1., 2., 4.])"
      ]
     },
     "execution_count": 32,
     "metadata": {},
     "output_type": "execute_result"
    }
   ],
   "source": [
    "np.percentile(orders_by_users['orders'], [90,95,99])"
   ]
  },
  {
   "cell_type": "markdown",
   "metadata": {},
   "source": [
    "Не более 5% совершают больше 2 заказов и не более 1% - больше 4 заказов. С учетом результатов можно провести нижнюю границу для аномалий от 4 заказов и выше."
   ]
  },
  {
   "cell_type": "markdown",
   "metadata": {},
   "source": [
    "### Расчет статистической значимости результатов теста по \"сырым\" данным"
   ]
  },
  {
   "cell_type": "markdown",
   "metadata": {},
   "source": [
    "Чтобы определиться, продолжать проводить тест или нет, нужно узнать, насколько статистически значимы различия между группами. Для этого мы сравним различия в среднем чеке и конверсию: в понимании этой работы конверсия - это отношение среднего количества заказов на каждого пользователя. Для проведения анализа нам потребуются данные о ежедневном посещении интернет-магазина и количестве заказов ежедневно. Кумулятивные данные у нас есть с предыдущих графиков, просто добавим к ним данные о ежедневном посещении пользователей и количестве заказов, получив таким образом полную таблицу расчетов."
   ]
  },
  {
   "cell_type": "code",
   "execution_count": 33,
   "metadata": {},
   "outputs": [],
   "source": [
    "daily_orders = (   # количество заказов ежедневно\n",
    "    orders[['date', 'group', 'transaction_id', 'visitor_id', 'revenue']]\n",
    "    .groupby(['date', 'group'], as_index=False)\n",
    "    .agg({'transaction_id': 'nunique', 'revenue': 'sum'})\n",
    ")\n",
    "daily_orders.columns = ['date', 'group', 'daily_orders', 'daily_revenue']\n",
    "\n",
    "# сведем все вместе для удобства\n",
    "\n",
    "df = (df_cummulative\n",
    "      .merge(visitors, on=['date', 'group'])      # данные о ежедневных посещениях уже есть в visitors,\n",
    "      .merge(daily_orders, on=['date', 'group'])  # добавляем данные о ежедневных заказах\n",
    "     )"
   ]
  },
  {
   "cell_type": "markdown",
   "metadata": {},
   "source": [
    "Далее - выделим в отдельные переменные пользователей с каждой группы, кто сделал хотя бы один заказ."
   ]
  },
  {
   "cell_type": "code",
   "execution_count": 34,
   "metadata": {},
   "outputs": [],
   "source": [
    "users_orders_a = (  # данные группы А\n",
    "    orders\n",
    "    .query('group == \"A\"')\n",
    "    .groupby('visitor_id', as_index=False)\n",
    "    .agg({'transaction_id': 'nunique'})\n",
    "    .rename(columns={'transaction_id': 'orders'})\n",
    ")\n",
    "\n",
    "users_orders_b = (  # данные группы В\n",
    "    orders\n",
    "    .query('group == \"B\"')\n",
    "    .groupby('visitor_id', as_index=False)\n",
    "    .agg({'transaction_id': 'nunique'})\n",
    "    .rename(columns={'transaction_id': 'orders'})\n",
    ")"
   ]
  },
  {
   "cell_type": "markdown",
   "metadata": {},
   "source": [
    "Для проверки критерием Уилкоксона-Манна-Уитни сделаем итоговые переменные `sample_a` и `sample_b` c данными о пользовательских покупках; для анализа тем, кто ничего не заказал, нужно будет проставить нули. Для этого объединим предыдущие переменные с объектом Series с нулями нужной длины."
   ]
  },
  {
   "cell_type": "code",
   "execution_count": 35,
   "metadata": {},
   "outputs": [],
   "source": [
    "sample_a = pd.concat([users_orders_a['orders'],   # sample_a - данные о покупателях, сделавших хотя бы одну покупку\n",
    "                     pd.Series(0,                 # для всех остальных проставляем нули\n",
    "                               index=np.arange(\n",
    "                                   df.query('group == \"A\"')['daily_visitors'].sum() - len(users_orders_a['orders'])), \n",
    "                               name='orders')],\n",
    "                    axis=0)\n",
    "\n",
    "sample_b = pd.concat([users_orders_b['orders'],   # sample_b строится аналогично\n",
    "                     pd.Series(0, \n",
    "                               index=np.arange(\n",
    "                                   df.query('group == \"B\"')['daily_visitors'].sum() - len(users_orders_b['orders'])), \n",
    "                               name='orders')],\n",
    "                    axis=0)"
   ]
  },
  {
   "cell_type": "markdown",
   "metadata": {},
   "source": [
    "Данные готовы для первой проверки: в переменных `sample` число элементов - это общее число пользователей, а их сумма - общее количество заказов, следовательно, среднее число заказов на одного пользователя можно узнать методом mean() в применении к выборке. \n",
    "\n",
    "Пора сформулировать **нулевую и альтернативную гипотезу**, помним, что нулевая должна сохранять в себе знак равенства, поэтому гипотезы будут звучать так:\n",
    "\n",
    "* **H₀ - Между группами нет различий в среднем количестве заказов.**\n",
    "* **H₁ -  В среднем количестве заказов между группами имеется статистическая разница.**"
   ]
  },
  {
   "cell_type": "code",
   "execution_count": 36,
   "metadata": {},
   "outputs": [
    {
     "name": "stdout",
     "output_type": "stream",
     "text": [
      "Значение p-value: 0.017\n",
      "Соотношение среднего количества заказов группы B к группе A: 0.138\n",
      "Нулевая гипотеза не отвергается\n"
     ]
    }
   ],
   "source": [
    "alpha = 0.01 #  уровень статистической значимости 1% \n",
    "\n",
    "results = st.mannwhitneyu(sample_a, sample_b)  # проводим тест\n",
    "\n",
    "print(\"Значение p-value: {0:.3f}\".format(results.pvalue))\n",
    "print(\"Соотношение среднего количества заказов группы B к группе A: {0:.3f}\".format(sample_b.mean()/sample_a.mean() - 1))\n",
    "\n",
    "if results.pvalue < alpha:\n",
    "    print('Отвергаем нулевую гипотезу, разница статистически значима')\n",
    "else:\n",
    "    print('Нулевая гипотеза не отвергается')"
   ]
  },
  {
   "cell_type": "markdown",
   "metadata": {},
   "source": [
    "Так как мы хотим добиться высокой точности в результатах теста, а наша выборка пользователей в каждой группе составляет более 18 тысяч пользователей, будет целесообразно определить уровень статистической значимости альфа как 0.01.\n",
    "\n",
    "При критическом уровне статистической значимости в 1% **разница между двумя группами не является статистически значимой.** По \"сырым\" показателям показатель p_value всего 1,7%, если ориентироваться на другой уровень alpha, например, 5%, то мы бы отвергли нулевую гипотезу. \n",
    "\n",
    "С учетом соотношения средних показателей количества пользователей группа B обошла контрольную группу с результатом в 13,8%."
   ]
  },
  {
   "cell_type": "markdown",
   "metadata": {},
   "source": [
    " Проверим статистическую значимость различий в среднем чеке по \"сырым\" данным. Как и в предыдущем случае, формулируем нулевую и альтернативную гипотезы:\n",
    " \n",
    "* **H₀: Нет различий в среднем чеке между группами A и B.**\n",
    "* **H₁: Между группами наблюдаются различия в среднем чеке.**"
   ]
  },
  {
   "cell_type": "code",
   "execution_count": 37,
   "metadata": {
    "scrolled": true
   },
   "outputs": [
    {
     "name": "stdout",
     "output_type": "stream",
     "text": [
      "Значение p-value: 0.729\n",
      "Относительные различия среднего чека группы В к группе А: 0.259\n",
      "Нулевая гипотеза не отвергается\n"
     ]
    }
   ],
   "source": [
    "alpha = 0.01 #  уровень статистической значимости 1% \n",
    "\n",
    "results = st.mannwhitneyu(orders.query('group == \"A\"')['revenue'],orders.query('group == \"B\"')['revenue'])\n",
    "\n",
    "print(\"Значение p-value: {0:.3f}\".format(results.pvalue))\n",
    "print(\"Относительные различия среднего чека группы В к группе А: {0:.3f}\"\n",
    "      .format(orders.query('group == \"B\"')['revenue'].mean()/orders.query('group == \"A\"')['revenue'].mean() - 1))\n",
    "\n",
    "if results.pvalue < alpha:\n",
    "    print('Отвергаем нулевую гипотезу, разница статистически значима')\n",
    "else:\n",
    "    print('Нулевая гипотеза не отвергается')"
   ]
  },
  {
   "cell_type": "markdown",
   "metadata": {},
   "source": [
    "Результаты теста по \"сырым\" данным сигнализируют о том, что **статистической разницы между показаниями среднего чека двух групп не наблюдается**, причем группа B обыгрывает группу А на 25,9%; по итогу нулевая гипотеза не отвергается."
   ]
  },
  {
   "cell_type": "markdown",
   "metadata": {},
   "source": [
    "### Анализ статистической значимости результатов теста с учетом аномалий"
   ]
  },
  {
   "cell_type": "markdown",
   "metadata": {},
   "source": [
    "Пора взяться за найденные раньше выбросы, \"почистить\" данные и провести тесты заново. В прошлый раз мы определились, что уберем 1% пользователей с наибольшим количеством заказов и 1% пользователей с дорогимим заказами - это нижние границы в 4 заказа и 58 тысяч соответственно."
   ]
  },
  {
   "cell_type": "code",
   "execution_count": 38,
   "metadata": {},
   "outputs": [
    {
     "data": {
      "text/plain": [
       "18"
      ]
     },
     "execution_count": 38,
     "metadata": {},
     "output_type": "execute_result"
    }
   ],
   "source": [
    "revenue_limit = np.percentile(orders['revenue'], [99])[0] # нижние границы\n",
    "orders_limit = np.percentile(orders_by_users['orders'], [99])[0]\n",
    "\n",
    " # id \"особо активных\" пользователей\n",
    "many_orders = pd.concat([users_orders_a.query('orders > @orders_limit')['visitor_id'], \n",
    "                        users_orders_a.query('orders > @orders_limit')['visitor_id']], axis=0) \n",
    "\n",
    "# id юзеров с большими заказами\n",
    "expensive_orders = orders.query('revenue > @revenue_limit')['visitor_id']\n",
    "\n",
    "abnormal_users = pd.concat([many_orders, expensive_orders], axis=0) # соединяем список \n",
    "abnormal_users.shape[0]"
   ]
  },
  {
   "cell_type": "markdown",
   "metadata": {},
   "source": [
    "Итого мы нашли 18 аномальных пользователей. Отфильтруем данные и проводем анализ еще раз."
   ]
  },
  {
   "cell_type": "code",
   "execution_count": 39,
   "metadata": {},
   "outputs": [],
   "source": [
    "# переменные sample_a и sample_b, отфильтрованные с учетом аномальных пользователей\n",
    "sample_a_filtered = pd.concat([users_orders_a.query('visitor_id not in @abnormal_users')['orders'],\n",
    "                     pd.Series(0, \n",
    "                               index=np.arange(\n",
    "                                   df.query('group == \"A\"')['daily_visitors'].sum() - len(users_orders_a['orders'])), \n",
    "                               name='orders')],\n",
    "                    axis=0)\n",
    "\n",
    "sample_b_filtered = pd.concat([users_orders_b.query('visitor_id not in @abnormal_users')['orders'],\n",
    "                     pd.Series(0, \n",
    "                               index=np.arange(\n",
    "                                   df.query('group == \"B\"')['daily_visitors'].sum() - len(users_orders_b['orders'])), \n",
    "                               name='orders')],\n",
    "                    axis=0)"
   ]
  },
  {
   "cell_type": "markdown",
   "metadata": {},
   "source": [
    "Гипотезы остаются прежними. Для оценки конверсии:\n",
    "\n",
    "* **H₀ - Между группами нет различий в среднем количестве заказов.**\n",
    "* **H₁ -  В среднем количестве заказов между группами имеется статистическая разница.**"
   ]
  },
  {
   "cell_type": "code",
   "execution_count": 40,
   "metadata": {},
   "outputs": [
    {
     "name": "stdout",
     "output_type": "stream",
     "text": [
      "Значение p-value: 0.014\n",
      "Соотношение среднего количества заказов группы B к группе A: 0.154\n",
      "Нулевая гипотеза не отвергается\n"
     ]
    }
   ],
   "source": [
    "alpha = 0.01 #  уровень статистической значимости 5% \n",
    "\n",
    "results = st.mannwhitneyu(sample_a_filtered, sample_b_filtered)\n",
    "\n",
    "print(\"Значение p-value: {0:.3f}\".format(results.pvalue))\n",
    "print(\"Соотношение среднего количества заказов группы B к группе A: {0:.3f}\"\n",
    "      .format(sample_b_filtered.mean()/sample_a_filtered.mean() - 1))\n",
    "\n",
    "if results.pvalue < alpha:\n",
    "    print('Отвергаем нулевую гипотезу, разница статистически значима')\n",
    "else:\n",
    "    print('Нулевая гипотеза не отвергается')"
   ]
  },
  {
   "cell_type": "markdown",
   "metadata": {},
   "source": [
    "Результат \"очищенных\" данных почти не отличается от предыдущего: 1,4% статистической значимости против 1,7%. **Нулевая гипотеза не отвергается**: между результатами экспериментальной и контрольной группы нет разницы в среднем количестве заказов на одного пользователя."
   ]
  },
  {
   "cell_type": "markdown",
   "metadata": {},
   "source": [
    "Гипотезы для оценки показателей среднего чека:\n",
    " \n",
    "* **H₀: Нет различий в среднем чеке между группами A и B.**\n",
    "* **H₁: Между группами наблюдаются различия в среднем чеке.**"
   ]
  },
  {
   "cell_type": "code",
   "execution_count": 41,
   "metadata": {},
   "outputs": [
    {
     "name": "stdout",
     "output_type": "stream",
     "text": [
      "Значение p-value: 0.742\n",
      "Относительные различия среднего чека группы В к группе А: -0.005\n",
      "Нулевая гипотеза не отвергается\n"
     ]
    }
   ],
   "source": [
    "alpha = 0.01 #  уровень статистической значимости 5% \n",
    "\n",
    "orders_filtered = orders.query('visitor_id not in @abnormal_users')  # отсортируем аномальных пользователей\n",
    "\n",
    "results = st.mannwhitneyu(orders_filtered.query('group == \"A\"')['revenue'],\n",
    "                          orders_filtered.query('group == \"B\"')['revenue'])\n",
    "\n",
    "print(\"Значение p-value: {0:.3f}\".format(results.pvalue))\n",
    "print(\"Относительные различия среднего чека группы В к группе А: {0:.3f}\"\n",
    "      .format(orders_filtered.query('group == \"B\"')['revenue'].mean()/\n",
    "              orders_filtered.query('group == \"A\"')['revenue'].mean() - 1))\n",
    "\n",
    "if results.pvalue < alpha:\n",
    "    print('Отвергаем нулевую гипотезу, разница статистически значима')\n",
    "else:\n",
    "    print('Нулевая гипотеза не отвергается')"
   ]
  },
  {
   "cell_type": "markdown",
   "metadata": {},
   "source": [
    "Показатель p_value вырос по сравнению с \"сырыми\" данными с 72,9% до 85,1%, поэтому у нас **нет никаких причин отвергать нулевую гипотезу**. В результате теста нет значимых статистических различий, чтобы признать, что у двух групп есть различия в среднем чеке.\n",
    "\n",
    "Разница между двумя группами сильно сократилась с 25,9% до 0,6%! Действительно, наличие выбросов в сумме заказов сильно искажали результат, но теперь отсутствие положительной динамики развития теста становится очевидным."
   ]
  },
  {
   "cell_type": "markdown",
   "metadata": {},
   "source": [
    "## Выводы\n",
    "\n",
    "Итак, **в первой части** работы мы провели приоритизацию гипотез методами ICE и RICE. После расчетов нами были отобраны наиболее перспективные гипотезы под:\n",
    "* **8** - Добавить форму подписки на все основные страницы, чтобы собрать базу клиентов для email-рассылок\n",
    "* **1** - Добавить два новых канала привлечения трафика, что позволит привлекать на 30% больше пользователей\n",
    "* **3** - Добавить блоки рекомендаций товаров на сайт интернет магазина, чтобы повысить конверсию и средний чек заказа\n",
    "\n",
    "Все три гипотезы показали хороший результат при расчетах, и концентрация сил на каждой из них может в будущем положительно сказаться на развитии продаж.\n",
    "\n",
    "Во **второй части** мы обработали данные с результатами проведенного A/B теста, и вот какие закономерности обнаружили:\n",
    "* Анализ кумулятивных метрик показал, что в обеих группах выручка растет, однако в группе B присутствуют аномалии, которые ответственны за резкие скачки выручки и среднего чека: в относительных значениях средний чек группы B более чем на 25% выше контрольной группы к концу периода.\n",
    "* Конверсия групп все еще нестабильна, однако группа B показывает результат стабильно выше.\n",
    "* С помощью диаграмм рассеяния и расчет перцентилей были отсеяны часть аномальных заказов и пользователей, совершавших необычно большое число покупок, в обеих частях было принято решение отфильтровать 99% показателей.\n",
    "* **Статистический тест среднего числа заказов и среднего чека не показал статистически значимых различий ни по \"сырым\" данным, ни по \"очищенным\".** После удаления аномальных данных итоговые результаты группы B резко ухудшились, в том числе показатель среднего чека. Однако конверсия группы B \n",
    "\n",
    "С учетом результатов тестов, несмотря на небольшой отрыв в конверсии группы B, между двумя группами отсутствуют статистически значимые различия, поэтому тест следует остановить."
   ]
  }
 ],
 "metadata": {
  "ExecuteTimeLog": [
   {
    "duration": 1274,
    "start_time": "2022-06-24T07:31:00.438Z"
   },
   {
    "duration": 139,
    "start_time": "2022-06-24T07:31:56.345Z"
   },
   {
    "duration": 46,
    "start_time": "2022-06-24T07:32:01.986Z"
   },
   {
    "duration": 31,
    "start_time": "2022-06-24T07:32:05.781Z"
   },
   {
    "duration": 48,
    "start_time": "2022-06-24T10:09:24.230Z"
   },
   {
    "duration": 1122,
    "start_time": "2022-06-24T10:09:36.279Z"
   },
   {
    "duration": 131,
    "start_time": "2022-06-24T10:09:37.404Z"
   },
   {
    "duration": 4,
    "start_time": "2022-06-24T10:09:37.536Z"
   },
   {
    "duration": 4,
    "start_time": "2022-06-24T10:09:43.082Z"
   },
   {
    "duration": 8,
    "start_time": "2022-06-24T10:09:49.543Z"
   },
   {
    "duration": 4,
    "start_time": "2022-06-24T10:09:58.975Z"
   },
   {
    "duration": 8,
    "start_time": "2022-06-24T10:09:59.615Z"
   },
   {
    "duration": 4,
    "start_time": "2022-06-24T10:11:32.551Z"
   },
   {
    "duration": 8,
    "start_time": "2022-06-24T10:11:33.135Z"
   },
   {
    "duration": 63,
    "start_time": "2022-06-24T10:11:56.214Z"
   },
   {
    "duration": 12,
    "start_time": "2022-06-24T10:12:04.760Z"
   },
   {
    "duration": 3,
    "start_time": "2022-06-24T10:12:14.818Z"
   },
   {
    "duration": 32,
    "start_time": "2022-06-24T10:12:14.823Z"
   },
   {
    "duration": 7,
    "start_time": "2022-06-24T10:12:14.857Z"
   },
   {
    "duration": 1198,
    "start_time": "2022-06-24T10:12:14.866Z"
   },
   {
    "duration": 4,
    "start_time": "2022-06-24T10:12:47.079Z"
   },
   {
    "duration": 8,
    "start_time": "2022-06-24T10:12:47.694Z"
   },
   {
    "duration": 13,
    "start_time": "2022-06-24T10:14:29.806Z"
   },
   {
    "duration": 12,
    "start_time": "2022-06-24T10:15:11.378Z"
   },
   {
    "duration": 18,
    "start_time": "2022-06-24T10:19:06.743Z"
   },
   {
    "duration": 18,
    "start_time": "2022-06-24T10:19:21.098Z"
   },
   {
    "duration": 11,
    "start_time": "2022-06-24T10:19:39.938Z"
   },
   {
    "duration": 16,
    "start_time": "2022-06-24T10:19:46.858Z"
   },
   {
    "duration": 20,
    "start_time": "2022-06-24T10:19:53.442Z"
   },
   {
    "duration": 16,
    "start_time": "2022-06-24T10:20:02.803Z"
   },
   {
    "duration": 30,
    "start_time": "2022-06-24T10:23:07.909Z"
   },
   {
    "duration": 980,
    "start_time": "2022-06-24T10:23:16.686Z"
   },
   {
    "duration": 3,
    "start_time": "2022-06-24T10:23:21.974Z"
   },
   {
    "duration": 18,
    "start_time": "2022-06-24T10:23:23.274Z"
   },
   {
    "duration": 12,
    "start_time": "2022-06-24T10:23:25.382Z"
   },
   {
    "duration": 15,
    "start_time": "2022-06-24T10:30:43.666Z"
   },
   {
    "duration": 127,
    "start_time": "2022-06-24T10:33:59.196Z"
   },
   {
    "duration": 13,
    "start_time": "2022-06-24T10:34:05.574Z"
   },
   {
    "duration": 12,
    "start_time": "2022-06-24T10:34:19.762Z"
   },
   {
    "duration": 10,
    "start_time": "2022-06-24T10:34:29.427Z"
   },
   {
    "duration": 18,
    "start_time": "2022-06-24T10:34:35.230Z"
   },
   {
    "duration": 17,
    "start_time": "2022-06-24T10:34:47.322Z"
   },
   {
    "duration": 12,
    "start_time": "2022-06-24T11:47:57.225Z"
   },
   {
    "duration": 16,
    "start_time": "2022-06-24T11:48:06.721Z"
   },
   {
    "duration": 8,
    "start_time": "2022-06-24T11:48:36.649Z"
   },
   {
    "duration": 6,
    "start_time": "2022-06-24T11:48:49.245Z"
   },
   {
    "duration": 8,
    "start_time": "2022-06-24T11:48:56.475Z"
   },
   {
    "duration": 7,
    "start_time": "2022-06-24T11:49:04.878Z"
   },
   {
    "duration": 17,
    "start_time": "2022-06-24T11:49:16.529Z"
   },
   {
    "duration": 21,
    "start_time": "2022-06-24T11:49:24.205Z"
   },
   {
    "duration": 4,
    "start_time": "2022-06-24T11:50:24.953Z"
   },
   {
    "duration": 12,
    "start_time": "2022-06-24T11:50:28.899Z"
   },
   {
    "duration": 15,
    "start_time": "2022-06-24T11:51:29.217Z"
   },
   {
    "duration": 3,
    "start_time": "2022-06-24T11:51:48.453Z"
   },
   {
    "duration": 4,
    "start_time": "2022-06-24T11:52:20.730Z"
   },
   {
    "duration": 75,
    "start_time": "2022-06-24T11:55:12.633Z"
   },
   {
    "duration": 12,
    "start_time": "2022-06-24T11:55:51.381Z"
   },
   {
    "duration": 334,
    "start_time": "2022-06-24T11:56:52.495Z"
   },
   {
    "duration": 4,
    "start_time": "2022-06-24T11:57:09.524Z"
   },
   {
    "duration": 35,
    "start_time": "2022-06-24T11:57:09.531Z"
   },
   {
    "duration": 3,
    "start_time": "2022-06-24T11:57:09.568Z"
   },
   {
    "duration": 19,
    "start_time": "2022-06-24T11:57:09.574Z"
   },
   {
    "duration": 22,
    "start_time": "2022-06-24T11:57:09.596Z"
   },
   {
    "duration": 50,
    "start_time": "2022-06-24T11:57:09.624Z"
   },
   {
    "duration": 24,
    "start_time": "2022-06-24T11:57:09.676Z"
   },
   {
    "duration": 26,
    "start_time": "2022-06-24T11:57:09.703Z"
   },
   {
    "duration": 6,
    "start_time": "2022-06-24T11:57:09.731Z"
   },
   {
    "duration": 17,
    "start_time": "2022-06-24T11:57:09.739Z"
   },
   {
    "duration": 11,
    "start_time": "2022-06-24T11:57:09.758Z"
   },
   {
    "duration": 11,
    "start_time": "2022-06-24T11:57:30.874Z"
   },
   {
    "duration": 8,
    "start_time": "2022-06-24T11:57:49.153Z"
   },
   {
    "duration": 18,
    "start_time": "2022-06-24T11:57:53.860Z"
   },
   {
    "duration": 7,
    "start_time": "2022-06-24T11:58:01.711Z"
   },
   {
    "duration": 7,
    "start_time": "2022-06-24T11:58:11.329Z"
   },
   {
    "duration": 7,
    "start_time": "2022-06-24T12:02:33.103Z"
   },
   {
    "duration": 11,
    "start_time": "2022-06-24T12:03:07.153Z"
   },
   {
    "duration": 12,
    "start_time": "2022-06-24T12:06:20.890Z"
   },
   {
    "duration": 173,
    "start_time": "2022-06-24T12:07:06.836Z"
   },
   {
    "duration": 13,
    "start_time": "2022-06-24T12:07:14.428Z"
   },
   {
    "duration": 53,
    "start_time": "2022-06-24T12:08:35.193Z"
   },
   {
    "duration": 178,
    "start_time": "2022-06-24T12:08:43.736Z"
   },
   {
    "duration": 12,
    "start_time": "2022-06-24T12:08:44.491Z"
   },
   {
    "duration": 23,
    "start_time": "2022-06-24T12:14:38.288Z"
   },
   {
    "duration": 125,
    "start_time": "2022-06-24T12:15:05.098Z"
   },
   {
    "duration": 10,
    "start_time": "2022-06-24T12:15:11.796Z"
   },
   {
    "duration": 11,
    "start_time": "2022-06-24T12:15:15.415Z"
   },
   {
    "duration": 280,
    "start_time": "2022-06-24T12:16:00.014Z"
   },
   {
    "duration": 9,
    "start_time": "2022-06-24T12:17:02.094Z"
   },
   {
    "duration": 18,
    "start_time": "2022-06-24T12:17:06.738Z"
   },
   {
    "duration": 15,
    "start_time": "2022-06-24T12:17:52.126Z"
   },
   {
    "duration": 12,
    "start_time": "2022-06-24T12:18:34.187Z"
   },
   {
    "duration": 13,
    "start_time": "2022-06-24T12:18:52.114Z"
   },
   {
    "duration": 20,
    "start_time": "2022-06-24T12:18:59.088Z"
   },
   {
    "duration": 27,
    "start_time": "2022-06-24T12:22:18.683Z"
   },
   {
    "duration": 6,
    "start_time": "2022-06-24T12:22:28.729Z"
   },
   {
    "duration": 10,
    "start_time": "2022-06-24T12:22:33.277Z"
   },
   {
    "duration": 9,
    "start_time": "2022-06-24T12:23:47.093Z"
   },
   {
    "duration": 255,
    "start_time": "2022-06-24T12:24:48.909Z"
   },
   {
    "duration": 178,
    "start_time": "2022-06-24T12:25:38.512Z"
   },
   {
    "duration": 188,
    "start_time": "2022-06-24T12:26:14.355Z"
   },
   {
    "duration": 344,
    "start_time": "2022-06-24T12:29:09.624Z"
   },
   {
    "duration": 199,
    "start_time": "2022-06-24T12:29:48.533Z"
   },
   {
    "duration": 326,
    "start_time": "2022-06-24T12:30:18.494Z"
   },
   {
    "duration": 189,
    "start_time": "2022-06-24T12:30:44.456Z"
   },
   {
    "duration": 196,
    "start_time": "2022-06-24T12:30:55.320Z"
   },
   {
    "duration": 220,
    "start_time": "2022-06-24T12:31:24.728Z"
   },
   {
    "duration": 238,
    "start_time": "2022-06-24T12:31:51.220Z"
   },
   {
    "duration": 227,
    "start_time": "2022-06-24T12:32:08.800Z"
   },
   {
    "duration": 202,
    "start_time": "2022-06-24T12:32:25.606Z"
   },
   {
    "duration": 209,
    "start_time": "2022-06-24T12:32:36.424Z"
   },
   {
    "duration": 176,
    "start_time": "2022-06-24T12:38:13.303Z"
   },
   {
    "duration": 6,
    "start_time": "2022-06-24T12:42:31.019Z"
   },
   {
    "duration": 16,
    "start_time": "2022-06-24T12:42:37.499Z"
   },
   {
    "duration": 20,
    "start_time": "2022-06-24T12:42:48.140Z"
   },
   {
    "duration": 49,
    "start_time": "2022-06-24T12:43:27.207Z"
   },
   {
    "duration": 22,
    "start_time": "2022-06-24T12:43:36.511Z"
   },
   {
    "duration": 53,
    "start_time": "2022-06-24T12:46:29.151Z"
   },
   {
    "duration": 53,
    "start_time": "2022-06-24T12:47:07.982Z"
   },
   {
    "duration": 41,
    "start_time": "2022-06-24T12:47:12.411Z"
   },
   {
    "duration": 176,
    "start_time": "2022-06-24T12:47:28.722Z"
   },
   {
    "duration": 173,
    "start_time": "2022-06-24T12:48:49.487Z"
   },
   {
    "duration": 310,
    "start_time": "2022-06-24T12:49:35.639Z"
   },
   {
    "duration": 328,
    "start_time": "2022-06-24T12:49:44.230Z"
   },
   {
    "duration": 10,
    "start_time": "2022-06-24T12:56:23.463Z"
   },
   {
    "duration": 10,
    "start_time": "2022-06-24T12:56:30.802Z"
   },
   {
    "duration": 218,
    "start_time": "2022-06-24T12:56:30.815Z"
   },
   {
    "duration": 206,
    "start_time": "2022-06-24T12:56:31.035Z"
   },
   {
    "duration": 314,
    "start_time": "2022-06-24T12:56:31.244Z"
   },
   {
    "duration": 13,
    "start_time": "2022-06-24T12:56:44.554Z"
   },
   {
    "duration": 17,
    "start_time": "2022-06-24T12:57:54.934Z"
   },
   {
    "duration": 5,
    "start_time": "2022-06-24T12:58:03.513Z"
   },
   {
    "duration": 17,
    "start_time": "2022-06-24T12:58:11.084Z"
   },
   {
    "duration": 9,
    "start_time": "2022-06-24T12:59:58.678Z"
   },
   {
    "duration": 7,
    "start_time": "2022-06-24T13:00:36.814Z"
   },
   {
    "duration": 189,
    "start_time": "2022-06-24T13:00:37.586Z"
   },
   {
    "duration": 186,
    "start_time": "2022-06-24T13:00:39.345Z"
   },
   {
    "duration": 283,
    "start_time": "2022-06-24T13:00:41.188Z"
   },
   {
    "duration": 12,
    "start_time": "2022-06-24T13:00:44.145Z"
   },
   {
    "duration": 9,
    "start_time": "2022-06-24T13:01:37.101Z"
   },
   {
    "duration": 187,
    "start_time": "2022-06-24T13:01:37.682Z"
   },
   {
    "duration": 213,
    "start_time": "2022-06-24T13:01:39.225Z"
   },
   {
    "duration": 306,
    "start_time": "2022-06-24T13:01:40.904Z"
   },
   {
    "duration": 3,
    "start_time": "2022-06-24T13:02:34.781Z"
   },
   {
    "duration": 37,
    "start_time": "2022-06-24T13:02:34.786Z"
   },
   {
    "duration": 3,
    "start_time": "2022-06-24T13:02:34.825Z"
   },
   {
    "duration": 17,
    "start_time": "2022-06-24T13:02:34.829Z"
   },
   {
    "duration": 22,
    "start_time": "2022-06-24T13:02:34.847Z"
   },
   {
    "duration": 47,
    "start_time": "2022-06-24T13:02:34.870Z"
   },
   {
    "duration": 19,
    "start_time": "2022-06-24T13:02:34.919Z"
   },
   {
    "duration": 23,
    "start_time": "2022-06-24T13:02:34.939Z"
   },
   {
    "duration": 5,
    "start_time": "2022-06-24T13:02:34.964Z"
   },
   {
    "duration": 18,
    "start_time": "2022-06-24T13:02:34.970Z"
   },
   {
    "duration": 11,
    "start_time": "2022-06-24T13:02:34.990Z"
   },
   {
    "duration": 5,
    "start_time": "2022-06-24T13:02:35.003Z"
   },
   {
    "duration": 12,
    "start_time": "2022-06-24T13:02:35.023Z"
   },
   {
    "duration": 269,
    "start_time": "2022-06-24T13:02:35.037Z"
   },
   {
    "duration": 20,
    "start_time": "2022-06-24T13:02:35.308Z"
   },
   {
    "duration": 17,
    "start_time": "2022-06-24T13:02:35.329Z"
   },
   {
    "duration": 198,
    "start_time": "2022-06-24T13:02:35.348Z"
   },
   {
    "duration": 197,
    "start_time": "2022-06-24T13:02:35.548Z"
   },
   {
    "duration": 296,
    "start_time": "2022-06-24T13:02:35.746Z"
   },
   {
    "duration": 12,
    "start_time": "2022-06-24T13:02:36.044Z"
   },
   {
    "duration": 11,
    "start_time": "2022-06-24T13:02:51.929Z"
   },
   {
    "duration": 3,
    "start_time": "2022-06-24T13:03:24.121Z"
   },
   {
    "duration": 39,
    "start_time": "2022-06-24T13:03:24.127Z"
   },
   {
    "duration": 3,
    "start_time": "2022-06-24T13:03:24.167Z"
   },
   {
    "duration": 14,
    "start_time": "2022-06-24T13:03:24.171Z"
   },
   {
    "duration": 15,
    "start_time": "2022-06-24T13:03:24.187Z"
   },
   {
    "duration": 52,
    "start_time": "2022-06-24T13:03:24.204Z"
   },
   {
    "duration": 18,
    "start_time": "2022-06-24T13:03:24.258Z"
   },
   {
    "duration": 18,
    "start_time": "2022-06-24T13:03:24.277Z"
   },
   {
    "duration": 3,
    "start_time": "2022-06-24T13:03:24.296Z"
   },
   {
    "duration": 16,
    "start_time": "2022-06-24T13:03:24.300Z"
   },
   {
    "duration": 10,
    "start_time": "2022-06-24T13:03:24.318Z"
   },
   {
    "duration": 5,
    "start_time": "2022-06-24T13:03:24.330Z"
   },
   {
    "duration": 12,
    "start_time": "2022-06-24T13:03:24.336Z"
   },
   {
    "duration": 274,
    "start_time": "2022-06-24T13:03:24.349Z"
   },
   {
    "duration": 17,
    "start_time": "2022-06-24T13:03:24.625Z"
   },
   {
    "duration": 32,
    "start_time": "2022-06-24T13:03:24.644Z"
   },
   {
    "duration": 200,
    "start_time": "2022-06-24T13:03:24.678Z"
   },
   {
    "duration": 313,
    "start_time": "2022-06-24T13:03:24.879Z"
   },
   {
    "duration": 321,
    "start_time": "2022-06-24T13:03:25.194Z"
   },
   {
    "duration": 11,
    "start_time": "2022-06-24T13:03:25.517Z"
   },
   {
    "duration": 10,
    "start_time": "2022-06-24T13:03:29.797Z"
   },
   {
    "duration": 10,
    "start_time": "2022-06-24T13:03:35.982Z"
   },
   {
    "duration": 1007,
    "start_time": "2022-06-24T13:04:02.177Z"
   },
   {
    "duration": 100,
    "start_time": "2022-06-24T13:04:03.187Z"
   },
   {
    "duration": 3,
    "start_time": "2022-06-24T13:04:03.289Z"
   },
   {
    "duration": 15,
    "start_time": "2022-06-24T13:04:03.294Z"
   },
   {
    "duration": 19,
    "start_time": "2022-06-24T13:04:03.312Z"
   },
   {
    "duration": 48,
    "start_time": "2022-06-24T13:04:03.332Z"
   },
   {
    "duration": 20,
    "start_time": "2022-06-24T13:04:03.382Z"
   },
   {
    "duration": 17,
    "start_time": "2022-06-24T13:04:03.404Z"
   },
   {
    "duration": 7,
    "start_time": "2022-06-24T13:04:03.423Z"
   },
   {
    "duration": 20,
    "start_time": "2022-06-24T13:04:03.432Z"
   },
   {
    "duration": 12,
    "start_time": "2022-06-24T13:04:03.453Z"
   },
   {
    "duration": 7,
    "start_time": "2022-06-24T13:04:03.467Z"
   },
   {
    "duration": 15,
    "start_time": "2022-06-24T13:04:03.476Z"
   },
   {
    "duration": 261,
    "start_time": "2022-06-24T13:04:03.493Z"
   },
   {
    "duration": 15,
    "start_time": "2022-06-24T13:04:03.756Z"
   },
   {
    "duration": 20,
    "start_time": "2022-06-24T13:04:03.772Z"
   },
   {
    "duration": 282,
    "start_time": "2022-06-24T13:04:03.794Z"
   },
   {
    "duration": 198,
    "start_time": "2022-06-24T13:04:04.078Z"
   },
   {
    "duration": 296,
    "start_time": "2022-06-24T13:04:04.278Z"
   },
   {
    "duration": 10,
    "start_time": "2022-06-24T13:04:09.498Z"
   },
   {
    "duration": 90,
    "start_time": "2022-06-24T13:04:15.110Z"
   },
   {
    "duration": 6,
    "start_time": "2022-06-24T13:05:02.271Z"
   },
   {
    "duration": 72,
    "start_time": "2022-06-24T13:06:22.139Z"
   },
   {
    "duration": 200,
    "start_time": "2022-06-24T13:06:33.850Z"
   },
   {
    "duration": 340,
    "start_time": "2022-06-24T13:15:10.593Z"
   },
   {
    "duration": 18,
    "start_time": "2022-06-24T13:16:37.872Z"
   },
   {
    "duration": 20,
    "start_time": "2022-06-24T13:16:43.828Z"
   },
   {
    "duration": 274,
    "start_time": "2022-06-24T13:16:49.579Z"
   },
   {
    "duration": 300,
    "start_time": "2022-06-24T13:20:08.060Z"
   },
   {
    "duration": 393,
    "start_time": "2022-06-24T13:21:33.008Z"
   },
   {
    "duration": 10,
    "start_time": "2022-06-24T13:21:44.871Z"
   },
   {
    "duration": 345,
    "start_time": "2022-06-24T13:22:18.724Z"
   },
   {
    "duration": 278,
    "start_time": "2022-06-24T13:22:32.864Z"
   },
   {
    "duration": 11,
    "start_time": "2022-06-24T13:22:41.838Z"
   },
   {
    "duration": 318,
    "start_time": "2022-06-24T13:23:04.988Z"
   },
   {
    "duration": 333,
    "start_time": "2022-06-24T13:26:29.628Z"
   },
   {
    "duration": 361,
    "start_time": "2022-06-24T13:26:58.095Z"
   },
   {
    "duration": 11,
    "start_time": "2022-06-24T13:27:55.652Z"
   },
   {
    "duration": 310,
    "start_time": "2022-06-24T13:28:16.136Z"
   },
   {
    "duration": 360,
    "start_time": "2022-06-24T13:29:17.700Z"
   },
   {
    "duration": 330,
    "start_time": "2022-06-24T13:29:23.624Z"
   },
   {
    "duration": 308,
    "start_time": "2022-06-24T13:29:49.519Z"
   },
   {
    "duration": 318,
    "start_time": "2022-06-24T13:29:57.116Z"
   },
   {
    "duration": 381,
    "start_time": "2022-06-24T13:30:03.403Z"
   },
   {
    "duration": 12,
    "start_time": "2022-06-24T15:01:48.761Z"
   },
   {
    "duration": 119,
    "start_time": "2022-06-24T15:02:25.764Z"
   },
   {
    "duration": 143,
    "start_time": "2022-06-24T15:02:43.469Z"
   },
   {
    "duration": 175,
    "start_time": "2022-06-24T15:02:48.985Z"
   },
   {
    "duration": 184,
    "start_time": "2022-06-24T15:03:02.987Z"
   },
   {
    "duration": 158,
    "start_time": "2022-06-24T15:03:17.388Z"
   },
   {
    "duration": 4,
    "start_time": "2022-06-24T15:03:38.772Z"
   },
   {
    "duration": 136,
    "start_time": "2022-06-24T15:03:48.855Z"
   },
   {
    "duration": 160,
    "start_time": "2022-06-24T15:04:00.087Z"
   },
   {
    "duration": 10,
    "start_time": "2022-06-24T15:05:33.385Z"
   },
   {
    "duration": 6,
    "start_time": "2022-06-24T15:05:39.413Z"
   },
   {
    "duration": 58,
    "start_time": "2022-06-24T15:05:54.536Z"
   },
   {
    "duration": 6,
    "start_time": "2022-06-24T15:05:58.673Z"
   },
   {
    "duration": 135,
    "start_time": "2022-06-24T15:06:57.401Z"
   },
   {
    "duration": 145,
    "start_time": "2022-06-24T15:07:09.074Z"
   },
   {
    "duration": 180,
    "start_time": "2022-06-24T15:08:32.383Z"
   },
   {
    "duration": 268,
    "start_time": "2022-06-24T15:09:01.402Z"
   },
   {
    "duration": 172,
    "start_time": "2022-06-24T15:09:10.079Z"
   },
   {
    "duration": 181,
    "start_time": "2022-06-24T15:09:27.104Z"
   },
   {
    "duration": 163,
    "start_time": "2022-06-24T15:09:46.051Z"
   },
   {
    "duration": 295,
    "start_time": "2022-06-24T15:10:59.853Z"
   },
   {
    "duration": 145,
    "start_time": "2022-06-24T15:11:16.854Z"
   },
   {
    "duration": 145,
    "start_time": "2022-06-24T15:11:34.849Z"
   },
   {
    "duration": 5,
    "start_time": "2022-06-24T15:15:13.693Z"
   },
   {
    "duration": 5,
    "start_time": "2022-06-24T15:15:26.608Z"
   },
   {
    "duration": 7,
    "start_time": "2022-06-24T15:15:34.820Z"
   },
   {
    "duration": 7,
    "start_time": "2022-06-24T15:15:42.780Z"
   },
   {
    "duration": 4,
    "start_time": "2022-06-24T15:16:02.253Z"
   },
   {
    "duration": 13,
    "start_time": "2022-06-24T15:19:24.847Z"
   },
   {
    "duration": 16,
    "start_time": "2022-06-24T15:21:11.023Z"
   },
   {
    "duration": 10,
    "start_time": "2022-06-24T15:21:22.440Z"
   },
   {
    "duration": 10,
    "start_time": "2022-06-24T15:21:31.094Z"
   },
   {
    "duration": 11,
    "start_time": "2022-06-24T15:22:09.242Z"
   },
   {
    "duration": 14,
    "start_time": "2022-06-24T15:23:00.205Z"
   },
   {
    "duration": 12,
    "start_time": "2022-06-24T15:23:09.710Z"
   },
   {
    "duration": 16,
    "start_time": "2022-06-24T15:37:58.951Z"
   },
   {
    "duration": 187,
    "start_time": "2022-06-24T15:38:07.847Z"
   },
   {
    "duration": 170,
    "start_time": "2022-06-24T15:39:01.298Z"
   },
   {
    "duration": 73,
    "start_time": "2022-06-24T15:40:45.484Z"
   },
   {
    "duration": 137,
    "start_time": "2022-06-24T15:40:55.250Z"
   },
   {
    "duration": 18,
    "start_time": "2022-06-24T15:41:51.475Z"
   },
   {
    "duration": 16,
    "start_time": "2022-06-24T15:42:02.376Z"
   },
   {
    "duration": 181,
    "start_time": "2022-06-24T15:42:05.386Z"
   },
   {
    "duration": 270,
    "start_time": "2022-06-24T15:42:08.192Z"
   },
   {
    "duration": 8,
    "start_time": "2022-06-24T15:42:27.995Z"
   },
   {
    "duration": 11,
    "start_time": "2022-06-24T15:42:36.664Z"
   },
   {
    "duration": 160,
    "start_time": "2022-06-24T15:42:39.412Z"
   },
   {
    "duration": 139,
    "start_time": "2022-06-24T15:42:40.768Z"
   },
   {
    "duration": 11,
    "start_time": "2022-06-24T15:44:44.565Z"
   },
   {
    "duration": 6,
    "start_time": "2022-06-24T15:44:51.150Z"
   },
   {
    "duration": 6,
    "start_time": "2022-06-24T16:11:12.884Z"
   },
   {
    "duration": 106,
    "start_time": "2022-06-24T16:13:33.486Z"
   },
   {
    "duration": 4,
    "start_time": "2022-06-24T16:25:01.468Z"
   },
   {
    "duration": 4,
    "start_time": "2022-06-24T16:25:10.084Z"
   },
   {
    "duration": 29,
    "start_time": "2022-06-24T16:25:44.937Z"
   },
   {
    "duration": 4,
    "start_time": "2022-06-24T16:25:56.055Z"
   },
   {
    "duration": 30,
    "start_time": "2022-06-24T16:25:56.546Z"
   },
   {
    "duration": 5,
    "start_time": "2022-06-24T16:26:55.912Z"
   },
   {
    "duration": 4,
    "start_time": "2022-06-24T16:27:15.311Z"
   },
   {
    "duration": 8,
    "start_time": "2022-06-24T16:27:15.879Z"
   },
   {
    "duration": 14,
    "start_time": "2022-06-24T16:27:28.667Z"
   },
   {
    "duration": 10,
    "start_time": "2022-06-24T16:27:57.724Z"
   },
   {
    "duration": 22,
    "start_time": "2022-06-24T16:27:58.255Z"
   },
   {
    "duration": 4,
    "start_time": "2022-06-24T16:28:16.267Z"
   },
   {
    "duration": 53,
    "start_time": "2022-06-24T16:28:16.908Z"
   },
   {
    "duration": 63,
    "start_time": "2022-06-24T16:28:24.703Z"
   },
   {
    "duration": 56,
    "start_time": "2022-06-24T16:28:54.391Z"
   },
   {
    "duration": 14,
    "start_time": "2022-06-24T16:32:42.578Z"
   },
   {
    "duration": 45,
    "start_time": "2022-06-24T16:34:52.518Z"
   },
   {
    "duration": 15,
    "start_time": "2022-06-24T16:35:00.748Z"
   },
   {
    "duration": 26,
    "start_time": "2022-06-24T16:35:06.510Z"
   },
   {
    "duration": 16,
    "start_time": "2022-06-24T16:35:18.349Z"
   },
   {
    "duration": 16,
    "start_time": "2022-06-24T16:37:04.603Z"
   },
   {
    "duration": 70,
    "start_time": "2022-06-24T16:45:13.290Z"
   },
   {
    "duration": 6,
    "start_time": "2022-06-24T16:45:34.154Z"
   },
   {
    "duration": 131,
    "start_time": "2022-06-24T16:45:48.717Z"
   },
   {
    "duration": 9,
    "start_time": "2022-06-24T16:46:02.885Z"
   },
   {
    "duration": 130,
    "start_time": "2022-06-24T16:46:14.572Z"
   },
   {
    "duration": 9,
    "start_time": "2022-06-24T16:46:40.793Z"
   },
   {
    "duration": 72,
    "start_time": "2022-06-24T16:47:43.800Z"
   },
   {
    "duration": 9,
    "start_time": "2022-06-24T16:47:55.996Z"
   },
   {
    "duration": 208,
    "start_time": "2022-06-24T16:49:48.275Z"
   },
   {
    "duration": 16,
    "start_time": "2022-06-24T16:49:59.014Z"
   },
   {
    "duration": 9,
    "start_time": "2022-06-24T16:50:13.478Z"
   },
   {
    "duration": 15,
    "start_time": "2022-06-24T16:50:17.941Z"
   },
   {
    "duration": 9,
    "start_time": "2022-06-24T16:50:22.882Z"
   },
   {
    "duration": 6,
    "start_time": "2022-06-24T16:50:47.466Z"
   },
   {
    "duration": 199,
    "start_time": "2022-06-24T16:50:48.090Z"
   },
   {
    "duration": 9,
    "start_time": "2022-06-24T16:50:48.648Z"
   },
   {
    "duration": 13,
    "start_time": "2022-06-24T16:50:57.839Z"
   },
   {
    "duration": 8,
    "start_time": "2022-06-24T16:51:01.248Z"
   },
   {
    "duration": 21,
    "start_time": "2022-06-24T17:05:59.868Z"
   },
   {
    "duration": 14,
    "start_time": "2022-06-24T17:06:02.684Z"
   },
   {
    "duration": 11,
    "start_time": "2022-06-24T17:06:20.452Z"
   },
   {
    "duration": 8,
    "start_time": "2022-06-24T17:10:39.984Z"
   },
   {
    "duration": 9,
    "start_time": "2022-06-24T17:10:46.883Z"
   },
   {
    "duration": 8,
    "start_time": "2022-06-24T17:11:13.431Z"
   },
   {
    "duration": 8,
    "start_time": "2022-06-24T17:11:14.219Z"
   },
   {
    "duration": 13,
    "start_time": "2022-06-24T17:11:36.091Z"
   },
   {
    "duration": 9,
    "start_time": "2022-06-24T17:11:37.287Z"
   },
   {
    "duration": 9,
    "start_time": "2022-06-24T17:11:39.179Z"
   },
   {
    "duration": 9,
    "start_time": "2022-06-24T17:12:20.519Z"
   },
   {
    "duration": 14,
    "start_time": "2022-06-24T17:12:33.667Z"
   },
   {
    "duration": 1023,
    "start_time": "2022-06-24T17:19:33.005Z"
   },
   {
    "duration": 5,
    "start_time": "2022-06-24T17:19:44.393Z"
   },
   {
    "duration": 5,
    "start_time": "2022-06-24T17:19:51.166Z"
   },
   {
    "duration": 4,
    "start_time": "2022-06-24T17:20:12.074Z"
   },
   {
    "duration": 4,
    "start_time": "2022-06-24T17:20:27.718Z"
   },
   {
    "duration": 5,
    "start_time": "2022-06-24T17:20:31.968Z"
   },
   {
    "duration": 9,
    "start_time": "2022-06-24T17:20:41.854Z"
   },
   {
    "duration": 951,
    "start_time": "2022-06-24T17:20:50.265Z"
   },
   {
    "duration": 6,
    "start_time": "2022-06-24T17:20:56.834Z"
   },
   {
    "duration": 12,
    "start_time": "2022-06-24T17:21:13.330Z"
   },
   {
    "duration": 9,
    "start_time": "2022-06-24T17:23:39.015Z"
   },
   {
    "duration": 5,
    "start_time": "2022-06-24T17:23:51.635Z"
   },
   {
    "duration": 14,
    "start_time": "2022-06-24T17:23:58.867Z"
   },
   {
    "duration": 56,
    "start_time": "2022-06-24T17:33:32.212Z"
   },
   {
    "duration": 31,
    "start_time": "2022-06-24T17:34:35.929Z"
   },
   {
    "duration": 23,
    "start_time": "2022-06-24T17:35:10.029Z"
   },
   {
    "duration": 1220,
    "start_time": "2022-06-25T04:43:37.678Z"
   },
   {
    "duration": 167,
    "start_time": "2022-06-25T04:43:38.900Z"
   },
   {
    "duration": 4,
    "start_time": "2022-06-25T04:43:39.069Z"
   },
   {
    "duration": 26,
    "start_time": "2022-06-25T04:43:39.075Z"
   },
   {
    "duration": 18,
    "start_time": "2022-06-25T04:43:39.102Z"
   },
   {
    "duration": 190,
    "start_time": "2022-06-25T04:43:39.122Z"
   },
   {
    "duration": 24,
    "start_time": "2022-06-25T04:43:39.313Z"
   },
   {
    "duration": 39,
    "start_time": "2022-06-25T04:43:39.339Z"
   },
   {
    "duration": 10,
    "start_time": "2022-06-25T04:43:39.380Z"
   },
   {
    "duration": 15,
    "start_time": "2022-06-25T04:43:39.393Z"
   },
   {
    "duration": 9,
    "start_time": "2022-06-25T04:43:39.409Z"
   },
   {
    "duration": 14,
    "start_time": "2022-06-25T04:43:39.420Z"
   },
   {
    "duration": 44,
    "start_time": "2022-06-25T04:43:39.439Z"
   },
   {
    "duration": 293,
    "start_time": "2022-06-25T04:43:39.485Z"
   },
   {
    "duration": 14,
    "start_time": "2022-06-25T04:43:39.780Z"
   },
   {
    "duration": 13,
    "start_time": "2022-06-25T04:43:39.796Z"
   },
   {
    "duration": 304,
    "start_time": "2022-06-25T04:43:39.811Z"
   },
   {
    "duration": 213,
    "start_time": "2022-06-25T04:43:40.116Z"
   },
   {
    "duration": 347,
    "start_time": "2022-06-25T04:43:40.334Z"
   },
   {
    "duration": 229,
    "start_time": "2022-06-25T04:43:40.683Z"
   },
   {
    "duration": 360,
    "start_time": "2022-06-25T04:43:40.914Z"
   },
   {
    "duration": 220,
    "start_time": "2022-06-25T04:43:41.276Z"
   },
   {
    "duration": 198,
    "start_time": "2022-06-25T04:43:41.498Z"
   },
   {
    "duration": 6,
    "start_time": "2022-06-25T04:43:41.698Z"
   },
   {
    "duration": 58,
    "start_time": "2022-06-25T04:43:41.706Z"
   },
   {
    "duration": 211,
    "start_time": "2022-06-25T04:43:41.766Z"
   },
   {
    "duration": 158,
    "start_time": "2022-06-25T04:43:41.979Z"
   },
   {
    "duration": 6,
    "start_time": "2022-06-25T04:43:42.146Z"
   },
   {
    "duration": 24,
    "start_time": "2022-06-25T04:43:42.157Z"
   },
   {
    "duration": 86,
    "start_time": "2022-06-25T04:43:42.182Z"
   },
   {
    "duration": 201,
    "start_time": "2022-06-25T04:43:42.270Z"
   },
   {
    "duration": 19,
    "start_time": "2022-06-25T04:43:42.473Z"
   },
   {
    "duration": 20,
    "start_time": "2022-06-25T04:43:42.494Z"
   },
   {
    "duration": 55,
    "start_time": "2022-06-25T04:43:42.516Z"
   },
   {
    "duration": 6,
    "start_time": "2022-06-25T04:43:42.573Z"
   },
   {
    "duration": 59,
    "start_time": "2022-06-25T04:43:42.581Z"
   },
   {
    "duration": 42,
    "start_time": "2022-06-25T04:43:48.817Z"
   },
   {
    "duration": 13,
    "start_time": "2022-06-25T04:56:30.456Z"
   },
   {
    "duration": 12,
    "start_time": "2022-06-25T04:57:08.448Z"
   },
   {
    "duration": 9,
    "start_time": "2022-06-25T04:58:16.456Z"
   },
   {
    "duration": 910,
    "start_time": "2022-06-25T04:58:52.104Z"
   },
   {
    "duration": 12,
    "start_time": "2022-06-25T04:59:03.838Z"
   },
   {
    "duration": 993,
    "start_time": "2022-06-25T04:59:14.660Z"
   },
   {
    "duration": 7,
    "start_time": "2022-06-25T04:59:20.656Z"
   },
   {
    "duration": 20,
    "start_time": "2022-06-25T05:02:41.572Z"
   },
   {
    "duration": 7,
    "start_time": "2022-06-25T05:03:09.292Z"
   },
   {
    "duration": 9,
    "start_time": "2022-06-25T05:03:15.648Z"
   },
   {
    "duration": 14,
    "start_time": "2022-06-25T05:03:23.256Z"
   },
   {
    "duration": 5,
    "start_time": "2022-06-25T05:12:44.271Z"
   },
   {
    "duration": 9,
    "start_time": "2022-06-25T05:13:03.106Z"
   },
   {
    "duration": 14,
    "start_time": "2022-06-25T05:18:01.036Z"
   },
   {
    "duration": 11,
    "start_time": "2022-06-25T05:18:48.476Z"
   },
   {
    "duration": 11,
    "start_time": "2022-06-25T05:18:57.713Z"
   },
   {
    "duration": 10,
    "start_time": "2022-06-25T05:19:16.388Z"
   },
   {
    "duration": 12,
    "start_time": "2022-06-25T05:20:58.904Z"
   },
   {
    "duration": 12,
    "start_time": "2022-06-25T05:22:48.446Z"
   },
   {
    "duration": 5,
    "start_time": "2022-06-25T05:24:39.865Z"
   },
   {
    "duration": 4,
    "start_time": "2022-06-25T05:25:21.712Z"
   },
   {
    "duration": 64,
    "start_time": "2022-06-25T05:25:21.718Z"
   },
   {
    "duration": 3,
    "start_time": "2022-06-25T05:25:21.784Z"
   },
   {
    "duration": 24,
    "start_time": "2022-06-25T05:25:21.789Z"
   },
   {
    "duration": 41,
    "start_time": "2022-06-25T05:25:21.815Z"
   },
   {
    "duration": 79,
    "start_time": "2022-06-25T05:25:21.858Z"
   },
   {
    "duration": 23,
    "start_time": "2022-06-25T05:25:21.938Z"
   },
   {
    "duration": 16,
    "start_time": "2022-06-25T05:25:21.963Z"
   },
   {
    "duration": 25,
    "start_time": "2022-06-25T05:25:21.981Z"
   },
   {
    "duration": 50,
    "start_time": "2022-06-25T05:25:22.008Z"
   },
   {
    "duration": 24,
    "start_time": "2022-06-25T05:25:22.062Z"
   },
   {
    "duration": 11,
    "start_time": "2022-06-25T05:25:22.088Z"
   },
   {
    "duration": 29,
    "start_time": "2022-06-25T05:25:22.101Z"
   },
   {
    "duration": 286,
    "start_time": "2022-06-25T05:25:22.133Z"
   },
   {
    "duration": 20,
    "start_time": "2022-06-25T05:25:22.421Z"
   },
   {
    "duration": 36,
    "start_time": "2022-06-25T05:25:22.442Z"
   },
   {
    "duration": 230,
    "start_time": "2022-06-25T05:25:22.480Z"
   },
   {
    "duration": 205,
    "start_time": "2022-06-25T05:25:22.712Z"
   },
   {
    "duration": 325,
    "start_time": "2022-06-25T05:25:22.919Z"
   },
   {
    "duration": 224,
    "start_time": "2022-06-25T05:25:23.247Z"
   },
   {
    "duration": 287,
    "start_time": "2022-06-25T05:25:23.473Z"
   },
   {
    "duration": 195,
    "start_time": "2022-06-25T05:25:23.762Z"
   },
   {
    "duration": 159,
    "start_time": "2022-06-25T05:25:23.959Z"
   },
   {
    "duration": 24,
    "start_time": "2022-06-25T05:25:24.120Z"
   },
   {
    "duration": 14,
    "start_time": "2022-06-25T05:25:24.146Z"
   },
   {
    "duration": 153,
    "start_time": "2022-06-25T05:25:24.162Z"
   },
   {
    "duration": 157,
    "start_time": "2022-06-25T05:25:24.317Z"
   },
   {
    "duration": 6,
    "start_time": "2022-06-25T05:25:24.476Z"
   },
   {
    "duration": 5,
    "start_time": "2022-06-25T05:25:24.484Z"
   },
   {
    "duration": 51,
    "start_time": "2022-06-25T05:25:24.491Z"
   },
   {
    "duration": 0,
    "start_time": "2022-06-25T05:25:24.544Z"
   },
   {
    "duration": 0,
    "start_time": "2022-06-25T05:25:24.546Z"
   },
   {
    "duration": 0,
    "start_time": "2022-06-25T05:25:24.548Z"
   },
   {
    "duration": 0,
    "start_time": "2022-06-25T05:25:24.549Z"
   },
   {
    "duration": 0,
    "start_time": "2022-06-25T05:25:24.551Z"
   },
   {
    "duration": 0,
    "start_time": "2022-06-25T05:25:24.553Z"
   },
   {
    "duration": 0,
    "start_time": "2022-06-25T05:25:24.554Z"
   },
   {
    "duration": 6,
    "start_time": "2022-06-25T05:25:56.141Z"
   },
   {
    "duration": 6,
    "start_time": "2022-06-25T05:25:56.165Z"
   },
   {
    "duration": 17,
    "start_time": "2022-06-25T05:25:56.174Z"
   },
   {
    "duration": 16,
    "start_time": "2022-06-25T05:25:56.194Z"
   },
   {
    "duration": 800,
    "start_time": "2022-06-25T05:25:56.212Z"
   },
   {
    "duration": 0,
    "start_time": "2022-06-25T05:25:57.014Z"
   },
   {
    "duration": 1,
    "start_time": "2022-06-25T05:25:57.015Z"
   },
   {
    "duration": 0,
    "start_time": "2022-06-25T05:25:57.016Z"
   },
   {
    "duration": 16,
    "start_time": "2022-06-25T05:26:19.369Z"
   },
   {
    "duration": 125,
    "start_time": "2022-06-25T05:28:27.541Z"
   },
   {
    "duration": 56,
    "start_time": "2022-06-25T05:28:46.342Z"
   },
   {
    "duration": 15,
    "start_time": "2022-06-25T05:28:52.601Z"
   },
   {
    "duration": 37,
    "start_time": "2022-06-25T05:29:10.821Z"
   },
   {
    "duration": 23,
    "start_time": "2022-06-25T05:31:51.085Z"
   },
   {
    "duration": 15,
    "start_time": "2022-06-25T05:31:58.105Z"
   },
   {
    "duration": 20,
    "start_time": "2022-06-25T05:32:10.557Z"
   },
   {
    "duration": 13,
    "start_time": "2022-06-25T05:32:56.341Z"
   },
   {
    "duration": 15,
    "start_time": "2022-06-25T05:33:01.861Z"
   },
   {
    "duration": 90,
    "start_time": "2022-06-25T05:35:30.494Z"
   },
   {
    "duration": 21,
    "start_time": "2022-06-25T05:35:36.446Z"
   },
   {
    "duration": 17,
    "start_time": "2022-06-25T05:35:42.853Z"
   },
   {
    "duration": 20,
    "start_time": "2022-06-25T05:35:48.418Z"
   },
   {
    "duration": 11,
    "start_time": "2022-06-25T05:38:24.574Z"
   },
   {
    "duration": 37,
    "start_time": "2022-06-25T05:38:32.589Z"
   },
   {
    "duration": 20,
    "start_time": "2022-06-25T05:38:38.606Z"
   },
   {
    "duration": 19,
    "start_time": "2022-06-25T05:39:06.158Z"
   },
   {
    "duration": 10,
    "start_time": "2022-06-25T05:41:14.977Z"
   },
   {
    "duration": 9,
    "start_time": "2022-06-25T05:42:12.173Z"
   },
   {
    "duration": 11,
    "start_time": "2022-06-25T05:46:41.238Z"
   },
   {
    "duration": 15,
    "start_time": "2022-06-25T05:46:49.933Z"
   },
   {
    "duration": 11,
    "start_time": "2022-06-25T05:47:03.378Z"
   },
   {
    "duration": 12,
    "start_time": "2022-06-25T05:47:32.204Z"
   },
   {
    "duration": 11,
    "start_time": "2022-06-25T05:48:09.217Z"
   },
   {
    "duration": 8,
    "start_time": "2022-06-25T05:49:59.918Z"
   },
   {
    "duration": 16,
    "start_time": "2022-06-25T05:50:42.310Z"
   },
   {
    "duration": 24,
    "start_time": "2022-06-25T05:51:27.762Z"
   },
   {
    "duration": 6,
    "start_time": "2022-06-25T05:52:59.058Z"
   },
   {
    "duration": 8,
    "start_time": "2022-06-25T05:54:35.522Z"
   },
   {
    "duration": 13,
    "start_time": "2022-06-25T05:54:56.274Z"
   },
   {
    "duration": 24,
    "start_time": "2022-06-25T05:54:57.738Z"
   },
   {
    "duration": 18,
    "start_time": "2022-06-25T05:55:07.188Z"
   },
   {
    "duration": 41,
    "start_time": "2022-06-25T05:55:09.202Z"
   },
   {
    "duration": 6,
    "start_time": "2022-06-25T05:55:17.085Z"
   },
   {
    "duration": 12,
    "start_time": "2022-06-25T05:55:23.087Z"
   },
   {
    "duration": 6,
    "start_time": "2022-06-25T05:55:27.784Z"
   },
   {
    "duration": 65,
    "start_time": "2022-06-25T05:55:36.730Z"
   },
   {
    "duration": 6,
    "start_time": "2022-06-25T05:55:41.970Z"
   },
   {
    "duration": 17,
    "start_time": "2022-06-25T05:55:49.878Z"
   },
   {
    "duration": 5,
    "start_time": "2022-06-25T05:55:52.529Z"
   },
   {
    "duration": 5,
    "start_time": "2022-06-25T05:56:07.098Z"
   },
   {
    "duration": 13,
    "start_time": "2022-06-25T05:56:10.213Z"
   },
   {
    "duration": 4,
    "start_time": "2022-06-25T05:56:11.990Z"
   },
   {
    "duration": 12,
    "start_time": "2022-06-25T05:56:15.466Z"
   },
   {
    "duration": 5,
    "start_time": "2022-06-25T05:56:17.237Z"
   },
   {
    "duration": 4,
    "start_time": "2022-06-25T05:57:01.853Z"
   },
   {
    "duration": 14,
    "start_time": "2022-06-25T05:57:10.313Z"
   },
   {
    "duration": 5,
    "start_time": "2022-06-25T05:57:12.345Z"
   },
   {
    "duration": 10,
    "start_time": "2022-06-25T05:57:15.254Z"
   },
   {
    "duration": 4,
    "start_time": "2022-06-25T05:57:19.665Z"
   },
   {
    "duration": 4,
    "start_time": "2022-06-25T05:57:33.837Z"
   },
   {
    "duration": 12,
    "start_time": "2022-06-25T05:57:39.986Z"
   },
   {
    "duration": 5,
    "start_time": "2022-06-25T05:57:42.262Z"
   },
   {
    "duration": 11,
    "start_time": "2022-06-25T05:57:57.246Z"
   },
   {
    "duration": 26,
    "start_time": "2022-06-25T05:57:58.457Z"
   },
   {
    "duration": 13,
    "start_time": "2022-06-25T05:58:00.110Z"
   },
   {
    "duration": 33,
    "start_time": "2022-06-25T05:58:01.562Z"
   },
   {
    "duration": 23,
    "start_time": "2022-06-25T05:59:52.798Z"
   },
   {
    "duration": 5,
    "start_time": "2022-06-25T06:00:42.790Z"
   },
   {
    "duration": 21,
    "start_time": "2022-06-25T06:01:14.062Z"
   },
   {
    "duration": 15,
    "start_time": "2022-06-25T06:01:35.977Z"
   },
   {
    "duration": 1260,
    "start_time": "2022-06-25T09:49:05.274Z"
   },
   {
    "duration": 141,
    "start_time": "2022-06-25T09:49:06.536Z"
   },
   {
    "duration": 3,
    "start_time": "2022-06-25T09:49:06.679Z"
   },
   {
    "duration": 19,
    "start_time": "2022-06-25T09:49:06.685Z"
   },
   {
    "duration": 14,
    "start_time": "2022-06-25T09:49:06.706Z"
   },
   {
    "duration": 135,
    "start_time": "2022-06-25T09:49:06.723Z"
   },
   {
    "duration": 27,
    "start_time": "2022-06-25T09:49:06.860Z"
   },
   {
    "duration": 43,
    "start_time": "2022-06-25T09:49:06.889Z"
   },
   {
    "duration": 8,
    "start_time": "2022-06-25T09:49:06.934Z"
   },
   {
    "duration": 34,
    "start_time": "2022-06-25T09:49:06.945Z"
   },
   {
    "duration": 11,
    "start_time": "2022-06-25T09:49:06.981Z"
   },
   {
    "duration": 18,
    "start_time": "2022-06-25T09:49:06.994Z"
   },
   {
    "duration": 17,
    "start_time": "2022-06-25T09:49:07.014Z"
   },
   {
    "duration": 312,
    "start_time": "2022-06-25T09:49:07.033Z"
   },
   {
    "duration": 20,
    "start_time": "2022-06-25T09:49:07.347Z"
   },
   {
    "duration": 18,
    "start_time": "2022-06-25T09:49:07.370Z"
   },
   {
    "duration": 322,
    "start_time": "2022-06-25T09:49:07.390Z"
   },
   {
    "duration": 202,
    "start_time": "2022-06-25T09:49:07.713Z"
   },
   {
    "duration": 376,
    "start_time": "2022-06-25T09:49:07.916Z"
   },
   {
    "duration": 214,
    "start_time": "2022-06-25T09:49:08.293Z"
   },
   {
    "duration": 353,
    "start_time": "2022-06-25T09:49:08.508Z"
   },
   {
    "duration": 182,
    "start_time": "2022-06-25T09:49:08.863Z"
   },
   {
    "duration": 163,
    "start_time": "2022-06-25T09:49:09.047Z"
   },
   {
    "duration": 5,
    "start_time": "2022-06-25T09:49:09.211Z"
   },
   {
    "duration": 46,
    "start_time": "2022-06-25T09:49:09.218Z"
   },
   {
    "duration": 157,
    "start_time": "2022-06-25T09:49:09.266Z"
   },
   {
    "duration": 146,
    "start_time": "2022-06-25T09:49:09.425Z"
   },
   {
    "duration": 5,
    "start_time": "2022-06-25T09:49:09.575Z"
   },
   {
    "duration": 26,
    "start_time": "2022-06-25T09:49:09.581Z"
   },
   {
    "duration": 16,
    "start_time": "2022-06-25T09:49:09.611Z"
   },
   {
    "duration": 108,
    "start_time": "2022-06-25T09:49:09.629Z"
   },
   {
    "duration": 33,
    "start_time": "2022-06-25T09:49:09.739Z"
   },
   {
    "duration": 19,
    "start_time": "2022-06-25T09:49:09.773Z"
   },
   {
    "duration": 25,
    "start_time": "2022-06-25T09:49:09.794Z"
   },
   {
    "duration": 14,
    "start_time": "2022-06-25T09:49:09.821Z"
   },
   {
    "duration": 19,
    "start_time": "2022-06-25T09:49:09.837Z"
   },
   {
    "duration": 48,
    "start_time": "2022-06-25T09:49:09.858Z"
   },
   {
    "duration": 29,
    "start_time": "2022-06-25T09:49:09.908Z"
   },
   {
    "duration": 32,
    "start_time": "2022-06-25T09:49:28.386Z"
   },
   {
    "duration": 20,
    "start_time": "2022-06-25T09:49:32.577Z"
   },
   {
    "duration": 35,
    "start_time": "2022-06-25T09:49:44.829Z"
   },
   {
    "duration": 15,
    "start_time": "2022-06-25T09:49:50.201Z"
   },
   {
    "duration": 194,
    "start_time": "2022-06-25T09:56:49.397Z"
   },
   {
    "duration": 11,
    "start_time": "2022-06-25T09:58:07.769Z"
   },
   {
    "duration": 235,
    "start_time": "2022-06-25T09:59:20.112Z"
   },
   {
    "duration": 149,
    "start_time": "2022-06-25T09:59:39.540Z"
   },
   {
    "duration": 228,
    "start_time": "2022-06-25T10:00:44.004Z"
   },
   {
    "duration": 218,
    "start_time": "2022-06-25T10:01:43.580Z"
   },
   {
    "duration": 186,
    "start_time": "2022-06-25T10:04:14.507Z"
   },
   {
    "duration": 180,
    "start_time": "2022-06-25T10:04:31.599Z"
   },
   {
    "duration": 16,
    "start_time": "2022-06-25T10:39:15.490Z"
   },
   {
    "duration": 6,
    "start_time": "2022-06-25T10:40:33.381Z"
   },
   {
    "duration": 6,
    "start_time": "2022-06-25T10:40:35.634Z"
   },
   {
    "duration": 262,
    "start_time": "2022-06-25T10:40:37.170Z"
   },
   {
    "duration": 15,
    "start_time": "2022-06-25T10:40:37.930Z"
   },
   {
    "duration": 193,
    "start_time": "2022-06-25T10:40:40.634Z"
   },
   {
    "duration": 13,
    "start_time": "2022-06-25T10:41:18.827Z"
   },
   {
    "duration": 11,
    "start_time": "2022-06-25T10:41:43.443Z"
   },
   {
    "duration": 7,
    "start_time": "2022-06-25T10:41:46.298Z"
   },
   {
    "duration": 262,
    "start_time": "2022-06-25T10:41:48.634Z"
   },
   {
    "duration": 191,
    "start_time": "2022-06-25T10:41:50.474Z"
   },
   {
    "duration": 210,
    "start_time": "2022-06-25T10:41:52.506Z"
   },
   {
    "duration": 285,
    "start_time": "2022-06-25T10:41:55.979Z"
   },
   {
    "duration": 287,
    "start_time": "2022-06-25T10:41:57.922Z"
   },
   {
    "duration": 242,
    "start_time": "2022-06-25T10:42:00.290Z"
   },
   {
    "duration": 3,
    "start_time": "2022-06-25T10:42:10.887Z"
   },
   {
    "duration": 31,
    "start_time": "2022-06-25T10:42:10.892Z"
   },
   {
    "duration": 3,
    "start_time": "2022-06-25T10:42:10.924Z"
   },
   {
    "duration": 12,
    "start_time": "2022-06-25T10:42:10.929Z"
   },
   {
    "duration": 14,
    "start_time": "2022-06-25T10:42:10.942Z"
   },
   {
    "duration": 46,
    "start_time": "2022-06-25T10:42:10.958Z"
   },
   {
    "duration": 18,
    "start_time": "2022-06-25T10:42:11.005Z"
   },
   {
    "duration": 19,
    "start_time": "2022-06-25T10:42:11.024Z"
   },
   {
    "duration": 5,
    "start_time": "2022-06-25T10:42:11.045Z"
   },
   {
    "duration": 14,
    "start_time": "2022-06-25T10:42:11.051Z"
   },
   {
    "duration": 8,
    "start_time": "2022-06-25T10:42:11.067Z"
   },
   {
    "duration": 6,
    "start_time": "2022-06-25T10:42:11.076Z"
   },
   {
    "duration": 263,
    "start_time": "2022-06-25T10:42:11.084Z"
   },
   {
    "duration": 15,
    "start_time": "2022-06-25T10:42:11.351Z"
   },
   {
    "duration": 13,
    "start_time": "2022-06-25T10:42:11.367Z"
   },
   {
    "duration": 202,
    "start_time": "2022-06-25T10:42:11.381Z"
   },
   {
    "duration": 191,
    "start_time": "2022-06-25T10:42:11.585Z"
   },
   {
    "duration": 278,
    "start_time": "2022-06-25T10:42:11.778Z"
   },
   {
    "duration": 211,
    "start_time": "2022-06-25T10:42:12.057Z"
   },
   {
    "duration": 302,
    "start_time": "2022-06-25T10:42:12.270Z"
   },
   {
    "duration": 185,
    "start_time": "2022-06-25T10:42:12.574Z"
   },
   {
    "duration": 157,
    "start_time": "2022-06-25T10:42:12.761Z"
   },
   {
    "duration": 6,
    "start_time": "2022-06-25T10:42:12.920Z"
   },
   {
    "duration": 18,
    "start_time": "2022-06-25T10:42:12.928Z"
   },
   {
    "duration": 152,
    "start_time": "2022-06-25T10:42:12.952Z"
   },
   {
    "duration": 219,
    "start_time": "2022-06-25T10:42:13.106Z"
   },
   {
    "duration": 5,
    "start_time": "2022-06-25T10:42:13.326Z"
   },
   {
    "duration": 31,
    "start_time": "2022-06-25T10:42:13.333Z"
   },
   {
    "duration": 12,
    "start_time": "2022-06-25T10:42:13.368Z"
   },
   {
    "duration": 10,
    "start_time": "2022-06-25T10:42:13.382Z"
   },
   {
    "duration": 27,
    "start_time": "2022-06-25T10:42:13.393Z"
   },
   {
    "duration": 36,
    "start_time": "2022-06-25T10:42:13.422Z"
   },
   {
    "duration": 11,
    "start_time": "2022-06-25T10:42:13.460Z"
   },
   {
    "duration": 15,
    "start_time": "2022-06-25T10:42:13.472Z"
   },
   {
    "duration": 20,
    "start_time": "2022-06-25T10:42:13.489Z"
   },
   {
    "duration": 43,
    "start_time": "2022-06-25T10:42:13.510Z"
   },
   {
    "duration": 5,
    "start_time": "2022-06-25T10:42:48.778Z"
   },
   {
    "duration": 6,
    "start_time": "2022-06-25T10:42:57.115Z"
   },
   {
    "duration": 253,
    "start_time": "2022-06-25T10:43:11.210Z"
   },
   {
    "duration": 18,
    "start_time": "2022-06-25T10:43:14.343Z"
   },
   {
    "duration": 9,
    "start_time": "2022-06-25T10:43:17.558Z"
   },
   {
    "duration": 200,
    "start_time": "2022-06-25T10:43:18.406Z"
   },
   {
    "duration": 178,
    "start_time": "2022-06-25T10:43:28.330Z"
   },
   {
    "duration": 239,
    "start_time": "2022-06-25T10:43:37.586Z"
   },
   {
    "duration": 184,
    "start_time": "2022-06-25T10:43:42.316Z"
   },
   {
    "duration": 295,
    "start_time": "2022-06-25T10:43:46.223Z"
   },
   {
    "duration": 248,
    "start_time": "2022-06-25T10:44:28.607Z"
   },
   {
    "duration": 14,
    "start_time": "2022-06-25T10:44:29.407Z"
   },
   {
    "duration": 10,
    "start_time": "2022-06-25T10:44:31.127Z"
   },
   {
    "duration": 191,
    "start_time": "2022-06-25T10:44:31.831Z"
   },
   {
    "duration": 197,
    "start_time": "2022-06-25T10:44:33.468Z"
   },
   {
    "duration": 304,
    "start_time": "2022-06-25T10:44:35.203Z"
   },
   {
    "duration": 200,
    "start_time": "2022-06-25T10:44:36.991Z"
   },
   {
    "duration": 289,
    "start_time": "2022-06-25T10:44:38.835Z"
   },
   {
    "duration": 3,
    "start_time": "2022-06-25T10:44:49.171Z"
   },
   {
    "duration": 32,
    "start_time": "2022-06-25T10:44:49.175Z"
   },
   {
    "duration": 3,
    "start_time": "2022-06-25T10:44:49.208Z"
   },
   {
    "duration": 14,
    "start_time": "2022-06-25T10:44:49.212Z"
   },
   {
    "duration": 13,
    "start_time": "2022-06-25T10:44:49.228Z"
   },
   {
    "duration": 47,
    "start_time": "2022-06-25T10:44:49.242Z"
   },
   {
    "duration": 18,
    "start_time": "2022-06-25T10:44:49.291Z"
   },
   {
    "duration": 16,
    "start_time": "2022-06-25T10:44:49.310Z"
   },
   {
    "duration": 12,
    "start_time": "2022-06-25T10:44:49.327Z"
   },
   {
    "duration": 17,
    "start_time": "2022-06-25T10:44:49.340Z"
   },
   {
    "duration": 91,
    "start_time": "2022-06-25T10:44:49.360Z"
   },
   {
    "duration": 5,
    "start_time": "2022-06-25T10:44:49.453Z"
   },
   {
    "duration": 261,
    "start_time": "2022-06-25T10:44:49.459Z"
   },
   {
    "duration": 16,
    "start_time": "2022-06-25T10:44:49.722Z"
   },
   {
    "duration": 10,
    "start_time": "2022-06-25T10:44:49.752Z"
   },
   {
    "duration": 207,
    "start_time": "2022-06-25T10:44:49.764Z"
   },
   {
    "duration": 194,
    "start_time": "2022-06-25T10:44:49.973Z"
   },
   {
    "duration": 286,
    "start_time": "2022-06-25T10:44:50.169Z"
   },
   {
    "duration": 210,
    "start_time": "2022-06-25T10:44:50.456Z"
   },
   {
    "duration": 271,
    "start_time": "2022-06-25T10:44:50.668Z"
   },
   {
    "duration": 179,
    "start_time": "2022-06-25T10:44:50.941Z"
   },
   {
    "duration": 143,
    "start_time": "2022-06-25T10:44:51.121Z"
   },
   {
    "duration": 6,
    "start_time": "2022-06-25T10:44:51.265Z"
   },
   {
    "duration": 12,
    "start_time": "2022-06-25T10:44:51.272Z"
   },
   {
    "duration": 160,
    "start_time": "2022-06-25T10:44:51.285Z"
   },
   {
    "duration": 126,
    "start_time": "2022-06-25T10:44:51.447Z"
   },
   {
    "duration": 5,
    "start_time": "2022-06-25T10:44:51.575Z"
   },
   {
    "duration": 18,
    "start_time": "2022-06-25T10:44:51.582Z"
   },
   {
    "duration": 13,
    "start_time": "2022-06-25T10:44:51.603Z"
   },
   {
    "duration": 11,
    "start_time": "2022-06-25T10:44:51.617Z"
   },
   {
    "duration": 42,
    "start_time": "2022-06-25T10:44:51.630Z"
   },
   {
    "duration": 14,
    "start_time": "2022-06-25T10:44:51.674Z"
   },
   {
    "duration": 17,
    "start_time": "2022-06-25T10:44:51.689Z"
   },
   {
    "duration": 12,
    "start_time": "2022-06-25T10:44:51.708Z"
   },
   {
    "duration": 40,
    "start_time": "2022-06-25T10:44:51.721Z"
   },
   {
    "duration": 16,
    "start_time": "2022-06-25T10:44:51.763Z"
   },
   {
    "duration": 1143,
    "start_time": "2022-06-25T10:57:27.357Z"
   },
   {
    "duration": 166,
    "start_time": "2022-06-25T10:57:28.503Z"
   },
   {
    "duration": 3,
    "start_time": "2022-06-25T10:57:28.671Z"
   },
   {
    "duration": 17,
    "start_time": "2022-06-25T10:57:28.677Z"
   },
   {
    "duration": 14,
    "start_time": "2022-06-25T10:57:28.696Z"
   },
   {
    "duration": 176,
    "start_time": "2022-06-25T10:57:28.712Z"
   },
   {
    "duration": 23,
    "start_time": "2022-06-25T10:57:28.890Z"
   },
   {
    "duration": 19,
    "start_time": "2022-06-25T10:57:28.915Z"
   },
   {
    "duration": 11,
    "start_time": "2022-06-25T10:57:28.936Z"
   },
   {
    "duration": 39,
    "start_time": "2022-06-25T10:57:28.951Z"
   },
   {
    "duration": 12,
    "start_time": "2022-06-25T10:57:28.992Z"
   },
   {
    "duration": 6,
    "start_time": "2022-06-25T10:57:29.006Z"
   },
   {
    "duration": 308,
    "start_time": "2022-06-25T10:57:29.014Z"
   },
   {
    "duration": 38,
    "start_time": "2022-06-25T10:57:29.324Z"
   },
   {
    "duration": 20,
    "start_time": "2022-06-25T10:57:29.364Z"
   },
   {
    "duration": 325,
    "start_time": "2022-06-25T10:57:29.385Z"
   },
   {
    "duration": 251,
    "start_time": "2022-06-25T10:57:29.712Z"
   },
   {
    "duration": 319,
    "start_time": "2022-06-25T10:57:29.969Z"
   },
   {
    "duration": 278,
    "start_time": "2022-06-25T10:57:30.290Z"
   },
   {
    "duration": 309,
    "start_time": "2022-06-25T10:57:30.570Z"
   },
   {
    "duration": 222,
    "start_time": "2022-06-25T10:57:30.881Z"
   },
   {
    "duration": 183,
    "start_time": "2022-06-25T10:57:31.104Z"
   },
   {
    "duration": 5,
    "start_time": "2022-06-25T10:57:31.289Z"
   },
   {
    "duration": 15,
    "start_time": "2022-06-25T10:57:31.296Z"
   },
   {
    "duration": 195,
    "start_time": "2022-06-25T10:57:31.312Z"
   },
   {
    "duration": 167,
    "start_time": "2022-06-25T10:57:31.509Z"
   },
   {
    "duration": 6,
    "start_time": "2022-06-25T10:57:31.678Z"
   },
   {
    "duration": 18,
    "start_time": "2022-06-25T10:57:31.688Z"
   },
   {
    "duration": 40,
    "start_time": "2022-06-25T10:57:31.708Z"
   },
   {
    "duration": 114,
    "start_time": "2022-06-25T10:57:31.750Z"
   },
   {
    "duration": 25,
    "start_time": "2022-06-25T10:57:31.868Z"
   },
   {
    "duration": 16,
    "start_time": "2022-06-25T10:57:31.895Z"
   },
   {
    "duration": 12,
    "start_time": "2022-06-25T10:57:31.913Z"
   },
   {
    "duration": 36,
    "start_time": "2022-06-25T10:57:31.927Z"
   },
   {
    "duration": 25,
    "start_time": "2022-06-25T10:57:31.965Z"
   },
   {
    "duration": 19,
    "start_time": "2022-06-25T10:57:31.992Z"
   },
   {
    "duration": 60,
    "start_time": "2022-06-25T16:26:46.348Z"
   },
   {
    "duration": 1287,
    "start_time": "2022-06-25T16:26:50.806Z"
   },
   {
    "duration": 176,
    "start_time": "2022-06-25T16:26:52.095Z"
   },
   {
    "duration": 3,
    "start_time": "2022-06-25T16:26:52.273Z"
   },
   {
    "duration": 15,
    "start_time": "2022-06-25T16:26:52.277Z"
   },
   {
    "duration": 10,
    "start_time": "2022-06-25T16:26:52.294Z"
   },
   {
    "duration": 223,
    "start_time": "2022-06-25T16:26:57.509Z"
   },
   {
    "duration": 190,
    "start_time": "2022-06-25T16:27:52.296Z"
   },
   {
    "duration": 198,
    "start_time": "2022-06-25T16:29:13.855Z"
   },
   {
    "duration": 193,
    "start_time": "2022-06-25T16:29:59.766Z"
   },
   {
    "duration": 279,
    "start_time": "2022-06-25T16:30:35.900Z"
   },
   {
    "duration": 190,
    "start_time": "2022-06-25T16:30:40.069Z"
   },
   {
    "duration": 191,
    "start_time": "2022-06-25T16:30:59.671Z"
   },
   {
    "duration": 106,
    "start_time": "2022-06-25T16:31:39.384Z"
   },
   {
    "duration": 189,
    "start_time": "2022-06-25T16:31:59.499Z"
   },
   {
    "duration": 213,
    "start_time": "2022-06-25T16:32:39.751Z"
   },
   {
    "duration": 213,
    "start_time": "2022-06-25T16:32:47.353Z"
   },
   {
    "duration": 255,
    "start_time": "2022-06-25T16:32:55.651Z"
   },
   {
    "duration": 5,
    "start_time": "2022-06-25T16:33:52.071Z"
   },
   {
    "duration": 6,
    "start_time": "2022-06-25T16:34:01.766Z"
   },
   {
    "duration": 4,
    "start_time": "2022-06-25T16:34:10.807Z"
   },
   {
    "duration": 1131,
    "start_time": "2022-06-25T16:36:11.571Z"
   },
   {
    "duration": 152,
    "start_time": "2022-06-25T16:36:12.704Z"
   },
   {
    "duration": 25,
    "start_time": "2022-06-25T16:36:12.858Z"
   },
   {
    "duration": 30,
    "start_time": "2022-06-25T16:36:12.886Z"
   },
   {
    "duration": 47,
    "start_time": "2022-06-25T16:36:12.918Z"
   },
   {
    "duration": 246,
    "start_time": "2022-06-25T16:36:12.967Z"
   },
   {
    "duration": 178,
    "start_time": "2022-06-25T16:36:13.216Z"
   },
   {
    "duration": 22,
    "start_time": "2022-06-25T16:36:13.395Z"
   },
   {
    "duration": 61,
    "start_time": "2022-06-25T16:36:13.418Z"
   },
   {
    "duration": 19,
    "start_time": "2022-06-25T16:36:13.481Z"
   },
   {
    "duration": 18,
    "start_time": "2022-06-25T16:36:13.502Z"
   },
   {
    "duration": 49,
    "start_time": "2022-06-25T16:36:13.527Z"
   },
   {
    "duration": 7,
    "start_time": "2022-06-25T16:36:13.578Z"
   },
   {
    "duration": 323,
    "start_time": "2022-06-25T16:36:13.586Z"
   },
   {
    "duration": 22,
    "start_time": "2022-06-25T16:36:13.911Z"
   },
   {
    "duration": 50,
    "start_time": "2022-06-25T16:36:13.934Z"
   },
   {
    "duration": 555,
    "start_time": "2022-06-25T16:36:13.986Z"
   },
   {
    "duration": 503,
    "start_time": "2022-06-25T16:36:14.543Z"
   },
   {
    "duration": 698,
    "start_time": "2022-06-25T16:36:15.048Z"
   },
   {
    "duration": 515,
    "start_time": "2022-06-25T16:36:15.755Z"
   },
   {
    "duration": 532,
    "start_time": "2022-06-25T16:36:16.273Z"
   },
   {
    "duration": 262,
    "start_time": "2022-06-25T16:36:16.807Z"
   },
   {
    "duration": 166,
    "start_time": "2022-06-25T16:36:17.071Z"
   },
   {
    "duration": 11,
    "start_time": "2022-06-25T16:36:17.239Z"
   },
   {
    "duration": 36,
    "start_time": "2022-06-25T16:36:17.251Z"
   },
   {
    "duration": 186,
    "start_time": "2022-06-25T16:36:17.288Z"
   },
   {
    "duration": 227,
    "start_time": "2022-06-25T16:36:17.476Z"
   },
   {
    "duration": 5,
    "start_time": "2022-06-25T16:36:17.707Z"
   },
   {
    "duration": 40,
    "start_time": "2022-06-25T16:36:17.714Z"
   },
   {
    "duration": 28,
    "start_time": "2022-06-25T16:36:17.755Z"
   },
   {
    "duration": 12,
    "start_time": "2022-06-25T16:36:17.784Z"
   },
   {
    "duration": 24,
    "start_time": "2022-06-25T16:36:17.797Z"
   },
   {
    "duration": 34,
    "start_time": "2022-06-25T16:36:17.823Z"
   },
   {
    "duration": 24,
    "start_time": "2022-06-25T16:36:17.859Z"
   },
   {
    "duration": 12,
    "start_time": "2022-06-25T16:36:17.885Z"
   },
   {
    "duration": 24,
    "start_time": "2022-06-25T16:36:17.898Z"
   },
   {
    "duration": 37,
    "start_time": "2022-06-25T16:36:17.935Z"
   },
   {
    "duration": 194,
    "start_time": "2022-06-25T16:38:46.707Z"
   },
   {
    "duration": 13,
    "start_time": "2022-06-25T16:59:23.738Z"
   },
   {
    "duration": 59,
    "start_time": "2022-06-25T17:00:18.987Z"
   },
   {
    "duration": 4,
    "start_time": "2022-06-25T17:01:08.508Z"
   },
   {
    "duration": 6,
    "start_time": "2022-06-25T17:03:41.169Z"
   },
   {
    "duration": 9,
    "start_time": "2022-06-25T17:03:52.917Z"
   },
   {
    "duration": 11,
    "start_time": "2022-06-25T17:04:02.415Z"
   },
   {
    "duration": 8,
    "start_time": "2022-06-25T17:04:08.644Z"
   },
   {
    "duration": 7,
    "start_time": "2022-06-25T17:04:19.048Z"
   },
   {
    "duration": 7,
    "start_time": "2022-06-25T17:04:45.375Z"
   },
   {
    "duration": 1098,
    "start_time": "2022-06-25T17:06:28.690Z"
   },
   {
    "duration": 15,
    "start_time": "2022-06-25T17:06:44.521Z"
   },
   {
    "duration": 4,
    "start_time": "2022-06-25T17:09:13.864Z"
   },
   {
    "duration": 114,
    "start_time": "2022-06-25T17:14:35.456Z"
   },
   {
    "duration": 131,
    "start_time": "2022-06-25T17:14:49.716Z"
   },
   {
    "duration": 117,
    "start_time": "2022-06-25T17:14:57.855Z"
   },
   {
    "duration": 166,
    "start_time": "2022-06-25T17:15:10.738Z"
   },
   {
    "duration": 152,
    "start_time": "2022-06-25T17:15:22.863Z"
   },
   {
    "duration": 156,
    "start_time": "2022-06-25T17:15:29.339Z"
   },
   {
    "duration": 163,
    "start_time": "2022-06-25T17:16:27.890Z"
   },
   {
    "duration": 166,
    "start_time": "2022-06-25T17:16:36.436Z"
   },
   {
    "duration": 8,
    "start_time": "2022-06-25T17:32:39.524Z"
   },
   {
    "duration": 48,
    "start_time": "2022-06-25T17:33:23.964Z"
   },
   {
    "duration": 30,
    "start_time": "2022-06-25T17:33:35.838Z"
   },
   {
    "duration": 27,
    "start_time": "2022-06-25T17:35:35.036Z"
   },
   {
    "duration": 3,
    "start_time": "2022-06-25T17:35:54.592Z"
   },
   {
    "duration": 6,
    "start_time": "2022-06-25T17:36:01.572Z"
   },
   {
    "duration": 5,
    "start_time": "2022-06-25T17:36:41.297Z"
   },
   {
    "duration": 23,
    "start_time": "2022-06-25T17:36:53.040Z"
   },
   {
    "duration": 6,
    "start_time": "2022-06-25T17:37:09.324Z"
   },
   {
    "duration": 3,
    "start_time": "2022-06-25T17:37:21.705Z"
   },
   {
    "duration": 45,
    "start_time": "2022-06-25T17:37:21.710Z"
   },
   {
    "duration": 3,
    "start_time": "2022-06-25T17:37:21.757Z"
   },
   {
    "duration": 26,
    "start_time": "2022-06-25T17:37:21.762Z"
   },
   {
    "duration": 19,
    "start_time": "2022-06-25T17:37:21.790Z"
   },
   {
    "duration": 210,
    "start_time": "2022-06-25T17:37:21.811Z"
   },
   {
    "duration": 57,
    "start_time": "2022-06-25T17:37:22.024Z"
   },
   {
    "duration": 21,
    "start_time": "2022-06-25T17:37:22.083Z"
   },
   {
    "duration": 23,
    "start_time": "2022-06-25T17:37:22.106Z"
   },
   {
    "duration": 17,
    "start_time": "2022-06-25T17:37:22.131Z"
   },
   {
    "duration": 13,
    "start_time": "2022-06-25T17:37:22.152Z"
   },
   {
    "duration": 12,
    "start_time": "2022-06-25T17:37:22.166Z"
   },
   {
    "duration": 7,
    "start_time": "2022-06-25T17:37:22.180Z"
   },
   {
    "duration": 9,
    "start_time": "2022-06-25T17:37:22.188Z"
   },
   {
    "duration": 7,
    "start_time": "2022-06-25T17:37:22.199Z"
   },
   {
    "duration": 288,
    "start_time": "2022-06-25T17:37:22.208Z"
   },
   {
    "duration": 28,
    "start_time": "2022-06-25T17:37:22.497Z"
   },
   {
    "duration": 50,
    "start_time": "2022-06-25T17:37:22.527Z"
   },
   {
    "duration": 19,
    "start_time": "2022-06-25T17:37:22.579Z"
   },
   {
    "duration": 256,
    "start_time": "2022-06-25T17:37:22.601Z"
   },
   {
    "duration": 307,
    "start_time": "2022-06-25T17:37:22.859Z"
   },
   {
    "duration": 288,
    "start_time": "2022-06-25T17:37:23.168Z"
   },
   {
    "duration": 233,
    "start_time": "2022-06-25T17:37:23.458Z"
   },
   {
    "duration": 368,
    "start_time": "2022-06-25T17:37:23.692Z"
   },
   {
    "duration": 190,
    "start_time": "2022-06-25T17:37:24.062Z"
   },
   {
    "duration": 162,
    "start_time": "2022-06-25T17:37:24.254Z"
   },
   {
    "duration": 152,
    "start_time": "2022-06-25T17:37:24.417Z"
   },
   {
    "duration": 6,
    "start_time": "2022-06-25T17:37:24.570Z"
   },
   {
    "duration": 13,
    "start_time": "2022-06-25T17:37:24.579Z"
   },
   {
    "duration": 166,
    "start_time": "2022-06-25T17:37:24.593Z"
   },
   {
    "duration": 140,
    "start_time": "2022-06-25T17:37:24.760Z"
   },
   {
    "duration": 5,
    "start_time": "2022-06-25T17:37:24.902Z"
   },
   {
    "duration": 31,
    "start_time": "2022-06-25T17:37:24.909Z"
   },
   {
    "duration": 19,
    "start_time": "2022-06-25T17:37:24.942Z"
   },
   {
    "duration": 12,
    "start_time": "2022-06-25T17:37:24.963Z"
   },
   {
    "duration": 46,
    "start_time": "2022-06-25T17:37:24.977Z"
   },
   {
    "duration": 20,
    "start_time": "2022-06-25T17:37:25.025Z"
   },
   {
    "duration": 28,
    "start_time": "2022-06-25T17:37:25.046Z"
   },
   {
    "duration": 0,
    "start_time": "2022-06-25T17:37:25.076Z"
   },
   {
    "duration": 0,
    "start_time": "2022-06-25T17:37:25.077Z"
   },
   {
    "duration": 0,
    "start_time": "2022-06-25T17:37:25.078Z"
   },
   {
    "duration": 13,
    "start_time": "2022-06-25T17:37:41.390Z"
   },
   {
    "duration": 22,
    "start_time": "2022-06-25T17:37:56.148Z"
   },
   {
    "duration": 5,
    "start_time": "2022-06-25T17:38:07.852Z"
   },
   {
    "duration": 20,
    "start_time": "2022-06-25T17:38:28.191Z"
   },
   {
    "duration": 8,
    "start_time": "2022-06-25T17:38:38.108Z"
   },
   {
    "duration": 5,
    "start_time": "2022-06-25T17:38:42.596Z"
   },
   {
    "duration": 19,
    "start_time": "2022-06-25T17:39:04.404Z"
   },
   {
    "duration": 1092,
    "start_time": "2022-06-25T17:41:30.460Z"
   },
   {
    "duration": 101,
    "start_time": "2022-06-25T17:41:31.554Z"
   },
   {
    "duration": 3,
    "start_time": "2022-06-25T17:41:31.657Z"
   },
   {
    "duration": 18,
    "start_time": "2022-06-25T17:41:31.662Z"
   },
   {
    "duration": 11,
    "start_time": "2022-06-25T17:41:31.681Z"
   },
   {
    "duration": 210,
    "start_time": "2022-06-25T17:41:31.694Z"
   },
   {
    "duration": 61,
    "start_time": "2022-06-25T17:41:31.906Z"
   },
   {
    "duration": 28,
    "start_time": "2022-06-25T17:41:31.970Z"
   },
   {
    "duration": 17,
    "start_time": "2022-06-25T17:41:31.999Z"
   },
   {
    "duration": 8,
    "start_time": "2022-06-25T17:41:32.019Z"
   },
   {
    "duration": 24,
    "start_time": "2022-06-25T17:41:32.033Z"
   },
   {
    "duration": 11,
    "start_time": "2022-06-25T17:41:32.059Z"
   },
   {
    "duration": 7,
    "start_time": "2022-06-25T17:41:32.071Z"
   },
   {
    "duration": 8,
    "start_time": "2022-06-25T17:41:32.080Z"
   },
   {
    "duration": 10,
    "start_time": "2022-06-25T17:41:32.090Z"
   },
   {
    "duration": 304,
    "start_time": "2022-06-25T17:41:32.102Z"
   },
   {
    "duration": 32,
    "start_time": "2022-06-25T17:41:32.408Z"
   },
   {
    "duration": 5,
    "start_time": "2022-06-25T17:41:32.442Z"
   },
   {
    "duration": 16,
    "start_time": "2022-06-25T17:41:32.449Z"
   },
   {
    "duration": 369,
    "start_time": "2022-06-25T17:41:32.467Z"
   },
   {
    "duration": 209,
    "start_time": "2022-06-25T17:41:32.841Z"
   },
   {
    "duration": 311,
    "start_time": "2022-06-25T17:41:33.051Z"
   },
   {
    "duration": 245,
    "start_time": "2022-06-25T17:41:33.363Z"
   },
   {
    "duration": 330,
    "start_time": "2022-06-25T17:41:33.610Z"
   },
   {
    "duration": 199,
    "start_time": "2022-06-25T17:41:33.942Z"
   },
   {
    "duration": 153,
    "start_time": "2022-06-25T17:41:34.143Z"
   },
   {
    "duration": 169,
    "start_time": "2022-06-25T17:41:34.298Z"
   },
   {
    "duration": 6,
    "start_time": "2022-06-25T17:41:34.470Z"
   },
   {
    "duration": 19,
    "start_time": "2022-06-25T17:41:34.478Z"
   },
   {
    "duration": 285,
    "start_time": "2022-06-25T17:41:34.499Z"
   },
   {
    "duration": 146,
    "start_time": "2022-06-25T17:41:34.785Z"
   },
   {
    "duration": 6,
    "start_time": "2022-06-25T17:41:34.937Z"
   },
   {
    "duration": 18,
    "start_time": "2022-06-25T17:41:34.944Z"
   },
   {
    "duration": 14,
    "start_time": "2022-06-25T17:41:34.963Z"
   },
   {
    "duration": 11,
    "start_time": "2022-06-25T17:41:34.979Z"
   },
   {
    "duration": 54,
    "start_time": "2022-06-25T17:41:34.991Z"
   },
   {
    "duration": 16,
    "start_time": "2022-06-25T17:41:35.047Z"
   },
   {
    "duration": 13,
    "start_time": "2022-06-25T17:41:35.065Z"
   },
   {
    "duration": 12,
    "start_time": "2022-06-25T17:41:35.080Z"
   },
   {
    "duration": 68,
    "start_time": "2022-06-25T17:41:35.094Z"
   },
   {
    "duration": 18,
    "start_time": "2022-06-25T17:41:35.164Z"
   }
  ],
  "kernelspec": {
   "display_name": "Python 3 (ipykernel)",
   "language": "python",
   "name": "python3"
  },
  "language_info": {
   "codemirror_mode": {
    "name": "ipython",
    "version": 3
   },
   "file_extension": ".py",
   "mimetype": "text/x-python",
   "name": "python",
   "nbconvert_exporter": "python",
   "pygments_lexer": "ipython3",
   "version": "3.9.7"
  },
  "toc": {
   "base_numbering": 1,
   "nav_menu": {
    "height": "12px",
    "width": "160px"
   },
   "number_sections": true,
   "sideBar": true,
   "skip_h1_title": true,
   "title_cell": "Table of Contents",
   "title_sidebar": "Contents",
   "toc_cell": false,
   "toc_position": {
    "height": "calc(100% - 180px)",
    "left": "10px",
    "top": "150px",
    "width": "289.6px"
   },
   "toc_section_display": true,
   "toc_window_display": true
  }
 },
 "nbformat": 4,
 "nbformat_minor": 2
}
