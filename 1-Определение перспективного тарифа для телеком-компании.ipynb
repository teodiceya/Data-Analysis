{
 "cells": [
  {
   "cell_type": "markdown",
   "metadata": {},
   "source": [
    "# Определение перспективного тарифа для телеком-компании"
   ]
  },
  {
   "cell_type": "markdown",
   "metadata": {},
   "source": [
    "Анализ тарифов федерального оператора сотовой связи \"Мегалайн\". Клиентам предлагают два тарифных плана: «Смарт» и «Ультра». Чтобы скорректировать рекламный бюджет, коммерческий департамент хочет понять, какой тариф приносит больше денег.\n",
    "Нам предстоит сделать предварительный анализ тарифов на небольшой выборке клиентов. В распоряжении данные 500 пользователей «Мегалайна»: кто они, откуда, каким тарифом пользуются, сколько звонков и сообщений каждый отправил за 2018 год. Нужно проанализировать поведение клиентов и сделать вывод — какой тариф лучше."
   ]
  },
  {
   "cell_type": "markdown",
   "metadata": {},
   "source": [
    "## Вывод данных, получение общей информации"
   ]
  },
  {
   "cell_type": "code",
   "execution_count": 1,
   "metadata": {},
   "outputs": [],
   "source": [
    "import pandas as pd\n",
    "from scipy import stats as st\n",
    "import numpy as np\n",
    "import math\n",
    "# импорт библиотек"
   ]
  },
  {
   "cell_type": "code",
   "execution_count": 2,
   "metadata": {},
   "outputs": [],
   "source": [
    "calls = pd.read_csv('datasets\\\\calls.csv')\n",
    "internet = pd.read_csv('datasets\\\\internet.csv')\n",
    "messages = pd.read_csv('datasets\\\\messages.csv')\n",
    "tariffs = pd.read_csv('datasets\\\\tariffs.csv')\n",
    "users = pd.read_csv('datasets\\\\users.csv')\n",
    "pd.set_option('display.max_columns', None)  # убираем ограничение на показ столбцов "
   ]
  },
  {
   "cell_type": "code",
   "execution_count": 3,
   "metadata": {
    "scrolled": false
   },
   "outputs": [
    {
     "name": "stdout",
     "output_type": "stream",
     "text": [
      "<class 'pandas.core.frame.DataFrame'>\n",
      "RangeIndex: 202607 entries, 0 to 202606\n",
      "Data columns (total 4 columns):\n",
      " #   Column     Non-Null Count   Dtype  \n",
      "---  ------     --------------   -----  \n",
      " 0   id         202607 non-null  object \n",
      " 1   call_date  202607 non-null  object \n",
      " 2   duration   202607 non-null  float64\n",
      " 3   user_id    202607 non-null  int64  \n",
      "dtypes: float64(1), int64(1), object(2)\n",
      "memory usage: 6.2+ MB\n"
     ]
    },
    {
     "data": {
      "text/html": [
       "<div>\n",
       "<style scoped>\n",
       "    .dataframe tbody tr th:only-of-type {\n",
       "        vertical-align: middle;\n",
       "    }\n",
       "\n",
       "    .dataframe tbody tr th {\n",
       "        vertical-align: top;\n",
       "    }\n",
       "\n",
       "    .dataframe thead th {\n",
       "        text-align: right;\n",
       "    }\n",
       "</style>\n",
       "<table border=\"1\" class=\"dataframe\">\n",
       "  <thead>\n",
       "    <tr style=\"text-align: right;\">\n",
       "      <th></th>\n",
       "      <th>id</th>\n",
       "      <th>call_date</th>\n",
       "      <th>duration</th>\n",
       "      <th>user_id</th>\n",
       "    </tr>\n",
       "  </thead>\n",
       "  <tbody>\n",
       "    <tr>\n",
       "      <th>0</th>\n",
       "      <td>1000_0</td>\n",
       "      <td>2018-07-25</td>\n",
       "      <td>0.00</td>\n",
       "      <td>1000</td>\n",
       "    </tr>\n",
       "    <tr>\n",
       "      <th>1</th>\n",
       "      <td>1000_1</td>\n",
       "      <td>2018-08-17</td>\n",
       "      <td>0.00</td>\n",
       "      <td>1000</td>\n",
       "    </tr>\n",
       "    <tr>\n",
       "      <th>2</th>\n",
       "      <td>1000_2</td>\n",
       "      <td>2018-06-11</td>\n",
       "      <td>2.85</td>\n",
       "      <td>1000</td>\n",
       "    </tr>\n",
       "    <tr>\n",
       "      <th>3</th>\n",
       "      <td>1000_3</td>\n",
       "      <td>2018-09-21</td>\n",
       "      <td>13.80</td>\n",
       "      <td>1000</td>\n",
       "    </tr>\n",
       "    <tr>\n",
       "      <th>4</th>\n",
       "      <td>1000_4</td>\n",
       "      <td>2018-12-15</td>\n",
       "      <td>5.18</td>\n",
       "      <td>1000</td>\n",
       "    </tr>\n",
       "    <tr>\n",
       "      <th>5</th>\n",
       "      <td>1000_5</td>\n",
       "      <td>2018-11-02</td>\n",
       "      <td>0.00</td>\n",
       "      <td>1000</td>\n",
       "    </tr>\n",
       "    <tr>\n",
       "      <th>6</th>\n",
       "      <td>1000_6</td>\n",
       "      <td>2018-10-18</td>\n",
       "      <td>0.00</td>\n",
       "      <td>1000</td>\n",
       "    </tr>\n",
       "    <tr>\n",
       "      <th>7</th>\n",
       "      <td>1000_7</td>\n",
       "      <td>2018-08-22</td>\n",
       "      <td>18.31</td>\n",
       "      <td>1000</td>\n",
       "    </tr>\n",
       "    <tr>\n",
       "      <th>8</th>\n",
       "      <td>1000_8</td>\n",
       "      <td>2018-09-15</td>\n",
       "      <td>18.44</td>\n",
       "      <td>1000</td>\n",
       "    </tr>\n",
       "    <tr>\n",
       "      <th>9</th>\n",
       "      <td>1000_9</td>\n",
       "      <td>2018-08-15</td>\n",
       "      <td>0.00</td>\n",
       "      <td>1000</td>\n",
       "    </tr>\n",
       "  </tbody>\n",
       "</table>\n",
       "</div>"
      ],
      "text/plain": [
       "       id   call_date  duration  user_id\n",
       "0  1000_0  2018-07-25      0.00     1000\n",
       "1  1000_1  2018-08-17      0.00     1000\n",
       "2  1000_2  2018-06-11      2.85     1000\n",
       "3  1000_3  2018-09-21     13.80     1000\n",
       "4  1000_4  2018-12-15      5.18     1000\n",
       "5  1000_5  2018-11-02      0.00     1000\n",
       "6  1000_6  2018-10-18      0.00     1000\n",
       "7  1000_7  2018-08-22     18.31     1000\n",
       "8  1000_8  2018-09-15     18.44     1000\n",
       "9  1000_9  2018-08-15      0.00     1000"
      ]
     },
     "execution_count": 3,
     "metadata": {},
     "output_type": "execute_result"
    }
   ],
   "source": [
    "calls.info()\n",
    "calls.head(10) # данные о звонках"
   ]
  },
  {
   "cell_type": "code",
   "execution_count": 4,
   "metadata": {},
   "outputs": [
    {
     "data": {
      "text/html": [
       "<div>\n",
       "<style scoped>\n",
       "    .dataframe tbody tr th:only-of-type {\n",
       "        vertical-align: middle;\n",
       "    }\n",
       "\n",
       "    .dataframe tbody tr th {\n",
       "        vertical-align: top;\n",
       "    }\n",
       "\n",
       "    .dataframe thead th {\n",
       "        text-align: right;\n",
       "    }\n",
       "</style>\n",
       "<table border=\"1\" class=\"dataframe\">\n",
       "  <thead>\n",
       "    <tr style=\"text-align: right;\">\n",
       "      <th></th>\n",
       "      <th>duration</th>\n",
       "      <th>user_id</th>\n",
       "    </tr>\n",
       "  </thead>\n",
       "  <tbody>\n",
       "    <tr>\n",
       "      <th>count</th>\n",
       "      <td>202607.000000</td>\n",
       "      <td>202607.000000</td>\n",
       "    </tr>\n",
       "    <tr>\n",
       "      <th>mean</th>\n",
       "      <td>6.755887</td>\n",
       "      <td>1253.940619</td>\n",
       "    </tr>\n",
       "    <tr>\n",
       "      <th>std</th>\n",
       "      <td>5.843365</td>\n",
       "      <td>144.722751</td>\n",
       "    </tr>\n",
       "    <tr>\n",
       "      <th>min</th>\n",
       "      <td>0.000000</td>\n",
       "      <td>1000.000000</td>\n",
       "    </tr>\n",
       "    <tr>\n",
       "      <th>25%</th>\n",
       "      <td>1.300000</td>\n",
       "      <td>1126.000000</td>\n",
       "    </tr>\n",
       "    <tr>\n",
       "      <th>50%</th>\n",
       "      <td>6.000000</td>\n",
       "      <td>1260.000000</td>\n",
       "    </tr>\n",
       "    <tr>\n",
       "      <th>75%</th>\n",
       "      <td>10.700000</td>\n",
       "      <td>1379.000000</td>\n",
       "    </tr>\n",
       "    <tr>\n",
       "      <th>max</th>\n",
       "      <td>38.000000</td>\n",
       "      <td>1499.000000</td>\n",
       "    </tr>\n",
       "  </tbody>\n",
       "</table>\n",
       "</div>"
      ],
      "text/plain": [
       "            duration        user_id\n",
       "count  202607.000000  202607.000000\n",
       "mean        6.755887    1253.940619\n",
       "std         5.843365     144.722751\n",
       "min         0.000000    1000.000000\n",
       "25%         1.300000    1126.000000\n",
       "50%         6.000000    1260.000000\n",
       "75%        10.700000    1379.000000\n",
       "max        38.000000    1499.000000"
      ]
     },
     "execution_count": 4,
     "metadata": {},
     "output_type": "execute_result"
    }
   ],
   "source": [
    "calls.describe()"
   ]
  },
  {
   "cell_type": "markdown",
   "metadata": {},
   "source": [
    "В данных со звонками есть нули в столбце с продолжительностью - так отмечены пропущенные звонки. Столбец с датой нужно будет перевести в тип **datetime**.\n",
    "\n",
    "**Таблица calls:**\n",
    "* id — уникальный номер звонка\n",
    "* call_date — дата звонка\n",
    "* duration — длительность звонка в минутах\n",
    "* user_id — идентификатор пользователя, сделавшего звонок"
   ]
  },
  {
   "cell_type": "code",
   "execution_count": 5,
   "metadata": {},
   "outputs": [
    {
     "name": "stdout",
     "output_type": "stream",
     "text": [
      "<class 'pandas.core.frame.DataFrame'>\n",
      "RangeIndex: 149396 entries, 0 to 149395\n",
      "Data columns (total 5 columns):\n",
      " #   Column        Non-Null Count   Dtype  \n",
      "---  ------        --------------   -----  \n",
      " 0   Unnamed: 0    149396 non-null  int64  \n",
      " 1   id            149396 non-null  object \n",
      " 2   mb_used       149396 non-null  float64\n",
      " 3   session_date  149396 non-null  object \n",
      " 4   user_id       149396 non-null  int64  \n",
      "dtypes: float64(1), int64(2), object(2)\n",
      "memory usage: 5.7+ MB\n"
     ]
    },
    {
     "data": {
      "text/html": [
       "<div>\n",
       "<style scoped>\n",
       "    .dataframe tbody tr th:only-of-type {\n",
       "        vertical-align: middle;\n",
       "    }\n",
       "\n",
       "    .dataframe tbody tr th {\n",
       "        vertical-align: top;\n",
       "    }\n",
       "\n",
       "    .dataframe thead th {\n",
       "        text-align: right;\n",
       "    }\n",
       "</style>\n",
       "<table border=\"1\" class=\"dataframe\">\n",
       "  <thead>\n",
       "    <tr style=\"text-align: right;\">\n",
       "      <th></th>\n",
       "      <th>Unnamed: 0</th>\n",
       "      <th>id</th>\n",
       "      <th>mb_used</th>\n",
       "      <th>session_date</th>\n",
       "      <th>user_id</th>\n",
       "    </tr>\n",
       "  </thead>\n",
       "  <tbody>\n",
       "    <tr>\n",
       "      <th>0</th>\n",
       "      <td>0</td>\n",
       "      <td>1000_0</td>\n",
       "      <td>112.95</td>\n",
       "      <td>2018-11-25</td>\n",
       "      <td>1000</td>\n",
       "    </tr>\n",
       "    <tr>\n",
       "      <th>1</th>\n",
       "      <td>1</td>\n",
       "      <td>1000_1</td>\n",
       "      <td>1052.81</td>\n",
       "      <td>2018-09-07</td>\n",
       "      <td>1000</td>\n",
       "    </tr>\n",
       "    <tr>\n",
       "      <th>2</th>\n",
       "      <td>2</td>\n",
       "      <td>1000_2</td>\n",
       "      <td>1197.26</td>\n",
       "      <td>2018-06-25</td>\n",
       "      <td>1000</td>\n",
       "    </tr>\n",
       "    <tr>\n",
       "      <th>3</th>\n",
       "      <td>3</td>\n",
       "      <td>1000_3</td>\n",
       "      <td>550.27</td>\n",
       "      <td>2018-08-22</td>\n",
       "      <td>1000</td>\n",
       "    </tr>\n",
       "    <tr>\n",
       "      <th>4</th>\n",
       "      <td>4</td>\n",
       "      <td>1000_4</td>\n",
       "      <td>302.56</td>\n",
       "      <td>2018-09-24</td>\n",
       "      <td>1000</td>\n",
       "    </tr>\n",
       "    <tr>\n",
       "      <th>5</th>\n",
       "      <td>5</td>\n",
       "      <td>1000_5</td>\n",
       "      <td>399.97</td>\n",
       "      <td>2018-10-02</td>\n",
       "      <td>1000</td>\n",
       "    </tr>\n",
       "    <tr>\n",
       "      <th>6</th>\n",
       "      <td>6</td>\n",
       "      <td>1000_6</td>\n",
       "      <td>540.08</td>\n",
       "      <td>2018-09-07</td>\n",
       "      <td>1000</td>\n",
       "    </tr>\n",
       "    <tr>\n",
       "      <th>7</th>\n",
       "      <td>7</td>\n",
       "      <td>1000_7</td>\n",
       "      <td>415.70</td>\n",
       "      <td>2018-07-11</td>\n",
       "      <td>1000</td>\n",
       "    </tr>\n",
       "    <tr>\n",
       "      <th>8</th>\n",
       "      <td>8</td>\n",
       "      <td>1000_8</td>\n",
       "      <td>505.40</td>\n",
       "      <td>2018-10-08</td>\n",
       "      <td>1000</td>\n",
       "    </tr>\n",
       "    <tr>\n",
       "      <th>9</th>\n",
       "      <td>9</td>\n",
       "      <td>1000_9</td>\n",
       "      <td>345.54</td>\n",
       "      <td>2018-09-03</td>\n",
       "      <td>1000</td>\n",
       "    </tr>\n",
       "  </tbody>\n",
       "</table>\n",
       "</div>"
      ],
      "text/plain": [
       "   Unnamed: 0      id  mb_used session_date  user_id\n",
       "0           0  1000_0   112.95   2018-11-25     1000\n",
       "1           1  1000_1  1052.81   2018-09-07     1000\n",
       "2           2  1000_2  1197.26   2018-06-25     1000\n",
       "3           3  1000_3   550.27   2018-08-22     1000\n",
       "4           4  1000_4   302.56   2018-09-24     1000\n",
       "5           5  1000_5   399.97   2018-10-02     1000\n",
       "6           6  1000_6   540.08   2018-09-07     1000\n",
       "7           7  1000_7   415.70   2018-07-11     1000\n",
       "8           8  1000_8   505.40   2018-10-08     1000\n",
       "9           9  1000_9   345.54   2018-09-03     1000"
      ]
     },
     "execution_count": 5,
     "metadata": {},
     "output_type": "execute_result"
    }
   ],
   "source": [
    "internet.info() # информация об интернет-сессиях\n",
    "internet.head(10)"
   ]
  },
  {
   "cell_type": "code",
   "execution_count": 6,
   "metadata": {},
   "outputs": [
    {
     "data": {
      "text/html": [
       "<div>\n",
       "<style scoped>\n",
       "    .dataframe tbody tr th:only-of-type {\n",
       "        vertical-align: middle;\n",
       "    }\n",
       "\n",
       "    .dataframe tbody tr th {\n",
       "        vertical-align: top;\n",
       "    }\n",
       "\n",
       "    .dataframe thead th {\n",
       "        text-align: right;\n",
       "    }\n",
       "</style>\n",
       "<table border=\"1\" class=\"dataframe\">\n",
       "  <thead>\n",
       "    <tr style=\"text-align: right;\">\n",
       "      <th></th>\n",
       "      <th>Unnamed: 0</th>\n",
       "      <th>mb_used</th>\n",
       "      <th>user_id</th>\n",
       "    </tr>\n",
       "  </thead>\n",
       "  <tbody>\n",
       "    <tr>\n",
       "      <th>count</th>\n",
       "      <td>149396.000000</td>\n",
       "      <td>149396.000000</td>\n",
       "      <td>149396.000000</td>\n",
       "    </tr>\n",
       "    <tr>\n",
       "      <th>mean</th>\n",
       "      <td>74697.500000</td>\n",
       "      <td>370.192426</td>\n",
       "      <td>1252.099842</td>\n",
       "    </tr>\n",
       "    <tr>\n",
       "      <th>std</th>\n",
       "      <td>43127.054745</td>\n",
       "      <td>278.300951</td>\n",
       "      <td>144.050823</td>\n",
       "    </tr>\n",
       "    <tr>\n",
       "      <th>min</th>\n",
       "      <td>0.000000</td>\n",
       "      <td>0.000000</td>\n",
       "      <td>1000.000000</td>\n",
       "    </tr>\n",
       "    <tr>\n",
       "      <th>25%</th>\n",
       "      <td>37348.750000</td>\n",
       "      <td>138.187500</td>\n",
       "      <td>1130.000000</td>\n",
       "    </tr>\n",
       "    <tr>\n",
       "      <th>50%</th>\n",
       "      <td>74697.500000</td>\n",
       "      <td>348.015000</td>\n",
       "      <td>1251.000000</td>\n",
       "    </tr>\n",
       "    <tr>\n",
       "      <th>75%</th>\n",
       "      <td>112046.250000</td>\n",
       "      <td>559.552500</td>\n",
       "      <td>1380.000000</td>\n",
       "    </tr>\n",
       "    <tr>\n",
       "      <th>max</th>\n",
       "      <td>149395.000000</td>\n",
       "      <td>1724.830000</td>\n",
       "      <td>1499.000000</td>\n",
       "    </tr>\n",
       "  </tbody>\n",
       "</table>\n",
       "</div>"
      ],
      "text/plain": [
       "          Unnamed: 0        mb_used        user_id\n",
       "count  149396.000000  149396.000000  149396.000000\n",
       "mean    74697.500000     370.192426    1252.099842\n",
       "std     43127.054745     278.300951     144.050823\n",
       "min         0.000000       0.000000    1000.000000\n",
       "25%     37348.750000     138.187500    1130.000000\n",
       "50%     74697.500000     348.015000    1251.000000\n",
       "75%    112046.250000     559.552500    1380.000000\n",
       "max    149395.000000    1724.830000    1499.000000"
      ]
     },
     "execution_count": 6,
     "metadata": {},
     "output_type": "execute_result"
    }
   ],
   "source": [
    "internet.describe()"
   ]
  },
  {
   "cell_type": "markdown",
   "metadata": {},
   "source": [
    "Здесь аналогичная ситуация с датой. Есть столбец *'unnamed'*, который полностью дублирует индексы.\n",
    "\n",
    "**Таблица internet:**\n",
    "* id — уникальный номер сессии\n",
    "* mb_used — объём потраченного за сессию интернет-трафика (в мегабайтах)\n",
    "* session_date — дата интернет-сессии\n",
    "* user_id — идентификатор пользователя"
   ]
  },
  {
   "cell_type": "code",
   "execution_count": 7,
   "metadata": {},
   "outputs": [
    {
     "name": "stdout",
     "output_type": "stream",
     "text": [
      "<class 'pandas.core.frame.DataFrame'>\n",
      "RangeIndex: 123036 entries, 0 to 123035\n",
      "Data columns (total 3 columns):\n",
      " #   Column        Non-Null Count   Dtype \n",
      "---  ------        --------------   ----- \n",
      " 0   id            123036 non-null  object\n",
      " 1   message_date  123036 non-null  object\n",
      " 2   user_id       123036 non-null  int64 \n",
      "dtypes: int64(1), object(2)\n",
      "memory usage: 2.8+ MB\n"
     ]
    },
    {
     "data": {
      "text/html": [
       "<div>\n",
       "<style scoped>\n",
       "    .dataframe tbody tr th:only-of-type {\n",
       "        vertical-align: middle;\n",
       "    }\n",
       "\n",
       "    .dataframe tbody tr th {\n",
       "        vertical-align: top;\n",
       "    }\n",
       "\n",
       "    .dataframe thead th {\n",
       "        text-align: right;\n",
       "    }\n",
       "</style>\n",
       "<table border=\"1\" class=\"dataframe\">\n",
       "  <thead>\n",
       "    <tr style=\"text-align: right;\">\n",
       "      <th></th>\n",
       "      <th>id</th>\n",
       "      <th>message_date</th>\n",
       "      <th>user_id</th>\n",
       "    </tr>\n",
       "  </thead>\n",
       "  <tbody>\n",
       "    <tr>\n",
       "      <th>0</th>\n",
       "      <td>1000_0</td>\n",
       "      <td>2018-06-27</td>\n",
       "      <td>1000</td>\n",
       "    </tr>\n",
       "    <tr>\n",
       "      <th>1</th>\n",
       "      <td>1000_1</td>\n",
       "      <td>2018-10-08</td>\n",
       "      <td>1000</td>\n",
       "    </tr>\n",
       "    <tr>\n",
       "      <th>2</th>\n",
       "      <td>1000_2</td>\n",
       "      <td>2018-08-04</td>\n",
       "      <td>1000</td>\n",
       "    </tr>\n",
       "    <tr>\n",
       "      <th>3</th>\n",
       "      <td>1000_3</td>\n",
       "      <td>2018-06-16</td>\n",
       "      <td>1000</td>\n",
       "    </tr>\n",
       "    <tr>\n",
       "      <th>4</th>\n",
       "      <td>1000_4</td>\n",
       "      <td>2018-12-05</td>\n",
       "      <td>1000</td>\n",
       "    </tr>\n",
       "    <tr>\n",
       "      <th>5</th>\n",
       "      <td>1000_5</td>\n",
       "      <td>2018-06-20</td>\n",
       "      <td>1000</td>\n",
       "    </tr>\n",
       "    <tr>\n",
       "      <th>6</th>\n",
       "      <td>1000_6</td>\n",
       "      <td>2018-11-19</td>\n",
       "      <td>1000</td>\n",
       "    </tr>\n",
       "    <tr>\n",
       "      <th>7</th>\n",
       "      <td>1000_7</td>\n",
       "      <td>2018-10-29</td>\n",
       "      <td>1000</td>\n",
       "    </tr>\n",
       "    <tr>\n",
       "      <th>8</th>\n",
       "      <td>1000_8</td>\n",
       "      <td>2018-06-25</td>\n",
       "      <td>1000</td>\n",
       "    </tr>\n",
       "    <tr>\n",
       "      <th>9</th>\n",
       "      <td>1000_9</td>\n",
       "      <td>2018-12-18</td>\n",
       "      <td>1000</td>\n",
       "    </tr>\n",
       "  </tbody>\n",
       "</table>\n",
       "</div>"
      ],
      "text/plain": [
       "       id message_date  user_id\n",
       "0  1000_0   2018-06-27     1000\n",
       "1  1000_1   2018-10-08     1000\n",
       "2  1000_2   2018-08-04     1000\n",
       "3  1000_3   2018-06-16     1000\n",
       "4  1000_4   2018-12-05     1000\n",
       "5  1000_5   2018-06-20     1000\n",
       "6  1000_6   2018-11-19     1000\n",
       "7  1000_7   2018-10-29     1000\n",
       "8  1000_8   2018-06-25     1000\n",
       "9  1000_9   2018-12-18     1000"
      ]
     },
     "execution_count": 7,
     "metadata": {},
     "output_type": "execute_result"
    }
   ],
   "source": [
    "messages.info() # информация о сообщениях. Здесь так же поменяем дату.\n",
    "messages.head(10)"
   ]
  },
  {
   "cell_type": "markdown",
   "metadata": {},
   "source": [
    "**Таблица messages:**\n",
    "* id — уникальный номер сообщения\n",
    "* message_date — дата сообщения\n",
    "* user_id — идентификатор пользователя, отправившего сообщение"
   ]
  },
  {
   "cell_type": "code",
   "execution_count": 8,
   "metadata": {},
   "outputs": [
    {
     "name": "stdout",
     "output_type": "stream",
     "text": [
      "<class 'pandas.core.frame.DataFrame'>\n",
      "RangeIndex: 500 entries, 0 to 499\n",
      "Data columns (total 8 columns):\n",
      " #   Column      Non-Null Count  Dtype \n",
      "---  ------      --------------  ----- \n",
      " 0   user_id     500 non-null    int64 \n",
      " 1   age         500 non-null    int64 \n",
      " 2   churn_date  38 non-null     object\n",
      " 3   city        500 non-null    object\n",
      " 4   first_name  500 non-null    object\n",
      " 5   last_name   500 non-null    object\n",
      " 6   reg_date    500 non-null    object\n",
      " 7   tariff      500 non-null    object\n",
      "dtypes: int64(2), object(6)\n",
      "memory usage: 31.4+ KB\n"
     ]
    },
    {
     "data": {
      "text/html": [
       "<div>\n",
       "<style scoped>\n",
       "    .dataframe tbody tr th:only-of-type {\n",
       "        vertical-align: middle;\n",
       "    }\n",
       "\n",
       "    .dataframe tbody tr th {\n",
       "        vertical-align: top;\n",
       "    }\n",
       "\n",
       "    .dataframe thead th {\n",
       "        text-align: right;\n",
       "    }\n",
       "</style>\n",
       "<table border=\"1\" class=\"dataframe\">\n",
       "  <thead>\n",
       "    <tr style=\"text-align: right;\">\n",
       "      <th></th>\n",
       "      <th>user_id</th>\n",
       "      <th>age</th>\n",
       "      <th>churn_date</th>\n",
       "      <th>city</th>\n",
       "      <th>first_name</th>\n",
       "      <th>last_name</th>\n",
       "      <th>reg_date</th>\n",
       "      <th>tariff</th>\n",
       "    </tr>\n",
       "  </thead>\n",
       "  <tbody>\n",
       "    <tr>\n",
       "      <th>0</th>\n",
       "      <td>1000</td>\n",
       "      <td>52</td>\n",
       "      <td>NaN</td>\n",
       "      <td>Краснодар</td>\n",
       "      <td>Рафаил</td>\n",
       "      <td>Верещагин</td>\n",
       "      <td>2018-05-25</td>\n",
       "      <td>ultra</td>\n",
       "    </tr>\n",
       "    <tr>\n",
       "      <th>1</th>\n",
       "      <td>1001</td>\n",
       "      <td>41</td>\n",
       "      <td>NaN</td>\n",
       "      <td>Москва</td>\n",
       "      <td>Иван</td>\n",
       "      <td>Ежов</td>\n",
       "      <td>2018-11-01</td>\n",
       "      <td>smart</td>\n",
       "    </tr>\n",
       "    <tr>\n",
       "      <th>2</th>\n",
       "      <td>1002</td>\n",
       "      <td>59</td>\n",
       "      <td>NaN</td>\n",
       "      <td>Стерлитамак</td>\n",
       "      <td>Евгений</td>\n",
       "      <td>Абрамович</td>\n",
       "      <td>2018-06-17</td>\n",
       "      <td>smart</td>\n",
       "    </tr>\n",
       "    <tr>\n",
       "      <th>3</th>\n",
       "      <td>1003</td>\n",
       "      <td>23</td>\n",
       "      <td>NaN</td>\n",
       "      <td>Москва</td>\n",
       "      <td>Белла</td>\n",
       "      <td>Белякова</td>\n",
       "      <td>2018-08-17</td>\n",
       "      <td>ultra</td>\n",
       "    </tr>\n",
       "    <tr>\n",
       "      <th>4</th>\n",
       "      <td>1004</td>\n",
       "      <td>68</td>\n",
       "      <td>NaN</td>\n",
       "      <td>Новокузнецк</td>\n",
       "      <td>Татьяна</td>\n",
       "      <td>Авдеенко</td>\n",
       "      <td>2018-05-14</td>\n",
       "      <td>ultra</td>\n",
       "    </tr>\n",
       "    <tr>\n",
       "      <th>...</th>\n",
       "      <td>...</td>\n",
       "      <td>...</td>\n",
       "      <td>...</td>\n",
       "      <td>...</td>\n",
       "      <td>...</td>\n",
       "      <td>...</td>\n",
       "      <td>...</td>\n",
       "      <td>...</td>\n",
       "    </tr>\n",
       "    <tr>\n",
       "      <th>495</th>\n",
       "      <td>1495</td>\n",
       "      <td>65</td>\n",
       "      <td>NaN</td>\n",
       "      <td>Иркутск</td>\n",
       "      <td>Авксентий</td>\n",
       "      <td>Фокин</td>\n",
       "      <td>2018-08-28</td>\n",
       "      <td>ultra</td>\n",
       "    </tr>\n",
       "    <tr>\n",
       "      <th>496</th>\n",
       "      <td>1496</td>\n",
       "      <td>36</td>\n",
       "      <td>NaN</td>\n",
       "      <td>Вологда</td>\n",
       "      <td>Трифон</td>\n",
       "      <td>Блохин</td>\n",
       "      <td>2018-01-27</td>\n",
       "      <td>smart</td>\n",
       "    </tr>\n",
       "    <tr>\n",
       "      <th>497</th>\n",
       "      <td>1497</td>\n",
       "      <td>32</td>\n",
       "      <td>NaN</td>\n",
       "      <td>Челябинск</td>\n",
       "      <td>Каролина</td>\n",
       "      <td>Агеева</td>\n",
       "      <td>2018-10-09</td>\n",
       "      <td>smart</td>\n",
       "    </tr>\n",
       "    <tr>\n",
       "      <th>498</th>\n",
       "      <td>1498</td>\n",
       "      <td>68</td>\n",
       "      <td>2018-10-25</td>\n",
       "      <td>Владикавказ</td>\n",
       "      <td>Всеволод</td>\n",
       "      <td>Акимчин</td>\n",
       "      <td>2018-07-19</td>\n",
       "      <td>smart</td>\n",
       "    </tr>\n",
       "    <tr>\n",
       "      <th>499</th>\n",
       "      <td>1499</td>\n",
       "      <td>35</td>\n",
       "      <td>NaN</td>\n",
       "      <td>Пермь</td>\n",
       "      <td>Гектор</td>\n",
       "      <td>Корнилов</td>\n",
       "      <td>2018-09-27</td>\n",
       "      <td>smart</td>\n",
       "    </tr>\n",
       "  </tbody>\n",
       "</table>\n",
       "<p>500 rows × 8 columns</p>\n",
       "</div>"
      ],
      "text/plain": [
       "     user_id  age  churn_date         city first_name  last_name    reg_date  \\\n",
       "0       1000   52         NaN    Краснодар     Рафаил  Верещагин  2018-05-25   \n",
       "1       1001   41         NaN       Москва       Иван       Ежов  2018-11-01   \n",
       "2       1002   59         NaN  Стерлитамак    Евгений  Абрамович  2018-06-17   \n",
       "3       1003   23         NaN       Москва      Белла   Белякова  2018-08-17   \n",
       "4       1004   68         NaN  Новокузнецк    Татьяна   Авдеенко  2018-05-14   \n",
       "..       ...  ...         ...          ...        ...        ...         ...   \n",
       "495     1495   65         NaN      Иркутск  Авксентий      Фокин  2018-08-28   \n",
       "496     1496   36         NaN      Вологда     Трифон     Блохин  2018-01-27   \n",
       "497     1497   32         NaN    Челябинск   Каролина     Агеева  2018-10-09   \n",
       "498     1498   68  2018-10-25  Владикавказ   Всеволод    Акимчин  2018-07-19   \n",
       "499     1499   35         NaN        Пермь     Гектор   Корнилов  2018-09-27   \n",
       "\n",
       "    tariff  \n",
       "0    ultra  \n",
       "1    smart  \n",
       "2    smart  \n",
       "3    ultra  \n",
       "4    ultra  \n",
       "..     ...  \n",
       "495  ultra  \n",
       "496  smart  \n",
       "497  smart  \n",
       "498  smart  \n",
       "499  smart  \n",
       "\n",
       "[500 rows x 8 columns]"
      ]
     },
     "execution_count": 8,
     "metadata": {},
     "output_type": "execute_result"
    }
   ],
   "source": [
    "users.info() # информация о пользователях\n",
    "users"
   ]
  },
  {
   "cell_type": "markdown",
   "metadata": {},
   "source": [
    "Присутствие пропусков в столбце **churn_date** значит, что на момент выгрузки данных этот тариф еще действовал, поэтому его ничем заполнять не нужно.\n",
    "\n",
    "**Таблица users:**\n",
    "* user_id — уникальный идентификатор пользователя\n",
    "* first_name — имя пользователя\n",
    "* last_name — фамилия пользователя\n",
    "* age — возраст пользователя (годы)\n",
    "* reg_date — дата подключения тарифа (день, месяц, год)\n",
    "* churn_date — дата прекращения пользования тарифом (если значение пропущено, то тариф ещё действовал на момент выгрузки данных)\n",
    "* city — город проживания пользователя\n",
    "* tariff — название тарифного плана"
   ]
  },
  {
   "cell_type": "code",
   "execution_count": 9,
   "metadata": {},
   "outputs": [
    {
     "data": {
      "text/html": [
       "<div>\n",
       "<style scoped>\n",
       "    .dataframe tbody tr th:only-of-type {\n",
       "        vertical-align: middle;\n",
       "    }\n",
       "\n",
       "    .dataframe tbody tr th {\n",
       "        vertical-align: top;\n",
       "    }\n",
       "\n",
       "    .dataframe thead th {\n",
       "        text-align: right;\n",
       "    }\n",
       "</style>\n",
       "<table border=\"1\" class=\"dataframe\">\n",
       "  <thead>\n",
       "    <tr style=\"text-align: right;\">\n",
       "      <th></th>\n",
       "      <th>messages_included</th>\n",
       "      <th>mb_per_month_included</th>\n",
       "      <th>minutes_included</th>\n",
       "      <th>rub_monthly_fee</th>\n",
       "      <th>rub_per_gb</th>\n",
       "      <th>rub_per_message</th>\n",
       "      <th>rub_per_minute</th>\n",
       "      <th>tariff_name</th>\n",
       "    </tr>\n",
       "  </thead>\n",
       "  <tbody>\n",
       "    <tr>\n",
       "      <th>0</th>\n",
       "      <td>50</td>\n",
       "      <td>15360</td>\n",
       "      <td>500</td>\n",
       "      <td>550</td>\n",
       "      <td>200</td>\n",
       "      <td>3</td>\n",
       "      <td>3</td>\n",
       "      <td>smart</td>\n",
       "    </tr>\n",
       "    <tr>\n",
       "      <th>1</th>\n",
       "      <td>1000</td>\n",
       "      <td>30720</td>\n",
       "      <td>3000</td>\n",
       "      <td>1950</td>\n",
       "      <td>150</td>\n",
       "      <td>1</td>\n",
       "      <td>1</td>\n",
       "      <td>ultra</td>\n",
       "    </tr>\n",
       "  </tbody>\n",
       "</table>\n",
       "</div>"
      ],
      "text/plain": [
       "   messages_included  mb_per_month_included  minutes_included  \\\n",
       "0                 50                  15360               500   \n",
       "1               1000                  30720              3000   \n",
       "\n",
       "   rub_monthly_fee  rub_per_gb  rub_per_message  rub_per_minute tariff_name  \n",
       "0              550         200                3               3       smart  \n",
       "1             1950         150                1               1       ultra  "
      ]
     },
     "execution_count": 9,
     "metadata": {},
     "output_type": "execute_result"
    }
   ],
   "source": [
    "tariffs # информация о тарифах"
   ]
  },
  {
   "cell_type": "markdown",
   "metadata": {},
   "source": [
    "**Таблица tariffs:**\n",
    "* tariff_name — название тарифа\n",
    "* rub_monthly_fee — ежемесячная абонентская плата в рублях\n",
    "* minutes_included — количество минут разговора в месяц, включённых в абонентскую плату\n",
    "* messages_included — количество сообщений в месяц, включённых в абонентскую плату\n",
    "* mb_per_month_included — объём интернет-трафика, включённого в абонентскую плату (в мегабайтах)\n",
    "* rub_per_minute — стоимость минуты разговора сверх тарифного пакета (например, если в тарифе 100 минут разговора в месяц, то со 101 минуты будет взиматься плата)\n",
    "* rub_per_message — стоимость отправки сообщения сверх тарифного пакета\n",
    "* rub_per_gb — стоимость дополнительного гигабайта интернет-трафика сверх тарифного пакета (1 гигабайт = 1024 мегабайта)"
   ]
  },
  {
   "cell_type": "markdown",
   "metadata": {},
   "source": [
    "## Подготовка данных"
   ]
  },
  {
   "cell_type": "code",
   "execution_count": 10,
   "metadata": {},
   "outputs": [],
   "source": [
    "users = users.rename(columns=\n",
    "               {'tariff': 'tariff_name'}\n",
    "              )\n",
    "# для удобства переименовываю столбец с тарифами"
   ]
  },
  {
   "cell_type": "code",
   "execution_count": 11,
   "metadata": {},
   "outputs": [],
   "source": [
    "calls['user_call_date'] = pd.to_datetime(calls['call_date'], format='%Y-%m-%d')\n",
    "messages['user_message_date'] = pd.to_datetime(messages['message_date'], format='%Y-%m-%d')\n",
    "internet['user_session_date'] = pd.to_datetime(internet['session_date'], format='%Y-%m-%d')\n",
    "users['user_reg_date'] = pd.to_datetime(users['reg_date'], format='%Y-%m-%d')\n",
    "users['user_churn_date'] = pd.to_datetime(users['churn_date'], format='%Y-%m-%d')\n",
    "\n",
    "users = users.drop(columns=['reg_date', 'churn_date'], axis=1)\n",
    "calls = calls.drop(columns='call_date', axis=1)\n",
    "internet = internet.drop(columns='session_date', axis=1)\n",
    "messages = messages.drop(columns='message_date', axis=1)\n",
    "\n",
    "# поменяла формат даты, удалила старые столбцы"
   ]
  },
  {
   "cell_type": "code",
   "execution_count": 12,
   "metadata": {},
   "outputs": [],
   "source": [
    "calls['month'] = pd.DatetimeIndex(calls['user_call_date']).month\n",
    "messages['month'] = pd.DatetimeIndex(messages['user_message_date']).month\n",
    "internet['month'] = pd.DatetimeIndex(internet['user_session_date']).month\n",
    "\n",
    "# столбец для месяца "
   ]
  },
  {
   "cell_type": "markdown",
   "metadata": {},
   "source": [
    "### Обработка данных о звонках"
   ]
  },
  {
   "cell_type": "markdown",
   "metadata": {},
   "source": [
    "Займемся сначала звонками. Посчитаем общее количество сделанных звонков и израсходованных минут разговора по месяцам."
   ]
  },
  {
   "cell_type": "code",
   "execution_count": 13,
   "metadata": {},
   "outputs": [],
   "source": [
    "calls['duration'] = calls['duration'].apply(math.ceil)\n",
    "\n",
    "pivot_calls = (calls\n",
    "                .pivot_table(index=['user_id', 'month'], values='duration', aggfunc=['count', 'sum'])\n",
    "                .reset_index()\n",
    "               )\n",
    "pivot_calls.columns = ['user_id', 'month', 'calls_count', 'min_sum']\n",
    "\n",
    "# сводная таблица по юзерам и месяцу, рассчитываем количество звонков и их продолжительность, \n",
    "# минуты округляем вверх по правилам компании"
   ]
  },
  {
   "cell_type": "code",
   "execution_count": 14,
   "metadata": {},
   "outputs": [],
   "source": [
    "tariff_dict = (users[['user_id', 'tariff_name']]).drop_duplicates().reset_index(drop=True)\n",
    "# словарь с информацией о пользователе и его тарифе\n",
    "\n",
    "pivot_calls = pivot_calls.merge(tariff_dict, on='user_id') # соединяем со словарем"
   ]
  },
  {
   "cell_type": "code",
   "execution_count": 15,
   "metadata": {},
   "outputs": [],
   "source": [
    "def calls_income(pivot_calls):           # функция для подсчета выручки за звонки за каждый тариф, \n",
    "    calls = pivot_calls['min_sum']       # если юзер не превысил лимит, то возвращаем 0, \n",
    "    tariff = pivot_calls['tariff_name']  # который потом в общей сводной таблице прибавим к цене за тариф\n",
    "    if tariff == 'smart':                # если лимит превышен, то рассчитываем разницу\n",
    "        minutes = 500\n",
    "        rub_per_minute = 3\n",
    "        if calls <= minutes:\n",
    "            return 0\n",
    "        if calls > minutes:\n",
    "            return (calls - minutes) * rub_per_minute\n",
    "    if tariff == 'ultra':\n",
    "        minutes = 3000\n",
    "        rub_per_minute = 1\n",
    "        if calls <= minutes:\n",
    "            return 0\n",
    "        if calls > minutes:\n",
    "            return (calls - minutes) * rub_per_minute"
   ]
  },
  {
   "cell_type": "code",
   "execution_count": 16,
   "metadata": {},
   "outputs": [
    {
     "data": {
      "text/html": [
       "<div>\n",
       "<style scoped>\n",
       "    .dataframe tbody tr th:only-of-type {\n",
       "        vertical-align: middle;\n",
       "    }\n",
       "\n",
       "    .dataframe tbody tr th {\n",
       "        vertical-align: top;\n",
       "    }\n",
       "\n",
       "    .dataframe thead th {\n",
       "        text-align: right;\n",
       "    }\n",
       "</style>\n",
       "<table border=\"1\" class=\"dataframe\">\n",
       "  <thead>\n",
       "    <tr style=\"text-align: right;\">\n",
       "      <th></th>\n",
       "      <th>user_id</th>\n",
       "      <th>month</th>\n",
       "      <th>calls_count</th>\n",
       "      <th>min_sum</th>\n",
       "      <th>calls_income</th>\n",
       "    </tr>\n",
       "  </thead>\n",
       "  <tbody>\n",
       "    <tr>\n",
       "      <th>0</th>\n",
       "      <td>1000</td>\n",
       "      <td>5</td>\n",
       "      <td>22</td>\n",
       "      <td>159</td>\n",
       "      <td>0</td>\n",
       "    </tr>\n",
       "    <tr>\n",
       "      <th>1</th>\n",
       "      <td>1000</td>\n",
       "      <td>6</td>\n",
       "      <td>43</td>\n",
       "      <td>172</td>\n",
       "      <td>0</td>\n",
       "    </tr>\n",
       "    <tr>\n",
       "      <th>2</th>\n",
       "      <td>1000</td>\n",
       "      <td>7</td>\n",
       "      <td>47</td>\n",
       "      <td>340</td>\n",
       "      <td>0</td>\n",
       "    </tr>\n",
       "    <tr>\n",
       "      <th>3</th>\n",
       "      <td>1000</td>\n",
       "      <td>8</td>\n",
       "      <td>52</td>\n",
       "      <td>408</td>\n",
       "      <td>0</td>\n",
       "    </tr>\n",
       "    <tr>\n",
       "      <th>4</th>\n",
       "      <td>1000</td>\n",
       "      <td>9</td>\n",
       "      <td>58</td>\n",
       "      <td>466</td>\n",
       "      <td>0</td>\n",
       "    </tr>\n",
       "    <tr>\n",
       "      <th>5</th>\n",
       "      <td>1000</td>\n",
       "      <td>10</td>\n",
       "      <td>57</td>\n",
       "      <td>350</td>\n",
       "      <td>0</td>\n",
       "    </tr>\n",
       "    <tr>\n",
       "      <th>6</th>\n",
       "      <td>1000</td>\n",
       "      <td>11</td>\n",
       "      <td>43</td>\n",
       "      <td>338</td>\n",
       "      <td>0</td>\n",
       "    </tr>\n",
       "    <tr>\n",
       "      <th>7</th>\n",
       "      <td>1000</td>\n",
       "      <td>12</td>\n",
       "      <td>46</td>\n",
       "      <td>333</td>\n",
       "      <td>0</td>\n",
       "    </tr>\n",
       "    <tr>\n",
       "      <th>8</th>\n",
       "      <td>1001</td>\n",
       "      <td>11</td>\n",
       "      <td>59</td>\n",
       "      <td>430</td>\n",
       "      <td>0</td>\n",
       "    </tr>\n",
       "    <tr>\n",
       "      <th>9</th>\n",
       "      <td>1001</td>\n",
       "      <td>12</td>\n",
       "      <td>63</td>\n",
       "      <td>414</td>\n",
       "      <td>0</td>\n",
       "    </tr>\n",
       "  </tbody>\n",
       "</table>\n",
       "</div>"
      ],
      "text/plain": [
       "   user_id  month  calls_count  min_sum  calls_income\n",
       "0     1000      5           22      159             0\n",
       "1     1000      6           43      172             0\n",
       "2     1000      7           47      340             0\n",
       "3     1000      8           52      408             0\n",
       "4     1000      9           58      466             0\n",
       "5     1000     10           57      350             0\n",
       "6     1000     11           43      338             0\n",
       "7     1000     12           46      333             0\n",
       "8     1001     11           59      430             0\n",
       "9     1001     12           63      414             0"
      ]
     },
     "execution_count": 16,
     "metadata": {},
     "output_type": "execute_result"
    }
   ],
   "source": [
    "pivot_calls['calls_income'] = pivot_calls.apply(calls_income, axis=1) # выводим столбец с затратами на звонки\n",
    "\n",
    "pivot_calls = pivot_calls.drop(columns=['tariff_name'], axis=1) # убираю столбец с тарифами, чтоб не отвлекал\n",
    "\n",
    "pivot_calls.head(10)"
   ]
  },
  {
   "cell_type": "markdown",
   "metadata": {},
   "source": [
    "### Обработка данных о сообщениях"
   ]
  },
  {
   "cell_type": "markdown",
   "metadata": {},
   "source": [
    "Проведем похожие расчеты для сообщений, выведем сводную таблицу, рассчитаем количество сообщений и стоимость превышения лимита у пользователей по месяцам."
   ]
  },
  {
   "cell_type": "code",
   "execution_count": 17,
   "metadata": {
    "scrolled": true
   },
   "outputs": [],
   "source": [
    "pivot_messages = (messages\n",
    "                .pivot_table(index=['user_id', 'month'], values='user_message_date', aggfunc=['count'])\n",
    "                .reset_index()\n",
    "                 )\n",
    "\n",
    "pivot_messages.columns = ['user_id', 'month', 'messages_count']\n",
    "pivot_messages = pivot_messages.merge(tariff_dict, on='user_id')\n",
    "# сводная таблица, переименовали столбцы, добавили данные о тарифах"
   ]
  },
  {
   "cell_type": "code",
   "execution_count": 18,
   "metadata": {},
   "outputs": [
    {
     "data": {
      "text/html": [
       "<div>\n",
       "<style scoped>\n",
       "    .dataframe tbody tr th:only-of-type {\n",
       "        vertical-align: middle;\n",
       "    }\n",
       "\n",
       "    .dataframe tbody tr th {\n",
       "        vertical-align: top;\n",
       "    }\n",
       "\n",
       "    .dataframe thead th {\n",
       "        text-align: right;\n",
       "    }\n",
       "</style>\n",
       "<table border=\"1\" class=\"dataframe\">\n",
       "  <thead>\n",
       "    <tr style=\"text-align: right;\">\n",
       "      <th></th>\n",
       "      <th>user_id</th>\n",
       "      <th>month</th>\n",
       "      <th>messages_count</th>\n",
       "      <th>messages_income</th>\n",
       "    </tr>\n",
       "  </thead>\n",
       "  <tbody>\n",
       "    <tr>\n",
       "      <th>0</th>\n",
       "      <td>1000</td>\n",
       "      <td>5</td>\n",
       "      <td>22</td>\n",
       "      <td>0</td>\n",
       "    </tr>\n",
       "    <tr>\n",
       "      <th>1</th>\n",
       "      <td>1000</td>\n",
       "      <td>6</td>\n",
       "      <td>60</td>\n",
       "      <td>0</td>\n",
       "    </tr>\n",
       "    <tr>\n",
       "      <th>2</th>\n",
       "      <td>1000</td>\n",
       "      <td>7</td>\n",
       "      <td>75</td>\n",
       "      <td>0</td>\n",
       "    </tr>\n",
       "    <tr>\n",
       "      <th>3</th>\n",
       "      <td>1000</td>\n",
       "      <td>8</td>\n",
       "      <td>81</td>\n",
       "      <td>0</td>\n",
       "    </tr>\n",
       "    <tr>\n",
       "      <th>4</th>\n",
       "      <td>1000</td>\n",
       "      <td>9</td>\n",
       "      <td>57</td>\n",
       "      <td>0</td>\n",
       "    </tr>\n",
       "    <tr>\n",
       "      <th>5</th>\n",
       "      <td>1000</td>\n",
       "      <td>10</td>\n",
       "      <td>73</td>\n",
       "      <td>0</td>\n",
       "    </tr>\n",
       "    <tr>\n",
       "      <th>6</th>\n",
       "      <td>1000</td>\n",
       "      <td>11</td>\n",
       "      <td>58</td>\n",
       "      <td>0</td>\n",
       "    </tr>\n",
       "    <tr>\n",
       "      <th>7</th>\n",
       "      <td>1000</td>\n",
       "      <td>12</td>\n",
       "      <td>70</td>\n",
       "      <td>0</td>\n",
       "    </tr>\n",
       "    <tr>\n",
       "      <th>8</th>\n",
       "      <td>1002</td>\n",
       "      <td>6</td>\n",
       "      <td>4</td>\n",
       "      <td>0</td>\n",
       "    </tr>\n",
       "    <tr>\n",
       "      <th>9</th>\n",
       "      <td>1002</td>\n",
       "      <td>7</td>\n",
       "      <td>11</td>\n",
       "      <td>0</td>\n",
       "    </tr>\n",
       "  </tbody>\n",
       "</table>\n",
       "</div>"
      ],
      "text/plain": [
       "   user_id  month  messages_count  messages_income\n",
       "0     1000      5              22                0\n",
       "1     1000      6              60                0\n",
       "2     1000      7              75                0\n",
       "3     1000      8              81                0\n",
       "4     1000      9              57                0\n",
       "5     1000     10              73                0\n",
       "6     1000     11              58                0\n",
       "7     1000     12              70                0\n",
       "8     1002      6               4                0\n",
       "9     1002      7              11                0"
      ]
     },
     "execution_count": 18,
     "metadata": {},
     "output_type": "execute_result"
    }
   ],
   "source": [
    "def messages_income(pivot_messages):               # похожая функция для расчета выручки за сообщения\n",
    "    message = pivot_messages['messages_count']     # если лимит превышен, то считаем разницу, если нет, то ставим 0\n",
    "    tariff = pivot_messages['tariff_name']\n",
    "    if tariff == 'smart':\n",
    "        limit = 50\n",
    "        rub_per_message = 3\n",
    "        if message <= limit:\n",
    "            return 0\n",
    "        if message > limit:\n",
    "            return (message - limit) * rub_per_message\n",
    "    if tariff == 'ultra':\n",
    "        limit = 1000\n",
    "        rub_per_message = 1\n",
    "        if message <= limit:\n",
    "            return 0\n",
    "        if message > limit:\n",
    "            return (message - 1000) * rub_per_message1\n",
    "\n",
    "pivot_messages['messages_income'] = pivot_messages.apply(messages_income, axis=1)\n",
    "pivot_messages = pivot_messages.drop(columns=['tariff_name'], axis=1)\n",
    "\n",
    "pivot_messages.head(10)"
   ]
  },
  {
   "cell_type": "markdown",
   "metadata": {},
   "source": [
    "### Обработка данных об интернет-трафике"
   ]
  },
  {
   "cell_type": "markdown",
   "metadata": {},
   "source": [
    "А теперь займемся интернетом, действия аналогичны, разве что переведем данные из мегабайтов и гигабайты, так будет удобнее округлять в дальнейшем (по условиям компании, интернет-трафик округляется в большую сторону)."
   ]
  },
  {
   "cell_type": "code",
   "execution_count": 19,
   "metadata": {},
   "outputs": [],
   "source": [
    "internet = internet.drop(columns='Unnamed: 0', axis=1) "
   ]
  },
  {
   "cell_type": "code",
   "execution_count": 20,
   "metadata": {},
   "outputs": [],
   "source": [
    "pivot_internet = (internet\n",
    "                  .pivot_table(index=['user_id', 'month'], values='mb_used', aggfunc=['sum'])\n",
    "                  .reset_index()\n",
    "                 )\n",
    "pivot_internet.columns = ['user_id', 'month', 'gb_sum']\n",
    "pivot_internet['gb_sum'] = (pivot_internet['gb_sum'] / 1024).apply(math.ceil)\n",
    "pivot_internet = pivot_internet.merge(tariff_dict, on='user_id')\n",
    "\n",
    "# сводоная таблица, переименовали столбца, переводим мб в гб"
   ]
  },
  {
   "cell_type": "code",
   "execution_count": 21,
   "metadata": {},
   "outputs": [
    {
     "data": {
      "text/html": [
       "<div>\n",
       "<style scoped>\n",
       "    .dataframe tbody tr th:only-of-type {\n",
       "        vertical-align: middle;\n",
       "    }\n",
       "\n",
       "    .dataframe tbody tr th {\n",
       "        vertical-align: top;\n",
       "    }\n",
       "\n",
       "    .dataframe thead th {\n",
       "        text-align: right;\n",
       "    }\n",
       "</style>\n",
       "<table border=\"1\" class=\"dataframe\">\n",
       "  <thead>\n",
       "    <tr style=\"text-align: right;\">\n",
       "      <th></th>\n",
       "      <th>user_id</th>\n",
       "      <th>month</th>\n",
       "      <th>gb_sum</th>\n",
       "      <th>internet_income</th>\n",
       "    </tr>\n",
       "  </thead>\n",
       "  <tbody>\n",
       "    <tr>\n",
       "      <th>0</th>\n",
       "      <td>1000</td>\n",
       "      <td>5</td>\n",
       "      <td>3</td>\n",
       "      <td>0.0</td>\n",
       "    </tr>\n",
       "    <tr>\n",
       "      <th>1</th>\n",
       "      <td>1000</td>\n",
       "      <td>6</td>\n",
       "      <td>23</td>\n",
       "      <td>0.0</td>\n",
       "    </tr>\n",
       "    <tr>\n",
       "      <th>2</th>\n",
       "      <td>1000</td>\n",
       "      <td>7</td>\n",
       "      <td>14</td>\n",
       "      <td>0.0</td>\n",
       "    </tr>\n",
       "    <tr>\n",
       "      <th>3</th>\n",
       "      <td>1000</td>\n",
       "      <td>8</td>\n",
       "      <td>14</td>\n",
       "      <td>0.0</td>\n",
       "    </tr>\n",
       "    <tr>\n",
       "      <th>4</th>\n",
       "      <td>1000</td>\n",
       "      <td>9</td>\n",
       "      <td>15</td>\n",
       "      <td>0.0</td>\n",
       "    </tr>\n",
       "    <tr>\n",
       "      <th>5</th>\n",
       "      <td>1000</td>\n",
       "      <td>10</td>\n",
       "      <td>15</td>\n",
       "      <td>0.0</td>\n",
       "    </tr>\n",
       "    <tr>\n",
       "      <th>6</th>\n",
       "      <td>1000</td>\n",
       "      <td>11</td>\n",
       "      <td>15</td>\n",
       "      <td>0.0</td>\n",
       "    </tr>\n",
       "    <tr>\n",
       "      <th>7</th>\n",
       "      <td>1000</td>\n",
       "      <td>12</td>\n",
       "      <td>10</td>\n",
       "      <td>0.0</td>\n",
       "    </tr>\n",
       "    <tr>\n",
       "      <th>8</th>\n",
       "      <td>1001</td>\n",
       "      <td>11</td>\n",
       "      <td>18</td>\n",
       "      <td>600.0</td>\n",
       "    </tr>\n",
       "    <tr>\n",
       "      <th>9</th>\n",
       "      <td>1001</td>\n",
       "      <td>12</td>\n",
       "      <td>14</td>\n",
       "      <td>0.0</td>\n",
       "    </tr>\n",
       "  </tbody>\n",
       "</table>\n",
       "</div>"
      ],
      "text/plain": [
       "   user_id  month  gb_sum  internet_income\n",
       "0     1000      5       3              0.0\n",
       "1     1000      6      23              0.0\n",
       "2     1000      7      14              0.0\n",
       "3     1000      8      14              0.0\n",
       "4     1000      9      15              0.0\n",
       "5     1000     10      15              0.0\n",
       "6     1000     11      15              0.0\n",
       "7     1000     12      10              0.0\n",
       "8     1001     11      18            600.0\n",
       "9     1001     12      14              0.0"
      ]
     },
     "execution_count": 21,
     "metadata": {},
     "output_type": "execute_result"
    }
   ],
   "source": [
    "def internet_income(pivot_internet):        # обозначенный лимит каждого тарифа так же переводим в гб, для удобства расчетов\n",
    "    gb_spent = pivot_internet['gb_sum']     # рассчитываем превышение лимита и выручку интернета пользователей\n",
    "    tariff = pivot_internet['tariff_name']\n",
    "    if tariff == 'smart':\n",
    "        limit = 15360 / 1024\n",
    "        rub_per_gb = 200\n",
    "        if gb_spent <= limit:\n",
    "            return 0\n",
    "        if gb_spent > limit:\n",
    "            return (gb_spent - limit) * rub_per_gb\n",
    "    if tariff == 'ultra':\n",
    "        limit = 30720 / 1024\n",
    "        rub_per_gb = 150\n",
    "        if gb_spent <= limit:\n",
    "            return 0\n",
    "        if gb_spent > limit:\n",
    "            return (gb_spent - limit) * rub_per_gb\n",
    "\n",
    "pivot_internet ['internet_income'] = pivot_internet.apply(internet_income, axis=1)\n",
    "pivot_internet = pivot_internet.drop(columns=['tariff_name'], axis=1)\n",
    "\n",
    "pivot_internet.head(10)"
   ]
  },
  {
   "cell_type": "markdown",
   "metadata": {},
   "source": [
    "### Объединение полученных данных и расчет общей выручки в месяц каждого пользователя"
   ]
  },
  {
   "cell_type": "markdown",
   "metadata": {},
   "source": [
    "Пытаемся свести расчеты в одну таблицу..."
   ]
  },
  {
   "cell_type": "code",
   "execution_count": 22,
   "metadata": {
    "scrolled": false
   },
   "outputs": [
    {
     "name": "stdout",
     "output_type": "stream",
     "text": [
      "<class 'pandas.core.frame.DataFrame'>\n",
      "Int64Index: 3216 entries, 0 to 3215\n",
      "Data columns (total 23 columns):\n",
      " #   Column                 Non-Null Count  Dtype         \n",
      "---  ------                 --------------  -----         \n",
      " 0   user_id                3216 non-null   int64         \n",
      " 1   month                  3214 non-null   float64       \n",
      " 2   calls_count            3174 non-null   float64       \n",
      " 3   min_sum                3174 non-null   float64       \n",
      " 4   calls_income           3174 non-null   float64       \n",
      " 5   gb_sum                 3203 non-null   float64       \n",
      " 6   internet_income        3203 non-null   float64       \n",
      " 7   messages_count         2717 non-null   float64       \n",
      " 8   messages_income        2717 non-null   float64       \n",
      " 9   age                    3216 non-null   int64         \n",
      " 10  city                   3216 non-null   object        \n",
      " 11  first_name             3216 non-null   object        \n",
      " 12  last_name              3216 non-null   object        \n",
      " 13  tariff_name            3216 non-null   object        \n",
      " 14  user_reg_date          3216 non-null   datetime64[ns]\n",
      " 15  user_churn_date        189 non-null    datetime64[ns]\n",
      " 16  messages_included      3216 non-null   int64         \n",
      " 17  mb_per_month_included  3216 non-null   int64         \n",
      " 18  minutes_included       3216 non-null   int64         \n",
      " 19  rub_monthly_fee        3216 non-null   int64         \n",
      " 20  rub_per_gb             3216 non-null   int64         \n",
      " 21  rub_per_message        3216 non-null   int64         \n",
      " 22  rub_per_minute         3216 non-null   int64         \n",
      "dtypes: datetime64[ns](2), float64(8), int64(9), object(4)\n",
      "memory usage: 603.0+ KB\n"
     ]
    }
   ],
   "source": [
    "users = users.merge(tariffs, on='tariff_name', how='left') # сначала сцепляю юзером с их тарифом\n",
    "\n",
    "users_income = (pivot_calls\n",
    "               .merge(pivot_internet, on=['user_id', 'month'], how='outer') # звонки и интернет\n",
    "               .merge(pivot_messages, on=['user_id', 'month'], how='outer') # плюс сообщения\n",
    "               .merge(users, on=['user_id'], how='outer')\n",
    "              )\n",
    "\n",
    "# общая сводная таблица из сводных таблиц: сначала соединяю их друг с другом, \n",
    "# в конце добавляю информацию о самих пользователях\n",
    "\n",
    "users_income.info() # смотрю общую сводку"
   ]
  },
  {
   "cell_type": "code",
   "execution_count": 23,
   "metadata": {},
   "outputs": [],
   "source": [
    "# пропуски в столбцах, необходимых для расчетов, заполняю нулями, \n",
    "users_income[['rub_monthly_fee', 'internet_income', 'messages_income', 'calls_income']] = (\n",
    "    users_income[['rub_monthly_fee', 'internet_income', 'messages_income', 'calls_income']].fillna(0)\n",
    ")\n",
    "\n",
    "\n",
    "users_income['total_income'] = (users_income['rub_monthly_fee'] + users_income['internet_income'] \n",
    "                                + users_income['messages_income'] + users_income['calls_income'])\n",
    "# цена за тариф за месяц на каждого пользователя"
   ]
  },
  {
   "cell_type": "markdown",
   "metadata": {},
   "source": [
    "## Анализ данных"
   ]
  },
  {
   "cell_type": "markdown",
   "metadata": {},
   "source": [
    "Разделим датафрейм на две части по разным тарифам смарт и ультра."
   ]
  },
  {
   "cell_type": "code",
   "execution_count": 24,
   "metadata": {},
   "outputs": [],
   "source": [
    "df_ultra = users_income.query('tariff_name == \"ultra\"')\n",
    "\n",
    "df_smart = users_income.query('tariff_name == \"smart\"')"
   ]
  },
  {
   "cell_type": "markdown",
   "metadata": {},
   "source": [
    "### Анализ данных тарифа \"Смарт\""
   ]
  },
  {
   "cell_type": "markdown",
   "metadata": {},
   "source": [
    "Рассмотрим сначала тариф смарт: сколько требуется в среднем на каждого пользователя минут разговора, сообщений и гб в месяц. Построим гистограммы, рассчитаем дисперсию и среднее отклонение."
   ]
  },
  {
   "cell_type": "code",
   "execution_count": 25,
   "metadata": {},
   "outputs": [],
   "source": [
    "df_smart_pivot = df_smart.pivot_table(index='user_id', values=['min_sum', 'messages_count', 'gb_sum'])\n",
    "# сводная таблица со средними показателями в месяц тарифа Смарт"
   ]
  },
  {
   "cell_type": "code",
   "execution_count": 26,
   "metadata": {},
   "outputs": [],
   "source": [
    "def tariff_describe(column, tariff, variable):   \n",
    "    print(column.hist(bins=30))\n",
    "    var = np.var(column, ddof=1)\n",
    "    std = np.std(column, ddof=1)\n",
    "    mean = column.mean()\n",
    "    print(f'Тариф {tariff}, исследуемая переменная: {variable}')\n",
    "    print(f'Дисперсия равна: {var}')\n",
    "    print(f'Среднее отклонение равно: {std}')\n",
    "    print(f'Среднее количество равно: {mean}')\n",
    "    \n",
    "# функция для исследования каждого показателя"
   ]
  },
  {
   "cell_type": "code",
   "execution_count": 27,
   "metadata": {
    "scrolled": false
   },
   "outputs": [
    {
     "name": "stdout",
     "output_type": "stream",
     "text": [
      "AxesSubplot(0.125,0.125;0.775x0.755)\n",
      "Тариф \"Смарт\", исследуемая переменная: минуты разговора\n",
      "Дисперсия равна: 20584.704490790955\n",
      "Среднее отклонение равно: 143.47370661828933\n",
      "Среднее количество равно: 420.8401470703767\n"
     ]
    },
    {
     "data": {
      "image/png": "[encoded data removed]",
      "text/plain": [
       "<Figure size 432x288 with 1 Axes>"
      ]
     },
     "metadata": {
      "needs_background": "light"
     },
     "output_type": "display_data"
    }
   ],
   "source": [
    "tariff_describe(df_smart_pivot['min_sum'], '\"Смарт\"', 'минуты разговора') # минуты разговора, тариф Смарт"
   ]
  },
  {
   "cell_type": "markdown",
   "metadata": {},
   "source": [
    "Сгруппировав данные по пользователям, выходит, что в месяц в среднем тратится от 250 до 500 минут разговора (что является границей лимита), распределение нормальное, а так же есть несколько юзеров, которые в среднем превышают свой лимит до 800 минут в месяц."
   ]
  },
  {
   "cell_type": "code",
   "execution_count": 28,
   "metadata": {},
   "outputs": [
    {
     "name": "stdout",
     "output_type": "stream",
     "text": [
      "AxesSubplot(0.125,0.125;0.775x0.755)\n",
      "Тариф \"Смарт\", исследуемая переменная: сообщения\n",
      "Дисперсия равна: 617.5094965861844\n",
      "Среднее отклонение равно: 24.849738360517687\n",
      "Среднее количество равно: 37.57560563057252\n"
     ]
    },
    {
     "data": {
      "image/png": "[encoded data removed]",
      "text/plain": [
       "<Figure size 432x288 with 1 Axes>"
      ]
     },
     "metadata": {
      "needs_background": "light"
     },
     "output_type": "display_data"
    }
   ],
   "source": [
    "tariff_describe(df_smart_pivot['messages_count'], '\"Смарт\"', 'сообщения') # сообщения, тариф Смарт"
   ]
  },
  {
   "cell_type": "markdown",
   "metadata": {},
   "source": [
    "Большинство пользователей предпочитает не использовать сообщения, зависимость тут явно убывающая, похожа на распределение Пуассона. Посмотрим что с интернет-трафиком, по правде сейчас вообще мало кто предпочитает смс-сервис."
   ]
  },
  {
   "cell_type": "code",
   "execution_count": 29,
   "metadata": {},
   "outputs": [
    {
     "name": "stdout",
     "output_type": "stream",
     "text": [
      "AxesSubplot(0.125,0.125;0.775x0.755)\n",
      "Тариф \"Смарт\", исследуемая переменная: интернет-трафик\n",
      "Дисперсия равна: 12.241758342834496\n",
      "Среднее отклонение равно: 3.4988224223064672\n",
      "Среднее количество равно: 16.318233147804577\n"
     ]
    },
    {
     "data": {
      "image/png": "[encoded data removed]",
      "text/plain": [
       "<Figure size 432x288 with 1 Axes>"
      ]
     },
     "metadata": {
      "needs_background": "light"
     },
     "output_type": "display_data"
    }
   ],
   "source": [
    "tariff_describe(df_smart_pivot['gb_sum'], '\"Смарт\"', 'интернет-трафик' ) # интернет-трафик, тариф Смарт"
   ]
  },
  {
   "cell_type": "markdown",
   "metadata": {},
   "source": [
    "При лимите в 15 гб в месяц интернета пользователям явно не хватает, больше половины превышает ежемесячный лимит вплоть до 38 гб (а с учетом цены за один гигабайт в месяц выходит кругленькая сумма), распределение гистограммы визуально близко к нормальному."
   ]
  },
  {
   "cell_type": "markdown",
   "metadata": {},
   "source": [
    "### Анализ данных тарифа \"Ультра\""
   ]
  },
  {
   "cell_type": "markdown",
   "metadata": {},
   "source": [
    "Перейдем к тарифу Ультра: расчеты будут аналогичными."
   ]
  },
  {
   "cell_type": "code",
   "execution_count": 30,
   "metadata": {},
   "outputs": [],
   "source": [
    "df_ultra_pivot = df_ultra.pivot_table(index='user_id', values=['min_sum', 'messages_count', 'gb_sum'])\n",
    "# сводная таблица по тарифу Ультра"
   ]
  },
  {
   "cell_type": "code",
   "execution_count": 31,
   "metadata": {
    "scrolled": false
   },
   "outputs": [
    {
     "name": "stdout",
     "output_type": "stream",
     "text": [
      "AxesSubplot(0.125,0.125;0.775x0.755)\n",
      "Тариф \"Ультра\", исследуемая переменная: минуты разговора\n",
      "Дисперсия равна: 72005.47728889303\n",
      "Среднее отклонение равно: 268.3383634311222\n",
      "Среднее количество равно: 546.6854415786235\n"
     ]
    },
    {
     "data": {
      "image/png": "[encoded data removed]",
      "text/plain": [
       "<Figure size 432x288 with 1 Axes>"
      ]
     },
     "metadata": {
      "needs_background": "light"
     },
     "output_type": "display_data"
    }
   ],
   "source": [
    "tariff_describe(df_ultra_pivot['min_sum'], '\"Ультра\"', 'минуты разговора') # минуты разговора, тариф Ультра"
   ]
  },
  {
   "cell_type": "markdown",
   "metadata": {},
   "source": [
    "Среднее количество затраченных минут в этом тарифе почти на 150 больше, чем в тарифе Смарт, однако отклонение больше и разброс, соответственно, выше. По правилу трех сигм диапазон значений,  которые могут входить в исследуемую переменную, равен 1309 минут. Судя по гистограмме, лимита в 3000 минут пользователям более чем достаточно."
   ]
  },
  {
   "cell_type": "code",
   "execution_count": 32,
   "metadata": {},
   "outputs": [
    {
     "name": "stdout",
     "output_type": "stream",
     "text": [
      "AxesSubplot(0.125,0.125;0.775x0.755)\n",
      "Тариф \"Ультра\", исследуемая переменная: сообщения\n",
      "Дисперсия равна: 1882.7452175564713\n",
      "Среднее отклонение равно: 43.390612090133864\n",
      "Среднее количество равно: 64.55580197132616\n"
     ]
    },
    {
     "data": {
      "image/png": "[encoded data removed]",
      "text/plain": [
       "<Figure size 432x288 with 1 Axes>"
      ]
     },
     "metadata": {
      "needs_background": "light"
     },
     "output_type": "display_data"
    }
   ],
   "source": [
    "tariff_describe(df_ultra_pivot['messages_count'], '\"Ультра\"', 'сообщения') # сообщения, тариф Ультра"
   ]
  },
  {
   "cell_type": "markdown",
   "metadata": {},
   "source": [
    "Сообщения не любит никто: подавляющее большинство их не тратит вообще, в среднем в месяц отправляется 64 смски."
   ]
  },
  {
   "cell_type": "code",
   "execution_count": 33,
   "metadata": {
    "scrolled": false
   },
   "outputs": [
    {
     "name": "stdout",
     "output_type": "stream",
     "text": [
      "AxesSubplot(0.125,0.125;0.775x0.755)\n",
      "Тариф \"Ультра\", исследуемая переменная: интернет-трафик\n",
      "Дисперсия равна: 63.530183645406744\n",
      "Среднее отклонение равно: 7.970582390604011\n",
      "Среднее количество равно: 19.74082368878287\n"
     ]
    },
    {
     "data": {
      "image/png": "[encoded data removed]",
      "text/plain": [
       "<Figure size 432x288 with 1 Axes>"
      ]
     },
     "metadata": {
      "needs_background": "light"
     },
     "output_type": "display_data"
    }
   ],
   "source": [
    "tariff_describe(df_ultra_pivot['gb_sum'], '\"Ультра\"', 'интернет-трафик') # интернет-трафик, тариф Ультра"
   ]
  },
  {
   "cell_type": "markdown",
   "metadata": {},
   "source": [
    "Лимит у пользователей Ультра - 30 гигабайт, в среднем уходит 19 со средним отклонением 8 гб, в этом тарифе за интернет почти не переплачивают. Распределения этого тарифа аналогичны распределению предыдущего тарифа."
   ]
  },
  {
   "cell_type": "markdown",
   "metadata": {},
   "source": [
    "## Проверка гипотез"
   ]
  },
  {
   "cell_type": "markdown",
   "metadata": {},
   "source": [
    "### Средние выручки пользователей тарифов \"Смарт\" и \"Ультра\" различаются"
   ]
  },
  {
   "cell_type": "markdown",
   "metadata": {},
   "source": [
    "Итак, нам нужно ответить в первую очередь на основной вопрос проекта - какой тариф приносит больше денег? Мы сделали много предварительных расчетов, рассчитали, сколько платит пользователь каждого тарифа в месяц, разделили данные на две небольшие выборки и сейчас можем провести статистический тест двух генеральных совокупностей по их выборкам соотвественно. \n",
    "\n",
    "Для начала сформулируем нулевую гипотезу так, чтобы она содержала в себе знак равенства, а именно: \n",
    "\n",
    "**H₀ - средние выручки пользователей тарифов \"Смарт\" и \"Ультра\" равны.**\n",
    "\n",
    "На основе нулевой гипотезы сформулируем альтернативную:\n",
    "\n",
    "**H₁ - средние выручки пользователей тарифов «Ультра» и «Смарт» различаются.**\n",
    "\n",
    "Гипотеза двусторонняя, так как отклонение может быть и в большую, и в меньшую сторону.\n",
    "\n",
    "Проведем t-тест, выборки отличаются по размерам и дисперсии, поэтому параметр equal_var будет False."
   ]
  },
  {
   "cell_type": "code",
   "execution_count": 34,
   "metadata": {},
   "outputs": [],
   "source": [
    "df_ultra_users = df_ultra.pivot_table(index='user_id', values='total_income')\n",
    "df_smart_users = df_smart.pivot_table(index='user_id', values='total_income')\n",
    "\n",
    "# Так как в датасетах у меня собраны данные о каждом месяце оплаты пользователей, \n",
    "# сначала я делаю сводную таблицу по средней выручке с каждого юзера"
   ]
  },
  {
   "cell_type": "code",
   "execution_count": 35,
   "metadata": {
    "scrolled": false
   },
   "outputs": [
    {
     "name": "stdout",
     "output_type": "stream",
     "text": [
      "p-значение: [7.2487242e-60]\n",
      "Отвергаем нулевую гипотезу\n",
      "Средняя выручка пользователей тарифа \"Смарт\": 1322.1947485641924\n",
      "Средняя выручка пользователей тарифа \"Ультра\": 2085.548788459863\n"
     ]
    }
   ],
   "source": [
    "alpha = .01 # критический уровень статистической значимости ставлю 1%\n",
    "\n",
    "results = st.ttest_ind(\n",
    "    df_smart_users, \n",
    "    df_ultra_users,\n",
    "    equal_var=False)\n",
    "\n",
    "print('p-значение:', results.pvalue)\n",
    "\n",
    "if results.pvalue < alpha:\n",
    "    print(\"Отвергаем нулевую гипотезу\")\n",
    "else:\n",
    "    print(\"Не получилось отвергнуть нулевую гипотезу\") \n",
    "\n",
    "print('Средняя выручка пользователей тарифа \"Смарт\":', df_smart_users['total_income'].mean())\n",
    "print('Средняя выручка пользователей тарифа \"Ультра\":', df_ultra_users['total_income'].mean())"
   ]
  },
  {
   "cell_type": "markdown",
   "metadata": {},
   "source": [
    "Полученное значение p-value дает нам достаточно оснований для того, чтобы отвергнуть нулевую гипотезу о равенстве средних выручек двух тарифов, следовательно, они действительно различаются. Если судить по средним показателям, а так же об изначальных данных (напомню, ежемесячная оплата тарифа Ультра - 1950 рублей, а тарифа Смарт - 550 рублей, разница огромна; так же стоит упомянуть наши предыдущие гистограммы, пользователям тарифа Ультра преимущественно хватает установленных лимитов на звонки, смс и интернет), *можно прийти к выводу, что тариф Ультра для компании приносит больше прибыли, и вкладываться нужно именно в него.*"
   ]
  },
  {
   "cell_type": "markdown",
   "metadata": {},
   "source": [
    "### Средняя выручка пользователей из Москвы отличается от выручки пользователей из других регионов"
   ]
  },
  {
   "cell_type": "markdown",
   "metadata": {},
   "source": [
    "Проверим вторую гипотезу. Помня о том, что нулевая гипотеза должна содержать в себе равенство, сформулируем ее как:\n",
    "\n",
    "**H₀ - средняя выручка пользователей из Москвы и из других регонов равны.**\n",
    "\n",
    "Следовательно, альтернативная гипотеза:\n",
    "\n",
    "**H₁ - средняя выручка пользователей из Москвы отличается от выручки пользователей из других регионов.**\n",
    "\n",
    "Значение альфа оставим без изменений."
   ]
  },
  {
   "cell_type": "code",
   "execution_count": 36,
   "metadata": {},
   "outputs": [],
   "source": [
    "users_moscow = (users_income\n",
    "                .query('city == \"Москва\"')\n",
    "                .pivot_table(index='user_id', values='total_income')\n",
    "               )\n",
    "users_other = (users_income\n",
    "               .query('city != \"Москва\"')\n",
    "               .pivot_table(index='user_id', values='total_income')\n",
    "              )\n",
    "\n",
    "# делю данные на две выборки - пользователи с Москвы и из других городов"
   ]
  },
  {
   "cell_type": "code",
   "execution_count": 37,
   "metadata": {
    "scrolled": false
   },
   "outputs": [
    {
     "name": "stdout",
     "output_type": "stream",
     "text": [
      "p-значение: [0.3727351]\n",
      "Не получилось отвергнуть нулевую гипотезу\n",
      "Средняя выручка пользователей из Москвы: 1498.465851152215\n",
      "Средняя выручка пользователей из других городов: 1562.3167255922242\n"
     ]
    }
   ],
   "source": [
    "alpha = .01 # критический уровень статистической значимости ставлю 1%\n",
    "\n",
    "results = st.ttest_ind(\n",
    "    users_moscow, \n",
    "    users_other)\n",
    "\n",
    "print('p-значение:', results.pvalue)\n",
    "\n",
    "if results.pvalue < alpha:\n",
    "    print(\"Отвергаем нулевую гипотезу\")\n",
    "else:\n",
    "    print(\"Не получилось отвергнуть нулевую гипотезу\") \n",
    "\n",
    "print('Средняя выручка пользователей из Москвы:', users_moscow['total_income'].mean())\n",
    "print('Средняя выручка пользователей из других городов:', users_other['total_income'].mean())"
   ]
  },
  {
   "cell_type": "markdown",
   "metadata": {},
   "source": [
    "При условии, что нулевая гипотеза верна, вероятность получить исследумый результат будет равна 37,2%. При критическом пороге статистической значимости в 1% нулевая гипотеза не отвергается. Можно предположить, что выручка пользователей не зависит от их города и местоположения."
   ]
  },
  {
   "cell_type": "markdown",
   "metadata": {},
   "source": [
    "## Выводы"
   ]
  },
  {
   "cell_type": "markdown",
   "metadata": {},
   "source": [
    "Итак, мы провели исследование и пришли к следующим выводам.\n",
    "* У нас была выборка пользователей компании \"Мегалайн\" за 2018 год. Мы изучили данные, провели предобработку, а затем провели расчеты по каждому показателю и рассчитали, сколько каждый пользователь каждый месяц платит за свой тариф в зависимости от лимитов. \n",
    "* Исследовательский анализ показал, что потребности пользователей обоих тарифов примерно равны, распределения затрат минут разговора и интернет-трафика - нормальные, сообщений - по типу Пуассона. При равных затратах и разных лимитах заметно, что пользователи тарифа \"Смарт\" чаще доплачивают за минуты и гигабайты, а пользователям \"Ультра\" вполне хватает уже установленных лимитов. Разве что \"Ультра\" дороже в три с половиной раза тарифа \"Смарт\". \n",
    "* Нулевая гипотеза о равенстве средней выручки пользователей обоих тарифов была отвергнута при проведении статистического t-теста. На основе предоставленных выборок мы сделали предположение о прибыльности тарифа \"Ультра\", поэтому при проведение дальнейших рекламных компаний коммерческому департаменту будет предложено акцентировать внимание именно на этом тарифе.\n",
    "* Средняя выручка пользователей из Москвы не отличается от средней выручки пользователей из других регионов - при полученном p-значение вероятность получить такие результаты случайно слишком велика, чтобы отвергнуть нулевую гипотезу."
   ]
  }
 ],
 "metadata": {
  "ExecuteTimeLog": [
   {
    "duration": 756,
    "start_time": "2022-04-26T16:13:43.610Z"
   },
   {
    "duration": 336,
    "start_time": "2022-04-26T16:15:18.410Z"
   },
   {
    "duration": 357,
    "start_time": "2022-04-26T16:15:23.571Z"
   },
   {
    "duration": 17,
    "start_time": "2022-04-26T16:15:33.014Z"
   },
   {
    "duration": 12,
    "start_time": "2022-04-26T16:16:24.922Z"
   },
   {
    "duration": 8,
    "start_time": "2022-04-26T16:17:19.622Z"
   },
   {
    "duration": 7,
    "start_time": "2022-04-26T16:17:35.950Z"
   },
   {
    "duration": 12,
    "start_time": "2022-04-26T16:17:49.490Z"
   },
   {
    "duration": 31,
    "start_time": "2022-04-26T17:40:04.548Z"
   },
   {
    "duration": 30,
    "start_time": "2022-04-26T17:40:46.840Z"
   },
   {
    "duration": 29,
    "start_time": "2022-04-26T17:41:02.516Z"
   },
   {
    "duration": 24,
    "start_time": "2022-04-26T17:41:21.460Z"
   },
   {
    "duration": 24,
    "start_time": "2022-04-26T17:41:30.372Z"
   },
   {
    "duration": 18,
    "start_time": "2022-04-26T17:41:41.388Z"
   },
   {
    "duration": 19,
    "start_time": "2022-04-26T17:41:57.372Z"
   },
   {
    "duration": 48,
    "start_time": "2022-04-26T17:43:00.148Z"
   },
   {
    "duration": 47,
    "start_time": "2022-04-26T17:43:10.640Z"
   },
   {
    "duration": 45,
    "start_time": "2022-04-26T17:43:23.980Z"
   },
   {
    "duration": 47,
    "start_time": "2022-04-26T17:43:33.392Z"
   },
   {
    "duration": 44,
    "start_time": "2022-04-26T17:43:38.848Z"
   },
   {
    "duration": 48,
    "start_time": "2022-04-26T17:43:46.025Z"
   },
   {
    "duration": 47,
    "start_time": "2022-04-26T17:43:54.428Z"
   },
   {
    "duration": 90,
    "start_time": "2022-04-26T17:45:03.654Z"
   },
   {
    "duration": 33,
    "start_time": "2022-04-26T17:45:16.332Z"
   },
   {
    "duration": 79,
    "start_time": "2022-04-26T17:45:23.860Z"
   },
   {
    "duration": 8,
    "start_time": "2022-04-26T17:45:26.796Z"
   },
   {
    "duration": 34,
    "start_time": "2022-04-26T17:45:31.436Z"
   },
   {
    "duration": 47,
    "start_time": "2022-04-26T17:45:39.340Z"
   },
   {
    "duration": 47,
    "start_time": "2022-04-26T17:47:07.072Z"
   },
   {
    "duration": 47,
    "start_time": "2022-04-26T17:47:13.400Z"
   },
   {
    "duration": 8,
    "start_time": "2022-04-26T17:47:24.080Z"
   },
   {
    "duration": 28,
    "start_time": "2022-04-26T17:47:38.717Z"
   },
   {
    "duration": 24,
    "start_time": "2022-04-26T17:47:47.336Z"
   },
   {
    "duration": 636,
    "start_time": "2022-04-26T17:48:01.748Z"
   },
   {
    "duration": 36,
    "start_time": "2022-04-26T17:49:00.505Z"
   },
   {
    "duration": 24,
    "start_time": "2022-04-26T17:49:30.912Z"
   },
   {
    "duration": 64,
    "start_time": "2022-04-26T17:50:04.172Z"
   },
   {
    "duration": 230,
    "start_time": "2022-04-26T17:50:30.584Z"
   },
   {
    "duration": 192,
    "start_time": "2022-04-26T17:50:47.345Z"
   },
   {
    "duration": 58,
    "start_time": "2022-04-26T17:50:59.848Z"
   },
   {
    "duration": 14,
    "start_time": "2022-04-26T17:51:32.440Z"
   },
   {
    "duration": 27,
    "start_time": "2022-04-26T17:51:57.128Z"
   },
   {
    "duration": 28,
    "start_time": "2022-04-26T17:54:22.184Z"
   },
   {
    "duration": 24,
    "start_time": "2022-04-26T17:54:55.744Z"
   },
   {
    "duration": 12,
    "start_time": "2022-04-26T17:55:06.992Z"
   },
   {
    "duration": 21,
    "start_time": "2022-04-26T17:55:36.592Z"
   },
   {
    "duration": 84,
    "start_time": "2022-04-26T17:57:02.172Z"
   },
   {
    "duration": 6,
    "start_time": "2022-04-26T17:57:39.860Z"
   },
   {
    "duration": 56,
    "start_time": "2022-04-27T16:42:42.966Z"
   },
   {
    "duration": 764,
    "start_time": "2022-04-27T16:42:47.219Z"
   },
   {
    "duration": 2046,
    "start_time": "2022-04-27T16:42:47.985Z"
   },
   {
    "duration": 43,
    "start_time": "2022-04-27T16:42:50.033Z"
   },
   {
    "duration": 27,
    "start_time": "2022-04-27T16:42:50.078Z"
   },
   {
    "duration": 50,
    "start_time": "2022-04-27T16:42:50.106Z"
   },
   {
    "duration": 28,
    "start_time": "2022-04-27T16:42:50.159Z"
   },
   {
    "duration": 803,
    "start_time": "2022-04-27T16:42:50.189Z"
   },
   {
    "duration": 19,
    "start_time": "2022-04-27T16:42:50.993Z"
   },
   {
    "duration": 8,
    "start_time": "2022-04-27T16:42:51.013Z"
   },
   {
    "duration": 370,
    "start_time": "2022-04-27T16:42:51.023Z"
   },
   {
    "duration": 13106,
    "start_time": "2022-04-27T16:43:01.493Z"
   },
   {
    "duration": 11,
    "start_time": "2022-04-27T16:43:43.665Z"
   },
   {
    "duration": 36,
    "start_time": "2022-04-27T16:44:30.600Z"
   },
   {
    "duration": 42,
    "start_time": "2022-04-27T16:44:35.825Z"
   },
   {
    "duration": 53,
    "start_time": "2022-04-27T16:44:42.561Z"
   },
   {
    "duration": 1092,
    "start_time": "2022-04-27T16:46:53.933Z"
   },
   {
    "duration": 0,
    "start_time": "2022-04-27T16:46:55.028Z"
   },
   {
    "duration": 973,
    "start_time": "2022-04-27T16:49:24.805Z"
   },
   {
    "duration": 61,
    "start_time": "2022-04-27T16:50:21.932Z"
   },
   {
    "duration": 12,
    "start_time": "2022-04-27T16:50:31.059Z"
   },
   {
    "duration": 28,
    "start_time": "2022-04-27T16:51:12.469Z"
   },
   {
    "duration": 69,
    "start_time": "2022-04-27T16:54:19.580Z"
   },
   {
    "duration": 76,
    "start_time": "2022-04-27T16:54:33.689Z"
   },
   {
    "duration": 75,
    "start_time": "2022-04-27T16:55:15.957Z"
   },
   {
    "duration": 78,
    "start_time": "2022-04-27T16:55:18.592Z"
   },
   {
    "duration": 73,
    "start_time": "2022-04-27T16:55:27.701Z"
   },
   {
    "duration": 75,
    "start_time": "2022-04-27T16:55:36.697Z"
   },
   {
    "duration": 1627,
    "start_time": "2022-04-27T16:56:50.801Z"
   },
   {
    "duration": 3,
    "start_time": "2022-04-27T16:57:17.156Z"
   },
   {
    "duration": 372,
    "start_time": "2022-04-27T16:57:17.164Z"
   },
   {
    "duration": 29,
    "start_time": "2022-04-27T16:57:17.538Z"
   },
   {
    "duration": 22,
    "start_time": "2022-04-27T16:57:17.569Z"
   },
   {
    "duration": 26,
    "start_time": "2022-04-27T16:57:17.593Z"
   },
   {
    "duration": 47,
    "start_time": "2022-04-27T16:57:17.621Z"
   },
   {
    "duration": 23,
    "start_time": "2022-04-27T16:57:17.669Z"
   },
   {
    "duration": 19,
    "start_time": "2022-04-27T16:57:17.694Z"
   },
   {
    "duration": 41,
    "start_time": "2022-04-27T16:57:17.714Z"
   },
   {
    "duration": 75,
    "start_time": "2022-04-27T16:57:17.757Z"
   },
   {
    "duration": 1292,
    "start_time": "2022-04-27T16:57:28.225Z"
   },
   {
    "duration": 3,
    "start_time": "2022-04-27T16:57:42.161Z"
   },
   {
    "duration": 373,
    "start_time": "2022-04-27T16:57:42.166Z"
   },
   {
    "duration": 30,
    "start_time": "2022-04-27T16:57:42.541Z"
   },
   {
    "duration": 23,
    "start_time": "2022-04-27T16:57:42.574Z"
   },
   {
    "duration": 25,
    "start_time": "2022-04-27T16:57:42.598Z"
   },
   {
    "duration": 25,
    "start_time": "2022-04-27T16:57:42.647Z"
   },
   {
    "duration": 22,
    "start_time": "2022-04-27T16:57:42.673Z"
   },
   {
    "duration": 18,
    "start_time": "2022-04-27T16:57:42.696Z"
   },
   {
    "duration": 36,
    "start_time": "2022-04-27T16:57:42.716Z"
   },
   {
    "duration": 71,
    "start_time": "2022-04-27T16:57:42.754Z"
   },
   {
    "duration": 9,
    "start_time": "2022-04-27T16:57:51.461Z"
   },
   {
    "duration": 1243,
    "start_time": "2022-04-27T16:58:48.197Z"
   },
   {
    "duration": 2,
    "start_time": "2022-04-27T16:58:53.013Z"
   },
   {
    "duration": 367,
    "start_time": "2022-04-27T16:58:53.018Z"
   },
   {
    "duration": 30,
    "start_time": "2022-04-27T16:58:53.387Z"
   },
   {
    "duration": 22,
    "start_time": "2022-04-27T16:58:53.419Z"
   },
   {
    "duration": 26,
    "start_time": "2022-04-27T16:58:53.443Z"
   },
   {
    "duration": 27,
    "start_time": "2022-04-27T16:58:53.470Z"
   },
   {
    "duration": 22,
    "start_time": "2022-04-27T16:58:53.499Z"
   },
   {
    "duration": 42,
    "start_time": "2022-04-27T16:58:53.522Z"
   },
   {
    "duration": 7,
    "start_time": "2022-04-27T16:58:53.565Z"
   },
   {
    "duration": 93,
    "start_time": "2022-04-27T16:58:53.573Z"
   },
   {
    "duration": 1406,
    "start_time": "2022-04-27T16:58:53.668Z"
   },
   {
    "duration": 27,
    "start_time": "2022-04-27T16:59:22.325Z"
   },
   {
    "duration": 48,
    "start_time": "2022-04-27T17:00:08.273Z"
   },
   {
    "duration": 20,
    "start_time": "2022-04-27T17:00:30.873Z"
   },
   {
    "duration": 48,
    "start_time": "2022-04-27T17:03:06.177Z"
   },
   {
    "duration": 13,
    "start_time": "2022-04-27T17:08:10.209Z"
   },
   {
    "duration": 13,
    "start_time": "2022-04-27T17:11:54.609Z"
   },
   {
    "duration": 3,
    "start_time": "2022-04-27T17:12:10.277Z"
   },
   {
    "duration": 386,
    "start_time": "2022-04-27T17:12:10.282Z"
   },
   {
    "duration": 31,
    "start_time": "2022-04-27T17:12:10.670Z"
   },
   {
    "duration": 25,
    "start_time": "2022-04-27T17:12:10.702Z"
   },
   {
    "duration": 32,
    "start_time": "2022-04-27T17:12:10.729Z"
   },
   {
    "duration": 26,
    "start_time": "2022-04-27T17:12:10.763Z"
   },
   {
    "duration": 23,
    "start_time": "2022-04-27T17:12:10.790Z"
   },
   {
    "duration": 49,
    "start_time": "2022-04-27T17:12:10.815Z"
   },
   {
    "duration": 8,
    "start_time": "2022-04-27T17:12:10.866Z"
   },
   {
    "duration": 18,
    "start_time": "2022-04-27T17:12:10.875Z"
   },
   {
    "duration": 97,
    "start_time": "2022-04-27T17:12:10.895Z"
   },
   {
    "duration": 60,
    "start_time": "2022-04-27T17:12:10.994Z"
   },
   {
    "duration": 15,
    "start_time": "2022-04-27T17:12:11.056Z"
   },
   {
    "duration": 5,
    "start_time": "2022-04-27T17:12:18.541Z"
   },
   {
    "duration": 13,
    "start_time": "2022-04-27T17:12:22.173Z"
   },
   {
    "duration": 22,
    "start_time": "2022-04-27T17:12:34.697Z"
   },
   {
    "duration": 17,
    "start_time": "2022-04-27T17:12:52.204Z"
   },
   {
    "duration": 21,
    "start_time": "2022-04-27T17:13:50.740Z"
   },
   {
    "duration": 26,
    "start_time": "2022-04-27T17:14:02.505Z"
   },
   {
    "duration": 41,
    "start_time": "2022-04-27T17:14:16.461Z"
   },
   {
    "duration": 45,
    "start_time": "2022-04-27T17:14:58.349Z"
   },
   {
    "duration": 49,
    "start_time": "2022-04-27T17:15:39.508Z"
   },
   {
    "duration": 3,
    "start_time": "2022-04-27T17:15:46.077Z"
   },
   {
    "duration": 360,
    "start_time": "2022-04-27T17:15:46.082Z"
   },
   {
    "duration": 30,
    "start_time": "2022-04-27T17:15:46.444Z"
   },
   {
    "duration": 26,
    "start_time": "2022-04-27T17:15:46.475Z"
   },
   {
    "duration": 51,
    "start_time": "2022-04-27T17:15:46.504Z"
   },
   {
    "duration": 26,
    "start_time": "2022-04-27T17:15:46.557Z"
   },
   {
    "duration": 24,
    "start_time": "2022-04-27T17:15:46.585Z"
   },
   {
    "duration": 51,
    "start_time": "2022-04-27T17:15:46.611Z"
   },
   {
    "duration": 7,
    "start_time": "2022-04-27T17:15:46.664Z"
   },
   {
    "duration": 13,
    "start_time": "2022-04-27T17:15:46.673Z"
   },
   {
    "duration": 95,
    "start_time": "2022-04-27T17:15:46.689Z"
   },
   {
    "duration": 47,
    "start_time": "2022-04-27T17:15:46.786Z"
   },
   {
    "duration": 21,
    "start_time": "2022-04-27T17:15:46.835Z"
   },
   {
    "duration": 15,
    "start_time": "2022-04-27T17:16:24.449Z"
   },
   {
    "duration": 11,
    "start_time": "2022-04-27T17:16:30.776Z"
   },
   {
    "duration": 12,
    "start_time": "2022-04-27T17:17:17.248Z"
   },
   {
    "duration": 3,
    "start_time": "2022-04-27T17:17:28.428Z"
   },
   {
    "duration": 357,
    "start_time": "2022-04-27T17:17:28.433Z"
   },
   {
    "duration": 29,
    "start_time": "2022-04-27T17:17:28.792Z"
   },
   {
    "duration": 23,
    "start_time": "2022-04-27T17:17:28.823Z"
   },
   {
    "duration": 27,
    "start_time": "2022-04-27T17:17:28.848Z"
   },
   {
    "duration": 24,
    "start_time": "2022-04-27T17:17:28.876Z"
   },
   {
    "duration": 22,
    "start_time": "2022-04-27T17:17:28.902Z"
   },
   {
    "duration": 21,
    "start_time": "2022-04-27T17:17:28.948Z"
   },
   {
    "duration": 8,
    "start_time": "2022-04-27T17:17:28.970Z"
   },
   {
    "duration": 20,
    "start_time": "2022-04-27T17:17:28.980Z"
   },
   {
    "duration": 158,
    "start_time": "2022-04-27T17:17:29.003Z"
   },
   {
    "duration": 58,
    "start_time": "2022-04-27T17:17:29.163Z"
   },
   {
    "duration": 28,
    "start_time": "2022-04-27T17:17:29.223Z"
   },
   {
    "duration": 16,
    "start_time": "2022-04-27T17:17:55.553Z"
   },
   {
    "duration": 8,
    "start_time": "2022-04-27T17:18:10.996Z"
   },
   {
    "duration": 12,
    "start_time": "2022-04-27T17:18:14.632Z"
   },
   {
    "duration": 4,
    "start_time": "2022-04-27T17:18:34.276Z"
   },
   {
    "duration": 4,
    "start_time": "2022-04-27T17:18:44.329Z"
   },
   {
    "duration": 14,
    "start_time": "2022-04-27T17:18:47.061Z"
   },
   {
    "duration": 19,
    "start_time": "2022-04-27T17:19:14.104Z"
   },
   {
    "duration": 9,
    "start_time": "2022-04-27T17:19:38.841Z"
   },
   {
    "duration": 3,
    "start_time": "2022-04-27T17:19:50.236Z"
   },
   {
    "duration": 382,
    "start_time": "2022-04-27T17:19:50.241Z"
   },
   {
    "duration": 28,
    "start_time": "2022-04-27T17:19:50.625Z"
   },
   {
    "duration": 24,
    "start_time": "2022-04-27T17:19:50.655Z"
   },
   {
    "duration": 25,
    "start_time": "2022-04-27T17:19:50.681Z"
   },
   {
    "duration": 49,
    "start_time": "2022-04-27T17:19:50.708Z"
   },
   {
    "duration": 24,
    "start_time": "2022-04-27T17:19:50.759Z"
   },
   {
    "duration": 19,
    "start_time": "2022-04-27T17:19:50.785Z"
   },
   {
    "duration": 7,
    "start_time": "2022-04-27T17:19:50.806Z"
   },
   {
    "duration": 34,
    "start_time": "2022-04-27T17:19:50.815Z"
   },
   {
    "duration": 74,
    "start_time": "2022-04-27T17:19:50.852Z"
   },
   {
    "duration": 56,
    "start_time": "2022-04-27T17:19:50.927Z"
   },
   {
    "duration": 2,
    "start_time": "2022-04-27T17:19:50.985Z"
   },
   {
    "duration": 17,
    "start_time": "2022-04-27T17:19:54.940Z"
   },
   {
    "duration": 86,
    "start_time": "2022-04-27T17:21:46.809Z"
   },
   {
    "duration": 71,
    "start_time": "2022-04-27T17:22:49.328Z"
   },
   {
    "duration": 62,
    "start_time": "2022-04-27T17:23:05.197Z"
   },
   {
    "duration": 93,
    "start_time": "2022-04-27T17:23:15.536Z"
   },
   {
    "duration": 62,
    "start_time": "2022-04-27T17:23:20.549Z"
   },
   {
    "duration": 62,
    "start_time": "2022-04-27T17:23:26.188Z"
   },
   {
    "duration": 89,
    "start_time": "2022-04-27T17:23:33.370Z"
   },
   {
    "duration": 122,
    "start_time": "2022-04-27T17:23:40.452Z"
   },
   {
    "duration": 16,
    "start_time": "2022-04-27T17:24:14.692Z"
   },
   {
    "duration": 64,
    "start_time": "2022-04-27T17:24:40.125Z"
   },
   {
    "duration": 13,
    "start_time": "2022-04-27T17:24:41.805Z"
   },
   {
    "duration": 62,
    "start_time": "2022-04-27T17:24:46.700Z"
   },
   {
    "duration": 58,
    "start_time": "2022-04-27T17:27:08.620Z"
   },
   {
    "duration": 72,
    "start_time": "2022-04-27T17:27:14.537Z"
   },
   {
    "duration": 64,
    "start_time": "2022-04-27T17:27:26.272Z"
   },
   {
    "duration": 88,
    "start_time": "2022-04-27T17:28:10.349Z"
   },
   {
    "duration": 66,
    "start_time": "2022-04-27T17:28:15.012Z"
   },
   {
    "duration": 79,
    "start_time": "2022-04-27T17:28:23.308Z"
   },
   {
    "duration": 63,
    "start_time": "2022-04-27T17:28:27.336Z"
   },
   {
    "duration": 64,
    "start_time": "2022-04-27T17:28:55.208Z"
   },
   {
    "duration": 63,
    "start_time": "2022-04-27T17:29:44.912Z"
   },
   {
    "duration": 66,
    "start_time": "2022-04-27T17:30:02.857Z"
   },
   {
    "duration": 63,
    "start_time": "2022-04-27T17:31:19.788Z"
   },
   {
    "duration": 62,
    "start_time": "2022-04-27T17:31:24.401Z"
   },
   {
    "duration": 60,
    "start_time": "2022-04-27T17:34:32.625Z"
   },
   {
    "duration": 61,
    "start_time": "2022-04-27T17:34:38.053Z"
   },
   {
    "duration": 65,
    "start_time": "2022-04-27T17:34:44.132Z"
   },
   {
    "duration": 58,
    "start_time": "2022-04-27T17:36:15.376Z"
   },
   {
    "duration": 58,
    "start_time": "2022-04-27T17:36:27.916Z"
   },
   {
    "duration": 67,
    "start_time": "2022-04-27T17:37:26.920Z"
   },
   {
    "duration": 2,
    "start_time": "2022-04-27T17:37:37.241Z"
   },
   {
    "duration": 64,
    "start_time": "2022-04-27T17:37:43.724Z"
   },
   {
    "duration": 56,
    "start_time": "2022-04-27T17:37:57.261Z"
   },
   {
    "duration": 56,
    "start_time": "2022-04-27T17:38:16.872Z"
   },
   {
    "duration": 56,
    "start_time": "2022-04-27T17:38:32.261Z"
   },
   {
    "duration": 75,
    "start_time": "2022-04-27T17:40:18.104Z"
   },
   {
    "duration": 5,
    "start_time": "2022-04-27T17:54:11.259Z"
   },
   {
    "duration": 9,
    "start_time": "2022-04-27T17:54:25.568Z"
   },
   {
    "duration": 11,
    "start_time": "2022-04-27T17:58:03.520Z"
   },
   {
    "duration": 10,
    "start_time": "2022-04-27T17:58:12.203Z"
   },
   {
    "duration": 9,
    "start_time": "2022-04-27T17:58:25.607Z"
   },
   {
    "duration": 8,
    "start_time": "2022-04-27T17:58:45.283Z"
   },
   {
    "duration": 5,
    "start_time": "2022-04-27T17:58:57.443Z"
   },
   {
    "duration": 12,
    "start_time": "2022-04-27T17:59:02.488Z"
   },
   {
    "duration": 2,
    "start_time": "2022-04-27T17:59:51.160Z"
   },
   {
    "duration": 358,
    "start_time": "2022-04-27T17:59:51.164Z"
   },
   {
    "duration": 29,
    "start_time": "2022-04-27T17:59:51.523Z"
   },
   {
    "duration": 24,
    "start_time": "2022-04-27T17:59:51.554Z"
   },
   {
    "duration": 26,
    "start_time": "2022-04-27T17:59:51.580Z"
   },
   {
    "duration": 54,
    "start_time": "2022-04-27T17:59:51.608Z"
   },
   {
    "duration": 22,
    "start_time": "2022-04-27T17:59:51.664Z"
   },
   {
    "duration": 18,
    "start_time": "2022-04-27T17:59:51.687Z"
   },
   {
    "duration": 8,
    "start_time": "2022-04-27T17:59:51.707Z"
   },
   {
    "duration": 33,
    "start_time": "2022-04-27T17:59:51.717Z"
   },
   {
    "duration": 85,
    "start_time": "2022-04-27T17:59:51.753Z"
   },
   {
    "duration": 54,
    "start_time": "2022-04-27T17:59:51.840Z"
   },
   {
    "duration": 2,
    "start_time": "2022-04-27T17:59:51.896Z"
   },
   {
    "duration": 70,
    "start_time": "2022-04-27T17:59:51.900Z"
   },
   {
    "duration": 15,
    "start_time": "2022-04-27T17:59:51.972Z"
   },
   {
    "duration": 5,
    "start_time": "2022-04-27T18:00:06.579Z"
   },
   {
    "duration": 70,
    "start_time": "2022-04-27T18:01:17.824Z"
   },
   {
    "duration": 23,
    "start_time": "2022-04-27T18:02:10.131Z"
   },
   {
    "duration": 33,
    "start_time": "2022-04-27T18:02:16.860Z"
   },
   {
    "duration": 9,
    "start_time": "2022-04-27T18:02:35.335Z"
   },
   {
    "duration": 9,
    "start_time": "2022-04-27T18:02:38.635Z"
   },
   {
    "duration": 13,
    "start_time": "2022-04-27T18:02:43.472Z"
   },
   {
    "duration": 5,
    "start_time": "2022-04-27T18:04:48.759Z"
   },
   {
    "duration": 348,
    "start_time": "2022-04-27T18:04:59.251Z"
   },
   {
    "duration": 47,
    "start_time": "2022-04-27T18:05:09.871Z"
   },
   {
    "duration": 54,
    "start_time": "2022-04-27T18:05:16.211Z"
   },
   {
    "duration": 72,
    "start_time": "2022-04-27T18:05:23.976Z"
   },
   {
    "duration": 49,
    "start_time": "2022-04-27T18:05:44.571Z"
   },
   {
    "duration": 59,
    "start_time": "2022-04-27T18:06:01.459Z"
   },
   {
    "duration": 48,
    "start_time": "2022-04-27T18:06:48.163Z"
   },
   {
    "duration": 11,
    "start_time": "2022-04-27T18:06:58.422Z"
   },
   {
    "duration": 13,
    "start_time": "2022-04-27T18:07:37.183Z"
   },
   {
    "duration": 282,
    "start_time": "2022-04-27T18:08:11.819Z"
   },
   {
    "duration": 4,
    "start_time": "2022-04-27T18:09:14.547Z"
   },
   {
    "duration": 12,
    "start_time": "2022-04-27T18:09:17.998Z"
   },
   {
    "duration": 12,
    "start_time": "2022-04-27T18:09:36.751Z"
   },
   {
    "duration": 11,
    "start_time": "2022-04-27T18:09:46.695Z"
   },
   {
    "duration": 2,
    "start_time": "2022-04-27T18:09:57.351Z"
   },
   {
    "duration": 333,
    "start_time": "2022-04-27T18:09:57.356Z"
   },
   {
    "duration": 30,
    "start_time": "2022-04-27T18:09:57.691Z"
   },
   {
    "duration": 26,
    "start_time": "2022-04-27T18:09:57.723Z"
   },
   {
    "duration": 27,
    "start_time": "2022-04-27T18:09:57.751Z"
   },
   {
    "duration": 25,
    "start_time": "2022-04-27T18:09:57.780Z"
   },
   {
    "duration": 48,
    "start_time": "2022-04-27T18:09:57.807Z"
   },
   {
    "duration": 20,
    "start_time": "2022-04-27T18:09:57.857Z"
   },
   {
    "duration": 8,
    "start_time": "2022-04-27T18:09:57.879Z"
   },
   {
    "duration": 4,
    "start_time": "2022-04-27T18:09:57.889Z"
   },
   {
    "duration": 106,
    "start_time": "2022-04-27T18:09:57.895Z"
   },
   {
    "duration": 54,
    "start_time": "2022-04-27T18:09:58.003Z"
   },
   {
    "duration": 3,
    "start_time": "2022-04-27T18:09:58.058Z"
   },
   {
    "duration": 47,
    "start_time": "2022-04-27T18:09:58.062Z"
   },
   {
    "duration": 11,
    "start_time": "2022-04-27T18:10:06.955Z"
   },
   {
    "duration": 48,
    "start_time": "2022-04-27T18:10:15.135Z"
   },
   {
    "duration": 12,
    "start_time": "2022-04-27T18:10:20.775Z"
   },
   {
    "duration": 3,
    "start_time": "2022-04-27T18:10:22.374Z"
   },
   {
    "duration": 349,
    "start_time": "2022-04-27T18:10:22.381Z"
   },
   {
    "duration": 28,
    "start_time": "2022-04-27T18:10:22.732Z"
   },
   {
    "duration": 22,
    "start_time": "2022-04-27T18:10:22.762Z"
   },
   {
    "duration": 25,
    "start_time": "2022-04-27T18:10:22.786Z"
   },
   {
    "duration": 48,
    "start_time": "2022-04-27T18:10:22.813Z"
   },
   {
    "duration": 22,
    "start_time": "2022-04-27T18:10:22.863Z"
   },
   {
    "duration": 21,
    "start_time": "2022-04-27T18:10:22.886Z"
   },
   {
    "duration": 40,
    "start_time": "2022-04-27T18:10:22.908Z"
   },
   {
    "duration": 4,
    "start_time": "2022-04-27T18:10:22.950Z"
   },
   {
    "duration": 75,
    "start_time": "2022-04-27T18:10:22.956Z"
   },
   {
    "duration": 54,
    "start_time": "2022-04-27T18:10:23.032Z"
   },
   {
    "duration": 3,
    "start_time": "2022-04-27T18:10:23.088Z"
   },
   {
    "duration": 81,
    "start_time": "2022-04-27T18:10:23.092Z"
   },
   {
    "duration": 0,
    "start_time": "2022-04-27T18:10:23.175Z"
   },
   {
    "duration": 11,
    "start_time": "2022-04-27T18:10:26.963Z"
   },
   {
    "duration": 38,
    "start_time": "2022-04-27T18:10:46.111Z"
   },
   {
    "duration": 9,
    "start_time": "2022-04-27T18:10:47.535Z"
   },
   {
    "duration": 5,
    "start_time": "2022-04-27T18:11:35.175Z"
   },
   {
    "duration": 12,
    "start_time": "2022-04-27T18:11:41.335Z"
   },
   {
    "duration": 12,
    "start_time": "2022-04-27T18:12:05.647Z"
   },
   {
    "duration": 9,
    "start_time": "2022-04-27T18:12:28.187Z"
   },
   {
    "duration": 340,
    "start_time": "2022-04-27T18:12:47.143Z"
   },
   {
    "duration": 2,
    "start_time": "2022-04-27T18:12:50.823Z"
   },
   {
    "duration": 348,
    "start_time": "2022-04-27T18:12:50.827Z"
   },
   {
    "duration": 30,
    "start_time": "2022-04-27T18:12:51.177Z"
   },
   {
    "duration": 23,
    "start_time": "2022-04-27T18:12:51.208Z"
   },
   {
    "duration": 30,
    "start_time": "2022-04-27T18:12:51.233Z"
   },
   {
    "duration": 23,
    "start_time": "2022-04-27T18:12:51.264Z"
   },
   {
    "duration": 22,
    "start_time": "2022-04-27T18:12:51.289Z"
   },
   {
    "duration": 44,
    "start_time": "2022-04-27T18:12:51.312Z"
   },
   {
    "duration": 7,
    "start_time": "2022-04-27T18:12:51.358Z"
   },
   {
    "duration": 7,
    "start_time": "2022-04-27T18:12:51.366Z"
   },
   {
    "duration": 89,
    "start_time": "2022-04-27T18:12:51.375Z"
   },
   {
    "duration": 47,
    "start_time": "2022-04-27T18:12:51.465Z"
   },
   {
    "duration": 3,
    "start_time": "2022-04-27T18:12:51.513Z"
   },
   {
    "duration": 387,
    "start_time": "2022-04-27T18:12:51.517Z"
   },
   {
    "duration": 0,
    "start_time": "2022-04-27T18:12:51.906Z"
   },
   {
    "duration": 0,
    "start_time": "2022-04-27T18:12:51.907Z"
   },
   {
    "duration": 0,
    "start_time": "2022-04-27T18:12:51.909Z"
   },
   {
    "duration": 38,
    "start_time": "2022-04-27T18:13:04.435Z"
   },
   {
    "duration": 12,
    "start_time": "2022-04-27T18:13:06.751Z"
   },
   {
    "duration": 5,
    "start_time": "2022-04-27T18:13:16.207Z"
   },
   {
    "duration": 13,
    "start_time": "2022-04-27T18:13:18.975Z"
   },
   {
    "duration": 2,
    "start_time": "2022-04-27T18:13:32.547Z"
   },
   {
    "duration": 367,
    "start_time": "2022-04-27T18:13:32.551Z"
   },
   {
    "duration": 32,
    "start_time": "2022-04-27T18:13:32.920Z"
   },
   {
    "duration": 24,
    "start_time": "2022-04-27T18:13:32.954Z"
   },
   {
    "duration": 26,
    "start_time": "2022-04-27T18:13:32.980Z"
   },
   {
    "duration": 25,
    "start_time": "2022-04-27T18:13:33.007Z"
   },
   {
    "duration": 31,
    "start_time": "2022-04-27T18:13:33.034Z"
   },
   {
    "duration": 20,
    "start_time": "2022-04-27T18:13:33.066Z"
   },
   {
    "duration": 10,
    "start_time": "2022-04-27T18:13:33.087Z"
   },
   {
    "duration": 10,
    "start_time": "2022-04-27T18:13:33.098Z"
   },
   {
    "duration": 81,
    "start_time": "2022-04-27T18:13:33.111Z"
   },
   {
    "duration": 54,
    "start_time": "2022-04-27T18:13:33.194Z"
   },
   {
    "duration": 3,
    "start_time": "2022-04-27T18:13:33.249Z"
   },
   {
    "duration": 51,
    "start_time": "2022-04-27T18:13:33.254Z"
   },
   {
    "duration": 10,
    "start_time": "2022-04-27T18:13:33.307Z"
   },
   {
    "duration": 7,
    "start_time": "2022-04-27T18:13:33.318Z"
   },
   {
    "duration": 30,
    "start_time": "2022-04-27T18:13:33.326Z"
   },
   {
    "duration": 19,
    "start_time": "2022-04-27T18:14:54.910Z"
   },
   {
    "duration": 12,
    "start_time": "2022-04-27T18:15:15.107Z"
   },
   {
    "duration": 1381,
    "start_time": "2022-04-27T18:15:35.943Z"
   },
   {
    "duration": 18,
    "start_time": "2022-04-27T18:15:46.715Z"
   },
   {
    "duration": 10,
    "start_time": "2022-04-27T18:15:58.246Z"
   },
   {
    "duration": 6,
    "start_time": "2022-04-27T18:16:06.210Z"
   },
   {
    "duration": 11,
    "start_time": "2022-04-27T18:16:08.142Z"
   },
   {
    "duration": 1270,
    "start_time": "2022-04-27T18:16:11.987Z"
   },
   {
    "duration": 3,
    "start_time": "2022-04-27T18:16:20.507Z"
   },
   {
    "duration": 338,
    "start_time": "2022-04-27T18:16:20.511Z"
   },
   {
    "duration": 29,
    "start_time": "2022-04-27T18:16:20.850Z"
   },
   {
    "duration": 23,
    "start_time": "2022-04-27T18:16:20.880Z"
   },
   {
    "duration": 50,
    "start_time": "2022-04-27T18:16:20.905Z"
   },
   {
    "duration": 24,
    "start_time": "2022-04-27T18:16:20.956Z"
   },
   {
    "duration": 22,
    "start_time": "2022-04-27T18:16:20.982Z"
   },
   {
    "duration": 46,
    "start_time": "2022-04-27T18:16:21.005Z"
   },
   {
    "duration": 8,
    "start_time": "2022-04-27T18:16:21.053Z"
   },
   {
    "duration": 5,
    "start_time": "2022-04-27T18:16:21.063Z"
   },
   {
    "duration": 89,
    "start_time": "2022-04-27T18:16:21.070Z"
   },
   {
    "duration": 47,
    "start_time": "2022-04-27T18:16:21.161Z"
   },
   {
    "duration": 3,
    "start_time": "2022-04-27T18:16:21.209Z"
   },
   {
    "duration": 64,
    "start_time": "2022-04-27T18:16:21.214Z"
   },
   {
    "duration": 9,
    "start_time": "2022-04-27T18:16:21.279Z"
   },
   {
    "duration": 7,
    "start_time": "2022-04-27T18:16:21.289Z"
   },
   {
    "duration": 14,
    "start_time": "2022-04-27T18:16:21.297Z"
   },
   {
    "duration": 9,
    "start_time": "2022-04-27T18:16:21.313Z"
   },
   {
    "duration": 15,
    "start_time": "2022-04-27T18:17:04.954Z"
   },
   {
    "duration": 2,
    "start_time": "2022-04-27T18:17:14.251Z"
   },
   {
    "duration": 354,
    "start_time": "2022-04-27T18:17:14.256Z"
   },
   {
    "duration": 34,
    "start_time": "2022-04-27T18:17:14.612Z"
   },
   {
    "duration": 26,
    "start_time": "2022-04-27T18:17:14.647Z"
   },
   {
    "duration": 27,
    "start_time": "2022-04-27T18:17:14.675Z"
   },
   {
    "duration": 50,
    "start_time": "2022-04-27T18:17:14.704Z"
   },
   {
    "duration": 23,
    "start_time": "2022-04-27T18:17:14.756Z"
   },
   {
    "duration": 19,
    "start_time": "2022-04-27T18:17:14.781Z"
   },
   {
    "duration": 9,
    "start_time": "2022-04-27T18:17:14.801Z"
   },
   {
    "duration": 5,
    "start_time": "2022-04-27T18:17:14.811Z"
   },
   {
    "duration": 72,
    "start_time": "2022-04-27T18:17:14.849Z"
   },
   {
    "duration": 59,
    "start_time": "2022-04-27T18:17:14.923Z"
   },
   {
    "duration": 3,
    "start_time": "2022-04-27T18:17:14.983Z"
   },
   {
    "duration": 60,
    "start_time": "2022-04-27T18:17:14.987Z"
   },
   {
    "duration": 10,
    "start_time": "2022-04-27T18:17:15.049Z"
   },
   {
    "duration": 18,
    "start_time": "2022-04-27T18:17:15.061Z"
   },
   {
    "duration": 19,
    "start_time": "2022-04-27T18:17:15.080Z"
   },
   {
    "duration": 10,
    "start_time": "2022-04-27T18:17:15.100Z"
   },
   {
    "duration": 14,
    "start_time": "2022-04-27T18:17:40.947Z"
   },
   {
    "duration": 19,
    "start_time": "2022-04-27T18:18:11.442Z"
   },
   {
    "duration": 6,
    "start_time": "2022-04-27T18:18:31.351Z"
   },
   {
    "duration": 10,
    "start_time": "2022-04-27T18:18:41.123Z"
   },
   {
    "duration": 11,
    "start_time": "2022-04-27T18:18:48.107Z"
   },
   {
    "duration": 3,
    "start_time": "2022-04-27T18:18:56.474Z"
   },
   {
    "duration": 350,
    "start_time": "2022-04-27T18:18:56.479Z"
   },
   {
    "duration": 28,
    "start_time": "2022-04-27T18:18:56.831Z"
   },
   {
    "duration": 23,
    "start_time": "2022-04-27T18:18:56.860Z"
   },
   {
    "duration": 25,
    "start_time": "2022-04-27T18:18:56.885Z"
   },
   {
    "duration": 57,
    "start_time": "2022-04-27T18:18:56.911Z"
   },
   {
    "duration": 22,
    "start_time": "2022-04-27T18:18:56.970Z"
   },
   {
    "duration": 17,
    "start_time": "2022-04-27T18:18:56.994Z"
   },
   {
    "duration": 35,
    "start_time": "2022-04-27T18:18:57.013Z"
   },
   {
    "duration": 5,
    "start_time": "2022-04-27T18:18:57.050Z"
   },
   {
    "duration": 71,
    "start_time": "2022-04-27T18:18:57.058Z"
   },
   {
    "duration": 60,
    "start_time": "2022-04-27T18:18:57.131Z"
   },
   {
    "duration": 2,
    "start_time": "2022-04-27T18:18:57.193Z"
   },
   {
    "duration": 70,
    "start_time": "2022-04-27T18:18:57.196Z"
   },
   {
    "duration": 9,
    "start_time": "2022-04-27T18:18:57.268Z"
   },
   {
    "duration": 5,
    "start_time": "2022-04-27T18:18:57.279Z"
   },
   {
    "duration": 6,
    "start_time": "2022-04-27T18:18:57.286Z"
   },
   {
    "duration": 12,
    "start_time": "2022-04-27T18:18:57.294Z"
   },
   {
    "duration": 11,
    "start_time": "2022-04-27T18:18:57.307Z"
   },
   {
    "duration": 7,
    "start_time": "2022-04-27T18:19:09.534Z"
   },
   {
    "duration": 6,
    "start_time": "2022-04-27T18:19:29.499Z"
   },
   {
    "duration": 84,
    "start_time": "2022-04-27T18:19:54.671Z"
   },
   {
    "duration": 86,
    "start_time": "2022-04-27T18:19:58.411Z"
   },
   {
    "duration": 10,
    "start_time": "2022-04-27T18:20:03.642Z"
   },
   {
    "duration": 10,
    "start_time": "2022-04-27T18:20:08.543Z"
   },
   {
    "duration": 5,
    "start_time": "2022-04-27T18:20:12.738Z"
   },
   {
    "duration": 829,
    "start_time": "2022-05-01T11:02:57.995Z"
   },
   {
    "duration": 411,
    "start_time": "2022-05-01T11:02:58.826Z"
   },
   {
    "duration": 39,
    "start_time": "2022-05-01T11:02:59.238Z"
   },
   {
    "duration": 32,
    "start_time": "2022-05-01T11:02:59.279Z"
   },
   {
    "duration": 48,
    "start_time": "2022-05-01T11:02:59.313Z"
   },
   {
    "duration": 31,
    "start_time": "2022-05-01T11:02:59.363Z"
   },
   {
    "duration": 41,
    "start_time": "2022-05-01T11:02:59.396Z"
   },
   {
    "duration": 21,
    "start_time": "2022-05-01T11:02:59.438Z"
   },
   {
    "duration": 10,
    "start_time": "2022-05-01T11:02:59.460Z"
   },
   {
    "duration": 4,
    "start_time": "2022-05-01T11:02:59.473Z"
   },
   {
    "duration": 117,
    "start_time": "2022-05-01T11:02:59.479Z"
   },
   {
    "duration": 57,
    "start_time": "2022-05-01T11:02:59.598Z"
   },
   {
    "duration": 3,
    "start_time": "2022-05-01T11:02:59.656Z"
   },
   {
    "duration": 78,
    "start_time": "2022-05-01T11:02:59.660Z"
   },
   {
    "duration": 9,
    "start_time": "2022-05-01T11:02:59.739Z"
   },
   {
    "duration": 6,
    "start_time": "2022-05-01T11:02:59.750Z"
   },
   {
    "duration": 8,
    "start_time": "2022-05-01T11:02:59.757Z"
   },
   {
    "duration": 11,
    "start_time": "2022-05-01T11:02:59.766Z"
   },
   {
    "duration": 93,
    "start_time": "2022-05-01T11:04:15.702Z"
   },
   {
    "duration": 6,
    "start_time": "2022-05-01T11:04:32.927Z"
   },
   {
    "duration": 8,
    "start_time": "2022-05-01T11:04:48.550Z"
   },
   {
    "duration": 10,
    "start_time": "2022-05-01T11:05:53.614Z"
   },
   {
    "duration": 8,
    "start_time": "2022-05-01T11:06:07.094Z"
   },
   {
    "duration": 7,
    "start_time": "2022-05-01T11:06:10.430Z"
   },
   {
    "duration": 14,
    "start_time": "2022-05-01T11:06:37.610Z"
   },
   {
    "duration": 11,
    "start_time": "2022-05-01T11:17:27.098Z"
   },
   {
    "duration": 7,
    "start_time": "2022-05-01T11:19:59.582Z"
   },
   {
    "duration": 8,
    "start_time": "2022-05-01T11:20:09.085Z"
   },
   {
    "duration": 3,
    "start_time": "2022-05-01T11:22:13.083Z"
   },
   {
    "duration": 446,
    "start_time": "2022-05-01T11:22:13.088Z"
   },
   {
    "duration": 34,
    "start_time": "2022-05-01T11:22:13.537Z"
   },
   {
    "duration": 30,
    "start_time": "2022-05-01T11:22:13.573Z"
   },
   {
    "duration": 56,
    "start_time": "2022-05-01T11:22:13.605Z"
   },
   {
    "duration": 28,
    "start_time": "2022-05-01T11:22:13.663Z"
   },
   {
    "duration": 50,
    "start_time": "2022-05-01T11:22:13.693Z"
   },
   {
    "duration": 21,
    "start_time": "2022-05-01T11:22:13.744Z"
   },
   {
    "duration": 8,
    "start_time": "2022-05-01T11:22:13.766Z"
   },
   {
    "duration": 8,
    "start_time": "2022-05-01T11:22:13.775Z"
   },
   {
    "duration": 120,
    "start_time": "2022-05-01T11:22:13.785Z"
   },
   {
    "duration": 66,
    "start_time": "2022-05-01T11:22:13.907Z"
   },
   {
    "duration": 2,
    "start_time": "2022-05-01T11:22:13.975Z"
   },
   {
    "duration": 79,
    "start_time": "2022-05-01T11:22:13.978Z"
   },
   {
    "duration": 10,
    "start_time": "2022-05-01T11:22:14.059Z"
   },
   {
    "duration": 6,
    "start_time": "2022-05-01T11:22:14.070Z"
   },
   {
    "duration": 10,
    "start_time": "2022-05-01T11:22:14.078Z"
   },
   {
    "duration": 5,
    "start_time": "2022-05-01T11:22:14.089Z"
   },
   {
    "duration": 44,
    "start_time": "2022-05-01T11:22:14.095Z"
   },
   {
    "duration": 22,
    "start_time": "2022-05-01T11:22:14.141Z"
   },
   {
    "duration": 17,
    "start_time": "2022-05-01T11:22:14.165Z"
   },
   {
    "duration": 4,
    "start_time": "2022-05-01T11:29:54.190Z"
   },
   {
    "duration": 2097,
    "start_time": "2022-05-01T11:30:29.618Z"
   },
   {
    "duration": 5,
    "start_time": "2022-05-01T11:30:46.606Z"
   },
   {
    "duration": 6,
    "start_time": "2022-05-01T11:31:17.772Z"
   },
   {
    "duration": 35,
    "start_time": "2022-05-01T11:31:45.291Z"
   },
   {
    "duration": 49,
    "start_time": "2022-05-01T11:31:49.466Z"
   },
   {
    "duration": 12,
    "start_time": "2022-05-01T11:31:56.038Z"
   },
   {
    "duration": 2291,
    "start_time": "2022-05-01T11:32:08.234Z"
   },
   {
    "duration": 6,
    "start_time": "2022-05-01T11:32:15.706Z"
   },
   {
    "duration": 4,
    "start_time": "2022-05-01T11:39:13.863Z"
   },
   {
    "duration": 456,
    "start_time": "2022-05-01T11:39:13.870Z"
   },
   {
    "duration": 35,
    "start_time": "2022-05-01T11:39:14.328Z"
   },
   {
    "duration": 31,
    "start_time": "2022-05-01T11:39:14.365Z"
   },
   {
    "duration": 48,
    "start_time": "2022-05-01T11:39:14.398Z"
   },
   {
    "duration": 34,
    "start_time": "2022-05-01T11:39:14.448Z"
   },
   {
    "duration": 54,
    "start_time": "2022-05-01T11:39:14.484Z"
   },
   {
    "duration": 34,
    "start_time": "2022-05-01T11:39:14.540Z"
   },
   {
    "duration": 9,
    "start_time": "2022-05-01T11:39:14.577Z"
   },
   {
    "duration": 8,
    "start_time": "2022-05-01T11:39:14.588Z"
   },
   {
    "duration": 141,
    "start_time": "2022-05-01T11:39:14.598Z"
   },
   {
    "duration": 54,
    "start_time": "2022-05-01T11:39:14.741Z"
   },
   {
    "duration": 2,
    "start_time": "2022-05-01T11:39:14.797Z"
   },
   {
    "duration": 82,
    "start_time": "2022-05-01T11:39:14.801Z"
   },
   {
    "duration": 6,
    "start_time": "2022-05-01T11:39:14.885Z"
   },
   {
    "duration": 9,
    "start_time": "2022-05-01T11:39:14.893Z"
   },
   {
    "duration": 3,
    "start_time": "2022-05-01T11:39:14.903Z"
   },
   {
    "duration": 25,
    "start_time": "2022-05-01T11:39:14.908Z"
   },
   {
    "duration": 39,
    "start_time": "2022-05-01T11:39:14.935Z"
   },
   {
    "duration": 11,
    "start_time": "2022-05-01T11:39:31.478Z"
   },
   {
    "duration": 20,
    "start_time": "2022-05-01T11:41:16.556Z"
   },
   {
    "duration": 23,
    "start_time": "2022-05-01T11:42:56.094Z"
   },
   {
    "duration": 21,
    "start_time": "2022-05-01T11:43:04.662Z"
   },
   {
    "duration": 9,
    "start_time": "2022-05-01T11:43:10.750Z"
   },
   {
    "duration": 14,
    "start_time": "2022-05-01T11:51:00.226Z"
   },
   {
    "duration": 30,
    "start_time": "2022-05-01T11:51:39.786Z"
   },
   {
    "duration": 11,
    "start_time": "2022-05-01T11:51:45.090Z"
   },
   {
    "duration": 1106,
    "start_time": "2022-05-01T13:55:14.064Z"
   },
   {
    "duration": 504,
    "start_time": "2022-05-01T13:55:15.173Z"
   },
   {
    "duration": 53,
    "start_time": "2022-05-01T13:55:15.679Z"
   },
   {
    "duration": 49,
    "start_time": "2022-05-01T13:55:15.735Z"
   },
   {
    "duration": 40,
    "start_time": "2022-05-01T13:55:15.786Z"
   },
   {
    "duration": 64,
    "start_time": "2022-05-01T13:55:15.829Z"
   },
   {
    "duration": 35,
    "start_time": "2022-05-01T13:55:15.895Z"
   },
   {
    "duration": 41,
    "start_time": "2022-05-01T13:55:15.951Z"
   },
   {
    "duration": 11,
    "start_time": "2022-05-01T13:55:15.993Z"
   },
   {
    "duration": 5,
    "start_time": "2022-05-01T13:55:16.008Z"
   },
   {
    "duration": 167,
    "start_time": "2022-05-01T13:55:16.015Z"
   },
   {
    "duration": 88,
    "start_time": "2022-05-01T13:55:16.184Z"
   },
   {
    "duration": 3,
    "start_time": "2022-05-01T13:55:16.274Z"
   },
   {
    "duration": 96,
    "start_time": "2022-05-01T13:55:16.280Z"
   },
   {
    "duration": 8,
    "start_time": "2022-05-01T13:55:16.378Z"
   },
   {
    "duration": 11,
    "start_time": "2022-05-01T13:55:16.388Z"
   },
   {
    "duration": 7,
    "start_time": "2022-05-01T13:55:16.401Z"
   },
   {
    "duration": 87,
    "start_time": "2022-05-01T13:55:16.410Z"
   },
   {
    "duration": 19,
    "start_time": "2022-05-01T13:55:16.499Z"
   },
   {
    "duration": 52,
    "start_time": "2022-05-01T13:55:16.520Z"
   },
   {
    "duration": 13,
    "start_time": "2022-05-01T13:55:27.466Z"
   },
   {
    "duration": 1938,
    "start_time": "2022-05-01T13:57:59.860Z"
   },
   {
    "duration": 16,
    "start_time": "2022-05-01T13:58:19.607Z"
   },
   {
    "duration": 5,
    "start_time": "2022-05-01T13:58:31.892Z"
   },
   {
    "duration": 2102,
    "start_time": "2022-05-01T13:58:48.619Z"
   },
   {
    "duration": 4,
    "start_time": "2022-05-01T13:59:36.959Z"
   },
   {
    "duration": 493,
    "start_time": "2022-05-01T13:59:36.965Z"
   },
   {
    "duration": 42,
    "start_time": "2022-05-01T13:59:37.461Z"
   },
   {
    "duration": 55,
    "start_time": "2022-05-01T13:59:37.505Z"
   },
   {
    "duration": 40,
    "start_time": "2022-05-01T13:59:37.562Z"
   },
   {
    "duration": 72,
    "start_time": "2022-05-01T13:59:37.605Z"
   },
   {
    "duration": 33,
    "start_time": "2022-05-01T13:59:37.680Z"
   },
   {
    "duration": 48,
    "start_time": "2022-05-01T13:59:37.715Z"
   },
   {
    "duration": 19,
    "start_time": "2022-05-01T13:59:37.765Z"
   },
   {
    "duration": 8,
    "start_time": "2022-05-01T13:59:37.786Z"
   },
   {
    "duration": 199,
    "start_time": "2022-05-01T13:59:37.800Z"
   },
   {
    "duration": 94,
    "start_time": "2022-05-01T13:59:38.002Z"
   },
   {
    "duration": 4,
    "start_time": "2022-05-01T13:59:38.099Z"
   },
   {
    "duration": 89,
    "start_time": "2022-05-01T13:59:38.105Z"
   },
   {
    "duration": 9,
    "start_time": "2022-05-01T13:59:38.197Z"
   },
   {
    "duration": 11,
    "start_time": "2022-05-01T13:59:38.208Z"
   },
   {
    "duration": 31,
    "start_time": "2022-05-01T13:59:38.221Z"
   },
   {
    "duration": 63,
    "start_time": "2022-05-01T13:59:38.255Z"
   },
   {
    "duration": 17,
    "start_time": "2022-05-01T13:59:38.320Z"
   },
   {
    "duration": 21,
    "start_time": "2022-05-01T13:59:38.339Z"
   },
   {
    "duration": 32,
    "start_time": "2022-05-01T13:59:38.362Z"
   },
   {
    "duration": 5,
    "start_time": "2022-05-01T13:59:38.397Z"
   },
   {
    "duration": 2075,
    "start_time": "2022-05-01T13:59:38.405Z"
   },
   {
    "duration": 15,
    "start_time": "2022-05-01T14:00:02.628Z"
   },
   {
    "duration": 1591,
    "start_time": "2022-05-01T14:02:03.831Z"
   },
   {
    "duration": 56,
    "start_time": "2022-05-01T14:02:21.607Z"
   },
   {
    "duration": 21,
    "start_time": "2022-05-01T14:02:30.739Z"
   },
   {
    "duration": 125,
    "start_time": "2022-05-01T14:03:11.864Z"
   },
   {
    "duration": 22,
    "start_time": "2022-05-01T14:03:28.023Z"
   },
   {
    "duration": 33,
    "start_time": "2022-05-01T14:03:50.865Z"
   },
   {
    "duration": 14,
    "start_time": "2022-05-01T14:04:14.771Z"
   },
   {
    "duration": 16,
    "start_time": "2022-05-01T14:04:22.088Z"
   },
   {
    "duration": 19,
    "start_time": "2022-05-01T14:04:38.612Z"
   },
   {
    "duration": 3,
    "start_time": "2022-05-01T14:04:42.400Z"
   },
   {
    "duration": 493,
    "start_time": "2022-05-01T14:04:42.406Z"
   },
   {
    "duration": 43,
    "start_time": "2022-05-01T14:04:42.901Z"
   },
   {
    "duration": 37,
    "start_time": "2022-05-01T14:04:42.946Z"
   },
   {
    "duration": 39,
    "start_time": "2022-05-01T14:04:42.986Z"
   },
   {
    "duration": 35,
    "start_time": "2022-05-01T14:04:43.051Z"
   },
   {
    "duration": 33,
    "start_time": "2022-05-01T14:04:43.089Z"
   },
   {
    "duration": 32,
    "start_time": "2022-05-01T14:04:43.152Z"
   },
   {
    "duration": 11,
    "start_time": "2022-05-01T14:04:43.186Z"
   },
   {
    "duration": 5,
    "start_time": "2022-05-01T14:04:43.200Z"
   },
   {
    "duration": 149,
    "start_time": "2022-05-01T14:04:43.209Z"
   },
   {
    "duration": 72,
    "start_time": "2022-05-01T14:04:43.360Z"
   },
   {
    "duration": 17,
    "start_time": "2022-05-01T14:04:43.435Z"
   },
   {
    "duration": 75,
    "start_time": "2022-05-01T14:04:43.454Z"
   },
   {
    "duration": 21,
    "start_time": "2022-05-01T14:04:43.531Z"
   },
   {
    "duration": 13,
    "start_time": "2022-05-01T14:04:43.554Z"
   },
   {
    "duration": 6,
    "start_time": "2022-05-01T14:04:43.570Z"
   },
   {
    "duration": 74,
    "start_time": "2022-05-01T14:04:43.578Z"
   },
   {
    "duration": 19,
    "start_time": "2022-05-01T14:04:43.655Z"
   },
   {
    "duration": 12,
    "start_time": "2022-05-01T14:04:43.676Z"
   },
   {
    "duration": 33,
    "start_time": "2022-05-01T14:04:43.690Z"
   },
   {
    "duration": 40,
    "start_time": "2022-05-01T14:04:43.725Z"
   },
   {
    "duration": 50,
    "start_time": "2022-05-01T14:04:43.767Z"
   },
   {
    "duration": 41,
    "start_time": "2022-05-01T14:04:43.819Z"
   },
   {
    "duration": 21,
    "start_time": "2022-05-01T14:04:43.862Z"
   },
   {
    "duration": 43,
    "start_time": "2022-05-01T14:07:41.163Z"
   },
   {
    "duration": 43,
    "start_time": "2022-05-01T14:08:05.279Z"
   },
   {
    "duration": 43,
    "start_time": "2022-05-01T14:09:59.632Z"
   },
   {
    "duration": 46,
    "start_time": "2022-05-01T14:11:11.036Z"
   },
   {
    "duration": 49,
    "start_time": "2022-05-01T14:11:19.647Z"
   },
   {
    "duration": 4,
    "start_time": "2022-05-01T14:11:26.863Z"
   },
   {
    "duration": 474,
    "start_time": "2022-05-01T14:11:26.870Z"
   },
   {
    "duration": 41,
    "start_time": "2022-05-01T14:11:27.347Z"
   },
   {
    "duration": 32,
    "start_time": "2022-05-01T14:11:27.390Z"
   },
   {
    "duration": 60,
    "start_time": "2022-05-01T14:11:27.425Z"
   },
   {
    "duration": 33,
    "start_time": "2022-05-01T14:11:27.487Z"
   },
   {
    "duration": 53,
    "start_time": "2022-05-01T14:11:27.521Z"
   },
   {
    "duration": 30,
    "start_time": "2022-05-01T14:11:27.576Z"
   },
   {
    "duration": 44,
    "start_time": "2022-05-01T14:11:27.608Z"
   },
   {
    "duration": 4,
    "start_time": "2022-05-01T14:11:27.655Z"
   },
   {
    "duration": 132,
    "start_time": "2022-05-01T14:11:27.662Z"
   },
   {
    "duration": 86,
    "start_time": "2022-05-01T14:11:27.796Z"
   },
   {
    "duration": 3,
    "start_time": "2022-05-01T14:11:27.884Z"
   },
   {
    "duration": 85,
    "start_time": "2022-05-01T14:11:27.889Z"
   },
   {
    "duration": 7,
    "start_time": "2022-05-01T14:11:27.977Z"
   },
   {
    "duration": 16,
    "start_time": "2022-05-01T14:11:27.987Z"
   },
   {
    "duration": 7,
    "start_time": "2022-05-01T14:11:28.006Z"
   },
   {
    "duration": 70,
    "start_time": "2022-05-01T14:11:28.016Z"
   },
   {
    "duration": 30,
    "start_time": "2022-05-01T14:11:28.088Z"
   },
   {
    "duration": 37,
    "start_time": "2022-05-01T14:11:28.120Z"
   },
   {
    "duration": 53,
    "start_time": "2022-05-01T14:11:28.160Z"
   },
   {
    "duration": 14,
    "start_time": "2022-05-01T14:11:28.215Z"
   },
   {
    "duration": 19,
    "start_time": "2022-05-01T14:11:28.252Z"
   },
   {
    "duration": 47,
    "start_time": "2022-05-01T14:11:28.274Z"
   },
   {
    "duration": 12,
    "start_time": "2022-05-01T14:13:49.451Z"
   },
   {
    "duration": 11,
    "start_time": "2022-05-01T14:14:11.655Z"
   },
   {
    "duration": 11,
    "start_time": "2022-05-01T14:15:14.667Z"
   },
   {
    "duration": 16,
    "start_time": "2022-05-01T14:15:34.084Z"
   },
   {
    "duration": 4,
    "start_time": "2022-05-01T14:16:01.723Z"
   },
   {
    "duration": 496,
    "start_time": "2022-05-01T14:16:01.729Z"
   },
   {
    "duration": 42,
    "start_time": "2022-05-01T14:16:02.228Z"
   },
   {
    "duration": 37,
    "start_time": "2022-05-01T14:16:02.272Z"
   },
   {
    "duration": 63,
    "start_time": "2022-05-01T14:16:02.313Z"
   },
   {
    "duration": 34,
    "start_time": "2022-05-01T14:16:02.379Z"
   },
   {
    "duration": 58,
    "start_time": "2022-05-01T14:16:02.416Z"
   },
   {
    "duration": 28,
    "start_time": "2022-05-01T14:16:02.477Z"
   },
   {
    "duration": 46,
    "start_time": "2022-05-01T14:16:02.508Z"
   },
   {
    "duration": 47,
    "start_time": "2022-05-01T14:16:02.557Z"
   },
   {
    "duration": 112,
    "start_time": "2022-05-01T14:16:02.610Z"
   },
   {
    "duration": 77,
    "start_time": "2022-05-01T14:16:02.724Z"
   },
   {
    "duration": 3,
    "start_time": "2022-05-01T14:16:02.804Z"
   },
   {
    "duration": 84,
    "start_time": "2022-05-01T14:16:02.809Z"
   },
   {
    "duration": 7,
    "start_time": "2022-05-01T14:16:02.895Z"
   },
   {
    "duration": 11,
    "start_time": "2022-05-01T14:16:02.904Z"
   },
   {
    "duration": 5,
    "start_time": "2022-05-01T14:16:02.918Z"
   },
   {
    "duration": 73,
    "start_time": "2022-05-01T14:16:02.925Z"
   },
   {
    "duration": 31,
    "start_time": "2022-05-01T14:16:03.000Z"
   },
   {
    "duration": 27,
    "start_time": "2022-05-01T14:16:03.034Z"
   },
   {
    "duration": 55,
    "start_time": "2022-05-01T14:16:03.063Z"
   },
   {
    "duration": 34,
    "start_time": "2022-05-01T14:16:03.120Z"
   },
   {
    "duration": 20,
    "start_time": "2022-05-01T14:16:03.156Z"
   },
   {
    "duration": 19,
    "start_time": "2022-05-01T14:16:03.178Z"
   },
   {
    "duration": 76,
    "start_time": "2022-05-01T14:16:03.199Z"
   },
   {
    "duration": 10,
    "start_time": "2022-05-01T14:16:03.277Z"
   },
   {
    "duration": 131,
    "start_time": "2022-05-01T14:16:03.289Z"
   },
   {
    "duration": 17,
    "start_time": "2022-05-01T14:16:10.452Z"
   },
   {
    "duration": 17,
    "start_time": "2022-05-01T14:16:22.804Z"
   },
   {
    "duration": 9,
    "start_time": "2022-05-01T14:16:40.140Z"
   },
   {
    "duration": 12,
    "start_time": "2022-05-01T14:16:55.171Z"
   },
   {
    "duration": 97,
    "start_time": "2022-05-01T14:19:43.703Z"
   },
   {
    "duration": 17,
    "start_time": "2022-05-01T14:19:53.348Z"
   },
   {
    "duration": 18,
    "start_time": "2022-05-01T14:20:16.627Z"
   },
   {
    "duration": 20,
    "start_time": "2022-05-01T14:20:21.723Z"
   },
   {
    "duration": 17,
    "start_time": "2022-05-01T14:22:55.824Z"
   },
   {
    "duration": 16,
    "start_time": "2022-05-01T14:23:16.452Z"
   },
   {
    "duration": 19,
    "start_time": "2022-05-01T14:25:48.908Z"
   },
   {
    "duration": 18,
    "start_time": "2022-05-01T14:26:34.759Z"
   },
   {
    "duration": 33,
    "start_time": "2022-05-01T14:26:44.759Z"
   },
   {
    "duration": 35,
    "start_time": "2022-05-01T14:27:15.575Z"
   },
   {
    "duration": 20,
    "start_time": "2022-05-01T14:27:28.359Z"
   },
   {
    "duration": 11,
    "start_time": "2022-05-01T14:27:35.987Z"
   },
   {
    "duration": 34,
    "start_time": "2022-05-01T14:27:38.855Z"
   },
   {
    "duration": 28,
    "start_time": "2022-05-01T14:27:58.767Z"
   },
   {
    "duration": 15,
    "start_time": "2022-05-01T14:29:50.287Z"
   },
   {
    "duration": 40,
    "start_time": "2022-05-01T14:29:56.003Z"
   },
   {
    "duration": 37,
    "start_time": "2022-05-01T14:30:11.826Z"
   },
   {
    "duration": 95,
    "start_time": "2022-05-01T14:30:58.011Z"
   },
   {
    "duration": 234,
    "start_time": "2022-05-01T14:31:04.335Z"
   },
   {
    "duration": 2488,
    "start_time": "2022-05-01T14:31:15.423Z"
   },
   {
    "duration": 3313,
    "start_time": "2022-05-01T14:31:17.913Z"
   },
   {
    "duration": 8162,
    "start_time": "2022-05-01T14:32:14.931Z"
   },
   {
    "duration": 5946,
    "start_time": "2022-05-01T14:32:38.939Z"
   },
   {
    "duration": 4,
    "start_time": "2022-05-01T14:33:24.943Z"
   },
   {
    "duration": 567,
    "start_time": "2022-05-01T14:33:24.949Z"
   },
   {
    "duration": 43,
    "start_time": "2022-05-01T14:33:25.519Z"
   },
   {
    "duration": 35,
    "start_time": "2022-05-01T14:33:25.565Z"
   },
   {
    "duration": 62,
    "start_time": "2022-05-01T14:33:25.602Z"
   },
   {
    "duration": 35,
    "start_time": "2022-05-01T14:33:25.666Z"
   },
   {
    "duration": 66,
    "start_time": "2022-05-01T14:33:25.703Z"
   },
   {
    "duration": 44,
    "start_time": "2022-05-01T14:33:25.772Z"
   },
   {
    "duration": 47,
    "start_time": "2022-05-01T14:33:25.819Z"
   },
   {
    "duration": 8,
    "start_time": "2022-05-01T14:33:25.868Z"
   },
   {
    "duration": 127,
    "start_time": "2022-05-01T14:33:25.880Z"
   },
   {
    "duration": 81,
    "start_time": "2022-05-01T14:33:26.009Z"
   },
   {
    "duration": 3,
    "start_time": "2022-05-01T14:33:26.093Z"
   },
   {
    "duration": 73,
    "start_time": "2022-05-01T14:33:26.098Z"
   },
   {
    "duration": 8,
    "start_time": "2022-05-01T14:33:26.173Z"
   },
   {
    "duration": 15,
    "start_time": "2022-05-01T14:33:26.183Z"
   },
   {
    "duration": 6,
    "start_time": "2022-05-01T14:33:26.201Z"
   },
   {
    "duration": 81,
    "start_time": "2022-05-01T14:33:26.209Z"
   },
   {
    "duration": 28,
    "start_time": "2022-05-01T14:33:26.292Z"
   },
   {
    "duration": 11,
    "start_time": "2022-05-01T14:33:26.322Z"
   },
   {
    "duration": 50,
    "start_time": "2022-05-01T14:33:26.351Z"
   },
   {
    "duration": 18,
    "start_time": "2022-05-01T14:33:26.403Z"
   },
   {
    "duration": 40,
    "start_time": "2022-05-01T14:33:26.423Z"
   },
   {
    "duration": 19,
    "start_time": "2022-05-01T14:33:26.465Z"
   },
   {
    "duration": 67,
    "start_time": "2022-05-01T14:33:26.486Z"
   },
   {
    "duration": 11,
    "start_time": "2022-05-01T14:33:26.555Z"
   },
   {
    "duration": 61,
    "start_time": "2022-05-01T14:33:26.569Z"
   },
   {
    "duration": 21,
    "start_time": "2022-05-01T14:33:26.653Z"
   },
   {
    "duration": 10,
    "start_time": "2022-05-01T14:33:26.679Z"
   },
   {
    "duration": 5,
    "start_time": "2022-05-01T14:33:45.214Z"
   },
   {
    "duration": 8,
    "start_time": "2022-05-01T14:33:47.910Z"
   },
   {
    "duration": 7,
    "start_time": "2022-05-01T14:34:07.547Z"
   },
   {
    "duration": 520,
    "start_time": "2022-05-01T14:34:07.558Z"
   },
   {
    "duration": 41,
    "start_time": "2022-05-01T14:34:08.081Z"
   },
   {
    "duration": 45,
    "start_time": "2022-05-01T14:34:08.125Z"
   },
   {
    "duration": 38,
    "start_time": "2022-05-01T14:34:08.173Z"
   },
   {
    "duration": 59,
    "start_time": "2022-05-01T14:34:08.214Z"
   },
   {
    "duration": 34,
    "start_time": "2022-05-01T14:34:08.276Z"
   },
   {
    "duration": 62,
    "start_time": "2022-05-01T14:34:08.313Z"
   },
   {
    "duration": 12,
    "start_time": "2022-05-01T14:34:08.377Z"
   },
   {
    "duration": 6,
    "start_time": "2022-05-01T14:34:08.391Z"
   },
   {
    "duration": 167,
    "start_time": "2022-05-01T14:34:08.401Z"
   },
   {
    "duration": 83,
    "start_time": "2022-05-01T14:34:08.570Z"
   },
   {
    "duration": 9,
    "start_time": "2022-05-01T14:34:08.657Z"
   },
   {
    "duration": 62,
    "start_time": "2022-05-01T14:34:08.669Z"
   },
   {
    "duration": 23,
    "start_time": "2022-05-01T14:34:08.734Z"
   },
   {
    "duration": 23,
    "start_time": "2022-05-01T14:34:08.760Z"
   },
   {
    "duration": 6,
    "start_time": "2022-05-01T14:34:08.786Z"
   },
   {
    "duration": 96,
    "start_time": "2022-05-01T14:34:08.795Z"
   },
   {
    "duration": 37,
    "start_time": "2022-05-01T14:34:08.894Z"
   },
   {
    "duration": 25,
    "start_time": "2022-05-01T14:34:08.934Z"
   },
   {
    "duration": 75,
    "start_time": "2022-05-01T14:34:08.962Z"
   },
   {
    "duration": 35,
    "start_time": "2022-05-01T14:34:09.040Z"
   },
   {
    "duration": 14,
    "start_time": "2022-05-01T14:34:09.077Z"
   },
   {
    "duration": 26,
    "start_time": "2022-05-01T14:34:09.094Z"
   },
   {
    "duration": 59,
    "start_time": "2022-05-01T14:34:09.151Z"
   },
   {
    "duration": 15,
    "start_time": "2022-05-01T14:34:09.213Z"
   },
   {
    "duration": 73,
    "start_time": "2022-05-01T14:34:09.255Z"
   },
   {
    "duration": 22,
    "start_time": "2022-05-01T14:34:09.330Z"
   },
   {
    "duration": 6,
    "start_time": "2022-05-01T14:34:09.359Z"
   },
   {
    "duration": 8,
    "start_time": "2022-05-01T14:34:09.369Z"
   },
   {
    "duration": 21,
    "start_time": "2022-05-01T14:34:13.827Z"
   },
   {
    "duration": 17,
    "start_time": "2022-05-01T14:34:21.384Z"
   },
   {
    "duration": 13,
    "start_time": "2022-05-01T14:35:00.075Z"
   },
   {
    "duration": 10,
    "start_time": "2022-05-01T14:35:12.303Z"
   },
   {
    "duration": 33,
    "start_time": "2022-05-01T14:35:27.927Z"
   },
   {
    "duration": 30,
    "start_time": "2022-05-01T14:35:34.278Z"
   },
   {
    "duration": 10,
    "start_time": "2022-05-01T14:38:53.774Z"
   },
   {
    "duration": 6,
    "start_time": "2022-05-01T14:39:01.095Z"
   },
   {
    "duration": 24,
    "start_time": "2022-05-01T14:39:06.539Z"
   },
   {
    "duration": 13,
    "start_time": "2022-05-01T14:39:54.955Z"
   },
   {
    "duration": 34,
    "start_time": "2022-05-01T14:39:58.215Z"
   },
   {
    "duration": 26,
    "start_time": "2022-05-01T14:40:09.208Z"
   },
   {
    "duration": 33,
    "start_time": "2022-05-01T14:40:13.626Z"
   },
   {
    "duration": 33,
    "start_time": "2022-05-01T14:40:30.510Z"
   },
   {
    "duration": 4,
    "start_time": "2022-05-01T14:40:33.242Z"
   },
   {
    "duration": 463,
    "start_time": "2022-05-01T14:40:33.249Z"
   },
   {
    "duration": 42,
    "start_time": "2022-05-01T14:40:33.715Z"
   },
   {
    "duration": 32,
    "start_time": "2022-05-01T14:40:33.759Z"
   },
   {
    "duration": 62,
    "start_time": "2022-05-01T14:40:33.793Z"
   },
   {
    "duration": 34,
    "start_time": "2022-05-01T14:40:33.857Z"
   },
   {
    "duration": 30,
    "start_time": "2022-05-01T14:40:33.893Z"
   },
   {
    "duration": 58,
    "start_time": "2022-05-01T14:40:33.925Z"
   },
   {
    "duration": 17,
    "start_time": "2022-05-01T14:40:33.985Z"
   },
   {
    "duration": 6,
    "start_time": "2022-05-01T14:40:34.004Z"
   },
   {
    "duration": 158,
    "start_time": "2022-05-01T14:40:34.014Z"
   },
   {
    "duration": 77,
    "start_time": "2022-05-01T14:40:34.174Z"
   },
   {
    "duration": 3,
    "start_time": "2022-05-01T14:40:34.254Z"
   },
   {
    "duration": 55,
    "start_time": "2022-05-01T14:40:34.259Z"
   },
   {
    "duration": 8,
    "start_time": "2022-05-01T14:40:34.316Z"
   },
   {
    "duration": 31,
    "start_time": "2022-05-01T14:40:34.326Z"
   },
   {
    "duration": 6,
    "start_time": "2022-05-01T14:40:34.359Z"
   },
   {
    "duration": 59,
    "start_time": "2022-05-01T14:40:34.368Z"
   },
   {
    "duration": 50,
    "start_time": "2022-05-01T14:40:34.429Z"
   },
   {
    "duration": 12,
    "start_time": "2022-05-01T14:40:34.480Z"
   },
   {
    "duration": 74,
    "start_time": "2022-05-01T14:40:34.494Z"
   },
   {
    "duration": 17,
    "start_time": "2022-05-01T14:40:34.571Z"
   },
   {
    "duration": 17,
    "start_time": "2022-05-01T14:40:34.590Z"
   },
   {
    "duration": 44,
    "start_time": "2022-05-01T14:40:34.610Z"
   },
   {
    "duration": 49,
    "start_time": "2022-05-01T14:40:34.656Z"
   },
   {
    "duration": 11,
    "start_time": "2022-05-01T14:40:34.707Z"
   },
   {
    "duration": 83,
    "start_time": "2022-05-01T14:40:34.721Z"
   },
   {
    "duration": 18,
    "start_time": "2022-05-01T14:40:34.806Z"
   },
   {
    "duration": 4,
    "start_time": "2022-05-01T14:40:34.851Z"
   },
   {
    "duration": 26,
    "start_time": "2022-05-01T14:40:34.857Z"
   },
   {
    "duration": 14,
    "start_time": "2022-05-01T14:40:34.886Z"
   },
   {
    "duration": 11,
    "start_time": "2022-05-01T14:40:34.902Z"
   },
   {
    "duration": 40,
    "start_time": "2022-05-01T14:40:34.915Z"
   },
   {
    "duration": 32,
    "start_time": "2022-05-01T14:40:34.957Z"
   },
   {
    "duration": 14,
    "start_time": "2022-05-01T14:40:34.991Z"
   },
   {
    "duration": 59,
    "start_time": "2022-05-01T14:40:35.007Z"
   },
   {
    "duration": 28,
    "start_time": "2022-05-01T14:41:20.954Z"
   },
   {
    "duration": 450,
    "start_time": "2022-05-01T14:42:14.271Z"
   },
   {
    "duration": 64,
    "start_time": "2022-05-01T14:42:15.539Z"
   },
   {
    "duration": 41,
    "start_time": "2022-05-01T14:42:28.219Z"
   },
   {
    "duration": 18,
    "start_time": "2022-05-01T14:49:14.348Z"
   },
   {
    "duration": 11,
    "start_time": "2022-05-01T14:49:45.791Z"
   },
   {
    "duration": 43,
    "start_time": "2022-05-01T14:49:56.803Z"
   },
   {
    "duration": 4,
    "start_time": "2022-05-01T14:50:03.279Z"
   },
   {
    "duration": 478,
    "start_time": "2022-05-01T14:50:03.285Z"
   },
   {
    "duration": 45,
    "start_time": "2022-05-01T14:50:03.766Z"
   },
   {
    "duration": 50,
    "start_time": "2022-05-01T14:50:03.814Z"
   },
   {
    "duration": 37,
    "start_time": "2022-05-01T14:50:03.867Z"
   },
   {
    "duration": 64,
    "start_time": "2022-05-01T14:50:03.906Z"
   },
   {
    "duration": 32,
    "start_time": "2022-05-01T14:50:03.973Z"
   },
   {
    "duration": 47,
    "start_time": "2022-05-01T14:50:04.007Z"
   },
   {
    "duration": 21,
    "start_time": "2022-05-01T14:50:04.056Z"
   },
   {
    "duration": 36,
    "start_time": "2022-05-01T14:50:04.079Z"
   },
   {
    "duration": 188,
    "start_time": "2022-05-01T14:50:04.119Z"
   },
   {
    "duration": 83,
    "start_time": "2022-05-01T14:50:04.310Z"
   },
   {
    "duration": 3,
    "start_time": "2022-05-01T14:50:04.396Z"
   },
   {
    "duration": 77,
    "start_time": "2022-05-01T14:50:04.401Z"
   },
   {
    "duration": 7,
    "start_time": "2022-05-01T14:50:04.480Z"
   },
   {
    "duration": 16,
    "start_time": "2022-05-01T14:50:04.489Z"
   },
   {
    "duration": 6,
    "start_time": "2022-05-01T14:50:04.507Z"
   },
   {
    "duration": 77,
    "start_time": "2022-05-01T14:50:04.515Z"
   },
   {
    "duration": 30,
    "start_time": "2022-05-01T14:50:04.595Z"
   },
   {
    "duration": 11,
    "start_time": "2022-05-01T14:50:04.627Z"
   },
   {
    "duration": 51,
    "start_time": "2022-05-01T14:50:04.652Z"
   },
   {
    "duration": 17,
    "start_time": "2022-05-01T14:50:04.705Z"
   },
   {
    "duration": 13,
    "start_time": "2022-05-01T14:50:04.752Z"
   },
   {
    "duration": 21,
    "start_time": "2022-05-01T14:50:04.767Z"
   },
   {
    "duration": 70,
    "start_time": "2022-05-01T14:50:04.790Z"
   },
   {
    "duration": 12,
    "start_time": "2022-05-01T14:50:04.862Z"
   },
   {
    "duration": 76,
    "start_time": "2022-05-01T14:50:04.876Z"
   },
   {
    "duration": 17,
    "start_time": "2022-05-01T14:50:04.954Z"
   },
   {
    "duration": 3,
    "start_time": "2022-05-01T14:50:04.976Z"
   },
   {
    "duration": 22,
    "start_time": "2022-05-01T14:50:04.981Z"
   },
   {
    "duration": 48,
    "start_time": "2022-05-01T14:50:05.005Z"
   },
   {
    "duration": 3,
    "start_time": "2022-05-01T14:50:05.056Z"
   },
   {
    "duration": 23,
    "start_time": "2022-05-01T14:50:05.061Z"
   },
   {
    "duration": 31,
    "start_time": "2022-05-01T14:50:05.086Z"
   },
   {
    "duration": 17,
    "start_time": "2022-05-01T14:50:05.120Z"
   },
   {
    "duration": 39,
    "start_time": "2022-05-01T14:50:14.043Z"
   },
   {
    "duration": 40,
    "start_time": "2022-05-01T14:52:41.247Z"
   },
   {
    "duration": 4,
    "start_time": "2022-05-01T14:52:51.823Z"
   },
   {
    "duration": 471,
    "start_time": "2022-05-01T14:52:51.829Z"
   },
   {
    "duration": 45,
    "start_time": "2022-05-01T14:52:52.303Z"
   },
   {
    "duration": 33,
    "start_time": "2022-05-01T14:52:52.351Z"
   },
   {
    "duration": 38,
    "start_time": "2022-05-01T14:52:52.387Z"
   },
   {
    "duration": 57,
    "start_time": "2022-05-01T14:52:52.427Z"
   },
   {
    "duration": 34,
    "start_time": "2022-05-01T14:52:52.486Z"
   },
   {
    "duration": 32,
    "start_time": "2022-05-01T14:52:52.551Z"
   },
   {
    "duration": 13,
    "start_time": "2022-05-01T14:52:52.586Z"
   },
   {
    "duration": 4,
    "start_time": "2022-05-01T14:52:52.602Z"
   },
   {
    "duration": 123,
    "start_time": "2022-05-01T14:52:52.651Z"
   },
   {
    "duration": 75,
    "start_time": "2022-05-01T14:52:52.776Z"
   },
   {
    "duration": 3,
    "start_time": "2022-05-01T14:52:52.854Z"
   },
   {
    "duration": 62,
    "start_time": "2022-05-01T14:52:52.859Z"
   },
   {
    "duration": 7,
    "start_time": "2022-05-01T14:52:52.923Z"
   },
   {
    "duration": 10,
    "start_time": "2022-05-01T14:52:52.951Z"
   },
   {
    "duration": 6,
    "start_time": "2022-05-01T14:52:52.963Z"
   },
   {
    "duration": 54,
    "start_time": "2022-05-01T14:52:52.971Z"
   },
   {
    "duration": 29,
    "start_time": "2022-05-01T14:52:53.051Z"
   },
   {
    "duration": 11,
    "start_time": "2022-05-01T14:52:53.082Z"
   },
   {
    "duration": 71,
    "start_time": "2022-05-01T14:52:53.095Z"
   },
   {
    "duration": 17,
    "start_time": "2022-05-01T14:52:53.168Z"
   },
   {
    "duration": 15,
    "start_time": "2022-05-01T14:52:53.187Z"
   },
   {
    "duration": 48,
    "start_time": "2022-05-01T14:52:53.204Z"
   },
   {
    "duration": 43,
    "start_time": "2022-05-01T14:52:53.254Z"
   },
   {
    "duration": 11,
    "start_time": "2022-05-01T14:52:53.299Z"
   },
   {
    "duration": 85,
    "start_time": "2022-05-01T14:52:53.313Z"
   },
   {
    "duration": 17,
    "start_time": "2022-05-01T14:52:53.400Z"
   },
   {
    "duration": 5,
    "start_time": "2022-05-01T14:52:53.422Z"
   },
   {
    "duration": 41,
    "start_time": "2022-05-01T14:52:53.429Z"
   },
   {
    "duration": 14,
    "start_time": "2022-05-01T14:52:53.471Z"
   },
   {
    "duration": 5,
    "start_time": "2022-05-01T14:52:53.487Z"
   },
   {
    "duration": 6,
    "start_time": "2022-05-01T14:52:53.494Z"
   },
   {
    "duration": 65,
    "start_time": "2022-05-01T14:52:53.502Z"
   },
   {
    "duration": 4,
    "start_time": "2022-05-01T14:55:24.535Z"
   },
   {
    "duration": 455,
    "start_time": "2022-05-01T14:55:24.541Z"
   },
   {
    "duration": 41,
    "start_time": "2022-05-01T14:55:24.998Z"
   },
   {
    "duration": 36,
    "start_time": "2022-05-01T14:55:25.041Z"
   },
   {
    "duration": 37,
    "start_time": "2022-05-01T14:55:25.080Z"
   },
   {
    "duration": 58,
    "start_time": "2022-05-01T14:55:25.119Z"
   },
   {
    "duration": 33,
    "start_time": "2022-05-01T14:55:25.179Z"
   },
   {
    "duration": 54,
    "start_time": "2022-05-01T14:55:25.214Z"
   },
   {
    "duration": 11,
    "start_time": "2022-05-01T14:55:25.271Z"
   },
   {
    "duration": 8,
    "start_time": "2022-05-01T14:55:25.284Z"
   },
   {
    "duration": 139,
    "start_time": "2022-05-01T14:55:25.296Z"
   },
   {
    "duration": 77,
    "start_time": "2022-05-01T14:55:25.438Z"
   },
   {
    "duration": 3,
    "start_time": "2022-05-01T14:55:25.517Z"
   },
   {
    "duration": 73,
    "start_time": "2022-05-01T14:55:25.523Z"
   },
   {
    "duration": 8,
    "start_time": "2022-05-01T14:55:25.598Z"
   },
   {
    "duration": 10,
    "start_time": "2022-05-01T14:55:25.608Z"
   },
   {
    "duration": 6,
    "start_time": "2022-05-01T14:55:25.620Z"
   },
   {
    "duration": 77,
    "start_time": "2022-05-01T14:55:25.628Z"
   },
   {
    "duration": 29,
    "start_time": "2022-05-01T14:55:25.707Z"
   },
   {
    "duration": 12,
    "start_time": "2022-05-01T14:55:25.751Z"
   },
   {
    "duration": 49,
    "start_time": "2022-05-01T14:55:25.765Z"
   },
   {
    "duration": 37,
    "start_time": "2022-05-01T14:55:25.816Z"
   },
   {
    "duration": 19,
    "start_time": "2022-05-01T14:55:25.855Z"
   },
   {
    "duration": 20,
    "start_time": "2022-05-01T14:55:25.877Z"
   },
   {
    "duration": 72,
    "start_time": "2022-05-01T14:55:25.899Z"
   },
   {
    "duration": 11,
    "start_time": "2022-05-01T14:55:25.973Z"
   },
   {
    "duration": 70,
    "start_time": "2022-05-01T14:55:25.986Z"
   },
   {
    "duration": 16,
    "start_time": "2022-05-01T14:55:26.059Z"
   },
   {
    "duration": 3,
    "start_time": "2022-05-01T14:55:26.082Z"
   },
   {
    "duration": 21,
    "start_time": "2022-05-01T14:55:26.088Z"
   },
   {
    "duration": 50,
    "start_time": "2022-05-01T14:55:26.112Z"
   },
   {
    "duration": 5,
    "start_time": "2022-05-01T14:55:26.164Z"
   },
   {
    "duration": 6,
    "start_time": "2022-05-01T14:55:26.171Z"
   },
   {
    "duration": 32,
    "start_time": "2022-05-01T14:55:26.179Z"
   },
   {
    "duration": 50,
    "start_time": "2022-05-01T14:55:26.213Z"
   },
   {
    "duration": 17,
    "start_time": "2022-05-01T14:55:49.719Z"
   },
   {
    "duration": 11,
    "start_time": "2022-05-01T14:57:04.014Z"
   },
   {
    "duration": 30,
    "start_time": "2022-05-01T14:57:12.014Z"
   },
   {
    "duration": 20,
    "start_time": "2022-05-01T14:57:20.200Z"
   },
   {
    "duration": 19,
    "start_time": "2022-05-01T14:57:28.294Z"
   },
   {
    "duration": 13,
    "start_time": "2022-05-01T14:58:01.099Z"
   },
   {
    "duration": 14,
    "start_time": "2022-05-01T14:58:18.546Z"
   },
   {
    "duration": 49,
    "start_time": "2022-05-01T14:58:50.634Z"
   },
   {
    "duration": 16,
    "start_time": "2022-05-01T14:59:48.851Z"
   },
   {
    "duration": 26,
    "start_time": "2022-05-01T14:59:58.326Z"
   },
   {
    "duration": 52,
    "start_time": "2022-05-01T15:00:17.371Z"
   },
   {
    "duration": 18,
    "start_time": "2022-05-01T15:01:14.807Z"
   },
   {
    "duration": 6,
    "start_time": "2022-05-01T15:01:41.791Z"
   },
   {
    "duration": 17,
    "start_time": "2022-05-01T15:01:51.214Z"
   },
   {
    "duration": 4,
    "start_time": "2022-05-01T15:01:56.803Z"
   },
   {
    "duration": 443,
    "start_time": "2022-05-01T15:01:56.809Z"
   },
   {
    "duration": 41,
    "start_time": "2022-05-01T15:01:57.255Z"
   },
   {
    "duration": 54,
    "start_time": "2022-05-01T15:01:57.298Z"
   },
   {
    "duration": 38,
    "start_time": "2022-05-01T15:01:57.355Z"
   },
   {
    "duration": 58,
    "start_time": "2022-05-01T15:01:57.395Z"
   },
   {
    "duration": 32,
    "start_time": "2022-05-01T15:01:57.455Z"
   },
   {
    "duration": 29,
    "start_time": "2022-05-01T15:01:57.489Z"
   },
   {
    "duration": 37,
    "start_time": "2022-05-01T15:01:57.520Z"
   },
   {
    "duration": 7,
    "start_time": "2022-05-01T15:01:57.561Z"
   },
   {
    "duration": 136,
    "start_time": "2022-05-01T15:01:57.574Z"
   },
   {
    "duration": 76,
    "start_time": "2022-05-01T15:01:57.712Z"
   },
   {
    "duration": 3,
    "start_time": "2022-05-01T15:01:57.791Z"
   },
   {
    "duration": 69,
    "start_time": "2022-05-01T15:01:57.796Z"
   },
   {
    "duration": 9,
    "start_time": "2022-05-01T15:01:57.867Z"
   },
   {
    "duration": 10,
    "start_time": "2022-05-01T15:01:57.878Z"
   },
   {
    "duration": 6,
    "start_time": "2022-05-01T15:01:57.890Z"
   },
   {
    "duration": 76,
    "start_time": "2022-05-01T15:01:57.898Z"
   },
   {
    "duration": 6,
    "start_time": "2022-05-01T15:01:57.976Z"
   },
   {
    "duration": 29,
    "start_time": "2022-05-01T15:01:57.984Z"
   },
   {
    "duration": 10,
    "start_time": "2022-05-01T15:01:58.016Z"
   },
   {
    "duration": 48,
    "start_time": "2022-05-01T15:01:58.052Z"
   },
   {
    "duration": 12,
    "start_time": "2022-05-01T15:01:58.102Z"
   },
   {
    "duration": 39,
    "start_time": "2022-05-01T15:01:58.116Z"
   },
   {
    "duration": 18,
    "start_time": "2022-05-01T15:01:58.157Z"
   },
   {
    "duration": 43,
    "start_time": "2022-05-01T15:01:58.177Z"
   },
   {
    "duration": 32,
    "start_time": "2022-05-01T15:01:58.222Z"
   },
   {
    "duration": 55,
    "start_time": "2022-05-01T15:01:58.256Z"
   },
   {
    "duration": 38,
    "start_time": "2022-05-01T15:01:58.315Z"
   },
   {
    "duration": 4,
    "start_time": "2022-05-01T15:01:58.355Z"
   },
   {
    "duration": 25,
    "start_time": "2022-05-01T15:01:58.361Z"
   },
   {
    "duration": 26,
    "start_time": "2022-05-01T15:01:58.388Z"
   },
   {
    "duration": 10,
    "start_time": "2022-05-01T15:01:58.416Z"
   },
   {
    "duration": 24,
    "start_time": "2022-05-01T15:01:58.428Z"
   },
   {
    "duration": 37,
    "start_time": "2022-05-01T15:01:58.454Z"
   },
   {
    "duration": 12,
    "start_time": "2022-05-01T15:01:58.493Z"
   },
   {
    "duration": 18,
    "start_time": "2022-05-01T15:01:58.507Z"
   },
   {
    "duration": 31,
    "start_time": "2022-05-01T15:01:58.527Z"
   },
   {
    "duration": 13,
    "start_time": "2022-05-01T15:03:16.315Z"
   },
   {
    "duration": 4,
    "start_time": "2022-05-01T15:03:22.387Z"
   },
   {
    "duration": 460,
    "start_time": "2022-05-01T15:03:22.394Z"
   },
   {
    "duration": 43,
    "start_time": "2022-05-01T15:03:22.858Z"
   },
   {
    "duration": 58,
    "start_time": "2022-05-01T15:03:22.904Z"
   },
   {
    "duration": 40,
    "start_time": "2022-05-01T15:03:22.967Z"
   },
   {
    "duration": 66,
    "start_time": "2022-05-01T15:03:23.010Z"
   },
   {
    "duration": 35,
    "start_time": "2022-05-01T15:03:23.079Z"
   },
   {
    "duration": 57,
    "start_time": "2022-05-01T15:03:23.117Z"
   },
   {
    "duration": 12,
    "start_time": "2022-05-01T15:03:23.176Z"
   },
   {
    "duration": 5,
    "start_time": "2022-05-01T15:03:23.190Z"
   },
   {
    "duration": 141,
    "start_time": "2022-05-01T15:03:23.199Z"
   },
   {
    "duration": 74,
    "start_time": "2022-05-01T15:03:23.342Z"
   },
   {
    "duration": 4,
    "start_time": "2022-05-01T15:03:23.418Z"
   },
   {
    "duration": 75,
    "start_time": "2022-05-01T15:03:23.424Z"
   },
   {
    "duration": 9,
    "start_time": "2022-05-01T15:03:23.502Z"
   },
   {
    "duration": 13,
    "start_time": "2022-05-01T15:03:23.513Z"
   },
   {
    "duration": 26,
    "start_time": "2022-05-01T15:03:23.528Z"
   },
   {
    "duration": 52,
    "start_time": "2022-05-01T15:03:23.557Z"
   },
   {
    "duration": 6,
    "start_time": "2022-05-01T15:03:23.611Z"
   },
   {
    "duration": 40,
    "start_time": "2022-05-01T15:03:23.620Z"
   },
   {
    "duration": 32,
    "start_time": "2022-05-01T15:03:23.662Z"
   },
   {
    "duration": 12,
    "start_time": "2022-05-01T15:03:23.696Z"
   },
   {
    "duration": 82,
    "start_time": "2022-05-01T15:03:23.711Z"
   },
   {
    "duration": 15,
    "start_time": "2022-05-01T15:03:23.795Z"
   },
   {
    "duration": 39,
    "start_time": "2022-05-01T15:03:23.813Z"
   },
   {
    "duration": 20,
    "start_time": "2022-05-01T15:03:23.854Z"
   },
   {
    "duration": 43,
    "start_time": "2022-05-01T15:03:23.877Z"
   },
   {
    "duration": 12,
    "start_time": "2022-05-01T15:03:23.951Z"
   },
   {
    "duration": 56,
    "start_time": "2022-05-01T15:03:23.970Z"
   },
   {
    "duration": 16,
    "start_time": "2022-05-01T15:03:24.051Z"
   },
   {
    "duration": 8,
    "start_time": "2022-05-01T15:03:24.069Z"
   },
   {
    "duration": 23,
    "start_time": "2022-05-01T15:03:24.080Z"
   },
   {
    "duration": 13,
    "start_time": "2022-05-01T15:03:24.105Z"
   },
   {
    "duration": 31,
    "start_time": "2022-05-01T15:03:24.121Z"
   },
   {
    "duration": 7,
    "start_time": "2022-05-01T15:03:24.155Z"
   },
   {
    "duration": 35,
    "start_time": "2022-05-01T15:03:24.164Z"
   },
   {
    "duration": 8,
    "start_time": "2022-05-01T15:03:24.202Z"
   },
   {
    "duration": 48,
    "start_time": "2022-05-01T15:03:24.212Z"
   },
   {
    "duration": 20,
    "start_time": "2022-05-01T15:03:24.262Z"
   },
   {
    "duration": 2329,
    "start_time": "2022-05-01T15:04:38.862Z"
   },
   {
    "duration": 0,
    "start_time": "2022-05-01T15:04:41.194Z"
   },
   {
    "duration": 4,
    "start_time": "2022-05-01T15:04:46.835Z"
   },
   {
    "duration": 471,
    "start_time": "2022-05-01T15:04:46.841Z"
   },
   {
    "duration": 42,
    "start_time": "2022-05-01T15:04:47.315Z"
   },
   {
    "duration": 32,
    "start_time": "2022-05-01T15:04:47.359Z"
   },
   {
    "duration": 62,
    "start_time": "2022-05-01T15:04:47.395Z"
   },
   {
    "duration": 34,
    "start_time": "2022-05-01T15:04:47.459Z"
   },
   {
    "duration": 58,
    "start_time": "2022-05-01T15:04:47.495Z"
   },
   {
    "duration": 31,
    "start_time": "2022-05-01T15:04:47.555Z"
   },
   {
    "duration": 12,
    "start_time": "2022-05-01T15:04:47.589Z"
   },
   {
    "duration": 5,
    "start_time": "2022-05-01T15:04:47.603Z"
   },
   {
    "duration": 156,
    "start_time": "2022-05-01T15:04:47.612Z"
   },
   {
    "duration": 69,
    "start_time": "2022-05-01T15:04:47.770Z"
   },
   {
    "duration": 4,
    "start_time": "2022-05-01T15:04:47.852Z"
   },
   {
    "duration": 61,
    "start_time": "2022-05-01T15:04:47.859Z"
   },
   {
    "duration": 30,
    "start_time": "2022-05-01T15:04:47.922Z"
   },
   {
    "duration": 11,
    "start_time": "2022-05-01T15:04:47.954Z"
   },
   {
    "duration": 7,
    "start_time": "2022-05-01T15:04:47.968Z"
   },
   {
    "duration": 82,
    "start_time": "2022-05-01T15:04:47.977Z"
   },
   {
    "duration": 6,
    "start_time": "2022-05-01T15:04:48.061Z"
   },
   {
    "duration": 33,
    "start_time": "2022-05-01T15:04:48.069Z"
   },
   {
    "duration": 72,
    "start_time": "2022-05-01T15:04:48.104Z"
   },
   {
    "duration": 12,
    "start_time": "2022-05-01T15:04:48.178Z"
   },
   {
    "duration": 22,
    "start_time": "2022-05-01T15:04:48.192Z"
   },
   {
    "duration": 20,
    "start_time": "2022-05-01T15:04:48.217Z"
   },
   {
    "duration": 42,
    "start_time": "2022-05-01T15:04:48.251Z"
   },
   {
    "duration": 11,
    "start_time": "2022-05-01T15:04:48.295Z"
   },
   {
    "duration": 87,
    "start_time": "2022-05-01T15:04:48.307Z"
   },
   {
    "duration": 16,
    "start_time": "2022-05-01T15:04:48.396Z"
   },
   {
    "duration": 7,
    "start_time": "2022-05-01T15:04:48.416Z"
   },
   {
    "duration": 37,
    "start_time": "2022-05-01T15:04:48.425Z"
   },
   {
    "duration": 12,
    "start_time": "2022-05-01T15:04:48.465Z"
   },
   {
    "duration": 6,
    "start_time": "2022-05-01T15:04:48.479Z"
   },
   {
    "duration": 10,
    "start_time": "2022-05-01T15:04:48.487Z"
   },
   {
    "duration": 60,
    "start_time": "2022-05-01T15:04:48.500Z"
   },
   {
    "duration": 9,
    "start_time": "2022-05-01T15:04:48.563Z"
   },
   {
    "duration": 17,
    "start_time": "2022-05-01T15:04:48.574Z"
   },
   {
    "duration": 12,
    "start_time": "2022-05-01T15:04:48.593Z"
   },
   {
    "duration": 6,
    "start_time": "2022-05-01T15:05:11.162Z"
   },
   {
    "duration": 5,
    "start_time": "2022-05-01T15:05:21.771Z"
   },
   {
    "duration": 4,
    "start_time": "2022-05-01T15:06:08.619Z"
   },
   {
    "duration": 5,
    "start_time": "2022-05-01T15:06:15.603Z"
   },
   {
    "duration": 14,
    "start_time": "2022-05-01T15:06:33.574Z"
   },
   {
    "duration": 10,
    "start_time": "2022-05-01T15:06:43.191Z"
   },
   {
    "duration": 44,
    "start_time": "2022-05-01T15:07:26.088Z"
   },
   {
    "duration": 4,
    "start_time": "2022-05-01T15:08:08.803Z"
   },
   {
    "duration": 466,
    "start_time": "2022-05-01T15:08:08.811Z"
   },
   {
    "duration": 45,
    "start_time": "2022-05-01T15:08:09.280Z"
   },
   {
    "duration": 47,
    "start_time": "2022-05-01T15:08:09.327Z"
   },
   {
    "duration": 39,
    "start_time": "2022-05-01T15:08:09.378Z"
   },
   {
    "duration": 58,
    "start_time": "2022-05-01T15:08:09.419Z"
   },
   {
    "duration": 31,
    "start_time": "2022-05-01T15:08:09.479Z"
   },
   {
    "duration": 56,
    "start_time": "2022-05-01T15:08:09.512Z"
   },
   {
    "duration": 14,
    "start_time": "2022-05-01T15:08:09.570Z"
   },
   {
    "duration": 9,
    "start_time": "2022-05-01T15:08:09.586Z"
   },
   {
    "duration": 136,
    "start_time": "2022-05-01T15:08:09.599Z"
   },
   {
    "duration": 71,
    "start_time": "2022-05-01T15:08:09.737Z"
   },
   {
    "duration": 3,
    "start_time": "2022-05-01T15:08:09.810Z"
   },
   {
    "duration": 70,
    "start_time": "2022-05-01T15:08:09.815Z"
   },
   {
    "duration": 8,
    "start_time": "2022-05-01T15:08:09.887Z"
   },
   {
    "duration": 9,
    "start_time": "2022-05-01T15:08:09.897Z"
   },
   {
    "duration": 6,
    "start_time": "2022-05-01T15:08:09.909Z"
   },
   {
    "duration": 82,
    "start_time": "2022-05-01T15:08:09.917Z"
   },
   {
    "duration": 6,
    "start_time": "2022-05-01T15:08:10.001Z"
   },
   {
    "duration": 43,
    "start_time": "2022-05-01T15:08:10.009Z"
   },
   {
    "duration": 53,
    "start_time": "2022-05-01T15:08:10.054Z"
   },
   {
    "duration": 13,
    "start_time": "2022-05-01T15:08:10.110Z"
   },
   {
    "duration": 44,
    "start_time": "2022-05-01T15:08:10.126Z"
   },
   {
    "duration": 2181,
    "start_time": "2022-05-01T15:08:10.172Z"
   },
   {
    "duration": 0,
    "start_time": "2022-05-01T15:08:12.356Z"
   },
   {
    "duration": 0,
    "start_time": "2022-05-01T15:08:12.357Z"
   },
   {
    "duration": 0,
    "start_time": "2022-05-01T15:08:12.358Z"
   },
   {
    "duration": 0,
    "start_time": "2022-05-01T15:08:12.359Z"
   },
   {
    "duration": 0,
    "start_time": "2022-05-01T15:08:12.360Z"
   },
   {
    "duration": 0,
    "start_time": "2022-05-01T15:08:12.362Z"
   },
   {
    "duration": 0,
    "start_time": "2022-05-01T15:08:12.363Z"
   },
   {
    "duration": 0,
    "start_time": "2022-05-01T15:08:12.364Z"
   },
   {
    "duration": 0,
    "start_time": "2022-05-01T15:08:12.366Z"
   },
   {
    "duration": 0,
    "start_time": "2022-05-01T15:08:12.367Z"
   },
   {
    "duration": 0,
    "start_time": "2022-05-01T15:08:12.368Z"
   },
   {
    "duration": 34,
    "start_time": "2022-05-01T15:08:19.043Z"
   },
   {
    "duration": 36,
    "start_time": "2022-05-01T15:08:25.999Z"
   },
   {
    "duration": 58,
    "start_time": "2022-05-01T15:08:26.037Z"
   },
   {
    "duration": 20,
    "start_time": "2022-05-01T15:08:26.097Z"
   },
   {
    "duration": 6,
    "start_time": "2022-05-01T15:08:26.121Z"
   },
   {
    "duration": 43,
    "start_time": "2022-05-01T15:08:26.129Z"
   },
   {
    "duration": 14,
    "start_time": "2022-05-01T15:08:26.174Z"
   },
   {
    "duration": 3,
    "start_time": "2022-05-01T15:08:26.191Z"
   },
   {
    "duration": 6,
    "start_time": "2022-05-01T15:08:26.197Z"
   },
   {
    "duration": 74,
    "start_time": "2022-05-01T15:08:26.205Z"
   },
   {
    "duration": 9,
    "start_time": "2022-05-01T15:08:26.282Z"
   },
   {
    "duration": 17,
    "start_time": "2022-05-01T15:08:26.293Z"
   },
   {
    "duration": 45,
    "start_time": "2022-05-01T15:08:26.312Z"
   },
   {
    "duration": 3,
    "start_time": "2022-05-01T15:08:48.215Z"
   },
   {
    "duration": 482,
    "start_time": "2022-05-01T15:08:48.221Z"
   },
   {
    "duration": 42,
    "start_time": "2022-05-01T15:08:48.705Z"
   },
   {
    "duration": 32,
    "start_time": "2022-05-01T15:08:48.749Z"
   },
   {
    "duration": 37,
    "start_time": "2022-05-01T15:08:48.784Z"
   },
   {
    "duration": 59,
    "start_time": "2022-05-01T15:08:48.823Z"
   },
   {
    "duration": 31,
    "start_time": "2022-05-01T15:08:48.884Z"
   },
   {
    "duration": 55,
    "start_time": "2022-05-01T15:08:48.917Z"
   },
   {
    "duration": 12,
    "start_time": "2022-05-01T15:08:48.974Z"
   },
   {
    "duration": 9,
    "start_time": "2022-05-01T15:08:48.988Z"
   },
   {
    "duration": 136,
    "start_time": "2022-05-01T15:08:49.002Z"
   },
   {
    "duration": 74,
    "start_time": "2022-05-01T15:08:49.140Z"
   },
   {
    "duration": 4,
    "start_time": "2022-05-01T15:08:49.216Z"
   },
   {
    "duration": 79,
    "start_time": "2022-05-01T15:08:49.223Z"
   },
   {
    "duration": 8,
    "start_time": "2022-05-01T15:08:49.305Z"
   },
   {
    "duration": 14,
    "start_time": "2022-05-01T15:08:49.315Z"
   },
   {
    "duration": 22,
    "start_time": "2022-05-01T15:08:49.331Z"
   },
   {
    "duration": 57,
    "start_time": "2022-05-01T15:08:49.355Z"
   },
   {
    "duration": 6,
    "start_time": "2022-05-01T15:08:49.414Z"
   },
   {
    "duration": 51,
    "start_time": "2022-05-01T15:08:49.423Z"
   },
   {
    "duration": 50,
    "start_time": "2022-05-01T15:08:49.476Z"
   },
   {
    "duration": 29,
    "start_time": "2022-05-01T15:08:49.528Z"
   },
   {
    "duration": 19,
    "start_time": "2022-05-01T15:08:49.559Z"
   },
   {
    "duration": 40,
    "start_time": "2022-05-01T15:08:49.580Z"
   },
   {
    "duration": 81,
    "start_time": "2022-05-01T15:08:49.623Z"
   },
   {
    "duration": 16,
    "start_time": "2022-05-01T15:08:49.706Z"
   },
   {
    "duration": 4,
    "start_time": "2022-05-01T15:08:49.725Z"
   },
   {
    "duration": 22,
    "start_time": "2022-05-01T15:08:49.752Z"
   },
   {
    "duration": 12,
    "start_time": "2022-05-01T15:08:49.780Z"
   },
   {
    "duration": 6,
    "start_time": "2022-05-01T15:08:49.795Z"
   },
   {
    "duration": 10,
    "start_time": "2022-05-01T15:08:49.803Z"
   },
   {
    "duration": 35,
    "start_time": "2022-05-01T15:08:49.853Z"
   },
   {
    "duration": 13,
    "start_time": "2022-05-01T15:08:49.890Z"
   },
   {
    "duration": 54,
    "start_time": "2022-05-01T15:08:49.906Z"
   },
   {
    "duration": 12,
    "start_time": "2022-05-01T15:08:49.962Z"
   },
   {
    "duration": 13,
    "start_time": "2022-05-01T15:08:57.759Z"
   },
   {
    "duration": 13,
    "start_time": "2022-05-01T15:09:04.593Z"
   },
   {
    "duration": 15,
    "start_time": "2022-05-01T15:09:10.258Z"
   },
   {
    "duration": 44,
    "start_time": "2022-05-01T15:09:15.566Z"
   },
   {
    "duration": 46,
    "start_time": "2022-05-01T15:09:21.979Z"
   },
   {
    "duration": 11,
    "start_time": "2022-05-01T15:10:18.119Z"
   },
   {
    "duration": 31,
    "start_time": "2022-05-01T15:10:23.438Z"
   },
   {
    "duration": 57,
    "start_time": "2022-05-01T15:10:28.262Z"
   },
   {
    "duration": 18,
    "start_time": "2022-05-01T15:11:02.858Z"
   },
   {
    "duration": 13,
    "start_time": "2022-05-01T15:11:30.455Z"
   },
   {
    "duration": 4,
    "start_time": "2022-05-01T15:11:35.806Z"
   },
   {
    "duration": 464,
    "start_time": "2022-05-01T15:11:35.813Z"
   },
   {
    "duration": 42,
    "start_time": "2022-05-01T15:11:36.280Z"
   },
   {
    "duration": 42,
    "start_time": "2022-05-01T15:11:36.325Z"
   },
   {
    "duration": 38,
    "start_time": "2022-05-01T15:11:36.369Z"
   },
   {
    "duration": 59,
    "start_time": "2022-05-01T15:11:36.409Z"
   },
   {
    "duration": 32,
    "start_time": "2022-05-01T15:11:36.470Z"
   },
   {
    "duration": 51,
    "start_time": "2022-05-01T15:11:36.504Z"
   },
   {
    "duration": 12,
    "start_time": "2022-05-01T15:11:36.557Z"
   },
   {
    "duration": 9,
    "start_time": "2022-05-01T15:11:36.571Z"
   },
   {
    "duration": 140,
    "start_time": "2022-05-01T15:11:36.584Z"
   },
   {
    "duration": 77,
    "start_time": "2022-05-01T15:11:36.726Z"
   },
   {
    "duration": 3,
    "start_time": "2022-05-01T15:11:36.806Z"
   },
   {
    "duration": 67,
    "start_time": "2022-05-01T15:11:36.811Z"
   },
   {
    "duration": 8,
    "start_time": "2022-05-01T15:11:36.881Z"
   },
   {
    "duration": 10,
    "start_time": "2022-05-01T15:11:36.891Z"
   },
   {
    "duration": 7,
    "start_time": "2022-05-01T15:11:36.903Z"
   },
   {
    "duration": 76,
    "start_time": "2022-05-01T15:11:36.912Z"
   },
   {
    "duration": 6,
    "start_time": "2022-05-01T15:11:36.990Z"
   },
   {
    "duration": 34,
    "start_time": "2022-05-01T15:11:36.998Z"
   },
   {
    "duration": 66,
    "start_time": "2022-05-01T15:11:37.034Z"
   },
   {
    "duration": 12,
    "start_time": "2022-05-01T15:11:37.102Z"
   },
   {
    "duration": 42,
    "start_time": "2022-05-01T15:11:37.116Z"
   },
   {
    "duration": 33,
    "start_time": "2022-05-01T15:11:37.160Z"
   },
   {
    "duration": 76,
    "start_time": "2022-05-01T15:11:37.196Z"
   },
   {
    "duration": 14,
    "start_time": "2022-05-01T15:11:37.274Z"
   },
   {
    "duration": 9,
    "start_time": "2022-05-01T15:11:37.290Z"
   },
   {
    "duration": 24,
    "start_time": "2022-05-01T15:11:37.301Z"
   },
   {
    "duration": 34,
    "start_time": "2022-05-01T15:11:37.330Z"
   },
   {
    "duration": 10,
    "start_time": "2022-05-01T15:11:37.366Z"
   },
   {
    "duration": 12,
    "start_time": "2022-05-01T15:11:37.378Z"
   },
   {
    "duration": 38,
    "start_time": "2022-05-01T15:11:37.392Z"
   },
   {
    "duration": 25,
    "start_time": "2022-05-01T15:11:37.433Z"
   },
   {
    "duration": 13,
    "start_time": "2022-05-01T15:11:37.460Z"
   },
   {
    "duration": 10,
    "start_time": "2022-05-01T15:11:37.475Z"
   },
   {
    "duration": 19,
    "start_time": "2022-05-01T15:12:35.915Z"
   },
   {
    "duration": 11,
    "start_time": "2022-05-01T15:12:51.143Z"
   },
   {
    "duration": 20,
    "start_time": "2022-05-01T15:12:52.767Z"
   },
   {
    "duration": 13,
    "start_time": "2022-05-01T15:12:58.991Z"
   },
   {
    "duration": 20,
    "start_time": "2022-05-01T15:12:59.691Z"
   },
   {
    "duration": 4,
    "start_time": "2022-05-01T15:13:20.003Z"
   },
   {
    "duration": 481,
    "start_time": "2022-05-01T15:13:20.010Z"
   },
   {
    "duration": 42,
    "start_time": "2022-05-01T15:13:20.494Z"
   },
   {
    "duration": 36,
    "start_time": "2022-05-01T15:13:20.539Z"
   },
   {
    "duration": 38,
    "start_time": "2022-05-01T15:13:20.579Z"
   },
   {
    "duration": 61,
    "start_time": "2022-05-01T15:13:20.619Z"
   },
   {
    "duration": 32,
    "start_time": "2022-05-01T15:13:20.682Z"
   },
   {
    "duration": 57,
    "start_time": "2022-05-01T15:13:20.716Z"
   },
   {
    "duration": 11,
    "start_time": "2022-05-01T15:13:20.775Z"
   },
   {
    "duration": 12,
    "start_time": "2022-05-01T15:13:20.788Z"
   },
   {
    "duration": 135,
    "start_time": "2022-05-01T15:13:20.803Z"
   },
   {
    "duration": 74,
    "start_time": "2022-05-01T15:13:20.940Z"
   },
   {
    "duration": 3,
    "start_time": "2022-05-01T15:13:21.016Z"
   },
   {
    "duration": 80,
    "start_time": "2022-05-01T15:13:21.021Z"
   },
   {
    "duration": 7,
    "start_time": "2022-05-01T15:13:21.103Z"
   },
   {
    "duration": 17,
    "start_time": "2022-05-01T15:13:21.112Z"
   },
   {
    "duration": 5,
    "start_time": "2022-05-01T15:13:21.132Z"
   },
   {
    "duration": 53,
    "start_time": "2022-05-01T15:13:21.151Z"
   },
   {
    "duration": 6,
    "start_time": "2022-05-01T15:13:21.206Z"
   },
   {
    "duration": 54,
    "start_time": "2022-05-01T15:13:21.213Z"
   },
   {
    "duration": 51,
    "start_time": "2022-05-01T15:13:21.269Z"
   },
   {
    "duration": 30,
    "start_time": "2022-05-01T15:13:21.322Z"
   },
   {
    "duration": 22,
    "start_time": "2022-05-01T15:13:21.354Z"
   },
   {
    "duration": 34,
    "start_time": "2022-05-01T15:13:21.378Z"
   },
   {
    "duration": 78,
    "start_time": "2022-05-01T15:13:21.414Z"
   },
   {
    "duration": 30,
    "start_time": "2022-05-01T15:13:21.494Z"
   },
   {
    "duration": 26,
    "start_time": "2022-05-01T15:13:21.526Z"
   },
   {
    "duration": 17,
    "start_time": "2022-05-01T15:13:21.555Z"
   },
   {
    "duration": 17,
    "start_time": "2022-05-01T15:13:21.576Z"
   },
   {
    "duration": 70,
    "start_time": "2022-05-01T15:13:35.631Z"
   },
   {
    "duration": 50,
    "start_time": "2022-05-01T15:13:44.306Z"
   },
   {
    "duration": 11,
    "start_time": "2022-05-01T15:14:23.135Z"
   },
   {
    "duration": 3,
    "start_time": "2022-05-01T15:25:59.443Z"
   },
   {
    "duration": 448,
    "start_time": "2022-05-01T15:25:59.449Z"
   },
   {
    "duration": 42,
    "start_time": "2022-05-01T15:25:59.899Z"
   },
   {
    "duration": 35,
    "start_time": "2022-05-01T15:25:59.943Z"
   },
   {
    "duration": 37,
    "start_time": "2022-05-01T15:25:59.981Z"
   },
   {
    "duration": 58,
    "start_time": "2022-05-01T15:26:00.020Z"
   },
   {
    "duration": 32,
    "start_time": "2022-05-01T15:26:00.080Z"
   },
   {
    "duration": 52,
    "start_time": "2022-05-01T15:26:00.114Z"
   },
   {
    "duration": 21,
    "start_time": "2022-05-01T15:26:00.168Z"
   },
   {
    "duration": 15,
    "start_time": "2022-05-01T15:26:00.191Z"
   },
   {
    "duration": 120,
    "start_time": "2022-05-01T15:26:00.210Z"
   },
   {
    "duration": 77,
    "start_time": "2022-05-01T15:26:00.333Z"
   },
   {
    "duration": 4,
    "start_time": "2022-05-01T15:26:00.413Z"
   },
   {
    "duration": 71,
    "start_time": "2022-05-01T15:26:00.420Z"
   },
   {
    "duration": 9,
    "start_time": "2022-05-01T15:26:00.493Z"
   },
   {
    "duration": 32,
    "start_time": "2022-05-01T15:26:00.505Z"
   },
   {
    "duration": 6,
    "start_time": "2022-05-01T15:26:00.540Z"
   },
   {
    "duration": 72,
    "start_time": "2022-05-01T15:26:00.552Z"
   },
   {
    "duration": 6,
    "start_time": "2022-05-01T15:26:00.626Z"
   },
   {
    "duration": 42,
    "start_time": "2022-05-01T15:26:00.634Z"
   },
   {
    "duration": 52,
    "start_time": "2022-05-01T15:26:00.678Z"
   },
   {
    "duration": 22,
    "start_time": "2022-05-01T15:26:00.733Z"
   },
   {
    "duration": 29,
    "start_time": "2022-05-01T15:26:00.757Z"
   },
   {
    "duration": 39,
    "start_time": "2022-05-01T15:26:00.788Z"
   },
   {
    "duration": 74,
    "start_time": "2022-05-01T15:26:00.830Z"
   },
   {
    "duration": 50,
    "start_time": "2022-05-01T15:26:00.907Z"
   },
   {
    "duration": 11,
    "start_time": "2022-05-01T15:26:00.960Z"
   },
   {
    "duration": 15,
    "start_time": "2022-05-01T15:26:00.973Z"
   },
   {
    "duration": 11,
    "start_time": "2022-05-01T15:26:00.993Z"
   },
   {
    "duration": 47,
    "start_time": "2022-05-01T15:26:01.006Z"
   },
   {
    "duration": 19,
    "start_time": "2022-05-01T15:26:13.398Z"
   },
   {
    "duration": 17,
    "start_time": "2022-05-01T15:26:50.710Z"
   },
   {
    "duration": 40,
    "start_time": "2022-05-01T15:27:14.923Z"
   },
   {
    "duration": 24,
    "start_time": "2022-05-01T15:27:25.846Z"
   },
   {
    "duration": 58,
    "start_time": "2022-05-01T15:27:53.630Z"
   },
   {
    "duration": 6,
    "start_time": "2022-05-01T15:29:53.603Z"
   },
   {
    "duration": 6,
    "start_time": "2022-05-01T15:30:09.086Z"
   },
   {
    "duration": 51,
    "start_time": "2022-05-01T15:30:16.598Z"
   },
   {
    "duration": 40,
    "start_time": "2022-05-01T15:31:18.654Z"
   },
   {
    "duration": 5,
    "start_time": "2022-05-01T15:32:31.746Z"
   },
   {
    "duration": 506,
    "start_time": "2022-05-01T15:32:31.754Z"
   },
   {
    "duration": 70,
    "start_time": "2022-05-01T15:32:32.263Z"
   },
   {
    "duration": 49,
    "start_time": "2022-05-01T15:32:32.335Z"
   },
   {
    "duration": 277,
    "start_time": "2022-05-01T15:32:32.387Z"
   },
   {
    "duration": 34,
    "start_time": "2022-05-01T15:32:32.666Z"
   },
   {
    "duration": 53,
    "start_time": "2022-05-01T15:32:32.703Z"
   },
   {
    "duration": 30,
    "start_time": "2022-05-01T15:32:32.759Z"
   },
   {
    "duration": 26,
    "start_time": "2022-05-01T15:32:32.791Z"
   },
   {
    "duration": 35,
    "start_time": "2022-05-01T15:32:32.818Z"
   },
   {
    "duration": 4,
    "start_time": "2022-05-01T15:32:32.857Z"
   },
   {
    "duration": 133,
    "start_time": "2022-05-01T15:32:32.863Z"
   },
   {
    "duration": 78,
    "start_time": "2022-05-01T15:32:32.999Z"
   },
   {
    "duration": 3,
    "start_time": "2022-05-01T15:32:33.079Z"
   },
   {
    "duration": 78,
    "start_time": "2022-05-01T15:32:33.084Z"
   },
   {
    "duration": 7,
    "start_time": "2022-05-01T15:32:33.164Z"
   },
   {
    "duration": 11,
    "start_time": "2022-05-01T15:32:33.173Z"
   },
   {
    "duration": 10,
    "start_time": "2022-05-01T15:32:33.185Z"
   },
   {
    "duration": 77,
    "start_time": "2022-05-01T15:32:33.197Z"
   },
   {
    "duration": 5,
    "start_time": "2022-05-01T15:32:33.276Z"
   },
   {
    "duration": 30,
    "start_time": "2022-05-01T15:32:33.284Z"
   },
   {
    "duration": 76,
    "start_time": "2022-05-01T15:32:33.316Z"
   },
   {
    "duration": 13,
    "start_time": "2022-05-01T15:32:33.394Z"
   },
   {
    "duration": 42,
    "start_time": "2022-05-01T15:32:33.409Z"
   },
   {
    "duration": 34,
    "start_time": "2022-05-01T15:32:33.454Z"
   },
   {
    "duration": 75,
    "start_time": "2022-05-01T15:32:33.490Z"
   },
   {
    "duration": 31,
    "start_time": "2022-05-01T15:32:33.567Z"
   },
   {
    "duration": 11,
    "start_time": "2022-05-01T15:32:33.600Z"
   },
   {
    "duration": 41,
    "start_time": "2022-05-01T15:32:33.615Z"
   },
   {
    "duration": 10,
    "start_time": "2022-05-01T15:32:33.659Z"
   },
   {
    "duration": 19,
    "start_time": "2022-05-01T15:32:33.672Z"
   },
   {
    "duration": 115,
    "start_time": "2022-05-01T15:32:33.694Z"
   },
   {
    "duration": 8,
    "start_time": "2022-05-01T15:32:33.812Z"
   },
   {
    "duration": 61,
    "start_time": "2022-05-01T15:32:33.822Z"
   },
   {
    "duration": 14,
    "start_time": "2022-05-01T15:33:23.522Z"
   },
   {
    "duration": 5,
    "start_time": "2022-05-01T15:33:58.783Z"
   },
   {
    "duration": 446,
    "start_time": "2022-05-01T15:33:58.790Z"
   },
   {
    "duration": 45,
    "start_time": "2022-05-01T15:33:59.238Z"
   },
   {
    "duration": 32,
    "start_time": "2022-05-01T15:33:59.286Z"
   },
   {
    "duration": 62,
    "start_time": "2022-05-01T15:33:59.320Z"
   },
   {
    "duration": 32,
    "start_time": "2022-05-01T15:33:59.385Z"
   },
   {
    "duration": 58,
    "start_time": "2022-05-01T15:33:59.419Z"
   },
   {
    "duration": 32,
    "start_time": "2022-05-01T15:33:59.480Z"
   },
   {
    "duration": 43,
    "start_time": "2022-05-01T15:33:59.516Z"
   },
   {
    "duration": 13,
    "start_time": "2022-05-01T15:33:59.561Z"
   },
   {
    "duration": 136,
    "start_time": "2022-05-01T15:33:59.576Z"
   },
   {
    "duration": 82,
    "start_time": "2022-05-01T15:33:59.715Z"
   },
   {
    "duration": 3,
    "start_time": "2022-05-01T15:33:59.799Z"
   },
   {
    "duration": 70,
    "start_time": "2022-05-01T15:33:59.804Z"
   },
   {
    "duration": 8,
    "start_time": "2022-05-01T15:33:59.876Z"
   },
   {
    "duration": 13,
    "start_time": "2022-05-01T15:33:59.886Z"
   },
   {
    "duration": 5,
    "start_time": "2022-05-01T15:33:59.902Z"
   },
   {
    "duration": 75,
    "start_time": "2022-05-01T15:33:59.910Z"
   },
   {
    "duration": 7,
    "start_time": "2022-05-01T15:33:59.987Z"
   },
   {
    "duration": 58,
    "start_time": "2022-05-01T15:33:59.998Z"
   },
   {
    "duration": 54,
    "start_time": "2022-05-01T15:34:00.059Z"
   },
   {
    "duration": 13,
    "start_time": "2022-05-01T15:34:00.115Z"
   },
   {
    "duration": 40,
    "start_time": "2022-05-01T15:34:00.130Z"
   },
   {
    "duration": 45,
    "start_time": "2022-05-01T15:34:00.174Z"
   },
   {
    "duration": 79,
    "start_time": "2022-05-01T15:34:00.222Z"
   },
   {
    "duration": 33,
    "start_time": "2022-05-01T15:34:00.303Z"
   },
   {
    "duration": 11,
    "start_time": "2022-05-01T15:34:00.351Z"
   },
   {
    "duration": 30,
    "start_time": "2022-05-01T15:34:00.364Z"
   },
   {
    "duration": 23,
    "start_time": "2022-05-01T15:34:00.397Z"
   },
   {
    "duration": 24,
    "start_time": "2022-05-01T15:34:00.422Z"
   },
   {
    "duration": 56,
    "start_time": "2022-05-01T15:34:00.452Z"
   },
   {
    "duration": 6,
    "start_time": "2022-05-01T15:34:00.510Z"
   },
   {
    "duration": 66,
    "start_time": "2022-05-01T15:34:00.518Z"
   },
   {
    "duration": 47,
    "start_time": "2022-05-01T15:34:18.130Z"
   },
   {
    "duration": 42,
    "start_time": "2022-05-01T15:36:56.726Z"
   },
   {
    "duration": 11,
    "start_time": "2022-05-01T15:37:59.582Z"
   },
   {
    "duration": 17,
    "start_time": "2022-05-01T15:38:03.298Z"
   },
   {
    "duration": 44,
    "start_time": "2022-05-01T15:39:45.402Z"
   },
   {
    "duration": 63,
    "start_time": "2022-05-01T15:40:07.102Z"
   },
   {
    "duration": 38,
    "start_time": "2022-05-01T15:40:31.889Z"
   },
   {
    "duration": 40,
    "start_time": "2022-05-01T15:41:24.977Z"
   },
   {
    "duration": 85,
    "start_time": "2022-05-01T15:41:56.862Z"
   },
   {
    "duration": 62,
    "start_time": "2022-05-01T15:42:05.090Z"
   },
   {
    "duration": 46,
    "start_time": "2022-05-01T15:42:10.622Z"
   },
   {
    "duration": 6,
    "start_time": "2022-05-01T15:42:23.054Z"
   },
   {
    "duration": 46,
    "start_time": "2022-05-01T15:42:23.634Z"
   },
   {
    "duration": 8,
    "start_time": "2022-05-01T15:43:18.183Z"
   },
   {
    "duration": 13,
    "start_time": "2022-05-01T15:43:42.469Z"
   },
   {
    "duration": 13,
    "start_time": "2022-05-01T15:44:41.078Z"
   },
   {
    "duration": 11,
    "start_time": "2022-05-01T15:44:52.966Z"
   },
   {
    "duration": 11,
    "start_time": "2022-05-01T15:45:01.383Z"
   },
   {
    "duration": 12,
    "start_time": "2022-05-01T15:45:24.718Z"
   },
   {
    "duration": 11,
    "start_time": "2022-05-01T15:45:52.698Z"
   },
   {
    "duration": 4,
    "start_time": "2022-05-01T15:47:00.758Z"
   },
   {
    "duration": 490,
    "start_time": "2022-05-01T15:47:00.766Z"
   },
   {
    "duration": 44,
    "start_time": "2022-05-01T15:47:01.259Z"
   },
   {
    "duration": 63,
    "start_time": "2022-05-01T15:47:01.306Z"
   },
   {
    "duration": 42,
    "start_time": "2022-05-01T15:47:01.373Z"
   },
   {
    "duration": 61,
    "start_time": "2022-05-01T15:47:01.417Z"
   },
   {
    "duration": 33,
    "start_time": "2022-05-01T15:47:01.480Z"
   },
   {
    "duration": 56,
    "start_time": "2022-05-01T15:47:01.515Z"
   },
   {
    "duration": 12,
    "start_time": "2022-05-01T15:47:01.573Z"
   },
   {
    "duration": 19,
    "start_time": "2022-05-01T15:47:01.587Z"
   },
   {
    "duration": 125,
    "start_time": "2022-05-01T15:47:01.610Z"
   },
   {
    "duration": 72,
    "start_time": "2022-05-01T15:47:01.737Z"
   },
   {
    "duration": 3,
    "start_time": "2022-05-01T15:47:01.812Z"
   },
   {
    "duration": 85,
    "start_time": "2022-05-01T15:47:01.817Z"
   },
   {
    "duration": 8,
    "start_time": "2022-05-01T15:47:01.904Z"
   },
   {
    "duration": 11,
    "start_time": "2022-05-01T15:47:01.914Z"
   },
   {
    "duration": 24,
    "start_time": "2022-05-01T15:47:01.927Z"
   },
   {
    "duration": 60,
    "start_time": "2022-05-01T15:47:01.954Z"
   },
   {
    "duration": 5,
    "start_time": "2022-05-01T15:47:02.017Z"
   },
   {
    "duration": 40,
    "start_time": "2022-05-01T15:47:02.024Z"
   },
   {
    "duration": 51,
    "start_time": "2022-05-01T15:47:02.067Z"
   },
   {
    "duration": 12,
    "start_time": "2022-05-01T15:47:02.120Z"
   },
   {
    "duration": 19,
    "start_time": "2022-05-01T15:47:02.152Z"
   },
   {
    "duration": 36,
    "start_time": "2022-05-01T15:47:02.173Z"
   },
   {
    "duration": 82,
    "start_time": "2022-05-01T15:47:02.211Z"
   },
   {
    "duration": 31,
    "start_time": "2022-05-01T15:47:02.295Z"
   },
   {
    "duration": 29,
    "start_time": "2022-05-01T15:47:02.328Z"
   },
   {
    "duration": 13,
    "start_time": "2022-05-01T15:47:02.359Z"
   },
   {
    "duration": 11,
    "start_time": "2022-05-01T15:47:02.376Z"
   },
   {
    "duration": 18,
    "start_time": "2022-05-01T15:47:02.388Z"
   },
   {
    "duration": 80,
    "start_time": "2022-05-01T15:47:02.408Z"
   },
   {
    "duration": 12,
    "start_time": "2022-05-01T15:47:02.490Z"
   },
   {
    "duration": 51,
    "start_time": "2022-05-01T15:47:24.706Z"
   },
   {
    "duration": 50,
    "start_time": "2022-05-01T15:47:31.846Z"
   },
   {
    "duration": 47,
    "start_time": "2022-05-01T15:47:38.202Z"
   },
   {
    "duration": 11,
    "start_time": "2022-05-01T15:47:52.618Z"
   },
   {
    "duration": 4,
    "start_time": "2022-05-01T15:48:02.522Z"
   },
   {
    "duration": 465,
    "start_time": "2022-05-01T15:48:02.528Z"
   },
   {
    "duration": 41,
    "start_time": "2022-05-01T15:48:02.995Z"
   },
   {
    "duration": 35,
    "start_time": "2022-05-01T15:48:03.038Z"
   },
   {
    "duration": 38,
    "start_time": "2022-05-01T15:48:03.076Z"
   },
   {
    "duration": 59,
    "start_time": "2022-05-01T15:48:03.117Z"
   },
   {
    "duration": 34,
    "start_time": "2022-05-01T15:48:03.178Z"
   },
   {
    "duration": 58,
    "start_time": "2022-05-01T15:48:03.214Z"
   },
   {
    "duration": 23,
    "start_time": "2022-05-01T15:48:03.275Z"
   },
   {
    "duration": 8,
    "start_time": "2022-05-01T15:48:03.300Z"
   },
   {
    "duration": 129,
    "start_time": "2022-05-01T15:48:03.312Z"
   },
   {
    "duration": 73,
    "start_time": "2022-05-01T15:48:03.444Z"
   },
   {
    "duration": 4,
    "start_time": "2022-05-01T15:48:03.519Z"
   },
   {
    "duration": 73,
    "start_time": "2022-05-01T15:48:03.525Z"
   },
   {
    "duration": 10,
    "start_time": "2022-05-01T15:48:03.600Z"
   },
   {
    "duration": 11,
    "start_time": "2022-05-01T15:48:03.612Z"
   },
   {
    "duration": 30,
    "start_time": "2022-05-01T15:48:03.625Z"
   },
   {
    "duration": 57,
    "start_time": "2022-05-01T15:48:03.657Z"
   },
   {
    "duration": 7,
    "start_time": "2022-05-01T15:48:03.716Z"
   },
   {
    "duration": 53,
    "start_time": "2022-05-01T15:48:03.725Z"
   },
   {
    "duration": 71,
    "start_time": "2022-05-01T15:48:03.781Z"
   },
   {
    "duration": 12,
    "start_time": "2022-05-01T15:48:03.854Z"
   },
   {
    "duration": 19,
    "start_time": "2022-05-01T15:48:03.868Z"
   },
   {
    "duration": 110,
    "start_time": "2022-05-01T15:48:03.889Z"
   },
   {
    "duration": 66,
    "start_time": "2022-05-01T15:48:04.001Z"
   },
   {
    "duration": 32,
    "start_time": "2022-05-01T15:48:04.069Z"
   },
   {
    "duration": 9,
    "start_time": "2022-05-01T15:48:04.104Z"
   },
   {
    "duration": 38,
    "start_time": "2022-05-01T15:48:04.115Z"
   },
   {
    "duration": 11,
    "start_time": "2022-05-01T15:48:04.158Z"
   },
   {
    "duration": 20,
    "start_time": "2022-05-01T15:48:04.171Z"
   },
   {
    "duration": 73,
    "start_time": "2022-05-01T15:48:04.193Z"
   },
   {
    "duration": 18,
    "start_time": "2022-05-01T15:48:04.269Z"
   },
   {
    "duration": 59,
    "start_time": "2022-05-01T15:48:16.770Z"
   },
   {
    "duration": 43,
    "start_time": "2022-05-01T15:52:37.187Z"
   },
   {
    "duration": 8,
    "start_time": "2022-05-01T15:53:29.030Z"
   },
   {
    "duration": 8,
    "start_time": "2022-05-01T15:53:40.759Z"
   },
   {
    "duration": 42,
    "start_time": "2022-05-01T15:54:15.866Z"
   },
   {
    "duration": 42,
    "start_time": "2022-05-01T15:54:18.958Z"
   },
   {
    "duration": 5,
    "start_time": "2022-05-01T15:54:25.294Z"
   },
   {
    "duration": 489,
    "start_time": "2022-05-01T15:54:25.302Z"
   },
   {
    "duration": 45,
    "start_time": "2022-05-01T15:54:25.794Z"
   },
   {
    "duration": 35,
    "start_time": "2022-05-01T15:54:25.842Z"
   },
   {
    "duration": 37,
    "start_time": "2022-05-01T15:54:25.879Z"
   },
   {
    "duration": 62,
    "start_time": "2022-05-01T15:54:25.918Z"
   },
   {
    "duration": 32,
    "start_time": "2022-05-01T15:54:25.982Z"
   },
   {
    "duration": 54,
    "start_time": "2022-05-01T15:54:26.016Z"
   },
   {
    "duration": 13,
    "start_time": "2022-05-01T15:54:26.074Z"
   },
   {
    "duration": 6,
    "start_time": "2022-05-01T15:54:26.089Z"
   },
   {
    "duration": 138,
    "start_time": "2022-05-01T15:54:26.097Z"
   },
   {
    "duration": 87,
    "start_time": "2022-05-01T15:54:26.238Z"
   },
   {
    "duration": 4,
    "start_time": "2022-05-01T15:54:26.328Z"
   },
   {
    "duration": 77,
    "start_time": "2022-05-01T15:54:26.335Z"
   },
   {
    "duration": 7,
    "start_time": "2022-05-01T15:54:26.414Z"
   },
   {
    "duration": 29,
    "start_time": "2022-05-01T15:54:26.424Z"
   },
   {
    "duration": 8,
    "start_time": "2022-05-01T15:54:26.455Z"
   },
   {
    "duration": 87,
    "start_time": "2022-05-01T15:54:26.466Z"
   },
   {
    "duration": 6,
    "start_time": "2022-05-01T15:54:26.556Z"
   },
   {
    "duration": 37,
    "start_time": "2022-05-01T15:54:26.564Z"
   },
   {
    "duration": 74,
    "start_time": "2022-05-01T15:54:26.603Z"
   },
   {
    "duration": 12,
    "start_time": "2022-05-01T15:54:26.679Z"
   },
   {
    "duration": 22,
    "start_time": "2022-05-01T15:54:26.693Z"
   },
   {
    "duration": 58,
    "start_time": "2022-05-01T15:54:26.720Z"
   },
   {
    "duration": 77,
    "start_time": "2022-05-01T15:54:26.781Z"
   },
   {
    "duration": 36,
    "start_time": "2022-05-01T15:54:26.861Z"
   },
   {
    "duration": 11,
    "start_time": "2022-05-01T15:54:26.899Z"
   },
   {
    "duration": 41,
    "start_time": "2022-05-01T15:54:26.913Z"
   },
   {
    "duration": 13,
    "start_time": "2022-05-01T15:54:26.956Z"
   },
   {
    "duration": 19,
    "start_time": "2022-05-01T15:54:26.971Z"
   },
   {
    "duration": 77,
    "start_time": "2022-05-01T15:54:26.993Z"
   },
   {
    "duration": 8,
    "start_time": "2022-05-01T15:54:27.072Z"
   },
   {
    "duration": 54,
    "start_time": "2022-05-01T15:54:27.082Z"
   },
   {
    "duration": 0,
    "start_time": "2022-05-01T15:54:27.138Z"
   },
   {
    "duration": 42,
    "start_time": "2022-05-01T15:54:37.214Z"
   },
   {
    "duration": 8,
    "start_time": "2022-05-01T15:54:54.090Z"
   },
   {
    "duration": 41,
    "start_time": "2022-05-01T15:55:04.895Z"
   },
   {
    "duration": 40,
    "start_time": "2022-05-01T15:55:36.247Z"
   },
   {
    "duration": 1088,
    "start_time": "2022-05-01T15:56:26.986Z"
   },
   {
    "duration": 494,
    "start_time": "2022-05-01T15:56:28.077Z"
   },
   {
    "duration": 51,
    "start_time": "2022-05-01T15:56:28.573Z"
   },
   {
    "duration": 48,
    "start_time": "2022-05-01T15:56:28.626Z"
   },
   {
    "duration": 73,
    "start_time": "2022-05-01T15:56:28.679Z"
   },
   {
    "duration": 53,
    "start_time": "2022-05-01T15:56:28.755Z"
   },
   {
    "duration": 63,
    "start_time": "2022-05-01T15:56:28.811Z"
   },
   {
    "duration": 30,
    "start_time": "2022-05-01T15:56:28.876Z"
   },
   {
    "duration": 48,
    "start_time": "2022-05-01T15:56:28.908Z"
   },
   {
    "duration": 8,
    "start_time": "2022-05-01T15:56:28.959Z"
   },
   {
    "duration": 149,
    "start_time": "2022-05-01T15:56:28.970Z"
   },
   {
    "duration": 85,
    "start_time": "2022-05-01T15:56:29.121Z"
   },
   {
    "duration": 3,
    "start_time": "2022-05-01T15:56:29.209Z"
   },
   {
    "duration": 95,
    "start_time": "2022-05-01T15:56:29.216Z"
   },
   {
    "duration": 7,
    "start_time": "2022-05-01T15:56:29.314Z"
   },
   {
    "duration": 17,
    "start_time": "2022-05-01T15:56:29.323Z"
   },
   {
    "duration": 11,
    "start_time": "2022-05-01T15:56:29.342Z"
   },
   {
    "duration": 64,
    "start_time": "2022-05-01T15:56:29.355Z"
   },
   {
    "duration": 5,
    "start_time": "2022-05-01T15:56:29.422Z"
   },
   {
    "duration": 53,
    "start_time": "2022-05-01T15:56:29.429Z"
   },
   {
    "duration": 49,
    "start_time": "2022-05-01T15:56:29.484Z"
   },
   {
    "duration": 26,
    "start_time": "2022-05-01T15:56:29.535Z"
   },
   {
    "duration": 27,
    "start_time": "2022-05-01T15:56:29.563Z"
   },
   {
    "duration": 43,
    "start_time": "2022-05-01T15:56:29.592Z"
   },
   {
    "duration": 70,
    "start_time": "2022-05-01T15:56:29.637Z"
   },
   {
    "duration": 47,
    "start_time": "2022-05-01T15:56:29.709Z"
   },
   {
    "duration": 10,
    "start_time": "2022-05-01T15:56:29.758Z"
   },
   {
    "duration": 24,
    "start_time": "2022-05-01T15:56:29.770Z"
   },
   {
    "duration": 14,
    "start_time": "2022-05-01T15:56:29.796Z"
   },
   {
    "duration": 19,
    "start_time": "2022-05-01T15:56:29.812Z"
   },
   {
    "duration": 50,
    "start_time": "2022-05-01T15:56:29.852Z"
   },
   {
    "duration": 7,
    "start_time": "2022-05-01T15:56:29.904Z"
   },
   {
    "duration": 183,
    "start_time": "2022-05-01T15:56:29.913Z"
   },
   {
    "duration": 0,
    "start_time": "2022-05-01T15:56:30.099Z"
   },
   {
    "duration": 52,
    "start_time": "2022-05-01T15:56:57.447Z"
   },
   {
    "duration": 8,
    "start_time": "2022-05-01T15:57:16.720Z"
   },
   {
    "duration": 8,
    "start_time": "2022-05-01T15:57:36.739Z"
   },
   {
    "duration": 928,
    "start_time": "2022-05-01T18:43:46.513Z"
   },
   {
    "duration": 322,
    "start_time": "2022-05-01T18:43:47.443Z"
   },
   {
    "duration": 32,
    "start_time": "2022-05-01T18:43:47.767Z"
   },
   {
    "duration": 31,
    "start_time": "2022-05-01T18:43:47.802Z"
   },
   {
    "duration": 30,
    "start_time": "2022-05-01T18:43:47.835Z"
   },
   {
    "duration": 27,
    "start_time": "2022-05-01T18:43:47.866Z"
   },
   {
    "duration": 45,
    "start_time": "2022-05-01T18:43:47.894Z"
   },
   {
    "duration": 20,
    "start_time": "2022-05-01T18:43:47.940Z"
   },
   {
    "duration": 9,
    "start_time": "2022-05-01T18:43:47.962Z"
   },
   {
    "duration": 4,
    "start_time": "2022-05-01T18:43:47.974Z"
   },
   {
    "duration": 103,
    "start_time": "2022-05-01T18:43:47.980Z"
   },
   {
    "duration": 53,
    "start_time": "2022-05-01T18:43:48.085Z"
   },
   {
    "duration": 2,
    "start_time": "2022-05-01T18:43:48.140Z"
   },
   {
    "duration": 53,
    "start_time": "2022-05-01T18:43:48.144Z"
   },
   {
    "duration": 4,
    "start_time": "2022-05-01T18:43:48.199Z"
   },
   {
    "duration": 23,
    "start_time": "2022-05-01T18:43:48.205Z"
   },
   {
    "duration": 6,
    "start_time": "2022-05-01T18:43:48.230Z"
   },
   {
    "duration": 35,
    "start_time": "2022-05-01T18:43:48.237Z"
   },
   {
    "duration": 4,
    "start_time": "2022-05-01T18:43:48.274Z"
   },
   {
    "duration": 25,
    "start_time": "2022-05-01T18:43:48.279Z"
   },
   {
    "duration": 47,
    "start_time": "2022-05-01T18:43:48.306Z"
   },
   {
    "duration": 14,
    "start_time": "2022-05-01T18:43:48.355Z"
   },
   {
    "duration": 13,
    "start_time": "2022-05-01T18:43:48.371Z"
   },
   {
    "duration": 49,
    "start_time": "2022-05-01T18:43:48.386Z"
   },
   {
    "duration": 35,
    "start_time": "2022-05-01T18:43:48.437Z"
   },
   {
    "duration": 22,
    "start_time": "2022-05-01T18:43:48.474Z"
   },
   {
    "duration": 26,
    "start_time": "2022-05-01T18:43:48.497Z"
   },
   {
    "duration": 9,
    "start_time": "2022-05-01T18:43:48.526Z"
   },
   {
    "duration": 8,
    "start_time": "2022-05-01T18:43:48.537Z"
   },
   {
    "duration": 13,
    "start_time": "2022-05-01T18:43:48.547Z"
   },
   {
    "duration": 63,
    "start_time": "2022-05-01T18:43:48.562Z"
   },
   {
    "duration": 7,
    "start_time": "2022-05-01T18:43:48.627Z"
   },
   {
    "duration": 11,
    "start_time": "2022-05-01T18:43:48.636Z"
   },
   {
    "duration": 28,
    "start_time": "2022-05-01T18:44:02.765Z"
   },
   {
    "duration": 667,
    "start_time": "2022-05-01T18:46:32.885Z"
   },
   {
    "duration": 15041,
    "start_time": "2022-05-01T18:47:30.492Z"
   },
   {
    "duration": 93,
    "start_time": "2022-05-01T18:48:31.038Z"
   },
   {
    "duration": 216,
    "start_time": "2022-05-01T18:48:42.134Z"
   },
   {
    "duration": 2595,
    "start_time": "2022-05-01T18:49:26.502Z"
   },
   {
    "duration": 94,
    "start_time": "2022-05-01T18:49:56.623Z"
   },
   {
    "duration": 191,
    "start_time": "2022-05-01T18:50:03.814Z"
   },
   {
    "duration": 8,
    "start_time": "2022-05-01T18:50:17.942Z"
   },
   {
    "duration": 217,
    "start_time": "2022-05-01T18:51:40.350Z"
   },
   {
    "duration": 147,
    "start_time": "2022-05-01T18:52:36.378Z"
   },
   {
    "duration": 170,
    "start_time": "2022-05-01T18:54:33.777Z"
   },
   {
    "duration": 152,
    "start_time": "2022-05-01T18:55:12.006Z"
   },
   {
    "duration": 231,
    "start_time": "2022-05-01T18:56:12.425Z"
   },
   {
    "duration": 164,
    "start_time": "2022-05-01T18:56:38.817Z"
   },
   {
    "duration": 35,
    "start_time": "2022-05-01T18:57:01.234Z"
   },
   {
    "duration": 14,
    "start_time": "2022-05-01T18:57:15.017Z"
   },
   {
    "duration": 13,
    "start_time": "2022-05-01T18:57:26.604Z"
   },
   {
    "duration": 94,
    "start_time": "2022-05-01T18:59:53.865Z"
   },
   {
    "duration": 144,
    "start_time": "2022-05-01T19:00:04.449Z"
   },
   {
    "duration": 180,
    "start_time": "2022-05-01T19:00:40.369Z"
   },
   {
    "duration": 144,
    "start_time": "2022-05-01T19:00:47.581Z"
   },
   {
    "duration": 162,
    "start_time": "2022-05-01T19:01:00.977Z"
   },
   {
    "duration": 105,
    "start_time": "2022-05-01T19:01:15.705Z"
   },
   {
    "duration": 42,
    "start_time": "2022-05-01T19:01:47.941Z"
   },
   {
    "duration": 95,
    "start_time": "2022-05-01T19:02:30.049Z"
   },
   {
    "duration": 224,
    "start_time": "2022-05-01T19:03:43.802Z"
   },
   {
    "duration": 75,
    "start_time": "2022-05-01T19:05:02.209Z"
   },
   {
    "duration": 8,
    "start_time": "2022-05-01T19:05:22.166Z"
   },
   {
    "duration": 234,
    "start_time": "2022-05-01T19:05:52.445Z"
   },
   {
    "duration": 9,
    "start_time": "2022-05-01T19:13:38.343Z"
   },
   {
    "duration": 9,
    "start_time": "2022-05-01T19:13:45.681Z"
   },
   {
    "duration": 154,
    "start_time": "2022-05-01T19:14:08.793Z"
   },
   {
    "duration": 131,
    "start_time": "2022-05-01T19:14:46.830Z"
   },
   {
    "duration": 138,
    "start_time": "2022-05-01T19:15:13.094Z"
   },
   {
    "duration": 136,
    "start_time": "2022-05-01T19:15:41.749Z"
   },
   {
    "duration": 16,
    "start_time": "2022-05-01T19:16:23.461Z"
   },
   {
    "duration": 125,
    "start_time": "2022-05-01T19:16:52.594Z"
   },
   {
    "duration": 141,
    "start_time": "2022-05-01T19:16:58.286Z"
   },
   {
    "duration": 130,
    "start_time": "2022-05-01T19:17:06.902Z"
   },
   {
    "duration": 131,
    "start_time": "2022-05-01T19:17:12.461Z"
   },
   {
    "duration": 831,
    "start_time": "2022-05-03T13:11:45.255Z"
   },
   {
    "duration": 368,
    "start_time": "2022-05-03T13:11:46.088Z"
   },
   {
    "duration": 37,
    "start_time": "2022-05-03T13:11:46.458Z"
   },
   {
    "duration": 30,
    "start_time": "2022-05-03T13:11:46.498Z"
   },
   {
    "duration": 49,
    "start_time": "2022-05-03T13:11:46.529Z"
   },
   {
    "duration": 28,
    "start_time": "2022-05-03T13:11:46.579Z"
   },
   {
    "duration": 24,
    "start_time": "2022-05-03T13:11:46.609Z"
   },
   {
    "duration": 20,
    "start_time": "2022-05-03T13:11:46.655Z"
   },
   {
    "duration": 9,
    "start_time": "2022-05-03T13:11:46.677Z"
   },
   {
    "duration": 5,
    "start_time": "2022-05-03T13:11:46.688Z"
   },
   {
    "duration": 110,
    "start_time": "2022-05-03T13:11:46.695Z"
   },
   {
    "duration": 60,
    "start_time": "2022-05-03T13:11:46.806Z"
   },
   {
    "duration": 2,
    "start_time": "2022-05-03T13:11:46.868Z"
   },
   {
    "duration": 63,
    "start_time": "2022-05-03T13:11:46.872Z"
   },
   {
    "duration": 5,
    "start_time": "2022-05-03T13:11:46.936Z"
   },
   {
    "duration": 6,
    "start_time": "2022-05-03T13:11:46.954Z"
   },
   {
    "duration": 4,
    "start_time": "2022-05-03T13:11:46.962Z"
   },
   {
    "duration": 34,
    "start_time": "2022-05-03T13:11:46.967Z"
   },
   {
    "duration": 4,
    "start_time": "2022-05-03T13:11:47.003Z"
   },
   {
    "duration": 25,
    "start_time": "2022-05-03T13:11:47.008Z"
   },
   {
    "duration": 31,
    "start_time": "2022-05-03T13:11:47.054Z"
   },
   {
    "duration": 9,
    "start_time": "2022-05-03T13:11:47.087Z"
   },
   {
    "duration": 13,
    "start_time": "2022-05-03T13:11:47.098Z"
   },
   {
    "duration": 48,
    "start_time": "2022-05-03T13:11:47.113Z"
   },
   {
    "duration": 37,
    "start_time": "2022-05-03T13:11:47.163Z"
   },
   {
    "duration": 21,
    "start_time": "2022-05-03T13:11:47.201Z"
   },
   {
    "duration": 7,
    "start_time": "2022-05-03T13:11:47.224Z"
   },
   {
    "duration": 11,
    "start_time": "2022-05-03T13:11:47.257Z"
   },
   {
    "duration": 11,
    "start_time": "2022-05-03T13:11:47.270Z"
   },
   {
    "duration": 13,
    "start_time": "2022-05-03T13:11:47.283Z"
   },
   {
    "duration": 33,
    "start_time": "2022-05-03T13:11:47.297Z"
   },
   {
    "duration": 8,
    "start_time": "2022-05-03T13:11:47.355Z"
   },
   {
    "duration": 7,
    "start_time": "2022-05-03T13:11:47.365Z"
   },
   {
    "duration": 12,
    "start_time": "2022-05-03T13:11:47.374Z"
   },
   {
    "duration": 16,
    "start_time": "2022-05-03T13:11:47.388Z"
   },
   {
    "duration": 655,
    "start_time": "2022-05-03T13:11:47.406Z"
   },
   {
    "duration": 165,
    "start_time": "2022-05-03T13:11:48.062Z"
   },
   {
    "duration": 175,
    "start_time": "2022-05-03T13:11:48.229Z"
   },
   {
    "duration": 135,
    "start_time": "2022-05-03T13:22:17.171Z"
   },
   {
    "duration": 11,
    "start_time": "2022-05-03T13:22:37.839Z"
   },
   {
    "duration": 10,
    "start_time": "2022-05-03T13:22:50.287Z"
   },
   {
    "duration": 11,
    "start_time": "2022-05-03T13:23:11.785Z"
   },
   {
    "duration": 94,
    "start_time": "2022-05-03T13:23:38.587Z"
   },
   {
    "duration": 14,
    "start_time": "2022-05-03T13:23:41.791Z"
   },
   {
    "duration": 9,
    "start_time": "2022-05-03T13:23:43.830Z"
   },
   {
    "duration": 12,
    "start_time": "2022-05-03T13:24:06.467Z"
   },
   {
    "duration": 11,
    "start_time": "2022-05-03T13:24:35.043Z"
   },
   {
    "duration": 153,
    "start_time": "2022-05-03T13:24:35.663Z"
   },
   {
    "duration": 12,
    "start_time": "2022-05-03T13:25:01.479Z"
   },
   {
    "duration": 409,
    "start_time": "2022-05-03T13:25:02.163Z"
   },
   {
    "duration": 12,
    "start_time": "2022-05-03T13:25:12.299Z"
   },
   {
    "duration": 136,
    "start_time": "2022-05-03T13:25:12.951Z"
   },
   {
    "duration": 11,
    "start_time": "2022-05-03T13:26:05.799Z"
   },
   {
    "duration": 140,
    "start_time": "2022-05-03T13:26:07.183Z"
   },
   {
    "duration": 11,
    "start_time": "2022-05-03T13:27:03.491Z"
   },
   {
    "duration": 222,
    "start_time": "2022-05-03T13:27:04.489Z"
   },
   {
    "duration": 11,
    "start_time": "2022-05-03T13:27:09.187Z"
   },
   {
    "duration": 139,
    "start_time": "2022-05-03T13:27:09.875Z"
   },
   {
    "duration": 11,
    "start_time": "2022-05-03T13:27:23.774Z"
   },
   {
    "duration": 130,
    "start_time": "2022-05-03T13:27:25.111Z"
   },
   {
    "duration": 149,
    "start_time": "2022-05-03T13:27:42.115Z"
   },
   {
    "duration": 10,
    "start_time": "2022-05-03T13:30:44.487Z"
   },
   {
    "duration": 14,
    "start_time": "2022-05-03T13:30:53.103Z"
   },
   {
    "duration": 5,
    "start_time": "2022-05-03T13:31:18.883Z"
   },
   {
    "duration": 137,
    "start_time": "2022-05-03T13:32:33.299Z"
   },
   {
    "duration": 146,
    "start_time": "2022-05-03T13:33:39.883Z"
   },
   {
    "duration": 153,
    "start_time": "2022-05-03T13:33:59.775Z"
   },
   {
    "duration": 4,
    "start_time": "2022-05-03T13:35:42.791Z"
   },
   {
    "duration": 131,
    "start_time": "2022-05-03T13:35:43.402Z"
   },
   {
    "duration": 137,
    "start_time": "2022-05-03T13:35:55.652Z"
   },
   {
    "duration": 5,
    "start_time": "2022-05-03T13:35:58.704Z"
   },
   {
    "duration": 134,
    "start_time": "2022-05-03T13:35:59.681Z"
   },
   {
    "duration": 142,
    "start_time": "2022-05-03T13:37:24.515Z"
   },
   {
    "duration": 9,
    "start_time": "2022-05-03T13:38:56.599Z"
   },
   {
    "duration": 264,
    "start_time": "2022-05-03T13:39:44.538Z"
   },
   {
    "duration": 79,
    "start_time": "2022-05-03T13:40:16.991Z"
   },
   {
    "duration": 8,
    "start_time": "2022-05-03T13:40:31.922Z"
   },
   {
    "duration": 89,
    "start_time": "2022-05-03T13:45:16.051Z"
   },
   {
    "duration": 82,
    "start_time": "2022-05-03T13:45:47.022Z"
   },
   {
    "duration": 92,
    "start_time": "2022-05-03T13:46:07.247Z"
   },
   {
    "duration": 162,
    "start_time": "2022-05-03T13:50:25.978Z"
   },
   {
    "duration": 172,
    "start_time": "2022-05-03T13:53:17.035Z"
   },
   {
    "duration": 4,
    "start_time": "2022-05-03T13:59:05.514Z"
   },
   {
    "duration": 135,
    "start_time": "2022-05-03T13:59:07.163Z"
   },
   {
    "duration": 143,
    "start_time": "2022-05-03T13:59:08.955Z"
   },
   {
    "duration": 122,
    "start_time": "2022-05-03T13:59:10.479Z"
   },
   {
    "duration": 133,
    "start_time": "2022-05-03T13:59:12.571Z"
   },
   {
    "duration": 151,
    "start_time": "2022-05-03T13:59:14.750Z"
   },
   {
    "duration": 259,
    "start_time": "2022-05-03T13:59:16.179Z"
   },
   {
    "duration": 30,
    "start_time": "2022-05-03T14:02:24.626Z"
   },
   {
    "duration": 28,
    "start_time": "2022-05-03T14:02:32.143Z"
   },
   {
    "duration": 3,
    "start_time": "2022-05-03T14:19:04.382Z"
   },
   {
    "duration": 544,
    "start_time": "2022-05-03T14:19:04.387Z"
   },
   {
    "duration": 47,
    "start_time": "2022-05-03T14:19:04.934Z"
   },
   {
    "duration": 36,
    "start_time": "2022-05-03T14:19:04.983Z"
   },
   {
    "duration": 55,
    "start_time": "2022-05-03T14:19:05.022Z"
   },
   {
    "duration": 32,
    "start_time": "2022-05-03T14:19:05.080Z"
   },
   {
    "duration": 54,
    "start_time": "2022-05-03T14:19:05.114Z"
   },
   {
    "duration": 33,
    "start_time": "2022-05-03T14:19:05.170Z"
   },
   {
    "duration": 33,
    "start_time": "2022-05-03T14:19:05.205Z"
   },
   {
    "duration": 12,
    "start_time": "2022-05-03T14:19:05.240Z"
   },
   {
    "duration": 83,
    "start_time": "2022-05-03T14:19:05.255Z"
   },
   {
    "duration": 62,
    "start_time": "2022-05-03T14:19:05.340Z"
   },
   {
    "duration": 65,
    "start_time": "2022-05-03T14:19:05.404Z"
   },
   {
    "duration": 5,
    "start_time": "2022-05-03T14:19:05.471Z"
   },
   {
    "duration": 64,
    "start_time": "2022-05-03T14:19:05.478Z"
   },
   {
    "duration": 386,
    "start_time": "2022-05-03T14:19:05.544Z"
   },
   {
    "duration": 4,
    "start_time": "2022-05-03T14:19:05.932Z"
   },
   {
    "duration": 48,
    "start_time": "2022-05-03T14:19:05.938Z"
   },
   {
    "duration": 14,
    "start_time": "2022-05-03T14:19:05.988Z"
   },
   {
    "duration": 70,
    "start_time": "2022-05-03T14:19:06.004Z"
   },
   {
    "duration": 248,
    "start_time": "2022-05-03T14:19:06.076Z"
   },
   {
    "duration": 60,
    "start_time": "2022-05-03T14:19:06.326Z"
   },
   {
    "duration": 32,
    "start_time": "2022-05-03T14:19:06.388Z"
   },
   {
    "duration": 42,
    "start_time": "2022-05-03T14:19:06.422Z"
   },
   {
    "duration": 35,
    "start_time": "2022-05-03T14:19:06.466Z"
   },
   {
    "duration": 35,
    "start_time": "2022-05-03T14:19:06.503Z"
   },
   {
    "duration": 16,
    "start_time": "2022-05-03T14:19:06.540Z"
   },
   {
    "duration": 10,
    "start_time": "2022-05-03T14:19:06.558Z"
   },
   {
    "duration": 8,
    "start_time": "2022-05-03T14:19:06.573Z"
   },
   {
    "duration": 13,
    "start_time": "2022-05-03T14:19:06.583Z"
   },
   {
    "duration": 42,
    "start_time": "2022-05-03T14:19:06.598Z"
   },
   {
    "duration": 8,
    "start_time": "2022-05-03T14:19:06.655Z"
   },
   {
    "duration": 11,
    "start_time": "2022-05-03T14:19:06.665Z"
   },
   {
    "duration": 25,
    "start_time": "2022-05-03T14:19:06.678Z"
   },
   {
    "duration": 17,
    "start_time": "2022-05-03T14:19:06.704Z"
   },
   {
    "duration": 153,
    "start_time": "2022-05-03T14:19:06.723Z"
   },
   {
    "duration": 152,
    "start_time": "2022-05-03T14:19:06.877Z"
   },
   {
    "duration": 147,
    "start_time": "2022-05-03T14:19:07.030Z"
   },
   {
    "duration": 10,
    "start_time": "2022-05-03T14:19:07.178Z"
   },
   {
    "duration": 147,
    "start_time": "2022-05-03T14:19:07.189Z"
   },
   {
    "duration": 161,
    "start_time": "2022-05-03T14:19:07.338Z"
   },
   {
    "duration": 177,
    "start_time": "2022-05-03T14:19:07.501Z"
   },
   {
    "duration": 33,
    "start_time": "2022-05-03T14:19:42.130Z"
   },
   {
    "duration": 3,
    "start_time": "2022-05-03T14:19:44.914Z"
   },
   {
    "duration": 491,
    "start_time": "2022-05-03T14:19:44.919Z"
   },
   {
    "duration": 34,
    "start_time": "2022-05-03T14:19:45.413Z"
   },
   {
    "duration": 50,
    "start_time": "2022-05-03T14:19:45.449Z"
   },
   {
    "duration": 30,
    "start_time": "2022-05-03T14:19:45.501Z"
   },
   {
    "duration": 32,
    "start_time": "2022-05-03T14:19:45.533Z"
   },
   {
    "duration": 39,
    "start_time": "2022-05-03T14:19:45.568Z"
   },
   {
    "duration": 52,
    "start_time": "2022-05-03T14:19:45.609Z"
   },
   {
    "duration": 12,
    "start_time": "2022-05-03T14:19:45.663Z"
   },
   {
    "duration": 8,
    "start_time": "2022-05-03T14:19:45.677Z"
   },
   {
    "duration": 152,
    "start_time": "2022-05-03T14:19:45.688Z"
   },
   {
    "duration": 68,
    "start_time": "2022-05-03T14:19:45.842Z"
   },
   {
    "duration": 66,
    "start_time": "2022-05-03T14:19:45.912Z"
   },
   {
    "duration": 8,
    "start_time": "2022-05-03T14:19:45.980Z"
   },
   {
    "duration": 12,
    "start_time": "2022-05-03T14:19:45.990Z"
   },
   {
    "duration": 207,
    "start_time": "2022-05-03T14:19:46.004Z"
   },
   {
    "duration": 6,
    "start_time": "2022-05-03T14:19:46.213Z"
   },
   {
    "duration": 47,
    "start_time": "2022-05-03T14:19:46.221Z"
   },
   {
    "duration": 8,
    "start_time": "2022-05-03T14:19:46.270Z"
   },
   {
    "duration": 30,
    "start_time": "2022-05-03T14:19:46.280Z"
   },
   {
    "duration": 60,
    "start_time": "2022-05-03T14:19:46.311Z"
   },
   {
    "duration": 14,
    "start_time": "2022-05-03T14:19:46.373Z"
   },
   {
    "duration": 19,
    "start_time": "2022-05-03T14:19:46.389Z"
   },
   {
    "duration": 170,
    "start_time": "2022-05-03T14:19:46.410Z"
   },
   {
    "duration": 38,
    "start_time": "2022-05-03T14:19:46.582Z"
   },
   {
    "duration": 39,
    "start_time": "2022-05-03T14:19:46.622Z"
   },
   {
    "duration": 8,
    "start_time": "2022-05-03T14:19:46.663Z"
   },
   {
    "duration": 19,
    "start_time": "2022-05-03T14:19:46.673Z"
   },
   {
    "duration": 24,
    "start_time": "2022-05-03T14:19:46.696Z"
   },
   {
    "duration": 23,
    "start_time": "2022-05-03T14:19:46.723Z"
   },
   {
    "duration": 34,
    "start_time": "2022-05-03T14:19:46.748Z"
   },
   {
    "duration": 29,
    "start_time": "2022-05-03T14:19:46.784Z"
   },
   {
    "duration": 0,
    "start_time": "2022-05-03T14:19:46.815Z"
   },
   {
    "duration": 0,
    "start_time": "2022-05-03T14:19:46.816Z"
   },
   {
    "duration": 0,
    "start_time": "2022-05-03T14:19:46.818Z"
   },
   {
    "duration": 0,
    "start_time": "2022-05-03T14:19:46.819Z"
   },
   {
    "duration": 0,
    "start_time": "2022-05-03T14:19:46.820Z"
   },
   {
    "duration": 0,
    "start_time": "2022-05-03T14:19:46.822Z"
   },
   {
    "duration": 0,
    "start_time": "2022-05-03T14:19:46.823Z"
   },
   {
    "duration": 0,
    "start_time": "2022-05-03T14:19:46.825Z"
   },
   {
    "duration": 0,
    "start_time": "2022-05-03T14:19:46.826Z"
   },
   {
    "duration": 0,
    "start_time": "2022-05-03T14:19:46.855Z"
   },
   {
    "duration": 10,
    "start_time": "2022-05-03T14:20:02.666Z"
   },
   {
    "duration": 13,
    "start_time": "2022-05-03T14:20:10.414Z"
   },
   {
    "duration": 595,
    "start_time": "2022-05-03T14:20:34.895Z"
   },
   {
    "duration": 234,
    "start_time": "2022-05-03T14:20:44.823Z"
   },
   {
    "duration": 262,
    "start_time": "2022-05-03T14:20:52.898Z"
   },
   {
    "duration": 226,
    "start_time": "2022-05-03T14:21:15.354Z"
   },
   {
    "duration": 24,
    "start_time": "2022-05-03T14:21:24.694Z"
   },
   {
    "duration": 3,
    "start_time": "2022-05-03T14:21:50.515Z"
   },
   {
    "duration": 543,
    "start_time": "2022-05-03T14:21:50.521Z"
   },
   {
    "duration": 49,
    "start_time": "2022-05-03T14:21:51.066Z"
   },
   {
    "duration": 44,
    "start_time": "2022-05-03T14:21:51.117Z"
   },
   {
    "duration": 35,
    "start_time": "2022-05-03T14:21:51.163Z"
   },
   {
    "duration": 27,
    "start_time": "2022-05-03T14:21:51.199Z"
   },
   {
    "duration": 45,
    "start_time": "2022-05-03T14:21:51.227Z"
   },
   {
    "duration": 19,
    "start_time": "2022-05-03T14:21:51.273Z"
   },
   {
    "duration": 12,
    "start_time": "2022-05-03T14:21:51.294Z"
   },
   {
    "duration": 5,
    "start_time": "2022-05-03T14:21:51.308Z"
   },
   {
    "duration": 109,
    "start_time": "2022-05-03T14:21:51.316Z"
   },
   {
    "duration": 61,
    "start_time": "2022-05-03T14:21:51.427Z"
   },
   {
    "duration": 55,
    "start_time": "2022-05-03T14:21:51.489Z"
   },
   {
    "duration": 6,
    "start_time": "2022-05-03T14:21:51.555Z"
   },
   {
    "duration": 25,
    "start_time": "2022-05-03T14:21:51.563Z"
   },
   {
    "duration": 13,
    "start_time": "2022-05-03T14:21:51.590Z"
   },
   {
    "duration": 37,
    "start_time": "2022-05-03T14:21:51.605Z"
   },
   {
    "duration": 5,
    "start_time": "2022-05-03T14:21:51.643Z"
   },
   {
    "duration": 25,
    "start_time": "2022-05-03T14:21:51.649Z"
   },
   {
    "duration": 31,
    "start_time": "2022-05-03T14:21:51.676Z"
   },
   {
    "duration": 12,
    "start_time": "2022-05-03T14:21:51.709Z"
   },
   {
    "duration": 34,
    "start_time": "2022-05-03T14:21:51.723Z"
   },
   {
    "duration": 28,
    "start_time": "2022-05-03T14:21:51.759Z"
   },
   {
    "duration": 40,
    "start_time": "2022-05-03T14:21:51.789Z"
   },
   {
    "duration": 28,
    "start_time": "2022-05-03T14:21:51.830Z"
   },
   {
    "duration": 10,
    "start_time": "2022-05-03T14:21:51.860Z"
   },
   {
    "duration": 25,
    "start_time": "2022-05-03T14:21:51.872Z"
   },
   {
    "duration": 45,
    "start_time": "2022-05-03T14:21:51.899Z"
   },
   {
    "duration": 28,
    "start_time": "2022-05-03T14:21:51.948Z"
   },
   {
    "duration": 67,
    "start_time": "2022-05-03T14:21:51.978Z"
   },
   {
    "duration": 9,
    "start_time": "2022-05-03T14:21:52.047Z"
   },
   {
    "duration": 36,
    "start_time": "2022-05-03T14:21:52.058Z"
   },
   {
    "duration": 53,
    "start_time": "2022-05-03T14:21:52.096Z"
   },
   {
    "duration": 14,
    "start_time": "2022-05-03T14:21:52.151Z"
   },
   {
    "duration": 220,
    "start_time": "2022-05-03T14:21:52.167Z"
   },
   {
    "duration": 147,
    "start_time": "2022-05-03T14:21:52.389Z"
   },
   {
    "duration": 257,
    "start_time": "2022-05-03T14:21:52.537Z"
   },
   {
    "duration": 10,
    "start_time": "2022-05-03T14:21:52.796Z"
   },
   {
    "duration": 184,
    "start_time": "2022-05-03T14:21:52.807Z"
   },
   {
    "duration": 168,
    "start_time": "2022-05-03T14:21:52.993Z"
   },
   {
    "duration": 165,
    "start_time": "2022-05-03T14:21:53.163Z"
   },
   {
    "duration": 14,
    "start_time": "2022-05-03T14:35:09.714Z"
   },
   {
    "duration": 13,
    "start_time": "2022-05-03T14:35:17.058Z"
   },
   {
    "duration": 5,
    "start_time": "2022-05-03T14:36:06.202Z"
   },
   {
    "duration": 23,
    "start_time": "2022-05-03T14:37:08.530Z"
   },
   {
    "duration": 9,
    "start_time": "2022-05-03T14:37:14.588Z"
   },
   {
    "duration": 17,
    "start_time": "2022-05-03T14:37:27.094Z"
   },
   {
    "duration": 18,
    "start_time": "2022-05-03T14:37:36.158Z"
   },
   {
    "duration": 6,
    "start_time": "2022-05-03T14:37:55.958Z"
   },
   {
    "duration": 6,
    "start_time": "2022-05-03T14:38:11.778Z"
   },
   {
    "duration": 5,
    "start_time": "2022-05-03T14:38:35.478Z"
   },
   {
    "duration": 6,
    "start_time": "2022-05-03T14:38:44.222Z"
   },
   {
    "duration": 11,
    "start_time": "2022-05-03T14:38:53.145Z"
   },
   {
    "duration": 10,
    "start_time": "2022-05-03T14:38:57.353Z"
   },
   {
    "duration": 5,
    "start_time": "2022-05-03T14:39:17.838Z"
   },
   {
    "duration": 15,
    "start_time": "2022-05-03T14:41:29.521Z"
   },
   {
    "duration": 13,
    "start_time": "2022-05-03T14:42:36.774Z"
   },
   {
    "duration": 15,
    "start_time": "2022-05-03T14:42:40.127Z"
   },
   {
    "duration": 9,
    "start_time": "2022-05-03T14:42:50.670Z"
   },
   {
    "duration": 10,
    "start_time": "2022-05-03T14:43:05.222Z"
   },
   {
    "duration": 6,
    "start_time": "2022-05-03T14:43:31.313Z"
   },
   {
    "duration": 8,
    "start_time": "2022-05-03T14:52:07.821Z"
   },
   {
    "duration": 156,
    "start_time": "2022-05-03T14:52:25.467Z"
   },
   {
    "duration": 6,
    "start_time": "2022-05-03T14:53:40.205Z"
   },
   {
    "duration": 7,
    "start_time": "2022-05-03T14:54:01.446Z"
   },
   {
    "duration": 6,
    "start_time": "2022-05-03T14:54:08.685Z"
   },
   {
    "duration": 13,
    "start_time": "2022-05-03T14:54:18.393Z"
   },
   {
    "duration": 12,
    "start_time": "2022-05-03T14:54:49.097Z"
   },
   {
    "duration": 7,
    "start_time": "2022-05-03T14:54:49.821Z"
   },
   {
    "duration": 32,
    "start_time": "2022-05-03T15:29:34.889Z"
   },
   {
    "duration": 7,
    "start_time": "2022-05-03T15:30:07.672Z"
   },
   {
    "duration": 9,
    "start_time": "2022-05-03T15:30:56.224Z"
   },
   {
    "duration": 13,
    "start_time": "2022-05-03T15:31:07.073Z"
   },
   {
    "duration": 12,
    "start_time": "2022-05-03T15:31:12.944Z"
   },
   {
    "duration": 5,
    "start_time": "2022-05-03T15:31:39.872Z"
   },
   {
    "duration": 4,
    "start_time": "2022-05-03T15:31:48.285Z"
   },
   {
    "duration": 23,
    "start_time": "2022-05-03T15:33:39.541Z"
   },
   {
    "duration": 10,
    "start_time": "2022-05-03T15:33:52.928Z"
   },
   {
    "duration": 9,
    "start_time": "2022-05-03T15:33:57.676Z"
   },
   {
    "duration": 10,
    "start_time": "2022-05-03T15:34:02.172Z"
   },
   {
    "duration": 6,
    "start_time": "2022-05-03T15:34:22.648Z"
   },
   {
    "duration": 8,
    "start_time": "2022-05-03T15:34:27.648Z"
   },
   {
    "duration": 7,
    "start_time": "2022-05-03T15:34:33.652Z"
   },
   {
    "duration": 19,
    "start_time": "2022-05-03T15:35:31.404Z"
   },
   {
    "duration": 16,
    "start_time": "2022-05-03T15:36:57.080Z"
   },
   {
    "duration": 6,
    "start_time": "2022-05-03T15:44:45.285Z"
   },
   {
    "duration": 7,
    "start_time": "2022-05-03T15:45:40.933Z"
   },
   {
    "duration": 7,
    "start_time": "2022-05-03T15:52:56.960Z"
   },
   {
    "duration": 385,
    "start_time": "2022-05-03T16:05:17.821Z"
   },
   {
    "duration": 8,
    "start_time": "2022-05-03T16:08:09.876Z"
   },
   {
    "duration": 4,
    "start_time": "2022-05-03T16:09:56.132Z"
   },
   {
    "duration": 16,
    "start_time": "2022-05-03T16:14:27.308Z"
   },
   {
    "duration": 9,
    "start_time": "2022-05-03T16:14:59.640Z"
   },
   {
    "duration": 15,
    "start_time": "2022-05-03T16:15:30.337Z"
   },
   {
    "duration": 3,
    "start_time": "2022-05-03T16:15:37.004Z"
   },
   {
    "duration": 559,
    "start_time": "2022-05-03T16:15:37.009Z"
   },
   {
    "duration": 48,
    "start_time": "2022-05-03T16:15:37.571Z"
   },
   {
    "duration": 38,
    "start_time": "2022-05-03T16:15:37.620Z"
   },
   {
    "duration": 33,
    "start_time": "2022-05-03T16:15:37.661Z"
   },
   {
    "duration": 67,
    "start_time": "2022-05-03T16:15:37.696Z"
   },
   {
    "duration": 44,
    "start_time": "2022-05-03T16:15:37.766Z"
   },
   {
    "duration": 59,
    "start_time": "2022-05-03T16:15:37.812Z"
   },
   {
    "duration": 13,
    "start_time": "2022-05-03T16:15:37.874Z"
   },
   {
    "duration": 6,
    "start_time": "2022-05-03T16:15:37.889Z"
   },
   {
    "duration": 107,
    "start_time": "2022-05-03T16:15:37.900Z"
   },
   {
    "duration": 63,
    "start_time": "2022-05-03T16:15:38.008Z"
   },
   {
    "duration": 58,
    "start_time": "2022-05-03T16:15:38.073Z"
   },
   {
    "duration": 24,
    "start_time": "2022-05-03T16:15:38.133Z"
   },
   {
    "duration": 13,
    "start_time": "2022-05-03T16:15:38.159Z"
   },
   {
    "duration": 6,
    "start_time": "2022-05-03T16:15:38.174Z"
   },
   {
    "duration": 73,
    "start_time": "2022-05-03T16:15:38.183Z"
   },
   {
    "duration": 5,
    "start_time": "2022-05-03T16:15:38.258Z"
   },
   {
    "duration": 34,
    "start_time": "2022-05-03T16:15:38.265Z"
   },
   {
    "duration": 13,
    "start_time": "2022-05-03T16:15:38.301Z"
   },
   {
    "duration": 55,
    "start_time": "2022-05-03T16:15:38.316Z"
   },
   {
    "duration": 15,
    "start_time": "2022-05-03T16:15:38.373Z"
   },
   {
    "duration": 15,
    "start_time": "2022-05-03T16:15:38.389Z"
   },
   {
    "duration": 49,
    "start_time": "2022-05-03T16:15:38.406Z"
   },
   {
    "duration": 58,
    "start_time": "2022-05-03T16:15:38.458Z"
   },
   {
    "duration": 52,
    "start_time": "2022-05-03T16:15:38.518Z"
   },
   {
    "duration": 10,
    "start_time": "2022-05-03T16:15:38.572Z"
   },
   {
    "duration": 10,
    "start_time": "2022-05-03T16:15:38.584Z"
   },
   {
    "duration": 10,
    "start_time": "2022-05-03T16:15:38.598Z"
   },
   {
    "duration": 13,
    "start_time": "2022-05-03T16:15:38.610Z"
   },
   {
    "duration": 64,
    "start_time": "2022-05-03T16:15:38.624Z"
   },
   {
    "duration": 8,
    "start_time": "2022-05-03T16:15:38.690Z"
   },
   {
    "duration": 11,
    "start_time": "2022-05-03T16:15:38.699Z"
   },
   {
    "duration": 12,
    "start_time": "2022-05-03T16:15:38.712Z"
   },
   {
    "duration": 29,
    "start_time": "2022-05-03T16:15:38.726Z"
   },
   {
    "duration": 165,
    "start_time": "2022-05-03T16:15:38.757Z"
   },
   {
    "duration": 157,
    "start_time": "2022-05-03T16:15:38.923Z"
   },
   {
    "duration": 226,
    "start_time": "2022-05-03T16:15:39.082Z"
   },
   {
    "duration": 13,
    "start_time": "2022-05-03T16:15:39.311Z"
   },
   {
    "duration": 169,
    "start_time": "2022-05-03T16:15:39.326Z"
   },
   {
    "duration": 178,
    "start_time": "2022-05-03T16:15:39.497Z"
   },
   {
    "duration": 193,
    "start_time": "2022-05-03T16:15:39.677Z"
   },
   {
    "duration": 15,
    "start_time": "2022-05-03T16:15:39.872Z"
   },
   {
    "duration": 12,
    "start_time": "2022-05-03T16:15:39.890Z"
   },
   {
    "duration": 39,
    "start_time": "2022-05-03T16:15:39.904Z"
   },
   {
    "duration": 11,
    "start_time": "2022-05-03T16:15:39.954Z"
   },
   {
    "duration": 24,
    "start_time": "2022-05-03T16:19:26.660Z"
   },
   {
    "duration": 21,
    "start_time": "2022-05-03T16:22:34.172Z"
   },
   {
    "duration": 1938,
    "start_time": "2022-05-03T16:23:33.720Z"
   },
   {
    "duration": 3,
    "start_time": "2022-05-03T16:23:40.816Z"
   },
   {
    "duration": 565,
    "start_time": "2022-05-03T16:23:40.822Z"
   },
   {
    "duration": 35,
    "start_time": "2022-05-03T16:23:41.390Z"
   },
   {
    "duration": 47,
    "start_time": "2022-05-03T16:23:41.427Z"
   },
   {
    "duration": 30,
    "start_time": "2022-05-03T16:23:41.478Z"
   },
   {
    "duration": 268,
    "start_time": "2022-05-03T16:23:41.511Z"
   },
   {
    "duration": 40,
    "start_time": "2022-05-03T16:23:41.782Z"
   },
   {
    "duration": 53,
    "start_time": "2022-05-03T16:23:41.824Z"
   },
   {
    "duration": 23,
    "start_time": "2022-05-03T16:23:41.879Z"
   },
   {
    "duration": 32,
    "start_time": "2022-05-03T16:23:41.904Z"
   },
   {
    "duration": 114,
    "start_time": "2022-05-03T16:23:41.940Z"
   },
   {
    "duration": 52,
    "start_time": "2022-05-03T16:23:42.056Z"
   },
   {
    "duration": 75,
    "start_time": "2022-05-03T16:23:42.111Z"
   },
   {
    "duration": 10,
    "start_time": "2022-05-03T16:23:42.189Z"
   },
   {
    "duration": 18,
    "start_time": "2022-05-03T16:23:42.201Z"
   },
   {
    "duration": 19,
    "start_time": "2022-05-03T16:23:42.222Z"
   },
   {
    "duration": 83,
    "start_time": "2022-05-03T16:23:42.244Z"
   },
   {
    "duration": 5,
    "start_time": "2022-05-03T16:23:42.329Z"
   },
   {
    "duration": 54,
    "start_time": "2022-05-03T16:23:42.337Z"
   },
   {
    "duration": 48,
    "start_time": "2022-05-03T16:23:42.394Z"
   },
   {
    "duration": 38,
    "start_time": "2022-05-03T16:23:42.444Z"
   },
   {
    "duration": 48,
    "start_time": "2022-05-03T16:23:42.484Z"
   },
   {
    "duration": 58,
    "start_time": "2022-05-03T16:23:42.535Z"
   },
   {
    "duration": 23,
    "start_time": "2022-05-03T16:23:42.595Z"
   },
   {
    "duration": 36,
    "start_time": "2022-05-03T16:23:42.620Z"
   },
   {
    "duration": 28,
    "start_time": "2022-05-03T16:23:42.658Z"
   },
   {
    "duration": 41,
    "start_time": "2022-05-03T16:23:42.688Z"
   },
   {
    "duration": 30,
    "start_time": "2022-05-03T16:23:42.732Z"
   },
   {
    "duration": 2042,
    "start_time": "2022-05-03T16:23:42.767Z"
   },
   {
    "duration": 0,
    "start_time": "2022-05-03T16:23:44.812Z"
   },
   {
    "duration": 0,
    "start_time": "2022-05-03T16:23:44.813Z"
   },
   {
    "duration": 0,
    "start_time": "2022-05-03T16:23:44.815Z"
   },
   {
    "duration": 0,
    "start_time": "2022-05-03T16:23:44.817Z"
   },
   {
    "duration": 0,
    "start_time": "2022-05-03T16:23:44.818Z"
   },
   {
    "duration": 0,
    "start_time": "2022-05-03T16:23:44.820Z"
   },
   {
    "duration": 0,
    "start_time": "2022-05-03T16:23:44.821Z"
   },
   {
    "duration": 0,
    "start_time": "2022-05-03T16:23:44.822Z"
   },
   {
    "duration": 0,
    "start_time": "2022-05-03T16:23:44.824Z"
   },
   {
    "duration": 0,
    "start_time": "2022-05-03T16:23:44.825Z"
   },
   {
    "duration": 0,
    "start_time": "2022-05-03T16:23:44.827Z"
   },
   {
    "duration": 0,
    "start_time": "2022-05-03T16:23:44.828Z"
   },
   {
    "duration": 1,
    "start_time": "2022-05-03T16:23:44.829Z"
   },
   {
    "duration": 0,
    "start_time": "2022-05-03T16:23:44.831Z"
   },
   {
    "duration": 0,
    "start_time": "2022-05-03T16:23:44.832Z"
   },
   {
    "duration": 0,
    "start_time": "2022-05-03T16:23:44.833Z"
   },
   {
    "duration": 11,
    "start_time": "2022-05-03T16:23:54.372Z"
   },
   {
    "duration": 2133,
    "start_time": "2022-05-03T16:24:15.068Z"
   },
   {
    "duration": 2085,
    "start_time": "2022-05-03T16:24:25.688Z"
   },
   {
    "duration": 13,
    "start_time": "2022-05-03T16:24:36.125Z"
   },
   {
    "duration": 8,
    "start_time": "2022-05-03T16:27:34.420Z"
   },
   {
    "duration": 15,
    "start_time": "2022-05-03T16:27:36.356Z"
   },
   {
    "duration": 7,
    "start_time": "2022-05-03T16:28:14.384Z"
   },
   {
    "duration": 12,
    "start_time": "2022-05-03T16:28:14.899Z"
   },
   {
    "duration": 4,
    "start_time": "2022-05-03T16:28:19.611Z"
   },
   {
    "duration": 418,
    "start_time": "2022-05-03T16:28:19.617Z"
   },
   {
    "duration": 36,
    "start_time": "2022-05-03T16:28:20.037Z"
   },
   {
    "duration": 51,
    "start_time": "2022-05-03T16:28:20.075Z"
   },
   {
    "duration": 32,
    "start_time": "2022-05-03T16:28:20.128Z"
   },
   {
    "duration": 30,
    "start_time": "2022-05-03T16:28:20.162Z"
   },
   {
    "duration": 26,
    "start_time": "2022-05-03T16:28:20.194Z"
   },
   {
    "duration": 51,
    "start_time": "2022-05-03T16:28:20.222Z"
   },
   {
    "duration": 9,
    "start_time": "2022-05-03T16:28:20.276Z"
   },
   {
    "duration": 28,
    "start_time": "2022-05-03T16:28:20.287Z"
   },
   {
    "duration": 85,
    "start_time": "2022-05-03T16:28:20.318Z"
   },
   {
    "duration": 59,
    "start_time": "2022-05-03T16:28:20.404Z"
   },
   {
    "duration": 54,
    "start_time": "2022-05-03T16:28:20.465Z"
   },
   {
    "duration": 6,
    "start_time": "2022-05-03T16:28:20.521Z"
   },
   {
    "duration": 28,
    "start_time": "2022-05-03T16:28:20.529Z"
   },
   {
    "duration": 5,
    "start_time": "2022-05-03T16:28:20.559Z"
   },
   {
    "duration": 57,
    "start_time": "2022-05-03T16:28:20.565Z"
   },
   {
    "duration": 6,
    "start_time": "2022-05-03T16:28:20.624Z"
   },
   {
    "duration": 48,
    "start_time": "2022-05-03T16:28:20.632Z"
   },
   {
    "duration": 50,
    "start_time": "2022-05-03T16:28:20.683Z"
   },
   {
    "duration": 24,
    "start_time": "2022-05-03T16:28:20.735Z"
   },
   {
    "duration": 36,
    "start_time": "2022-05-03T16:28:20.761Z"
   },
   {
    "duration": 57,
    "start_time": "2022-05-03T16:28:20.799Z"
   },
   {
    "duration": 21,
    "start_time": "2022-05-03T16:28:20.858Z"
   },
   {
    "duration": 7,
    "start_time": "2022-05-03T16:28:20.880Z"
   },
   {
    "duration": 30,
    "start_time": "2022-05-03T16:28:20.889Z"
   },
   {
    "duration": 9,
    "start_time": "2022-05-03T16:28:20.921Z"
   },
   {
    "duration": 31,
    "start_time": "2022-05-03T16:28:20.932Z"
   },
   {
    "duration": 6,
    "start_time": "2022-05-03T16:28:20.967Z"
   },
   {
    "duration": 13,
    "start_time": "2022-05-03T16:28:20.975Z"
   },
   {
    "duration": 10,
    "start_time": "2022-05-03T16:28:20.989Z"
   },
   {
    "duration": 10,
    "start_time": "2022-05-03T16:28:21.000Z"
   },
   {
    "duration": 14,
    "start_time": "2022-05-03T16:28:21.012Z"
   },
   {
    "duration": 4,
    "start_time": "2022-05-03T16:28:21.055Z"
   },
   {
    "duration": 227,
    "start_time": "2022-05-03T16:28:21.061Z"
   },
   {
    "duration": 224,
    "start_time": "2022-05-03T16:28:21.291Z"
   },
   {
    "duration": 229,
    "start_time": "2022-05-03T16:28:21.516Z"
   },
   {
    "duration": 14,
    "start_time": "2022-05-03T16:28:21.748Z"
   },
   {
    "duration": 166,
    "start_time": "2022-05-03T16:28:21.764Z"
   },
   {
    "duration": 166,
    "start_time": "2022-05-03T16:28:21.932Z"
   },
   {
    "duration": 158,
    "start_time": "2022-05-03T16:28:22.100Z"
   },
   {
    "duration": 18,
    "start_time": "2022-05-03T16:28:22.261Z"
   },
   {
    "duration": 9,
    "start_time": "2022-05-03T16:28:22.281Z"
   },
   {
    "duration": 22,
    "start_time": "2022-05-03T16:28:22.292Z"
   },
   {
    "duration": 11,
    "start_time": "2022-05-03T16:28:22.316Z"
   },
   {
    "duration": 3,
    "start_time": "2022-05-03T17:00:38.760Z"
   },
   {
    "duration": 520,
    "start_time": "2022-05-03T17:00:38.765Z"
   },
   {
    "duration": 35,
    "start_time": "2022-05-03T17:00:39.287Z"
   },
   {
    "duration": 36,
    "start_time": "2022-05-03T17:00:39.323Z"
   },
   {
    "duration": 31,
    "start_time": "2022-05-03T17:00:39.361Z"
   },
   {
    "duration": 27,
    "start_time": "2022-05-03T17:00:39.393Z"
   },
   {
    "duration": 50,
    "start_time": "2022-05-03T17:00:39.422Z"
   },
   {
    "duration": 29,
    "start_time": "2022-05-03T17:00:39.474Z"
   },
   {
    "duration": 9,
    "start_time": "2022-05-03T17:00:39.505Z"
   },
   {
    "duration": 38,
    "start_time": "2022-05-03T17:00:39.516Z"
   },
   {
    "duration": 80,
    "start_time": "2022-05-03T17:00:39.559Z"
   },
   {
    "duration": 64,
    "start_time": "2022-05-03T17:00:39.642Z"
   },
   {
    "duration": 77,
    "start_time": "2022-05-03T17:00:39.708Z"
   },
   {
    "duration": 7,
    "start_time": "2022-05-03T17:00:39.787Z"
   },
   {
    "duration": 12,
    "start_time": "2022-05-03T17:00:39.796Z"
   },
   {
    "duration": 8,
    "start_time": "2022-05-03T17:00:39.810Z"
   },
   {
    "duration": 58,
    "start_time": "2022-05-03T17:00:39.819Z"
   },
   {
    "duration": 5,
    "start_time": "2022-05-03T17:00:39.878Z"
   },
   {
    "duration": 40,
    "start_time": "2022-05-03T17:00:39.885Z"
   },
   {
    "duration": 40,
    "start_time": "2022-05-03T17:00:39.927Z"
   },
   {
    "duration": 12,
    "start_time": "2022-05-03T17:00:39.970Z"
   },
   {
    "duration": 29,
    "start_time": "2022-05-03T17:00:39.984Z"
   },
   {
    "duration": 82,
    "start_time": "2022-05-03T17:00:40.016Z"
   },
   {
    "duration": 28,
    "start_time": "2022-05-03T17:00:40.101Z"
   },
   {
    "duration": 24,
    "start_time": "2022-05-03T17:00:40.131Z"
   },
   {
    "duration": 18,
    "start_time": "2022-05-03T17:00:40.157Z"
   },
   {
    "duration": 15,
    "start_time": "2022-05-03T17:00:40.176Z"
   },
   {
    "duration": 15,
    "start_time": "2022-05-03T17:00:40.193Z"
   },
   {
    "duration": 9,
    "start_time": "2022-05-03T17:00:40.212Z"
   },
   {
    "duration": 40,
    "start_time": "2022-05-03T17:00:40.224Z"
   },
   {
    "duration": 13,
    "start_time": "2022-05-03T17:00:40.266Z"
   },
   {
    "duration": 6,
    "start_time": "2022-05-03T17:00:40.281Z"
   },
   {
    "duration": 173,
    "start_time": "2022-05-03T17:00:40.290Z"
   },
   {
    "duration": 234,
    "start_time": "2022-05-03T17:00:40.465Z"
   },
   {
    "duration": 162,
    "start_time": "2022-05-03T17:00:40.701Z"
   },
   {
    "duration": 11,
    "start_time": "2022-05-03T17:00:40.864Z"
   },
   {
    "duration": 159,
    "start_time": "2022-05-03T17:00:40.877Z"
   },
   {
    "duration": 372,
    "start_time": "2022-05-03T17:00:41.038Z"
   },
   {
    "duration": 248,
    "start_time": "2022-05-03T17:00:41.412Z"
   },
   {
    "duration": 20,
    "start_time": "2022-05-03T17:00:41.662Z"
   },
   {
    "duration": 10,
    "start_time": "2022-05-03T17:00:41.684Z"
   },
   {
    "duration": 26,
    "start_time": "2022-05-03T17:00:41.695Z"
   },
   {
    "duration": 10,
    "start_time": "2022-05-03T17:00:41.723Z"
   },
   {
    "duration": 3,
    "start_time": "2022-05-03T17:07:05.183Z"
   },
   {
    "duration": 374,
    "start_time": "2022-05-03T17:07:05.188Z"
   },
   {
    "duration": 32,
    "start_time": "2022-05-03T17:07:05.565Z"
   },
   {
    "duration": 24,
    "start_time": "2022-05-03T17:07:05.599Z"
   },
   {
    "duration": 44,
    "start_time": "2022-05-03T17:07:05.625Z"
   },
   {
    "duration": 25,
    "start_time": "2022-05-03T17:07:05.670Z"
   },
   {
    "duration": 24,
    "start_time": "2022-05-03T17:07:05.697Z"
   },
   {
    "duration": 50,
    "start_time": "2022-05-03T17:07:05.723Z"
   },
   {
    "duration": 7,
    "start_time": "2022-05-03T17:07:05.775Z"
   },
   {
    "duration": 4,
    "start_time": "2022-05-03T17:07:05.784Z"
   },
   {
    "duration": 97,
    "start_time": "2022-05-03T17:07:05.791Z"
   },
   {
    "duration": 47,
    "start_time": "2022-05-03T17:07:05.890Z"
   },
   {
    "duration": 62,
    "start_time": "2022-05-03T17:07:05.939Z"
   },
   {
    "duration": 6,
    "start_time": "2022-05-03T17:07:06.002Z"
   },
   {
    "duration": 13,
    "start_time": "2022-05-03T17:07:06.009Z"
   },
   {
    "duration": 7,
    "start_time": "2022-05-03T17:07:06.024Z"
   },
   {
    "duration": 41,
    "start_time": "2022-05-03T17:07:06.033Z"
   },
   {
    "duration": 4,
    "start_time": "2022-05-03T17:07:06.076Z"
   },
   {
    "duration": 27,
    "start_time": "2022-05-03T17:07:06.081Z"
   },
   {
    "duration": 31,
    "start_time": "2022-05-03T17:07:06.110Z"
   },
   {
    "duration": 13,
    "start_time": "2022-05-03T17:07:06.155Z"
   },
   {
    "duration": 25,
    "start_time": "2022-05-03T17:07:06.170Z"
   },
   {
    "duration": 57,
    "start_time": "2022-05-03T17:07:06.197Z"
   },
   {
    "duration": 21,
    "start_time": "2022-05-03T17:07:06.256Z"
   },
   {
    "duration": 7,
    "start_time": "2022-05-03T17:07:06.278Z"
   },
   {
    "duration": 17,
    "start_time": "2022-05-03T17:07:06.287Z"
   },
   {
    "duration": 14,
    "start_time": "2022-05-03T17:07:06.306Z"
   },
   {
    "duration": 28,
    "start_time": "2022-05-03T17:07:06.322Z"
   },
   {
    "duration": 7,
    "start_time": "2022-05-03T17:07:06.354Z"
   },
   {
    "duration": 14,
    "start_time": "2022-05-03T17:07:06.362Z"
   },
   {
    "duration": 28,
    "start_time": "2022-05-03T17:07:06.378Z"
   },
   {
    "duration": 25,
    "start_time": "2022-05-03T17:07:06.407Z"
   },
   {
    "duration": 143,
    "start_time": "2022-05-03T17:07:06.434Z"
   },
   {
    "duration": 175,
    "start_time": "2022-05-03T17:07:06.579Z"
   },
   {
    "duration": 212,
    "start_time": "2022-05-03T17:07:06.756Z"
   },
   {
    "duration": 14,
    "start_time": "2022-05-03T17:07:06.970Z"
   },
   {
    "duration": 223,
    "start_time": "2022-05-03T17:07:06.986Z"
   },
   {
    "duration": 221,
    "start_time": "2022-05-03T17:07:07.211Z"
   },
   {
    "duration": 220,
    "start_time": "2022-05-03T17:07:07.434Z"
   },
   {
    "duration": 19,
    "start_time": "2022-05-03T17:07:07.656Z"
   },
   {
    "duration": 10,
    "start_time": "2022-05-03T17:07:07.677Z"
   },
   {
    "duration": 25,
    "start_time": "2022-05-03T17:07:07.689Z"
   },
   {
    "duration": 6,
    "start_time": "2022-05-03T17:07:07.716Z"
   },
   {
    "duration": 843,
    "start_time": "2022-05-06T12:58:43.360Z"
   },
   {
    "duration": 384,
    "start_time": "2022-05-06T12:58:44.205Z"
   },
   {
    "duration": 39,
    "start_time": "2022-05-06T12:58:44.590Z"
   },
   {
    "duration": 28,
    "start_time": "2022-05-06T12:58:44.631Z"
   },
   {
    "duration": 28,
    "start_time": "2022-05-06T12:58:44.660Z"
   },
   {
    "duration": 28,
    "start_time": "2022-05-06T12:58:44.689Z"
   },
   {
    "duration": 45,
    "start_time": "2022-05-06T12:58:44.718Z"
   },
   {
    "duration": 20,
    "start_time": "2022-05-06T12:58:44.766Z"
   },
   {
    "duration": 22,
    "start_time": "2022-05-06T12:58:44.787Z"
   },
   {
    "duration": 11,
    "start_time": "2022-05-06T12:58:44.812Z"
   },
   {
    "duration": 102,
    "start_time": "2022-05-06T12:58:44.825Z"
   },
   {
    "duration": 61,
    "start_time": "2022-05-06T12:58:44.929Z"
   },
   {
    "duration": 65,
    "start_time": "2022-05-06T12:58:44.992Z"
   },
   {
    "duration": 5,
    "start_time": "2022-05-06T12:58:45.059Z"
   },
   {
    "duration": 17,
    "start_time": "2022-05-06T12:58:45.066Z"
   },
   {
    "duration": 10,
    "start_time": "2022-05-06T12:58:45.085Z"
   },
   {
    "duration": 48,
    "start_time": "2022-05-06T12:58:45.097Z"
   },
   {
    "duration": 5,
    "start_time": "2022-05-06T12:58:45.147Z"
   },
   {
    "duration": 26,
    "start_time": "2022-05-06T12:58:45.154Z"
   },
   {
    "duration": 34,
    "start_time": "2022-05-06T12:58:45.183Z"
   },
   {
    "duration": 11,
    "start_time": "2022-05-06T12:58:45.218Z"
   },
   {
    "duration": 50,
    "start_time": "2022-05-06T12:58:45.231Z"
   },
   {
    "duration": 38,
    "start_time": "2022-05-06T12:58:45.283Z"
   },
   {
    "duration": 46,
    "start_time": "2022-05-06T12:58:45.322Z"
   },
   {
    "duration": 11,
    "start_time": "2022-05-06T12:58:45.370Z"
   },
   {
    "duration": 8,
    "start_time": "2022-05-06T12:58:45.382Z"
   },
   {
    "duration": 8,
    "start_time": "2022-05-06T12:58:45.392Z"
   },
   {
    "duration": 11,
    "start_time": "2022-05-06T12:58:45.403Z"
   },
   {
    "duration": 6,
    "start_time": "2022-05-06T12:58:45.416Z"
   },
   {
    "duration": 36,
    "start_time": "2022-05-06T12:58:45.424Z"
   },
   {
    "duration": 10,
    "start_time": "2022-05-06T12:58:45.462Z"
   },
   {
    "duration": 4,
    "start_time": "2022-05-06T12:58:45.473Z"
   },
   {
    "duration": 591,
    "start_time": "2022-05-06T12:58:45.479Z"
   },
   {
    "duration": 146,
    "start_time": "2022-05-06T12:58:46.072Z"
   },
   {
    "duration": 156,
    "start_time": "2022-05-06T12:58:46.221Z"
   },
   {
    "duration": 10,
    "start_time": "2022-05-06T12:58:46.379Z"
   },
   {
    "duration": 171,
    "start_time": "2022-05-06T12:58:46.390Z"
   },
   {
    "duration": 162,
    "start_time": "2022-05-06T12:58:46.563Z"
   },
   {
    "duration": 168,
    "start_time": "2022-05-06T12:58:46.728Z"
   },
   {
    "duration": 15,
    "start_time": "2022-05-06T12:58:46.898Z"
   },
   {
    "duration": 9,
    "start_time": "2022-05-06T12:58:46.915Z"
   },
   {
    "duration": 49,
    "start_time": "2022-05-06T12:58:46.926Z"
   },
   {
    "duration": 8,
    "start_time": "2022-05-06T12:58:46.978Z"
   },
   {
    "duration": 14,
    "start_time": "2022-05-06T13:02:16.809Z"
   },
   {
    "duration": 32,
    "start_time": "2022-05-06T13:06:28.247Z"
   },
   {
    "duration": 36,
    "start_time": "2022-05-06T13:41:05.097Z"
   },
   {
    "duration": 2,
    "start_time": "2022-05-06T13:42:52.984Z"
   },
   {
    "duration": 456,
    "start_time": "2022-05-06T13:42:52.989Z"
   },
   {
    "duration": 44,
    "start_time": "2022-05-06T13:42:53.447Z"
   },
   {
    "duration": 28,
    "start_time": "2022-05-06T13:42:53.493Z"
   },
   {
    "duration": 60,
    "start_time": "2022-05-06T13:42:53.524Z"
   },
   {
    "duration": 27,
    "start_time": "2022-05-06T13:42:53.586Z"
   },
   {
    "duration": 45,
    "start_time": "2022-05-06T13:42:53.615Z"
   },
   {
    "duration": 27,
    "start_time": "2022-05-06T13:42:53.662Z"
   },
   {
    "duration": 8,
    "start_time": "2022-05-06T13:42:53.691Z"
   },
   {
    "duration": 6,
    "start_time": "2022-05-06T13:42:53.700Z"
   },
   {
    "duration": 119,
    "start_time": "2022-05-06T13:42:53.708Z"
   },
   {
    "duration": 64,
    "start_time": "2022-05-06T13:42:53.829Z"
   },
   {
    "duration": 78,
    "start_time": "2022-05-06T13:42:53.895Z"
   },
   {
    "duration": 7,
    "start_time": "2022-05-06T13:42:53.976Z"
   },
   {
    "duration": 10,
    "start_time": "2022-05-06T13:42:53.985Z"
   },
   {
    "duration": 6,
    "start_time": "2022-05-06T13:42:53.997Z"
   },
   {
    "duration": 58,
    "start_time": "2022-05-06T13:42:54.005Z"
   },
   {
    "duration": 10,
    "start_time": "2022-05-06T13:42:54.067Z"
   },
   {
    "duration": 27,
    "start_time": "2022-05-06T13:42:54.079Z"
   },
   {
    "duration": 49,
    "start_time": "2022-05-06T13:42:54.108Z"
   },
   {
    "duration": 18,
    "start_time": "2022-05-06T13:42:54.160Z"
   },
   {
    "duration": 27,
    "start_time": "2022-05-06T13:42:54.181Z"
   },
   {
    "duration": 67,
    "start_time": "2022-05-06T13:42:54.210Z"
   },
   {
    "duration": 14,
    "start_time": "2022-05-06T13:43:13.007Z"
   },
   {
    "duration": 22,
    "start_time": "2022-05-06T13:43:27.704Z"
   },
   {
    "duration": 23,
    "start_time": "2022-05-06T13:43:30.060Z"
   },
   {
    "duration": 10,
    "start_time": "2022-05-06T13:44:55.564Z"
   },
   {
    "duration": 6,
    "start_time": "2022-05-06T13:45:05.400Z"
   },
   {
    "duration": 5,
    "start_time": "2022-05-06T13:45:08.400Z"
   },
   {
    "duration": 826,
    "start_time": "2022-05-09T18:56:48.922Z"
   },
   {
    "duration": 397,
    "start_time": "2022-05-09T18:56:49.749Z"
   },
   {
    "duration": 41,
    "start_time": "2022-05-09T18:56:50.148Z"
   },
   {
    "duration": 32,
    "start_time": "2022-05-09T18:56:50.192Z"
   },
   {
    "duration": 31,
    "start_time": "2022-05-09T18:56:50.226Z"
   },
   {
    "duration": 32,
    "start_time": "2022-05-09T18:56:50.258Z"
   },
   {
    "duration": 28,
    "start_time": "2022-05-09T18:56:50.308Z"
   },
   {
    "duration": 23,
    "start_time": "2022-05-09T18:56:50.338Z"
   },
   {
    "duration": 9,
    "start_time": "2022-05-09T18:56:50.363Z"
   },
   {
    "duration": 4,
    "start_time": "2022-05-09T18:56:50.410Z"
   },
   {
    "duration": 105,
    "start_time": "2022-05-09T18:56:50.416Z"
   },
   {
    "duration": 54,
    "start_time": "2022-05-09T18:56:50.523Z"
   },
   {
    "duration": 71,
    "start_time": "2022-05-09T18:56:50.579Z"
   },
   {
    "duration": 5,
    "start_time": "2022-05-09T18:56:50.652Z"
   },
   {
    "duration": 30,
    "start_time": "2022-05-09T18:56:50.658Z"
   },
   {
    "duration": 17,
    "start_time": "2022-05-09T18:56:50.690Z"
   },
   {
    "duration": 47,
    "start_time": "2022-05-09T18:56:50.708Z"
   },
   {
    "duration": 4,
    "start_time": "2022-05-09T18:56:50.756Z"
   },
   {
    "duration": 39,
    "start_time": "2022-05-09T18:56:50.762Z"
   },
   {
    "duration": 33,
    "start_time": "2022-05-09T18:56:50.803Z"
   },
   {
    "duration": 24,
    "start_time": "2022-05-09T18:56:50.837Z"
   },
   {
    "duration": 28,
    "start_time": "2022-05-09T18:56:50.862Z"
   },
   {
    "duration": 45,
    "start_time": "2022-05-09T18:56:50.891Z"
   },
   {
    "duration": 21,
    "start_time": "2022-05-09T18:56:50.938Z"
   },
   {
    "duration": 6,
    "start_time": "2022-05-09T18:56:50.960Z"
   },
   {
    "duration": 19,
    "start_time": "2022-05-09T18:56:50.968Z"
   },
   {
    "duration": 21,
    "start_time": "2022-05-09T18:56:50.989Z"
   },
   {
    "duration": 14,
    "start_time": "2022-05-09T18:56:51.014Z"
   },
   {
    "duration": 8,
    "start_time": "2022-05-09T18:56:51.029Z"
   },
   {
    "duration": 41,
    "start_time": "2022-05-09T18:56:51.038Z"
   },
   {
    "duration": 33,
    "start_time": "2022-05-09T18:56:51.081Z"
   },
   {
    "duration": 10,
    "start_time": "2022-05-09T18:56:51.116Z"
   },
   {
    "duration": 4,
    "start_time": "2022-05-09T18:56:51.127Z"
   },
   {
    "duration": 595,
    "start_time": "2022-05-09T18:56:51.133Z"
   },
   {
    "duration": 170,
    "start_time": "2022-05-09T18:56:51.730Z"
   },
   {
    "duration": 169,
    "start_time": "2022-05-09T18:56:51.907Z"
   },
   {
    "duration": 10,
    "start_time": "2022-05-09T18:56:52.078Z"
   },
   {
    "duration": 174,
    "start_time": "2022-05-09T18:56:52.090Z"
   },
   {
    "duration": 174,
    "start_time": "2022-05-09T18:56:52.266Z"
   },
   {
    "duration": 168,
    "start_time": "2022-05-09T18:56:52.442Z"
   },
   {
    "duration": 15,
    "start_time": "2022-05-09T18:56:52.611Z"
   },
   {
    "duration": 6,
    "start_time": "2022-05-09T18:56:52.628Z"
   },
   {
    "duration": 19,
    "start_time": "2022-05-09T18:56:52.636Z"
   },
   {
    "duration": 6,
    "start_time": "2022-05-09T18:56:52.656Z"
   },
   {
    "duration": 16,
    "start_time": "2022-05-09T18:57:20.566Z"
   },
   {
    "duration": 59,
    "start_time": "2022-05-09T18:57:49.430Z"
   },
   {
    "duration": 71,
    "start_time": "2022-05-09T18:57:52.318Z"
   },
   {
    "duration": 117,
    "start_time": "2022-05-09T18:58:10.290Z"
   },
   {
    "duration": 43,
    "start_time": "2022-05-09T18:59:26.967Z"
   },
   {
    "duration": 10,
    "start_time": "2022-05-09T19:00:30.811Z"
   },
   {
    "duration": 9,
    "start_time": "2022-05-09T19:00:39.614Z"
   },
   {
    "duration": 12,
    "start_time": "2022-05-09T19:00:48.006Z"
   },
   {
    "duration": 9,
    "start_time": "2022-05-09T19:02:11.250Z"
   },
   {
    "duration": 21,
    "start_time": "2022-05-09T19:03:09.758Z"
   },
   {
    "duration": 25,
    "start_time": "2022-05-09T19:05:28.483Z"
   },
   {
    "duration": 3,
    "start_time": "2022-05-09T19:05:36.562Z"
   },
   {
    "duration": 416,
    "start_time": "2022-05-09T19:05:36.567Z"
   },
   {
    "duration": 31,
    "start_time": "2022-05-09T19:05:36.985Z"
   },
   {
    "duration": 26,
    "start_time": "2022-05-09T19:05:37.017Z"
   },
   {
    "duration": 28,
    "start_time": "2022-05-09T19:05:37.046Z"
   },
   {
    "duration": 52,
    "start_time": "2022-05-09T19:05:37.076Z"
   },
   {
    "duration": 22,
    "start_time": "2022-05-09T19:05:37.130Z"
   },
   {
    "duration": 19,
    "start_time": "2022-05-09T19:05:37.154Z"
   },
   {
    "duration": 13,
    "start_time": "2022-05-09T19:05:37.174Z"
   },
   {
    "duration": 4,
    "start_time": "2022-05-09T19:05:37.208Z"
   },
   {
    "duration": 93,
    "start_time": "2022-05-09T19:05:37.214Z"
   },
   {
    "duration": 54,
    "start_time": "2022-05-09T19:05:37.309Z"
   },
   {
    "duration": 110,
    "start_time": "2022-05-09T19:05:37.364Z"
   },
   {
    "duration": 6,
    "start_time": "2022-05-09T19:05:37.475Z"
   },
   {
    "duration": 8,
    "start_time": "2022-05-09T19:05:37.483Z"
   },
   {
    "duration": 14,
    "start_time": "2022-05-09T19:05:37.493Z"
   },
   {
    "duration": 38,
    "start_time": "2022-05-09T19:05:37.509Z"
   },
   {
    "duration": 4,
    "start_time": "2022-05-09T19:05:37.548Z"
   },
   {
    "duration": 23,
    "start_time": "2022-05-09T19:05:37.553Z"
   },
   {
    "duration": 53,
    "start_time": "2022-05-09T19:05:37.577Z"
   },
   {
    "duration": 9,
    "start_time": "2022-05-09T19:05:37.631Z"
   },
   {
    "duration": 23,
    "start_time": "2022-05-09T19:05:37.641Z"
   },
   {
    "duration": 54,
    "start_time": "2022-05-09T19:05:37.665Z"
   },
   {
    "duration": 2,
    "start_time": "2022-05-09T19:05:37.721Z"
   },
   {
    "duration": 4,
    "start_time": "2022-05-09T19:05:37.724Z"
   },
   {
    "duration": 3,
    "start_time": "2022-05-09T19:05:37.730Z"
   },
   {
    "duration": 4,
    "start_time": "2022-05-09T19:05:37.735Z"
   },
   {
    "duration": 8,
    "start_time": "2022-05-09T19:05:37.740Z"
   },
   {
    "duration": 9,
    "start_time": "2022-05-09T19:05:37.751Z"
   },
   {
    "duration": 11,
    "start_time": "2022-05-09T19:05:37.761Z"
   },
   {
    "duration": 10,
    "start_time": "2022-05-09T19:05:37.774Z"
   },
   {
    "duration": 28,
    "start_time": "2022-05-09T19:05:37.786Z"
   },
   {
    "duration": 21,
    "start_time": "2022-05-09T19:05:37.816Z"
   },
   {
    "duration": 9,
    "start_time": "2022-05-09T19:05:37.839Z"
   },
   {
    "duration": 121,
    "start_time": "2022-05-09T19:05:37.850Z"
   },
   {
    "duration": 0,
    "start_time": "2022-05-09T19:05:37.972Z"
   },
   {
    "duration": 0,
    "start_time": "2022-05-09T19:05:37.973Z"
   },
   {
    "duration": 0,
    "start_time": "2022-05-09T19:05:37.974Z"
   },
   {
    "duration": 0,
    "start_time": "2022-05-09T19:05:37.975Z"
   },
   {
    "duration": 0,
    "start_time": "2022-05-09T19:05:37.976Z"
   },
   {
    "duration": 0,
    "start_time": "2022-05-09T19:05:37.977Z"
   },
   {
    "duration": 0,
    "start_time": "2022-05-09T19:05:37.978Z"
   },
   {
    "duration": 0,
    "start_time": "2022-05-09T19:05:37.979Z"
   },
   {
    "duration": 0,
    "start_time": "2022-05-09T19:05:37.980Z"
   },
   {
    "duration": 0,
    "start_time": "2022-05-09T19:05:37.981Z"
   },
   {
    "duration": 0,
    "start_time": "2022-05-09T19:05:37.981Z"
   },
   {
    "duration": 0,
    "start_time": "2022-05-09T19:05:37.982Z"
   },
   {
    "duration": 27,
    "start_time": "2022-05-09T19:06:24.126Z"
   },
   {
    "duration": 21,
    "start_time": "2022-05-09T19:07:17.131Z"
   },
   {
    "duration": 49,
    "start_time": "2022-05-09T19:07:22.295Z"
   },
   {
    "duration": 311,
    "start_time": "2022-05-09T19:07:40.918Z"
   },
   {
    "duration": 3,
    "start_time": "2022-05-09T19:07:58.666Z"
   },
   {
    "duration": 396,
    "start_time": "2022-05-09T19:07:58.671Z"
   },
   {
    "duration": 33,
    "start_time": "2022-05-09T19:07:59.069Z"
   },
   {
    "duration": 26,
    "start_time": "2022-05-09T19:07:59.104Z"
   },
   {
    "duration": 27,
    "start_time": "2022-05-09T19:07:59.132Z"
   },
   {
    "duration": 46,
    "start_time": "2022-05-09T19:07:59.161Z"
   },
   {
    "duration": 24,
    "start_time": "2022-05-09T19:07:59.209Z"
   },
   {
    "duration": 19,
    "start_time": "2022-05-09T19:07:59.235Z"
   },
   {
    "duration": 7,
    "start_time": "2022-05-09T19:07:59.255Z"
   },
   {
    "duration": 4,
    "start_time": "2022-05-09T19:07:59.264Z"
   },
   {
    "duration": 109,
    "start_time": "2022-05-09T19:07:59.271Z"
   },
   {
    "duration": 64,
    "start_time": "2022-05-09T19:07:59.382Z"
   },
   {
    "duration": 90,
    "start_time": "2022-05-09T19:07:59.448Z"
   },
   {
    "duration": 5,
    "start_time": "2022-05-09T19:07:59.540Z"
   },
   {
    "duration": 13,
    "start_time": "2022-05-09T19:07:59.547Z"
   },
   {
    "duration": 11,
    "start_time": "2022-05-09T19:07:59.562Z"
   },
   {
    "duration": 46,
    "start_time": "2022-05-09T19:07:59.575Z"
   },
   {
    "duration": 4,
    "start_time": "2022-05-09T19:07:59.623Z"
   },
   {
    "duration": 24,
    "start_time": "2022-05-09T19:07:59.629Z"
   },
   {
    "duration": 34,
    "start_time": "2022-05-09T19:07:59.655Z"
   },
   {
    "duration": 24,
    "start_time": "2022-05-09T19:07:59.691Z"
   },
   {
    "duration": 25,
    "start_time": "2022-05-09T19:07:59.716Z"
   },
   {
    "duration": 37,
    "start_time": "2022-05-09T19:07:59.743Z"
   },
   {
    "duration": 25,
    "start_time": "2022-05-09T19:07:59.782Z"
   },
   {
    "duration": 3,
    "start_time": "2022-05-09T19:07:59.809Z"
   },
   {
    "duration": 5,
    "start_time": "2022-05-09T19:07:59.813Z"
   },
   {
    "duration": 5,
    "start_time": "2022-05-09T19:07:59.819Z"
   },
   {
    "duration": 5,
    "start_time": "2022-05-09T19:07:59.825Z"
   },
   {
    "duration": 3,
    "start_time": "2022-05-09T19:07:59.833Z"
   },
   {
    "duration": 22,
    "start_time": "2022-05-09T19:07:59.838Z"
   },
   {
    "duration": 8,
    "start_time": "2022-05-09T19:07:59.861Z"
   },
   {
    "duration": 42,
    "start_time": "2022-05-09T19:07:59.870Z"
   },
   {
    "duration": 0,
    "start_time": "2022-05-09T19:07:59.914Z"
   },
   {
    "duration": 0,
    "start_time": "2022-05-09T19:07:59.915Z"
   },
   {
    "duration": 0,
    "start_time": "2022-05-09T19:07:59.916Z"
   },
   {
    "duration": 0,
    "start_time": "2022-05-09T19:07:59.917Z"
   },
   {
    "duration": 0,
    "start_time": "2022-05-09T19:07:59.919Z"
   },
   {
    "duration": 0,
    "start_time": "2022-05-09T19:07:59.919Z"
   },
   {
    "duration": 0,
    "start_time": "2022-05-09T19:07:59.921Z"
   },
   {
    "duration": 0,
    "start_time": "2022-05-09T19:07:59.922Z"
   },
   {
    "duration": 0,
    "start_time": "2022-05-09T19:07:59.923Z"
   },
   {
    "duration": 0,
    "start_time": "2022-05-09T19:07:59.924Z"
   },
   {
    "duration": 0,
    "start_time": "2022-05-09T19:07:59.925Z"
   },
   {
    "duration": 0,
    "start_time": "2022-05-09T19:07:59.926Z"
   },
   {
    "duration": 24,
    "start_time": "2022-05-09T19:08:08.958Z"
   },
   {
    "duration": 39,
    "start_time": "2022-05-09T19:08:24.210Z"
   },
   {
    "duration": 25,
    "start_time": "2022-05-09T19:09:21.059Z"
   },
   {
    "duration": 95,
    "start_time": "2022-05-09T19:09:27.318Z"
   },
   {
    "duration": 51,
    "start_time": "2022-05-09T19:10:06.458Z"
   },
   {
    "duration": 12,
    "start_time": "2022-05-09T19:10:20.590Z"
   },
   {
    "duration": 3,
    "start_time": "2022-05-09T19:15:22.986Z"
   },
   {
    "duration": 388,
    "start_time": "2022-05-09T19:15:22.992Z"
   },
   {
    "duration": 39,
    "start_time": "2022-05-09T19:15:23.382Z"
   },
   {
    "duration": 26,
    "start_time": "2022-05-09T19:15:23.423Z"
   },
   {
    "duration": 28,
    "start_time": "2022-05-09T19:15:23.451Z"
   },
   {
    "duration": 50,
    "start_time": "2022-05-09T19:15:23.480Z"
   },
   {
    "duration": 24,
    "start_time": "2022-05-09T19:15:23.531Z"
   },
   {
    "duration": 20,
    "start_time": "2022-05-09T19:15:23.556Z"
   },
   {
    "duration": 31,
    "start_time": "2022-05-09T19:15:23.577Z"
   },
   {
    "duration": 6,
    "start_time": "2022-05-09T19:15:23.610Z"
   },
   {
    "duration": 98,
    "start_time": "2022-05-09T19:15:23.618Z"
   },
   {
    "duration": 53,
    "start_time": "2022-05-09T19:15:23.717Z"
   },
   {
    "duration": 102,
    "start_time": "2022-05-09T19:15:23.772Z"
   },
   {
    "duration": 6,
    "start_time": "2022-05-09T19:15:23.875Z"
   },
   {
    "duration": 8,
    "start_time": "2022-05-09T19:15:23.882Z"
   },
   {
    "duration": 15,
    "start_time": "2022-05-09T19:15:23.892Z"
   },
   {
    "duration": 34,
    "start_time": "2022-05-09T19:15:23.909Z"
   },
   {
    "duration": 4,
    "start_time": "2022-05-09T19:15:23.944Z"
   },
   {
    "duration": 22,
    "start_time": "2022-05-09T19:15:23.950Z"
   },
   {
    "duration": 48,
    "start_time": "2022-05-09T19:15:23.974Z"
   },
   {
    "duration": 9,
    "start_time": "2022-05-09T19:15:24.024Z"
   },
   {
    "duration": 24,
    "start_time": "2022-05-09T19:15:24.035Z"
   },
   {
    "duration": 59,
    "start_time": "2022-05-09T19:15:24.061Z"
   },
   {
    "duration": 2,
    "start_time": "2022-05-09T19:15:24.121Z"
   },
   {
    "duration": 5,
    "start_time": "2022-05-09T19:15:24.125Z"
   },
   {
    "duration": 5,
    "start_time": "2022-05-09T19:15:24.131Z"
   },
   {
    "duration": 6,
    "start_time": "2022-05-09T19:15:24.137Z"
   },
   {
    "duration": 4,
    "start_time": "2022-05-09T19:15:24.145Z"
   },
   {
    "duration": 3,
    "start_time": "2022-05-09T19:15:24.153Z"
   },
   {
    "duration": 19,
    "start_time": "2022-05-09T19:15:24.158Z"
   },
   {
    "duration": 32,
    "start_time": "2022-05-09T19:15:24.179Z"
   },
   {
    "duration": 10,
    "start_time": "2022-05-09T19:15:24.213Z"
   },
   {
    "duration": 15,
    "start_time": "2022-05-09T19:15:24.224Z"
   },
   {
    "duration": 0,
    "start_time": "2022-05-09T19:15:24.241Z"
   },
   {
    "duration": 0,
    "start_time": "2022-05-09T19:15:24.242Z"
   },
   {
    "duration": 0,
    "start_time": "2022-05-09T19:15:24.242Z"
   },
   {
    "duration": 0,
    "start_time": "2022-05-09T19:15:24.243Z"
   },
   {
    "duration": 0,
    "start_time": "2022-05-09T19:15:24.244Z"
   },
   {
    "duration": 0,
    "start_time": "2022-05-09T19:15:24.245Z"
   },
   {
    "duration": 0,
    "start_time": "2022-05-09T19:15:24.246Z"
   },
   {
    "duration": 0,
    "start_time": "2022-05-09T19:15:24.248Z"
   },
   {
    "duration": 0,
    "start_time": "2022-05-09T19:15:24.248Z"
   },
   {
    "duration": 0,
    "start_time": "2022-05-09T19:15:24.250Z"
   },
   {
    "duration": 0,
    "start_time": "2022-05-09T19:15:24.250Z"
   },
   {
    "duration": 0,
    "start_time": "2022-05-09T19:15:24.252Z"
   },
   {
    "duration": 12,
    "start_time": "2022-05-09T19:15:35.543Z"
   },
   {
    "duration": 6,
    "start_time": "2022-05-09T19:16:15.254Z"
   },
   {
    "duration": 4,
    "start_time": "2022-05-09T19:16:25.703Z"
   },
   {
    "duration": 7,
    "start_time": "2022-05-09T19:16:49.554Z"
   },
   {
    "duration": 8,
    "start_time": "2022-05-09T19:17:05.498Z"
   },
   {
    "duration": 7,
    "start_time": "2022-05-09T19:17:11.819Z"
   },
   {
    "duration": 10,
    "start_time": "2022-05-09T19:17:29.194Z"
   },
   {
    "duration": 9,
    "start_time": "2022-05-09T19:18:34.219Z"
   },
   {
    "duration": 9,
    "start_time": "2022-05-09T19:18:36.023Z"
   },
   {
    "duration": 4,
    "start_time": "2022-05-09T19:18:38.863Z"
   },
   {
    "duration": 154,
    "start_time": "2022-05-09T19:18:42.559Z"
   },
   {
    "duration": 221,
    "start_time": "2022-05-09T19:18:57.574Z"
   },
   {
    "duration": 158,
    "start_time": "2022-05-09T19:19:13.703Z"
   },
   {
    "duration": 9,
    "start_time": "2022-05-09T19:19:34.963Z"
   },
   {
    "duration": 145,
    "start_time": "2022-05-09T19:19:37.979Z"
   },
   {
    "duration": 158,
    "start_time": "2022-05-09T19:20:24.474Z"
   },
   {
    "duration": 152,
    "start_time": "2022-05-09T19:20:29.215Z"
   },
   {
    "duration": 169,
    "start_time": "2022-05-09T19:20:56.590Z"
   },
   {
    "duration": 10,
    "start_time": "2022-05-09T19:21:10.779Z"
   },
   {
    "duration": 12,
    "start_time": "2022-05-09T19:21:29.634Z"
   },
   {
    "duration": 1524,
    "start_time": "2022-05-09T19:22:10.910Z"
   },
   {
    "duration": 6,
    "start_time": "2022-05-09T19:22:52.691Z"
   },
   {
    "duration": 13,
    "start_time": "2022-05-09T19:23:16.867Z"
   },
   {
    "duration": 3,
    "start_time": "2022-05-09T19:25:06.447Z"
   },
   {
    "duration": 394,
    "start_time": "2022-05-09T19:25:06.452Z"
   },
   {
    "duration": 33,
    "start_time": "2022-05-09T19:25:06.848Z"
   },
   {
    "duration": 27,
    "start_time": "2022-05-09T19:25:06.883Z"
   },
   {
    "duration": 30,
    "start_time": "2022-05-09T19:25:06.912Z"
   },
   {
    "duration": 27,
    "start_time": "2022-05-09T19:25:06.943Z"
   },
   {
    "duration": 41,
    "start_time": "2022-05-09T19:25:06.972Z"
   },
   {
    "duration": 20,
    "start_time": "2022-05-09T19:25:07.015Z"
   },
   {
    "duration": 11,
    "start_time": "2022-05-09T19:25:07.037Z"
   },
   {
    "duration": 4,
    "start_time": "2022-05-09T19:25:07.050Z"
   },
   {
    "duration": 105,
    "start_time": "2022-05-09T19:25:07.056Z"
   },
   {
    "duration": 58,
    "start_time": "2022-05-09T19:25:07.163Z"
   },
   {
    "duration": 97,
    "start_time": "2022-05-09T19:25:07.222Z"
   },
   {
    "duration": 6,
    "start_time": "2022-05-09T19:25:07.320Z"
   },
   {
    "duration": 10,
    "start_time": "2022-05-09T19:25:07.327Z"
   },
   {
    "duration": 5,
    "start_time": "2022-05-09T19:25:07.338Z"
   },
   {
    "duration": 35,
    "start_time": "2022-05-09T19:25:07.344Z"
   },
   {
    "duration": 27,
    "start_time": "2022-05-09T19:25:07.381Z"
   },
   {
    "duration": 22,
    "start_time": "2022-05-09T19:25:07.410Z"
   },
   {
    "duration": 32,
    "start_time": "2022-05-09T19:25:07.434Z"
   },
   {
    "duration": 9,
    "start_time": "2022-05-09T19:25:07.468Z"
   },
   {
    "duration": 47,
    "start_time": "2022-05-09T19:25:07.478Z"
   },
   {
    "duration": 37,
    "start_time": "2022-05-09T19:25:07.527Z"
   },
   {
    "duration": 45,
    "start_time": "2022-05-09T19:25:07.566Z"
   },
   {
    "duration": 12,
    "start_time": "2022-05-09T19:25:07.612Z"
   },
   {
    "duration": 0,
    "start_time": "2022-05-09T19:25:07.626Z"
   },
   {
    "duration": 0,
    "start_time": "2022-05-09T19:25:07.627Z"
   },
   {
    "duration": 0,
    "start_time": "2022-05-09T19:25:07.628Z"
   },
   {
    "duration": 0,
    "start_time": "2022-05-09T19:25:07.629Z"
   },
   {
    "duration": 0,
    "start_time": "2022-05-09T19:25:07.630Z"
   },
   {
    "duration": 0,
    "start_time": "2022-05-09T19:25:07.631Z"
   },
   {
    "duration": 0,
    "start_time": "2022-05-09T19:25:07.632Z"
   },
   {
    "duration": 0,
    "start_time": "2022-05-09T19:25:07.633Z"
   },
   {
    "duration": 0,
    "start_time": "2022-05-09T19:25:07.634Z"
   },
   {
    "duration": 0,
    "start_time": "2022-05-09T19:25:07.635Z"
   },
   {
    "duration": 0,
    "start_time": "2022-05-09T19:25:07.636Z"
   },
   {
    "duration": 0,
    "start_time": "2022-05-09T19:25:07.637Z"
   },
   {
    "duration": 0,
    "start_time": "2022-05-09T19:25:07.638Z"
   },
   {
    "duration": 0,
    "start_time": "2022-05-09T19:25:07.639Z"
   },
   {
    "duration": 0,
    "start_time": "2022-05-09T19:25:07.640Z"
   },
   {
    "duration": 7,
    "start_time": "2022-05-09T19:25:15.663Z"
   },
   {
    "duration": 8,
    "start_time": "2022-05-09T19:25:20.083Z"
   },
   {
    "duration": 14,
    "start_time": "2022-05-09T19:25:20.094Z"
   },
   {
    "duration": 8,
    "start_time": "2022-05-09T19:25:20.110Z"
   },
   {
    "duration": 9,
    "start_time": "2022-05-09T19:25:20.120Z"
   },
   {
    "duration": 4,
    "start_time": "2022-05-09T19:25:20.131Z"
   },
   {
    "duration": 184,
    "start_time": "2022-05-09T19:25:20.137Z"
   },
   {
    "duration": 168,
    "start_time": "2022-05-09T19:25:20.323Z"
   },
   {
    "duration": 171,
    "start_time": "2022-05-09T19:25:20.493Z"
   },
   {
    "duration": 10,
    "start_time": "2022-05-09T19:25:20.666Z"
   },
   {
    "duration": 173,
    "start_time": "2022-05-09T19:25:20.678Z"
   },
   {
    "duration": 173,
    "start_time": "2022-05-09T19:25:20.853Z"
   },
   {
    "duration": 261,
    "start_time": "2022-05-09T19:25:21.028Z"
   },
   {
    "duration": 23,
    "start_time": "2022-05-09T19:25:21.291Z"
   },
   {
    "duration": 6,
    "start_time": "2022-05-09T19:25:21.317Z"
   },
   {
    "duration": 14,
    "start_time": "2022-05-09T19:25:21.325Z"
   },
   {
    "duration": 0,
    "start_time": "2022-05-09T19:25:21.341Z"
   },
   {
    "duration": 6,
    "start_time": "2022-05-09T19:25:49.335Z"
   },
   {
    "duration": 141,
    "start_time": "2022-05-09T19:26:04.091Z"
   },
   {
    "duration": 131,
    "start_time": "2022-05-09T19:26:19.331Z"
   },
   {
    "duration": 14,
    "start_time": "2022-05-09T19:29:10.311Z"
   },
   {
    "duration": 19,
    "start_time": "2022-05-09T19:29:20.643Z"
   },
   {
    "duration": 7,
    "start_time": "2022-05-09T19:29:30.467Z"
   },
   {
    "duration": 3,
    "start_time": "2022-05-09T19:32:14.219Z"
   },
   {
    "duration": 374,
    "start_time": "2022-05-09T19:32:14.225Z"
   },
   {
    "duration": 34,
    "start_time": "2022-05-09T19:32:14.602Z"
   },
   {
    "duration": 27,
    "start_time": "2022-05-09T19:32:14.638Z"
   },
   {
    "duration": 43,
    "start_time": "2022-05-09T19:32:14.667Z"
   },
   {
    "duration": 30,
    "start_time": "2022-05-09T19:32:14.712Z"
   },
   {
    "duration": 27,
    "start_time": "2022-05-09T19:32:14.744Z"
   },
   {
    "duration": 54,
    "start_time": "2022-05-09T19:32:14.773Z"
   },
   {
    "duration": 10,
    "start_time": "2022-05-09T19:32:14.828Z"
   },
   {
    "duration": 5,
    "start_time": "2022-05-09T19:32:14.840Z"
   },
   {
    "duration": 111,
    "start_time": "2022-05-09T19:32:14.848Z"
   },
   {
    "duration": 62,
    "start_time": "2022-05-09T19:32:14.962Z"
   },
   {
    "duration": 100,
    "start_time": "2022-05-09T19:32:15.026Z"
   },
   {
    "duration": 7,
    "start_time": "2022-05-09T19:32:15.127Z"
   },
   {
    "duration": 8,
    "start_time": "2022-05-09T19:32:15.136Z"
   },
   {
    "duration": 6,
    "start_time": "2022-05-09T19:32:15.146Z"
   },
   {
    "duration": 58,
    "start_time": "2022-05-09T19:32:15.153Z"
   },
   {
    "duration": 5,
    "start_time": "2022-05-09T19:32:15.213Z"
   },
   {
    "duration": 24,
    "start_time": "2022-05-09T19:32:15.220Z"
   },
   {
    "duration": 34,
    "start_time": "2022-05-09T19:32:15.245Z"
   },
   {
    "duration": 30,
    "start_time": "2022-05-09T19:32:15.281Z"
   },
   {
    "duration": 25,
    "start_time": "2022-05-09T19:32:15.313Z"
   },
   {
    "duration": 39,
    "start_time": "2022-05-09T19:32:15.339Z"
   },
   {
    "duration": 49,
    "start_time": "2022-05-09T19:32:15.380Z"
   },
   {
    "duration": 9,
    "start_time": "2022-05-09T19:32:15.431Z"
   },
   {
    "duration": 11,
    "start_time": "2022-05-09T19:32:15.442Z"
   },
   {
    "duration": 10,
    "start_time": "2022-05-09T19:32:15.455Z"
   },
   {
    "duration": 5,
    "start_time": "2022-05-09T19:32:15.466Z"
   },
   {
    "duration": 166,
    "start_time": "2022-05-09T19:32:15.507Z"
   },
   {
    "duration": 179,
    "start_time": "2022-05-09T19:32:15.675Z"
   },
   {
    "duration": 166,
    "start_time": "2022-05-09T19:32:15.856Z"
   },
   {
    "duration": 9,
    "start_time": "2022-05-09T19:32:16.024Z"
   },
   {
    "duration": 177,
    "start_time": "2022-05-09T19:32:16.035Z"
   },
   {
    "duration": 176,
    "start_time": "2022-05-09T19:32:16.213Z"
   },
   {
    "duration": 175,
    "start_time": "2022-05-09T19:32:16.391Z"
   },
   {
    "duration": 15,
    "start_time": "2022-05-09T19:32:16.608Z"
   },
   {
    "duration": 8,
    "start_time": "2022-05-09T19:32:16.625Z"
   },
   {
    "duration": 73,
    "start_time": "2022-05-09T19:32:16.635Z"
   },
   {
    "duration": 6,
    "start_time": "2022-05-09T19:32:16.710Z"
   }
  ],
  "kernelspec": {
   "display_name": "Python 3 (ipykernel)",
   "language": "python",
   "name": "python3"
  },
  "language_info": {
   "codemirror_mode": {
    "name": "ipython",
    "version": 3
   },
   "file_extension": ".py",
   "mimetype": "text/x-python",
   "name": "python",
   "nbconvert_exporter": "python",
   "pygments_lexer": "ipython3",
   "version": "3.9.7"
  },
  "toc": {
   "base_numbering": 1,
   "nav_menu": {
    "height": "348px",
    "width": "466px"
   },
   "number_sections": true,
   "sideBar": true,
   "skip_h1_title": true,
   "title_cell": "Table of Contents",
   "title_sidebar": "Contents",
   "toc_cell": false,
   "toc_position": {
    "height": "calc(100% - 180px)",
    "left": "10px",
    "top": "150px",
    "width": "221.997px"
   },
   "toc_section_display": true,
   "toc_window_display": true
  }
 },
 "nbformat": 4,
 "nbformat_minor": 2
}
